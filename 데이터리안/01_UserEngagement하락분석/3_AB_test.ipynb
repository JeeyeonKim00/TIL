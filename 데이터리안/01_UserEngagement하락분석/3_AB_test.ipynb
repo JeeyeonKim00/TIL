{
 "cells": [
  {
   "cell_type": "markdown",
   "metadata": {},
   "source": [
    "# A/B 테스팅\n",
    "- 웹사이트의 방문자를 임의로 두 집단으로 나누고, 한 집단에게는 기존 사이트를 보여주고 다른 집단에게는 새로운 사이트를 보여준 다음, 두 집단 중 어떤 집단이 더 높은 *성과를 보이는지를 측정하여 새 사이트가 기존 사이트에 비해 좋은지를 정량적으로 평가하는 방식을 말함.\n",
    "- *성과: 회원 가입율, 재방문율, 구매 전환율 등 "
   ]
  },
  {
   "cell_type": "markdown",
   "metadata": {},
   "source": [
    "# 상황설명\n",
    "- Yammer의 publisher 기능개선을 위해 A/B test 진행 (6.1~6.30)\n",
    "    - A그룹: be shown the old version of the publisher (control group - 대조군)\n",
    "    - B그룹: be shown the new version of the publisher (treatment group - 실험군)\n",
    "\n",
    "- 실험결과: treatment group의 message posting이 대조군에 비해 50% 높았다.\n"
   ]
  },
  {
   "cell_type": "markdown",
   "metadata": {},
   "source": [
    "# 분석 준비\n",
    "- 사용할 데이터: `Users`, `Events`, `Experiments`"
   ]
  },
  {
   "cell_type": "code",
   "execution_count": 1,
   "metadata": {},
   "outputs": [],
   "source": [
    "# 테이블 로드\n",
    "from load_table import *\n",
    "\n",
    "load_csv('./yammers_data/yammer_experiments.csv', 'experiments')"
   ]
  },
  {
   "cell_type": "code",
   "execution_count": 2,
   "metadata": {},
   "outputs": [
    {
     "name": "stdout",
     "output_type": "stream",
     "text": [
      "Connected to MySQL server : localhost\n"
     ]
    }
   ],
   "source": [
    "# mysql 연결\n",
    "from mysql_connector import *\n",
    "connection = create_mysql_connection('localhost','CLOUDY','1234','yammers')"
   ]
  },
  {
   "cell_type": "code",
   "execution_count": 73,
   "metadata": {},
   "outputs": [
    {
     "data": {
      "text/html": [
       "<div>\n",
       "<style scoped>\n",
       "    .dataframe tbody tr th:only-of-type {\n",
       "        vertical-align: middle;\n",
       "    }\n",
       "\n",
       "    .dataframe tbody tr th {\n",
       "        vertical-align: top;\n",
       "    }\n",
       "\n",
       "    .dataframe thead th {\n",
       "        text-align: right;\n",
       "    }\n",
       "</style>\n",
       "<table border=\"1\" class=\"dataframe\">\n",
       "  <thead>\n",
       "    <tr style=\"text-align: right;\">\n",
       "      <th></th>\n",
       "      <th>user_id</th>\n",
       "      <th>occurred_at</th>\n",
       "      <th>experiment</th>\n",
       "      <th>experiment_group</th>\n",
       "      <th>location</th>\n",
       "      <th>device</th>\n",
       "      <th>user_type</th>\n",
       "    </tr>\n",
       "  </thead>\n",
       "  <tbody>\n",
       "    <tr>\n",
       "      <th>0</th>\n",
       "      <td>4.0</td>\n",
       "      <td>2014-06-05 15:20:16</td>\n",
       "      <td>publisher_update</td>\n",
       "      <td>control_group</td>\n",
       "      <td>India</td>\n",
       "      <td>lenovo thinkpad</td>\n",
       "      <td>3.0</td>\n",
       "    </tr>\n",
       "    <tr>\n",
       "      <th>1</th>\n",
       "      <td>8198.0</td>\n",
       "      <td>2014-06-11 09:31:32</td>\n",
       "      <td>publisher_update</td>\n",
       "      <td>control_group</td>\n",
       "      <td>Japan</td>\n",
       "      <td>nokia lumia 635</td>\n",
       "      <td>1.0</td>\n",
       "    </tr>\n",
       "    <tr>\n",
       "      <th>2</th>\n",
       "      <td>11.0</td>\n",
       "      <td>2014-06-17 09:31:22</td>\n",
       "      <td>publisher_update</td>\n",
       "      <td>control_group</td>\n",
       "      <td>United States</td>\n",
       "      <td>iphone 4s</td>\n",
       "      <td>1.0</td>\n",
       "    </tr>\n",
       "    <tr>\n",
       "      <th>3</th>\n",
       "      <td>8209.0</td>\n",
       "      <td>2014-06-04 09:31:21</td>\n",
       "      <td>publisher_update</td>\n",
       "      <td>test_group</td>\n",
       "      <td>Turkey</td>\n",
       "      <td>nokia lumia 635</td>\n",
       "      <td>1.0</td>\n",
       "    </tr>\n",
       "    <tr>\n",
       "      <th>4</th>\n",
       "      <td>19.0</td>\n",
       "      <td>2014-06-04 09:31:33</td>\n",
       "      <td>publisher_update</td>\n",
       "      <td>test_group</td>\n",
       "      <td>Nigeria</td>\n",
       "      <td>iphone 5</td>\n",
       "      <td>1.0</td>\n",
       "    </tr>\n",
       "    <tr>\n",
       "      <th>...</th>\n",
       "      <td>...</td>\n",
       "      <td>...</td>\n",
       "      <td>...</td>\n",
       "      <td>...</td>\n",
       "      <td>...</td>\n",
       "      <td>...</td>\n",
       "      <td>...</td>\n",
       "    </tr>\n",
       "    <tr>\n",
       "      <th>2590</th>\n",
       "      <td>14327.0</td>\n",
       "      <td>2014-06-17 09:51:41</td>\n",
       "      <td>publisher_update</td>\n",
       "      <td>control_group</td>\n",
       "      <td>Korea</td>\n",
       "      <td>lenovo thinkpad</td>\n",
       "      <td>2.0</td>\n",
       "    </tr>\n",
       "    <tr>\n",
       "      <th>2591</th>\n",
       "      <td>14329.0</td>\n",
       "      <td>2014-06-17 07:28:56</td>\n",
       "      <td>publisher_update</td>\n",
       "      <td>control_group</td>\n",
       "      <td>United Kingdom</td>\n",
       "      <td>macbook air</td>\n",
       "      <td>1.0</td>\n",
       "    </tr>\n",
       "    <tr>\n",
       "      <th>2592</th>\n",
       "      <td>14330.0</td>\n",
       "      <td>2014-06-17 13:46:23</td>\n",
       "      <td>publisher_update</td>\n",
       "      <td>control_group</td>\n",
       "      <td>France</td>\n",
       "      <td>macbook pro</td>\n",
       "      <td>2.0</td>\n",
       "    </tr>\n",
       "    <tr>\n",
       "      <th>2593</th>\n",
       "      <td>14334.0</td>\n",
       "      <td>2014-06-17 23:51:01</td>\n",
       "      <td>publisher_update</td>\n",
       "      <td>control_group</td>\n",
       "      <td>Denmark</td>\n",
       "      <td>windows surface</td>\n",
       "      <td>3.0</td>\n",
       "    </tr>\n",
       "    <tr>\n",
       "      <th>2594</th>\n",
       "      <td>14335.0</td>\n",
       "      <td>2014-06-17 13:36:04</td>\n",
       "      <td>publisher_update</td>\n",
       "      <td>control_group</td>\n",
       "      <td>Russia</td>\n",
       "      <td>macbook pro</td>\n",
       "      <td>1.0</td>\n",
       "    </tr>\n",
       "  </tbody>\n",
       "</table>\n",
       "<p>2595 rows × 7 columns</p>\n",
       "</div>"
      ],
      "text/plain": [
       "      user_id          occurred_at        experiment experiment_group  \\\n",
       "0         4.0  2014-06-05 15:20:16  publisher_update    control_group   \n",
       "1      8198.0  2014-06-11 09:31:32  publisher_update    control_group   \n",
       "2        11.0  2014-06-17 09:31:22  publisher_update    control_group   \n",
       "3      8209.0  2014-06-04 09:31:21  publisher_update       test_group   \n",
       "4        19.0  2014-06-04 09:31:33  publisher_update       test_group   \n",
       "...       ...                  ...               ...              ...   \n",
       "2590  14327.0  2014-06-17 09:51:41  publisher_update    control_group   \n",
       "2591  14329.0  2014-06-17 07:28:56  publisher_update    control_group   \n",
       "2592  14330.0  2014-06-17 13:46:23  publisher_update    control_group   \n",
       "2593  14334.0  2014-06-17 23:51:01  publisher_update    control_group   \n",
       "2594  14335.0  2014-06-17 13:36:04  publisher_update    control_group   \n",
       "\n",
       "            location           device  user_type  \n",
       "0              India  lenovo thinkpad        3.0  \n",
       "1              Japan  nokia lumia 635        1.0  \n",
       "2      United States        iphone 4s        1.0  \n",
       "3             Turkey  nokia lumia 635        1.0  \n",
       "4            Nigeria         iphone 5        1.0  \n",
       "...              ...              ...        ...  \n",
       "2590           Korea  lenovo thinkpad        2.0  \n",
       "2591  United Kingdom      macbook air        1.0  \n",
       "2592          France      macbook pro        2.0  \n",
       "2593         Denmark  windows surface        3.0  \n",
       "2594          Russia      macbook pro        1.0  \n",
       "\n",
       "[2595 rows x 7 columns]"
      ]
     },
     "execution_count": 73,
     "metadata": {},
     "output_type": "execute_result"
    }
   ],
   "source": [
    "query_experiment = \" SELECT * FROM experiments \"\n",
    "query_users = \" SELECT * FROM users \"\n",
    "query_events = \" SELECT * FROM events \"\n",
    "ex_df = pd.read_sql(query_experiment, connection)\n",
    "user_df = pd.read_sql(query_users, connection)\n",
    "event_df = pd.read_sql(query_events, connection)\n",
    "\n",
    "ex_df"
   ]
  },
  {
   "cell_type": "code",
   "execution_count": 328,
   "metadata": {},
   "outputs": [
    {
     "data": {
      "text/html": [
       "<div>\n",
       "<style scoped>\n",
       "    .dataframe tbody tr th:only-of-type {\n",
       "        vertical-align: middle;\n",
       "    }\n",
       "\n",
       "    .dataframe tbody tr th {\n",
       "        vertical-align: top;\n",
       "    }\n",
       "\n",
       "    .dataframe thead th {\n",
       "        text-align: right;\n",
       "    }\n",
       "</style>\n",
       "<table border=\"1\" class=\"dataframe\">\n",
       "  <thead>\n",
       "    <tr style=\"text-align: right;\">\n",
       "      <th></th>\n",
       "      <th>user_id</th>\n",
       "      <th>created_at</th>\n",
       "      <th>company_id</th>\n",
       "      <th>language</th>\n",
       "      <th>activated_at</th>\n",
       "      <th>state</th>\n",
       "    </tr>\n",
       "  </thead>\n",
       "  <tbody>\n",
       "    <tr>\n",
       "      <th>0</th>\n",
       "      <td>0.0</td>\n",
       "      <td>2013-01-01 20:59:39</td>\n",
       "      <td>5737.0</td>\n",
       "      <td>english</td>\n",
       "      <td>2013-01-01 21:01:07</td>\n",
       "      <td>active</td>\n",
       "    </tr>\n",
       "    <tr>\n",
       "      <th>1</th>\n",
       "      <td>1.0</td>\n",
       "      <td>2013-01-01 13:07:46</td>\n",
       "      <td>28.0</td>\n",
       "      <td>english</td>\n",
       "      <td>None</td>\n",
       "      <td>pending</td>\n",
       "    </tr>\n",
       "    <tr>\n",
       "      <th>2</th>\n",
       "      <td>2.0</td>\n",
       "      <td>2013-01-01 10:59:05</td>\n",
       "      <td>51.0</td>\n",
       "      <td>english</td>\n",
       "      <td>None</td>\n",
       "      <td>pending</td>\n",
       "    </tr>\n",
       "    <tr>\n",
       "      <th>3</th>\n",
       "      <td>3.0</td>\n",
       "      <td>2013-01-01 18:40:36</td>\n",
       "      <td>2800.0</td>\n",
       "      <td>german</td>\n",
       "      <td>2013-01-01 18:42:02</td>\n",
       "      <td>active</td>\n",
       "    </tr>\n",
       "    <tr>\n",
       "      <th>4</th>\n",
       "      <td>4.0</td>\n",
       "      <td>2013-01-01 14:37:51</td>\n",
       "      <td>5110.0</td>\n",
       "      <td>indian</td>\n",
       "      <td>2013-01-01 14:39:05</td>\n",
       "      <td>active</td>\n",
       "    </tr>\n",
       "    <tr>\n",
       "      <th>...</th>\n",
       "      <td>...</td>\n",
       "      <td>...</td>\n",
       "      <td>...</td>\n",
       "      <td>...</td>\n",
       "      <td>...</td>\n",
       "      <td>...</td>\n",
       "    </tr>\n",
       "    <tr>\n",
       "      <th>19061</th>\n",
       "      <td>19061.0</td>\n",
       "      <td>2014-08-31 13:21:16</td>\n",
       "      <td>2156.0</td>\n",
       "      <td>chinese</td>\n",
       "      <td>2014-08-31 13:22:50</td>\n",
       "      <td>active</td>\n",
       "    </tr>\n",
       "    <tr>\n",
       "      <th>19062</th>\n",
       "      <td>19062.0</td>\n",
       "      <td>2014-08-31 19:21:23</td>\n",
       "      <td>7520.0</td>\n",
       "      <td>spanish</td>\n",
       "      <td>None</td>\n",
       "      <td>pending</td>\n",
       "    </tr>\n",
       "    <tr>\n",
       "      <th>19063</th>\n",
       "      <td>19063.0</td>\n",
       "      <td>2014-08-31 07:10:41</td>\n",
       "      <td>72.0</td>\n",
       "      <td>spanish</td>\n",
       "      <td>2014-08-31 07:12:09</td>\n",
       "      <td>active</td>\n",
       "    </tr>\n",
       "    <tr>\n",
       "      <th>19064</th>\n",
       "      <td>19064.0</td>\n",
       "      <td>2014-08-31 17:45:18</td>\n",
       "      <td>2.0</td>\n",
       "      <td>english</td>\n",
       "      <td>None</td>\n",
       "      <td>pending</td>\n",
       "    </tr>\n",
       "    <tr>\n",
       "      <th>19065</th>\n",
       "      <td>19065.0</td>\n",
       "      <td>2014-08-31 19:29:19</td>\n",
       "      <td>8352.0</td>\n",
       "      <td>italian</td>\n",
       "      <td>None</td>\n",
       "      <td>pending</td>\n",
       "    </tr>\n",
       "  </tbody>\n",
       "</table>\n",
       "<p>19066 rows × 6 columns</p>\n",
       "</div>"
      ],
      "text/plain": [
       "       user_id           created_at  company_id language         activated_at  \\\n",
       "0          0.0  2013-01-01 20:59:39      5737.0  english  2013-01-01 21:01:07   \n",
       "1          1.0  2013-01-01 13:07:46        28.0  english                 None   \n",
       "2          2.0  2013-01-01 10:59:05        51.0  english                 None   \n",
       "3          3.0  2013-01-01 18:40:36      2800.0   german  2013-01-01 18:42:02   \n",
       "4          4.0  2013-01-01 14:37:51      5110.0   indian  2013-01-01 14:39:05   \n",
       "...        ...                  ...         ...      ...                  ...   \n",
       "19061  19061.0  2014-08-31 13:21:16      2156.0  chinese  2014-08-31 13:22:50   \n",
       "19062  19062.0  2014-08-31 19:21:23      7520.0  spanish                 None   \n",
       "19063  19063.0  2014-08-31 07:10:41        72.0  spanish  2014-08-31 07:12:09   \n",
       "19064  19064.0  2014-08-31 17:45:18         2.0  english                 None   \n",
       "19065  19065.0  2014-08-31 19:29:19      8352.0  italian                 None   \n",
       "\n",
       "         state  \n",
       "0       active  \n",
       "1      pending  \n",
       "2      pending  \n",
       "3       active  \n",
       "4       active  \n",
       "...        ...  \n",
       "19061   active  \n",
       "19062  pending  \n",
       "19063   active  \n",
       "19064  pending  \n",
       "19065  pending  \n",
       "\n",
       "[19066 rows x 6 columns]"
      ]
     },
     "execution_count": 328,
     "metadata": {},
     "output_type": "execute_result"
    }
   ],
   "source": [
    "user_df"
   ]
  },
  {
   "cell_type": "code",
   "execution_count": 74,
   "metadata": {},
   "outputs": [
    {
     "data": {
      "text/html": [
       "<div>\n",
       "<style scoped>\n",
       "    .dataframe tbody tr th:only-of-type {\n",
       "        vertical-align: middle;\n",
       "    }\n",
       "\n",
       "    .dataframe tbody tr th {\n",
       "        vertical-align: top;\n",
       "    }\n",
       "\n",
       "    .dataframe thead th {\n",
       "        text-align: right;\n",
       "    }\n",
       "</style>\n",
       "<table border=\"1\" class=\"dataframe\">\n",
       "  <thead>\n",
       "    <tr style=\"text-align: right;\">\n",
       "      <th></th>\n",
       "      <th>user_id</th>\n",
       "      <th>occurred_at</th>\n",
       "      <th>event_type</th>\n",
       "      <th>event_name</th>\n",
       "      <th>location</th>\n",
       "      <th>device</th>\n",
       "      <th>user_type</th>\n",
       "    </tr>\n",
       "  </thead>\n",
       "  <tbody>\n",
       "    <tr>\n",
       "      <th>0</th>\n",
       "      <td>10522.0</td>\n",
       "      <td>2014-05-02 11:02:39</td>\n",
       "      <td>engagement</td>\n",
       "      <td>login</td>\n",
       "      <td>Japan</td>\n",
       "      <td>dell inspiron notebook</td>\n",
       "      <td>3.0</td>\n",
       "    </tr>\n",
       "    <tr>\n",
       "      <th>1</th>\n",
       "      <td>10522.0</td>\n",
       "      <td>2014-05-02 11:02:53</td>\n",
       "      <td>engagement</td>\n",
       "      <td>home_page</td>\n",
       "      <td>Japan</td>\n",
       "      <td>dell inspiron notebook</td>\n",
       "      <td>3.0</td>\n",
       "    </tr>\n",
       "    <tr>\n",
       "      <th>2</th>\n",
       "      <td>10522.0</td>\n",
       "      <td>2014-05-02 11:03:28</td>\n",
       "      <td>engagement</td>\n",
       "      <td>like_message</td>\n",
       "      <td>Japan</td>\n",
       "      <td>dell inspiron notebook</td>\n",
       "      <td>3.0</td>\n",
       "    </tr>\n",
       "    <tr>\n",
       "      <th>3</th>\n",
       "      <td>10522.0</td>\n",
       "      <td>2014-05-02 11:04:09</td>\n",
       "      <td>engagement</td>\n",
       "      <td>view_inbox</td>\n",
       "      <td>Japan</td>\n",
       "      <td>dell inspiron notebook</td>\n",
       "      <td>3.0</td>\n",
       "    </tr>\n",
       "    <tr>\n",
       "      <th>4</th>\n",
       "      <td>10522.0</td>\n",
       "      <td>2014-05-02 11:03:16</td>\n",
       "      <td>engagement</td>\n",
       "      <td>search_run</td>\n",
       "      <td>Japan</td>\n",
       "      <td>dell inspiron notebook</td>\n",
       "      <td>3.0</td>\n",
       "    </tr>\n",
       "    <tr>\n",
       "      <th>...</th>\n",
       "      <td>...</td>\n",
       "      <td>...</td>\n",
       "      <td>...</td>\n",
       "      <td>...</td>\n",
       "      <td>...</td>\n",
       "      <td>...</td>\n",
       "      <td>...</td>\n",
       "    </tr>\n",
       "    <tr>\n",
       "      <th>340827</th>\n",
       "      <td>18815.0</td>\n",
       "      <td>2014-08-31 13:41:46</td>\n",
       "      <td>engagement</td>\n",
       "      <td>like_message</td>\n",
       "      <td>Ireland</td>\n",
       "      <td>dell inspiron notebook</td>\n",
       "      <td>2.0</td>\n",
       "    </tr>\n",
       "    <tr>\n",
       "      <th>340828</th>\n",
       "      <td>18815.0</td>\n",
       "      <td>2014-08-31 13:42:11</td>\n",
       "      <td>engagement</td>\n",
       "      <td>home_page</td>\n",
       "      <td>Ireland</td>\n",
       "      <td>dell inspiron notebook</td>\n",
       "      <td>2.0</td>\n",
       "    </tr>\n",
       "    <tr>\n",
       "      <th>340829</th>\n",
       "      <td>18815.0</td>\n",
       "      <td>2014-08-31 13:42:43</td>\n",
       "      <td>engagement</td>\n",
       "      <td>send_message</td>\n",
       "      <td>Ireland</td>\n",
       "      <td>dell inspiron notebook</td>\n",
       "      <td>2.0</td>\n",
       "    </tr>\n",
       "    <tr>\n",
       "      <th>340830</th>\n",
       "      <td>18815.0</td>\n",
       "      <td>2014-08-31 13:43:07</td>\n",
       "      <td>engagement</td>\n",
       "      <td>home_page</td>\n",
       "      <td>Ireland</td>\n",
       "      <td>dell inspiron notebook</td>\n",
       "      <td>2.0</td>\n",
       "    </tr>\n",
       "    <tr>\n",
       "      <th>340831</th>\n",
       "      <td>18815.0</td>\n",
       "      <td>2014-08-31 13:43:42</td>\n",
       "      <td>engagement</td>\n",
       "      <td>like_message</td>\n",
       "      <td>Ireland</td>\n",
       "      <td>dell inspiron notebook</td>\n",
       "      <td>2.0</td>\n",
       "    </tr>\n",
       "  </tbody>\n",
       "</table>\n",
       "<p>340832 rows × 7 columns</p>\n",
       "</div>"
      ],
      "text/plain": [
       "        user_id          occurred_at  event_type    event_name location  \\\n",
       "0       10522.0  2014-05-02 11:02:39  engagement         login    Japan   \n",
       "1       10522.0  2014-05-02 11:02:53  engagement     home_page    Japan   \n",
       "2       10522.0  2014-05-02 11:03:28  engagement  like_message    Japan   \n",
       "3       10522.0  2014-05-02 11:04:09  engagement    view_inbox    Japan   \n",
       "4       10522.0  2014-05-02 11:03:16  engagement    search_run    Japan   \n",
       "...         ...                  ...         ...           ...      ...   \n",
       "340827  18815.0  2014-08-31 13:41:46  engagement  like_message  Ireland   \n",
       "340828  18815.0  2014-08-31 13:42:11  engagement     home_page  Ireland   \n",
       "340829  18815.0  2014-08-31 13:42:43  engagement  send_message  Ireland   \n",
       "340830  18815.0  2014-08-31 13:43:07  engagement     home_page  Ireland   \n",
       "340831  18815.0  2014-08-31 13:43:42  engagement  like_message  Ireland   \n",
       "\n",
       "                        device  user_type  \n",
       "0       dell inspiron notebook        3.0  \n",
       "1       dell inspiron notebook        3.0  \n",
       "2       dell inspiron notebook        3.0  \n",
       "3       dell inspiron notebook        3.0  \n",
       "4       dell inspiron notebook        3.0  \n",
       "...                        ...        ...  \n",
       "340827  dell inspiron notebook        2.0  \n",
       "340828  dell inspiron notebook        2.0  \n",
       "340829  dell inspiron notebook        2.0  \n",
       "340830  dell inspiron notebook        2.0  \n",
       "340831  dell inspiron notebook        2.0  \n",
       "\n",
       "[340832 rows x 7 columns]"
      ]
     },
     "execution_count": 74,
     "metadata": {},
     "output_type": "execute_result"
    }
   ],
   "source": [
    "event_df"
   ]
  },
  {
   "cell_type": "code",
   "execution_count": 329,
   "metadata": {},
   "outputs": [
    {
     "data": {
      "text/plain": [
       "array(['engagement', 'signup_flow'], dtype=object)"
      ]
     },
     "execution_count": 329,
     "metadata": {},
     "output_type": "execute_result"
    }
   ],
   "source": [
    "event_df['event_type'].unique()"
   ]
  },
  {
   "cell_type": "markdown",
   "metadata": {},
   "source": [
    "# A/B 테스트 결과 확인"
   ]
  },
  {
   "cell_type": "markdown",
   "metadata": {},
   "source": [
    "- users: control_group, test_group 각각에 포함된 user 수\n",
    "- total_treated_users: 전체 실험군 (control + test group)\n",
    "- treatment_percent: 전체 실험군 中 control_group에포함된 user 수 , test_group에 포함된 user 수\n",
    "- total: 각 그룹유저들이 6월 한달동안 포스팅한 총 횟수\n",
    "- average: total/users (1인당 평균 포스팅 수-> test group: 4.07회, control group: 2.6..회 -> test group이 50% 더 많음)"
   ]
  },
  {
   "cell_type": "markdown",
   "metadata": {},
   "source": [
    "- test group의 평균 메시지 발송 수가 control group 보다 50% 이상 많음\n",
    "- test group과 control group 사이에 지표 차이가 나는 것은 좋지만... 왜 이렇게까지 많이 차이가 날까? 1.5배 차이라니?\n",
    "- message send 기능이 아무리 좋게 개선되었다고 하더라도 왜 이렇게까지..?\n",
    "  1. metric이 프로젝트의 성공여부를 반영하지 못할 수도 있다.즉, 보낸 메시지의 수(posting rate)가 UI 개선 프로젝트의 성공을 측정하는 지표가 아닐 수도 있다. 다른 지표도 함께 살펴보아야 한다.\n",
    "  2. 단순히 수학계산이 잘못 되었을 수도 있다. \n",
    "  3. Group이 제대로 나뉘지 않았을 수도 있다. Randomly하게 실험군, 대조군을 나누어야 하는데 랜덤하지 못했다거나. 예를 들면, 실험군:여자/대조군:남자로 나뉘거나, 실험군: 20대까지/대조군:30대 이상으로 연령대가 나뉘거나.. 이때 X는 publisher version, Y는  posting rates여야하는데, Y에 영향을 미치는 것이 X이외에 다른 것이 있다면 실험이 잘못된 것이다. \n",
    "   "
   ]
  },
  {
   "cell_type": "code",
   "execution_count": 336,
   "metadata": {},
   "outputs": [
    {
     "data": {
      "text/html": [
       "<div>\n",
       "<style scoped>\n",
       "    .dataframe tbody tr th:only-of-type {\n",
       "        vertical-align: middle;\n",
       "    }\n",
       "\n",
       "    .dataframe tbody tr th {\n",
       "        vertical-align: top;\n",
       "    }\n",
       "\n",
       "    .dataframe thead th {\n",
       "        text-align: right;\n",
       "    }\n",
       "</style>\n",
       "<table border=\"1\" class=\"dataframe\">\n",
       "  <thead>\n",
       "    <tr style=\"text-align: right;\">\n",
       "      <th></th>\n",
       "      <th>experiment_group</th>\n",
       "      <th>user_cnt</th>\n",
       "      <th>metric</th>\n",
       "      <th>average</th>\n",
       "    </tr>\n",
       "  </thead>\n",
       "  <tbody>\n",
       "    <tr>\n",
       "      <th>0</th>\n",
       "      <td>control_group</td>\n",
       "      <td>1746</td>\n",
       "      <td>4660</td>\n",
       "      <td>2.6690</td>\n",
       "    </tr>\n",
       "    <tr>\n",
       "      <th>1</th>\n",
       "      <td>test_group</td>\n",
       "      <td>849</td>\n",
       "      <td>3460</td>\n",
       "      <td>4.0754</td>\n",
       "    </tr>\n",
       "  </tbody>\n",
       "</table>\n",
       "</div>"
      ],
      "text/plain": [
       "  experiment_group  user_cnt  metric  average\n",
       "0    control_group      1746    4660   2.6690\n",
       "1       test_group       849    3460   4.0754"
      ]
     },
     "execution_count": 336,
     "metadata": {},
     "output_type": "execute_result"
    }
   ],
   "source": [
    "query = \" SELECT  experiment_group, COUNT(DISTINCT ex.user_id) user_cnt, \\\n",
    "                    COUNT(CASE WHEN event_name = 'send_message' THEN ex.user_id ELSE NULL END) as metric,\\\n",
    "                    COUNT(CASE WHEN event_name = 'send_message' THEN ex.user_id ELSE NULL END) / COUNT(DISTINCT ex.user_id) as average \\\n",
    "            FROM experiments ex \\\n",
    "                JOIN users u ON ex.user_id = u.user_id \\\n",
    "                JOIN events e on ex.user_id = e.user_id \\\n",
    "                AND ex.experiment = 'publisher_update' \\\n",
    "                AND e.occurred_at LIKE '%2014-06%' \\\n",
    "                AND e.event_type = 'engagement'  \\\n",
    "            GROUP BY experiment_group\"\n",
    "\n",
    "message_cnt_df = pd.read_sql(query, connection)\n",
    "message_cnt_df"
   ]
  },
  {
   "cell_type": "code",
   "execution_count": 335,
   "metadata": {},
   "outputs": [
    {
     "name": "stderr",
     "output_type": "stream",
     "text": [
      "C:\\Users\\TEMP\\AppData\\Local\\Temp\\ipykernel_22316\\1730196465.py:13: UserWarning: You have used the `textcoords` kwarg, but not the `xytext` kwarg.  This can lead to surprising results.\n",
      "  ax.annotate(p.get_height(), (p.get_x()+p.get_width()/2, p.get_height()),\n"
     ]
    },
    {
     "data": {
      "image/png": "[encoded data removed]",
      "text/plain": [
       "<Figure size 1000x600 with 1 Axes>"
      ]
     },
     "metadata": {},
     "output_type": "display_data"
    }
   ],
   "source": [
    "import seaborn as sns\n",
    "import matplotlib.pyplot as plt\n",
    "\n",
    "plt.figure(figsize=(10,6))\n",
    "sns.set_theme(palette='deep')\n",
    "ax = sns.barplot(data=message_cnt_df, x='experiment_group', y='average')\n",
    "plt.xlabel('Experiment Group',fontsize=14)\n",
    "plt.ylabel('Average Message Sent', fontsize=14)\n",
    "plt.xticks(fontsize=14)\n",
    "plt.yticks(fontsize=14)\n",
    "\n",
    "for p in ax.patches:\n",
    "    ax.annotate(p.get_height(), (p.get_x()+p.get_width()/2, p.get_height()),\n",
    "                fontsize=12,color='red', ha='center',va='center', textcoords='offset points')\n",
    "\n",
    "\n",
    "plt.show()"
   ]
  },
  {
   "cell_type": "markdown",
   "metadata": {},
   "source": [
    "## Mission\n",
    "- Test group과 Control group의 average message sent 수가 50% 이상 차이가 나는 이유 에 대해 조사해보자"
   ]
  },
  {
   "cell_type": "markdown",
   "metadata": {},
   "source": [
    "# 분석1. 로그인 지표 분석\n",
    "- A/B test의 성공을 나타내는지표는 posting rates 외에도 다른 지표가 존재할 수 있다. 다른 지표들을 살펴보자.\n",
    "- Publisher 개선의 성공은 `User의 login 빈도 수` 와 연관이 있지 않을까?\n",
    "- `User의 평균 login 수` 를 알아보자.       "
   ]
  },
  {
   "cell_type": "markdown",
   "metadata": {},
   "source": [
    "### 로그인 횟수"
   ]
  },
  {
   "cell_type": "code",
   "execution_count": 351,
   "metadata": {},
   "outputs": [
    {
     "data": {
      "text/html": [
       "<div>\n",
       "<style scoped>\n",
       "    .dataframe tbody tr th:only-of-type {\n",
       "        vertical-align: middle;\n",
       "    }\n",
       "\n",
       "    .dataframe tbody tr th {\n",
       "        vertical-align: top;\n",
       "    }\n",
       "\n",
       "    .dataframe thead th {\n",
       "        text-align: right;\n",
       "    }\n",
       "</style>\n",
       "<table border=\"1\" class=\"dataframe\">\n",
       "  <thead>\n",
       "    <tr style=\"text-align: right;\">\n",
       "      <th></th>\n",
       "      <th>experiment_group</th>\n",
       "      <th>user_cnt</th>\n",
       "      <th>login_cnt</th>\n",
       "      <th>average</th>\n",
       "    </tr>\n",
       "  </thead>\n",
       "  <tbody>\n",
       "    <tr>\n",
       "      <th>0</th>\n",
       "      <td>control_group</td>\n",
       "      <td>1746</td>\n",
       "      <td>5789</td>\n",
       "      <td>3.3156</td>\n",
       "    </tr>\n",
       "    <tr>\n",
       "      <th>1</th>\n",
       "      <td>test_group</td>\n",
       "      <td>849</td>\n",
       "      <td>3481</td>\n",
       "      <td>4.1001</td>\n",
       "    </tr>\n",
       "  </tbody>\n",
       "</table>\n",
       "</div>"
      ],
      "text/plain": [
       "  experiment_group  user_cnt  login_cnt  average\n",
       "0    control_group      1746       5789   3.3156\n",
       "1       test_group       849       3481   4.1001"
      ]
     },
     "execution_count": 351,
     "metadata": {},
     "output_type": "execute_result"
    }
   ],
   "source": [
    "query = \" SELECT  experiment_group, COUNT(DISTINCT ex.user_id) user_cnt, COUNT(CASE WHEN event_name ='login' THEN ex.user_id ELSE NULL END) as login_cnt, \\\n",
    "                COUNT(CASE WHEN event_name ='login' THEN ex.user_id ELSE NULL END)/ COUNT(DISTINCT ex.user_id) average \\\n",
    "            FROM experiments ex \\\n",
    "                JOIN users u ON ex.user_id = u.user_id \\\n",
    "                JOIN events e on ex.user_id = e.user_id \\\n",
    "                AND ex.experiment = 'publisher_update' \\\n",
    "                AND e.occurred_at LIKE '%2014-06%' \\\n",
    "                AND e.event_type = 'engagement'   \\\n",
    "            GROUP BY experiment_group\"\n",
    "\n",
    "login_cnt_df = pd.read_sql(query, connection)\n",
    "login_cnt_df"
   ]
  },
  {
   "cell_type": "code",
   "execution_count": 352,
   "metadata": {},
   "outputs": [
    {
     "name": "stderr",
     "output_type": "stream",
     "text": [
      "C:\\Users\\TEMP\\AppData\\Local\\Temp\\ipykernel_22316\\3721714185.py:3: UserWarning: You have used the `textcoords` kwarg, but not the `xytext` kwarg.  This can lead to surprising results.\n",
      "  ax.annotate(p.get_height(), (p.get_x()+p.get_width()/2, p.get_height()),\n"
     ]
    },
    {
     "data": {
      "image/png": "[encoded data removed]",
      "text/plain": [
       "<Figure size 640x480 with 1 Axes>"
      ]
     },
     "metadata": {},
     "output_type": "display_data"
    }
   ],
   "source": [
    "ax = sns.barplot(data= login_cnt_df, x='experiment_group', y='average')\n",
    "for p in ax.patches:\n",
    "    ax.annotate(p.get_height(), (p.get_x()+p.get_width()/2, p.get_height()),\n",
    "                fontsize=12,color='red', ha='center',va='center', textcoords='offset points')"
   ]
  },
  {
   "cell_type": "markdown",
   "metadata": {},
   "source": [
    "- 평균 로그인 수는 대조군이 평균 3.3번, 실험군이 평균 4.1번으로 실험기간 중 평균 로그인 수도 실험군이 더 높다.\n",
    "- 즉, test group의 유저들은 한 달 동안 평균 4.1회, control group의 유저들은 한 달 동안 평균 3.3회 로그인 함. "
   ]
  },
  {
   "cell_type": "markdown",
   "metadata": {},
   "source": [
    "### 로그인 일수 (몇 일 들어왔는가?)\n",
    "- 로그인은 많이 하고있으나 로그인 한 날수를 세봤더니 별로 차이가 나지 않는다면...그냥 하루에 로그인-로그아웃 반복을 많이하고 있다는 소리. 이는 좋은 시그널이 아님. "
   ]
  },
  {
   "cell_type": "code",
   "execution_count": 355,
   "metadata": {},
   "outputs": [
    {
     "data": {
      "text/html": [
       "<div>\n",
       "<style scoped>\n",
       "    .dataframe tbody tr th:only-of-type {\n",
       "        vertical-align: middle;\n",
       "    }\n",
       "\n",
       "    .dataframe tbody tr th {\n",
       "        vertical-align: top;\n",
       "    }\n",
       "\n",
       "    .dataframe thead th {\n",
       "        text-align: right;\n",
       "    }\n",
       "</style>\n",
       "<table border=\"1\" class=\"dataframe\">\n",
       "  <thead>\n",
       "    <tr style=\"text-align: right;\">\n",
       "      <th></th>\n",
       "      <th>experiment_group</th>\n",
       "      <th>login_day_avg</th>\n",
       "    </tr>\n",
       "  </thead>\n",
       "  <tbody>\n",
       "    <tr>\n",
       "      <th>0</th>\n",
       "      <td>control_group</td>\n",
       "      <td>3.0338</td>\n",
       "    </tr>\n",
       "    <tr>\n",
       "      <th>1</th>\n",
       "      <td>test_group</td>\n",
       "      <td>3.6031</td>\n",
       "    </tr>\n",
       "  </tbody>\n",
       "</table>\n",
       "</div>"
      ],
      "text/plain": [
       "  experiment_group  login_day_avg\n",
       "0    control_group         3.0338\n",
       "1       test_group         3.6031"
      ]
     },
     "execution_count": 355,
     "metadata": {},
     "output_type": "execute_result"
    }
   ],
   "source": [
    "query = \" SELECT experiment_group, avg(day) as login_day_avg \\\n",
    "            FROM \\\n",
    "                (SELECT experiment_group, e.user_id, COUNT(DISTINCT DATE_FORMAT(e.occurred_at, '%Y-%m-%d')) as day \\\n",
    "                    FROM experiments ex \\\n",
    "                        JOIN users u ON ex.user_id = u.user_id \\\n",
    "                        JOIN events e on ex.user_id = e.user_id \\\n",
    "                        AND ex.experiment = 'publisher_update' \\\n",
    "                        AND e.occurred_at LIKE '%2014-06%' \\\n",
    "                        AND e.event_type = 'engagement'   \\\n",
    "                    GROUP BY experiment_group, e.user_id) a \\\n",
    "            GROUP BY 1\"\n",
    "\n",
    "login_day_df = pd.read_sql(query, connection)\n",
    "login_day_df"
   ]
  },
  {
   "cell_type": "code",
   "execution_count": 356,
   "metadata": {},
   "outputs": [
    {
     "name": "stderr",
     "output_type": "stream",
     "text": [
      "C:\\Users\\TEMP\\AppData\\Local\\Temp\\ipykernel_22316\\2457649385.py:3: UserWarning: You have used the `textcoords` kwarg, but not the `xytext` kwarg.  This can lead to surprising results.\n",
      "  ax2.annotate(p.get_height(), (p.get_x()+p.get_width()/2, p.get_height()),\n"
     ]
    },
    {
     "data": {
      "image/png": "[encoded data removed]",
      "text/plain": [
       "<Figure size 640x480 with 1 Axes>"
      ]
     },
     "metadata": {},
     "output_type": "display_data"
    }
   ],
   "source": [
    "ax2= sns.barplot(data = login_day_df, x='experiment_group', y='login_day_avg')\n",
    "for p in ax2.patches:\n",
    "    ax2.annotate(p.get_height(), (p.get_x()+p.get_width()/2, p.get_height()),\n",
    "                fontsize=12,color='red', ha='center',va='center', textcoords='offset points')\n",
    "\n"
   ]
  },
  {
   "cell_type": "markdown",
   "metadata": {},
   "source": [
    "- test group의 유저들은 한 달 동안 평균 3일, control group의 유저들은 한 달 동안 평균 3.6일 로그인 함. "
   ]
  },
  {
   "cell_type": "markdown",
   "metadata": {},
   "source": [
    "분석1 결론\n",
    "- 실험 기간 동안에 control group과 test group의 평균 로그인 횟수, 평균 로그인 일수를 계산해봤더니 모두 control < test group\n",
    "- 실험 기간동안 실험군이 대조군 대비 유저 당 평균 0.8회 더 많이 로그인 했다. \n",
    "- 실험 기간동안 실험군이 대조군 대비 유저 당 평균 0.6일 더 많이 로그인 했다."
   ]
  },
  {
   "cell_type": "markdown",
   "metadata": {},
   "source": [
    "# 분석2.샘플링 공정성 확인"
   ]
  },
  {
   "cell_type": "markdown",
   "metadata": {},
   "source": [
    "- Test/Control group을 나눌 때 과연 샘플링이 공정하게 되었을까?\n"
   ]
  },
  {
   "cell_type": "code",
   "execution_count": 359,
   "metadata": {},
   "outputs": [
    {
     "data": {
      "text/html": [
       "<div>\n",
       "<style scoped>\n",
       "    .dataframe tbody tr th:only-of-type {\n",
       "        vertical-align: middle;\n",
       "    }\n",
       "\n",
       "    .dataframe tbody tr th {\n",
       "        vertical-align: top;\n",
       "    }\n",
       "\n",
       "    .dataframe thead th {\n",
       "        text-align: right;\n",
       "    }\n",
       "</style>\n",
       "<table border=\"1\" class=\"dataframe\">\n",
       "  <thead>\n",
       "    <tr style=\"text-align: right;\">\n",
       "      <th></th>\n",
       "      <th>month_activated</th>\n",
       "      <th>control_users</th>\n",
       "      <th>test_users</th>\n",
       "    </tr>\n",
       "  </thead>\n",
       "  <tbody>\n",
       "    <tr>\n",
       "      <th>0</th>\n",
       "      <td>2013-01</td>\n",
       "      <td>24</td>\n",
       "      <td>13</td>\n",
       "    </tr>\n",
       "    <tr>\n",
       "      <th>1</th>\n",
       "      <td>2013-02</td>\n",
       "      <td>27</td>\n",
       "      <td>20</td>\n",
       "    </tr>\n",
       "    <tr>\n",
       "      <th>2</th>\n",
       "      <td>2013-03</td>\n",
       "      <td>15</td>\n",
       "      <td>32</td>\n",
       "    </tr>\n",
       "    <tr>\n",
       "      <th>3</th>\n",
       "      <td>2013-04</td>\n",
       "      <td>28</td>\n",
       "      <td>27</td>\n",
       "    </tr>\n",
       "    <tr>\n",
       "      <th>4</th>\n",
       "      <td>2013-05</td>\n",
       "      <td>15</td>\n",
       "      <td>30</td>\n",
       "    </tr>\n",
       "    <tr>\n",
       "      <th>5</th>\n",
       "      <td>2013-06</td>\n",
       "      <td>22</td>\n",
       "      <td>19</td>\n",
       "    </tr>\n",
       "    <tr>\n",
       "      <th>6</th>\n",
       "      <td>2013-07</td>\n",
       "      <td>32</td>\n",
       "      <td>32</td>\n",
       "    </tr>\n",
       "    <tr>\n",
       "      <th>7</th>\n",
       "      <td>2013-08</td>\n",
       "      <td>41</td>\n",
       "      <td>38</td>\n",
       "    </tr>\n",
       "    <tr>\n",
       "      <th>8</th>\n",
       "      <td>2013-09</td>\n",
       "      <td>37</td>\n",
       "      <td>45</td>\n",
       "    </tr>\n",
       "    <tr>\n",
       "      <th>9</th>\n",
       "      <td>2013-10</td>\n",
       "      <td>46</td>\n",
       "      <td>45</td>\n",
       "    </tr>\n",
       "    <tr>\n",
       "      <th>10</th>\n",
       "      <td>2013-11</td>\n",
       "      <td>49</td>\n",
       "      <td>39</td>\n",
       "    </tr>\n",
       "    <tr>\n",
       "      <th>11</th>\n",
       "      <td>2013-12</td>\n",
       "      <td>49</td>\n",
       "      <td>57</td>\n",
       "    </tr>\n",
       "    <tr>\n",
       "      <th>12</th>\n",
       "      <td>2014-01</td>\n",
       "      <td>68</td>\n",
       "      <td>52</td>\n",
       "    </tr>\n",
       "    <tr>\n",
       "      <th>13</th>\n",
       "      <td>2014-02</td>\n",
       "      <td>75</td>\n",
       "      <td>51</td>\n",
       "    </tr>\n",
       "    <tr>\n",
       "      <th>14</th>\n",
       "      <td>2014-03</td>\n",
       "      <td>81</td>\n",
       "      <td>60</td>\n",
       "    </tr>\n",
       "    <tr>\n",
       "      <th>15</th>\n",
       "      <td>2014-04</td>\n",
       "      <td>82</td>\n",
       "      <td>86</td>\n",
       "    </tr>\n",
       "    <tr>\n",
       "      <th>16</th>\n",
       "      <td>2014-05</td>\n",
       "      <td>182</td>\n",
       "      <td>203</td>\n",
       "    </tr>\n",
       "    <tr>\n",
       "      <th>17</th>\n",
       "      <td>2014-06</td>\n",
       "      <td>873</td>\n",
       "      <td>0</td>\n",
       "    </tr>\n",
       "  </tbody>\n",
       "</table>\n",
       "</div>"
      ],
      "text/plain": [
       "   month_activated  control_users  test_users\n",
       "0          2013-01             24          13\n",
       "1          2013-02             27          20\n",
       "2          2013-03             15          32\n",
       "3          2013-04             28          27\n",
       "4          2013-05             15          30\n",
       "5          2013-06             22          19\n",
       "6          2013-07             32          32\n",
       "7          2013-08             41          38\n",
       "8          2013-09             37          45\n",
       "9          2013-10             46          45\n",
       "10         2013-11             49          39\n",
       "11         2013-12             49          57\n",
       "12         2014-01             68          52\n",
       "13         2014-02             75          51\n",
       "14         2014-03             81          60\n",
       "15         2014-04             82          86\n",
       "16         2014-05            182         203\n",
       "17         2014-06            873           0"
      ]
     },
     "execution_count": 359,
     "metadata": {},
     "output_type": "execute_result"
    }
   ],
   "source": [
    "query = \" SELECT DATE_FORMAT(u.activated_at, '%Y-%m') as month_activated,   \\\n",
    "                COUNT(CASE WHEN e.experiment_group = 'control_group' THEN u.user_id ELSE NULL END) as control_users, \\\n",
    "                COUNT(CASE WHEN e.experiment_group = 'test_group' THEN u.user_id ELSE NULL END) as test_users \\\n",
    "            FROM experiments e \\\n",
    "            JOIN users u \\\n",
    "                ON e.user_id = u.user_id \\\n",
    "            GROUP BY 1 \\\n",
    "            ORDER BY 1\"\n",
    "\n",
    "sampling_df = pd.read_sql(query, connection)\n",
    "sampling_df"
   ]
  },
  {
   "cell_type": "code",
   "execution_count": 360,
   "metadata": {},
   "outputs": [
    {
     "data": {
      "image/png": "[encoded data removed]",
      "text/plain": [
       "<Figure size 1000x600 with 1 Axes>"
      ]
     },
     "metadata": {},
     "output_type": "display_data"
    }
   ],
   "source": [
    "plt.figure(figsize=(10,6))\n",
    "sns.lineplot(data=sampling_df, x='month_activated', y='control_users')\n",
    "sns.lineplot(data=sampling_df, x='month_activated', y='test_users')\n",
    "plt.xticks(rotation=45)\n",
    "plt.show()"
   ]
  },
  {
   "cell_type": "markdown",
   "metadata": {},
   "source": [
    "- 2014.06월에 가입한 user들은 모두 control group에 포함되어 있다.\n",
    "  - A/B test를 실행한 6월에 가입한 user들은 이전에 가입한 user들에 비해 로그인, 메시지 발송 등 활동할 기회가 적다. (활동기간이 촉박하기 때문)\n",
    "  - 그래서 6월 가입자들의 로그인 지표, 활동 지표는 낮은게 당연\n",
    "  - 그런데 이러한 6월 가입자들이 모두 control group에 포함되어 있다. 이러한 이유로 control user group의 성과 지표가 좋지 않게 나온 것일 수도 있다."
   ]
  },
  {
   "cell_type": "markdown",
   "metadata": {},
   "source": [
    "# 분석3. 6월 가입자들을 제외하고 다시 분석"
   ]
  },
  {
   "cell_type": "code",
   "execution_count": 327,
   "metadata": {},
   "outputs": [
    {
     "data": {
      "text/html": [
       "<div>\n",
       "<style scoped>\n",
       "    .dataframe tbody tr th:only-of-type {\n",
       "        vertical-align: middle;\n",
       "    }\n",
       "\n",
       "    .dataframe tbody tr th {\n",
       "        vertical-align: top;\n",
       "    }\n",
       "\n",
       "    .dataframe thead th {\n",
       "        text-align: right;\n",
       "    }\n",
       "</style>\n",
       "<table border=\"1\" class=\"dataframe\">\n",
       "  <thead>\n",
       "    <tr style=\"text-align: right;\">\n",
       "      <th></th>\n",
       "      <th>experiment_group</th>\n",
       "      <th>user_cnt</th>\n",
       "      <th>metric</th>\n",
       "      <th>average</th>\n",
       "    </tr>\n",
       "  </thead>\n",
       "  <tbody>\n",
       "    <tr>\n",
       "      <th>0</th>\n",
       "      <td>control_group</td>\n",
       "      <td>873</td>\n",
       "      <td>2546</td>\n",
       "      <td>2.9164</td>\n",
       "    </tr>\n",
       "    <tr>\n",
       "      <th>1</th>\n",
       "      <td>test_group</td>\n",
       "      <td>849</td>\n",
       "      <td>3460</td>\n",
       "      <td>4.0754</td>\n",
       "    </tr>\n",
       "  </tbody>\n",
       "</table>\n",
       "</div>"
      ],
      "text/plain": [
       "  experiment_group  user_cnt  metric  average\n",
       "0    control_group       873    2546   2.9164\n",
       "1       test_group       849    3460   4.0754"
      ]
     },
     "execution_count": 327,
     "metadata": {},
     "output_type": "execute_result"
    }
   ],
   "source": [
    "query = \" SELECT  experiment_group, COUNT(DISTINCT ex.user_id) user_cnt, \\\n",
    "                    COUNT(CASE WHEN event_name = 'send_message' THEN ex.user_id ELSE NULL END) as metric,\\\n",
    "                    COUNT(CASE WHEN event_name = 'send_message' THEN ex.user_id ELSE NULL END) / COUNT(DISTINCT ex.user_id) as average \\\n",
    "            FROM experiments ex \\\n",
    "                JOIN users u ON ex.user_id = u.user_id \\\n",
    "                JOIN events e on ex.user_id = e.user_id \\\n",
    "                AND ex.experiment = 'publisher_update' \\\n",
    "                AND e.occurred_at >= ex.occurred_at \\\n",
    "                AND e.occurred_at < '2014-07' \\\n",
    "                AND e.event_type = 'engagement' \\\n",
    "                AND u.activated_at NOT LIKE '%2014-06%' \\\n",
    "            GROUP BY experiment_group\"\n",
    "\n",
    "mod2_df = pd.read_sql(query, connection)\n",
    "mod2_df"
   ]
  },
  {
   "cell_type": "code",
   "execution_count": 326,
   "metadata": {},
   "outputs": [
    {
     "name": "stderr",
     "output_type": "stream",
     "text": [
      "C:\\Users\\TEMP\\AppData\\Local\\Temp\\ipykernel_22316\\3130435030.py:3: UserWarning: You have used the `textcoords` kwarg, but not the `xytext` kwarg.  This can lead to surprising results.\n",
      "  ax3.annotate(p.get_height(), (p.get_x()+p.get_width()/2, p.get_height()),\n"
     ]
    },
    {
     "data": {
      "image/png": "[encoded data removed]",
      "text/plain": [
       "<Figure size 640x480 with 1 Axes>"
      ]
     },
     "metadata": {},
     "output_type": "display_data"
    }
   ],
   "source": [
    "ax3 = sns.barplot(data=mod2_df, x='experiment_group',y='average')\n",
    "for p in ax3.patches:\n",
    "    ax3.annotate(p.get_height(), (p.get_x()+p.get_width()/2, p.get_height()),\n",
    "                fontsize=12,color='red', ha='center',va='center', textcoords='offset points')\n",
    "\n"
   ]
  },
  {
   "cell_type": "markdown",
   "metadata": {},
   "source": [
    "- control group에서 6월에 가입한 user들을 제외했더니 2.6 -> 2.9로 Average Message Sent 수가 증가했고, 실험군과 대조군의 차이는 적어짐.\n",
    "- 차이가 적어졌지만 여전히 test group의 평균 메시지 전송수가 더 많다."
   ]
  },
  {
   "cell_type": "markdown",
   "metadata": {},
   "source": []
  },
  {
   "cell_type": "markdown",
   "metadata": {},
   "source": []
  },
  {
   "cell_type": "code",
   "execution_count": null,
   "metadata": {},
   "outputs": [],
   "source": []
  }
 ],
 "metadata": {
  "kernelspec": {
   "display_name": "base",
   "language": "python",
   "name": "python3"
  },
  "language_info": {
   "codemirror_mode": {
    "name": "ipython",
    "version": 3
   },
   "file_extension": ".py",
   "mimetype": "text/x-python",
   "name": "python",
   "nbconvert_exporter": "python",
   "pygments_lexer": "ipython3",
   "version": "3.9.13"
  }
 },
 "nbformat": 4,
 "nbformat_minor": 2
}
