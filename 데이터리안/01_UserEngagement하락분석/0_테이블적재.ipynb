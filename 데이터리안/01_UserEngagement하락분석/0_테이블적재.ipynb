{
 "cells": [
  {
   "cell_type": "markdown",
   "metadata": {},
   "source": [
    "# MySQL에 csv 적재"
   ]
  },
  {
   "cell_type": "code",
   "execution_count": null,
   "metadata": {},
   "outputs": [],
   "source": [
    "from sqlalchemy import create_engine\n",
    "\n",
    "def create_connection(host, user, password, database):\n",
    "    engine = create_engine(f'mysql+mysqlconnector://{user}:{password}@{host}/{database}')\n",
    "    return engine\n",
    "\n",
    "def load_csv(path, tb_name):\n",
    "    engine = create_connection('localhost','CLOUDY','1234','yammers')\n",
    "    df = pd.read_csv(path)\n",
    "    df.to_sql(name= tb_name,\n",
    "                con = engine,\n",
    "                if_exists = 'replace',\n",
    "                index = False)    "
   ]
  },
  {
   "cell_type": "code",
   "execution_count": null,
   "metadata": {},
   "outputs": [],
   "source": [
    "load_csv('./yammers_data/yammer_emails.csv', 'emails')\n",
    "load_csv('./yammers_data/yammer_events.csv', 'events')\n",
    "load_csv('./yammers_data/yammer_users.csv', 'users')"
   ]
  }
 ],
 "metadata": {
  "language_info": {
   "name": "python"
  }
 },
 "nbformat": 4,
 "nbformat_minor": 2
}
