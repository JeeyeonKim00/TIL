{
 "cells": [
  {
   "cell_type": "markdown",
   "metadata": {},
   "source": [
    "# LSA (Latent Semantic Analysis, LSA)\n",
    "- BoW에 기반한 DTM, TF-IDF는 단어 빈도 수를 이용한 수치화 방법. 따라서 단어의 의미를 고려하지 못함(=토픽을 고려하지 못함)\n",
    "- LSA는 잠재된 의미를 이끌어내는 방법. LSI(Latent Semantic Indexing)이라고도 불림\n",
    "- LSA에서는 특이값 분해(SVD)가 중요하다.\n",
    "  - A = UΣV(T)\n",
    "  - 여기서 각 행렬의 모든 요소를 선택하면 Full SVD가 되고, 상위값 t개만 남기게 되면 Truncated SVD가 된다. 이 t가 바로 찾고자 하는 토픽의 수를 반영한 하이퍼 파라미터 값이다. \n",
    "  - t를 크게 잡으면 기존 행렬에서 다양한 의미를 가져갈 수 있지만, t를 작게 잡아야만 노이즈를 제거할 수 있다.(설명력이 높은 정보만 남긴다.)\n",
    "\n",
    "- LSA는 DTM이나 TF-IDF 행렬에 Truncated SVD를 사용하여 차원을 축소시키고, 단어들의 잠재적인 의미를 끌\n"
   ]
  },
  {
   "cell_type": "markdown",
   "metadata": {},
   "source": [
    "### 1. Full SVD"
   ]
  },
  {
   "cell_type": "code",
   "execution_count": 1,
   "metadata": {},
   "outputs": [
    {
     "name": "stdout",
     "output_type": "stream",
     "text": [
      "DTM의 크기:  (4, 9)\n"
     ]
    }
   ],
   "source": [
    "import numpy as np\n",
    "\n",
    "A = np.array([[0,0,0,1,0,1,1,0,0],[0,0,0,1,1,0,1,0,0],[0,1,1,0,2,0,0,0,0],[1,0,0,0,0,0,0,1,1]])\n",
    "print('DTM의 크기: ', np.shape(A))"
   ]
  },
  {
   "cell_type": "code",
   "execution_count": 2,
   "metadata": {},
   "outputs": [
    {
     "data": {
      "text/plain": [
       "array([[0, 0, 0, 1, 0, 1, 1, 0, 0],\n",
       "       [0, 0, 0, 1, 1, 0, 1, 0, 0],\n",
       "       [0, 1, 1, 0, 2, 0, 0, 0, 0],\n",
       "       [1, 0, 0, 0, 0, 0, 0, 1, 1]])"
      ]
     },
     "execution_count": 2,
     "metadata": {},
     "output_type": "execute_result"
    }
   ],
   "source": [
    "A"
   ]
  },
  {
   "cell_type": "code",
   "execution_count": 3,
   "metadata": {},
   "outputs": [
    {
     "name": "stdout",
     "output_type": "stream",
     "text": [
      "행렬 U :\n",
      "[[-0.24  0.75  0.   -0.62]\n",
      " [-0.51  0.44 -0.    0.74]\n",
      " [-0.83 -0.49 -0.   -0.27]\n",
      " [-0.   -0.    1.    0.  ]]\n",
      "행렬 U의 크기(shape) : (4, 4)\n"
     ]
    }
   ],
   "source": [
    "U,s,VT = np.linalg.svd(A, full_matrices= True)\n",
    "print('행렬 U :')\n",
    "print(U.round(2))\n",
    "print('행렬 U의 크기(shape) :',np.shape(U))"
   ]
  },
  {
   "cell_type": "code",
   "execution_count": 4,
   "metadata": {},
   "outputs": [
    {
     "name": "stdout",
     "output_type": "stream",
     "text": [
      "특이값 벡터 :\n",
      "[2.69 2.05 1.73 0.77]\n",
      "특이값 벡터의 크기(shape) : (4,)\n"
     ]
    }
   ],
   "source": [
    "print('특이값 벡터 :')\n",
    "print(s.round(2))\n",
    "print('특이값 벡터의 크기(shape) :',np.shape(s))\n"
   ]
  },
  {
   "cell_type": "code",
   "execution_count": 5,
   "metadata": {},
   "outputs": [
    {
     "name": "stdout",
     "output_type": "stream",
     "text": [
      "대각 행렬 S :\n",
      "[[2.69 0.   0.   0.   0.   0.   0.   0.   0.  ]\n",
      " [0.   2.05 0.   0.   0.   0.   0.   0.   0.  ]\n",
      " [0.   0.   1.73 0.   0.   0.   0.   0.   0.  ]\n",
      " [0.   0.   0.   0.77 0.   0.   0.   0.   0.  ]]\n",
      "대각 행렬의 크기(shape) :\n",
      "(4, 9)\n"
     ]
    }
   ],
   "source": [
    "S = np.zeros((4,9))\n",
    "\n",
    "S[:4,:4] = np.diag(s)\n",
    "print('대각 행렬 S :')\n",
    "print(S.round(2))\n",
    "\n",
    "print('대각 행렬의 크기(shape) :')\n",
    "print(np.shape(S))"
   ]
  },
  {
   "cell_type": "code",
   "execution_count": 6,
   "metadata": {},
   "outputs": [
    {
     "name": "stdout",
     "output_type": "stream",
     "text": [
      "직교행렬 VT :\n",
      "[[-0.   -0.31 -0.31 -0.28 -0.8  -0.09 -0.28 -0.   -0.  ]\n",
      " [ 0.   -0.24 -0.24  0.58 -0.26  0.37  0.58 -0.   -0.  ]\n",
      " [ 0.58 -0.    0.    0.   -0.    0.   -0.    0.58  0.58]\n",
      " [ 0.   -0.35 -0.35  0.16  0.25 -0.8   0.16 -0.   -0.  ]\n",
      " [-0.   -0.78 -0.01 -0.2   0.4   0.4  -0.2   0.    0.  ]\n",
      " [-0.29  0.31 -0.78 -0.24  0.23  0.23  0.01  0.14  0.14]\n",
      " [-0.29 -0.1   0.26 -0.59 -0.08 -0.08  0.66  0.14  0.14]\n",
      " [-0.5  -0.06  0.15  0.24 -0.05 -0.05 -0.19  0.75 -0.25]\n",
      " [-0.5  -0.06  0.15  0.24 -0.05 -0.05 -0.19 -0.25  0.75]]\n",
      "직교 행렬 VT의 크기(shape) :\n",
      "(9, 9)\n"
     ]
    }
   ],
   "source": [
    "print('직교행렬 VT :')\n",
    "print(VT.round(2))\n",
    "\n",
    "print('직교 행렬 VT의 크기(shape) :')\n",
    "print(np.shape(VT))\n"
   ]
  },
  {
   "cell_type": "code",
   "execution_count": 7,
   "metadata": {},
   "outputs": [
    {
     "data": {
      "text/plain": [
       "True"
      ]
     },
     "execution_count": 7,
     "metadata": {},
     "output_type": "execute_result"
    }
   ],
   "source": [
    "# allclose() : 2개의 행렬이 동일하면 True를 리턴.\n",
    "np.allclose(A, np.dot(np.dot(U,S),VT).round(2) )"
   ]
  },
  {
   "cell_type": "markdown",
   "metadata": {},
   "source": [
    "### 2. Truncated SVD"
   ]
  },
  {
   "cell_type": "code",
   "execution_count": 8,
   "metadata": {},
   "outputs": [
    {
     "data": {
      "text/plain": [
       "array([[2.68731789, 0.        , 0.        , 0.        , 0.        ,\n",
       "        0.        , 0.        , 0.        , 0.        ],\n",
       "       [0.        , 2.04508425, 0.        , 0.        , 0.        ,\n",
       "        0.        , 0.        , 0.        , 0.        ],\n",
       "       [0.        , 0.        , 1.73205081, 0.        , 0.        ,\n",
       "        0.        , 0.        , 0.        , 0.        ],\n",
       "       [0.        , 0.        , 0.        , 0.77197992, 0.        ,\n",
       "        0.        , 0.        , 0.        , 0.        ]])"
      ]
     },
     "execution_count": 8,
     "metadata": {},
     "output_type": "execute_result"
    }
   ],
   "source": [
    "S"
   ]
  },
  {
   "cell_type": "code",
   "execution_count": 9,
   "metadata": {},
   "outputs": [
    {
     "name": "stdout",
     "output_type": "stream",
     "text": [
      "대각 행렬 S :\n",
      "[[2.69 0.  ]\n",
      " [0.   2.05]]\n"
     ]
    }
   ],
   "source": [
    "# 특이값 상위 2개만 보존\n",
    "S = S[:2,:2]\n",
    "\n",
    "print('대각 행렬 S :')\n",
    "print(S.round(2))\n"
   ]
  },
  {
   "cell_type": "code",
   "execution_count": 10,
   "metadata": {},
   "outputs": [
    {
     "name": "stdout",
     "output_type": "stream",
     "text": [
      "행렬 U :\n",
      "[[-0.24  0.75]\n",
      " [-0.51  0.44]\n",
      " [-0.83 -0.49]\n",
      " [-0.   -0.  ]]\n"
     ]
    }
   ],
   "source": [
    "U = U[:,:2]\n",
    "print('행렬 U :')\n",
    "print(U.round(2))\n"
   ]
  },
  {
   "cell_type": "code",
   "execution_count": 11,
   "metadata": {},
   "outputs": [
    {
     "name": "stdout",
     "output_type": "stream",
     "text": [
      "직교행렬 VT :\n",
      "[[-0.   -0.31 -0.31 -0.28 -0.8  -0.09 -0.28 -0.   -0.  ]\n",
      " [ 0.   -0.24 -0.24  0.58 -0.26  0.37  0.58 -0.   -0.  ]]\n"
     ]
    }
   ],
   "source": [
    "VT = VT[:2,:]\n",
    "print('직교행렬 VT :')\n",
    "print(VT.round(2))"
   ]
  },
  {
   "cell_type": "code",
   "execution_count": 12,
   "metadata": {},
   "outputs": [
    {
     "name": "stdout",
     "output_type": "stream",
     "text": [
      "[[0 0 0 1 0 1 1 0 0]\n",
      " [0 0 0 1 1 0 1 0 0]\n",
      " [0 1 1 0 2 0 0 0 0]\n",
      " [1 0 0 0 0 0 0 1 1]]\n",
      "\n",
      "[[ 0.   -0.17 -0.17  1.08  0.12  0.62  1.08 -0.   -0.  ]\n",
      " [ 0.    0.2   0.2   0.91  0.86  0.45  0.91  0.    0.  ]\n",
      " [ 0.    0.93  0.93  0.03  2.05 -0.17  0.03  0.    0.  ]\n",
      " [ 0.    0.    0.    0.    0.    0.    0.    0.    0.  ]]\n"
     ]
    }
   ],
   "source": [
    "A_prime = np.dot(np.dot(U,S),VT)\n",
    "print(A)\n",
    "print()\n",
    "print(A_prime.round(2))"
   ]
  },
  {
   "cell_type": "markdown",
   "metadata": {},
   "source": [
    "- 원래 문서 A의 크기 = (4,9). 즉, 4개의 문서와 각 문서는 9개의 단어로 구성되어 있다는 것.\n",
    "- 축소된 U 는 (4,2)의 크기. 이는 4개의 문서 * 토픽의 수(t)이다. 다시 말하면, 문서 각각을 2개의 값으로 표현하고 있는 것. U의 각 행은 잠재의미를 표현하기 위해 수치화된 각각의 `문서 벡터`.\n",
    "- 축소된 VT는 (2,9)의 크기. 이는 토픽의 수*단어의 개수의 크기다. VT의 각 열은 잠재 의미를 표현하기 위해 수치화된 각각의 `단어 벡터`라고 볼 수 있다.\n",
    "- 이 문서 벡터와 단어 벡터를 통해 다른 문서의 유사도, 다른 단어의 유사도, 단어로부터 문서의 유사도를 구하는 것이 가능하다."
   ]
  },
  {
   "cell_type": "markdown",
   "metadata": {},
   "source": [
    "#### 1) 뉴스그룹 데이터에 대한 이해"
   ]
  },
  {
   "cell_type": "code",
   "execution_count": 13,
   "metadata": {},
   "outputs": [],
   "source": [
    "import pandas as pd\n",
    "from sklearn.datasets import fetch_20newsgroups\n",
    "import nltk\n",
    "from nltk.corpus import stopwords\n",
    "from sklearn.feature_extraction.text import TfidfVectorizer\n",
    "from sklearn.decomposition import TruncatedSVD"
   ]
  },
  {
   "cell_type": "code",
   "execution_count": 14,
   "metadata": {},
   "outputs": [
    {
     "name": "stdout",
     "output_type": "stream",
     "text": [
      "샘플의 수: 11314\n"
     ]
    }
   ],
   "source": [
    "dataset = fetch_20newsgroups(shuffle=True, random_state=1,remove=('headers','footers','quotes'))\n",
    "documents = dataset.data\n",
    "print(f'샘플의 수: {len(documents)}')"
   ]
  },
  {
   "cell_type": "code",
   "execution_count": 15,
   "metadata": {},
   "outputs": [
    {
     "data": {
      "text/plain": [
       "['DESCR', 'data', 'filenames', 'target', 'target_names']"
      ]
     },
     "execution_count": 15,
     "metadata": {},
     "output_type": "execute_result"
    }
   ],
   "source": [
    "dir(dataset)"
   ]
  },
  {
   "cell_type": "code",
   "execution_count": 16,
   "metadata": {},
   "outputs": [
    {
     "data": {
      "text/plain": [
       "array([17,  0, 17, ...,  9,  4,  9])"
      ]
     },
     "execution_count": 16,
     "metadata": {},
     "output_type": "execute_result"
    }
   ],
   "source": [
    "# 각 뉴스가 어느 그룹에 속하는지.\n",
    "dataset.target"
   ]
  },
  {
   "cell_type": "code",
   "execution_count": 17,
   "metadata": {},
   "outputs": [
    {
     "data": {
      "text/plain": [
       "['alt.atheism',\n",
       " 'comp.graphics',\n",
       " 'comp.os.ms-windows.misc',\n",
       " 'comp.sys.ibm.pc.hardware',\n",
       " 'comp.sys.mac.hardware',\n",
       " 'comp.windows.x',\n",
       " 'misc.forsale',\n",
       " 'rec.autos',\n",
       " 'rec.motorcycles',\n",
       " 'rec.sport.baseball',\n",
       " 'rec.sport.hockey',\n",
       " 'sci.crypt',\n",
       " 'sci.electronics',\n",
       " 'sci.med',\n",
       " 'sci.space',\n",
       " 'soc.religion.christian',\n",
       " 'talk.politics.guns',\n",
       " 'talk.politics.mideast',\n",
       " 'talk.politics.misc',\n",
       " 'talk.religion.misc']"
      ]
     },
     "execution_count": 17,
     "metadata": {},
     "output_type": "execute_result"
    }
   ],
   "source": [
    "dataset.target_names"
   ]
  },
  {
   "cell_type": "markdown",
   "metadata": {},
   "source": [
    "#### 2) 텍스트 전처리"
   ]
  },
  {
   "cell_type": "markdown",
   "metadata": {},
   "source": [
    "##### ① 문자 처리"
   ]
  },
  {
   "cell_type": "code",
   "execution_count": 18,
   "metadata": {},
   "outputs": [],
   "source": [
    "news_df = pd.DataFrame({'documents':documents})\n",
    "\n",
    "# 특수문자 제거\n",
    "news_df['clean_doc'] = news_df['documents'].str.replace(\"[^a-zA-Z]\",\" \")\n",
    "\n",
    "# 길이가 3이하인 단어 제거(길이 짧은 단어 제거)\n",
    "news_df['clean_doc'] = news_df['clean_doc'].apply(lambda row: ' '.join([w for w in row.split() if len(w)>3]))\n",
    "\n",
    "# 전체 단어에 대한 소문자 변환\n",
    "news_df['clean_doc'] = news_df['clean_doc'].apply(lambda row: row.lower())"
   ]
  },
  {
   "cell_type": "code",
   "execution_count": 19,
   "metadata": {},
   "outputs": [
    {
     "data": {
      "text/plain": [
       "\"yeah, expect people read faq, etc. actually accept hard atheism? need little leap faith, jimmy. your logic runs steam! jim, sorry can't pity you, jim. sorry that have these feelings denial about faith need well, just pretend that will happily ever after anyway. maybe start newsgroup, alt.atheist.hard, won't bummin' much? bye-bye, jim. don't forget your flintstone's chewables! bake timmons,\""
      ]
     },
     "execution_count": 19,
     "metadata": {},
     "output_type": "execute_result"
    }
   ],
   "source": [
    "news_df['clean_doc'][1]"
   ]
  },
  {
   "cell_type": "markdown",
   "metadata": {},
   "source": [
    "##### ② 토큰화 & 불용어 제거"
   ]
  },
  {
   "cell_type": "code",
   "execution_count": 20,
   "metadata": {},
   "outputs": [],
   "source": [
    "# nltk.download('stopwords')"
   ]
  },
  {
   "cell_type": "code",
   "execution_count": 21,
   "metadata": {},
   "outputs": [
    {
     "data": {
      "text/plain": [
       "['i',\n",
       " 'me',\n",
       " 'my',\n",
       " 'myself',\n",
       " 'we',\n",
       " 'our',\n",
       " 'ours',\n",
       " 'ourselves',\n",
       " 'you',\n",
       " \"you're\",\n",
       " \"you've\",\n",
       " \"you'll\",\n",
       " \"you'd\",\n",
       " 'your',\n",
       " 'yours',\n",
       " 'yourself',\n",
       " 'yourselves',\n",
       " 'he',\n",
       " 'him',\n",
       " 'his',\n",
       " 'himself',\n",
       " 'she',\n",
       " \"she's\",\n",
       " 'her',\n",
       " 'hers',\n",
       " 'herself',\n",
       " 'it',\n",
       " \"it's\",\n",
       " 'its',\n",
       " 'itself',\n",
       " 'they',\n",
       " 'them',\n",
       " 'their',\n",
       " 'theirs',\n",
       " 'themselves',\n",
       " 'what',\n",
       " 'which',\n",
       " 'who',\n",
       " 'whom',\n",
       " 'this',\n",
       " 'that',\n",
       " \"that'll\",\n",
       " 'these',\n",
       " 'those',\n",
       " 'am',\n",
       " 'is',\n",
       " 'are',\n",
       " 'was',\n",
       " 'were',\n",
       " 'be',\n",
       " 'been',\n",
       " 'being',\n",
       " 'have',\n",
       " 'has',\n",
       " 'had',\n",
       " 'having',\n",
       " 'do',\n",
       " 'does',\n",
       " 'did',\n",
       " 'doing',\n",
       " 'a',\n",
       " 'an',\n",
       " 'the',\n",
       " 'and',\n",
       " 'but',\n",
       " 'if',\n",
       " 'or',\n",
       " 'because',\n",
       " 'as',\n",
       " 'until',\n",
       " 'while',\n",
       " 'of',\n",
       " 'at',\n",
       " 'by',\n",
       " 'for',\n",
       " 'with',\n",
       " 'about',\n",
       " 'against',\n",
       " 'between',\n",
       " 'into',\n",
       " 'through',\n",
       " 'during',\n",
       " 'before',\n",
       " 'after',\n",
       " 'above',\n",
       " 'below',\n",
       " 'to',\n",
       " 'from',\n",
       " 'up',\n",
       " 'down',\n",
       " 'in',\n",
       " 'out',\n",
       " 'on',\n",
       " 'off',\n",
       " 'over',\n",
       " 'under',\n",
       " 'again',\n",
       " 'further',\n",
       " 'then',\n",
       " 'once',\n",
       " 'here',\n",
       " 'there',\n",
       " 'when',\n",
       " 'where',\n",
       " 'why',\n",
       " 'how',\n",
       " 'all',\n",
       " 'any',\n",
       " 'both',\n",
       " 'each',\n",
       " 'few',\n",
       " 'more',\n",
       " 'most',\n",
       " 'other',\n",
       " 'some',\n",
       " 'such',\n",
       " 'no',\n",
       " 'nor',\n",
       " 'not',\n",
       " 'only',\n",
       " 'own',\n",
       " 'same',\n",
       " 'so',\n",
       " 'than',\n",
       " 'too',\n",
       " 'very',\n",
       " 's',\n",
       " 't',\n",
       " 'can',\n",
       " 'will',\n",
       " 'just',\n",
       " 'don',\n",
       " \"don't\",\n",
       " 'should',\n",
       " \"should've\",\n",
       " 'now',\n",
       " 'd',\n",
       " 'll',\n",
       " 'm',\n",
       " 'o',\n",
       " 're',\n",
       " 've',\n",
       " 'y',\n",
       " 'ain',\n",
       " 'aren',\n",
       " \"aren't\",\n",
       " 'couldn',\n",
       " \"couldn't\",\n",
       " 'didn',\n",
       " \"didn't\",\n",
       " 'doesn',\n",
       " \"doesn't\",\n",
       " 'hadn',\n",
       " \"hadn't\",\n",
       " 'hasn',\n",
       " \"hasn't\",\n",
       " 'haven',\n",
       " \"haven't\",\n",
       " 'isn',\n",
       " \"isn't\",\n",
       " 'ma',\n",
       " 'mightn',\n",
       " \"mightn't\",\n",
       " 'mustn',\n",
       " \"mustn't\",\n",
       " 'needn',\n",
       " \"needn't\",\n",
       " 'shan',\n",
       " \"shan't\",\n",
       " 'shouldn',\n",
       " \"shouldn't\",\n",
       " 'wasn',\n",
       " \"wasn't\",\n",
       " 'weren',\n",
       " \"weren't\",\n",
       " 'won',\n",
       " \"won't\",\n",
       " 'wouldn',\n",
       " \"wouldn't\"]"
      ]
     },
     "execution_count": 21,
     "metadata": {},
     "output_type": "execute_result"
    }
   ],
   "source": [
    "# NLTK로부터 불용어 받아옴.\n",
    "stop_words = stopwords.words('english')\n",
    "stop_words"
   ]
  },
  {
   "cell_type": "code",
   "execution_count": 22,
   "metadata": {},
   "outputs": [
    {
     "data": {
      "text/plain": [
       "0        [well, sure, about, story, seem, biased., what...\n",
       "1        [yeah,, expect, people, read, faq,, etc., actu...\n",
       "2        [although, realize, that, principle, your, str...\n",
       "3        [notwithstanding, legitimate, fuss, about, thi...\n",
       "4        [well,, will, have, change, scoring, playoff, ...\n",
       "                               ...                        \n",
       "11309    [danny, rubenstein,, israeli, journalist,, wil...\n",
       "11310                                                   []\n",
       "11311    [agree., home, runs, clemens, always, memorabl...\n",
       "11312    [used, deskjet, with, orange, micros, grappler...\n",
       "11313    [^^^^^^, argument, with, murphy., scared, hell...\n",
       "Name: clean_doc, Length: 11314, dtype: object"
      ]
     },
     "execution_count": 22,
     "metadata": {},
     "output_type": "execute_result"
    }
   ],
   "source": [
    "# 토큰화\n",
    "tokenized_doc = news_df['clean_doc'].apply(lambda x: x.split())\n",
    "tokenized_doc"
   ]
  },
  {
   "cell_type": "code",
   "execution_count": 23,
   "metadata": {},
   "outputs": [
    {
     "data": {
      "text/plain": [
       "0        [well, sure, story, seem, biased., disagree, s...\n",
       "1        [yeah,, expect, people, read, faq,, etc., actu...\n",
       "2        [although, realize, principle, strongest, poin...\n",
       "3        [notwithstanding, legitimate, fuss, proposal,,...\n",
       "4        [well,, change, scoring, playoff, pool., unfor...\n",
       "                               ...                        \n",
       "11309    [danny, rubenstein,, israeli, journalist,, spe...\n",
       "11310                                                   []\n",
       "11311    [agree., home, runs, clemens, always, memorabl...\n",
       "11312    [used, deskjet, orange, micros, grappler, syst...\n",
       "11313    [^^^^^^, argument, murphy., scared, hell, came...\n",
       "Name: clean_doc, Length: 11314, dtype: object"
      ]
     },
     "execution_count": 23,
     "metadata": {},
     "output_type": "execute_result"
    }
   ],
   "source": [
    "tokenized_doc = tokenized_doc.apply(lambda x: [item for item in x if item not in stop_words])\n",
    "tokenized_doc"
   ]
  },
  {
   "cell_type": "markdown",
   "metadata": {},
   "source": [
    "#### 3)TF-IDF 행렬 만들기\n",
    "- TfidfVectorizer는 기본적으로 토큰화가 되어있지 않은 텍스트 데이터를 입력으로 사용한다.\n",
    "- 따라서 역토큰화(Detokenization)을 진행해보겠음."
   ]
  },
  {
   "cell_type": "markdown",
   "metadata": {},
   "source": [
    "##### ① 역토큰화"
   ]
  },
  {
   "cell_type": "code",
   "execution_count": 24,
   "metadata": {},
   "outputs": [
    {
     "data": {
      "text/html": [
       "<div>\n",
       "<style scoped>\n",
       "    .dataframe tbody tr th:only-of-type {\n",
       "        vertical-align: middle;\n",
       "    }\n",
       "\n",
       "    .dataframe tbody tr th {\n",
       "        vertical-align: top;\n",
       "    }\n",
       "\n",
       "    .dataframe thead th {\n",
       "        text-align: right;\n",
       "    }\n",
       "</style>\n",
       "<table border=\"1\" class=\"dataframe\">\n",
       "  <thead>\n",
       "    <tr style=\"text-align: right;\">\n",
       "      <th></th>\n",
       "      <th>documents</th>\n",
       "      <th>clean_doc</th>\n",
       "    </tr>\n",
       "  </thead>\n",
       "  <tbody>\n",
       "    <tr>\n",
       "      <th>0</th>\n",
       "      <td>Well i'm not sure about the story nad it did s...</td>\n",
       "      <td>well sure about story seem biased. what disagr...</td>\n",
       "    </tr>\n",
       "    <tr>\n",
       "      <th>1</th>\n",
       "      <td>\\n\\n\\n\\n\\n\\n\\nYeah, do you expect people to re...</td>\n",
       "      <td>yeah, expect people read faq, etc. actually ac...</td>\n",
       "    </tr>\n",
       "    <tr>\n",
       "      <th>2</th>\n",
       "      <td>Although I realize that principle is not one o...</td>\n",
       "      <td>although realize that principle your strongest...</td>\n",
       "    </tr>\n",
       "    <tr>\n",
       "      <th>3</th>\n",
       "      <td>Notwithstanding all the legitimate fuss about ...</td>\n",
       "      <td>notwithstanding legitimate fuss about this pro...</td>\n",
       "    </tr>\n",
       "    <tr>\n",
       "      <th>4</th>\n",
       "      <td>Well, I will have to change the scoring on my ...</td>\n",
       "      <td>well, will have change scoring playoff pool. u...</td>\n",
       "    </tr>\n",
       "    <tr>\n",
       "      <th>...</th>\n",
       "      <td>...</td>\n",
       "      <td>...</td>\n",
       "    </tr>\n",
       "    <tr>\n",
       "      <th>11309</th>\n",
       "      <td>Danny Rubenstein, an Israeli journalist, will ...</td>\n",
       "      <td>danny rubenstein, israeli journalist, will spe...</td>\n",
       "    </tr>\n",
       "    <tr>\n",
       "      <th>11310</th>\n",
       "      <td>\\n</td>\n",
       "      <td></td>\n",
       "    </tr>\n",
       "    <tr>\n",
       "      <th>11311</th>\n",
       "      <td>\\nI agree.  Home runs off Clemens are always m...</td>\n",
       "      <td>agree. home runs clemens always memorable. kin...</td>\n",
       "    </tr>\n",
       "    <tr>\n",
       "      <th>11312</th>\n",
       "      <td>I used HP DeskJet with Orange Micros Grappler ...</td>\n",
       "      <td>used deskjet with orange micros grappler syste...</td>\n",
       "    </tr>\n",
       "    <tr>\n",
       "      <th>11313</th>\n",
       "      <td>^^^^^^\\n...</td>\n",
       "      <td>^^^^^^ argument with murphy. scared hell when ...</td>\n",
       "    </tr>\n",
       "  </tbody>\n",
       "</table>\n",
       "<p>11314 rows × 2 columns</p>\n",
       "</div>"
      ],
      "text/plain": [
       "                                               documents  \\\n",
       "0      Well i'm not sure about the story nad it did s...   \n",
       "1      \\n\\n\\n\\n\\n\\n\\nYeah, do you expect people to re...   \n",
       "2      Although I realize that principle is not one o...   \n",
       "3      Notwithstanding all the legitimate fuss about ...   \n",
       "4      Well, I will have to change the scoring on my ...   \n",
       "...                                                  ...   \n",
       "11309  Danny Rubenstein, an Israeli journalist, will ...   \n",
       "11310                                                 \\n   \n",
       "11311  \\nI agree.  Home runs off Clemens are always m...   \n",
       "11312  I used HP DeskJet with Orange Micros Grappler ...   \n",
       "11313                                        ^^^^^^\\n...   \n",
       "\n",
       "                                               clean_doc  \n",
       "0      well sure about story seem biased. what disagr...  \n",
       "1      yeah, expect people read faq, etc. actually ac...  \n",
       "2      although realize that principle your strongest...  \n",
       "3      notwithstanding legitimate fuss about this pro...  \n",
       "4      well, will have change scoring playoff pool. u...  \n",
       "...                                                  ...  \n",
       "11309  danny rubenstein, israeli journalist, will spe...  \n",
       "11310                                                     \n",
       "11311  agree. home runs clemens always memorable. kin...  \n",
       "11312  used deskjet with orange micros grappler syste...  \n",
       "11313  ^^^^^^ argument with murphy. scared hell when ...  \n",
       "\n",
       "[11314 rows x 2 columns]"
      ]
     },
     "execution_count": 24,
     "metadata": {},
     "output_type": "execute_result"
    }
   ],
   "source": [
    "news_df"
   ]
  },
  {
   "cell_type": "code",
   "execution_count": 25,
   "metadata": {},
   "outputs": [],
   "source": [
    "# 역토큰화\n",
    "detokenized_doc = []\n",
    "for i in range(len(news_df)):\n",
    "    t = ' '.join(tokenized_doc[i])\n",
    "    detokenized_doc.append(t)\n",
    "\n",
    "news_df['clean_doc'] = detokenized_doc"
   ]
  },
  {
   "cell_type": "code",
   "execution_count": 26,
   "metadata": {},
   "outputs": [
    {
     "data": {
      "text/html": [
       "<div>\n",
       "<style scoped>\n",
       "    .dataframe tbody tr th:only-of-type {\n",
       "        vertical-align: middle;\n",
       "    }\n",
       "\n",
       "    .dataframe tbody tr th {\n",
       "        vertical-align: top;\n",
       "    }\n",
       "\n",
       "    .dataframe thead th {\n",
       "        text-align: right;\n",
       "    }\n",
       "</style>\n",
       "<table border=\"1\" class=\"dataframe\">\n",
       "  <thead>\n",
       "    <tr style=\"text-align: right;\">\n",
       "      <th></th>\n",
       "      <th>documents</th>\n",
       "      <th>clean_doc</th>\n",
       "    </tr>\n",
       "  </thead>\n",
       "  <tbody>\n",
       "    <tr>\n",
       "      <th>0</th>\n",
       "      <td>Well i'm not sure about the story nad it did s...</td>\n",
       "      <td>well sure story seem biased. disagree statemen...</td>\n",
       "    </tr>\n",
       "    <tr>\n",
       "      <th>1</th>\n",
       "      <td>\\n\\n\\n\\n\\n\\n\\nYeah, do you expect people to re...</td>\n",
       "      <td>yeah, expect people read faq, etc. actually ac...</td>\n",
       "    </tr>\n",
       "    <tr>\n",
       "      <th>2</th>\n",
       "      <td>Although I realize that principle is not one o...</td>\n",
       "      <td>although realize principle strongest points, w...</td>\n",
       "    </tr>\n",
       "    <tr>\n",
       "      <th>3</th>\n",
       "      <td>Notwithstanding all the legitimate fuss about ...</td>\n",
       "      <td>notwithstanding legitimate fuss proposal, much...</td>\n",
       "    </tr>\n",
       "    <tr>\n",
       "      <th>4</th>\n",
       "      <td>Well, I will have to change the scoring on my ...</td>\n",
       "      <td>well, change scoring playoff pool. unfortunate...</td>\n",
       "    </tr>\n",
       "    <tr>\n",
       "      <th>...</th>\n",
       "      <td>...</td>\n",
       "      <td>...</td>\n",
       "    </tr>\n",
       "    <tr>\n",
       "      <th>11309</th>\n",
       "      <td>Danny Rubenstein, an Israeli journalist, will ...</td>\n",
       "      <td>danny rubenstein, israeli journalist, speaking...</td>\n",
       "    </tr>\n",
       "    <tr>\n",
       "      <th>11310</th>\n",
       "      <td>\\n</td>\n",
       "      <td></td>\n",
       "    </tr>\n",
       "    <tr>\n",
       "      <th>11311</th>\n",
       "      <td>\\nI agree.  Home runs off Clemens are always m...</td>\n",
       "      <td>agree. home runs clemens always memorable. kin...</td>\n",
       "    </tr>\n",
       "    <tr>\n",
       "      <th>11312</th>\n",
       "      <td>I used HP DeskJet with Orange Micros Grappler ...</td>\n",
       "      <td>used deskjet orange micros grappler system6.0....</td>\n",
       "    </tr>\n",
       "    <tr>\n",
       "      <th>11313</th>\n",
       "      <td>^^^^^^\\n...</td>\n",
       "      <td>^^^^^^ argument murphy. scared hell came last ...</td>\n",
       "    </tr>\n",
       "  </tbody>\n",
       "</table>\n",
       "<p>11314 rows × 2 columns</p>\n",
       "</div>"
      ],
      "text/plain": [
       "                                               documents  \\\n",
       "0      Well i'm not sure about the story nad it did s...   \n",
       "1      \\n\\n\\n\\n\\n\\n\\nYeah, do you expect people to re...   \n",
       "2      Although I realize that principle is not one o...   \n",
       "3      Notwithstanding all the legitimate fuss about ...   \n",
       "4      Well, I will have to change the scoring on my ...   \n",
       "...                                                  ...   \n",
       "11309  Danny Rubenstein, an Israeli journalist, will ...   \n",
       "11310                                                 \\n   \n",
       "11311  \\nI agree.  Home runs off Clemens are always m...   \n",
       "11312  I used HP DeskJet with Orange Micros Grappler ...   \n",
       "11313                                        ^^^^^^\\n...   \n",
       "\n",
       "                                               clean_doc  \n",
       "0      well sure story seem biased. disagree statemen...  \n",
       "1      yeah, expect people read faq, etc. actually ac...  \n",
       "2      although realize principle strongest points, w...  \n",
       "3      notwithstanding legitimate fuss proposal, much...  \n",
       "4      well, change scoring playoff pool. unfortunate...  \n",
       "...                                                  ...  \n",
       "11309  danny rubenstein, israeli journalist, speaking...  \n",
       "11310                                                     \n",
       "11311  agree. home runs clemens always memorable. kin...  \n",
       "11312  used deskjet orange micros grappler system6.0....  \n",
       "11313  ^^^^^^ argument murphy. scared hell came last ...  \n",
       "\n",
       "[11314 rows x 2 columns]"
      ]
     },
     "execution_count": 26,
     "metadata": {},
     "output_type": "execute_result"
    }
   ],
   "source": [
    "news_df"
   ]
  },
  {
   "cell_type": "markdown",
   "metadata": {},
   "source": [
    "##### ② TF-IDF 행렬 생성"
   ]
  },
  {
   "cell_type": "code",
   "execution_count": 27,
   "metadata": {},
   "outputs": [
    {
     "name": "stdout",
     "output_type": "stream",
     "text": [
      "TF-IDF의 행렬의 크기: (11314, 1000)\n"
     ]
    }
   ],
   "source": [
    "vectorizer = TfidfVectorizer(stop_words='english', max_features=1000, # 상위 1000개 단어 보존 \n",
    "                             max_df = 0.5, smooth_idf = True) # max_df = 단어가 너무 자주 나타나는 경우(50%이상의 문서에 나타나는 경우) 해당 단어 무시.\n",
    "\n",
    "X = vectorizer.fit_transform(news_df['clean_doc']) # X = TF-IDF 가중치가 부여된 문서-단어 행렬\n",
    "\n",
    "# TF-IDF의 행렬 크기 확인\n",
    "print(f'TF-IDF의 행렬의 크기: {X.shape}')\n"
   ]
  },
  {
   "cell_type": "markdown",
   "metadata": {},
   "source": [
    "#### 4) 토픽 모델링(Topic Modeling)\n",
    "- 이제 TF-IDF행렬을 다수의 행렬로 분해.\n",
    "- Truncated SVD 사용."
   ]
  },
  {
   "cell_type": "code",
   "execution_count": 28,
   "metadata": {},
   "outputs": [
    {
     "data": {
      "text/plain": [
       "20"
      ]
     },
     "execution_count": 28,
     "metadata": {},
     "output_type": "execute_result"
    }
   ],
   "source": [
    "svd_model = TruncatedSVD(n_components=20, algorithm='randomized',\n",
    "                         n_iter=100, random_state=122)\n",
    "\n",
    "svd_model.fit(X)\n",
    "len(svd_model.components_) # svd_model.components_ = VT에 해당됨."
   ]
  },
  {
   "cell_type": "code",
   "execution_count": 29,
   "metadata": {},
   "outputs": [
    {
     "data": {
      "text/plain": [
       "(20, 1000)"
      ]
     },
     "execution_count": 29,
     "metadata": {},
     "output_type": "execute_result"
    }
   ],
   "source": [
    "np.shape(svd_model.components_) # 토픽의 수(t) * 단어의 수의 크기"
   ]
  },
  {
   "cell_type": "code",
   "execution_count": 30,
   "metadata": {},
   "outputs": [
    {
     "data": {
      "text/plain": [
       "array([166,  48, 397,  45,  33,  32, 385,  57, 143,  23,  44,  47, 131,\n",
       "       203,  37,   6,  24, 948,  38, 717,  56, 167,  49, 522, 664,   5,\n",
       "       266, 398, 265, 975, 142, 130, 596, 819,  13, 594,  74, 851, 149,\n",
       "        43, 558,  36, 508, 477,   4,  53,  31, 855,   2,  40,  46, 879,\n",
       "         3,  75, 330, 226,  27,  35, 123,  28, 551, 756,  60,  54, 776,\n",
       "       579, 391,  20,  52,  26,  18,  17, 109, 921, 757, 947, 835, 712,\n",
       "       916, 348, 104, 580, 824, 933, 872,  86, 994,  29, 284, 628, 843,\n",
       "       355, 555, 973,  11, 810, 865, 301,  85, 237, 816, 383, 242, 635,\n",
       "        16, 624, 804,  39, 323, 868, 638, 278, 907, 151,  19, 122,  51,\n",
       "       436, 914, 711, 964, 840, 966, 146,  67, 705, 633, 112, 595,  42,\n",
       "       749, 359, 119, 120,  79, 124, 772, 715, 834, 369, 320, 475, 615,\n",
       "       465,  84, 976, 632, 230, 903,  55,  68, 541, 409, 556, 327, 787,\n",
       "       228, 663, 754, 926, 170, 100, 229, 642,  81,  70, 963, 862, 331,\n",
       "        50, 428, 967, 125, 445, 238, 252,  92, 353, 103, 767, 899, 920,\n",
       "       692, 299, 478, 713, 113, 660, 317, 708, 790, 148, 280, 741, 334,\n",
       "       289, 452, 821, 108,  64,  97, 106, 251, 915, 847, 953, 261, 696,\n",
       "       739, 496, 244, 589, 940, 676, 584, 381, 160, 172, 537, 768, 651,\n",
       "       115, 648, 554, 619, 101, 740, 565, 923, 724, 192, 782, 471, 225,\n",
       "       591, 206, 597,  88, 287, 784, 904, 970, 968, 729, 337, 703, 366,\n",
       "       499, 313, 343, 954, 322, 805, 791,  78, 506, 304, 750, 250, 993,\n",
       "       693, 886, 734, 918, 856, 137, 190, 998, 336, 587, 662,  80, 709,\n",
       "       990, 243, 121,  93, 571, 490, 168, 204, 399, 306, 743, 257, 520,\n",
       "        82, 344, 174, 792, 631, 439, 214, 460, 379, 231, 958, 293, 135,\n",
       "       396, 463, 532, 536, 259, 305, 358, 329, 492, 295,  58, 303, 882,\n",
       "       667, 262, 647, 222, 686, 751, 722, 752, 362, 302, 748, 453, 925,\n",
       "        21, 405, 766, 382, 643,  12, 285, 850, 509, 223, 138, 578, 561,\n",
       "       514, 669, 544, 332, 769, 678, 494, 636, 566,   9, 625, 312, 193,\n",
       "       564,  30, 425, 935, 268,  76, 480, 208, 158, 688,  41, 390, 152,\n",
       "       600, 677, 707, 956, 753, 297, 652, 128, 159, 179, 576, 735, 491,\n",
       "       572, 661, 282,  96, 841, 838, 911, 742, 983, 539, 905, 294, 414,\n",
       "       276, 773, 815, 809, 370, 395, 525, 403, 592,  14, 456, 136, 608,\n",
       "       163, 863,  65, 955, 292, 932, 357,  34, 682, 169,  91, 211, 132,\n",
       "       909, 762, 644, 946, 620, 837,  10, 111, 189, 568, 928, 269, 283,\n",
       "       987, 878, 777, 233, 974, 656, 869,  15, 449, 808, 825, 286, 209,\n",
       "        63, 326, 654, 457, 716, 110, 341, 885, 602, 999, 420, 354, 446,\n",
       "       833, 421, 590, 874, 733, 941, 799,  25, 485, 697, 978, 574, 623,\n",
       "       224, 563, 891, 690, 549, 521, 760, 806, 200, 412, 410, 542, 388,\n",
       "       666, 870, 906, 858, 737, 826, 640, 732, 464, 450, 258, 432, 738,\n",
       "       360, 372, 702, 607, 288, 501, 377, 102, 679, 934, 197, 240, 349,\n",
       "       701, 852, 930, 182, 548, 606, 866, 861, 924, 234, 347, 187, 367,\n",
       "       695, 127, 881, 575, 621, 435, 959, 281, 761, 316, 593, 550, 473,\n",
       "        89, 952, 467, 650, 487, 793, 604, 689, 745, 196, 277, 800, 162,\n",
       "       502, 458, 384, 260, 504, 969, 376,   8, 949, 977, 256, 781, 630,\n",
       "       534, 184, 161, 469, 440, 533, 333, 497, 725, 529, 164, 803, 264,\n",
       "       553, 639, 133, 610, 645,  61, 363, 416, 598, 246, 527, 857, 573,\n",
       "        77, 601, 888, 498, 854, 961, 375, 482, 646, 822, 221, 718, 614,\n",
       "       552, 945, 723, 321, 205, 674, 483, 658, 801, 215, 117, 443, 875,\n",
       "       655, 345, 817, 883, 156, 296, 374, 670, 965, 848, 629, 583, 939,\n",
       "       342, 758, 165, 991, 212, 500, 765, 307, 241, 273, 479,  98, 466,\n",
       "       328, 314, 599, 311, 315, 371, 795, 684, 979, 641, 887, 818, 680,\n",
       "       612, 118, 889, 236,  22, 424, 516, 481, 177, 710, 419, 569, 672,\n",
       "       350, 605, 150, 675, 275, 210, 936, 873, 451, 771, 981, 807, 116,\n",
       "       543, 759, 649, 489, 706, 618, 434, 448, 175, 415, 849, 157, 418,\n",
       "       802, 433, 154, 814,   7, 227, 736, 198, 582, 444, 352, 511, 107,\n",
       "       798, 755, 588, 232, 474, 279, 392, 783,  95, 581, 912, 853, 325,\n",
       "       318, 876, 147, 213, 902, 247, 895,   0, 627, 253, 180, 988, 960,\n",
       "       423, 507, 335,  72, 626, 764, 744, 775, 747, 877, 989, 270, 185,\n",
       "       429, 300,   1, 380, 917, 462, 310, 505,  94, 239, 845, 786, 938,\n",
       "       951, 401, 671, 488, 271,  83, 727, 788, 812, 447, 248, 871, 339,\n",
       "       476, 570, 785, 531, 356, 201,  62, 468, 346, 796, 153, 274, 831,\n",
       "       813, 470, 778, 426, 207, 513, 622, 811, 178, 495, 685, 191, 194,\n",
       "       441, 202, 547, 217, 830, 962, 927, 459, 984, 860, 929, 249, 827,\n",
       "       290, 309, 183, 842, 105, 389, 922, 900, 519, 538, 186, 557, 779,\n",
       "       368, 254, 919, 493, 535, 616,  99, 829, 832, 577, 980, 173,  69,\n",
       "       908, 828, 586, 220, 720, 361, 901, 216, 417, 272, 437, 298, 263,\n",
       "       407, 609, 199, 378, 144,  73, 338,  87, 659, 188, 394, 611, 524,\n",
       "       373, 637, 668, 944, 562, 114, 820, 245, 413, 957, 546, 567, 387,\n",
       "       613, 438, 985, 839, 145, 503, 714, 340, 134,  71, 898, 585, 694,\n",
       "       770, 155, 971, 129, 943,  90, 665, 454, 859, 844, 864, 634, 780,\n",
       "       365, 195, 731, 657, 484, 797, 746, 461, 997, 235, 517, 691, 324,\n",
       "       846, 472, 913, 442, 515, 721, 411, 789, 393, 171, 431, 267, 880,\n",
       "       700, 560,  59, 510, 836, 823, 896, 681, 992, 126, 427, 400, 794,\n",
       "       728, 422, 351, 559, 291, 364, 617, 910, 986, 408, 386, 683, 176,\n",
       "       687, 530, 704,  66, 455, 140, 255, 219, 218, 884, 181, 406, 528,\n",
       "       518, 726, 526, 698, 719, 308, 892, 540, 523, 673, 430, 141, 996,\n",
       "       893, 937, 867, 402, 139, 774, 972, 995, 982, 931, 699, 730, 603,\n",
       "       319, 950, 763, 545, 942, 890, 897, 404, 894, 653, 486, 512],\n",
       "      dtype=int64)"
      ]
     },
     "execution_count": 30,
     "metadata": {},
     "output_type": "execute_result"
    }
   ],
   "source": [
    "svd_model.components_[0].argsort()"
   ]
  },
  {
   "cell_type": "code",
   "execution_count": 31,
   "metadata": {},
   "outputs": [
    {
     "data": {
      "text/plain": [
       "array([512, 486, 653, 894, 404], dtype=int64)"
      ]
     },
     "execution_count": 31,
     "metadata": {},
     "output_type": "execute_result"
    }
   ],
   "source": [
    "svd_model.components_[0].argsort()[:-5-1:-1]"
   ]
  },
  {
   "cell_type": "code",
   "execution_count": 32,
   "metadata": {},
   "outputs": [
    {
     "name": "stdout",
     "output_type": "stream",
     "text": [
      "Topic 1: [('like', 0.2085), ('know', 0.19656), ('people', 0.1912), ('think', 0.17523), ('good', 0.14902)]\n",
      "Topic 2: [('thanks', 0.31338), ('windows', 0.27934), ('card', 0.17289), ('drive', 0.16141), ('mail', 0.14507)]\n",
      "Topic 3: [('game', 0.36553), ('team', 0.3133), ('year', 0.28465), ('games', 0.23048), ('season', 0.17026)]\n",
      "Topic 4: [('edu', 0.50341), ('thanks', 0.25409), ('mail', 0.1758), ('com', 0.11498), ('email', 0.11166)]\n",
      "Topic 5: [('edu', 0.49934), ('drive', 0.24972), ('com', 0.10645), ('sale', 0.10616), ('soon', 0.09199)]\n",
      "Topic 6: [('drive', 0.40102), ('thanks', 0.34667), ('know', 0.27592), ('scsi', 0.13765), ('mail', 0.11332)]\n",
      "Topic 7: [('chip', 0.21565), ('government', 0.20249), ('like', 0.17148), ('encryption', 0.14654), ('clipper', 0.14478)]\n",
      "Topic 8: [('like', 0.64668), ('edu', 0.31439), ('bike', 0.12683), ('know', 0.12403), ('think', 0.11547)]\n",
      "Topic 9: [('card', 0.3572), ('sale', 0.17543), ('00', 0.17496), ('video', 0.16994), ('good', 0.15574)]\n",
      "Topic 10: [('card', 0.45093), ('people', 0.35248), ('know', 0.26213), ('video', 0.20438), ('edu', 0.18018)]\n",
      "Topic 11: [('like', 0.53784), ('people', 0.29344), ('windows', 0.14585), ('drive', 0.14199), ('game', 0.138)]\n",
      "Topic 12: [('think', 0.73098), ('thanks', 0.19253), ('people', 0.12027), ('mail', 0.11436), ('good', 0.11292)]\n",
      "Topic 13: [('know', 0.21625), ('chip', 0.21482), ('jesus', 0.19227), ('game', 0.1597), ('think', 0.15475)]\n",
      "Topic 14: [('know', 0.33277), ('good', 0.31777), ('people', 0.22055), ('windows', 0.21856), ('file', 0.20588)]\n",
      "Topic 15: [('good', 0.38909), ('chip', 0.22814), ('people', 0.15098), ('clipper', 0.14368), ('encryption', 0.14025)]\n",
      "Topic 16: [('com', 0.6569), ('ve', 0.34058), ('people', 0.20544), ('seen', 0.0979), ('list', 0.09405)]\n",
      "Topic 17: [('ve', 0.38594), ('space', 0.30952), ('people', 0.28754), ('seen', 0.13734), ('heard', 0.13676)]\n",
      "Topic 18: [('good', 0.32101), ('israel', 0.25517), ('card', 0.24702), ('com', 0.1984), ('israeli', 0.13667)]\n",
      "Topic 19: [('ve', 0.54441), ('israel', 0.20771), ('seen', 0.17641), ('00', 0.14313), ('heard', 0.13857)]\n",
      "Topic 20: [('time', 0.34123), ('bike', 0.28176), ('right', 0.25465), ('file', 0.20011), ('need', 0.19803)]\n"
     ]
    }
   ],
   "source": [
    "terms = vectorizer.get_feature_names_out() \n",
    "# 이전의 TF-IDF 변환에 사용한 vectorizer에서 단어집합(1000개단어)을 얻어옴.\n",
    "# TF-IDF 변환에 사용된 단어들을 포함하는 리스트 = terms\n",
    "\n",
    "def get_topics(components, feature_names, n=5):\n",
    "    for idx, topic in enumerate(components):\n",
    "        print(\"Topic %d:\" % (idx+1), [(feature_names[i], topic[i].round(5)) for i in topic.argsort()[:-n - 1:-1]])\n",
    "get_topics(svd_model.components_,terms)\n"
   ]
  },
  {
   "cell_type": "code",
   "execution_count": null,
   "metadata": {},
   "outputs": [],
   "source": []
  },
  {
   "cell_type": "markdown",
   "metadata": {},
   "source": [
    "# LDA (Latent Dirichlet Allocation, 잠재 디리클레 할당)\n",
    "- 토픽 모델링: 문서의 집합에서 토픽을 찾아내는 프로세스.\n",
    "- LDA는 BoW의 행렬 DTM 또는 TF-IDF 행렬을 입력으로 함. -> 즉, LDA는 단어의 순서는 신경쓰지 않는다."
   ]
  },
  {
   "cell_type": "markdown",
   "metadata": {},
   "source": [
    "진행 과정\n",
    "1. 토픽 개수 k를 지정한다. k개의 토픽이 M개의 전체 문서에 걸쳐 분표되어 있다고 가정한다.\n",
    "2. 모든 단어를 k개 중 하나의 토픽에 할당한다.\n",
    "3. 모든 문서의 모든 단어에 대해서 아래의 사항을 반복 진행한다.(iterative)\n"
   ]
  },
  {
   "cell_type": "markdown",
   "metadata": {},
   "source": [
    "LDA - LSA의 차이\n",
    "- LSA: DTM을 차원 축소하여 축소된 차원에서 근접 단어들을 토픽으로 묶는다.\n",
    "- LDA: 단어가 특정 토픽에 존재할 확률과 문서에 특정 토픽이 존재할 확률을 결합확률로 추정하여 토픽을 추출한다."
   ]
  },
  {
   "cell_type": "markdown",
   "metadata": {},
   "source": [
    "### 1. 사이킷런 LDA"
   ]
  },
  {
   "cell_type": "markdown",
   "metadata": {},
   "source": [
    "#### 1) 데이터 이해"
   ]
  },
  {
   "cell_type": "code",
   "execution_count": 41,
   "metadata": {},
   "outputs": [
    {
     "name": "stdout",
     "output_type": "stream",
     "text": [
      "뉴스 제목 개수: 1082168\n"
     ]
    }
   ],
   "source": [
    "import pandas as pd\n",
    "import urllib.request\n",
    "import nltk\n",
    "from nltk.corpus import stopwords\n",
    "from nltk.stem import WordNetLemmatizer\n",
    "from sklearn.feature_extraction.text import TfidfVectorizer\n",
    "from sklearn.decomposition import LatentDirichletAllocation\n",
    "\n",
    "data = pd.read_csv('https://raw.githubusercontent.com/ukairia777/tensorflow-nlp-tutorial/main/19.%20Topic%20Modeling%20(LDA%2C%20BERT-Based)/dataset/abcnews-date-text.csv')\n",
    "print(f'뉴스 제목 개수: {len(data)}')\n"
   ]
  },
  {
   "cell_type": "code",
   "execution_count": 43,
   "metadata": {},
   "outputs": [
    {
     "data": {
      "text/html": [
       "<div>\n",
       "<style scoped>\n",
       "    .dataframe tbody tr th:only-of-type {\n",
       "        vertical-align: middle;\n",
       "    }\n",
       "\n",
       "    .dataframe tbody tr th {\n",
       "        vertical-align: top;\n",
       "    }\n",
       "\n",
       "    .dataframe thead th {\n",
       "        text-align: right;\n",
       "    }\n",
       "</style>\n",
       "<table border=\"1\" class=\"dataframe\">\n",
       "  <thead>\n",
       "    <tr style=\"text-align: right;\">\n",
       "      <th></th>\n",
       "      <th>publish_date</th>\n",
       "      <th>headline_text</th>\n",
       "    </tr>\n",
       "  </thead>\n",
       "  <tbody>\n",
       "    <tr>\n",
       "      <th>0</th>\n",
       "      <td>20030219</td>\n",
       "      <td>aba decides against community broadcasting lic...</td>\n",
       "    </tr>\n",
       "    <tr>\n",
       "      <th>1</th>\n",
       "      <td>20030219</td>\n",
       "      <td>act fire witnesses must be aware of defamation</td>\n",
       "    </tr>\n",
       "    <tr>\n",
       "      <th>2</th>\n",
       "      <td>20030219</td>\n",
       "      <td>a g calls for infrastructure protection summit</td>\n",
       "    </tr>\n",
       "    <tr>\n",
       "      <th>3</th>\n",
       "      <td>20030219</td>\n",
       "      <td>air nz staff in aust strike for pay rise</td>\n",
       "    </tr>\n",
       "    <tr>\n",
       "      <th>4</th>\n",
       "      <td>20030219</td>\n",
       "      <td>air nz strike to affect australian travellers</td>\n",
       "    </tr>\n",
       "  </tbody>\n",
       "</table>\n",
       "</div>"
      ],
      "text/plain": [
       "   publish_date                                      headline_text\n",
       "0      20030219  aba decides against community broadcasting lic...\n",
       "1      20030219     act fire witnesses must be aware of defamation\n",
       "2      20030219     a g calls for infrastructure protection summit\n",
       "3      20030219           air nz staff in aust strike for pay rise\n",
       "4      20030219      air nz strike to affect australian travellers"
      ]
     },
     "execution_count": 43,
     "metadata": {},
     "output_type": "execute_result"
    }
   ],
   "source": [
    "data.head()"
   ]
  },
  {
   "cell_type": "code",
   "execution_count": 44,
   "metadata": {},
   "outputs": [
    {
     "data": {
      "text/html": [
       "<div>\n",
       "<style scoped>\n",
       "    .dataframe tbody tr th:only-of-type {\n",
       "        vertical-align: middle;\n",
       "    }\n",
       "\n",
       "    .dataframe tbody tr th {\n",
       "        vertical-align: top;\n",
       "    }\n",
       "\n",
       "    .dataframe thead th {\n",
       "        text-align: right;\n",
       "    }\n",
       "</style>\n",
       "<table border=\"1\" class=\"dataframe\">\n",
       "  <thead>\n",
       "    <tr style=\"text-align: right;\">\n",
       "      <th></th>\n",
       "      <th>headline_text</th>\n",
       "    </tr>\n",
       "  </thead>\n",
       "  <tbody>\n",
       "    <tr>\n",
       "      <th>0</th>\n",
       "      <td>aba decides against community broadcasting lic...</td>\n",
       "    </tr>\n",
       "    <tr>\n",
       "      <th>1</th>\n",
       "      <td>act fire witnesses must be aware of defamation</td>\n",
       "    </tr>\n",
       "    <tr>\n",
       "      <th>2</th>\n",
       "      <td>a g calls for infrastructure protection summit</td>\n",
       "    </tr>\n",
       "    <tr>\n",
       "      <th>3</th>\n",
       "      <td>air nz staff in aust strike for pay rise</td>\n",
       "    </tr>\n",
       "    <tr>\n",
       "      <th>4</th>\n",
       "      <td>air nz strike to affect australian travellers</td>\n",
       "    </tr>\n",
       "    <tr>\n",
       "      <th>...</th>\n",
       "      <td>...</td>\n",
       "    </tr>\n",
       "    <tr>\n",
       "      <th>1082163</th>\n",
       "      <td>when is it ok to compliment a womans smile a g...</td>\n",
       "    </tr>\n",
       "    <tr>\n",
       "      <th>1082164</th>\n",
       "      <td>white house defends trumps tweet</td>\n",
       "    </tr>\n",
       "    <tr>\n",
       "      <th>1082165</th>\n",
       "      <td>winter closes in on tasmania as snow ice falls</td>\n",
       "    </tr>\n",
       "    <tr>\n",
       "      <th>1082166</th>\n",
       "      <td>womens world cup australia wins despite atapat...</td>\n",
       "    </tr>\n",
       "    <tr>\n",
       "      <th>1082167</th>\n",
       "      <td>youtube stunt death foreshadowed by tweet</td>\n",
       "    </tr>\n",
       "  </tbody>\n",
       "</table>\n",
       "<p>1082168 rows × 1 columns</p>\n",
       "</div>"
      ],
      "text/plain": [
       "                                             headline_text\n",
       "0        aba decides against community broadcasting lic...\n",
       "1           act fire witnesses must be aware of defamation\n",
       "2           a g calls for infrastructure protection summit\n",
       "3                 air nz staff in aust strike for pay rise\n",
       "4            air nz strike to affect australian travellers\n",
       "...                                                    ...\n",
       "1082163  when is it ok to compliment a womans smile a g...\n",
       "1082164                   white house defends trumps tweet\n",
       "1082165     winter closes in on tasmania as snow ice falls\n",
       "1082166  womens world cup australia wins despite atapat...\n",
       "1082167          youtube stunt death foreshadowed by tweet\n",
       "\n",
       "[1082168 rows x 1 columns]"
      ]
     },
     "execution_count": 44,
     "metadata": {},
     "output_type": "execute_result"
    }
   ],
   "source": [
    "text = data[['headline_text']]\n",
    "text"
   ]
  },
  {
   "cell_type": "markdown",
   "metadata": {},
   "source": [
    "#### 2) 텍스트 전처리\n",
    "- 불용어 제거\n",
    "- 표제어 추출\n",
    "- 길이 짧은 단어 제거"
   ]
  },
  {
   "cell_type": "markdown",
   "metadata": {},
   "source": [
    "##### ① 토큰화"
   ]
  },
  {
   "cell_type": "code",
   "execution_count": 45,
   "metadata": {},
   "outputs": [
    {
     "name": "stderr",
     "output_type": "stream",
     "text": [
      "C:\\Users\\TEMP\\AppData\\Local\\Temp\\ipykernel_18804\\677289017.py:1: SettingWithCopyWarning: \n",
      "A value is trying to be set on a copy of a slice from a DataFrame.\n",
      "Try using .loc[row_indexer,col_indexer] = value instead\n",
      "\n",
      "See the caveats in the documentation: https://pandas.pydata.org/pandas-docs/stable/user_guide/indexing.html#returning-a-view-versus-a-copy\n",
      "  text['headline_text'] = text.apply(lambda row: nltk.word_tokenize(row['headline_text']),\n"
     ]
    },
    {
     "data": {
      "text/html": [
       "<div>\n",
       "<style scoped>\n",
       "    .dataframe tbody tr th:only-of-type {\n",
       "        vertical-align: middle;\n",
       "    }\n",
       "\n",
       "    .dataframe tbody tr th {\n",
       "        vertical-align: top;\n",
       "    }\n",
       "\n",
       "    .dataframe thead th {\n",
       "        text-align: right;\n",
       "    }\n",
       "</style>\n",
       "<table border=\"1\" class=\"dataframe\">\n",
       "  <thead>\n",
       "    <tr style=\"text-align: right;\">\n",
       "      <th></th>\n",
       "      <th>headline_text</th>\n",
       "    </tr>\n",
       "  </thead>\n",
       "  <tbody>\n",
       "    <tr>\n",
       "      <th>0</th>\n",
       "      <td>[aba, decides, against, community, broadcastin...</td>\n",
       "    </tr>\n",
       "    <tr>\n",
       "      <th>1</th>\n",
       "      <td>[act, fire, witnesses, must, be, aware, of, de...</td>\n",
       "    </tr>\n",
       "    <tr>\n",
       "      <th>2</th>\n",
       "      <td>[a, g, calls, for, infrastructure, protection,...</td>\n",
       "    </tr>\n",
       "    <tr>\n",
       "      <th>3</th>\n",
       "      <td>[air, nz, staff, in, aust, strike, for, pay, r...</td>\n",
       "    </tr>\n",
       "    <tr>\n",
       "      <th>4</th>\n",
       "      <td>[air, nz, strike, to, affect, australian, trav...</td>\n",
       "    </tr>\n",
       "    <tr>\n",
       "      <th>...</th>\n",
       "      <td>...</td>\n",
       "    </tr>\n",
       "    <tr>\n",
       "      <th>1082163</th>\n",
       "      <td>[when, is, it, ok, to, compliment, a, womans, ...</td>\n",
       "    </tr>\n",
       "    <tr>\n",
       "      <th>1082164</th>\n",
       "      <td>[white, house, defends, trumps, tweet]</td>\n",
       "    </tr>\n",
       "    <tr>\n",
       "      <th>1082165</th>\n",
       "      <td>[winter, closes, in, on, tasmania, as, snow, i...</td>\n",
       "    </tr>\n",
       "    <tr>\n",
       "      <th>1082166</th>\n",
       "      <td>[womens, world, cup, australia, wins, despite,...</td>\n",
       "    </tr>\n",
       "    <tr>\n",
       "      <th>1082167</th>\n",
       "      <td>[youtube, stunt, death, foreshadowed, by, tweet]</td>\n",
       "    </tr>\n",
       "  </tbody>\n",
       "</table>\n",
       "<p>1082168 rows × 1 columns</p>\n",
       "</div>"
      ],
      "text/plain": [
       "                                             headline_text\n",
       "0        [aba, decides, against, community, broadcastin...\n",
       "1        [act, fire, witnesses, must, be, aware, of, de...\n",
       "2        [a, g, calls, for, infrastructure, protection,...\n",
       "3        [air, nz, staff, in, aust, strike, for, pay, r...\n",
       "4        [air, nz, strike, to, affect, australian, trav...\n",
       "...                                                    ...\n",
       "1082163  [when, is, it, ok, to, compliment, a, womans, ...\n",
       "1082164             [white, house, defends, trumps, tweet]\n",
       "1082165  [winter, closes, in, on, tasmania, as, snow, i...\n",
       "1082166  [womens, world, cup, australia, wins, despite,...\n",
       "1082167   [youtube, stunt, death, foreshadowed, by, tweet]\n",
       "\n",
       "[1082168 rows x 1 columns]"
      ]
     },
     "execution_count": 45,
     "metadata": {},
     "output_type": "execute_result"
    }
   ],
   "source": [
    "text['headline_text'] = text.apply(lambda row: nltk.word_tokenize(row['headline_text']),\n",
    "                                   axis=1)\n",
    "text"
   ]
  },
  {
   "cell_type": "markdown",
   "metadata": {},
   "source": [
    "##### ② 불용어 제거"
   ]
  },
  {
   "cell_type": "code",
   "execution_count": 46,
   "metadata": {},
   "outputs": [
    {
     "name": "stderr",
     "output_type": "stream",
     "text": [
      "C:\\Users\\TEMP\\AppData\\Local\\Temp\\ipykernel_18804\\1139909492.py:2: SettingWithCopyWarning: \n",
      "A value is trying to be set on a copy of a slice from a DataFrame.\n",
      "Try using .loc[row_indexer,col_indexer] = value instead\n",
      "\n",
      "See the caveats in the documentation: https://pandas.pydata.org/pandas-docs/stable/user_guide/indexing.html#returning-a-view-versus-a-copy\n",
      "  text['headline_text'] = text['headline_text'].apply(lambda x: [word for word in x if word not in stop_words])\n"
     ]
    },
    {
     "data": {
      "text/html": [
       "<div>\n",
       "<style scoped>\n",
       "    .dataframe tbody tr th:only-of-type {\n",
       "        vertical-align: middle;\n",
       "    }\n",
       "\n",
       "    .dataframe tbody tr th {\n",
       "        vertical-align: top;\n",
       "    }\n",
       "\n",
       "    .dataframe thead th {\n",
       "        text-align: right;\n",
       "    }\n",
       "</style>\n",
       "<table border=\"1\" class=\"dataframe\">\n",
       "  <thead>\n",
       "    <tr style=\"text-align: right;\">\n",
       "      <th></th>\n",
       "      <th>headline_text</th>\n",
       "    </tr>\n",
       "  </thead>\n",
       "  <tbody>\n",
       "    <tr>\n",
       "      <th>0</th>\n",
       "      <td>[aba, decides, community, broadcasting, licence]</td>\n",
       "    </tr>\n",
       "    <tr>\n",
       "      <th>1</th>\n",
       "      <td>[act, fire, witnesses, must, aware, defamation]</td>\n",
       "    </tr>\n",
       "    <tr>\n",
       "      <th>2</th>\n",
       "      <td>[g, calls, infrastructure, protection, summit]</td>\n",
       "    </tr>\n",
       "    <tr>\n",
       "      <th>3</th>\n",
       "      <td>[air, nz, staff, aust, strike, pay, rise]</td>\n",
       "    </tr>\n",
       "    <tr>\n",
       "      <th>4</th>\n",
       "      <td>[air, nz, strike, affect, australian, travellers]</td>\n",
       "    </tr>\n",
       "    <tr>\n",
       "      <th>...</th>\n",
       "      <td>...</td>\n",
       "    </tr>\n",
       "    <tr>\n",
       "      <th>1082163</th>\n",
       "      <td>[ok, compliment, womans, smile, guide]</td>\n",
       "    </tr>\n",
       "    <tr>\n",
       "      <th>1082164</th>\n",
       "      <td>[white, house, defends, trumps, tweet]</td>\n",
       "    </tr>\n",
       "    <tr>\n",
       "      <th>1082165</th>\n",
       "      <td>[winter, closes, tasmania, snow, ice, falls]</td>\n",
       "    </tr>\n",
       "    <tr>\n",
       "      <th>1082166</th>\n",
       "      <td>[womens, world, cup, australia, wins, despite,...</td>\n",
       "    </tr>\n",
       "    <tr>\n",
       "      <th>1082167</th>\n",
       "      <td>[youtube, stunt, death, foreshadowed, tweet]</td>\n",
       "    </tr>\n",
       "  </tbody>\n",
       "</table>\n",
       "<p>1082168 rows × 1 columns</p>\n",
       "</div>"
      ],
      "text/plain": [
       "                                             headline_text\n",
       "0         [aba, decides, community, broadcasting, licence]\n",
       "1          [act, fire, witnesses, must, aware, defamation]\n",
       "2           [g, calls, infrastructure, protection, summit]\n",
       "3                [air, nz, staff, aust, strike, pay, rise]\n",
       "4        [air, nz, strike, affect, australian, travellers]\n",
       "...                                                    ...\n",
       "1082163             [ok, compliment, womans, smile, guide]\n",
       "1082164             [white, house, defends, trumps, tweet]\n",
       "1082165       [winter, closes, tasmania, snow, ice, falls]\n",
       "1082166  [womens, world, cup, australia, wins, despite,...\n",
       "1082167       [youtube, stunt, death, foreshadowed, tweet]\n",
       "\n",
       "[1082168 rows x 1 columns]"
      ]
     },
     "execution_count": 46,
     "metadata": {},
     "output_type": "execute_result"
    }
   ],
   "source": [
    "stop_words = stopwords.words('english')\n",
    "text['headline_text'] = text['headline_text'].apply(lambda x: [word for word in x if word not in stop_words])\n",
    "text"
   ]
  },
  {
   "cell_type": "markdown",
   "metadata": {},
   "source": [
    "##### ③ 짧은 글자 제거"
   ]
  },
  {
   "cell_type": "code",
   "execution_count": 47,
   "metadata": {},
   "outputs": [
    {
     "name": "stderr",
     "output_type": "stream",
     "text": [
      "C:\\Users\\TEMP\\AppData\\Local\\Temp\\ipykernel_18804\\309640340.py:1: SettingWithCopyWarning: \n",
      "A value is trying to be set on a copy of a slice from a DataFrame.\n",
      "Try using .loc[row_indexer,col_indexer] = value instead\n",
      "\n",
      "See the caveats in the documentation: https://pandas.pydata.org/pandas-docs/stable/user_guide/indexing.html#returning-a-view-versus-a-copy\n",
      "  text['headline_text'] = text['headline_text'].apply(lambda x: [word for word in x if len(word)>3])\n"
     ]
    },
    {
     "data": {
      "text/html": [
       "<div>\n",
       "<style scoped>\n",
       "    .dataframe tbody tr th:only-of-type {\n",
       "        vertical-align: middle;\n",
       "    }\n",
       "\n",
       "    .dataframe tbody tr th {\n",
       "        vertical-align: top;\n",
       "    }\n",
       "\n",
       "    .dataframe thead th {\n",
       "        text-align: right;\n",
       "    }\n",
       "</style>\n",
       "<table border=\"1\" class=\"dataframe\">\n",
       "  <thead>\n",
       "    <tr style=\"text-align: right;\">\n",
       "      <th></th>\n",
       "      <th>headline_text</th>\n",
       "    </tr>\n",
       "  </thead>\n",
       "  <tbody>\n",
       "    <tr>\n",
       "      <th>0</th>\n",
       "      <td>[decides, community, broadcasting, licence]</td>\n",
       "    </tr>\n",
       "    <tr>\n",
       "      <th>1</th>\n",
       "      <td>[fire, witnesses, must, aware, defamation]</td>\n",
       "    </tr>\n",
       "    <tr>\n",
       "      <th>2</th>\n",
       "      <td>[calls, infrastructure, protection, summit]</td>\n",
       "    </tr>\n",
       "    <tr>\n",
       "      <th>3</th>\n",
       "      <td>[staff, aust, strike, rise]</td>\n",
       "    </tr>\n",
       "    <tr>\n",
       "      <th>4</th>\n",
       "      <td>[strike, affect, australian, travellers]</td>\n",
       "    </tr>\n",
       "    <tr>\n",
       "      <th>...</th>\n",
       "      <td>...</td>\n",
       "    </tr>\n",
       "    <tr>\n",
       "      <th>1082163</th>\n",
       "      <td>[compliment, womans, smile, guide]</td>\n",
       "    </tr>\n",
       "    <tr>\n",
       "      <th>1082164</th>\n",
       "      <td>[white, house, defends, trumps, tweet]</td>\n",
       "    </tr>\n",
       "    <tr>\n",
       "      <th>1082165</th>\n",
       "      <td>[winter, closes, tasmania, snow, falls]</td>\n",
       "    </tr>\n",
       "    <tr>\n",
       "      <th>1082166</th>\n",
       "      <td>[womens, world, australia, wins, despite, atap...</td>\n",
       "    </tr>\n",
       "    <tr>\n",
       "      <th>1082167</th>\n",
       "      <td>[youtube, stunt, death, foreshadowed, tweet]</td>\n",
       "    </tr>\n",
       "  </tbody>\n",
       "</table>\n",
       "<p>1082168 rows × 1 columns</p>\n",
       "</div>"
      ],
      "text/plain": [
       "                                             headline_text\n",
       "0              [decides, community, broadcasting, licence]\n",
       "1               [fire, witnesses, must, aware, defamation]\n",
       "2              [calls, infrastructure, protection, summit]\n",
       "3                              [staff, aust, strike, rise]\n",
       "4                 [strike, affect, australian, travellers]\n",
       "...                                                    ...\n",
       "1082163                 [compliment, womans, smile, guide]\n",
       "1082164             [white, house, defends, trumps, tweet]\n",
       "1082165            [winter, closes, tasmania, snow, falls]\n",
       "1082166  [womens, world, australia, wins, despite, atap...\n",
       "1082167       [youtube, stunt, death, foreshadowed, tweet]\n",
       "\n",
       "[1082168 rows x 1 columns]"
      ]
     },
     "execution_count": 47,
     "metadata": {},
     "output_type": "execute_result"
    }
   ],
   "source": [
    "text['headline_text'] = text['headline_text'].apply(lambda x: [word for word in x if len(word)>3])\n",
    "text"
   ]
  },
  {
   "cell_type": "markdown",
   "metadata": {},
   "source": [
    "#### 3) TF-IDF 만들기"
   ]
  },
  {
   "cell_type": "code",
   "execution_count": 48,
   "metadata": {},
   "outputs": [
    {
     "data": {
      "text/plain": [
       "0                [decides, community, broadcasting, licence]\n",
       "1                 [fire, witnesses, must, aware, defamation]\n",
       "2                [calls, infrastructure, protection, summit]\n",
       "3                                [staff, aust, strike, rise]\n",
       "4                   [strike, affect, australian, travellers]\n",
       "                                 ...                        \n",
       "1082163                   [compliment, womans, smile, guide]\n",
       "1082164               [white, house, defends, trumps, tweet]\n",
       "1082165              [winter, closes, tasmania, snow, falls]\n",
       "1082166    [womens, world, australia, wins, despite, atap...\n",
       "1082167         [youtube, stunt, death, foreshadowed, tweet]\n",
       "Name: headline_text, Length: 1082168, dtype: object"
      ]
     },
     "execution_count": 48,
     "metadata": {},
     "output_type": "execute_result"
    }
   ],
   "source": [
    "text['headline_text']"
   ]
  },
  {
   "cell_type": "markdown",
   "metadata": {},
   "source": [
    "##### ① 역토큰화\n",
    "- TfidfVectorizer는 토큰화가 되어있지 않은 텍스트 데이터를 입력으로 사용\n",
    "- 따라서 역 토큰화가 필요"
   ]
  },
  {
   "cell_type": "code",
   "execution_count": 53,
   "metadata": {},
   "outputs": [
    {
     "name": "stderr",
     "output_type": "stream",
     "text": [
      "C:\\Users\\TEMP\\AppData\\Local\\Temp\\ipykernel_18804\\3539056196.py:6: SettingWithCopyWarning: \n",
      "A value is trying to be set on a copy of a slice from a DataFrame.\n",
      "Try using .loc[row_indexer,col_indexer] = value instead\n",
      "\n",
      "See the caveats in the documentation: https://pandas.pydata.org/pandas-docs/stable/user_guide/indexing.html#returning-a-view-versus-a-copy\n",
      "  text['headline_text'] = detokenized_doc\n"
     ]
    }
   ],
   "source": [
    "detokenized_doc = []\n",
    "for i in range(len(text)):\n",
    "    t = ' '.join(text['headline_text'][i])\n",
    "    detokenized_doc.append(t)\n",
    "\n",
    "text['headline_text'] = detokenized_doc"
   ]
  },
  {
   "cell_type": "code",
   "execution_count": 54,
   "metadata": {},
   "outputs": [
    {
     "data": {
      "text/html": [
       "<div>\n",
       "<style scoped>\n",
       "    .dataframe tbody tr th:only-of-type {\n",
       "        vertical-align: middle;\n",
       "    }\n",
       "\n",
       "    .dataframe tbody tr th {\n",
       "        vertical-align: top;\n",
       "    }\n",
       "\n",
       "    .dataframe thead th {\n",
       "        text-align: right;\n",
       "    }\n",
       "</style>\n",
       "<table border=\"1\" class=\"dataframe\">\n",
       "  <thead>\n",
       "    <tr style=\"text-align: right;\">\n",
       "      <th></th>\n",
       "      <th>headline_text</th>\n",
       "    </tr>\n",
       "  </thead>\n",
       "  <tbody>\n",
       "    <tr>\n",
       "      <th>0</th>\n",
       "      <td>decides community broadcasting licence</td>\n",
       "    </tr>\n",
       "    <tr>\n",
       "      <th>1</th>\n",
       "      <td>fire witnesses must aware defamation</td>\n",
       "    </tr>\n",
       "    <tr>\n",
       "      <th>2</th>\n",
       "      <td>calls infrastructure protection summit</td>\n",
       "    </tr>\n",
       "    <tr>\n",
       "      <th>3</th>\n",
       "      <td>staff aust strike rise</td>\n",
       "    </tr>\n",
       "    <tr>\n",
       "      <th>4</th>\n",
       "      <td>strike affect australian travellers</td>\n",
       "    </tr>\n",
       "    <tr>\n",
       "      <th>...</th>\n",
       "      <td>...</td>\n",
       "    </tr>\n",
       "    <tr>\n",
       "      <th>1082163</th>\n",
       "      <td>compliment womans smile guide</td>\n",
       "    </tr>\n",
       "    <tr>\n",
       "      <th>1082164</th>\n",
       "      <td>white house defends trumps tweet</td>\n",
       "    </tr>\n",
       "    <tr>\n",
       "      <th>1082165</th>\n",
       "      <td>winter closes tasmania snow falls</td>\n",
       "    </tr>\n",
       "    <tr>\n",
       "      <th>1082166</th>\n",
       "      <td>womens world australia wins despite atapattus</td>\n",
       "    </tr>\n",
       "    <tr>\n",
       "      <th>1082167</th>\n",
       "      <td>youtube stunt death foreshadowed tweet</td>\n",
       "    </tr>\n",
       "  </tbody>\n",
       "</table>\n",
       "<p>1082168 rows × 1 columns</p>\n",
       "</div>"
      ],
      "text/plain": [
       "                                         headline_text\n",
       "0               decides community broadcasting licence\n",
       "1                 fire witnesses must aware defamation\n",
       "2               calls infrastructure protection summit\n",
       "3                               staff aust strike rise\n",
       "4                  strike affect australian travellers\n",
       "...                                                ...\n",
       "1082163                  compliment womans smile guide\n",
       "1082164               white house defends trumps tweet\n",
       "1082165              winter closes tasmania snow falls\n",
       "1082166  womens world australia wins despite atapattus\n",
       "1082167         youtube stunt death foreshadowed tweet\n",
       "\n",
       "[1082168 rows x 1 columns]"
      ]
     },
     "execution_count": 54,
     "metadata": {},
     "output_type": "execute_result"
    }
   ],
   "source": [
    "text"
   ]
  },
  {
   "cell_type": "markdown",
   "metadata": {},
   "source": [
    "##### ② TF-IDF 행렬 생성"
   ]
  },
  {
   "cell_type": "code",
   "execution_count": 55,
   "metadata": {},
   "outputs": [
    {
     "name": "stdout",
     "output_type": "stream",
     "text": [
      "TF-IDF행렬 크기: (1082168, 1000)\n"
     ]
    }
   ],
   "source": [
    "vectorizer = TfidfVectorizer(stop_words='english', max_features=1000)\n",
    "X = vectorizer.fit_transform(text['headline_text'])\n",
    "\n",
    "print(f'TF-IDF행렬 크기: {X.shape}')"
   ]
  },
  {
   "cell_type": "markdown",
   "metadata": {},
   "source": [
    "#### 4) 토픽 모델링"
   ]
  },
  {
   "cell_type": "code",
   "execution_count": 57,
   "metadata": {},
   "outputs": [],
   "source": [
    "lda_model = LatentDirichletAllocation(n_components=10, # 토픽을 10개로.\n",
    "                                      learning_method = 'online',\n",
    "                                      random_state=777,\n",
    "                                      max_iter=1)\n"
   ]
  },
  {
   "cell_type": "code",
   "execution_count": 58,
   "metadata": {},
   "outputs": [],
   "source": [
    "lda_top = lda_model.fit_transform(X)"
   ]
  },
  {
   "cell_type": "code",
   "execution_count": 59,
   "metadata": {},
   "outputs": [
    {
     "name": "stdout",
     "output_type": "stream",
     "text": [
      "[[1.00000524e-01 1.00000945e-01 1.00003031e-01 ... 1.00010614e-01\n",
      "  1.00003498e-01 1.00001781e-01]\n",
      " [1.00003244e-01 1.00006985e-01 1.00018485e-01 ... 1.00009374e-01\n",
      "  1.00004140e-01 1.00002710e-01]\n",
      " [1.00000613e-01 1.00001003e-01 1.00001719e-01 ... 1.00010032e-01\n",
      "  1.00003629e-01 1.00002942e-01]\n",
      " ...\n",
      " [1.00002359e-01 1.00002223e-01 1.00008046e-01 ... 2.25245378e+03\n",
      "  1.00004394e-01 1.00001389e-01]\n",
      " [1.00001729e-01 1.00001155e-01 3.56084764e+03 ... 1.00006474e-01\n",
      "  1.00003539e-01 1.00001515e-01]\n",
      " [1.00001008e-01 1.00001333e-01 1.00004934e-01 ... 1.00015214e-01\n",
      "  1.00003583e-01 1.00001347e-01]]\n",
      "(10, 1000)\n"
     ]
    }
   ],
   "source": [
    "print(lda_model.components_) # 토픽 10개 각각의 10000개의 단어들을..?\n",
    "print(lda_model.components_.shape)"
   ]
  },
  {
   "cell_type": "code",
   "execution_count": 61,
   "metadata": {},
   "outputs": [
    {
     "name": "stdout",
     "output_type": "stream",
     "text": [
      "Topic: 1, [('trump', 10983.42), ('state', 4433.33), ('league', 4147.04), ('open', 4035.79), ('funding', 3547.71)]\n",
      "Topic: 2, [('court', 7730.97), ('world', 7084.24), ('canberra', 6440.95), ('interview', 5813.89), ('country', 5368.42)]\n",
      "Topic: 3, [('police', 12780.13), ('government', 9184.56), ('sydney', 8885.32), ('woman', 5633.17), ('north', 5261.69)]\n",
      "Topic: 4, [('election', 8013.99), ('south', 6909.67), ('test', 3978.44), ('missing', 3629.12), ('power', 3624.58)]\n",
      "Topic: 5, [('melbourne', 7830.58), ('years', 5286.89), ('calls', 4858.96), ('final', 3758.86), ('accused', 3747.29)]\n",
      "Topic: 6, [('australia', 14376.71), ('death', 6201.75), ('2016', 5731.04), ('turnbull', 4364.71), ('people', 4166.9)]\n",
      "Topic: 7, [('adelaide', 7079.47), ('perth', 6705.92), ('charged', 5845.25), ('dies', 4730.09), ('indigenous', 4334.57)]\n",
      "Topic: 8, [('australian', 11564.41), ('queensland', 7981.64), ('year', 5768.28), ('brisbane', 5103.73), ('tasmania', 4820.45)]\n",
      "Topic: 9, [('coast', 5606.92), ('tasmanian', 5034.86), ('school', 4564.63), ('council', 4167.15), ('gold', 3912.08)]\n",
      "Topic: 10, [('says', 14415.72), ('rural', 5606.38), ('china', 4695.89), ('hospital', 4484.76), ('live', 4065.89)]\n"
     ]
    }
   ],
   "source": [
    "terms = vectorizer.get_feature_names_out()\n",
    "\n",
    "def get_topics(components, feature_names, n=5):\n",
    "    for idx, topic in enumerate(components):\n",
    "        print(f'Topic: {idx+1}, {[(feature_names[i], topic[i].round(2)) for i in topic.argsort()[:-n-1:-1]]}')\n",
    "\n",
    "get_topics(lda_model.components_, terms)"
   ]
  },
  {
   "cell_type": "markdown",
   "metadata": {},
   "source": [
    "#### 2. gensim 사용한 LDA"
   ]
  },
  {
   "cell_type": "markdown",
   "metadata": {},
   "source": [
    "#### 1) 정수 인코딩, 단어집합 만들기"
   ]
  },
  {
   "cell_type": "code",
   "execution_count": 64,
   "metadata": {},
   "outputs": [
    {
     "data": {
      "text/plain": [
       "0        [well, sure, story, seem, biased., disagree, s...\n",
       "1        [yeah,, expect, people, read, faq,, etc., actu...\n",
       "2        [although, realize, principle, strongest, poin...\n",
       "3        [notwithstanding, legitimate, fuss, proposal,,...\n",
       "4        [well,, change, scoring, playoff, pool., unfor...\n",
       "                               ...                        \n",
       "11309    [danny, rubenstein,, israeli, journalist,, spe...\n",
       "11310                                                   []\n",
       "11311    [agree., home, runs, clemens, always, memorabl...\n",
       "11312    [used, deskjet, orange, micros, grappler, syst...\n",
       "11313    [^^^^^^, argument, murphy., scared, hell, came...\n",
       "Name: clean_doc, Length: 11314, dtype: object"
      ]
     },
     "execution_count": 64,
     "metadata": {},
     "output_type": "execute_result"
    }
   ],
   "source": [
    "tokenized_doc\n"
   ]
  },
  {
   "cell_type": "code",
   "execution_count": 71,
   "metadata": {},
   "outputs": [
    {
     "name": "stdout",
     "output_type": "stream",
     "text": [
      "[(59, 1), (60, 1), (61, 1), (62, 1), (63, 1), (64, 1), (65, 1), (66, 1), (67, 1), (68, 1), (69, 1), (70, 1), (71, 1), (72, 1), (73, 1), (74, 1), (75, 1), (76, 1), (77, 1), (78, 1), (79, 1), (80, 1), (81, 1), (82, 2), (83, 1), (84, 1), (85, 1), (86, 1), (87, 1), (88, 1), (89, 2), (90, 1), (91, 1), (92, 1), (93, 1), (94, 1), (95, 1), (96, 2), (97, 1), (98, 1), (99, 1), (100, 1), (101, 1), (102, 1)]\n"
     ]
    }
   ],
   "source": [
    "from gensim import corpora\n",
    "\n",
    "dictionary = corpora.Dictionary(tokenized_doc) # dictionary에 단어가 저장됨.\n",
    "corpus =[dictionary.doc2bow(text) for text in tokenized_doc]\n"
   ]
  },
  {
   "cell_type": "code",
   "execution_count": 73,
   "metadata": {},
   "outputs": [
    {
     "name": "stdout",
     "output_type": "stream",
     "text": [
      "[(59, 1), (60, 1), (61, 1), (62, 1), (63, 1), (64, 1), (65, 1), (66, 1), (67, 1), (68, 1), (69, 1), (70, 1), (71, 1), (72, 1), (73, 1), (74, 1), (75, 1), (76, 1), (77, 1), (78, 1), (79, 1), (80, 1), (81, 1), (82, 2), (83, 1), (84, 1), (85, 1), (86, 1), (87, 1), (88, 1), (89, 2), (90, 1), (91, 1), (92, 1), (93, 1), (94, 1), (95, 1), (96, 2), (97, 1), (98, 1), (99, 1), (100, 1), (101, 1), (102, 1)]\n",
      "\n",
      "bye-bye,\n"
     ]
    }
   ],
   "source": [
    "print(corpus[1]) \n",
    "print()\n",
    "print(dictionary[66])"
   ]
  },
  {
   "cell_type": "markdown",
   "metadata": {},
   "source": [
    "- corpus[1]은 두번 째 뉴스\n",
    "- 두번 째 뉴스에서 정수 인코딩이 66으로 된 단어가 1번 등장함. 66이란 단어는 어떤 단어일까?\n",
    "- dictionary[66]에서 확인해본 결과 'bye-bye'인 것을 알 수 있다."
   ]
  },
  {
   "cell_type": "code",
   "execution_count": 74,
   "metadata": {},
   "outputs": [
    {
     "data": {
      "text/plain": [
       "181856"
      ]
     },
     "execution_count": 74,
     "metadata": {},
     "output_type": "execute_result"
    }
   ],
   "source": [
    "len(dictionary)"
   ]
  },
  {
   "cell_type": "markdown",
   "metadata": {},
   "source": [
    "#### 2) LDA 모델 훈련시키기"
   ]
  },
  {
   "cell_type": "code",
   "execution_count": 77,
   "metadata": {},
   "outputs": [
    {
     "name": "stdout",
     "output_type": "stream",
     "text": [
      "(0, '0.007*\"cubs\" + 0.004*\"francis\" + 0.003*\"trace\" + 0.003*\"fleet\"')\n",
      "(1, '0.012*\"space\" + 0.008*\"available\" + 0.007*\"information\" + 0.006*\"data\"')\n",
      "(2, '0.005*\"outlets\" + 0.003*\"carson\" + 0.003*\"want,\" + 0.003*\"outlet\"')\n",
      "(3, '0.012*\"government\" + 0.012*\"encryption\" + 0.010*\"security\" + 0.007*\"chip\"')\n",
      "(4, '0.030*\"armenian\" + 0.026*\"turkish\" + 0.020*\"armenians\" + 0.012*\"greek\"')\n",
      "(5, '0.013*\"henrik]\" + 0.003*\"karabakh\" + 0.003*\"terminals\" + 0.002*\"authorities.\"')\n",
      "(6, '0.008*\"power\" + 0.005*\"bike\" + 0.005*\"ground\" + 0.004*\"----\"')\n",
      "(7, '0.004*\"prophecy\" + 0.004*\"captain\" + 0.004*\"patents\" + 0.003*\"intentional\"')\n",
      "(8, '0.013*\"period\" + 0.011*\"power\" + 0.008*\"---------------\" + 0.008*\"toronto\"')\n",
      "(9, '0.005*\"people\" + 0.004*\"government\" + 0.004*\"state\" + 0.004*\"president\"')\n",
      "(10, '0.003*\"injuries\" + 0.003*\"mild\" + 0.003*\"hong\" + 0.003*\"0.333\"')\n",
      "(11, '0.008*\"people\" + 0.007*\"jesus\" + 0.005*\"believe\" + 0.005*\"many\"')\n",
      "(12, '0.008*\"gordon\" + 0.008*\"surrender\" + 0.008*\"----------------------------------------------------------------------------\" + 0.008*\"banks\"')\n",
      "(13, '0.019*\"would\" + 0.011*\"like\" + 0.010*\"think\" + 0.009*\"know\"')\n",
      "(14, '0.003*\"sweden\" + 0.003*\"powerpc\" + 0.003*\"grounded\" + 0.003*\"april\"')\n",
      "(15, '0.009*\"file\" + 0.007*\"using\" + 0.006*\"windows\" + 0.005*\"also\"')\n",
      "(16, '0.009*\"team\" + 0.009*\"game\" + 0.007*\"last\" + 0.007*\"went\"')\n",
      "(17, '0.017*\"char\" + 0.007*\"smokeless\" + 0.005*\"picture\" + 0.003*\"john\\'s\"')\n",
      "(18, '0.004*\"saves\" + 0.003*\"alan\" + 0.003*\"suck\" + 0.002*\"syndrome\"')\n",
      "(19, '0.006*\"radar\" + 0.004*\"kent\" + 0.004*\"#include\" + 0.004*\"*******\"')\n"
     ]
    }
   ],
   "source": [
    "import gensim\n",
    "NUM_TOPICS = 20 # 20개 토픽\n",
    "lda_model = gensim.models.ldamodel.LdaModel(corpus, num_topics=NUM_TOPICS, id2word=dictionary,\n",
    "                                            passes=15) # passes = 알고리즘 동작횟수.\n",
    "topics = lda_model.print_topics(num_words=4) # 4개의 단어만 출력하기.\n",
    "for topic in topics:\n",
    "    print(topic)"
   ]
  },
  {
   "cell_type": "markdown",
   "metadata": {},
   "source": [
    "#### 3) LDA 시각화하기"
   ]
  },
  {
   "cell_type": "code",
   "execution_count": 78,
   "metadata": {},
   "outputs": [
    {
     "name": "stdout",
     "output_type": "stream",
     "text": [
      "Defaulting to user installation because normal site-packages is not writeable\n",
      "Requirement already satisfied: pyLDAvis in c:\\users\\temp\\appdata\\roaming\\python\\python39\\site-packages (3.4.1)\n",
      "Requirement already satisfied: numpy>=1.24.2 in c:\\users\\temp\\appdata\\roaming\\python\\python39\\site-packages (from pyLDAvis) (1.24.4)\n",
      "Requirement already satisfied: scipy in c:\\programdata\\anaconda3\\lib\\site-packages (from pyLDAvis) (1.9.1)\n",
      "Requirement already satisfied: pandas>=2.0.0 in c:\\users\\temp\\appdata\\roaming\\python\\python39\\site-packages (from pyLDAvis) (2.1.0)\n",
      "Requirement already satisfied: joblib>=1.2.0 in c:\\programdata\\anaconda3\\lib\\site-packages (from pyLDAvis) (1.2.0)\n",
      "Requirement already satisfied: jinja2 in c:\\users\\temp\\appdata\\roaming\\python\\python39\\site-packages (from pyLDAvis) (3.1.2)\n",
      "Requirement already satisfied: numexpr in c:\\programdata\\anaconda3\\lib\\site-packages (from pyLDAvis) (2.8.3)\n",
      "Requirement already satisfied: funcy in c:\\users\\temp\\appdata\\roaming\\python\\python39\\site-packages (from pyLDAvis) (2.0)\n",
      "Requirement already satisfied: scikit-learn>=1.0.0 in c:\\programdata\\anaconda3\\lib\\site-packages (from pyLDAvis) (1.2.2)\n",
      "Requirement already satisfied: gensim in c:\\programdata\\anaconda3\\lib\\site-packages (from pyLDAvis) (4.1.2)\n",
      "Requirement already satisfied: setuptools in c:\\programdata\\anaconda3\\lib\\site-packages (from pyLDAvis) (63.4.1)\n",
      "Requirement already satisfied: python-dateutil>=2.8.2 in c:\\programdata\\anaconda3\\lib\\site-packages (from pandas>=2.0.0->pyLDAvis) (2.8.2)\n",
      "Requirement already satisfied: pytz>=2020.1 in c:\\users\\temp\\appdata\\roaming\\python\\python39\\site-packages (from pandas>=2.0.0->pyLDAvis) (2023.3.post1)\n",
      "Requirement already satisfied: tzdata>=2022.1 in c:\\users\\temp\\appdata\\roaming\\python\\python39\\site-packages (from pandas>=2.0.0->pyLDAvis) (2023.3)\n",
      "Requirement already satisfied: threadpoolctl>=2.0.0 in c:\\users\\temp\\appdata\\roaming\\python\\python39\\site-packages (from scikit-learn>=1.0.0->pyLDAvis) (3.2.0)\n",
      "Requirement already satisfied: smart-open>=1.8.1 in c:\\programdata\\anaconda3\\lib\\site-packages (from gensim->pyLDAvis) (5.2.1)\n",
      "Requirement already satisfied: MarkupSafe>=2.0 in c:\\users\\temp\\appdata\\roaming\\python\\python39\\site-packages (from jinja2->pyLDAvis) (2.1.3)\n",
      "Requirement already satisfied: packaging in c:\\programdata\\anaconda3\\lib\\site-packages (from numexpr->pyLDAvis) (21.3)\n",
      "Requirement already satisfied: six>=1.5 in c:\\programdata\\anaconda3\\lib\\site-packages (from python-dateutil>=2.8.2->pandas>=2.0.0->pyLDAvis) (1.16.0)\n",
      "Requirement already satisfied: pyparsing!=3.0.5,>=2.0.2 in c:\\programdata\\anaconda3\\lib\\site-packages (from packaging->numexpr->pyLDAvis) (3.0.9)\n"
     ]
    },
    {
     "name": "stderr",
     "output_type": "stream",
     "text": [
      "WARNING: Ignoring invalid distribution -rotobuf (c:\\users\\temp\\appdata\\roaming\\python\\python39\\site-packages)\n",
      "WARNING: Ignoring invalid distribution -rotobuf (c:\\users\\temp\\appdata\\roaming\\python\\python39\\site-packages)\n",
      "WARNING: Ignoring invalid distribution -rotobuf (c:\\users\\temp\\appdata\\roaming\\python\\python39\\site-packages)\n",
      "WARNING: Ignoring invalid distribution -rotobuf (c:\\users\\temp\\appdata\\roaming\\python\\python39\\site-packages)\n",
      "WARNING: There was an error checking the latest version of pip.\n"
     ]
    }
   ],
   "source": [
    "!pip install pyLDAvis"
   ]
  },
  {
   "cell_type": "markdown",
   "metadata": {},
   "source": [
    "토픽 별 단어의 분포 확인하기"
   ]
  },
  {
   "cell_type": "code",
   "execution_count": 79,
   "metadata": {},
   "outputs": [
    {
     "data": {
      "text/html": [
       "\n",
       "<link rel=\"stylesheet\" type=\"text/css\" href=\"https://cdn.jsdelivr.net/gh/bmabey/pyLDAvis@3.4.0/pyLDAvis/js/ldavis.v1.0.0.css\">\n",
       "\n",
       "\n",
       "<div id=\"ldavis_el188042502967494464206624508\" style=\"background-color:white;\"></div>\n",
       "<script type=\"text/javascript\">\n",
       "\n",
       "var ldavis_el188042502967494464206624508_data = {\"mdsDat\": {\"x\": [0.39087318741126564, 0.31624178265945996, 0.27812806587969646, 0.2526305524125932, 0.1791809297329666, 0.1598191459699504, 0.039005168196970856, -0.004182539616839159, -0.12295745011562023, -0.12120988038863528, -0.13771088549240182, -0.12209108112326364, -0.13792870392880616, -0.13921989266246468, -0.13827112822908774, -0.13899433614186538, -0.13913581074467657, -0.13860970109885293, -0.13816879927927259, -0.13739862344111736], \"y\": [0.09234213314287067, -0.17295005236963304, 0.025693834195087584, 0.14566628442047463, -0.22529734727422773, 0.19321428801665566, -0.06685607769853762, -0.09461307015291683, 0.026958791496416574, 0.019613738155015076, 0.00769345680128096, -0.010488673215003333, 0.01007793592945382, 0.007969054566158524, 0.007888969612404699, 0.007396620689272452, 0.007388628751451831, 0.0065409628050853525, 0.005593101046346645, 0.006167421082344033], \"topics\": [1, 2, 3, 4, 5, 6, 7, 8, 9, 10, 11, 12, 13, 14, 15, 16, 17, 18, 19, 20], \"cluster\": [1, 1, 1, 1, 1, 1, 1, 1, 1, 1, 1, 1, 1, 1, 1, 1, 1, 1, 1, 1], \"Freq\": [30.763355205904652, 16.504559504589082, 13.910627827986557, 9.7266003644167, 9.067293368837296, 6.406608375784338, 4.192651578310607, 3.1350187841677686, 1.0678580910635191, 1.0420294990969956, 0.6564401135352661, 0.6481863478178547, 0.5630866272067556, 0.4871364246288491, 0.4005548678296034, 0.3501893000623958, 0.2981555096843738, 0.2709233960609109, 0.26025507970468065, 0.2484697333117728]}, \"tinfo\": {\"Term\": [\"would\", \"think\", \"people\", \"space\", \"file\", \"government\", \"power\", \"available\", \"like\", \"first\", \"know\", \"data\", \"armenian\", \"believe\", \"team\", \"windows\", \"jesus\", \"information\", \"program\", \"good\", \"game\", \"last\", \"anyone\", \"went\", \"system\", \"even\", \"second\", \"drive\", \"encryption\", \"really\", \"sounds\", \"pain\", \"guys\", \"tend\", \"suppose\", \"either.\", \"folks\", \"recall\", \"stupid\", \"plug\", \"damn\", \"anyway.\", \"wrong,\", \"right?\", \"taught\", \"thread\", \"sure.\", \"atheist\", \"myself,\", \"much.\", \"bother\", \"unlikely\", \"favor\", \"correct.\", \"hearing\", \"atheism\", \"much,\", \"allocation\", \"letting\", \"thing,\", \"think\", \"enough\", \"thing.\", \"really\", \"though,\", \"spend\", \"actually,\", \"thing\", \"anyway,\", \"talking\", \"guess\", \"that's\", \"maybe\", \"something\", \"yes,\", \"here.\", \"sorry\", \"would\", \"course,\", \"actually\", \"much\", \"might\", \"there's\", \"going\", \"better\", \"little\", \"well,\", \"quite\", \"sort\", \"like\", \"someone\", \"anything\", \"probably\", \"getting\", \"could\", \"good\", \"know\", \"even\", \"take\", \"can't\", \"want\", \"make\", \"i've\", \"sure\", \"things\", \"time\", \"people\", \"since\", \"still\", \"never\", \"many\", \"also\", \"need\", \"disk\", \"card\", \"output\", \"scsi\", \"serial\", \"input\", \"widget\", \"keyboard\", \"apple\", \"motif\", \"interface\", \"controller\", \"drives\", \"mouse\", \"unix\", \"modem\", \"port\", \"floppy\", \"jpeg\", \"55.0\", \"----------------------------------------------------------------------\", \"font\", \"windows\", \"ripem\", \"machines\", \"disks\", \"postscript\", \"x11r5\", \"drive.\", \"card.\", \"file\", \"color\", \"window\", \"memory\", \"tape\", \"screen\", \"video\", \"files\", \"display\", \"version\", \"monitor\", \"drive\", \"code\", \"hardware\", \"software\", \"entry\", \"using\", \"thanks\", \"program\", \"server\", \"please\", \"system\", \"running\", \"line\", \"available\", \"anyone\", \"need\", \"used\", \"also\", \"data\", \"number\", \"problem\", \"email\", \"know\", \"like\", \"work\", \"health\", \"israeli\", \"guns\", \"arab\", \"file:\", \"weapons\", \"patients\", \"arms\", \"disease\", \"firearms\", \"palestinian\", \"armed\", \"states,\", \"percent\", \"constitution\", \"plastic\", \"cancer\", \"cities\", \"arabs\", \"efforts\", \"war.\", \"governments\", \"tanks\", \"officers\", \"island\", \"senate\", \"medicine\", \"officer\", \"violent\", \"georgia\", \"military\", \"amendment\", \"united\", \"president\", \"medical\", \"states\", \"israel\", \"increased\", \"south\", \"american\", \"rights\", \"police\", \"crime\", \"jobs\", \"state\", \"reported\", \"federal\", \"political\", \"civil\", \"country\", \"government\", \"u.s.\", \"house\", \"april\", \"national\", \"press\", \"russian\", \"among\", \"control\", \"public\", \"number\", \"people\", \"white\", \"said\", \"1993\", \"right\", \"years\", \"also\", \"support\", \"would\", \"first\", \"jesus\", \"jews\", \"christian\", \"bible\", \"christians\", \"jewish\", \"church\", \"religious\", \"god.\", \"faith\", \"moral\", \"religion\", \"christ\", \"god's\", \"holy\", \"god,\", \"christianity\", \"belief\", \"atheists\", \"nazi\", \"muslims\", \"spirit\", \"beliefs\", \"eternal\", \"lord\", \"morality\", \"catholic\", \"biblical\", \"judas\", \"religions\", \"truth\", \"evidence\", \"acts\", \"word\", \"human\", \"believe\", \"life\", \"people\", \"true\", \"\\\"the\", \"world\", \"cannot\", \"many\", \"must\", \"fact\", \"book\", \"even\", \"also\", \"would\", \"anonymous\", \"launch\", \"entries\", \"satellite\", \"lunar\", \"shuttle\", \"client\", \"solar\", \"orbit\", \"spacecraft\", \"launched\", \"satellites\", \"copyright\", \"guidelines\", \"p.o.\", \"openwindows\", \"planetary\", \"computing\", \"probe\", \"newsgroups\", \"x-based\", \"telescope\", \"orbital\", \"saturn\", \"sparc\", \"mars\", \"financial\", \"imaging\", \"------------\", \"laboratory\", \"nasa\", \"price:\", \"------\", \"space\", \"mission\", \"flight\", \"requests\", \"distributed\", \"--------\", \"mailing\", \"internet\", \"from:\", \"university\", \"research\", \"available\", \"information\", \"users\", \"data\", \"technical\", \"commercial\", \"development\", \"technology\", \"mail\", \"send\", \"computer\", \"center\", \"list\", \"1993\", \"program\", \"international\", \"science\", \"also\", \"image\", \"system\", \"part\", \"national\", \"general\", \"hockey\", \"players\", \"teams\", \"games\", \"season\", \"baseball\", \"team\", \"puck\", \"season.\", \"fans\", \"scored\", \"score\", \"apartment\", \"pitching\", \"games.\", \"sumgait\", \"club\", \"defensive\", \"threw\", \"games,\", \"league\", \"braves\", \"season,\", \"stanley\", \"morris\", \"espn\", \"mamma\", \"coach\", \"wins\", \"team,\", \"game\", \"game.\", \"played\", \"player\", \"game,\", \"play\", \"stats\", \"went\", \"says,\", \"philadelphia\", \"chicago\", \"kings\", \"said,\", \"came\", \"took\", \"beat\", \"last\", \"home\", \"lost\", \"year\", \"started\", \"he's\", \"left\", \"city\", \"first\", \"three\", \"year.\", \"back\", \"said\", \"next\", \"second\", \"bike\", \"myers:\", \"engine\", \"wiring\", \"motorcycle\", \"rear\", \"laser\", \"voltage\", \"honda\", \"ford\", \"contract\", \"bikes\", \"toyota\", \"specs\", \"exhaust\", \"temperature\", \"tiff\", \"tires\", \"brake\", \"aluminum\", \"pointer\", \"----\", \"cycle\", \"rating\", \"3.5\\\"\", \"steering\", \"tower\", \"cell\", \"mechanical\", \"for?\", \"dept\", \"wire\", \"ground\", \"auto\", \"miles\", \"water\", \"battery\", \"cars\", \"motor\", \"master\", \"1991\", \"power\", \"excellent\", \"circuit\", \"assembly\", \"model\", \"speed\", \"supply\", \"front\", \"connected\", \"drive\", \"current\", \"good\", \"cable\", \"used\", \"encryption\", \"escrow\", \"agencies\", \"crypto\", \"encrypted\", \"secure\", \"wiretap\", \"cryptography\", \"candida\", \"clipper\", \"phones\", \"\\\"clipper\", \"1982\", \"publicly\", \"ieee\", \"chip\\\"\", \"cool\", \"initiative\", \"encryption.\", \"plants\", \"security.\", \"toshiba\", \"defeat\", \"third.\", \"mainstream\", \"americans.\", \"twin\", \"example)\", \"continuous\", \"privacy,\", \"privacy\", \"secret\", \"security\", \"enforcement\", \"policies\", \"keys,\", \"keys\", \"cipher\", \"cellular\", \"algorithm\", \"chip\", \"government\", \"proposal\", \"protect\", \"communications\", \"administration\", \"agents\", \"private\", \"technology\", \"strong\", \"phone\", \"public\", \"telephone\", \"access\", \"court\", \"legal\", \"u.s.\", \"used\", \"toronto\", \"scorer\", \"play:\", \"pens\", \"quebec\", \"jets\", \"sharks\", \"-----------------------------------------\", \"period:\", \"ottawa\", \"hash\", \"buffalo\", \"winnipeg\", \"gilmour\", \"ideas?\", \"64-bit\", \"lemieux\", \"astros\", \"resources.\", \"gretzky\", \"edmonton\", \"(unassisted)\", \"penguins\", \"disc\", \"ciphertext\", \"approval\", \"canucks\", \"nearest\", \"(pp)\", \"seeds\", \"---------------\", \"hartford,\", \"louis\", \"period\", \"pittsburgh,\", \"calgary\", \"murphy\", \"power\", \"vancouver\", \"third\", \"second\", \"shots\", \"first\", \"turkish\", \"turkey\", \"turks\", \"armenia\", \"ottoman\", \"serdar\", \"azeri\", \"argic\", \"azeris\", \"greece\", \"greeks\", \"copies)\", \"cyprus\", \"kurds\", \"refugees\", \"[kk]\", \"turkey.\", \"(1st\", \"stewart\", \"ghost\", \"cover)\", \"confidential\", \"comics\", \"turkey,\", \"collaboration\", \"armenia.\", \"asala/sdpa/arf\", \"puzzle\", \"invaded\", \"greece,\", \"genocide\", \"armenian\", \"armenians\", \"greek\", \"massacre\", \"azerbaijan\", \"muslim\", \"villages\", \"russian\", \"source:\", \"million\", \"bodies\", \"annual\", \"population\", \"saves\", \"alan\", \"suck\", \"pitt\", \"-----begin\", \"return.\", \"serious.\", \"neck\", \"edition,\", \"msg.\", \"goes:\", \"confronted\", \"violating\", \"cica\", \"add,\", \"signature-----\", \"slots.\", \"mozumder\", \"*the*\", \"\\\"are\", \"rectangular\", \"bat.\", \"funny.\", \"carnegie\", \"newbie\", \"excommunicated\", \"daughter,\", \"coptic\", \"careers\", \"--->>>\", \"syndrome\", \"allergic\", \"256k\", \"intensive\", \"flavor\", \"chinese\", \"----------\", \"japanese\", \"kent\", \"*******\", \"------------------------------------------------------------------------\", \"yankees\", \"(205)\", \"kidney\", \"nolan\", \"pitcher\", \"countries.\", \"uucp:\", \"image,\", \"bone\", \"(formerly\", \"detectors\", \"firearms,\", \"card?\", \"performance.\", \"world.\\\"\", \"null,\", \"intergraph\", \"chest\", \"w4wg\", \"bethesda,\", \"royals\", \"proceedings,\", \"office)\", \"processor.\", \"tektronix\", \"awards\", \"offense,\", \"u.s.a.\", \"#include\", \"offense\", \"detector\", \"radar\", \"friday,\", \"cheers,\", \"corp.\", \"speed.\", \"internet:\", \"(301)\", \"virtual\", \"dave\", \"phone:\", \"char\", \"smokeless\", \"manager,\", \"amongst\", \"toolkits\", \"distribution:\", \"comments:\", \"type:\", \"cape\", \"title:\", \"driver.\", \"moncton\", \"patterns\", \"austria\", \"$10.00\", \"springfield\", \"believer\", \"utica\", \"machines:\", \"640x480\", \"carriers\", \"nervous\", \"(ie,\", \"multimedia\", \"workspace\", \"nations,\", \"adirondack\", \"advance!\", \"floptical\", \"binghamton\", \"john's\", \"rochester\", \"picture\", \"germany\", \"baltimore\", \"version:\", \"injuries\", \"mild\", \"hong\", \"0.333\", \"player.\", \"truetype\", \"kong\", \"hours.\", \"declined\", \"entity\", \"5.00\", \"sides.\", \"upload\", \"***************\", \"number?\", \"filters\", \"laserjet\", \"tall\", \"winmarks\", \"rewritten\", \"scroll\", \"0.500\", \"hmmm...\", \"scrolls\", \"0.182\", \"shape,\", \"lens\", \"telix\", \"0.250\", \"0.273\", \"cassette\", \"radius\", \"powerpc\", \"grounded\", \"conditions.\", \"tigers\", \"nonsense.\", \"relay\", \"bishop\", \"theories\", \"reporter\", \"schism\", \"lawsuit\", \"lately\", \"deeds\", \"apostles\", \"ontario\", \"archbishop\", \"babies\", \"prospects\", \"supernatural\", \"demanding\", \"fucking\", \"rotor\", \"bless\", \"verbal\", \"legitimately\", \"minus\", \"objective,\", \"potential.\", \"disarm\", \"neutral.\", \"vernon\", \"gospels\", \"sweden\", \"finland\", \"---------------------------------------------------------------------\", \"romans\", \"april\", \"canon\", \"blessed\", \"republic\", \"norway\", \"intellect,\", \"shameful\", \"\\\"skepticism\", \"chastity\", \"n3jxp\", \"geb@cadre.dsl.pitt.edu\", \"soon.\\\"\", \"helmet\", \"temp\", \"surrender\", \"adobe\", \"campbell\", \"murdering\", \"yamaha\", \"curious.\", \"kawasaki\", \"wanted.\", \"slmr\", \"again!\", \"celebration\", \"inning.\", \"same...\", \"rosicrucian\", \"well).\", \"traveling\", \"n++;\", \"1/2\\\"\", \"arguments.\", \"madison\", \"conclusive\", \"gordon\", \"----------------------------------------------------------------------------\", \"banks\", \"concentrate\", \"wales\", \"them!\", \"cubs\", \"francis\", \"trace\", \"fleet\", \"innings\", \"hemisphere\", \"yassin\", \"fantasy\", \"range,\", \"hockey.\", \"normally,\", \"bullpen\", \"awarded\", \"micro\", \"injuries,\", \"build,\", \"volvo\", \"extracting\", \"irgun\", \"passion\", \"doubled\", \"edmonton,\", \"shopping\", \"recieved\", \"suspect.\", \"brewers\", \"championship\", \"hmm.\", \"(hey,\", \"dragons\", \"needed,\", \"hope.\", \"prophecy\", \"patents\", \"intentional\", \"habs\", \"running,\", \"_/_/_/_/\", \"harris\", \"nords\", \"gifs\", \"corn\", \"messier\", \"*must*\", \"values,\", \"widget,\", \"jeep\", \"minors\", \"infallible\", \"1.05\", \"saddam\", \"wireless\", \"sentences\", \"militia\\\"\", \"floppies.\", \"equal.\", \"infallible,\", \"review,\", \"cereals\", \"tesla\", \"freewill.\", \"iftccu:talk.politics.guns\", \"captain\", \"allah\", \"investigating\", \"sugar\", \"seizure\", \"outlets\", \"carson\", \"outlet\", \"both,\", \"fractal\", \"soundblaster\", \"tiger\", \"cost?\", \"temporarily\", \"execution\", \"verified\", \"uudecode\", \"desired.\", \"picture.\", \"athens,\", \"admittedly,\", \"plus.\", \"one).\", \"enjoy!\", \"interval\", \"microsoft's\", \"grandfather\", \"(hard\", \"edition.\", \"appletalk\", \"xmodmap\", \"subjects.\", \"pulse\", \"page.\", \"gender\", \"want,\", \"volt\", \"unregistered\", \"essence\", \"ground.\", \"henrik]\", \"terminals\", \"authorities.\", \"suter\", \"9600\", \"breaker\", \"meanwhile,\", \"harddisk\", \"probert\", \"polish\", \"andersson\", \"hillary\", \"karabag\", \"archive.\", \"inkjet\", \"cleaner\", \"arabs.\", \"lobbying\", \"too.\\\"\", \"scorers\", \"kenny\", \"mindset\", \"wiring.\", \"presidents\", \"luck!\", \"(713)\", \"nagarno-karabagh\", \"shamir\", \"rs232\", \"cage,\", \"karabakh\", \"fighters\", \"planes\", \"homeland\"], \"Freq\": [7264.0, 3329.0, 4047.0, 1219.0, 1574.0, 1030.0, 925.0, 1484.0, 4365.0, 2186.0, 3519.0, 1254.0, 396.0, 1421.0, 617.0, 966.0, 717.0, 1426.0, 1373.0, 2499.0, 605.0, 1426.0, 1794.0, 647.0, 1593.0, 2643.0, 904.0, 892.0, 403.0, 1610.0, 261.1178198023299, 200.29422446792614, 166.41560456258551, 166.49883633463995, 172.1669594756973, 158.4424179922156, 155.27352189954198, 149.28075914181258, 145.68270920797366, 111.5067833080999, 111.02419312829454, 125.83494776161425, 108.70527966150084, 96.34259902090172, 95.38263356685549, 94.8381974259232, 92.77157263373569, 92.06167834490246, 92.68280648442453, 103.87818454271446, 81.77291396805488, 85.51153144647887, 80.42748712487011, 79.65863151636636, 86.0898409830147, 76.95598086794958, 77.65871523238616, 75.88303988767885, 75.60800764745314, 88.18057649174, 3240.5428439599536, 841.5929985624941, 159.35078876796527, 1560.0172567483098, 164.80238527149473, 163.3202997138417, 202.51784140817026, 804.1806083070383, 203.48230765458655, 395.06997009393, 384.9588037892885, 1070.6299220490682, 709.4272588040832, 1519.7495412623389, 429.2033404851523, 312.71651968371987, 192.46993049859196, 6245.389245461449, 470.2858967108569, 730.5724511699816, 2005.0099030563354, 1281.7565107706387, 538.9532549953689, 1414.3539507475266, 1039.4392617924145, 993.3046178105513, 748.7300946096831, 730.679568149144, 421.15648750104265, 3554.951999838964, 1007.191864347645, 825.839060135197, 1024.0207310570631, 666.8206346818748, 2417.9522471612504, 2059.1780197961393, 2781.8124638668023, 2134.669255841966, 1304.6013677090573, 1088.7019470752498, 1581.631132879175, 1836.6621524915424, 1241.0452182362205, 1019.1628820897856, 983.2771906741813, 1613.5237288210349, 2469.1434890878686, 1258.6956157984569, 1171.3857312152347, 1020.8593895302884, 1303.5220795779599, 1279.989118199364, 1084.4093750787101, 658.503869723118, 559.8357530197045, 443.041682365872, 415.1430881769528, 351.9533758573058, 344.63223362692673, 341.62593437353155, 332.87455671660433, 329.2211237725578, 316.4495845880338, 310.3369911922664, 266.171432527534, 265.1528719655463, 249.56100909952372, 242.51109720825139, 241.01292816989363, 229.77988667425254, 217.85706394002975, 210.24739037946875, 207.22350783444458, 535.1234851801246, 173.4732667829807, 962.4861544661893, 165.9915560305359, 163.64047636222236, 157.46983995618663, 155.16174054717024, 153.49435249120907, 148.9724723045919, 148.68166240565523, 1565.466264062029, 483.9845382384914, 753.1420653655075, 472.42372563570734, 299.7685053643035, 282.8216804979379, 445.7254330723673, 675.5585334009877, 431.81938845559586, 809.7110634570957, 285.7874696218806, 768.4277531167434, 526.4466953623437, 388.4168075301483, 740.3452199527791, 472.86883295155314, 1131.3833494384096, 644.6283942234445, 908.4352773133896, 435.74485831175963, 917.0481058914378, 869.5324865562341, 479.3944522216736, 522.3510789296143, 731.8702347022257, 784.6283366337921, 779.8960114665722, 770.2616581707227, 940.0816533242589, 608.8789409794988, 597.4268544185305, 558.4672002641346, 479.32468365626517, 618.5506789343851, 630.3249914130491, 502.37057165614704, 435.1895648788807, 402.54951984632794, 227.67136031535244, 232.53205782579232, 241.76074476732643, 202.86425376017814, 162.20617543833455, 160.3879091044741, 152.2610724926359, 140.43622304761047, 123.74910403539172, 123.33084346532739, 115.19883181260889, 115.82893765220663, 112.63675319905333, 110.6397992467513, 110.3085286495796, 108.87028366745614, 99.38244529451568, 99.26875584962649, 96.13535782144841, 96.11792073789114, 93.99608599613612, 93.92864901021485, 92.2307937260651, 91.9136461468623, 91.46334111183967, 91.43048087689039, 87.43243463910287, 86.48679576507614, 395.0192150403961, 142.72118629474988, 417.8322908190694, 513.0038248937753, 357.4867934294203, 457.7734772709203, 416.4748835444899, 135.55260749898642, 244.37110676722327, 512.485674987836, 356.5389706711469, 337.4345212331477, 224.78030545772484, 195.02778027950546, 601.7323395988648, 218.5408207008585, 276.135456704872, 269.0503243811028, 170.42468420290948, 219.16481676312793, 615.5661671059552, 321.7292153954933, 249.85168749956136, 376.9940293004674, 400.989835604401, 223.99286647872032, 234.50916137498044, 329.76325817085717, 346.6656044990303, 395.9727481886064, 479.2758146165816, 712.4612872099432, 256.47414227677797, 413.83763512530686, 307.85653684258233, 402.3780721865563, 340.50575928753364, 387.97317169536154, 273.07094875291165, 308.61605269460387, 285.7457710453129, 716.7106189374869, 460.806524383032, 459.88266109305647, 419.7416662553642, 355.9990683036844, 339.94734767606445, 331.8675604790235, 295.1631032146674, 254.09140024681867, 251.9750612233786, 249.38963674628943, 237.38350186727098, 218.58547925150393, 215.54729711661395, 198.96997357023992, 195.9410842565678, 185.57014129320203, 181.43226903618896, 154.46164984523335, 150.92876163962816, 149.32735423896568, 143.14104472377957, 141.98389834770722, 132.14782735750725, 131.88854338544542, 127.99015735094311, 111.89570400580475, 111.647685499874, 108.96175119943368, 95.3947610328038, 254.5892673027563, 344.4270341396125, 149.77497826663082, 335.47315134474485, 317.3758930093063, 551.4812630664559, 305.3108164509521, 842.2573941284982, 304.94264485635927, 293.10546820250124, 350.8555987102298, 300.47757497861426, 499.28355758618613, 368.92096199176973, 270.0257128518908, 243.16627478026282, 322.72889076607703, 326.72342541499575, 247.99378845231038, 518.6268902889096, 299.5366559872507, 244.97283827354923, 239.284137439008, 203.79398134591787, 194.82006292467426, 173.87584257113346, 147.62518646372536, 128.70279356182624, 113.72845328986834, 109.18855279717215, 106.09415203066885, 103.50925709937106, 103.1680467145263, 102.09969407940318, 100.41565394163723, 95.60787875929036, 86.3112389675946, 84.88997768567432, 83.55773840474791, 83.25109106658073, 81.74522786559746, 80.77122016221453, 81.84312326415181, 78.03744933851296, 74.63270675433384, 72.55024441936216, 71.75002680452975, 71.50461809521948, 68.90291245131489, 315.42803586402124, 147.0606899350239, 164.23368309165784, 1155.837821264605, 174.73013695274682, 163.57957743328498, 158.2832004122328, 171.49106989567866, 98.1482294563925, 192.08156183785368, 220.27568033530181, 259.4126809688579, 464.5863260837876, 366.0574489200593, 729.7120571104551, 681.8215439456224, 252.74890341362462, 575.6488274511595, 223.12970175890243, 193.77654694040083, 188.55389334102787, 231.0922744162417, 299.20733218865115, 379.98396390480866, 336.9652672597725, 249.95379425996992, 331.8510441414508, 286.54724268344637, 378.1255354719151, 226.24396519934575, 227.53467343476117, 453.54502788784527, 253.40227793062547, 295.7892019628343, 272.1330785593552, 238.66561399407368, 235.13054546033104, 330.9646539887892, 311.00550671166224, 254.37661459028527, 382.3281704525791, 198.17260000933516, 155.20810521958285, 614.6118417366515, 127.00349863652619, 123.36307097547011, 105.69118034158495, 102.06737771084954, 100.88858165795237, 92.90193744269277, 89.49683536383583, 88.88777534295903, 85.48201577702724, 84.85636203473811, 83.96961547869822, 82.85470525323856, 80.15334916126085, 309.2571546529676, 76.16792081214253, 73.41253337162263, 73.14312804271154, 69.43515923917096, 67.12513319234965, 64.15189836770315, 63.49883758978885, 60.30095743429564, 58.051150159024274, 579.4075416554698, 140.86968970953373, 196.5968539622372, 191.49520824073667, 104.69094682009336, 371.51529456448685, 90.9435182635903, 457.2401813706196, 163.87946743268705, 98.47172178869847, 128.68360510229905, 116.81958740777841, 254.84793889621253, 311.042263370036, 270.2198301611675, 134.33281232149864, 468.01529871527174, 226.1413800676595, 182.1999690658908, 312.5493176722685, 231.1753672382693, 228.72059228103362, 250.0885465060687, 177.42586148883413, 395.05283090082355, 215.7574988414388, 155.70217544740837, 230.12160331076876, 225.9544971938665, 192.18427034961138, 182.66899216705613, 241.00108634925846, 156.99476765895884, 181.4987585788331, 95.35589075830268, 89.94938223817469, 82.14876301236649, 81.80380916853585, 78.97435065852311, 76.47593883516058, 72.62974676023474, 58.97383018586237, 58.4900506426198, 55.92287650692218, 53.77820334306778, 52.800542999138905, 51.86393310001438, 50.297705472717865, 49.272279294274334, 49.21001211096493, 48.59558724769059, 47.86040318348508, 189.42656554415862, 50.952325349765566, 46.99535239515624, 46.86662795318805, 46.35536192544086, 45.61477379094978, 45.18766783409544, 44.83629569636166, 44.084878931933424, 68.48982425650739, 146.8121879215153, 227.23606390087406, 78.84271672658126, 133.47547518023842, 166.39430529553513, 69.52236024495697, 129.60597645147433, 68.2532796482444, 87.70645231961143, 92.07464172773305, 347.68274053225866, 143.9548843630927, 81.27479934982257, 62.05473931791158, 128.20720841259103, 132.3695411603936, 93.03330842936913, 107.61731132660519, 78.56352862530652, 113.48543501829263, 98.88514307507732, 106.19571813398491, 78.51567058864481, 89.94325591773722, 403.2535091104142, 138.84958667721472, 118.14053513937681, 109.65186166799957, 119.60751949117476, 138.41665305410586, 79.88133995104963, 77.91168194314717, 66.78574132331332, 224.80996858612556, 53.73171936836742, 50.101698560408835, 44.552390525189594, 44.73821584597264, 42.368843421143865, 42.31788279180471, 40.67199043576536, 35.1297759056597, 32.833881775700696, 31.710166384641838, 30.24871665211447, 29.946503458822686, 29.80673038357586, 28.82361155782831, 28.177593177708935, 27.511322687282853, 27.34256850704582, 27.29590534678735, 26.974677193378753, 26.796441386841146, 199.36306846223516, 181.96276170161792, 313.745302192539, 139.30182443950952, 63.743175346237294, 36.53648844511034, 192.36729438347578, 55.05963731429946, 54.65817250221282, 144.67487112925275, 237.15495027480804, 404.91587126774317, 65.50240674645363, 130.7332379602005, 100.69705451826269, 126.66464549483116, 59.9908375373057, 136.11271936300574, 139.6060331598878, 117.92056753750177, 121.33804364472466, 161.18173330195805, 71.50407894011713, 115.90667853767081, 86.46538431831397, 75.82213910260168, 78.42851962836075, 77.51604667467979, 84.44076901622584, 82.5380340784705, 78.72375000216317, 49.91385889069116, 42.7331632945428, 41.8571418476321, 41.221206914546904, 33.8573387618782, 32.24423825355754, 31.77345608104782, 31.411739858538006, 30.112365406637103, 29.866170531631923, 28.34759958709501, 27.934211482294995, 26.83239724327702, 26.50927772242032, 25.130763332638196, 24.57780661137498, 24.259783044975325, 23.53359779301654, 22.25337818067997, 21.78636513577557, 20.17759083968726, 19.888899670639788, 18.557304331072345, 18.125293683026094, 17.159105414703475, 17.13064713140306, 16.305486075827044, 92.23382194972268, 27.891403377419316, 52.63178476524097, 148.0300196099753, 32.6284439955068, 41.98103120637264, 26.409600018265998, 118.75055964848335, 34.432049181199964, 49.60094693452261, 53.56709201922715, 29.918479082067297, 49.64692794294143, 280.0814703298963, 121.9135863564952, 112.348938240013, 100.78844860501943, 56.717116922802134, 54.121715299207764, 53.90386889803102, 53.81819999490107, 45.556917949369115, 40.85284830677314, 36.420530324468345, 36.00566276014315, 35.083047935589114, 24.90582871435101, 24.603769827228835, 23.71634326402105, 23.48254247459571, 22.810775140603997, 21.114736590289134, 18.8601862384581, 18.553700810644862, 18.197681921454638, 18.102556491360865, 17.245964215049103, 15.840781342744734, 17.55996979697856, 14.164628488603116, 13.533318743515979, 13.402618032124824, 13.15424670539457, 91.17725624704593, 330.6223039007358, 217.40149118870914, 132.52718075736905, 35.74875280574107, 45.707473802726845, 62.59745732134406, 33.19196151463979, 56.85872039360608, 29.797294944994942, 37.71453916962645, 25.193891228635245, 26.960245193229273, 23.653959212556178, 25.671465704710762, 23.881620995703326, 19.18537145596869, 14.079123004120014, 13.009666000639523, 12.673022904994763, 11.919628851460981, 11.047274802944683, 10.763092191708207, 10.664525476208565, 10.550625305052439, 10.434710507576467, 10.121912503389346, 10.120654965941291, 9.344375014054382, 9.085286209713443, 9.035813178745212, 8.855083072634368, 8.566558428398038, 8.050297601923335, 7.85247525213076, 7.572520789763, 7.56321838105127, 7.219459131212253, 7.2076488656127236, 7.032360335767859, 6.933493671922826, 6.750814703567865, 6.724991476832402, 6.625614339399559, 15.512088530180822, 13.261016298069567, 14.040116887204443, 10.698802995679152, 9.276896260352549, 14.1059996590685, 11.869592013843528, 11.874428881413184, 28.849813075916146, 24.657088000157053, 21.687035173088557, 20.154484239826587, 17.5362294289176, 15.921111651093677, 15.807922962086755, 14.72930990876891, 14.268664492297193, 13.806123226658174, 13.675156002226881, 13.405737938230205, 12.651171755553998, 11.673055338359045, 11.612335898486963, 11.521709715171612, 11.245573819727054, 10.746837990098241, 10.640290316595497, 10.578858943389495, 10.476840242897529, 10.30725439670655, 10.06939343106737, 9.873444669763819, 9.425430328571332, 9.320181398859054, 9.288190330015476, 9.109780945218784, 8.927746164646019, 8.890318585972228, 20.03786179894438, 27.197396009963587, 19.356238294192604, 22.230230011949423, 37.868508525991246, 15.529389934048453, 22.567135238033625, 13.769918367748089, 12.152957007275262, 13.1234987388874, 11.694788707008776, 11.918384080793407, 11.867503417051052, 11.253241159592479, 100.4161317093668, 43.45730816229189, 14.360675859994338, 14.060015510939381, 13.829223057386029, 13.749857365849616, 13.604318054105448, 12.930465729779257, 12.60192839311583, 12.478520335785673, 12.353542383442372, 12.32383545686153, 12.17162993886086, 11.714563467532559, 10.95536237676667, 10.333184502053589, 10.058682649045826, 9.467480963095552, 9.364018552617285, 9.147344834977476, 9.14267092318112, 9.09386934016524, 9.047764509319173, 9.031138894602874, 8.860319595107649, 8.851706498891815, 8.847388255685201, 8.506098445814676, 8.388823435829897, 8.132360240639656, 16.17895963459734, 12.414407804736278, 27.14562566822682, 11.542564338963041, 9.69161340191524, 9.60768180625866, 16.39340008449442, 14.764524097861326, 14.443094963150546, 13.899370534356056, 12.744179901589042, 11.277342107866994, 11.123090927892193, 10.919125229070673, 10.700436576563975, 9.97205031356025, 9.753793148700968, 9.421860711919043, 8.87442727482291, 8.741485633076655, 8.462616654440765, 8.064771354950473, 8.003419167886438, 7.509725285443188, 7.4308523192726, 7.322610815930507, 7.213249825326638, 7.126321431145344, 6.870602806315178, 6.847669089066225, 6.842885825311364, 6.6518052403747205, 6.605787231566752, 6.584302717657739, 6.567463391456413, 6.340596113776231, 8.29959347938286, 7.4842324000785325, 12.66437778417913, 12.52852630824038, 10.481907248092183, 10.21915104977954, 9.94925193411471, 9.921739272184043, 9.810647234482932, 8.84990527561409, 7.70620117865638, 7.506772061533276, 7.479741923342625, 7.297238818994262, 7.25860315291877, 6.546663843276319, 6.546212639535655, 6.225399928674408, 6.220596223773813, 6.179466702749929, 5.733435655729893, 5.59473601735008, 5.512508295301663, 5.3908863759434515, 5.178307263467467, 5.1081299111696845, 5.0278283690814085, 4.992801354181242, 4.967920061571124, 4.953689526240604, 4.8971079899114764, 4.756689177192239, 10.008783422882791, 9.129813088571805, 13.675175953262134, 6.73114010758385, 6.301680765845886, 6.848197626411515, 10.864761941419562, 7.128235613116537, 5.808491097926729, 6.107626943611548, 5.79884894250126, 24.415327654944285, 24.173095933130064, 23.859502006417465, 23.859502006417465, 23.859502006417465, 23.541973651803442, 23.541973651803442, 20.67352071829735, 12.556756596272253, 30.04486248823086, 8.617948456393357, 7.502939461409053, 6.751245105371787, 6.417290214780473, 6.191547493762335, 5.675921806698928, 5.530201224806297, 5.398323445735598, 5.338193784347867, 5.25764796756345, 5.046960551397761, 4.6052996274019735, 4.521410231447308, 4.457186129540155, 4.395971034965614, 4.376296756252384, 4.298644429669936, 4.250397202613021, 4.157877821316948, 4.140096740022573, 30.950171096754623, 28.65028834617374, 27.567927059356208, 6.77598587986673, 4.980425251195319, 4.845768643370843, 22.7224062457225, 13.880623794637971, 9.153027272226234, 8.628403682669083, 8.21504032875345, 6.631785253846947, 6.58012676442774, 5.838400481191542, 5.702663897096805, 5.5177859245876055, 5.429481212986166, 5.385183877995882, 5.251139324894927, 4.990029983143365, 4.860165056225975, 4.809418332916011, 4.7125682273246605, 4.589710020787336, 4.390761417234685, 4.342325982763376, 3.9806590022762838, 3.9623785106956677, 3.915106552434076, 3.7501763321854793, 3.7283168945308245, 3.662863525943796, 3.627771640952192, 3.573036897121254, 3.4879585188915962, 3.460238716408531, 5.704131173919831, 4.11751790014752, 11.290133419169518, 10.107714101553382, 8.729311787013927, 7.039519150321337, 6.443199864825189, 6.3219192989428326, 6.036295900360357, 6.000896915079319, 5.8976935113361595, 5.7850897449615655, 4.481922769344644, 4.454855682942426, 4.279417443349056, 4.202998784130487, 4.04214600155663, 3.8878145550589895, 3.8169113269153363, 3.6908412100725267, 3.662073452430861, 3.601935956490991, 3.3194974272479403, 3.2870969590471195, 3.2351281796347564, 3.19884542786689, 3.074875828674048, 3.020248136831462, 3.003817693146187, 2.9526251056482855, 2.83714926369084, 2.8206277953674084, 10.597864235095889, 5.178663745641888, 4.021390067066158, 3.2387982930452264, 3.0690115249859797, 12.348913869501347, 8.071274993860202, 7.069090176559486, 6.07967736719479, 5.638108912976984, 5.249473639926997, 5.082237855770322, 4.5814033165293475, 4.275408352944689, 4.250392476516528, 4.219503473256406, 3.954966661104378, 3.80743801396888, 3.714772276047498, 3.5671625479016513, 3.525767671453567, 3.4665836213349865, 3.421215775379818, 3.3709105728415354, 3.2625058979348656, 3.194582586759685, 3.13505259099695, 3.133195358912846, 3.122894255021608, 3.1098602441345005, 3.0017019919063412, 2.9850221972362623, 2.871143441254445, 2.8287021428257435, 2.816322821351608, 7.871811892825534, 5.002510739312108, 4.491013888227911, 3.6792263611106444, 3.3489010530912044, 33.54359344706103, 6.621352491454576, 6.150381245435678, 5.783693449609166, 5.736173214597417, 5.713675324874722, 5.698682195915796, 4.971400693427593, 4.079834993265355, 3.9405868013542182, 3.7153462301616313, 3.5268086200929134, 3.4107149313472367, 3.2974662639541226, 3.1986636994340065, 2.6868002803124345, 2.610899955540794, 2.4843212459877306, 2.4314023917128607, 2.397403293711833, 2.2927640640673337, 2.2432632121312577, 2.236934769948493, 2.196234147045719, 2.123790225722678, 2.1162148858440486, 2.1154899700320637, 2.10465508931123, 2.0936324529665633, 1.9656074027995132, 7.850378037606853, 2.6721125388354414, 3.3231889362022415, 2.2159820316005887], \"Total\": [7264.0, 3329.0, 4047.0, 1219.0, 1574.0, 1030.0, 925.0, 1484.0, 4365.0, 2186.0, 3519.0, 1254.0, 396.0, 1421.0, 617.0, 966.0, 717.0, 1426.0, 1373.0, 2499.0, 605.0, 1426.0, 1794.0, 647.0, 1593.0, 2643.0, 904.0, 892.0, 403.0, 1610.0, 261.7852696192577, 200.96075755599946, 167.0816076215055, 167.1680848153425, 172.86653063313375, 159.1151184445947, 155.9395288257086, 149.96191543691884, 146.34872161859678, 112.17278536624988, 111.69091829286754, 126.60504574846993, 109.37186515187926, 97.00894037267739, 96.04863555153345, 95.50435344172614, 93.44115957390389, 92.72768032209959, 93.3550336060868, 104.6489773802094, 82.44154261832097, 86.21716896911285, 81.09352476605005, 80.32494190145236, 86.81164540407694, 77.62198284929592, 78.33232648643191, 76.5490418697989, 76.27400962847214, 88.95830851420905, 3329.797207039282, 859.68345354592, 160.75707994020266, 1610.814277970673, 166.66556010698372, 165.40954743924053, 205.62397039998308, 834.2471767120559, 207.3461465562871, 408.2493117082393, 397.7189008534066, 1137.8634201449302, 748.9372104482871, 1657.1054260293095, 450.388206853104, 325.1257146636074, 197.13126567016843, 7264.7907490760845, 495.31229383741066, 787.0306224706176, 2254.616153896898, 1427.0368408458512, 580.2815325911962, 1607.0083499055281, 1160.195163664569, 1107.9968486618393, 824.8489745070038, 807.2599510421737, 449.5035680767466, 4365.645939228127, 1140.253623332824, 925.2992480028835, 1166.6086732633864, 737.4345289577913, 2971.4912074645645, 2499.4623268995842, 3519.470578958165, 2643.5716053837687, 1566.5650001825811, 1295.1183166759197, 1990.2017206919695, 2369.982711997584, 1522.4081536723836, 1211.1172883454708, 1162.8212204814147, 2224.3275544001294, 4047.1911604353018, 1749.9290391381883, 1586.4411854407094, 1322.6955559381588, 2478.295813953897, 3451.2360980487865, 1906.6809245512345, 659.169698633045, 560.5015819375211, 443.7075114917108, 415.8089170868796, 352.61920759445786, 345.2980718972948, 342.29176663171023, 333.54038588516806, 329.88695268789377, 317.11584830010986, 311.00282010760236, 266.8372614374608, 265.8187008804754, 250.22683824802672, 243.17751735779515, 241.6787570852297, 230.4457155908152, 218.5228928499567, 210.9132192893957, 207.88933674437152, 537.0130511536689, 174.13909569988212, 966.1834926554731, 166.65738494879125, 164.3063603946802, 158.13566886611358, 155.82756945709718, 154.1608703783346, 149.63830121451883, 149.34749131558218, 1574.8810081590866, 489.8317486946042, 778.0009202270535, 487.133381885626, 306.0146968645495, 288.30787290671526, 464.186150807635, 734.4358677300219, 457.0534640882923, 906.9654285847399, 294.87230029225867, 892.7771683082123, 588.4054744044392, 422.99350092080755, 917.5365283767935, 538.6386173659873, 1748.534564809291, 854.2421737138731, 1373.6866153293938, 517.6599136876653, 1565.3665503626862, 1593.4386904947828, 635.5878862675946, 779.2626533537067, 1484.9044897186154, 1794.1656397052793, 1906.6809245512345, 1998.955261270739, 3451.2360980487865, 1254.6952250156562, 1403.103998466623, 1278.7915774850087, 701.5379732921838, 3519.470578958165, 4365.645939228127, 1381.4227309490016, 435.8562542308695, 403.21620919494325, 228.33804966938663, 233.26110410009596, 242.5441631493099, 203.5309449358403, 162.87286747688148, 161.05459844728705, 152.92776204227476, 141.10291353499082, 124.4163605205802, 123.9975328106269, 115.86605941255645, 116.50338843070215, 113.30344271536278, 111.30648860990092, 110.97521799740635, 109.53714670322083, 100.04913470115554, 99.93575101023822, 96.80208179256348, 96.78461008444454, 94.6627753389491, 94.59533841608743, 92.89748587086476, 92.58033983356054, 92.13003080792875, 92.0971702255058, 88.09912468444297, 87.15348599601069, 398.98949694518035, 144.44218806698618, 427.7054635320692, 531.3573976444752, 369.3869051948316, 479.71098107398655, 438.41012139155373, 138.11685996665707, 259.56802347485745, 572.8813086634578, 390.8501092713645, 370.590004339288, 239.8798119787066, 206.09380190104727, 785.8143954349129, 245.30837348302816, 323.3403022684533, 314.80078647258335, 185.42167566082415, 255.67917944325833, 1030.0577484621404, 448.23385791069757, 323.9694281909005, 600.9648136006433, 710.367134095023, 282.74107222112207, 306.58387643924755, 552.4688475767067, 629.3201442012128, 807.4965267387134, 1403.103998466623, 4047.1911604353018, 363.0417182821715, 1485.6865814440746, 642.4843271789982, 1559.943216281127, 1107.1827052453095, 3451.2360980487865, 843.2985398224223, 7264.7907490760845, 2186.6966834427717, 717.3802542931891, 461.47615983492057, 460.55229647000345, 420.4113016110663, 356.6687037282065, 340.61702722857063, 332.53719583846606, 295.832747560666, 254.76103560252082, 252.6447001760736, 250.07443572460065, 238.0531512760205, 219.25511460720608, 216.2169324723161, 199.63960892594207, 196.61071961226995, 186.23977664890418, 182.1048309748598, 155.1312876784561, 151.5983988187789, 149.99698963079678, 143.81068009570913, 142.65353541932177, 132.8174627181824, 132.55817874114757, 128.66016111854518, 112.56533959341274, 112.31732085557618, 109.63138655513586, 96.06439684102293, 268.9024707945702, 469.0885008248603, 169.41215956223266, 543.1312131917936, 564.1092640178186, 1421.9580767383068, 539.5807140028617, 4047.1911604353018, 623.564115259538, 591.603098693488, 852.2078221788553, 699.7777185077854, 2478.295813953897, 1541.4268261629056, 792.1106787592151, 527.9600255209009, 2643.5716053837687, 3451.2360980487865, 7264.7907490760845, 519.286019889515, 300.1926061617817, 245.62878845801703, 239.94008761353905, 204.44993152044893, 195.47601309920532, 174.53179275058747, 148.2811366432587, 129.3587437363573, 114.38440346439945, 109.84450297934704, 106.75010220519997, 104.1652072788251, 103.82400864042425, 102.75564636932654, 101.07160412109127, 96.26382893382147, 86.97200415260038, 85.54592788327267, 84.21562701780988, 83.90704124603477, 82.40117804012857, 81.42717033674565, 82.53100705391303, 78.693399517967, 75.28865692886495, 73.2061946017829, 72.40597697906087, 72.1605682697506, 69.55886762980622, 319.02337551359153, 148.70680974478938, 166.8837501808908, 1219.2384639410002, 182.28742821893928, 170.7259521409193, 168.63431841018112, 185.35120187673724, 100.76477805352206, 217.6781412601869, 259.7649053993672, 318.4064623422112, 652.7531546509424, 535.0166466316264, 1484.9044897186154, 1426.1548146341152, 362.75488106911746, 1254.6952250156562, 318.77972277195215, 274.52442038299165, 264.2738158434564, 371.32032958287556, 586.5645044709819, 943.9823192971666, 802.1818044997924, 451.4328488153458, 839.3616521542516, 642.4843271789982, 1373.6866153293938, 392.34509255604104, 415.1287164926691, 3451.2360980487865, 682.5091384373623, 1593.4386904947828, 1188.267973443886, 710.367134095023, 647.5974061033284, 331.6358103985956, 311.6766631214686, 255.04777100009164, 383.4210660583291, 198.8437564772622, 155.87930315079913, 617.7075022834548, 127.6746550463326, 124.03422738527652, 106.36233675639365, 102.73853412065596, 101.55973807276106, 93.57309385249918, 90.16799177864452, 89.55893175276545, 86.15317218683366, 85.52751844454453, 84.64173429172894, 83.52586166804726, 80.82450558632225, 311.97926567345354, 76.83907722194894, 74.08368978142904, 73.81428445251795, 70.10631570706646, 67.79628960215607, 64.82305477750957, 64.16999399959525, 60.972113854434085, 58.72230657423979, 605.9952657879179, 146.02390788848635, 211.88141671764663, 209.5187035691114, 109.51375482082018, 436.4128616234369, 94.60427049681009, 647.161194999082, 191.7922372305736, 105.90923368934476, 154.2074341010622, 137.48604182580843, 437.1436864368054, 655.656301293895, 550.3740069242151, 177.994525808101, 1426.5131753705841, 424.6816443170644, 306.10272065102026, 835.6222867030227, 488.9845778188903, 499.47389987823345, 613.4079971743323, 314.32296342328004, 2186.6966834427717, 843.8808528202635, 294.68161610128425, 1405.6151784281278, 1485.6865814440746, 778.9806587475011, 904.3149118031735, 241.67434561099526, 157.66802689731685, 182.72837124852677, 96.0291499925115, 90.62264149444597, 82.82202224657532, 82.47706842979034, 79.64760994688419, 77.1491980693694, 73.30300603856847, 59.64708943910346, 59.16330987682861, 56.59613574113099, 54.451462582199525, 53.473802253039445, 52.537192659639416, 50.97096471184961, 49.94553852848315, 49.883271345173746, 49.2688464818994, 48.53366242261683, 192.11041910605056, 51.68063374330944, 47.66861162936505, 47.539887192319796, 47.028621159649674, 46.28820718542867, 45.86092720010722, 45.50955769212733, 44.75813819042476, 69.81329372407906, 157.3351819209005, 263.2862270104985, 83.58748091448324, 165.469744130534, 232.6943734037686, 77.95754524950345, 184.19149657033813, 79.05823056469237, 113.51955285438221, 123.64759563506296, 925.9353416175509, 256.74108847386634, 108.4627606836222, 72.77472899515163, 298.5117270385561, 385.38297220417576, 190.31643417826425, 283.9647499696392, 135.7650657828491, 892.7771683082123, 757.2758418263959, 2499.4623268995842, 221.7968587646371, 1998.955261270739, 403.93089130632785, 139.52805022761714, 118.81809351070217, 110.32916393511205, 120.52954416885987, 139.53102580098874, 80.55869125528665, 78.59799492938458, 67.46303408006837, 227.52127315030341, 54.41025104475941, 50.77899131716387, 45.22968328991574, 45.4190448361039, 43.04613619861311, 42.99517555348268, 41.349283196342284, 35.80707572187552, 33.511190001558035, 32.387459145546096, 30.92627910074987, 30.623796220500658, 30.48402314696663, 29.500904352887854, 28.854885938613197, 28.18861554956192, 28.019861280596142, 27.973198117289495, 27.65196996546814, 27.4737386323535, 204.99290032576297, 203.74486008737344, 376.68191764286917, 164.94951104540078, 71.6193362354659, 39.01456853201901, 273.6720771333322, 63.43976723512055, 63.48066335143867, 221.49699324668603, 459.30410460895496, 1030.0577484621404, 88.56932678178558, 245.54779359093786, 168.59180221397747, 287.60893587992473, 80.09407449972849, 348.89755972035255, 371.32032958287556, 317.7421441642347, 379.28249548813903, 807.4965267387134, 123.15222070530645, 485.82028496698274, 249.33733007686388, 257.9822420961204, 448.23385791069757, 1998.955261270739, 85.1313851183802, 83.22864966156745, 79.41436558526011, 50.60447569801827, 43.423778881461615, 42.547757430729035, 41.91182250146572, 34.54795434497513, 32.934853836654476, 32.464071664144754, 32.10235545029828, 30.80298098973404, 30.556786114728858, 29.038215174013835, 28.624827075237793, 27.523012835037303, 27.199893305517257, 25.8213789325694, 25.268422367116145, 24.95039863189415, 24.224213376113475, 22.943993763776906, 22.4769807251809, 20.868206433195613, 20.57951527273213, 19.247919977771122, 18.81590926612303, 17.849721051584467, 17.8212627156858, 16.996101666813615, 102.75471822468845, 30.924354837613315, 69.63033961785104, 307.4129245807915, 44.68802656132963, 66.30749237943238, 33.281711770490624, 925.9353416175509, 63.48308244030486, 373.59670379301593, 904.3149118031735, 82.11779558795315, 2186.6966834427717, 280.77407801194755, 122.60619400953424, 113.04154589885448, 101.48105640057949, 57.40972457584117, 54.8143229522468, 54.59647974267405, 54.510807647940105, 46.24956940367402, 41.54545657324045, 37.11313806353695, 36.698270413182186, 35.77565558862815, 25.598436367390043, 25.296377637365357, 24.408950917060082, 24.175150127634744, 23.50338279364303, 21.80734436233698, 19.552793906831482, 19.246308463683896, 18.89028962560541, 18.795164148221787, 17.938571868088136, 16.53338900534212, 18.405886701352504, 14.857236141642145, 14.22592644481074, 14.09522569720271, 13.846854373395265, 100.54168128558246, 396.98729971055224, 324.5764665478273, 217.69740960912446, 45.10606622647343, 67.66178427242016, 136.27060682852058, 73.63877407811229, 306.58387643924755, 68.62683922685676, 305.7556159297092, 66.38136563171324, 116.47369867993628, 200.10528490033906, 26.366448242871478, 24.576603548781353, 19.880353922115127, 14.774105474088335, 13.704648466785958, 13.36800550961009, 12.614611330660322, 11.742257282064513, 11.458074735047056, 11.359507942355, 11.245607781530934, 11.129693046906203, 10.816894991132989, 10.815637437010656, 10.039357525600645, 9.780268675859878, 9.730795688293554, 9.550065538780803, 9.261540943872939, 8.745280262670994, 8.54745783824194, 8.2675033241415, 8.258200847197704, 7.91444163782871, 7.902631336761446, 7.727342836769365, 7.628476645083984, 7.445797169714301, 7.4199739591656995, 7.3205968055459945, 19.659450384455596, 20.625352510150627, 24.047604133161645, 16.006539296235434, 15.680629956526127, 48.93376625598512, 74.5835867322121, 96.59129756034625, 29.553436234317065, 25.359252280425935, 22.38919946291579, 20.856648527739246, 18.238393709186482, 16.62327593933367, 16.510087251273806, 15.431474196681563, 14.970828818245804, 14.508287506927052, 14.3773203130851, 14.107902224319558, 13.353336077230479, 12.375219633634783, 12.314500198765808, 12.223874168682157, 11.947738104918864, 11.449002280318782, 11.342454596864375, 11.281023223658373, 11.179004551570435, 11.00941868189836, 10.77155772504382, 10.575608953854585, 10.127594675740228, 10.022345679127932, 9.990354618947702, 9.811945246151785, 9.629910542458983, 9.592482909375322, 22.59243401647394, 45.59816097423572, 30.269584126135573, 37.53693357556282, 87.58970075269718, 24.238442561106034, 53.41831162498811, 27.98660042710213, 28.479256393759385, 118.97187654285663, 33.83560063210034, 115.20955967722963, 166.23835722311654, 76.9724029305528, 101.1191181807706, 44.16029037904676, 15.063658074147407, 14.762997725622734, 14.532205276868874, 14.452839582560587, 14.307300268010385, 13.633448190427123, 13.30491060165177, 13.181502534604393, 13.056524597109242, 13.026818877583441, 12.874612164279077, 12.417545665577569, 11.658344575635475, 11.0361667000986, 10.761664854546503, 10.170463156991342, 10.067000751922206, 9.85032705938325, 9.845653235880869, 9.796851589833079, 9.750746706955379, 9.73412117737947, 9.5633017993355, 9.554688747191143, 9.550370449580992, 9.209080644633396, 9.091805634648617, 8.835342434535447, 21.0802162235215, 17.043487557985173, 171.65796376423958, 112.96693559864289, 45.856402902225206, 44.63889351550683, 17.098013213089768, 15.469137230117573, 15.147741455209246, 14.60398364574927, 13.448793054256228, 11.981955229106072, 11.827704043107296, 11.62373849785095, 11.405049744948798, 10.676663451528373, 10.458406271375594, 10.126473848295241, 9.579040423921393, 9.44609877603161, 9.167229792961326, 8.769384502076166, 8.708032294127802, 8.21433846575316, 8.135465435588745, 8.027224009358482, 7.917862956897777, 7.83093454253856, 7.575215932189677, 7.552282200459441, 7.54749893670458, 7.356418384263883, 7.310400346700384, 7.288915829050954, 7.272076502849629, 7.0452092251694465, 9.305884228054426, 25.955250074264196, 13.372795050128387, 13.23694357654346, 11.190324531233854, 10.92756832289055, 10.657669206837832, 10.630156578636432, 10.519064493553033, 9.558322530943775, 8.41461844154837, 8.215189316862961, 8.188159195792966, 8.005656107181139, 7.967020436046228, 7.255081100259226, 7.254629943197026, 6.933817179854873, 6.929013819640448, 6.887884003021218, 6.4418529127128, 6.303153304288985, 6.220925550304016, 6.099303646684881, 5.886724520450374, 5.8165471756489175, 5.736245686582854, 5.701218641139928, 5.676337337655242, 5.662106790394464, 5.605525275515001, 5.465106461383345, 13.497760436566374, 13.037918487084433, 30.08102128925675, 18.921008215454627, 15.300936460120775, 33.54297831836822, 600.9648136006433, 45.621459641423876, 15.313684424821245, 48.506864861678736, 24.639025535105997, 25.12566417868457, 24.88343245687035, 24.56983853015775, 24.56983853015775, 24.56983853015775, 24.252310175543727, 24.252310175543727, 21.383857242037635, 13.267093129937754, 32.492779793551534, 9.32828501072298, 8.213305653222244, 7.4615817627085725, 7.127626743523044, 6.901884038560055, 6.386258335441499, 6.240537827002023, 6.1086599744781696, 6.048530328623852, 5.967984505077287, 5.757297117244617, 5.315636161067475, 5.231746755187593, 5.167522742604518, 5.106307626810205, 5.0866332849155995, 5.0089809886565, 4.960733801811912, 4.868214366654442, 4.850433273714521, 43.479923497618756, 40.28240673828459, 48.304007373979566, 12.298745034119046, 8.518178005023218, 11.486505114974344, 23.43446590007907, 14.592683490698514, 9.865086979467593, 9.340463369074808, 8.927182764620994, 7.343844928254012, 7.292186413415707, 6.550460186736051, 6.414723566342052, 6.229845581219349, 6.141540954366296, 6.097243530805738, 5.963199021057404, 5.702089760470546, 5.57222488233902, 5.521478048280676, 5.424627876312628, 5.301769795444082, 5.102821066222653, 5.054385635900565, 4.692718757877939, 4.674438262794408, 4.627166218217328, 4.462235991098664, 4.440376565480907, 4.374923187944141, 4.339831310651325, 4.285096546109221, 4.200018172028785, 4.172298374139202, 7.992310461064272, 6.41415108800131, 12.003190606736196, 10.8207713184727, 9.442369034015282, 7.752576344704144, 7.156257132751996, 7.034976474904626, 6.749353107189912, 6.713954094863001, 6.610750727445645, 6.498146926743835, 5.194979966964663, 5.167912935274424, 4.992474673924332, 4.916056043897762, 4.755203201957484, 4.600871757061568, 4.529968514482015, 4.403898398590124, 4.375130640431513, 4.314993310623199, 4.032554621051035, 4.000154151196991, 3.948185385779046, 3.911902637433241, 3.787933051100305, 3.7333053848082343, 3.71687486910798, 3.6656822816100787, 3.550206439652633, 3.5336849793003107, 19.134508573215037, 12.19138450062027, 7.515777393563954, 9.401903773531409, 14.095719200525503, 13.062529243614796, 8.784890435521737, 7.782705550672935, 6.793292752251337, 6.351724317719752, 5.9630890126992195, 5.795853237855036, 5.295321694242041, 4.989023875447872, 4.9640079216337405, 4.933118857871711, 4.668582090868645, 4.521053425393431, 4.428387661311198, 4.280777965104684, 4.239383052848644, 4.180199025879065, 4.134831144411624, 4.084525952205404, 3.9761216957533256, 3.908197971125839, 3.848667993385142, 3.8468107230217212, 3.8365096743230525, 3.8234756180892377, 3.715317371270209, 3.6986375932721987, 3.584758810365607, 3.5423178288065964, 3.5299382211688664, 9.894446751322318, 6.950855162683805, 11.601446957571637, 23.59364469147565, 28.06335752084306, 34.257603855155665, 7.3353629693464475, 6.864391765947695, 6.49770391506528, 6.450183630537605, 6.427685760806196, 6.412692724624278, 5.6854111089609365, 4.793845425627988, 4.65459723103853, 4.4293566650730485, 4.24081902985026, 4.124725348564106, 4.01147699055742, 3.9126741149673503, 3.4008107659558076, 3.324910371933869, 3.198331700605585, 3.145413002523836, 3.111413724800073, 3.006774482321523, 2.957273617739384, 2.9509452196249564, 2.910244603851309, 2.837800655454511, 2.830225305933457, 2.8295003756401895, 2.8186655509294716, 2.807642858574689, 2.679617829601289, 39.27613991043203, 5.145016528115829, 34.6047252214456, 26.919947884310282], \"Category\": [\"Default\", \"Default\", \"Default\", \"Default\", \"Default\", \"Default\", \"Default\", \"Default\", \"Default\", \"Default\", \"Default\", \"Default\", \"Default\", \"Default\", \"Default\", \"Default\", \"Default\", \"Default\", \"Default\", \"Default\", \"Default\", \"Default\", \"Default\", \"Default\", \"Default\", \"Default\", \"Default\", \"Default\", \"Default\", \"Default\", \"Topic1\", \"Topic1\", \"Topic1\", \"Topic1\", \"Topic1\", \"Topic1\", \"Topic1\", \"Topic1\", \"Topic1\", \"Topic1\", \"Topic1\", \"Topic1\", \"Topic1\", \"Topic1\", \"Topic1\", \"Topic1\", \"Topic1\", \"Topic1\", \"Topic1\", \"Topic1\", \"Topic1\", \"Topic1\", \"Topic1\", \"Topic1\", \"Topic1\", \"Topic1\", \"Topic1\", \"Topic1\", \"Topic1\", \"Topic1\", \"Topic1\", \"Topic1\", \"Topic1\", \"Topic1\", \"Topic1\", \"Topic1\", \"Topic1\", \"Topic1\", \"Topic1\", \"Topic1\", \"Topic1\", \"Topic1\", \"Topic1\", \"Topic1\", \"Topic1\", \"Topic1\", \"Topic1\", \"Topic1\", \"Topic1\", \"Topic1\", \"Topic1\", \"Topic1\", \"Topic1\", \"Topic1\", \"Topic1\", \"Topic1\", \"Topic1\", \"Topic1\", \"Topic1\", \"Topic1\", \"Topic1\", \"Topic1\", \"Topic1\", \"Topic1\", \"Topic1\", \"Topic1\", \"Topic1\", \"Topic1\", \"Topic1\", \"Topic1\", \"Topic1\", \"Topic1\", \"Topic1\", \"Topic1\", \"Topic1\", \"Topic1\", \"Topic1\", \"Topic1\", \"Topic1\", \"Topic1\", \"Topic1\", \"Topic1\", \"Topic1\", \"Topic2\", \"Topic2\", \"Topic2\", \"Topic2\", \"Topic2\", \"Topic2\", \"Topic2\", \"Topic2\", \"Topic2\", \"Topic2\", \"Topic2\", \"Topic2\", \"Topic2\", \"Topic2\", \"Topic2\", \"Topic2\", \"Topic2\", \"Topic2\", \"Topic2\", \"Topic2\", \"Topic2\", \"Topic2\", \"Topic2\", \"Topic2\", \"Topic2\", \"Topic2\", \"Topic2\", \"Topic2\", \"Topic2\", \"Topic2\", \"Topic2\", \"Topic2\", \"Topic2\", \"Topic2\", \"Topic2\", \"Topic2\", \"Topic2\", \"Topic2\", \"Topic2\", \"Topic2\", \"Topic2\", \"Topic2\", \"Topic2\", \"Topic2\", \"Topic2\", \"Topic2\", \"Topic2\", \"Topic2\", \"Topic2\", \"Topic2\", \"Topic2\", \"Topic2\", \"Topic2\", \"Topic2\", \"Topic2\", \"Topic2\", \"Topic2\", \"Topic2\", \"Topic2\", \"Topic2\", \"Topic2\", \"Topic2\", \"Topic2\", \"Topic2\", \"Topic2\", \"Topic2\", \"Topic3\", \"Topic3\", \"Topic3\", \"Topic3\", \"Topic3\", \"Topic3\", \"Topic3\", \"Topic3\", \"Topic3\", \"Topic3\", \"Topic3\", \"Topic3\", \"Topic3\", \"Topic3\", \"Topic3\", \"Topic3\", \"Topic3\", \"Topic3\", \"Topic3\", \"Topic3\", \"Topic3\", \"Topic3\", \"Topic3\", \"Topic3\", \"Topic3\", \"Topic3\", \"Topic3\", \"Topic3\", \"Topic3\", \"Topic3\", \"Topic3\", \"Topic3\", \"Topic3\", \"Topic3\", \"Topic3\", \"Topic3\", \"Topic3\", \"Topic3\", \"Topic3\", \"Topic3\", \"Topic3\", \"Topic3\", \"Topic3\", \"Topic3\", \"Topic3\", \"Topic3\", \"Topic3\", \"Topic3\", \"Topic3\", \"Topic3\", \"Topic3\", \"Topic3\", \"Topic3\", \"Topic3\", \"Topic3\", \"Topic3\", \"Topic3\", \"Topic3\", \"Topic3\", \"Topic3\", \"Topic3\", \"Topic3\", \"Topic3\", \"Topic3\", \"Topic3\", \"Topic3\", \"Topic3\", \"Topic3\", \"Topic3\", \"Topic3\", \"Topic3\", \"Topic4\", \"Topic4\", \"Topic4\", \"Topic4\", \"Topic4\", \"Topic4\", \"Topic4\", \"Topic4\", \"Topic4\", \"Topic4\", \"Topic4\", \"Topic4\", \"Topic4\", \"Topic4\", \"Topic4\", \"Topic4\", \"Topic4\", \"Topic4\", \"Topic4\", \"Topic4\", \"Topic4\", \"Topic4\", \"Topic4\", \"Topic4\", \"Topic4\", \"Topic4\", \"Topic4\", \"Topic4\", \"Topic4\", \"Topic4\", \"Topic4\", \"Topic4\", \"Topic4\", \"Topic4\", \"Topic4\", \"Topic4\", \"Topic4\", \"Topic4\", \"Topic4\", \"Topic4\", \"Topic4\", \"Topic4\", \"Topic4\", \"Topic4\", \"Topic4\", \"Topic4\", \"Topic4\", \"Topic4\", \"Topic4\", \"Topic5\", \"Topic5\", \"Topic5\", \"Topic5\", \"Topic5\", \"Topic5\", \"Topic5\", \"Topic5\", \"Topic5\", \"Topic5\", \"Topic5\", \"Topic5\", \"Topic5\", \"Topic5\", \"Topic5\", \"Topic5\", \"Topic5\", \"Topic5\", \"Topic5\", \"Topic5\", \"Topic5\", \"Topic5\", \"Topic5\", \"Topic5\", \"Topic5\", \"Topic5\", \"Topic5\", \"Topic5\", \"Topic5\", \"Topic5\", \"Topic5\", \"Topic5\", \"Topic5\", \"Topic5\", \"Topic5\", \"Topic5\", \"Topic5\", \"Topic5\", \"Topic5\", \"Topic5\", \"Topic5\", \"Topic5\", \"Topic5\", \"Topic5\", \"Topic5\", \"Topic5\", \"Topic5\", \"Topic5\", \"Topic5\", \"Topic5\", \"Topic5\", \"Topic5\", \"Topic5\", \"Topic5\", \"Topic5\", \"Topic5\", \"Topic5\", \"Topic5\", \"Topic5\", \"Topic5\", \"Topic5\", \"Topic5\", \"Topic5\", \"Topic5\", \"Topic5\", \"Topic5\", \"Topic5\", \"Topic6\", \"Topic6\", \"Topic6\", \"Topic6\", \"Topic6\", \"Topic6\", \"Topic6\", \"Topic6\", \"Topic6\", \"Topic6\", \"Topic6\", \"Topic6\", \"Topic6\", \"Topic6\", \"Topic6\", \"Topic6\", \"Topic6\", \"Topic6\", \"Topic6\", \"Topic6\", \"Topic6\", \"Topic6\", \"Topic6\", \"Topic6\", \"Topic6\", \"Topic6\", \"Topic6\", \"Topic6\", \"Topic6\", \"Topic6\", \"Topic6\", \"Topic6\", \"Topic6\", \"Topic6\", \"Topic6\", \"Topic6\", \"Topic6\", \"Topic6\", \"Topic6\", \"Topic6\", \"Topic6\", \"Topic6\", \"Topic6\", \"Topic6\", \"Topic6\", \"Topic6\", \"Topic6\", \"Topic6\", \"Topic6\", \"Topic6\", \"Topic6\", \"Topic6\", \"Topic6\", \"Topic6\", \"Topic6\", \"Topic6\", \"Topic6\", \"Topic6\", \"Topic6\", \"Topic6\", \"Topic6\", \"Topic7\", \"Topic7\", \"Topic7\", \"Topic7\", \"Topic7\", \"Topic7\", \"Topic7\", \"Topic7\", \"Topic7\", \"Topic7\", \"Topic7\", \"Topic7\", \"Topic7\", \"Topic7\", \"Topic7\", \"Topic7\", \"Topic7\", \"Topic7\", \"Topic7\", \"Topic7\", \"Topic7\", \"Topic7\", \"Topic7\", \"Topic7\", \"Topic7\", \"Topic7\", \"Topic7\", \"Topic7\", \"Topic7\", \"Topic7\", \"Topic7\", \"Topic7\", \"Topic7\", \"Topic7\", \"Topic7\", \"Topic7\", \"Topic7\", \"Topic7\", \"Topic7\", \"Topic7\", \"Topic7\", \"Topic7\", \"Topic7\", \"Topic7\", \"Topic7\", \"Topic7\", \"Topic7\", \"Topic7\", \"Topic7\", \"Topic7\", \"Topic7\", \"Topic7\", \"Topic7\", \"Topic7\", \"Topic7\", \"Topic8\", \"Topic8\", \"Topic8\", \"Topic8\", \"Topic8\", \"Topic8\", \"Topic8\", \"Topic8\", \"Topic8\", \"Topic8\", \"Topic8\", \"Topic8\", \"Topic8\", \"Topic8\", \"Topic8\", \"Topic8\", \"Topic8\", \"Topic8\", \"Topic8\", \"Topic8\", \"Topic8\", \"Topic8\", \"Topic8\", \"Topic8\", \"Topic8\", \"Topic8\", \"Topic8\", \"Topic8\", \"Topic8\", \"Topic8\", \"Topic8\", \"Topic8\", \"Topic8\", \"Topic8\", \"Topic8\", \"Topic8\", \"Topic8\", \"Topic8\", \"Topic8\", \"Topic8\", \"Topic8\", \"Topic8\", \"Topic8\", \"Topic8\", \"Topic8\", \"Topic8\", \"Topic8\", \"Topic8\", \"Topic8\", \"Topic8\", \"Topic8\", \"Topic8\", \"Topic8\", \"Topic8\", \"Topic8\", \"Topic8\", \"Topic8\", \"Topic8\", \"Topic9\", \"Topic9\", \"Topic9\", \"Topic9\", \"Topic9\", \"Topic9\", \"Topic9\", \"Topic9\", \"Topic9\", \"Topic9\", \"Topic9\", \"Topic9\", \"Topic9\", \"Topic9\", \"Topic9\", \"Topic9\", \"Topic9\", \"Topic9\", \"Topic9\", \"Topic9\", \"Topic9\", \"Topic9\", \"Topic9\", \"Topic9\", \"Topic9\", \"Topic9\", \"Topic9\", \"Topic9\", \"Topic9\", \"Topic9\", \"Topic9\", \"Topic9\", \"Topic9\", \"Topic9\", \"Topic9\", \"Topic9\", \"Topic9\", \"Topic9\", \"Topic9\", \"Topic9\", \"Topic9\", \"Topic9\", \"Topic9\", \"Topic10\", \"Topic10\", \"Topic10\", \"Topic10\", \"Topic10\", \"Topic10\", \"Topic10\", \"Topic10\", \"Topic10\", \"Topic10\", \"Topic10\", \"Topic10\", \"Topic10\", \"Topic10\", \"Topic10\", \"Topic10\", \"Topic10\", \"Topic10\", \"Topic10\", \"Topic10\", \"Topic10\", \"Topic10\", \"Topic10\", \"Topic10\", \"Topic10\", \"Topic10\", \"Topic10\", \"Topic10\", \"Topic10\", \"Topic10\", \"Topic10\", \"Topic10\", \"Topic10\", \"Topic10\", \"Topic10\", \"Topic10\", \"Topic10\", \"Topic10\", \"Topic10\", \"Topic10\", \"Topic10\", \"Topic10\", \"Topic10\", \"Topic10\", \"Topic11\", \"Topic11\", \"Topic11\", \"Topic11\", \"Topic11\", \"Topic11\", \"Topic11\", \"Topic11\", \"Topic11\", \"Topic11\", \"Topic11\", \"Topic11\", \"Topic11\", \"Topic11\", \"Topic11\", \"Topic11\", \"Topic11\", \"Topic11\", \"Topic11\", \"Topic11\", \"Topic11\", \"Topic11\", \"Topic11\", \"Topic11\", \"Topic11\", \"Topic11\", \"Topic11\", \"Topic11\", \"Topic11\", \"Topic11\", \"Topic11\", \"Topic11\", \"Topic11\", \"Topic11\", \"Topic11\", \"Topic11\", \"Topic11\", \"Topic11\", \"Topic12\", \"Topic12\", \"Topic12\", \"Topic12\", \"Topic12\", \"Topic12\", \"Topic12\", \"Topic12\", \"Topic12\", \"Topic12\", \"Topic12\", \"Topic12\", \"Topic12\", \"Topic12\", \"Topic12\", \"Topic12\", \"Topic12\", \"Topic12\", \"Topic12\", \"Topic12\", \"Topic12\", \"Topic12\", \"Topic12\", \"Topic12\", \"Topic12\", \"Topic12\", \"Topic12\", \"Topic12\", \"Topic12\", \"Topic12\", \"Topic12\", \"Topic12\", \"Topic12\", \"Topic12\", \"Topic12\", \"Topic12\", \"Topic12\", \"Topic12\", \"Topic12\", \"Topic12\", \"Topic12\", \"Topic12\", \"Topic12\", \"Topic12\", \"Topic13\", \"Topic13\", \"Topic13\", \"Topic13\", \"Topic13\", \"Topic13\", \"Topic13\", \"Topic13\", \"Topic13\", \"Topic13\", \"Topic13\", \"Topic13\", \"Topic13\", \"Topic13\", \"Topic13\", \"Topic13\", \"Topic13\", \"Topic13\", \"Topic13\", \"Topic13\", \"Topic13\", \"Topic13\", \"Topic13\", \"Topic13\", \"Topic13\", \"Topic13\", \"Topic13\", \"Topic13\", \"Topic13\", \"Topic13\", \"Topic13\", \"Topic13\", \"Topic13\", \"Topic13\", \"Topic13\", \"Topic13\", \"Topic14\", \"Topic14\", \"Topic14\", \"Topic14\", \"Topic14\", \"Topic14\", \"Topic14\", \"Topic14\", \"Topic14\", \"Topic14\", \"Topic14\", \"Topic14\", \"Topic14\", \"Topic14\", \"Topic14\", \"Topic14\", \"Topic14\", \"Topic14\", \"Topic14\", \"Topic14\", \"Topic14\", \"Topic14\", \"Topic14\", \"Topic14\", \"Topic14\", \"Topic14\", \"Topic14\", \"Topic14\", \"Topic14\", \"Topic14\", \"Topic14\", \"Topic14\", \"Topic15\", \"Topic15\", \"Topic15\", \"Topic15\", \"Topic15\", \"Topic15\", \"Topic15\", \"Topic15\", \"Topic15\", \"Topic15\", \"Topic15\", \"Topic15\", \"Topic15\", \"Topic15\", \"Topic15\", \"Topic15\", \"Topic15\", \"Topic15\", \"Topic15\", \"Topic15\", \"Topic15\", \"Topic15\", \"Topic15\", \"Topic15\", \"Topic15\", \"Topic15\", \"Topic15\", \"Topic15\", \"Topic15\", \"Topic15\", \"Topic15\", \"Topic15\", \"Topic15\", \"Topic15\", \"Topic15\", \"Topic15\", \"Topic15\", \"Topic15\", \"Topic15\", \"Topic15\", \"Topic15\", \"Topic16\", \"Topic16\", \"Topic16\", \"Topic16\", \"Topic16\", \"Topic16\", \"Topic16\", \"Topic16\", \"Topic16\", \"Topic16\", \"Topic16\", \"Topic16\", \"Topic16\", \"Topic16\", \"Topic16\", \"Topic16\", \"Topic16\", \"Topic16\", \"Topic16\", \"Topic16\", \"Topic16\", \"Topic16\", \"Topic16\", \"Topic16\", \"Topic16\", \"Topic16\", \"Topic16\", \"Topic16\", \"Topic16\", \"Topic16\", \"Topic16\", \"Topic16\", \"Topic16\", \"Topic16\", \"Topic16\", \"Topic16\", \"Topic17\", \"Topic17\", \"Topic17\", \"Topic17\", \"Topic17\", \"Topic17\", \"Topic17\", \"Topic17\", \"Topic17\", \"Topic17\", \"Topic17\", \"Topic17\", \"Topic17\", \"Topic17\", \"Topic17\", \"Topic17\", \"Topic17\", \"Topic17\", \"Topic17\", \"Topic17\", \"Topic17\", \"Topic17\", \"Topic17\", \"Topic17\", \"Topic17\", \"Topic17\", \"Topic17\", \"Topic17\", \"Topic17\", \"Topic17\", \"Topic17\", \"Topic17\", \"Topic18\", \"Topic18\", \"Topic18\", \"Topic18\", \"Topic18\", \"Topic18\", \"Topic18\", \"Topic18\", \"Topic18\", \"Topic18\", \"Topic18\", \"Topic18\", \"Topic18\", \"Topic18\", \"Topic18\", \"Topic18\", \"Topic18\", \"Topic18\", \"Topic18\", \"Topic18\", \"Topic18\", \"Topic18\", \"Topic18\", \"Topic18\", \"Topic18\", \"Topic18\", \"Topic18\", \"Topic18\", \"Topic18\", \"Topic18\", \"Topic18\", \"Topic18\", \"Topic18\", \"Topic18\", \"Topic18\", \"Topic19\", \"Topic19\", \"Topic19\", \"Topic19\", \"Topic19\", \"Topic19\", \"Topic19\", \"Topic19\", \"Topic19\", \"Topic19\", \"Topic19\", \"Topic19\", \"Topic19\", \"Topic19\", \"Topic19\", \"Topic19\", \"Topic19\", \"Topic19\", \"Topic19\", \"Topic19\", \"Topic19\", \"Topic19\", \"Topic19\", \"Topic19\", \"Topic19\", \"Topic19\", \"Topic19\", \"Topic19\", \"Topic19\", \"Topic19\", \"Topic19\", \"Topic19\", \"Topic19\", \"Topic19\", \"Topic19\", \"Topic20\", \"Topic20\", \"Topic20\", \"Topic20\", \"Topic20\", \"Topic20\", \"Topic20\", \"Topic20\", \"Topic20\", \"Topic20\", \"Topic20\", \"Topic20\", \"Topic20\", \"Topic20\", \"Topic20\", \"Topic20\", \"Topic20\", \"Topic20\", \"Topic20\", \"Topic20\", \"Topic20\", \"Topic20\", \"Topic20\", \"Topic20\", \"Topic20\", \"Topic20\", \"Topic20\", \"Topic20\", \"Topic20\", \"Topic20\", \"Topic20\", \"Topic20\", \"Topic20\", \"Topic20\"], \"logprob\": [30.0, 29.0, 28.0, 27.0, 26.0, 25.0, 24.0, 23.0, 22.0, 21.0, 20.0, 19.0, 18.0, 17.0, 16.0, 15.0, 14.0, 13.0, 12.0, 11.0, 10.0, 9.0, 8.0, 7.0, 6.0, 5.0, 4.0, 3.0, 2.0, 1.0, -7.12, -7.3852, -7.5705, -7.57, -7.5365, -7.6196, -7.6398, -7.6791, -7.7035, -7.9709, -7.9752, -7.85, -7.9963, -8.117, -8.1271, -8.1328, -8.1548, -8.1625, -8.1558, -8.0417, -8.281, -8.2363, -8.2976, -8.3072, -8.2296, -8.3417, -8.3326, -8.3558, -8.3594, -8.2056, -4.6015, -5.9497, -7.6138, -5.3325, -7.5802, -7.5892, -7.3741, -5.9951, -7.3694, -6.7059, -6.7318, -5.7089, -6.1205, -5.3586, -6.623, -6.9397, -7.425, -3.9454, -6.5316, -6.0911, -5.0815, -5.529, -6.3953, -5.4305, -5.7385, -5.7839, -6.0666, -6.091, -6.6419, -4.5089, -5.77, -5.9685, -5.7535, -6.1824, -4.8943, -5.0549, -4.7541, -5.0189, -5.5113, -5.6922, -5.3187, -5.1692, -5.5612, -5.7582, -5.7941, -5.2988, -4.8733, -5.5471, -5.619, -5.7565, -5.5121, -5.5303, -5.6962, -5.5723, -5.7346, -5.9686, -6.0336, -6.1988, -6.2198, -6.2285, -6.2545, -6.2655, -6.3051, -6.3246, -6.4781, -6.482, -6.5426, -6.5712, -6.5774, -6.6251, -6.6784, -6.714, -6.7285, -5.7798, -6.9062, -5.1927, -6.9503, -6.9646, -7.003, -7.0178, -7.0286, -7.0585, -7.0605, -4.7063, -5.8802, -5.438, -5.9044, -6.3593, -6.4174, -5.9626, -5.5467, -5.9943, -5.3656, -6.407, -5.4179, -5.7961, -6.1002, -5.4551, -5.9034, -5.0311, -5.5936, -5.2505, -5.9852, -5.2411, -5.2943, -5.8897, -5.8039, -5.4667, -5.3971, -5.4031, -5.4155, -5.2163, -5.6506, -5.6696, -5.7371, -5.8899, -5.6349, -5.616, -5.8429, -5.8155, -5.8935, -6.4634, -6.4422, -6.4033, -6.5787, -6.8024, -6.8137, -6.8657, -6.9465, -7.073, -7.0764, -7.1446, -7.1392, -7.1671, -7.185, -7.188, -7.2011, -7.2923, -7.2934, -7.3255, -7.3257, -7.348, -7.3487, -7.367, -7.3704, -7.3753, -7.3757, -7.4204, -7.4313, -5.9123, -6.9304, -5.8562, -5.651, -6.0122, -5.7649, -5.8595, -6.9819, -6.3926, -5.652, -6.0148, -6.0699, -6.4762, -6.6181, -5.4915, -6.5043, -6.2704, -6.2964, -6.753, -6.5015, -5.4687, -6.1176, -6.3704, -5.959, -5.8973, -6.4797, -6.4338, -6.0929, -6.0429, -5.9099, -5.719, -5.3226, -6.3442, -5.8658, -6.1616, -5.8939, -6.0608, -5.9303, -6.2815, -6.1592, -6.2362, -4.9588, -5.4005, -5.4025, -5.4938, -5.6586, -5.7047, -5.7288, -5.846, -5.9958, -6.0042, -6.0145, -6.0638, -6.1463, -6.1603, -6.2403, -6.2557, -6.3101, -6.3326, -6.4935, -6.5167, -6.5273, -6.5697, -6.5778, -6.6496, -6.6515, -6.6815, -6.8159, -6.8181, -6.8425, -6.9755, -5.9938, -5.6916, -6.5244, -5.7179, -5.7734, -5.2209, -5.8122, -4.7974, -5.8134, -5.853, -5.6731, -5.8281, -5.3203, -5.6229, -5.935, -6.0397, -5.7567, -5.7444, -6.0201, -5.2121, -5.7611, -5.9622, -5.9856, -6.1462, -6.1912, -6.305, -6.4686, -6.6058, -6.7295, -6.7702, -6.799, -6.8236, -6.8269, -6.8373, -6.854, -6.903, -7.0053, -7.0219, -7.0378, -7.0414, -7.0597, -7.0717, -7.0585, -7.1061, -7.1507, -7.179, -7.1901, -7.1935, -7.2306, -5.7094, -6.4725, -6.362, -4.4107, -6.3001, -6.366, -6.3989, -6.3188, -6.8768, -6.2054, -6.0684, -5.9049, -5.3222, -5.5605, -4.8706, -4.9385, -5.9309, -5.1078, -6.0555, -6.1966, -6.2239, -6.0205, -5.7622, -5.5232, -5.6433, -5.942, -5.6586, -5.8054, -5.5281, -6.0417, -6.036, -5.3462, -5.9283, -5.7737, -5.857, -5.9882, -6.0032, -5.3139, -5.3761, -5.5771, -5.1697, -5.8268, -6.0712, -4.695, -6.2717, -6.3008, -6.4554, -6.4903, -6.5019, -6.5844, -6.6218, -6.6286, -6.6676, -6.675, -6.6855, -6.6989, -6.732, -5.3818, -6.783, -6.8199, -6.8235, -6.8756, -6.9094, -6.9547, -6.9649, -7.0166, -7.0546, -4.7539, -6.1681, -5.8348, -5.8611, -6.4649, -5.1984, -6.6057, -4.9907, -6.0168, -6.5262, -6.2586, -6.3553, -5.5753, -5.376, -5.5167, -6.2156, -4.9675, -5.6948, -5.9108, -5.3712, -5.6728, -5.6835, -5.5941, -5.9374, -5.1369, -5.7418, -6.068, -5.6773, -5.6956, -5.8575, -5.9083, -5.2072, -5.6357, -5.4907, -6.1343, -6.1927, -6.2834, -6.2876, -6.3228, -6.355, -6.4066, -6.6149, -6.6231, -6.668, -6.7071, -6.7254, -6.7433, -6.774, -6.7946, -6.7959, -6.8084, -6.8237, -5.448, -6.7611, -6.8419, -6.8447, -6.8556, -6.8717, -6.8811, -6.8889, -6.9058, -6.4653, -5.7028, -5.266, -6.3245, -5.798, -5.5776, -6.4503, -5.8275, -6.4687, -6.218, -6.1694, -4.8407, -5.7225, -6.2941, -6.5639, -5.8383, -5.8064, -6.159, -6.0134, -6.3281, -5.9603, -6.098, -6.0267, -6.3287, -6.1928, -4.4017, -5.4679, -5.6294, -5.7039, -5.617, -5.471, -6.0207, -6.0457, -6.1998, -4.986, -6.4173, -6.4872, -6.6046, -6.6004, -6.6548, -6.6561, -6.6957, -6.8422, -6.9098, -6.9446, -6.9918, -7.0018, -7.0065, -7.0401, -7.0627, -7.0867, -7.0928, -7.0945, -7.1064, -7.113, -5.1061, -5.1975, -4.6527, -5.4646, -6.2464, -6.8029, -5.1419, -6.3928, -6.4002, -5.4268, -4.9325, -4.3976, -6.2192, -5.5281, -5.7891, -5.5597, -6.3071, -5.4878, -5.4624, -5.6312, -5.6027, -5.3187, -6.1315, -5.6485, -5.9415, -6.0729, -6.0391, -6.0508, -4.8882, -4.911, -4.9583, -5.414, -5.5693, -5.59, -5.6053, -5.8021, -5.8509, -5.8656, -5.8771, -5.9193, -5.9276, -5.9797, -5.9944, -6.0347, -6.0468, -6.1002, -6.1224, -6.1355, -6.1659, -6.2218, -6.243, -6.3197, -6.3341, -6.4034, -6.427, -6.4818, -6.4834, -6.5328, -4.8, -5.996, -5.361, -4.3269, -5.8391, -5.5871, -6.0506, -4.5473, -5.7853, -5.4203, -5.3433, -5.9258, -5.4193, -3.6647, -4.4965, -4.5782, -4.6868, -5.2617, -5.3086, -5.3126, -5.3142, -5.4808, -5.5898, -5.7047, -5.7161, -5.7421, -6.0847, -6.0969, -6.1336, -6.1435, -6.1726, -6.2498, -6.3627, -6.3791, -6.3985, -6.4037, -6.4522, -6.5372, -6.4342, -6.649, -6.6946, -6.7043, -6.7231, -4.787, -3.4988, -3.918, -4.413, -5.7233, -5.4775, -5.1631, -5.7975, -5.2592, -5.9054, -5.6697, -6.0732, -6.0054, -6.1363, -5.5923, -5.6646, -5.8836, -6.193, -6.272, -6.2982, -6.3595, -6.4355, -6.4616, -6.4708, -6.4815, -6.4926, -6.523, -6.5231, -6.6029, -6.631, -6.6365, -6.6567, -6.6898, -6.752, -6.7769, -6.8132, -6.8144, -6.8609, -6.8626, -6.8872, -6.9013, -6.928, -6.9319, -6.9468, -6.0961, -6.2529, -6.1958, -6.4676, -6.6102, -6.1911, -6.3637, -6.3633, -5.4629, -5.62, -5.7483, -5.8216, -5.9608, -6.0574, -6.0645, -6.1352, -6.167, -6.1999, -6.2095, -6.2294, -6.2873, -6.3678, -6.373, -6.3808, -6.4051, -6.4504, -6.4604, -6.4662, -6.4759, -6.4922, -6.5155, -6.5352, -6.5816, -6.5929, -6.5963, -6.6157, -6.6359, -6.6401, -5.8274, -5.5219, -5.862, -5.7236, -5.1909, -6.0823, -5.7086, -6.2026, -6.3275, -6.2506, -6.3659, -6.347, -6.3512, -6.4044, -4.075, -4.9125, -6.0198, -6.041, -6.0575, -6.0633, -6.0739, -6.1247, -6.1505, -6.1603, -6.1704, -6.1728, -6.1852, -6.2235, -6.2905, -6.3489, -6.3759, -6.4364, -6.4474, -6.4708, -6.4714, -6.4767, -6.4818, -6.4836, -6.5027, -6.5037, -6.5042, -6.5435, -6.5574, -6.5885, -5.9006, -6.1654, -5.3831, -6.2383, -6.413, -6.4217, -5.7425, -5.8472, -5.8692, -5.9076, -5.9943, -6.1166, -6.1304, -6.1489, -6.1691, -6.2396, -6.2618, -6.2964, -6.3562, -6.3713, -6.4038, -6.4519, -6.4595, -6.5232, -6.5338, -6.5484, -6.5635, -6.5756, -6.6122, -6.6155, -6.6162, -6.6445, -6.6515, -6.6547, -6.6573, -6.6924, -6.4232, -6.5266, -5.8049, -5.8157, -5.9941, -6.0195, -6.0462, -6.049, -6.0603, -6.1633, -6.3017, -6.3279, -6.3315, -6.3562, -6.3615, -6.4648, -6.4648, -6.5151, -6.5159, -6.5225, -6.5974, -6.6219, -6.6367, -6.659, -6.6992, -6.7129, -6.7287, -6.7357, -6.7407, -6.7436, -6.7551, -6.7842, -6.0403, -6.1322, -5.7281, -6.437, -6.5029, -6.4197, -5.9582, -6.3797, -6.5844, -6.5342, -6.5861, -5.0141, -5.0241, -5.0372, -5.0372, -5.0372, -5.0506, -5.0506, -5.1805, -5.6791, -4.8067, -6.0555, -6.194, -6.2996, -6.3503, -6.3862, -6.4731, -6.4991, -6.5233, -6.5345, -6.5497, -6.5906, -6.6821, -6.7005, -6.7148, -6.7287, -6.7331, -6.751, -6.7623, -6.7843, -6.7886, -4.777, -4.8542, -4.8927, -6.296, -6.6038, -6.6312, -4.9251, -5.418, -5.8344, -5.8934, -5.9425, -6.1566, -6.1644, -6.284, -6.3076, -6.3405, -6.3566, -6.3648, -6.39, -6.441, -6.4674, -6.4779, -6.4983, -6.5247, -6.569, -6.5801, -6.667, -6.6716, -6.6836, -6.7267, -6.7325, -6.7502, -6.7599, -6.7751, -6.7992, -6.8071, -6.3073, -6.6332, -5.5288, -5.6394, -5.786, -6.0012, -6.0897, -6.1087, -6.1549, -6.1608, -6.1781, -6.1974, -6.4527, -6.4587, -6.4989, -6.5169, -6.5559, -6.5949, -6.6133, -6.6469, -6.6547, -6.6712, -6.7529, -6.7627, -6.7786, -6.7899, -6.8294, -6.8474, -6.8528, -6.87, -6.9099, -6.9157, -5.5921, -6.3082, -6.5611, -6.7775, -6.8313, -5.399, -5.8242, -5.9568, -6.1076, -6.183, -6.2544, -6.2868, -6.3905, -6.4597, -6.4655, -6.4728, -6.5376, -6.5756, -6.6002, -6.6408, -6.6524, -6.6694, -6.6825, -6.6973, -6.73, -6.7511, -6.7699, -6.7705, -6.7738, -6.778, -6.8134, -6.8189, -6.8578, -6.8727, -6.8771, -5.8492, -6.3026, -6.4105, -6.6098, -6.7039, -4.3533, -5.9759, -6.0497, -6.1111, -6.1194, -6.1233, -6.126, -6.2625, -6.4601, -6.4949, -6.5537, -6.6058, -6.6393, -6.673, -6.7035, -6.8778, -6.9065, -6.9562, -6.9777, -6.9918, -7.0364, -7.0583, -7.0611, -7.0794, -7.113, -7.1166, -7.1169, -7.122, -7.1273, -7.1904, -5.8056, -6.8833, -6.6653, -7.0705], \"loglift\": [30.0, 29.0, 28.0, 27.0, 26.0, 25.0, 24.0, 23.0, 22.0, 21.0, 20.0, 19.0, 18.0, 17.0, 16.0, 15.0, 14.0, 13.0, 12.0, 11.0, 10.0, 9.0, 8.0, 7.0, 6.0, 5.0, 4.0, 3.0, 2.0, 1.0, 1.1763, 1.1755, 1.1749, 1.1748, 1.1748, 1.1746, 1.1746, 1.1743, 1.1743, 1.1729, 1.1729, 1.1727, 1.1727, 1.172, 1.1719, 1.1718, 1.1717, 1.1716, 1.1716, 1.1715, 1.1707, 1.1706, 1.1706, 1.1705, 1.1705, 1.1702, 1.1702, 1.1701, 1.1701, 1.1701, 1.1517, 1.1576, 1.1701, 1.1468, 1.1676, 1.1661, 1.1636, 1.1421, 1.16, 1.146, 1.1462, 1.1179, 1.1246, 1.0923, 1.1307, 1.1399, 1.1549, 1.0277, 1.127, 1.1044, 1.0615, 1.0715, 1.105, 1.0511, 1.0689, 1.0696, 1.082, 1.0792, 1.1137, 0.9734, 1.0548, 1.0651, 1.0485, 1.0782, 0.9727, 0.9851, 0.9436, 0.965, 0.9959, 1.0052, 0.9491, 0.9239, 0.9745, 1.0063, 1.0111, 0.8578, 0.6847, 0.8493, 0.8755, 0.9198, 0.5363, 0.187, 0.6145, 1.8005, 1.8003, 1.8, 1.7999, 1.7996, 1.7996, 1.7996, 1.7995, 1.7995, 1.7994, 1.7994, 1.799, 1.799, 1.7989, 1.7988, 1.7988, 1.7986, 1.7985, 1.7984, 1.7983, 1.798, 1.7977, 1.7977, 1.7975, 1.7975, 1.7973, 1.7973, 1.7972, 1.7971, 1.7971, 1.7955, 1.7895, 1.7691, 1.7709, 1.7809, 1.7823, 1.761, 1.718, 1.7447, 1.6881, 1.7702, 1.6515, 1.6903, 1.7163, 1.587, 1.6713, 1.3662, 1.52, 1.388, 1.6293, 1.2668, 1.1958, 1.5195, 1.4015, 1.094, 0.9744, 0.9076, 0.8479, 0.501, 1.0785, 0.9477, 0.9731, 1.4206, 0.0628, -0.1338, 0.79, 1.971, 1.9709, 1.9696, 1.9694, 1.9693, 1.9692, 1.9684, 1.9684, 1.9681, 1.9678, 1.9671, 1.9671, 1.9667, 1.9667, 1.9666, 1.9665, 1.9665, 1.9664, 1.9658, 1.9658, 1.9656, 1.9656, 1.9654, 1.9654, 1.9653, 1.9653, 1.9653, 1.9653, 1.9649, 1.9648, 1.9625, 1.9605, 1.9492, 1.9374, 1.9398, 1.9257, 1.9212, 1.9538, 1.9122, 1.8611, 1.8806, 1.8788, 1.9075, 1.9173, 1.7056, 1.857, 1.8147, 1.8155, 1.8882, 1.8184, 1.4577, 1.6409, 1.7127, 1.5062, 1.4007, 1.7396, 1.7045, 1.4565, 1.3762, 1.2599, 0.8984, 0.2355, 1.625, 0.6944, 1.2368, 0.6175, 0.7934, -0.213, 0.8449, -1.1862, -0.0625, 2.3294, 2.3289, 2.3289, 2.3287, 2.3284, 2.3283, 2.3283, 2.328, 2.3277, 2.3277, 2.3276, 2.3275, 2.3272, 2.3272, 2.3269, 2.3269, 2.3267, 2.3266, 2.326, 2.3259, 2.3258, 2.3256, 2.3256, 2.3253, 2.3252, 2.3251, 2.3243, 2.3243, 2.3242, 2.3233, 2.2756, 2.0214, 2.2071, 1.8485, 1.7551, 1.3831, 1.7608, 0.7606, 1.615, 1.628, 1.4429, 1.4849, 0.7282, 0.9004, 1.2541, 1.555, 0.2272, -0.0271, -1.0471, 2.3992, 2.3983, 2.3978, 2.3978, 2.3973, 2.3971, 2.3967, 2.3961, 2.3954, 2.3947, 2.3945, 2.3943, 2.3942, 2.3942, 2.3941, 2.394, 2.3937, 2.3929, 2.3928, 2.3927, 2.3926, 2.3925, 2.3924, 2.3921, 2.3921, 2.3917, 2.3915, 2.3914, 2.3914, 2.391, 2.3892, 2.3894, 2.3845, 2.3471, 2.3582, 2.3577, 2.3371, 2.3228, 2.3742, 2.2754, 2.2356, 2.1956, 2.0604, 2.021, 1.69, 1.6625, 2.0392, 1.6213, 2.0437, 2.0522, 2.0629, 1.9262, 1.7274, 1.4905, 1.5331, 1.8093, 1.4725, 1.5931, 1.1105, 1.85, 1.7992, 0.3711, 1.4097, 0.7165, 0.9265, 1.3098, 1.3874, 2.7458, 2.7457, 2.7452, 2.745, 2.7445, 2.7435, 2.7428, 2.7426, 2.7424, 2.7415, 2.7413, 2.7412, 2.7406, 2.7404, 2.7403, 2.74, 2.74, 2.7399, 2.7398, 2.7395, 2.7391, 2.7391, 2.7387, 2.7387, 2.7382, 2.7379, 2.7374, 2.7373, 2.7368, 2.7363, 2.703, 2.7119, 2.673, 2.6579, 2.7028, 2.5868, 2.7084, 2.4005, 2.5906, 2.675, 2.5669, 2.5849, 2.2082, 2.0021, 2.0365, 2.4664, 1.6334, 2.1177, 2.229, 1.7644, 1.9987, 1.9668, 1.8506, 2.176, 1.0367, 1.384, 2.1099, 0.9382, 0.8645, 1.3483, 1.1483, 3.169, 3.1676, 3.1651, 3.1648, 3.1644, 3.1637, 3.1636, 3.1633, 3.1631, 3.1626, 3.1605, 3.1604, 3.1599, 3.1594, 3.1592, 3.1589, 3.1585, 3.1583, 3.1582, 3.1581, 3.1579, 3.1578, 3.1576, 3.1576, 3.1576, 3.1574, 3.1572, 3.157, 3.1569, 3.1567, 3.1527, 3.1026, 3.0246, 3.1134, 2.957, 2.8365, 3.0573, 2.8204, 3.0249, 2.9139, 2.877, 2.1923, 2.5933, 2.8833, 3.0125, 2.3267, 2.1032, 2.4561, 2.2016, 2.6248, 1.1092, 1.1361, 0.0133, 2.1334, 0.0706, 3.4609, 3.4577, 3.4568, 3.4564, 3.4549, 3.4545, 3.4541, 3.4538, 3.4524, 3.4505, 3.45, 3.4491, 3.4474, 3.4474, 3.4467, 3.4467, 3.446, 3.4434, 3.4421, 3.4414, 3.4404, 3.4402, 3.4401, 3.4393, 3.4388, 3.4382, 3.4381, 3.438, 3.4377, 3.4376, 3.4347, 3.3495, 3.2797, 3.2935, 3.346, 3.3969, 3.11, 3.3209, 3.3129, 3.0366, 2.8015, 2.5288, 3.1608, 2.8322, 2.9472, 2.6425, 3.1735, 2.5212, 2.4843, 2.4713, 2.3228, 1.8511, 2.9189, 2.0295, 2.4035, 2.238, 1.7194, 0.2126, 4.5314, 4.5312, 4.5308, 4.5258, 4.5235, 4.5232, 4.5229, 4.5193, 4.5183, 4.518, 4.5178, 4.5168, 4.5167, 4.5154, 4.5151, 4.5141, 4.5138, 4.5124, 4.5118, 4.5114, 4.5106, 4.509, 4.5083, 4.5059, 4.5054, 4.503, 4.5021, 4.5001, 4.5, 4.498, 4.4315, 4.4363, 4.2596, 3.8087, 4.225, 4.0824, 4.3082, 2.4857, 3.9277, 2.5203, 1.7133, 3.5298, 0.7543, 4.5615, 4.5583, 4.5579, 4.5572, 4.5519, 4.5513, 4.5512, 4.5512, 4.5489, 4.5472, 4.5452, 4.5449, 4.5445, 4.5366, 4.5362, 4.5352, 4.5349, 4.5341, 4.5317, 4.5279, 4.5274, 4.5266, 4.5265, 4.5246, 4.5212, 4.517, 4.5163, 4.5141, 4.5136, 4.5127, 4.4662, 4.3811, 4.1632, 4.0677, 4.3315, 4.1717, 3.7861, 3.7671, 2.8791, 3.7297, 2.4713, 3.5952, 3.1007, 2.4287, 4.9994, 4.9974, 4.9905, 4.9779, 4.9741, 4.9727, 4.9694, 4.9651, 4.9635, 4.963, 4.9623, 4.9616, 4.9597, 4.9597, 4.9544, 4.9524, 4.952, 4.9505, 4.9481, 4.9433, 4.9413, 4.9383, 4.9382, 4.9342, 4.934, 4.9319, 4.9306, 4.9281, 4.9277, 4.9263, 4.7892, 4.5844, 4.488, 4.6232, 4.5012, 3.7822, 3.1882, 2.93, 5.0147, 5.0107, 5.0069, 5.0045, 4.9995, 4.9956, 4.9953, 4.9922, 4.9907, 4.9891, 4.9887, 4.9877, 4.9847, 4.9803, 4.98, 4.9796, 4.9782, 4.9755, 4.9748, 4.9745, 4.9739, 4.9728, 4.9713, 4.97, 4.9669, 4.9661, 4.9659, 4.9645, 4.963, 4.9627, 4.9188, 4.522, 4.5916, 4.5149, 4.2002, 4.5935, 4.1771, 4.3295, 4.1871, 2.8343, 3.9764, 2.7701, 2.3991, 3.116, 5.1725, 5.1634, 5.1317, 5.1307, 5.1299, 5.1296, 5.1291, 5.1266, 5.1252, 5.1247, 5.1241, 5.124, 5.1233, 5.1212, 5.1173, 5.1137, 5.1119, 5.1079, 5.1071, 5.1055, 5.1054, 5.105, 5.1047, 5.1045, 5.1031, 5.1031, 5.103, 5.1001, 5.099, 5.0966, 4.9149, 4.8626, 3.3352, 2.8984, 3.6252, 3.6434, 5.2823, 5.2778, 5.2767, 5.2749, 5.2706, 5.2638, 5.263, 5.2618, 5.2606, 5.2561, 5.2546, 5.2523, 5.248, 5.2469, 5.2444, 5.2406, 5.24, 5.2347, 5.2338, 5.2325, 5.2312, 5.2301, 5.2268, 5.2264, 5.2264, 5.2237, 5.223, 5.2227, 5.2225, 5.219, 5.2099, 4.0808, 5.4656, 5.4651, 5.4547, 5.453, 5.4513, 5.4511, 5.4504, 5.4431, 5.4321, 5.4299, 5.4296, 5.4274, 5.427, 5.4173, 5.4173, 5.4123, 5.4122, 5.4115, 5.4036, 5.4009, 5.3992, 5.3966, 5.3919, 5.3902, 5.3883, 5.3874, 5.3868, 5.3864, 5.385, 5.3812, 5.221, 5.1638, 4.7318, 4.4865, 4.633, 3.9312, 1.5071, 3.6638, 4.5506, 3.4479, 4.0734, 5.6258, 5.6255, 5.6251, 5.6251, 5.6251, 5.6247, 5.6247, 5.6207, 5.5994, 5.5761, 5.5752, 5.564, 5.5544, 5.5495, 5.5458, 5.5365, 5.5336, 5.5308, 5.5295, 5.5277, 5.5228, 5.511, 5.5085, 5.5066, 5.5047, 5.504, 5.5015, 5.4999, 5.4967, 5.4961, 5.3145, 5.3137, 5.0936, 5.0583, 5.1178, 4.7914, 5.7845, 5.7653, 5.7404, 5.736, 5.7322, 5.7133, 5.7126, 5.7002, 5.6976, 5.6939, 5.6921, 5.6911, 5.6881, 5.6819, 5.6786, 5.6772, 5.6746, 5.6711, 5.665, 5.6635, 5.6507, 5.65, 5.6482, 5.6415, 5.6405, 5.6377, 5.6361, 5.6336, 5.6295, 5.6282, 5.478, 5.3721, 5.8498, 5.8429, 5.8326, 5.8146, 5.8061, 5.8042, 5.7994, 5.7988, 5.797, 5.7949, 5.7634, 5.7626, 5.757, 5.7544, 5.7486, 5.7427, 5.7398, 5.7345, 5.7332, 5.7305, 5.7165, 5.7148, 5.7119, 5.7099, 5.7025, 5.6991, 5.6981, 5.6948, 5.6869, 5.6857, 5.3202, 5.0549, 5.2857, 4.8454, 4.3866, 5.8951, 5.8665, 5.8551, 5.8403, 5.8321, 5.8238, 5.8199, 5.8064, 5.7969, 5.7961, 5.795, 5.7854, 5.7795, 5.7755, 5.7689, 5.7669, 5.7641, 5.7618, 5.7592, 5.7535, 5.7496, 5.7462, 5.7461, 5.7455, 5.7447, 5.738, 5.7369, 5.7293, 5.7263, 5.7254, 5.7226, 5.6223, 5.0022, 4.093, 3.8254, 5.9765, 5.8952, 5.8878, 5.8812, 5.8803, 5.8799, 5.8796, 5.8634, 5.8363, 5.8311, 5.8218, 5.8132, 5.8075, 5.8016, 5.7961, 5.7619, 5.7559, 5.745, 5.7401, 5.7369, 5.7265, 5.7213, 5.7206, 5.7161, 5.7078, 5.7069, 5.7068, 5.7055, 5.7042, 5.6877, 4.3875, 5.3424, 3.6545, 3.5004]}, \"token.table\": {\"Topic\": [11, 8, 16, 1, 2, 3, 4, 5, 10, 5, 12, 13, 10, 12, 2, 8, 12, 20, 12, 19, 17, 13, 9, 9, 12, 14, 18, 11, 7, 9, 5, 9, 5, 9, 5, 11, 5, 5, 9, 9, 7, 15, 2, 7, 12, 7, 16, 11, 11, 14, 14, 14, 14, 14, 18, 16, 8, 7, 8, 2, 3, 5, 6, 12, 1, 11, 7, 14, 2, 9, 13, 20, 10, 18, 1, 2, 3, 5, 8, 1, 3, 4, 5, 1, 2, 3, 4, 1, 2, 11, 13, 3, 5, 8, 19, 16, 13, 16, 8, 4, 7, 8, 11, 2, 8, 8, 18, 6, 8, 11, 18, 1, 1, 2, 3, 4, 5, 6, 7, 8, 7, 3, 8, 1, 3, 6, 8, 8, 1, 2, 3, 4, 5, 6, 13, 20, 3, 5, 10, 5, 1, 2, 3, 1, 2, 3, 4, 6, 1, 6, 1, 6, 15, 2, 19, 9, 2, 3, 5, 6, 8, 12, 15, 3, 3, 20, 15, 20, 10, 16, 3, 10, 10, 6, 10, 6, 10, 3, 10, 5, 7, 9, 1, 1, 4, 19, 13, 20, 1, 3, 7, 2, 3, 5, 8, 17, 12, 6, 10, 10, 10, 15, 1, 2, 3, 6, 7, 6, 13, 2, 8, 16, 6, 11, 2, 7, 1, 3, 6, 4, 4, 1, 3, 4, 13, 12, 1, 2, 3, 6, 7, 4, 4, 7, 7, 13, 15, 15, 8, 15, 4, 5, 6, 10, 12, 1, 2, 4, 5, 7, 19, 1, 7, 6, 20, 17, 9, 17, 17, 2, 7, 10, 20, 6, 9, 1, 2, 3, 4, 6, 16, 1, 2, 6, 3, 8, 1, 2, 3, 4, 2, 4, 15, 9, 13, 10, 18, 2, 2, 12, 11, 11, 13, 1, 7, 19, 14, 4, 16, 7, 1, 8, 3, 5, 6, 7, 12, 18, 17, 13, 16, 2, 12, 12, 3, 6, 9, 3, 11, 1, 2, 8, 8, 4, 4, 4, 4, 4, 11, 2, 8, 9, 2, 7, 3, 1, 3, 4, 6, 3, 4, 8, 20, 5, 1, 8, 6, 6, 1, 2, 3, 4, 5, 8, 12, 10, 2, 4, 10, 13, 1, 2, 5, 8, 2, 5, 8, 1, 2, 5, 8, 5, 2, 16, 16, 15, 10, 11, 2, 4, 7, 3, 8, 7, 1, 2, 3, 5, 7, 8, 2, 8, 10, 11, 5, 18, 7, 12, 1, 19, 1, 2, 3, 4, 6, 12, 1, 3, 4, 1, 3, 4, 1, 3, 8, 10, 3, 8, 8, 8, 17, 16, 1, 2, 3, 4, 5, 6, 7, 12, 7, 10, 1, 2, 5, 8, 11, 1, 2, 4, 6, 7, 12, 14, 15, 8, 6, 15, 7, 13, 19, 7, 12, 12, 1, 2, 3, 5, 8, 15, 9, 3, 2, 2, 1, 2, 3, 2, 5, 13, 17, 17, 2, 3, 7, 2, 13, 2, 11, 19, 9, 17, 3, 1, 2, 5, 8, 8, 8, 3, 8, 1, 7, 19, 1, 2, 3, 6, 7, 14, 5, 2, 5, 6, 18, 8, 6, 2, 19, 4, 1, 2, 3, 4, 6, 1, 3, 4, 8, 2, 4, 5, 6, 7, 11, 19, 7, 17, 1, 3, 4, 8, 4, 6, 17, 1, 3, 8, 17, 20, 2, 3, 5, 3, 2, 5, 14, 5, 1, 7, 15, 20, 3, 12, 1, 2, 3, 4, 5, 6, 7, 8, 9, 7, 11, 17, 5, 10, 18, 2, 13, 1, 2, 7, 7, 19, 17, 18, 4, 12, 1, 2, 3, 5, 8, 1, 3, 6, 7, 15, 11, 2, 6, 4, 6, 1, 6, 6, 6, 6, 16, 19, 1, 2, 3, 4, 5, 8, 4, 10, 3, 3, 4, 5, 6, 13, 1, 2, 6, 7, 10, 18, 9, 4, 4, 4, 11, 1, 3, 6, 1, 2, 4, 6, 7, 5, 16, 8, 15, 1, 3, 8, 3, 19, 10, 10, 4, 10, 10, 9, 1, 3, 6, 7, 2, 5, 19, 15, 1, 2, 6, 5, 3, 1, 18, 20, 1, 2, 5, 18, 6, 9, 9, 1, 3, 6, 3, 1, 16, 17, 20, 1, 2, 3, 4, 6, 20, 17, 14, 6, 17, 4, 1, 2, 3, 6, 7, 3, 20, 7, 14, 15, 17, 14, 3, 6, 7, 8, 1, 3, 4, 5, 1, 2, 9, 8, 18, 2, 5, 12, 5, 1, 3, 18, 18, 1, 2, 3, 5, 8, 12, 8, 14, 17, 20, 16, 17, 2, 16, 5, 7, 11, 18, 2, 12, 3, 5, 10, 2, 5, 2, 3, 5, 12, 19, 10, 13, 18, 17, 3, 3, 4, 3, 1, 3, 5, 11, 18, 4, 9, 4, 4, 1, 3, 6, 13, 2, 4, 20, 3, 20, 16, 20, 12, 2, 1, 2, 8, 1, 8, 12, 6, 9, 1, 2, 3, 4, 6, 14, 10, 5, 7, 14, 1, 2, 3, 4, 5, 6, 7, 15, 5, 5, 15, 6, 14, 1, 2, 3, 4, 6, 7, 8, 1, 3, 8, 15, 9, 14, 1, 1, 3, 4, 5, 1, 2, 3, 4, 6, 7, 1, 2, 3, 4, 6, 7, 1, 2, 3, 4, 5, 6, 1, 2, 3, 4, 6, 7, 20, 4, 1, 2, 3, 4, 6, 1, 3, 9, 20, 5, 2, 13, 16, 1, 2, 5, 2, 5, 6, 8, 1, 2, 3, 4, 5, 6, 6, 13, 1, 2, 3, 4, 5, 6, 5, 4, 10, 1, 3, 7, 1, 2, 6, 20, 7, 3, 5, 16, 3, 2, 4, 18, 17, 19, 1, 2, 3, 4, 5, 6, 14, 1, 3, 6, 7, 3, 8, 18, 1, 2, 3, 10, 20, 18, 15, 4, 5, 1, 2, 3, 4, 5, 7, 12, 2, 13, 1, 2, 4, 4, 6, 2, 3, 7, 8, 7, 2, 11, 11, 1, 2, 3, 4, 6, 7, 1, 1, 13, 16, 2, 9, 4, 10, 4, 1, 2, 3, 4, 5, 7, 8, 12, 7, 1, 16, 16, 20, 5, 12, 3, 5, 6, 8, 13, 4, 9, 11, 1, 2, 3, 4, 6, 8, 12, 14, 17, 13, 15, 1, 2, 3, 4, 6, 7, 11, 5, 1, 2, 3, 5, 6, 12, 15, 18, 17, 1, 3, 15, 12, 1, 2, 3, 4, 5, 6, 14, 15, 8, 12, 12, 12, 3, 3, 19, 15, 5, 5, 5, 9, 10, 19, 19, 2, 5, 19, 1, 3, 1, 2, 3, 4, 5, 6, 17, 18, 3, 13, 9, 9, 1, 3, 4, 6, 3, 12, 1, 3, 4, 5, 6, 9, 9, 6, 9, 1, 2, 5, 8, 2, 5, 12, 8, 1, 2, 4, 7, 13, 19, 12, 6, 11, 3, 9, 11, 3, 20, 5, 8, 3, 1, 6, 8, 9, 3, 6, 9, 2, 6, 14, 6, 1, 2, 3, 4, 5, 12, 1, 19, 7, 3, 6, 8, 4, 8, 20, 1, 3, 4, 3, 4, 10, 2, 2, 15, 1, 2, 3, 4, 5, 6, 7, 9, 15, 3, 8, 20, 2, 3, 5, 8, 5, 9, 5, 8, 8, 1, 3, 5, 8, 1, 2, 3, 6, 5, 20, 1, 2, 3, 4, 12, 12, 2, 3, 5, 18, 1, 8, 15, 1, 3, 7, 8, 1, 2, 3, 5, 8, 8, 6, 19, 10, 9, 1, 2, 4, 5, 7, 12, 2, 3, 10, 14, 17, 7, 1, 2, 4, 6, 7, 1, 17, 11, 10, 15, 4, 4, 4, 3, 5, 7, 15, 3, 6, 10, 15, 2, 5, 7, 3, 5, 12, 9, 11, 18, 14, 1, 2, 3, 4, 6, 8, 1, 1, 3, 8, 2, 3, 13, 3, 15, 16, 15, 12, 20, 1, 2, 6, 7, 18, 3, 6, 10, 18, 1, 3, 4, 6, 1, 3, 4, 6, 16, 5, 5, 5, 11, 4, 6, 15, 1, 4, 5, 6, 6, 9, 20, 2, 3, 14, 14, 2, 6, 6, 6, 1, 2, 3, 4, 5, 6, 7, 9, 1, 3, 8, 8, 3, 5, 8, 8, 9, 5, 18, 3, 1, 2, 3, 4, 5, 18, 10, 2, 11, 2, 5, 16, 20, 14, 9, 17, 3, 6, 9, 5, 14, 11, 1, 2, 3, 4, 6, 16, 11, 13, 2, 5, 12, 5, 1, 2, 4, 6, 1, 2, 3, 4, 6, 16, 1, 2, 1, 2, 4, 19, 1, 3, 4, 10, 3, 5, 1, 2, 5, 5, 5, 7, 1, 2, 7, 3, 8, 12, 1, 3, 4, 13, 6, 1, 2, 3, 6, 1, 3, 4, 5, 8, 3, 4, 3, 6, 7, 7, 10, 1, 2, 3, 4, 6, 7, 1, 3, 4, 6, 8, 1, 19, 11, 8, 18, 6, 15, 2, 3, 5, 7, 1, 2, 3, 4, 5, 1, 1, 2, 3, 1, 4, 16, 17, 20, 3, 15, 20, 11, 14, 1, 2, 3, 5, 8, 1, 2, 3, 4, 6, 1, 2, 3, 4, 6, 14, 3, 2, 7, 1, 2, 6, 6, 6, 1, 2, 5, 5, 8, 12, 2, 3, 5, 6, 8, 12, 5, 14, 16, 7, 19, 1, 20, 18, 1, 2, 4, 6, 1, 3, 4, 6, 2, 16, 15, 1, 2, 7, 1, 2, 3, 4, 1, 1, 4, 1, 2, 3, 4, 6, 1, 3, 4, 6, 1, 2, 3, 4, 5, 6, 9, 8, 1, 4, 1, 1, 2, 3, 4, 5, 6, 7, 6, 7, 19, 15, 1, 2, 3, 4, 5, 6, 7, 7, 13, 20, 1, 3, 4, 6, 13, 9, 8, 7, 7, 17, 16, 1, 2, 3, 4, 14, 1, 3, 4, 10, 10, 10, 10, 10, 8, 13, 3, 5, 8, 12, 19, 3, 5, 1, 3, 4, 5, 7, 10, 12, 2, 1, 8, 19, 14, 1, 2, 3, 4, 5, 7, 8, 2, 5, 8, 1, 2, 3, 5, 7, 8, 13, 12, 19, 18, 3, 9, 15, 19, 3, 15, 1, 2, 4, 5, 2, 4, 11, 13, 2, 6, 12, 3, 10, 11, 3, 2, 3, 5, 12, 12, 19, 7, 17, 12, 16, 18, 1, 2, 3, 4, 16, 19, 16, 3, 3, 4, 7, 8, 3, 16, 1, 3, 6, 1, 3, 4, 6, 1, 2, 3, 4, 6, 7, 8, 10, 2, 18, 2, 6, 2, 6, 14, 9, 6, 2, 7, 18, 8, 7, 20, 1, 2, 3, 4, 6, 1, 2, 3, 4, 5, 7, 12, 13, 1, 2, 3, 4, 5, 6, 12, 1, 2, 3, 4, 6, 7, 1, 5, 2, 19, 16, 12, 17, 1, 2, 3, 5, 6, 7, 1, 2, 3, 6, 1, 3, 4, 5, 6, 8, 1, 2, 4, 6], \"Freq\": [0.9147791448317324, 0.9846591809534317, 0.9768073962122985, 0.06254193069933504, 0.013522579610667036, 0.30932900859400847, 0.4952644782406802, 0.11494192669066981, 0.0016903224513333795, 0.3947527622916749, 0.5921291434375123, 0.9435301837782926, 0.978582538604648, 0.9869290183670941, 0.41376537547608927, 0.23643735741490815, 0.35465603612236224, 0.7066575215079444, 0.9735394904174567, 0.7798668081187681, 0.7142826238179999, 0.9230062343410215, 0.9539166932900356, 0.9588566065046946, 0.9858334829255502, 0.9527742842194775, 0.7740068476574661, 0.9717605368849593, 0.9838092118036892, 0.010410679489986129, 0.9827200061254316, 0.011984390318602826, 0.9725620588172831, 0.01984820528198537, 0.8312820918978768, 0.16089330810926647, 0.9977748474880302, 0.0973191321310766, 0.8953360156059047, 0.9841393114190325, 0.5228438155305465, 0.3921328616479099, 0.9962513924953141, 0.00186215213550526, 0.9826166422984244, 0.27307206521862426, 0.7199172628491004, 0.9485832512600585, 0.9562061927378497, 0.9274595543111622, 0.9625861330332521, 0.8516425571244397, 0.9586425416242458, 0.8938907562022355, 0.908286167837244, 0.7985656182482084, 0.9949218461592246, 0.7440500523077814, 0.2507125176254481, 0.03579853862114853, 0.4793891258832065, 0.44670350366389694, 0.03424208042022903, 0.003112916401839003, 0.3742576578591046, 0.5821785788919405, 0.9886434902519706, 0.9561686303361305, 0.9957220665653232, 0.9809972535284547, 0.9136752460850278, 0.9302060753113655, 0.9832458626161498, 0.8528813168606001, 0.03705073780775398, 0.6010453022146757, 0.012350245935917993, 0.10909383910060894, 0.23877142142774788, 0.04722211215931783, 0.029513820099573648, 0.8854146029872094, 0.041319348139403106, 0.9288075700349139, 0.06098873236891363, 0.002541197182038068, 0.0063529929550951705, 0.9872389858299162, 0.009726492471230702, 0.8964717091755868, 0.9423718218590004, 0.5424031750707815, 0.013907773719763629, 0.44157181560249525, 0.943533516583789, 0.9648075707007652, 0.9772962521774378, 0.8266470908376166, 0.9931147396281991, 0.13733849936723208, 0.09988254499435059, 0.7491190874576295, 0.9765385177151567, 0.3431197818354001, 0.6546364258701712, 0.49215082993196824, 0.41012569160997353, 0.19393607930004722, 0.09696803965002361, 0.6302922577251535, 0.048484019825011805, 0.9928275801187328, 0.3708816098451419, 0.2723661822300261, 0.11242348798430864, 0.0947486612651261, 0.13154707099194876, 0.010431045276894617, 0.0017385075461491028, 0.006084776411521859, 0.9945432763075106, 0.9900154651055455, 0.00692318507066815, 0.017455622742047868, 0.8937278843928509, 0.061094679597167544, 0.026183434113071804, 0.9933088040726835, 0.010860340861421946, 0.0597318747378207, 0.597318747378207, 0.23168727171033482, 0.061541931548057684, 0.0380111930149768, 0.9483168838874457, 0.9030656825496424, 0.2919113961807828, 0.4722096114689134, 0.2318119910847393, 0.9994492054887673, 0.56126367472148, 0.4375292796984725, 0.0011147242794865542, 0.8926841795049486, 0.07348973874859141, 0.016210971782777518, 0.016210971782777518, 0.001080731452185168, 0.9790391737272663, 0.01446855921764433, 0.9952209981451134, 0.9938754418721844, 0.9648410408189493, 0.9973113435355144, 0.7846264236148666, 0.9871196483538254, 0.03827179142518666, 0.6273245811867553, 0.2213107938934707, 0.0881915193710823, 0.0033279818630597095, 0.0033279818630597095, 0.018303900246828403, 0.9988806359246936, 0.989513805348849, 0.902279960784359, 0.8653242282522341, 0.7478542210416944, 0.9906292408793652, 0.806332320943929, 0.9919552204949887, 0.9952596433497835, 0.9779479952290112, 0.16625216990095482, 0.8337798217760006, 0.3296603759910401, 0.6685635662622028, 0.9934519196753502, 0.9423017758168717, 0.13741033650109802, 0.8519440863068076, 0.9681899663563914, 0.9919870270448579, 0.9921525016093155, 0.9927075466504156, 0.9344095939117886, 0.9663745415702365, 0.8740759858381484, 0.023927028044380978, 0.023927028044380978, 0.9451176077530485, 0.4929609985479346, 0.0040406639225240544, 0.49161411057376, 0.01144854778048482, 0.8384761236953302, 0.9345881210753038, 0.31036722170153996, 0.6798520094414685, 0.9890747581989645, 0.9946038545462826, 0.8659240919671516, 0.7007607879572746, 0.06687463357155717, 0.035571613601892114, 0.16362942256870372, 0.03272588451374074, 0.7850593967599033, 0.2180720546555287, 0.1656177289404242, 0.2484265934106363, 0.5796620512914847, 0.9943590769715689, 0.967644001622548, 0.08979246303351998, 0.8979246303351998, 0.15730820862540057, 0.0842722546207503, 0.7528321412787028, 0.9939329946990131, 0.9954187225896594, 0.5886249487185403, 0.023207435254135995, 0.387493843182695, 0.9292242543471589, 0.9283708313376112, 0.8955389856291381, 0.05257736104271167, 0.0008619239515198635, 0.04912966523663222, 0.0008619239515198635, 0.9990216685196375, 0.9971747825432534, 0.9972096930301377, 0.9803373090645116, 0.905454435894836, 0.9506548805864666, 0.8493687759007731, 0.5877096425868823, 0.39180642839125485, 0.45193405882068366, 0.07532234313678061, 0.07532234313678061, 0.37661171568390306, 0.9214693859722299, 0.18562011376393567, 0.11364496761057286, 0.46026211882282003, 0.23297218360167435, 0.0075763311740381905, 0.8832241180849397, 0.9946441732614688, 0.9822932353601704, 0.9890800715952734, 0.9334619368896228, 0.914301766719629, 0.9739317116742158, 0.9055546279962016, 0.8200426921998408, 0.6312082180954736, 0.3561817802110172, 0.013525890387760147, 0.746375090472356, 0.3619500472535507, 0.6334125826937137, 0.22267764331995057, 0.1098136323221674, 0.021352650729310328, 0.17082120583448263, 0.4743338840582509, 0.9740292566442404, 0.8408498173317881, 0.13357852929145944, 0.02548029749490267, 0.9912122903202665, 0.9931364770887888, 0.23721818458864402, 0.29580821813162234, 0.035725630209133136, 0.42870756250959763, 0.4164706729976735, 0.4164706729976735, 0.15343656373598497, 0.9566372661250006, 0.9770828522805771, 0.4180927860984421, 0.5748775808853578, 0.9991051194970989, 0.9976732698184538, 0.9816854979368385, 0.9433995373195458, 0.8844591090977351, 0.914108976253701, 0.2931731431987076, 0.7057871965894813, 0.9106544991901061, 0.8596711289274822, 0.9949776761172244, 0.8378037837977343, 0.9812274358006176, 0.1260226276419132, 0.8664055650381531, 0.3433511770504792, 0.55379222104916, 0.0886067553678656, 0.00886067553678656, 0.00443033776839328, 0.8071296736228238, 0.9216948110823406, 0.9889326746424949, 0.9768073962122985, 0.5616051703507332, 0.4305639639355622, 0.8945340306347037, 0.07133248837271348, 0.8365355454618217, 0.09078680338345352, 0.6948167411054619, 0.2861010110434255, 0.008708827027369031, 0.4746310729916122, 0.5159980013716151, 0.9768537855545034, 0.998836448546876, 0.9988007953184977, 0.998712537927082, 0.9981251404420499, 0.9983845541335261, 0.9245872060929503, 0.126103867474015, 0.866964088883853, 0.9718401884081308, 0.2489333650538086, 0.7468000951614258, 0.9950962142123697, 0.0031814411174705026, 0.42631310974104736, 0.0031814411174705026, 0.563115077792279, 0.9168291646277985, 0.07550357826346575, 0.005393112733104697, 0.8821425849482223, 0.9969530322114584, 0.008790386816615495, 0.9889185168692431, 0.9938321787637675, 0.9817672727287051, 0.015295574890953291, 0.893941376960159, 0.028891641460689548, 0.03738918306677471, 0.0016995083212170323, 0.011896558248519226, 0.008497541606085162, 0.9677386768574927, 0.9880943840203381, 0.010207586611780353, 0.9576931522411302, 0.978521435752804, 0.09835190604293798, 0.10563723241648892, 0.7066766582344431, 0.08742391648261152, 0.15421864917844988, 0.24912243328826517, 0.5990801371932091, 0.051110608306013515, 0.5011332814394496, 0.42010426827137937, 0.027425204456885302, 0.9888239421171104, 0.40654554477949206, 0.5691637626912889, 0.8246685964482409, 0.8936291322104661, 0.9528705147856157, 0.898497376149989, 0.39038024763138574, 0.02946266019859515, 0.5818875389222542, 0.9973218579410241, 0.9764222959057773, 0.9891513660567779, 0.07786180126522886, 0.3479945811650025, 0.5513886742660085, 0.007945081761758047, 0.003178032704703219, 0.012712130818812875, 0.9968622769063418, 0.991552859702942, 0.9809726615091003, 0.9401276774597653, 0.9984139879030541, 0.9233401564538875, 0.500239392650293, 0.500239392650293, 0.9959546574979037, 0.9442296972130769, 0.8137328469711903, 0.09422878294124619, 0.04341254642650271, 0.02624944667649001, 0.022211070264722316, 0.935151965864268, 0.1251568472242442, 0.8565421731909212, 0.015644605903030524, 0.9488962940101794, 0.004037856570256082, 0.04643535055794495, 0.028074416285127027, 0.6216477891706699, 0.3449142572172749, 0.9872023009426115, 0.9379697196860091, 0.05836256033601834, 0.9970165283287595, 0.9923917279324765, 0.9814603882191485, 0.8693278482337099, 0.21656573594697703, 0.3842721290278678, 0.10564182241315953, 0.0026410455603289884, 0.15186011971891683, 0.006602613900822471, 0.1307317552362849, 0.003961568340493483, 0.9868300039297108, 0.9783188993781933, 0.9938140154685104, 0.4853768372254711, 0.4590756292969973, 0.05579044106039898, 0.9176143974316298, 0.04812367093632195, 0.19851014261232805, 0.1082782596067244, 0.5353758391665817, 0.036092753202241465, 0.07218550640448293, 0.9644850523227054, 0.8786220716001918, 0.9841220712688379, 0.9924182284649661, 0.9519045008658279, 0.9740265266491267, 0.014323919509545981, 0.8847495536180071, 0.3996064294864313, 0.5860894299134326, 0.9696797596533181, 0.11730257839226481, 0.011351862425057885, 0.037839541416859614, 0.7151673327786467, 0.12108653253395077, 0.891977068026088, 0.9583957329550596, 0.9939333314639215, 0.9997425569873785, 0.9928183889551503, 0.0481344125547424, 0.9451848283476689, 0.0065637835301921455, 0.07013712276139054, 0.9225729224767525, 0.9686677777073647, 0.8523843439978089, 0.7190281545046351, 0.8602370527186963, 0.011201003290608025, 0.12657133718387067, 0.9957343727552495, 0.9190807179007529, 0.9969200779412299, 0.9600216663235811, 0.7819607546094215, 0.9907442453287435, 0.8557177943363777, 0.9906364739267096, 0.992991750529457, 0.6827855629142132, 0.3164475886575268, 0.9956065197747866, 0.9976954193740486, 0.9847456923632295, 0.15156152838257878, 0.8426820978071379, 0.005472603915677174, 0.9905413087375685, 0.7344793582178555, 0.979430273465214, 0.006979313112578722, 0.006979313112578722, 0.0011632188520964537, 0.004652875408385815, 0.9366221990043614, 0.9974400864737217, 0.8781397856563484, 0.09653968045270639, 0.024134920113176597, 0.7668902521481011, 0.9962154546934776, 0.9882546728319666, 0.8053016076343928, 0.16953718055460903, 0.9938452165742924, 0.8076195082637305, 0.017778977465290554, 0.028370708721208334, 0.12218318555933723, 0.024209671442097777, 0.0042635877803082695, 0.2600788545988044, 0.7333370982130223, 0.9652096226820777, 0.21422359906212848, 0.07789949056804672, 0.03505477075562102, 0.10516431226686307, 0.5608763320899364, 0.905874133950882, 0.8058004868540845, 0.9911395443548712, 0.943081309244434, 0.49109298792605693, 0.13129478340439568, 0.34086145691525804, 0.03534859553195269, 0.997448194339227, 0.9965933734868619, 0.9159661808416649, 0.9865152640829856, 0.8535898496527383, 0.14535769178869096, 0.38872567057280677, 0.5830885058592102, 0.9937258700131023, 0.0031748430351856306, 0.002539874428148504, 0.9977564368391957, 0.920434349277311, 0.07897217789657403, 0.9122647088978693, 0.9971833722145438, 0.31710783757808514, 0.26425653131507093, 0.3699591438410993, 0.05285130626301419, 0.9921836232338511, 0.9744609855301047, 0.36630594726054655, 0.1166142528732077, 0.13079088753622511, 0.07865745683996755, 0.09923644264112186, 0.18063776425457664, 0.0045731079558120665, 0.0004573107955812067, 0.022865539779060334, 0.3826376884496823, 0.5739565326745235, 0.9635496275054145, 0.9606038094585196, 0.04100138211103438, 0.7598427396053105, 0.997607148417554, 0.879913223123933, 0.9939750438340832, 0.9934587021064742, 0.9830614448885421, 0.995866390003037, 0.9446253804280316, 0.9593848868800385, 0.8450212828450427, 0.3300542095405551, 0.6601084190811102, 0.05025023638748828, 0.04082831706483423, 0.0533908761617063, 0.8134257015224665, 0.04082831706483423, 0.36272107721473357, 0.08099596869843564, 0.1760781928226862, 0.3803288964970022, 0.9644867072403367, 0.9687340073249343, 0.04290462560989594, 0.9554530087742211, 0.0365250922730625, 0.9587836721678905, 0.0342409682927972, 0.965595305856881, 0.9962937194011325, 0.9897988168273834, 0.9937590618620997, 0.9895964477727092, 0.8498732306444196, 0.15441692486341485, 0.08184097017760987, 0.29339215724048817, 0.08956181642078061, 0.3628797734290249, 0.016985861734975634, 0.08951511338303618, 0.905097257539588, 0.9867648897479157, 0.22130369269130049, 0.5311288624591212, 0.06196503395356414, 0.0885214770765202, 0.10622577249182423, 0.9044870748629906, 0.06915868188607575, 0.02034078879002228, 0.005424210344005941, 0.9717281371927956, 0.9076125008147696, 0.9642465913351682, 0.9989966906391854, 0.9968937623875528, 0.9970127472565774, 0.978159670308411, 0.8798958636917633, 0.04604829838273726, 0.07342836769139184, 0.8237771691298311, 0.08601849993342092, 0.00720154883163524, 0.04000860462019578, 0.042409120897407525, 0.27598944604070424, 0.7129727356051526, 0.23009807915058275, 0.6902942374517482, 0.008737374203957841, 0.5980247232931145, 0.39318183917810284, 0.99189323505297, 0.7794904640141002, 0.9868708489873287, 0.9388413894911487, 0.39045021322310375, 0.6109397453961506, 0.9700068999384724, 0.961908479062164, 0.041779625637467836, 0.09115554684538436, 0.0037981477852243486, 0.8621795472459272, 0.5701384799775497, 0.28506923998877487, 0.10690096499579058, 0.982099827261987, 0.9680203761347148, 0.02262904775379853, 0.007543015917932843, 0.9920634095021503, 0.9985195210790488, 0.9935264710646328, 0.902925645457431, 0.8794438791100541, 0.002364102516523579, 0.9172717764111487, 0.07801538304527811, 0.8889740845842476, 0.06467394422623164, 0.9054352191672429, 0.9656612284414775, 0.5365645733747761, 0.004004213234140121, 0.4584824153090438, 0.9980354664581319, 0.9906505008596598, 0.9820492047953339, 0.9531791681859817, 0.992480388989118, 0.96270453514834, 0.012302933356528305, 0.015378666695660383, 0.0030757333391320764, 0.0030757333391320764, 0.9432140281971043, 0.9334678826856111, 0.9240660679063434, 0.9980828053585907, 0.9631057338062684, 0.9967961822336602, 0.24724402715556906, 0.0400299853489969, 0.11302584098540301, 0.5321633346396059, 0.06828644559534765, 0.8915321865830167, 0.07429434888191806, 0.9851042123816233, 0.9242301924281562, 0.3118105533468518, 0.6236211066937036, 0.9463392523871499, 0.7716777518052917, 0.05556079812998101, 0.11112159625996201, 0.06173422014442334, 0.06027201141466458, 0.3722683057964577, 0.5619478711308433, 0.00354541243615674, 0.8151559074394307, 0.18391914108222449, 0.9781718480396234, 0.9756973263805541, 0.8489721119945494, 0.628563012331551, 0.3706910072724532, 0.9737558665406033, 0.9943930460439989, 0.014480491378697878, 0.9846734137514558, 0.88300834480687, 0.7919886543740711, 0.04417472728314062, 0.3267527446657703, 0.11218978357623015, 0.478208952493681, 0.036461679662274794, 0.002103558442054315, 0.9774604402731928, 0.9357812396443138, 0.8973076474080097, 0.7667390413436039, 0.8684630822723542, 0.896139376882091, 0.9991367692971554, 0.955198629947481, 0.2498978652394123, 0.06247446630985307, 0.6872191294083838, 0.9531506306921824, 0.9967755272853944, 0.9750888533702319, 0.41290181290303907, 0.5760235167659681, 0.010195106491433063, 0.15013575425071646, 0.8469196393630158, 0.30259252056961466, 0.20172834704640977, 0.3866459985056187, 0.10926952131680528, 0.7545040694313087, 0.9222981085418117, 0.39916030543547154, 0.5322137405806288, 0.7838801220127806, 0.990338964908993, 0.9488832025127021, 0.04790035397299698, 0.9994637884340639, 0.2691753880183282, 0.42446888110582526, 0.17599929216583, 0.12423479446999763, 0.8411838211989334, 0.9994699403964447, 0.9871260563704015, 0.9981885015156433, 0.9989681810755058, 0.04852159505893993, 0.9461711036493287, 0.18975137434960287, 0.7590054973984115, 0.9956701657085673, 0.9942408230436972, 0.7273211538907326, 0.789283266397729, 0.20368600423167202, 0.9395172704965753, 0.6651646180181113, 0.981273371058137, 0.9983798487138703, 0.021924048894022965, 0.27039660302628327, 0.7015695646087349, 0.051262901917231575, 0.9483636854687841, 0.9625058296807257, 0.8509954788591284, 0.14546931262549204, 0.7904597971731103, 0.17587872553923625, 0.001988935506905741, 0.018468686849839024, 0.013354281260652833, 0.9300198888904692, 0.9766221514938939, 0.9919655444539361, 0.9942157445836421, 0.9186920454342759, 0.38485448958953994, 0.0651939299304685, 0.18436562980336793, 0.01472120998429934, 0.0021030299977570486, 0.3280726796500996, 0.02032928997831814, 0.8743818003524961, 0.9993583913866355, 0.9923118321223063, 0.8548930025196094, 0.990450436932011, 0.006410682439689392, 0.34397986490553234, 0.006520945306266016, 0.08477228898145821, 0.04401638081729561, 0.407559081641626, 0.09944441592055675, 0.011411654285965528, 0.15504943160039902, 0.5465492463914066, 0.29459392004075813, 0.8716502523061483, 0.9926509525874975, 0.9575398976828284, 0.9964075622901322, 0.3725114608135049, 0.048185562095279244, 0.5652537091946218, 0.011119745098910594, 0.8143124865111132, 0.14430854191336184, 0.010765875349092072, 0.014430854191336183, 0.012827425947854385, 0.0032068564869635963, 0.11164400042216674, 0.6698640025330004, 0.033364873689383165, 0.03593140243472033, 0.10522767855882381, 0.04491425304340041, 0.14534855111248252, 0.3276299307863335, 0.05956907832478791, 0.017870723497436375, 0.3955386800765917, 0.054803552058804876, 0.8962119352589094, 0.028880948568262944, 0.02346577071171364, 0.005415177856549302, 0.02978347821102116, 0.01534300392688969, 0.6253260096885235, 0.9957891791630786, 0.30708645712158483, 0.03920252644105338, 0.03266877203421115, 0.02286814042394781, 0.594571651022643, 0.17233866825666863, 0.05744622275222287, 0.761162451466953, 0.7047711389296559, 0.9977993070621111, 0.9981354319215379, 0.8940100653396225, 0.8216565045694361, 0.0733082204467544, 0.415981529976932, 0.5097478584553388, 0.08269089351734639, 0.8820361975183615, 0.03215756970119026, 0.9703729226158818, 0.7751111392925101, 0.13038069789950224, 0.06413548893438298, 0.024472752356540874, 0.0025316640368835386, 0.002953608043030795, 0.987303054749047, 0.929389125210371, 0.5261680194341232, 0.0956302305259871, 0.10168277676180908, 0.20134803811167748, 0.06617450551165352, 0.008877067812538888, 0.9961659971018253, 0.19952970305173198, 0.7981188122069279, 0.21141732324109946, 0.008809055135045811, 0.7751968518840314, 0.9466748214788498, 0.0013352254181648094, 0.05073856589026275, 0.9356443942745662, 0.9888032818166572, 0.9664663120954485, 0.027071885492869707, 0.0027071885492869706, 0.9877343923797809, 0.9689338024278961, 0.028739561936420646, 0.7699740952681923, 0.8768714997547481, 0.7676172041857405, 0.8983650339679505, 0.04344667090952647, 0.01962107718494744, 0.03363613231705275, 0.0035037637830263283, 0.0014015055132105313, 0.9696726958240316, 0.07856421165276414, 0.018130202689099418, 0.09065101344549709, 0.8037723192167409, 0.9900009975808248, 0.007518994918335378, 0.7499710977643927, 0.2976233150233295, 0.019623515276263485, 0.5559995994941321, 0.1242822634163354, 0.676298597465882, 0.8694004552203981, 0.8770054815859996, 0.038400892855828414, 0.9600223213957103, 0.01339980857597382, 0.33834516654333896, 0.003349952143993455, 0.09379866003181674, 0.11389837289577746, 0.42879387443116224, 0.010049856431980364, 0.9971914904999684, 0.921176544539942, 0.027130388280184027, 0.969911381016579, 0.9957035363431395, 0.9948689546724808, 0.9842194573212333, 0.9964812597475297, 0.08854233076051439, 0.8601254988164255, 0.025297808788718398, 0.9931292943553832, 0.9990934695510084, 0.9424019095421803, 0.9683518032489294, 0.8892866293601864, 0.07939267164861515, 0.009757758526645437, 0.011531896440580973, 0.004878879263322719, 0.004878879263322719, 0.995757479685102, 0.9937985310850048, 0.9245826958590315, 0.938138885642792, 0.1802791888042227, 0.7812098181516317, 0.5356987959396212, 0.46231539923556353, 0.9933532690672608, 0.42038972528658725, 0.23354984738143736, 0.08693244319197947, 0.2393885935659733, 0.008433744488774127, 0.0038924974563572896, 0.005838746184535934, 0.0012974991521190965, 0.9957630794875622, 0.9961969527258179, 0.7863747543708315, 0.9768073962122985, 0.7068385702360931, 0.9873884617165926, 0.00940369963539612, 0.5644968365700881, 0.33644574548691036, 0.0422316835339218, 0.0563089113785624, 0.9419459113878295, 0.9960527365497164, 0.9523958358156505, 0.9367875133175408, 0.568527217135261, 0.40908784996817676, 0.011013903652989375, 0.0010489432050466072, 0.0005244716025233036, 0.00734260243532625, 0.0015734148075699107, 0.25024052928665586, 0.7507215878599676, 0.918662482275425, 0.9148952605644912, 0.7719085434409184, 0.047630008067363235, 0.017388733103958005, 0.1134047811127696, 0.045361912445107844, 0.003780159370425653, 0.8857809129267379, 0.9974395842500314, 0.5417336043728233, 0.11425187390801247, 0.028242036246924434, 0.0680376327766816, 0.24647595270043143, 0.9691045090488877, 0.9382914599736423, 0.8936611593145589, 0.8141279260615003, 0.36527418615548274, 0.36527418615548274, 0.24351612410365514, 0.9698077171973828, 0.1375521701961646, 0.4254852103995351, 0.34138595608270905, 0.00641434990552063, 0.06200538242003275, 0.026370105167140365, 0.8726736626742427, 0.8808496927818916, 0.33036463131866195, 0.6276927995054576, 0.9382346661471502, 0.8979933728231884, 0.9880868193580833, 0.9937064719461252, 0.7255435337558125, 0.9649010431695688, 0.9893975748143128, 0.9972267530899307, 0.994753958230661, 0.985705069008417, 0.992863150296081, 0.8994301473212927, 0.9186582304392406, 0.9984054552303335, 0.9926461815381845, 0.8469031140016866, 0.9952191782729932, 0.9966534905953037, 0.3761777730190663, 0.12118478593902807, 0.11950166391209711, 0.14559005532952676, 0.22890459566260857, 0.008415610134654727, 0.7913919293353049, 0.9241485385545929, 0.9946408048780416, 0.9320669117547704, 0.9787791460511179, 0.9880548965347359, 0.6100527259835296, 0.17592447991100568, 0.20804552259138592, 0.005682953704990352, 0.9956791949360205, 0.9206763576003828, 0.032529536660297086, 0.29276582994267375, 0.01951772199617825, 0.07481793431868329, 0.09758860998089125, 0.48143714257239684, 0.9716150604070986, 0.9253206409504926, 0.06609433149646377, 0.19510523390952045, 0.3796642389590668, 0.10282573138474727, 0.3190234230142159, 0.11692502322059654, 0.7275334778170451, 0.14290836171406243, 0.992460041317914, 0.279625826541463, 0.2563236743296744, 0.15728952742957295, 0.1398129132707315, 0.15728952742957295, 0.9032632881141313, 0.9720393404296818, 0.9870464922684332, 0.9476039022838977, 0.17901886960751867, 0.7384528371310145, 0.08950943480375934, 0.8958314161323945, 0.08669336285152206, 0.9972593139422821, 0.9880367538618917, 0.9972464443562218, 0.11686181706534086, 0.8524038421236627, 0.02978830631077316, 0.9947822338917353, 0.0660746950670828, 0.9297653520153794, 0.0047196210762202, 0.08113834092330767, 0.9116131244912803, 0.9666294921450816, 0.9978289580147203, 0.28172315289209604, 0.5858052861724536, 0.004471796077652318, 0.020442496354982024, 0.10540662183037607, 0.0019164840332795649, 0.9984596498545906, 0.7176691782920843, 0.9890042828837055, 0.9093607384279713, 0.04047599725940525, 0.0485711967112863, 0.09773896782547392, 0.8936134201186188, 0.8593654405426445, 0.028589509260275717, 0.8545086656682408, 0.11435803704110287, 0.7995790819802026, 0.07995790819802026, 0.11993686229703039, 0.9980658542959999, 0.9946891974252026, 0.8830635283111047, 0.16739829773558998, 0.07775920927072567, 0.13823859425906784, 0.05723941793539528, 0.04211957168830974, 0.012959868211787611, 0.3758361781418407, 0.12851869310022715, 0.9721228771748202, 0.965451882808343, 0.03387550465994186, 0.6872274575660323, 0.10256734110890015, 0.792244289944608, 0.03536804865824143, 0.06719929245065873, 0.9885223161755766, 0.006724641606636575, 0.02439108862821242, 0.9707653274028545, 0.982756673975357, 0.1347100278880463, 0.45858732898058324, 0.014330854030643226, 0.3897992296334957, 0.8777579178590681, 0.0908616594658801, 0.005143112799955477, 0.025715563999777386, 0.9936183066011326, 0.8344032076244938, 0.4926526035141841, 0.43634944882684873, 0.022677659526843395, 0.04848327209187209, 0.8886611567856992, 0.9008689224034755, 0.6609950114293516, 0.06333322246074184, 0.27517193207080937, 0.9164230045490401, 0.24839299111082705, 0.7451789733324811, 0.8710948089962365, 0.06923295767145268, 0.3176570999043123, 0.077378011515153, 0.5335010267623707, 0.014860745034365842, 0.06811174807417678, 0.4904045861340728, 0.2253879663545486, 0.19938166254440837, 0.9907738078240959, 0.9947158263628143, 0.836876386585694, 0.9841186831882466, 0.9902408566831908, 0.9055323493458061, 0.034685233627472736, 0.05946040050423898, 0.4110072267702255, 0.14841927633369253, 0.43384096159079355, 0.30822280567939364, 0.26969495496946944, 0.1155835521297726, 0.26969495496946944, 0.9353481779763513, 0.9859737549194075, 0.9684542913074439, 0.012416080657787742, 0.011795276624898356, 0.0068288443617832584, 0.9900748348775159, 0.9935856018235278, 0.8964115766129941, 0.935950799804759, 0.988283791394402, 0.9407199156498911, 0.9955759826308732, 0.988919965397957, 0.9971850730944003, 0.8927538709360513, 0.07337703048789462, 0.032612013550175394, 0.9507264120852904, 0.3092345803583414, 0.12369383214333657, 0.45354405119223407, 0.12369383214333657, 0.04150993739585917, 0.936938586935107, 0.01185998211310262, 0.3102707196964949, 0.6840908639091393, 0.0037382014421264444, 0.9893771616123742, 0.9724711731046539, 0.8035774443225996, 0.8720324724760514, 0.6019449876121498, 0.03974503645575429, 0.25770168798731014, 0.006410489750928112, 0.091670003438272, 0.002564195900371245, 0.9895995114594452, 0.012792627867806314, 0.9133936297613707, 0.07419724163327662, 0.9960554706352003, 0.23469374952698163, 0.7040812485809449, 0.7751249681296886, 0.20868749141953152, 0.9557037513412128, 0.8197657125527144, 0.9455720274486143, 0.7123413128888152, 0.17464146563873761, 0.7536329913599579, 0.06450720802872291, 0.004720039611857773, 0.8384271119241703, 0.7665112814455768, 0.048926252007164474, 0.18591975762722499, 0.9142584139168667, 0.44491214247726035, 0.27865904233825384, 0.12452155273569314, 0.15211822117981974, 0.13725464157807013, 0.06405216606976606, 0.2150322718056432, 0.5833322267067981, 0.9406211878496797, 0.9960819902047664, 0.9929732881776724, 0.9935659690476556, 0.9861017214189798, 0.1407773348383254, 0.8550919597587173, 0.9738059211342517, 0.15898683318663048, 0.2914758608421559, 0.5492272419174508, 0.9944885829425826, 0.9928115178304119, 0.9972527529582997, 0.6427946190693467, 0.9815895665518899, 0.017342571847206535, 0.8840769331454309, 0.9268721446312158, 0.998054594181032, 0.995756686092587, 0.9853720868300934, 0.9916617581527396, 0.2775581788201573, 0.15260170787721797, 0.23553741868005382, 0.04754980752695922, 0.006634856864226868, 0.20236313435891948, 0.017692951637938315, 0.05971371177804181, 0.07362148911912397, 0.034356694922257854, 0.8932740679787042, 0.9890273450496062, 0.07433327348234088, 0.09291659185292611, 0.8335945669091085, 0.9700488022586781, 0.9413923447658241, 0.7094352446824558, 0.21283057340473674, 0.9937315002882483, 0.14618917873668083, 0.44810161308417384, 0.0010593418749034844, 0.0010593418749034844, 0.40254991246332406, 0.7439452857846443, 0.9851439749979906, 0.9982439765585033, 0.9512778226336245, 0.842251811414288, 0.15647338698292965, 0.964497162583917, 0.7095556261864726, 0.9515500117521459, 0.978244265053522, 0.864459976443433, 0.0608881420184337, 0.5723485349732768, 0.36532885211060223, 0.9975648516068121, 0.8887595163754973, 0.9202201185141494, 0.7194577447666318, 0.12514793177433867, 0.11257599342257861, 0.01942935927090189, 0.023429521473734637, 0.818510118567718, 0.9248986710128213, 0.9737254812165526, 0.8065074001022369, 0.19072810137552898, 0.0021797497300060456, 0.9981040296181768, 0.8831368560414308, 0.10699374025526769, 0.007892980838503354, 0.000876997870944817, 0.9172620981889873, 0.06577734783065764, 0.001206923813406562, 0.014483085760878747, 0.001206923813406562, 0.9895964477727092, 0.973970310327364, 0.020291048131820085, 0.9365887834913026, 0.04449352890695024, 0.017797411562780096, 0.8384915920845406, 0.9970003292377765, 0.45171831238685856, 0.10200090924864548, 0.43714675392276636, 0.9400233385204884, 0.05778831999101363, 0.03772846851575868, 0.013943129668867339, 0.948132817482979, 0.9966393716909221, 0.9911885936785756, 0.9917088988836985, 0.16087892945916776, 0.49561089559195226, 0.3425164304614539, 0.03511327635012017, 0.5266991452518025, 0.421359316201442, 0.9854328394186217, 0.006045600241832035, 0.9943628658513428, 0.9061117208306266, 0.9889684705533961, 0.4335515057460982, 0.016360434179098046, 0.07771206235071572, 0.47240753692145604, 0.2061555514140719, 0.7660842095757486, 0.020361042114970064, 0.002545130264371258, 0.003817695396556887, 0.9547415382791956, 0.043776358742059186, 0.9925253398885973, 0.9619016089032512, 0.03171104205175553, 0.9781277627477578, 0.9629783274422296, 0.7381301057654395, 0.07879270983832616, 0.02647435050567759, 0.05105767597523535, 0.08635680998280547, 0.01891025036119828, 0.4437560537362015, 0.0062944121097333544, 0.10071059375573367, 0.07553294531680026, 0.3713703144742679, 0.9976171871216915, 0.8111094759478418, 0.9557173918752114, 0.5318071871865129, 0.31908431231190776, 0.9866148609788521, 0.9314090342173419, 0.24695712802172604, 0.2522115350009117, 0.01050881395837132, 0.4886598490642664, 0.15415655768522352, 0.45654057468316195, 0.32372877113896936, 0.03320295088604814, 0.030831311537044704, 0.9949872851039467, 0.8413718553981459, 0.15192583061163772, 0.006605470896158162, 0.9952787446568986, 0.06155213597320217, 0.9232820395980326, 0.9008245001326339, 0.9234031095336114, 0.46540973012109843, 0.46540973012109843, 0.06648710430301406, 0.8138579506093893, 0.15259836573926047, 0.21776802714151, 0.5459890017668982, 0.0043930149567451586, 0.18576177531379526, 0.046440443828448814, 0.8330327818174822, 0.04213039356318301, 0.033193643413416914, 0.034470322006240645, 0.05745053667706774, 0.9675460280562381, 0.004898967230664497, 0.007348450845996745, 0.017146385307325738, 0.0024494836153322484, 0.9739067891289396, 0.9929985642553161, 0.9803450718995639, 0.019606901437991278, 0.9890822441619088, 0.003237778386383004, 0.9956168538127738, 0.9876996218919533, 0.9958918637242619, 0.14430026979133603, 0.15371115695164056, 0.6995426122493029, 0.6221043707989136, 0.37703295199934156, 0.9172493093079349, 0.06496025775404708, 0.05684022553479119, 0.25984103101618833, 0.01624006443851177, 0.5846423197864237, 0.024360096657767654, 0.9951314040688447, 0.9603623041029722, 0.9798679991674252, 0.9897750025754212, 0.8017600436199384, 0.9930125130246436, 0.9542813394854642, 0.8184015333381018, 0.22124873462792205, 0.7550552054762419, 0.01053565402990105, 0.012876910480990173, 0.9412377452678691, 0.012303761376050576, 0.0008788400982893269, 0.045699685111044996, 0.5223520940393018, 0.4352934116994182, 0.9415878121776827, 0.9288594754913927, 0.06720875611162211, 0.0017233014387595413, 0.9637431476468804, 0.025172395647493146, 0.002397371014046966, 0.008390798549164382, 0.989227442268015, 0.9890699685459811, 0.00622056583991183, 0.8453578096837898, 0.02923923248143322, 0.004299887129622532, 0.11695692992573288, 0.0034399097036980257, 0.9733325480447992, 0.0021022301253667366, 0.02102230125366737, 0.0033035044827191577, 0.20610460215050605, 0.08565386063397654, 0.061563712330670636, 0.12580410780615303, 0.045503613461800034, 0.33993875939109436, 0.13383415724058834, 0.983020711945096, 0.9900065730081573, 0.006000039836413075, 0.9947190528646018, 0.17064020296082044, 0.11731513953556405, 0.22041026215772638, 0.08650510288986035, 0.10783512825996291, 0.25596030444123063, 0.041475049330754965, 0.9937042054096112, 0.9809506310634163, 0.8626857504505117, 0.9151166759628009, 0.7256125550426289, 0.09351140734130534, 0.08451992586617982, 0.03821379626928343, 0.00719318518010041, 0.04900357403943405, 0.002247870368781378, 0.9810686088018868, 0.9103666269074648, 0.6358465480988436, 0.3851926096306212, 0.0345219791650085, 0.08903036732028509, 0.49057549339748924, 0.9633775282739783, 0.9867101290927319, 0.9796303431485393, 0.9937736368947252, 0.989466847279862, 0.9123082258404699, 0.7833448926967038, 0.31271844422740347, 0.17159422324272908, 0.025658949269940796, 0.4891237204582464, 0.9180471625598511, 0.03718820422308267, 0.014875281689233067, 0.9482992076886081, 0.9950557635816744, 0.947678562430167, 0.9513901621528537, 0.997243057416737, 0.9907861672399065, 0.9636022009394315, 0.9535371989844869, 0.7183750051834608, 0.10708695729442894, 0.17401630560344702, 0.8852521151734429, 0.0885252115173443, 0.9773080674445453, 0.021042518198566767, 0.003063945360891428, 0.2068163118601714, 0.029107480928468567, 0.712367296407257, 0.04595918041337142, 0.001531972680445714, 0.003063945360891428, 0.9992700091697458, 0.9974811401057411, 0.5171768678461375, 0.3447845785640916, 0.939551312209167, 0.44623309850014065, 0.38520121731514384, 0.07203763025114378, 0.011005749066146967, 0.0020010452847539937, 0.04502351890696486, 0.03902038305270288, 0.24534473454277902, 0.6974406498800347, 0.05789033062245348, 0.22876299276567472, 0.6468273620449453, 0.06176600804673217, 0.04689641351696332, 0.0028595374095709337, 0.01258196460211211, 0.8849154518408784, 0.9649657131012624, 0.8567911888758826, 0.8012058670807042, 0.4410623889652693, 0.5355757580292556, 0.8596165128570765, 0.8108460621453006, 0.22225909358064994, 0.7408636452688331, 0.033077335755578946, 0.8930880654006315, 0.02866702432150175, 0.04410311434077192, 0.5152457462237537, 0.17921591173000131, 0.08960795586500066, 0.22401988966250164, 0.9608214274036547, 0.034468930131072814, 0.004308616266384102, 0.543192095479075, 0.4481334787702368, 0.9244797151305779, 0.9875239999446095, 0.7117464924762379, 0.034719341096401846, 0.14755719965970784, 0.10415802328920554, 0.14386718994931388, 0.7193359497465694, 0.9918690598837043, 0.9217222109986893, 0.9083131715611795, 0.5869799852798887, 0.3521879911679332, 0.7948942981769493, 0.17988126343068764, 0.023113234965954278, 0.002009846518778633, 0.10106679283168182, 0.8085343426534546, 0.9614555934648379, 0.9917142092637815, 0.24495650309985906, 0.008594965021047686, 0.713382096746958, 0.0300823775736669, 0.9973913306597791, 0.7740652918701878, 0.9080450156923123, 0.01939749032186515, 0.07152824556187774, 0.2904994944887984, 0.0015452100770680765, 0.0015452100770680765, 0.7061610052201109, 0.041317565570636046, 0.044072069942011786, 0.7051531190721886, 0.005509008742751473, 0.06886260928439342, 0.07161711365576916, 0.055090087427514735, 0.00826351311412721, 0.9991476083851466, 0.8136603741458865, 0.9678651791057559, 0.03084829256113963, 0.9956700847331027, 0.003105000264240445, 0.8604301813364444, 0.9817786427984166, 0.9840564186973257, 0.06355857525259323, 0.9343110562131204, 0.9270002783439529, 0.993064792307559, 0.9892829417672471, 0.6777489418303012, 0.13624700293899092, 0.2209410858470123, 0.01657058143852592, 0.6167938646562426, 0.007364702861567076, 0.5400229656620152, 0.3633934701907931, 0.07673248573749815, 0.010858370623230869, 0.000723891374882058, 0.005791130999056464, 0.001447782749764116, 0.9410975611608701, 0.16545260009407414, 0.015254495044134496, 0.2041755490522617, 0.4118713661916314, 0.1314233419186972, 0.07040536174215921, 0.9607824097397001, 0.8596255853335103, 0.060566094082745325, 0.04253391607174615, 0.03413725302845645, 0.002890654490312845, 0.00013765021382442118, 0.9965999925907557, 0.9891899269409928, 0.9924697468593318, 0.8074680303756518, 0.8417949221951427, 0.958926836850134, 0.9599315765052082, 0.11488444184366048, 0.14480226524044706, 0.2979815210319944, 0.029917823396786582, 0.37457114892776805, 0.03829481394788683, 0.16967464975085053, 0.10180478985051032, 0.19682259371098662, 0.5293849072226536, 0.5238521133433837, 0.30798891491395486, 0.020773445873961766, 0.01896705927622596, 0.11380235565735576, 0.013547899483018542, 0.9525116188042644, 0.028863988448614073, 0.008881227214958176, 0.008881227214958176], \"Term\": [\"\\\"are\", \"\\\"clipper\", \"\\\"skepticism\", \"\\\"the\", \"\\\"the\", \"\\\"the\", \"\\\"the\", \"\\\"the\", \"\\\"the\", \"#include\", \"#include\", \"$10.00\", \"(1st\", \"(205)\", \"(301)\", \"(301)\", \"(301)\", \"(713)\", \"(formerly\", \"(hard\", \"(hey,\", \"(ie,\", \"(pp)\", \"(unassisted)\", \"*******\", \"***************\", \"*must*\", \"*the*\", \"----\", \"----\", \"------\", \"------\", \"--------\", \"--------\", \"----------\", \"----------\", \"------------\", \"---------------\", \"---------------\", \"-----------------------------------------\", \"---------------------------------------------------------------------\", \"---------------------------------------------------------------------\", \"----------------------------------------------------------------------\", \"----------------------------------------------------------------------\", \"------------------------------------------------------------------------\", \"----------------------------------------------------------------------------\", \"----------------------------------------------------------------------------\", \"-----begin\", \"--->>>\", \"0.182\", \"0.250\", \"0.273\", \"0.333\", \"0.500\", \"1.05\", \"1/2\\\"\", \"1982\", \"1991\", \"1991\", \"1993\", \"1993\", \"1993\", \"1993\", \"1993\", \"256k\", \"256k\", \"3.5\\\"\", \"5.00\", \"55.0\", \"64-bit\", \"640x480\", \"9600\", \"[kk]\", \"_/_/_/_/\", \"access\", \"access\", \"access\", \"access\", \"access\", \"acts\", \"acts\", \"acts\", \"acts\", \"actually\", \"actually\", \"actually\", \"actually\", \"actually,\", \"actually,\", \"add,\", \"adirondack\", \"administration\", \"administration\", \"administration\", \"admittedly,\", \"adobe\", \"advance!\", \"again!\", \"agencies\", \"agents\", \"agents\", \"agents\", \"alan\", \"algorithm\", \"algorithm\", \"allah\", \"allah\", \"allergic\", \"allergic\", \"allergic\", \"allergic\", \"allocation\", \"also\", \"also\", \"also\", \"also\", \"also\", \"also\", \"also\", \"also\", \"aluminum\", \"amendment\", \"amendment\", \"american\", \"american\", \"american\", \"american\", \"americans.\", \"among\", \"among\", \"among\", \"among\", \"among\", \"among\", \"amongst\", \"andersson\", \"annual\", \"annual\", \"annual\", \"anonymous\", \"anyone\", \"anyone\", \"anyone\", \"anything\", \"anything\", \"anything\", \"anything\", \"anything\", \"anyway,\", \"anyway,\", \"anyway.\", \"apartment\", \"apostles\", \"apple\", \"appletalk\", \"approval\", \"april\", \"april\", \"april\", \"april\", \"april\", \"april\", \"april\", \"arab\", \"arabs\", \"arabs.\", \"archbishop\", \"archive.\", \"argic\", \"arguments.\", \"armed\", \"armenia\", \"armenia.\", \"armenian\", \"armenian\", \"armenians\", \"armenians\", \"arms\", \"asala/sdpa/arf\", \"assembly\", \"assembly\", \"astros\", \"atheism\", \"atheist\", \"atheists\", \"athens,\", \"austria\", \"authorities.\", \"auto\", \"auto\", \"auto\", \"available\", \"available\", \"available\", \"available\", \"awarded\", \"awards\", \"azerbaijan\", \"azerbaijan\", \"azeri\", \"azeris\", \"babies\", \"back\", \"back\", \"back\", \"back\", \"back\", \"baltimore\", \"baltimore\", \"banks\", \"banks\", \"banks\", \"baseball\", \"bat.\", \"battery\", \"battery\", \"beat\", \"beat\", \"beat\", \"belief\", \"beliefs\", \"believe\", \"believe\", \"believe\", \"believer\", \"bethesda,\", \"better\", \"better\", \"better\", \"better\", \"better\", \"bible\", \"biblical\", \"bike\", \"bikes\", \"binghamton\", \"bishop\", \"bless\", \"blessed\", \"blessed\", \"bodies\", \"bodies\", \"bodies\", \"bodies\", \"bone\", \"book\", \"book\", \"book\", \"book\", \"book\", \"both,\", \"bother\", \"brake\", \"braves\", \"breaker\", \"brewers\", \"buffalo\", \"build,\", \"bullpen\", \"cable\", \"cable\", \"cable\", \"cage,\", \"calgary\", \"calgary\", \"came\", \"came\", \"came\", \"came\", \"came\", \"campbell\", \"can't\", \"can't\", \"can't\", \"cancer\", \"candida\", \"cannot\", \"cannot\", \"cannot\", \"cannot\", \"canon\", \"canon\", \"canon\", \"canucks\", \"cape\", \"captain\", \"captain\", \"card\", \"card.\", \"card?\", \"careers\", \"carnegie\", \"carriers\", \"cars\", \"cars\", \"carson\", \"cassette\", \"catholic\", \"celebration\", \"cell\", \"cellular\", \"cellular\", \"center\", \"center\", \"center\", \"center\", \"center\", \"cereals\", \"championship\", \"char\", \"chastity\", \"cheers,\", \"cheers,\", \"chest\", \"chicago\", \"chicago\", \"chicago\", \"chinese\", \"chinese\", \"chip\", \"chip\", \"chip\", \"chip\\\"\", \"christ\", \"christian\", \"christianity\", \"christians\", \"church\", \"cica\", \"cipher\", \"cipher\", \"ciphertext\", \"circuit\", \"circuit\", \"cities\", \"city\", \"city\", \"city\", \"city\", \"civil\", \"civil\", \"civil\", \"cleaner\", \"client\", \"clipper\", \"clipper\", \"club\", \"coach\", \"code\", \"code\", \"code\", \"code\", \"code\", \"code\", \"code\", \"collaboration\", \"color\", \"color\", \"comics\", \"comments:\", \"commercial\", \"commercial\", \"commercial\", \"commercial\", \"communications\", \"communications\", \"communications\", \"computer\", \"computer\", \"computer\", \"computer\", \"computing\", \"concentrate\", \"concentrate\", \"conclusive\", \"conditions.\", \"confidential\", \"confronted\", \"connected\", \"connected\", \"connected\", \"constitution\", \"continuous\", \"contract\", \"control\", \"control\", \"control\", \"control\", \"control\", \"control\", \"controller\", \"cool\", \"copies)\", \"coptic\", \"copyright\", \"corn\", \"corp.\", \"corp.\", \"correct.\", \"cost?\", \"could\", \"could\", \"could\", \"could\", \"could\", \"countries.\", \"country\", \"country\", \"country\", \"course,\", \"course,\", \"course,\", \"court\", \"court\", \"court\", \"cover)\", \"crime\", \"crime\", \"crypto\", \"cryptography\", \"cubs\", \"curious.\", \"current\", \"current\", \"current\", \"current\", \"current\", \"current\", \"current\", \"current\", \"cycle\", \"cyprus\", \"damn\", \"data\", \"data\", \"data\", \"daughter,\", \"dave\", \"dave\", \"dave\", \"dave\", \"dave\", \"dave\", \"declined\", \"deeds\", \"defeat\", \"defensive\", \"demanding\", \"dept\", \"dept\", \"desired.\", \"detector\", \"detector\", \"detectors\", \"development\", \"development\", \"development\", \"development\", \"development\", \"disarm\", \"disc\", \"disease\", \"disk\", \"disks\", \"display\", \"display\", \"display\", \"distributed\", \"distributed\", \"distribution:\", \"doubled\", \"dragons\", \"drive\", \"drive\", \"drive\", \"drive.\", \"driver.\", \"drives\", \"edition,\", \"edition.\", \"edmonton\", \"edmonton,\", \"efforts\", \"either.\", \"email\", \"email\", \"encrypted\", \"encryption\", \"encryption.\", \"enforcement\", \"enforcement\", \"engine\", \"engine\", \"enjoy!\", \"enough\", \"enough\", \"enough\", \"enough\", \"enough\", \"entity\", \"entries\", \"entry\", \"entry\", \"entry\", \"equal.\", \"escrow\", \"espn\", \"essence\", \"essence\", \"eternal\", \"even\", \"even\", \"even\", \"even\", \"even\", \"evidence\", \"evidence\", \"evidence\", \"example)\", \"excellent\", \"excellent\", \"excellent\", \"excellent\", \"excellent\", \"excommunicated\", \"execution\", \"exhaust\", \"extracting\", \"fact\", \"fact\", \"fact\", \"fact\", \"faith\", \"fans\", \"fantasy\", \"favor\", \"federal\", \"federal\", \"fighters\", \"fighters\", \"file\", \"file\", \"file\", \"file:\", \"files\", \"files\", \"filters\", \"financial\", \"finland\", \"finland\", \"finland\", \"finland\", \"firearms\", \"firearms,\", \"first\", \"first\", \"first\", \"first\", \"first\", \"first\", \"first\", \"first\", \"first\", \"flavor\", \"flavor\", \"fleet\", \"flight\", \"flight\", \"floppies.\", \"floppy\", \"floptical\", \"folks\", \"font\", \"for?\", \"ford\", \"fractal\", \"francis\", \"freewill.\", \"friday,\", \"friday,\", \"from:\", \"from:\", \"from:\", \"from:\", \"from:\", \"front\", \"front\", \"front\", \"front\", \"fucking\", \"funny.\", \"game\", \"game\", \"game,\", \"game,\", \"game.\", \"game.\", \"games\", \"games,\", \"games.\", \"geb@cadre.dsl.pitt.edu\", \"gender\", \"general\", \"general\", \"general\", \"general\", \"general\", \"general\", \"genocide\", \"genocide\", \"georgia\", \"germany\", \"germany\", \"germany\", \"germany\", \"germany\", \"getting\", \"getting\", \"getting\", \"getting\", \"ghost\", \"gifs\", \"gilmour\", \"god's\", \"god,\", \"god.\", \"goes:\", \"going\", \"going\", \"going\", \"good\", \"good\", \"good\", \"good\", \"good\", \"gordon\", \"gordon\", \"gospels\", \"gospels\", \"government\", \"government\", \"government\", \"governments\", \"grandfather\", \"greece\", \"greece,\", \"greek\", \"greek\", \"greeks\", \"gretzky\", \"ground\", \"ground\", \"ground\", \"ground\", \"ground.\", \"ground.\", \"ground.\", \"grounded\", \"guess\", \"guess\", \"guess\", \"guidelines\", \"guns\", \"guys\", \"habs\", \"harddisk\", \"hardware\", \"hardware\", \"hardware\", \"harris\", \"hartford,\", \"hartford,\", \"hash\", \"he's\", \"he's\", \"he's\", \"health\", \"hearing\", \"helmet\", \"hemisphere\", \"henrik]\", \"here.\", \"here.\", \"here.\", \"here.\", \"here.\", \"hillary\", \"hmm.\", \"hmmm...\", \"hockey\", \"hockey.\", \"holy\", \"home\", \"home\", \"home\", \"home\", \"home\", \"homeland\", \"homeland\", \"honda\", \"hong\", \"hope.\", \"hope.\", \"hours.\", \"house\", \"house\", \"house\", \"house\", \"human\", \"human\", \"human\", \"human\", \"i've\", \"i've\", \"ideas?\", \"ieee\", \"iftccu:talk.politics.guns\", \"image\", \"image\", \"image,\", \"imaging\", \"increased\", \"increased\", \"infallible\", \"infallible,\", \"information\", \"information\", \"information\", \"information\", \"information\", \"information\", \"initiative\", \"injuries\", \"injuries,\", \"inkjet\", \"inning.\", \"innings\", \"input\", \"intellect,\", \"intensive\", \"intensive\", \"intensive\", \"intentional\", \"interface\", \"intergraph\", \"international\", \"international\", \"international\", \"internet\", \"internet\", \"internet:\", \"internet:\", \"internet:\", \"internet:\", \"interval\", \"invaded\", \"investigating\", \"investigating\", \"irgun\", \"island\", \"israel\", \"israel\", \"israeli\", \"japanese\", \"japanese\", \"japanese\", \"japanese\", \"jeep\", \"jesus\", \"jets\", \"jewish\", \"jews\", \"jobs\", \"jobs\", \"john's\", \"john's\", \"jpeg\", \"judas\", \"karabag\", \"karabakh\", \"karabakh\", \"kawasaki\", \"kenny\", \"kent\", \"keyboard\", \"keys\", \"keys\", \"keys\", \"keys,\", \"keys,\", \"kidney\", \"kings\", \"kings\", \"know\", \"know\", \"know\", \"know\", \"know\", \"kong\", \"kurds\", \"laboratory\", \"laser\", \"laserjet\", \"last\", \"last\", \"last\", \"last\", \"last\", \"last\", \"last\", \"lately\", \"launch\", \"launched\", \"lawsuit\", \"league\", \"league\", \"left\", \"left\", \"left\", \"left\", \"left\", \"left\", \"left\", \"legal\", \"legal\", \"legal\", \"legitimately\", \"lemieux\", \"lens\", \"letting\", \"life\", \"life\", \"life\", \"life\", \"like\", \"like\", \"like\", \"like\", \"like\", \"like\", \"line\", \"line\", \"line\", \"line\", \"line\", \"line\", \"list\", \"list\", \"list\", \"list\", \"list\", \"list\", \"little\", \"little\", \"little\", \"little\", \"little\", \"little\", \"lobbying\", \"lord\", \"lost\", \"lost\", \"lost\", \"lost\", \"lost\", \"louis\", \"louis\", \"louis\", \"luck!\", \"lunar\", \"machines\", \"machines:\", \"madison\", \"mail\", \"mail\", \"mail\", \"mailing\", \"mailing\", \"mailing\", \"mainstream\", \"make\", \"make\", \"make\", \"make\", \"make\", \"make\", \"mamma\", \"manager,\", \"many\", \"many\", \"many\", \"many\", \"many\", \"many\", \"mars\", \"massacre\", \"massacre\", \"master\", \"master\", \"master\", \"maybe\", \"maybe\", \"maybe\", \"meanwhile,\", \"mechanical\", \"medical\", \"medical\", \"medical\", \"medicine\", \"memory\", \"memory\", \"messier\", \"micro\", \"microsoft's\", \"might\", \"might\", \"might\", \"might\", \"might\", \"might\", \"mild\", \"miles\", \"miles\", \"miles\", \"miles\", \"military\", \"military\", \"militia\\\"\", \"million\", \"million\", \"million\", \"million\", \"mindset\", \"minors\", \"minus\", \"mission\", \"mission\", \"model\", \"model\", \"model\", \"model\", \"model\", \"model\", \"model\", \"modem\", \"moncton\", \"monitor\", \"monitor\", \"moral\", \"morality\", \"morris\", \"motif\", \"motor\", \"motor\", \"motor\", \"motorcycle\", \"mouse\", \"mozumder\", \"msg.\", \"much\", \"much\", \"much\", \"much\", \"much\", \"much\", \"much,\", \"much.\", \"multimedia\", \"murdering\", \"murphy\", \"murphy\", \"muslim\", \"muslim\", \"muslims\", \"must\", \"must\", \"must\", \"must\", \"must\", \"must\", \"must\", \"must\", \"myers:\", \"myself,\", \"n++;\", \"n3jxp\", \"nagarno-karabagh\", \"nasa\", \"nasa\", \"national\", \"national\", \"national\", \"national\", \"nations,\", \"nazi\", \"nearest\", \"neck\", \"need\", \"need\", \"need\", \"need\", \"need\", \"need\", \"need\", \"needed,\", \"needed,\", \"nervous\", \"neutral.\", \"never\", \"never\", \"never\", \"never\", \"never\", \"never\", \"newbie\", \"newsgroups\", \"next\", \"next\", \"next\", \"next\", \"next\", \"nolan\", \"nonsense.\", \"nords\", \"normally,\", \"norway\", \"norway\", \"norway\", \"null,\", \"number\", \"number\", \"number\", \"number\", \"number\", \"number\", \"number?\", \"objective,\", \"offense\", \"offense\", \"offense,\", \"office)\", \"officer\", \"officers\", \"one).\", \"ontario\", \"openwindows\", \"orbit\", \"orbital\", \"ottawa\", \"ottoman\", \"outlet\", \"outlets\", \"output\", \"p.o.\", \"page.\", \"pain\", \"palestinian\", \"part\", \"part\", \"part\", \"part\", \"part\", \"part\", \"passion\", \"patents\", \"patients\", \"patterns\", \"penguins\", \"pens\", \"people\", \"people\", \"people\", \"people\", \"percent\", \"performance.\", \"period\", \"period\", \"period\", \"period\", \"period\", \"period\", \"period:\", \"philadelphia\", \"philadelphia\", \"phone\", \"phone\", \"phone\", \"phone\", \"phone:\", \"phone:\", \"phone:\", \"phones\", \"picture\", \"picture\", \"picture\", \"picture\", \"picture\", \"picture.\", \"pitcher\", \"pitching\", \"pitt\", \"pittsburgh,\", \"pittsburgh,\", \"pittsburgh,\", \"planes\", \"planes\", \"planetary\", \"plants\", \"plastic\", \"play\", \"play\", \"play\", \"play:\", \"played\", \"played\", \"played\", \"player\", \"player\", \"player.\", \"players\", \"please\", \"please\", \"please\", \"please\", \"please\", \"please\", \"plug\", \"plus.\", \"pointer\", \"police\", \"police\", \"police\", \"policies\", \"policies\", \"polish\", \"political\", \"political\", \"political\", \"population\", \"population\", \"population\", \"port\", \"postscript\", \"potential.\", \"power\", \"power\", \"power\", \"power\", \"power\", \"power\", \"power\", \"power\", \"powerpc\", \"president\", \"president\", \"presidents\", \"press\", \"press\", \"press\", \"press\", \"price:\", \"price:\", \"privacy\", \"privacy\", \"privacy,\", \"private\", \"private\", \"private\", \"private\", \"probably\", \"probably\", \"probably\", \"probably\", \"probe\", \"probert\", \"problem\", \"problem\", \"problem\", \"problem\", \"proceedings,\", \"processor.\", \"program\", \"program\", \"program\", \"prophecy\", \"proposal\", \"proposal\", \"prospects\", \"protect\", \"protect\", \"protect\", \"protect\", \"public\", \"public\", \"public\", \"public\", \"public\", \"publicly\", \"puck\", \"pulse\", \"puzzle\", \"quebec\", \"quite\", \"quite\", \"quite\", \"radar\", \"radar\", \"radar\", \"radius\", \"radius\", \"radius\", \"radius\", \"range,\", \"rating\", \"really\", \"really\", \"really\", \"really\", \"rear\", \"recall\", \"recieved\", \"rectangular\", \"refugees\", \"relay\", \"religion\", \"religions\", \"religious\", \"reported\", \"reported\", \"reported\", \"reporter\", \"republic\", \"republic\", \"republic\", \"republic\", \"requests\", \"requests\", \"requests\", \"research\", \"research\", \"research\", \"resources.\", \"return.\", \"review,\", \"rewritten\", \"right\", \"right\", \"right\", \"right\", \"right\", \"right\", \"right?\", \"rights\", \"rights\", \"rights\", \"ripem\", \"rochester\", \"rochester\", \"romans\", \"romans\", \"rosicrucian\", \"rotor\", \"royals\", \"rs232\", \"running\", \"running\", \"running\", \"running\", \"running,\", \"russian\", \"russian\", \"russian\", \"saddam\", \"said\", \"said\", \"said\", \"said\", \"said,\", \"said,\", \"said,\", \"said,\", \"same...\", \"satellite\", \"satellites\", \"saturn\", \"saves\", \"says,\", \"says,\", \"schism\", \"science\", \"science\", \"science\", \"score\", \"scored\", \"scorer\", \"scorers\", \"screen\", \"screen\", \"scroll\", \"scrolls\", \"scsi\", \"season\", \"season,\", \"season.\", \"second\", \"second\", \"second\", \"second\", \"second\", \"second\", \"second\", \"second\", \"secret\", \"secret\", \"secret\", \"secure\", \"security\", \"security\", \"security\", \"security.\", \"seeds\", \"seizure\", \"seizure\", \"senate\", \"send\", \"send\", \"send\", \"send\", \"send\", \"sentences\", \"serdar\", \"serial\", \"serious.\", \"server\", \"server\", \"shameful\", \"shamir\", \"shape,\", \"sharks\", \"shopping\", \"shots\", \"shots\", \"shots\", \"shuttle\", \"sides.\", \"signature-----\", \"since\", \"since\", \"since\", \"since\", \"since\", \"slmr\", \"slots.\", \"smokeless\", \"software\", \"software\", \"software\", \"solar\", \"someone\", \"someone\", \"someone\", \"someone\", \"something\", \"something\", \"something\", \"something\", \"something\", \"soon.\\\"\", \"sorry\", \"sorry\", \"sort\", \"sort\", \"sort\", \"soundblaster\", \"sounds\", \"source:\", \"source:\", \"source:\", \"south\", \"south\", \"space\", \"space\", \"space\", \"spacecraft\", \"sparc\", \"specs\", \"speed\", \"speed\", \"speed\", \"speed.\", \"speed.\", \"speed.\", \"spend\", \"spend\", \"spirit\", \"springfield\", \"stanley\", \"started\", \"started\", \"started\", \"started\", \"state\", \"state\", \"state\", \"state\", \"state\", \"states\", \"states\", \"states,\", \"stats\", \"stats\", \"steering\", \"stewart\", \"still\", \"still\", \"still\", \"still\", \"still\", \"still\", \"strong\", \"strong\", \"strong\", \"strong\", \"strong\", \"stupid\", \"subjects.\", \"suck\", \"sugar\", \"sugar\", \"sumgait\", \"supernatural\", \"supply\", \"supply\", \"supply\", \"supply\", \"support\", \"support\", \"support\", \"support\", \"support\", \"suppose\", \"sure\", \"sure\", \"sure\", \"sure.\", \"surrender\", \"surrender\", \"suspect.\", \"suter\", \"sweden\", \"sweden\", \"sweden\", \"syndrome\", \"syndrome\", \"system\", \"system\", \"system\", \"system\", \"system\", \"take\", \"take\", \"take\", \"take\", \"take\", \"talking\", \"talking\", \"talking\", \"talking\", \"talking\", \"tall\", \"tanks\", \"tape\", \"tape\", \"taught\", \"team\", \"team\", \"team,\", \"teams\", \"technical\", \"technical\", \"technical\", \"technology\", \"technology\", \"tektronix\", \"telephone\", \"telephone\", \"telephone\", \"telephone\", \"telephone\", \"telephone\", \"telescope\", \"telix\", \"temp\", \"temperature\", \"temporarily\", \"tend\", \"terminals\", \"tesla\", \"thanks\", \"thanks\", \"thanks\", \"thanks\", \"that's\", \"that's\", \"that's\", \"that's\", \"them!\", \"them!\", \"theories\", \"there's\", \"there's\", \"there's\", \"thing\", \"thing\", \"thing\", \"thing\", \"thing,\", \"thing.\", \"thing.\", \"things\", \"things\", \"things\", \"things\", \"things\", \"think\", \"think\", \"think\", \"think\", \"third\", \"third\", \"third\", \"third\", \"third\", \"third\", \"third\", \"third.\", \"though,\", \"though,\", \"thread\", \"three\", \"three\", \"three\", \"three\", \"three\", \"three\", \"three\", \"threw\", \"tiff\", \"tiger\", \"tigers\", \"time\", \"time\", \"time\", \"time\", \"time\", \"time\", \"time\", \"tires\", \"title:\", \"too.\\\"\", \"took\", \"took\", \"took\", \"took\", \"toolkits\", \"toronto\", \"toshiba\", \"tower\", \"toyota\", \"trace\", \"traveling\", \"true\", \"true\", \"true\", \"true\", \"truetype\", \"truth\", \"truth\", \"truth\", \"turkey\", \"turkey,\", \"turkey.\", \"turkish\", \"turks\", \"twin\", \"type:\", \"u.s.\", \"u.s.\", \"u.s.\", \"u.s.a.\", \"u.s.a.\", \"united\", \"united\", \"university\", \"university\", \"university\", \"university\", \"university\", \"university\", \"university\", \"unix\", \"unlikely\", \"unregistered\", \"unregistered\", \"upload\", \"used\", \"used\", \"used\", \"used\", \"used\", \"used\", \"used\", \"users\", \"users\", \"users\", \"using\", \"using\", \"using\", \"using\", \"using\", \"using\", \"utica\", \"uucp:\", \"uudecode\", \"values,\", \"vancouver\", \"vancouver\", \"verbal\", \"verified\", \"vernon\", \"vernon\", \"version\", \"version\", \"version\", \"version\", \"version:\", \"version:\", \"version:\", \"version:\", \"video\", \"video\", \"video\", \"villages\", \"villages\", \"violating\", \"violent\", \"virtual\", \"virtual\", \"virtual\", \"virtual\", \"volt\", \"volt\", \"voltage\", \"volvo\", \"w4wg\", \"wales\", \"wales\", \"want\", \"want\", \"want\", \"want\", \"want,\", \"want,\", \"wanted.\", \"war.\", \"water\", \"water\", \"water\", \"water\", \"weapons\", \"well).\", \"well,\", \"well,\", \"well,\", \"went\", \"went\", \"went\", \"went\", \"white\", \"white\", \"white\", \"white\", \"white\", \"white\", \"white\", \"white\", \"widget\", \"widget,\", \"window\", \"window\", \"windows\", \"windows\", \"winmarks\", \"winnipeg\", \"wins\", \"wire\", \"wire\", \"wireless\", \"wiretap\", \"wiring\", \"wiring.\", \"word\", \"word\", \"word\", \"word\", \"word\", \"work\", \"work\", \"work\", \"work\", \"work\", \"work\", \"work\", \"workspace\", \"world\", \"world\", \"world\", \"world\", \"world\", \"world\", \"world.\\\"\", \"would\", \"would\", \"would\", \"would\", \"would\", \"would\", \"wrong,\", \"x-based\", \"x11r5\", \"xmodmap\", \"yamaha\", \"yankees\", \"yassin\", \"year\", \"year\", \"year\", \"year\", \"year\", \"year\", \"year.\", \"year.\", \"year.\", \"year.\", \"years\", \"years\", \"years\", \"years\", \"years\", \"years\", \"yes,\", \"yes,\", \"yes,\", \"yes,\"]}, \"R\": 30, \"lambda.step\": 0.01, \"plot.opts\": {\"xlab\": \"PC1\", \"ylab\": \"PC2\"}, \"topic.order\": [14, 16, 10, 12, 2, 17, 7, 4, 9, 5, 19, 20, 18, 11, 15, 13, 1, 8, 3, 6]};\n",
       "\n",
       "function LDAvis_load_lib(url, callback){\n",
       "  var s = document.createElement('script');\n",
       "  s.src = url;\n",
       "  s.async = true;\n",
       "  s.onreadystatechange = s.onload = callback;\n",
       "  s.onerror = function(){console.warn(\"failed to load library \" + url);};\n",
       "  document.getElementsByTagName(\"head\")[0].appendChild(s);\n",
       "}\n",
       "\n",
       "if(typeof(LDAvis) !== \"undefined\"){\n",
       "   // already loaded: just create the visualization\n",
       "   !function(LDAvis){\n",
       "       new LDAvis(\"#\" + \"ldavis_el188042502967494464206624508\", ldavis_el188042502967494464206624508_data);\n",
       "   }(LDAvis);\n",
       "}else if(typeof define === \"function\" && define.amd){\n",
       "   // require.js is available: use it to load d3/LDAvis\n",
       "   require.config({paths: {d3: \"https://d3js.org/d3.v5\"}});\n",
       "   require([\"d3\"], function(d3){\n",
       "      window.d3 = d3;\n",
       "      LDAvis_load_lib(\"https://cdn.jsdelivr.net/gh/bmabey/pyLDAvis@3.4.0/pyLDAvis/js/ldavis.v3.0.0.js\", function(){\n",
       "        new LDAvis(\"#\" + \"ldavis_el188042502967494464206624508\", ldavis_el188042502967494464206624508_data);\n",
       "      });\n",
       "    });\n",
       "}else{\n",
       "    // require.js not available: dynamically load d3 & LDAvis\n",
       "    LDAvis_load_lib(\"https://d3js.org/d3.v5.js\", function(){\n",
       "         LDAvis_load_lib(\"https://cdn.jsdelivr.net/gh/bmabey/pyLDAvis@3.4.0/pyLDAvis/js/ldavis.v3.0.0.js\", function(){\n",
       "                 new LDAvis(\"#\" + \"ldavis_el188042502967494464206624508\", ldavis_el188042502967494464206624508_data);\n",
       "            })\n",
       "         });\n",
       "}\n",
       "</script>"
      ],
      "text/plain": [
       "<IPython.core.display.HTML object>"
      ]
     },
     "execution_count": 79,
     "metadata": {},
     "output_type": "execute_result"
    }
   ],
   "source": [
    "\n",
    "import pyLDAvis.gensim_models\n",
    "\n",
    "pyLDAvis.enable_notebook()\n",
    "vis = pyLDAvis.gensim_models.prepare(lda_model, corpus, dictionary)\n",
    "pyLDAvis.display(vis)"
   ]
  },
  {
   "cell_type": "markdown",
   "metadata": {},
   "source": [
    "#### 4) 문서 별 토픽 분포 보기"
   ]
  },
  {
   "cell_type": "code",
   "execution_count": 86,
   "metadata": {},
   "outputs": [
    {
     "name": "stdout",
     "output_type": "stream",
     "text": [
      "0 번째 문서의 topic 비율은 [(6, 0.015467612), (9, 0.33660227), (11, 0.2843388), (13, 0.21866275), (14, 0.062374968), (19, 0.071025945)]\n",
      "1 번째 문서의 topic 비율은 [(9, 0.21830307), (11, 0.12236565), (13, 0.5655474), (15, 0.07420644)]\n",
      "2 번째 문서의 topic 비율은 [(9, 0.26269913), (10, 0.017646022), (11, 0.058571972), (13, 0.56194925), (18, 0.03446153), (19, 0.052785996)]\n",
      "3 번째 문서의 topic 비율은 [(3, 0.21696894), (5, 0.116726324), (6, 0.05509893), (8, 0.015176914), (9, 0.048764464), (13, 0.3845344), (15, 0.14096539), (18, 0.013017756)]\n",
      "4 번째 문서의 topic 비율은 [(13, 0.32925636), (16, 0.63736343)]\n"
     ]
    }
   ],
   "source": [
    "for i, topic_list in enumerate(lda_model[corpus]):\n",
    "    if i == 5:\n",
    "        break\n",
    "    print(i,'번째 문서의 topic 비율은', topic_list)"
   ]
  },
  {
   "cell_type": "markdown",
   "metadata": {},
   "source": [
    "(숫자, 확률) = 각 토픽 번호, 해당 토픽이 문서에서 차지하는 분포도\n",
    "- 0번째 문서에서 (9,0.3366..)은 9번 토픽이 33%의 분포도를 갖는다는 것을 의미"
   ]
  },
  {
   "cell_type": "markdown",
   "metadata": {},
   "source": []
  },
  {
   "cell_type": "code",
   "execution_count": 99,
   "metadata": {},
   "outputs": [],
   "source": [
    "def make_topictable_per_doc(ldamodel, corpus):\n",
    "    topic_table = pd.DataFrame()\n",
    "\n",
    "    # 몇 번째 문서인지를 의미하는 문서 번호와 해당 문서의 토픽 비중을 한 줄씩 꺼내온다.\n",
    "    for i, topic_list in enumerate(ldamodel[corpus]):\n",
    "        doc = topic_list[0] if ldamodel.per_word_topics else topic_list            \n",
    "        doc = sorted(doc, key=lambda x: (x[1]), reverse=True)\n",
    "        # 각 문서에 대해서 비중이 높은 토픽순으로 토픽을 정렬한다.\n",
    "        # EX) 정렬 전 0번 문서 : (2번 토픽, 48.5%), (8번 토픽, 25%), (10번 토픽, 5%), (12번 토픽, 21.5%), \n",
    "        # Ex) 정렬 후 0번 문서 : (2번 토픽, 48.5%), (8번 토픽, 25%), (12번 토픽, 21.5%), (10번 토픽, 5%)\n",
    "        # 48 > 25 > 21 > 5 순으로 정렬이 된 것.\n",
    "\n",
    "        # 모든 문서에 대해서 각각 아래를 수행\n",
    "        for j, (topic_num, prop_topic) in enumerate(doc): #  몇 번 토픽인지와 비중을 나눠서 저장한다.\n",
    "            if j == 0:  # 정렬을 한 상태이므로 가장 앞에 있는 것이 가장 비중이 높은 토픽\n",
    "                topic_table = topic_table.append(pd.Series([int(topic_num), round(prop_topic,4), topic_list]), ignore_index=True)\n",
    "                # 가장 비중이 높은 토픽과, 가장 비중이 높은 토픽의 비중과, 전체 토픽의 비중을 저장한다.\n",
    "            else:\n",
    "                break\n",
    "    return(topic_table)\n"
   ]
  },
  {
   "cell_type": "code",
   "execution_count": 102,
   "metadata": {},
   "outputs": [
    {
     "ename": "ValueError",
     "evalue": "Length mismatch: Expected axis has 5 elements, new values have 4 elements",
     "output_type": "error",
     "traceback": [
      "\u001b[1;31m---------------------------------------------------------------------------\u001b[0m",
      "\u001b[1;31mValueError\u001b[0m                                Traceback (most recent call last)",
      "\u001b[1;32m~\\AppData\\Local\\Temp\\ipykernel_18804\\771123593.py\u001b[0m in \u001b[0;36m<module>\u001b[1;34m\u001b[0m\n\u001b[0;32m      1\u001b[0m \u001b[0mtopictable\u001b[0m \u001b[1;33m=\u001b[0m \u001b[0mmake_topictable_per_doc\u001b[0m\u001b[1;33m(\u001b[0m\u001b[0mlda_model\u001b[0m\u001b[1;33m,\u001b[0m \u001b[0mcorpus\u001b[0m\u001b[1;33m)\u001b[0m\u001b[1;33m\u001b[0m\u001b[1;33m\u001b[0m\u001b[0m\n\u001b[0;32m      2\u001b[0m \u001b[0mtopictable\u001b[0m \u001b[1;33m=\u001b[0m \u001b[0mtopictable\u001b[0m\u001b[1;33m.\u001b[0m\u001b[0mreset_index\u001b[0m\u001b[1;33m(\u001b[0m\u001b[1;33m)\u001b[0m \u001b[1;31m# 문서 번호을 의미하는 열(column)로 사용하기 위해서 인덱스 열을 하나 더 만든다.\u001b[0m\u001b[1;33m\u001b[0m\u001b[1;33m\u001b[0m\u001b[0m\n\u001b[1;32m----> 3\u001b[1;33m \u001b[0mtopictable\u001b[0m\u001b[1;33m.\u001b[0m\u001b[0mcolumns\u001b[0m \u001b[1;33m=\u001b[0m \u001b[1;33m[\u001b[0m\u001b[1;34m'문서 번호'\u001b[0m\u001b[1;33m,\u001b[0m \u001b[1;34m'가장 비중이 높은 토픽'\u001b[0m\u001b[1;33m,\u001b[0m \u001b[1;34m'가장 높은 토픽의 비중'\u001b[0m\u001b[1;33m,\u001b[0m \u001b[1;34m'각 토픽의 비중'\u001b[0m\u001b[1;33m]\u001b[0m\u001b[1;33m\u001b[0m\u001b[1;33m\u001b[0m\u001b[0m\n\u001b[0m\u001b[0;32m      4\u001b[0m \u001b[0mtopictable\u001b[0m\u001b[1;33m[\u001b[0m\u001b[1;33m:\u001b[0m\u001b[1;36m10\u001b[0m\u001b[1;33m]\u001b[0m\u001b[1;33m\u001b[0m\u001b[1;33m\u001b[0m\u001b[0m\n",
      "\u001b[1;32m~\\AppData\\Roaming\\Python\\Python39\\site-packages\\pandas\\core\\generic.py\u001b[0m in \u001b[0;36m__setattr__\u001b[1;34m(self, name, value)\u001b[0m\n\u001b[0;32m   6214\u001b[0m         \u001b[1;32mtry\u001b[0m\u001b[1;33m:\u001b[0m\u001b[1;33m\u001b[0m\u001b[1;33m\u001b[0m\u001b[0m\n\u001b[0;32m   6215\u001b[0m             \u001b[0mobject\u001b[0m\u001b[1;33m.\u001b[0m\u001b[0m__getattribute__\u001b[0m\u001b[1;33m(\u001b[0m\u001b[0mself\u001b[0m\u001b[1;33m,\u001b[0m \u001b[0mname\u001b[0m\u001b[1;33m)\u001b[0m\u001b[1;33m\u001b[0m\u001b[1;33m\u001b[0m\u001b[0m\n\u001b[1;32m-> 6216\u001b[1;33m             \u001b[1;32mreturn\u001b[0m \u001b[0mobject\u001b[0m\u001b[1;33m.\u001b[0m\u001b[0m__setattr__\u001b[0m\u001b[1;33m(\u001b[0m\u001b[0mself\u001b[0m\u001b[1;33m,\u001b[0m \u001b[0mname\u001b[0m\u001b[1;33m,\u001b[0m \u001b[0mvalue\u001b[0m\u001b[1;33m)\u001b[0m\u001b[1;33m\u001b[0m\u001b[1;33m\u001b[0m\u001b[0m\n\u001b[0m\u001b[0;32m   6217\u001b[0m         \u001b[1;32mexcept\u001b[0m \u001b[0mAttributeError\u001b[0m\u001b[1;33m:\u001b[0m\u001b[1;33m\u001b[0m\u001b[1;33m\u001b[0m\u001b[0m\n\u001b[0;32m   6218\u001b[0m             \u001b[1;32mpass\u001b[0m\u001b[1;33m\u001b[0m\u001b[1;33m\u001b[0m\u001b[0m\n",
      "\u001b[1;32mproperties.pyx\u001b[0m in \u001b[0;36mpandas._libs.properties.AxisProperty.__set__\u001b[1;34m()\u001b[0m\n",
      "\u001b[1;32m~\\AppData\\Roaming\\Python\\Python39\\site-packages\\pandas\\core\\generic.py\u001b[0m in \u001b[0;36m_set_axis\u001b[1;34m(self, axis, labels)\u001b[0m\n\u001b[0;32m    765\u001b[0m         \"\"\"\n\u001b[0;32m    766\u001b[0m         \u001b[0mlabels\u001b[0m \u001b[1;33m=\u001b[0m \u001b[0mensure_index\u001b[0m\u001b[1;33m(\u001b[0m\u001b[0mlabels\u001b[0m\u001b[1;33m)\u001b[0m\u001b[1;33m\u001b[0m\u001b[1;33m\u001b[0m\u001b[0m\n\u001b[1;32m--> 767\u001b[1;33m         \u001b[0mself\u001b[0m\u001b[1;33m.\u001b[0m\u001b[0m_mgr\u001b[0m\u001b[1;33m.\u001b[0m\u001b[0mset_axis\u001b[0m\u001b[1;33m(\u001b[0m\u001b[0maxis\u001b[0m\u001b[1;33m,\u001b[0m \u001b[0mlabels\u001b[0m\u001b[1;33m)\u001b[0m\u001b[1;33m\u001b[0m\u001b[1;33m\u001b[0m\u001b[0m\n\u001b[0m\u001b[0;32m    768\u001b[0m         \u001b[0mself\u001b[0m\u001b[1;33m.\u001b[0m\u001b[0m_clear_item_cache\u001b[0m\u001b[1;33m(\u001b[0m\u001b[1;33m)\u001b[0m\u001b[1;33m\u001b[0m\u001b[1;33m\u001b[0m\u001b[0m\n\u001b[0;32m    769\u001b[0m \u001b[1;33m\u001b[0m\u001b[0m\n",
      "\u001b[1;32m~\\AppData\\Roaming\\Python\\Python39\\site-packages\\pandas\\core\\internals\\managers.py\u001b[0m in \u001b[0;36mset_axis\u001b[1;34m(self, axis, new_labels)\u001b[0m\n\u001b[0;32m    225\u001b[0m     \u001b[1;32mdef\u001b[0m \u001b[0mset_axis\u001b[0m\u001b[1;33m(\u001b[0m\u001b[0mself\u001b[0m\u001b[1;33m,\u001b[0m \u001b[0maxis\u001b[0m\u001b[1;33m:\u001b[0m \u001b[0mAxisInt\u001b[0m\u001b[1;33m,\u001b[0m \u001b[0mnew_labels\u001b[0m\u001b[1;33m:\u001b[0m \u001b[0mIndex\u001b[0m\u001b[1;33m)\u001b[0m \u001b[1;33m->\u001b[0m \u001b[1;32mNone\u001b[0m\u001b[1;33m:\u001b[0m\u001b[1;33m\u001b[0m\u001b[1;33m\u001b[0m\u001b[0m\n\u001b[0;32m    226\u001b[0m         \u001b[1;31m# Caller is responsible for ensuring we have an Index object.\u001b[0m\u001b[1;33m\u001b[0m\u001b[1;33m\u001b[0m\u001b[0m\n\u001b[1;32m--> 227\u001b[1;33m         \u001b[0mself\u001b[0m\u001b[1;33m.\u001b[0m\u001b[0m_validate_set_axis\u001b[0m\u001b[1;33m(\u001b[0m\u001b[0maxis\u001b[0m\u001b[1;33m,\u001b[0m \u001b[0mnew_labels\u001b[0m\u001b[1;33m)\u001b[0m\u001b[1;33m\u001b[0m\u001b[1;33m\u001b[0m\u001b[0m\n\u001b[0m\u001b[0;32m    228\u001b[0m         \u001b[0mself\u001b[0m\u001b[1;33m.\u001b[0m\u001b[0maxes\u001b[0m\u001b[1;33m[\u001b[0m\u001b[0maxis\u001b[0m\u001b[1;33m]\u001b[0m \u001b[1;33m=\u001b[0m \u001b[0mnew_labels\u001b[0m\u001b[1;33m\u001b[0m\u001b[1;33m\u001b[0m\u001b[0m\n\u001b[0;32m    229\u001b[0m \u001b[1;33m\u001b[0m\u001b[0m\n",
      "\u001b[1;32m~\\AppData\\Roaming\\Python\\Python39\\site-packages\\pandas\\core\\internals\\base.py\u001b[0m in \u001b[0;36m_validate_set_axis\u001b[1;34m(self, axis, new_labels)\u001b[0m\n\u001b[0;32m     83\u001b[0m \u001b[1;33m\u001b[0m\u001b[0m\n\u001b[0;32m     84\u001b[0m         \u001b[1;32melif\u001b[0m \u001b[0mnew_len\u001b[0m \u001b[1;33m!=\u001b[0m \u001b[0mold_len\u001b[0m\u001b[1;33m:\u001b[0m\u001b[1;33m\u001b[0m\u001b[1;33m\u001b[0m\u001b[0m\n\u001b[1;32m---> 85\u001b[1;33m             raise ValueError(\n\u001b[0m\u001b[0;32m     86\u001b[0m                 \u001b[1;34mf\"Length mismatch: Expected axis has {old_len} elements, new \"\u001b[0m\u001b[1;33m\u001b[0m\u001b[1;33m\u001b[0m\u001b[0m\n\u001b[0;32m     87\u001b[0m                 \u001b[1;34mf\"values have {new_len} elements\"\u001b[0m\u001b[1;33m\u001b[0m\u001b[1;33m\u001b[0m\u001b[0m\n",
      "\u001b[1;31mValueError\u001b[0m: Length mismatch: Expected axis has 5 elements, new values have 4 elements"
     ]
    }
   ],
   "source": [
    "topictable = make_topictable_per_doc(lda_model, corpus)\n",
    "topictable = topictable.reset_index() # 문서 번호을 의미하는 열(column)로 사용하기 위해서 인덱스 열을 하나 더 만든다.\n",
    "topictable.columns = ['문서 번호', '가장 비중이 높은 토픽', '가장 높은 토픽의 비중', '각 토픽의 비중']\n",
    "topictable[:10]\n"
   ]
  },
  {
   "cell_type": "code",
   "execution_count": null,
   "metadata": {},
   "outputs": [],
   "source": []
  },
  {
   "cell_type": "code",
   "execution_count": null,
   "metadata": {},
   "outputs": [],
   "source": []
  },
  {
   "cell_type": "code",
   "execution_count": null,
   "metadata": {},
   "outputs": [],
   "source": []
  },
  {
   "cell_type": "code",
   "execution_count": null,
   "metadata": {},
   "outputs": [],
   "source": []
  }
 ],
 "metadata": {
  "kernelspec": {
   "display_name": "base",
   "language": "python",
   "name": "python3"
  },
  "language_info": {
   "codemirror_mode": {
    "name": "ipython",
    "version": 3
   },
   "file_extension": ".py",
   "mimetype": "text/x-python",
   "name": "python",
   "nbconvert_exporter": "python",
   "pygments_lexer": "ipython3",
   "version": "3.9.13"
  }
 },
 "nbformat": 4,
 "nbformat_minor": 2
}
