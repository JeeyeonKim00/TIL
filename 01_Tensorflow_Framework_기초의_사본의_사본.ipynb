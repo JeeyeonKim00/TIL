{
  "nbformat": 4,
  "nbformat_minor": 0,
  "metadata": {
    "colab": {
      "provenance": [],
      "include_colab_link": true
    },
    "kernelspec": {
      "name": "python3",
      "display_name": "Python 3"
    },
    "language_info": {
      "name": "python"
    },
    "accelerator": "GPU",
    "gpuClass": "standard"
  },
  "cells": [
    {
      "cell_type": "markdown",
      "metadata": {
        "id": "view-in-github",
        "colab_type": "text"
      },
      "source": [
        "<a href=\"https://colab.research.google.com/github/JeeyeonKim00/TIL/blob/master/01_Tensorflow_Framework_%EA%B8%B0%EC%B4%88%EC%9D%98_%EC%82%AC%EB%B3%B8%EC%9D%98_%EC%82%AC%EB%B3%B8.ipynb\" target=\"_parent\"><img src=\"https://colab.research.google.com/assets/colab-badge.svg\" alt=\"Open In Colab\"/></a>"
      ]
    },
    {
      "cell_type": "code",
      "execution_count": null,
      "metadata": {
        "id": "_LrmDrl5-L64"
      },
      "outputs": [],
      "source": [
        "import tensorflow as tf"
      ]
    },
    {
      "cell_type": "markdown",
      "source": [
        "# GPU 사용 여부 체크 및 로그"
      ],
      "metadata": {
        "id": "jMQRIw0w-uoV"
      }
    },
    {
      "cell_type": "code",
      "source": [
        "# 텐서 연산 시 어떤 장치에서 연산이 일어나고 있는지 로깅\n",
        "tf.debugging.set_log_device_placement(True)\n",
        "\n",
        "# 텐서 생성\n",
        "tensor1 = tf.constant([[1, 1],\n",
        "                       [2, 2]])\n",
        "\n",
        "tensor2 = tf.constant([[5, 6],\n",
        "                       [7, 8]])\n",
        "\n",
        "# 내적\n",
        "matmul_result = tf.matmul(tensor1, tensor2)\n",
        "print(matmul_result)"
      ],
      "metadata": {
        "colab": {
          "base_uri": "https://localhost:8080/"
        },
        "id": "JMWZgIva-1xV",
        "outputId": "b90ccaf7-e6f1-4615-843b-d705847975ea"
      },
      "execution_count": null,
      "outputs": [
        {
          "output_type": "stream",
          "name": "stdout",
          "text": [
            "Executing op _EagerConst in device /job:localhost/replica:0/task:0/device:GPU:0\n",
            "Executing op _EagerConst in device /job:localhost/replica:0/task:0/device:GPU:0\n",
            "Executing op MatMul in device /job:localhost/replica:0/task:0/device:CPU:0\n",
            "tf.Tensor(\n",
            "[[12 14]\n",
            " [24 28]], shape=(2, 2), dtype=int32)\n"
          ]
        }
      ]
    },
    {
      "cell_type": "code",
      "source": [
        "# 구체적인 장치 정보 확인하기\n",
        "from tensorflow.python.client import device_lib\n",
        "\n",
        "device_lib.list_local_devices()"
      ],
      "metadata": {
        "colab": {
          "base_uri": "https://localhost:8080/"
        },
        "id": "7yGkM2uz_4Zl",
        "outputId": "11f3ba26-a0a9-4d7d-ee93-fa9d5541b1b8"
      },
      "execution_count": null,
      "outputs": [
        {
          "output_type": "execute_result",
          "data": {
            "text/plain": [
              "[name: \"/device:CPU:0\"\n",
              " device_type: \"CPU\"\n",
              " memory_limit: 268435456\n",
              " locality {\n",
              " }\n",
              " incarnation: 4190725444986304428\n",
              " xla_global_id: -1,\n",
              " name: \"/device:GPU:0\"\n",
              " device_type: \"GPU\"\n",
              " memory_limit: 14343274496\n",
              " locality {\n",
              "   bus_id: 1\n",
              "   links {\n",
              "   }\n",
              " }\n",
              " incarnation: 2272949982875032373\n",
              " physical_device_desc: \"device: 0, name: Tesla T4, pci bus id: 0000:00:04.0, compute capability: 7.5\"\n",
              " xla_global_id: 416903419]"
            ]
          },
          "metadata": {},
          "execution_count": 3
        }
      ]
    },
    {
      "cell_type": "markdown",
      "source": [
        "# 텐서 생성하기\n",
        "- Tensorflow의 텐서(tensor)는 기능적으로 넘파이(numpy)와 매우 유사합니다.\n",
        "- 기본적으로 **다차원 배열**을 처리하기에 적합한 자료구조로 이해할 수 있습니다.\n",
        "- Tensorflow의 텐서는 **\"자동 미분\"**기능을 제공합니다."
      ],
      "metadata": {
        "id": "d3MfygPvMwKS"
      }
    },
    {
      "cell_type": "markdown",
      "source": [
        "## 1) 텐서의 속성\n",
        "- 텐서의 기본 속성은 다음과 같습니다.\n",
        "  - 모양(shape)\n",
        "  - 자료형(data type)\n",
        "  - 저장된 장치"
      ],
      "metadata": {
        "id": "bp9J8k_8M_gi"
      }
    },
    {
      "cell_type": "code",
      "source": [
        "data = [[1, 2],\n",
        "        [3, 4]]\n",
        "\n",
        "tensor = tf.constant(data)\n",
        "\n",
        "print(tensor)\n",
        "print(f\"Shape : {tensor.shape}\")\n",
        "print(f\"Data Type : {tensor.dtype}\")\n",
        "print(f\"Device : {tensor.device}\")\n",
        "print(f\"Rank : {tf.rank(tensor)}\")"
      ],
      "metadata": {
        "colab": {
          "base_uri": "https://localhost:8080/"
        },
        "id": "eVTRJquqNJdD",
        "outputId": "3c0bade0-2af3-449f-a2e7-20666f1b6ed9"
      },
      "execution_count": null,
      "outputs": [
        {
          "output_type": "stream",
          "name": "stdout",
          "text": [
            "Executing op _EagerConst in device /job:localhost/replica:0/task:0/device:GPU:0\n",
            "tf.Tensor(\n",
            "[[1 2]\n",
            " [3 4]], shape=(2, 2), dtype=int32)\n",
            "Shape : (2, 2)\n",
            "Data Type : <dtype: 'int32'>\n",
            "Device : /job:localhost/replica:0/task:0/device:GPU:0\n",
            "Executing op _EagerConst in device /job:localhost/replica:0/task:0/device:GPU:0\n",
            "Rank : 2\n"
          ]
        }
      ]
    },
    {
      "cell_type": "markdown",
      "source": [
        "## 2) 텐서 생성하기\n",
        "- 파이썬의 `list`에서 직접 텐서를 생성할 수 있습니다."
      ],
      "metadata": {
        "id": "bg_ZExtANSSL"
      }
    },
    {
      "cell_type": "code",
      "source": [
        "data = [[1, 2],\n",
        "        [3, 4]]\n",
        "\n",
        "x = tf.constant(data)\n",
        "print(x)"
      ],
      "metadata": {
        "colab": {
          "base_uri": "https://localhost:8080/"
        },
        "id": "jwL2RvsANari",
        "outputId": "3d1df9a4-3a48-4c13-8128-7df6c661740e"
      },
      "execution_count": null,
      "outputs": [
        {
          "output_type": "stream",
          "name": "stdout",
          "text": [
            "Executing op _EagerConst in device /job:localhost/replica:0/task:0/device:GPU:0\n",
            "tf.Tensor(\n",
            "[[1 2]\n",
            " [3 4]], shape=(2, 2), dtype=int32)\n"
          ]
        }
      ]
    },
    {
      "cell_type": "markdown",
      "source": [
        "- numpy 배열에서 텐서를 생성할 수 있습니다."
      ],
      "metadata": {
        "id": "fqh0DDVBNgGC"
      }
    },
    {
      "cell_type": "code",
      "source": [
        "a = tf.constant([5])\n",
        "b = tf.constant([7])\n",
        "\n",
        "c = (a + b).numpy()\n",
        "print(type(c))"
      ],
      "metadata": {
        "colab": {
          "base_uri": "https://localhost:8080/"
        },
        "id": "xNv9cxNwNkGa",
        "outputId": "1280b340-39d7-47d4-c4bf-a6c584bcbdc5"
      },
      "execution_count": null,
      "outputs": [
        {
          "output_type": "stream",
          "name": "stdout",
          "text": [
            "Executing op _EagerConst in device /job:localhost/replica:0/task:0/device:GPU:0\n",
            "Executing op _EagerConst in device /job:localhost/replica:0/task:0/device:GPU:0\n",
            "Executing op AddV2 in device /job:localhost/replica:0/task:0/device:GPU:0\n",
            "<class 'numpy.ndarray'>\n"
          ]
        }
      ]
    },
    {
      "cell_type": "code",
      "source": [
        "result = c * 10\n",
        "tensor = tf.convert_to_tensor(result)\n",
        "print(tensor)\n",
        "print(type(tensor))"
      ],
      "metadata": {
        "colab": {
          "base_uri": "https://localhost:8080/"
        },
        "id": "4zxkmd3QNqvq",
        "outputId": "772741c3-07ab-439c-ae18-007fae8a6063"
      },
      "execution_count": null,
      "outputs": [
        {
          "output_type": "stream",
          "name": "stdout",
          "text": [
            "Executing op _EagerConst in device /job:localhost/replica:0/task:0/device:GPU:0\n",
            "tf.Tensor([120], shape=(1,), dtype=int32)\n",
            "<class 'tensorflow.python.framework.ops.EagerTensor'>\n"
          ]
        }
      ]
    },
    {
      "cell_type": "markdown",
      "source": [
        "## 3) 다른 텐서로부터 텐서 초기화 하기\n",
        "- 다른 텐서의 정보를 토대로 텐서를 초기화 할 수 있습니다.\n",
        "- **텐서의 속성**이란? 모양(shape)과 자료형(data type)을 일컫습니다."
      ],
      "metadata": {
        "id": "Wg6ZFRfNNwHy"
      }
    },
    {
      "cell_type": "code",
      "source": [
        "x = tf.constant([[5, 7],\n",
        "                 [1, 2]])\n",
        "\n",
        "# 텐서 x와 같은 모양을 가지지만, 값이 1인 텐서 생성하기\n",
        "x_ones = tf.ones_like(x)\n",
        "print(x_ones)"
      ],
      "metadata": {
        "colab": {
          "base_uri": "https://localhost:8080/"
        },
        "id": "H7-x_oK3N8eZ",
        "outputId": "e7ae44d8-fa51-4027-d4f5-150fadee4231"
      },
      "execution_count": null,
      "outputs": [
        {
          "output_type": "stream",
          "name": "stdout",
          "text": [
            "Executing op _EagerConst in device /job:localhost/replica:0/task:0/device:GPU:0\n",
            "Executing op Shape in device /job:localhost/replica:0/task:0/device:GPU:0\n",
            "Executing op _EagerConst in device /job:localhost/replica:0/task:0/device:GPU:0\n",
            "Executing op Fill in device /job:localhost/replica:0/task:0/device:GPU:0\n",
            "tf.Tensor(\n",
            "[[1 1]\n",
            " [1 1]], shape=(2, 2), dtype=int32)\n"
          ]
        }
      ]
    },
    {
      "cell_type": "code",
      "source": [
        "# 텐서 x와 같은 모양을 가지지만, 자료형을 float으로, 값은 랜덤하게 채우기\n",
        "x_rand = tf.random.uniform(x.shape, dtype=tf.float32) # uniform distribution [0, 1]\n",
        "print(x_rand)"
      ],
      "metadata": {
        "colab": {
          "base_uri": "https://localhost:8080/"
        },
        "id": "ZLDei5b1OG_i",
        "outputId": "274675a8-dc40-4884-be98-0920ddb773ac"
      },
      "execution_count": null,
      "outputs": [
        {
          "output_type": "stream",
          "name": "stdout",
          "text": [
            "Executing op _EagerConst in device /job:localhost/replica:0/task:0/device:GPU:0\n",
            "Executing op RandomUniform in device /job:localhost/replica:0/task:0/device:GPU:0\n",
            "tf.Tensor(\n",
            "[[0.36917865 0.4480816 ]\n",
            " [0.73997366 0.575462  ]], shape=(2, 2), dtype=float32)\n"
          ]
        }
      ]
    },
    {
      "cell_type": "markdown",
      "source": [
        "# 텐서의 형변환 및 차원 조작\n",
        "- 텐서는 **넘파이 배열**처럼 조작이 가능합니다."
      ],
      "metadata": {
        "id": "w9_vrf1FOQga"
      }
    },
    {
      "cell_type": "markdown",
      "source": [
        "## 1) 텐서의 특정 차원에 접근하기\n",
        "- 텐서의 원하는 차원에 접근할 수 있습니다."
      ],
      "metadata": {
        "id": "fWdGTxYWPoxa"
      }
    },
    {
      "cell_type": "code",
      "source": [
        "tensor = tf.constant([\n",
        "    [1, 2, 3, 4],\n",
        "    [5, 6, 7, 8],\n",
        "    [9, 10, 11, 12]\n",
        "])\n",
        "\n",
        "print(tensor[0])\n",
        "print(tensor[:, 0])\n",
        "print(tensor[..., -1])"
      ],
      "metadata": {
        "colab": {
          "base_uri": "https://localhost:8080/"
        },
        "id": "-HWa7yXqPsx5",
        "outputId": "31f469cc-b111-4a72-a66b-b4691c094ba3"
      },
      "execution_count": null,
      "outputs": [
        {
          "output_type": "stream",
          "name": "stdout",
          "text": [
            "Executing op _EagerConst in device /job:localhost/replica:0/task:0/device:GPU:0\n",
            "Executing op _EagerConst in device /job:localhost/replica:0/task:0/device:GPU:0\n",
            "Executing op _EagerConst in device /job:localhost/replica:0/task:0/device:GPU:0\n",
            "Executing op _EagerConst in device /job:localhost/replica:0/task:0/device:GPU:0\n",
            "Executing op StridedSlice in device /job:localhost/replica:0/task:0/device:GPU:0\n",
            "tf.Tensor([1 2 3 4], shape=(4,), dtype=int32)\n",
            "Executing op _EagerConst in device /job:localhost/replica:0/task:0/device:GPU:0\n",
            "Executing op _EagerConst in device /job:localhost/replica:0/task:0/device:GPU:0\n",
            "Executing op _EagerConst in device /job:localhost/replica:0/task:0/device:GPU:0\n",
            "Executing op StridedSlice in device /job:localhost/replica:0/task:0/device:GPU:0\n",
            "tf.Tensor([1 5 9], shape=(3,), dtype=int32)\n",
            "Executing op _EagerConst in device /job:localhost/replica:0/task:0/device:GPU:0\n",
            "Executing op _EagerConst in device /job:localhost/replica:0/task:0/device:GPU:0\n",
            "Executing op _EagerConst in device /job:localhost/replica:0/task:0/device:GPU:0\n",
            "Executing op StridedSlice in device /job:localhost/replica:0/task:0/device:GPU:0\n",
            "tf.Tensor([ 4  8 12], shape=(3,), dtype=int32)\n"
          ]
        }
      ]
    },
    {
      "cell_type": "markdown",
      "source": [
        "... : spread 연산\n",
        "[0,:,:,3] = [0,...,3]\n",
        "가운데에 껴있는 모든 데이터를 가져오고 싶을 때"
      ],
      "metadata": {
        "id": "j2tJuar9E5h7"
      }
    },
    {
      "cell_type": "markdown",
      "source": [
        "## 2) 텐서 이어붙이기\n",
        "-텐서를 이어서 새로운 텐서를 만들 수 있습니다."
      ],
      "metadata": {
        "id": "qbxZu7H0P38y"
      }
    },
    {
      "cell_type": "markdown",
      "source": [
        "### 2-1) cat\n",
        "단순하게 텐서를 축(dim)에 맞춰 연결합니다."
      ],
      "metadata": {
        "id": "dBQrwPD7l8bv"
      }
    },
    {
      "cell_type": "code",
      "source": [
        "tensor1 = tf.constant([\n",
        "    [1, 2, 3, 4],\n",
        "    [5, 6, 7, 8],\n",
        "    [9, 10, 11, 12]\n",
        "])\n",
        "\n",
        "tensor2 = tf.constant([\n",
        "    [13, 14, 15, 16],\n",
        "    [17, 18, 19, 20],\n",
        "    [21, 22, 23, 24]\n",
        "])\n",
        "\n",
        "# axis : 텐서의 축\n",
        "# 0번 축을 기준으로 이어 붙입니다.\n",
        "result = tf.concat([tensor1, tensor2], axis=0)\n",
        "print(result)\n",
        "\n",
        "print()\n",
        "# 1번 축을 기준으로 이어 붙입니다.\n",
        "result = tf.concat([tensor1, tensor2], axis=1)\n",
        "print(result)"
      ],
      "metadata": {
        "colab": {
          "base_uri": "https://localhost:8080/"
        },
        "id": "PIXqSEKUWK4z",
        "outputId": "9392dc7f-b308-4a60-fc96-6a8ed4230d13"
      },
      "execution_count": null,
      "outputs": [
        {
          "output_type": "stream",
          "name": "stdout",
          "text": [
            "Executing op _EagerConst in device /job:localhost/replica:0/task:0/device:GPU:0\n",
            "Executing op _EagerConst in device /job:localhost/replica:0/task:0/device:GPU:0\n",
            "Executing op _EagerConst in device /job:localhost/replica:0/task:0/device:GPU:0\n",
            "Executing op ConcatV2 in device /job:localhost/replica:0/task:0/device:GPU:0\n",
            "tf.Tensor(\n",
            "[[ 1  2  3  4]\n",
            " [ 5  6  7  8]\n",
            " [ 9 10 11 12]\n",
            " [13 14 15 16]\n",
            " [17 18 19 20]\n",
            " [21 22 23 24]], shape=(6, 4), dtype=int32)\n",
            "\n",
            "Executing op ConcatV2 in device /job:localhost/replica:0/task:0/device:GPU:0\n",
            "tf.Tensor(\n",
            "[[ 1  2  3  4 13 14 15 16]\n",
            " [ 5  6  7  8 17 18 19 20]\n",
            " [ 9 10 11 12 21 22 23 24]], shape=(3, 8), dtype=int32)\n"
          ]
        }
      ]
    },
    {
      "cell_type": "markdown",
      "source": [
        "### 2-2) stack\n",
        "리스트 내의 텐서를 쌓아줍니다. 차원수가 증가합니다. 예를 들어 2차원 배열과 2차원 배열을 쌓은 3차원 배열을 만들어 줍니다."
      ],
      "metadata": {
        "id": "TWs4lp_9mBH9"
      }
    },
    {
      "cell_type": "code",
      "source": [
        "tensor1 = tf.constant([\n",
        "    [1, 2, 3, 4],\n",
        "    [5, 6, 7, 8],\n",
        "    [9, 10, 11, 12]\n",
        "])\n",
        "\n",
        "tensor2 = tf.constant([\n",
        "    [13, 14, 15, 16],\n",
        "    [17, 18, 19, 20],\n",
        "    [21, 22, 23, 24]\n",
        "])\n",
        "\n",
        "tensor3 = tf.stack([tensor1, tensor2])\n",
        "tensor3"
      ],
      "metadata": {
        "colab": {
          "base_uri": "https://localhost:8080/"
        },
        "id": "iSe0ReDKmHK2",
        "outputId": "7fd4471a-822e-4200-d1bc-5622403b3eca"
      },
      "execution_count": null,
      "outputs": [
        {
          "output_type": "stream",
          "name": "stdout",
          "text": [
            "Executing op _EagerConst in device /job:localhost/replica:0/task:0/device:GPU:0\n",
            "Executing op _EagerConst in device /job:localhost/replica:0/task:0/device:GPU:0\n",
            "Executing op Pack in device /job:localhost/replica:0/task:0/device:GPU:0\n"
          ]
        },
        {
          "output_type": "execute_result",
          "data": {
            "text/plain": [
              "<tf.Tensor: shape=(2, 3, 4), dtype=int32, numpy=\n",
              "array([[[ 1,  2,  3,  4],\n",
              "        [ 5,  6,  7,  8],\n",
              "        [ 9, 10, 11, 12]],\n",
              "\n",
              "       [[13, 14, 15, 16],\n",
              "        [17, 18, 19, 20],\n",
              "        [21, 22, 23, 24]]], dtype=int32)>"
            ]
          },
          "metadata": {},
          "execution_count": 13
        }
      ]
    },
    {
      "cell_type": "markdown",
      "source": [
        "## 3) 텐서 자르기(slice)"
      ],
      "metadata": {
        "id": "FDwjwhpTi7E_"
      }
    },
    {
      "cell_type": "code",
      "source": [
        "tensor1 = tf.constant([[1,2,3,4],\n",
        "                        [5,6,7,8]])\n",
        "\n",
        "tensor2 = tensor1[:, 0]\n",
        "print(tensor2)"
      ],
      "metadata": {
        "colab": {
          "base_uri": "https://localhost:8080/"
        },
        "id": "WruuA0-ji-Ml",
        "outputId": "dd8392db-5ec5-48dd-ebf9-730a09645ec0"
      },
      "execution_count": null,
      "outputs": [
        {
          "output_type": "stream",
          "name": "stdout",
          "text": [
            "Executing op _EagerConst in device /job:localhost/replica:0/task:0/device:GPU:0\n",
            "Executing op _EagerConst in device /job:localhost/replica:0/task:0/device:GPU:0\n",
            "Executing op _EagerConst in device /job:localhost/replica:0/task:0/device:GPU:0\n",
            "Executing op _EagerConst in device /job:localhost/replica:0/task:0/device:GPU:0\n",
            "Executing op StridedSlice in device /job:localhost/replica:0/task:0/device:GPU:0\n",
            "tf.Tensor([1 5], shape=(2,), dtype=int32)\n"
          ]
        }
      ]
    },
    {
      "cell_type": "code",
      "source": [
        "tensor3 = tensor1[:, 1:3:2]\n",
        "print(tensor3)"
      ],
      "metadata": {
        "colab": {
          "base_uri": "https://localhost:8080/"
        },
        "id": "qF5r5thEi-P1",
        "outputId": "88c33458-77fb-42cd-a172-6257b5ce4a09"
      },
      "execution_count": null,
      "outputs": [
        {
          "output_type": "stream",
          "name": "stdout",
          "text": [
            "Executing op _EagerConst in device /job:localhost/replica:0/task:0/device:GPU:0\n",
            "Executing op _EagerConst in device /job:localhost/replica:0/task:0/device:GPU:0\n",
            "Executing op _EagerConst in device /job:localhost/replica:0/task:0/device:GPU:0\n",
            "Executing op StridedSlice in device /job:localhost/replica:0/task:0/device:GPU:0\n",
            "tf.Tensor(\n",
            "[[2]\n",
            " [6]], shape=(2, 1), dtype=int32)\n"
          ]
        }
      ]
    },
    {
      "cell_type": "code",
      "source": [
        "tensor3 = tensor1[0, 1:3]\n",
        "print(tensor3)"
      ],
      "metadata": {
        "colab": {
          "base_uri": "https://localhost:8080/"
        },
        "id": "7d2plWG3i-SN",
        "outputId": "a130b448-5520-4a36-8ba5-42e2cdd832c1"
      },
      "execution_count": null,
      "outputs": [
        {
          "output_type": "stream",
          "name": "stdout",
          "text": [
            "Executing op _EagerConst in device /job:localhost/replica:0/task:0/device:GPU:0\n",
            "Executing op _EagerConst in device /job:localhost/replica:0/task:0/device:GPU:0\n",
            "Executing op _EagerConst in device /job:localhost/replica:0/task:0/device:GPU:0\n",
            "Executing op StridedSlice in device /job:localhost/replica:0/task:0/device:GPU:0\n",
            "tf.Tensor([2 3], shape=(2,), dtype=int32)\n"
          ]
        }
      ]
    },
    {
      "cell_type": "code",
      "source": [
        "tensor1 = tf.constant([[[1, 2],\n",
        "                         [3, 4]],\n",
        "\n",
        "                        [[5, 6],\n",
        "                         [7, 8]],\n",
        "\n",
        "                        [[9, 10],\n",
        "                         [11,12]]])\n",
        "\n",
        "print(tensor1[0])\n",
        "print(tensor1[0, :])\n",
        "print(tensor1[0, :, 0])"
      ],
      "metadata": {
        "colab": {
          "base_uri": "https://localhost:8080/"
        },
        "id": "g8xkDzR5i-U2",
        "outputId": "e5cf0853-148a-4822-e872-166cdc7092ac"
      },
      "execution_count": null,
      "outputs": [
        {
          "output_type": "stream",
          "name": "stdout",
          "text": [
            "Executing op _EagerConst in device /job:localhost/replica:0/task:0/device:GPU:0\n",
            "Executing op _EagerConst in device /job:localhost/replica:0/task:0/device:GPU:0\n",
            "Executing op _EagerConst in device /job:localhost/replica:0/task:0/device:GPU:0\n",
            "Executing op _EagerConst in device /job:localhost/replica:0/task:0/device:GPU:0\n",
            "Executing op StridedSlice in device /job:localhost/replica:0/task:0/device:GPU:0\n",
            "tf.Tensor(\n",
            "[[1 2]\n",
            " [3 4]], shape=(2, 2), dtype=int32)\n",
            "Executing op _EagerConst in device /job:localhost/replica:0/task:0/device:GPU:0\n",
            "Executing op _EagerConst in device /job:localhost/replica:0/task:0/device:GPU:0\n",
            "Executing op _EagerConst in device /job:localhost/replica:0/task:0/device:GPU:0\n",
            "Executing op StridedSlice in device /job:localhost/replica:0/task:0/device:GPU:0\n",
            "tf.Tensor(\n",
            "[[1 2]\n",
            " [3 4]], shape=(2, 2), dtype=int32)\n",
            "Executing op _EagerConst in device /job:localhost/replica:0/task:0/device:GPU:0\n",
            "Executing op _EagerConst in device /job:localhost/replica:0/task:0/device:GPU:0\n",
            "Executing op _EagerConst in device /job:localhost/replica:0/task:0/device:GPU:0\n",
            "Executing op StridedSlice in device /job:localhost/replica:0/task:0/device:GPU:0\n",
            "tf.Tensor([1 3], shape=(2,), dtype=int32)\n"
          ]
        }
      ]
    },
    {
      "cell_type": "code",
      "source": [
        "print(tensor1[-1])\n",
        "print(tensor1[-1, :])\n",
        "print(tensor1[-1, :, :])"
      ],
      "metadata": {
        "colab": {
          "base_uri": "https://localhost:8080/"
        },
        "id": "GS5jVIwWi-XG",
        "outputId": "bada9f10-6376-4f0d-e9da-ea900177170a"
      },
      "execution_count": null,
      "outputs": [
        {
          "output_type": "stream",
          "name": "stdout",
          "text": [
            "Executing op _EagerConst in device /job:localhost/replica:0/task:0/device:GPU:0\n",
            "Executing op _EagerConst in device /job:localhost/replica:0/task:0/device:GPU:0\n",
            "Executing op _EagerConst in device /job:localhost/replica:0/task:0/device:GPU:0\n",
            "Executing op StridedSlice in device /job:localhost/replica:0/task:0/device:GPU:0\n",
            "tf.Tensor(\n",
            "[[ 9 10]\n",
            " [11 12]], shape=(2, 2), dtype=int32)\n",
            "Executing op _EagerConst in device /job:localhost/replica:0/task:0/device:GPU:0\n",
            "Executing op _EagerConst in device /job:localhost/replica:0/task:0/device:GPU:0\n",
            "Executing op _EagerConst in device /job:localhost/replica:0/task:0/device:GPU:0\n",
            "Executing op StridedSlice in device /job:localhost/replica:0/task:0/device:GPU:0\n",
            "tf.Tensor(\n",
            "[[ 9 10]\n",
            " [11 12]], shape=(2, 2), dtype=int32)\n",
            "Executing op _EagerConst in device /job:localhost/replica:0/task:0/device:GPU:0\n",
            "Executing op _EagerConst in device /job:localhost/replica:0/task:0/device:GPU:0\n",
            "Executing op _EagerConst in device /job:localhost/replica:0/task:0/device:GPU:0\n",
            "Executing op StridedSlice in device /job:localhost/replica:0/task:0/device:GPU:0\n",
            "tf.Tensor(\n",
            "[[ 9 10]\n",
            " [11 12]], shape=(2, 2), dtype=int32)\n"
          ]
        }
      ]
    },
    {
      "cell_type": "code",
      "source": [
        "print(tensor1[1:3, :, :].shape)\n",
        "print(tensor1[:, 1, :].shape)\n",
        "print(tensor1[:, :-1, :].shape)"
      ],
      "metadata": {
        "colab": {
          "base_uri": "https://localhost:8080/"
        },
        "id": "W8qu9-1Ji-ZW",
        "outputId": "a1c6be12-ed66-4e84-f255-aa89818badc4"
      },
      "execution_count": null,
      "outputs": [
        {
          "output_type": "stream",
          "name": "stdout",
          "text": [
            "Executing op _EagerConst in device /job:localhost/replica:0/task:0/device:GPU:0\n",
            "Executing op _EagerConst in device /job:localhost/replica:0/task:0/device:GPU:0\n",
            "Executing op _EagerConst in device /job:localhost/replica:0/task:0/device:GPU:0\n",
            "Executing op StridedSlice in device /job:localhost/replica:0/task:0/device:GPU:0\n",
            "(2, 2, 2)\n",
            "Executing op _EagerConst in device /job:localhost/replica:0/task:0/device:GPU:0\n",
            "Executing op _EagerConst in device /job:localhost/replica:0/task:0/device:GPU:0\n",
            "Executing op _EagerConst in device /job:localhost/replica:0/task:0/device:GPU:0\n",
            "Executing op StridedSlice in device /job:localhost/replica:0/task:0/device:GPU:0\n",
            "(3, 2)\n",
            "Executing op _EagerConst in device /job:localhost/replica:0/task:0/device:GPU:0\n",
            "Executing op _EagerConst in device /job:localhost/replica:0/task:0/device:GPU:0\n",
            "Executing op _EagerConst in device /job:localhost/replica:0/task:0/device:GPU:0\n",
            "Executing op StridedSlice in device /job:localhost/replica:0/task:0/device:GPU:0\n",
            "(3, 1, 2)\n"
          ]
        }
      ]
    },
    {
      "cell_type": "markdown",
      "source": [
        "### 3-1) split\n",
        "지정한 size만큼 tensor를 쪼개어 줍니다."
      ],
      "metadata": {
        "id": "tCPg76_wkbM2"
      }
    },
    {
      "cell_type": "code",
      "source": [
        "tensor1 = tf.random.uniform((16, 4))\n",
        "\n",
        "splits = tf.split(tensor1, num_or_size_splits=4, axis=0)\n",
        "for s in splits:\n",
        "  print(s.shape)"
      ],
      "metadata": {
        "colab": {
          "base_uri": "https://localhost:8080/"
        },
        "id": "uR8T54eKkgsN",
        "outputId": "893082d2-581f-4579-d4d4-775ae79ad58e"
      },
      "execution_count": null,
      "outputs": [
        {
          "output_type": "stream",
          "name": "stdout",
          "text": [
            "Executing op _EagerConst in device /job:localhost/replica:0/task:0/device:GPU:0\n",
            "Executing op RandomUniform in device /job:localhost/replica:0/task:0/device:GPU:0\n",
            "Executing op Split in device /job:localhost/replica:0/task:0/device:GPU:0\n",
            "(4, 4)\n",
            "(4, 4)\n",
            "(4, 4)\n",
            "(4, 4)\n"
          ]
        }
      ]
    },
    {
      "cell_type": "markdown",
      "source": [
        "### 3-2) gather\n",
        "인덱스를 이용해 해당 위치의 텐서를 참조합니다."
      ],
      "metadata": {
        "id": "x5ohgUBalMLu"
      }
    },
    {
      "cell_type": "code",
      "source": [
        "tensor1 = tf.constant([[[1, 2],\n",
        "                         [3, 4]],\n",
        "\n",
        "                        [[5, 6],\n",
        "                         [7, 8]],\n",
        "\n",
        "                        [[9, 10],\n",
        "                         [11,12]]])\n",
        "\n",
        "indice = tf.constant([2, 0])\n",
        "print(indice)\n",
        "\n",
        "tensor2 = tf.gather(tensor1, indice, axis=0)\n",
        "print(tensor2)"
      ],
      "metadata": {
        "colab": {
          "base_uri": "https://localhost:8080/"
        },
        "id": "AKXjGV36lT5N",
        "outputId": "56481764-ba3c-4199-f94e-d8909f071540"
      },
      "execution_count": null,
      "outputs": [
        {
          "output_type": "stream",
          "name": "stdout",
          "text": [
            "Executing op _EagerConst in device /job:localhost/replica:0/task:0/device:GPU:0\n",
            "Executing op _EagerConst in device /job:localhost/replica:0/task:0/device:GPU:0\n",
            "tf.Tensor([2 0], shape=(2,), dtype=int32)\n",
            "Executing op _EagerConst in device /job:localhost/replica:0/task:0/device:GPU:0\n",
            "Executing op GatherV2 in device /job:localhost/replica:0/task:0/device:GPU:0\n",
            "tf.Tensor(\n",
            "[[[ 9 10]\n",
            "  [11 12]]\n",
            "\n",
            " [[ 1  2]\n",
            "  [ 3  4]]], shape=(2, 2, 2), dtype=int32)\n"
          ]
        }
      ]
    },
    {
      "cell_type": "markdown",
      "source": [
        "## 4) 텐서 형변환(type casting)\n",
        "- 텐서의 자료형을 변환할 수 있습니다."
      ],
      "metadata": {
        "id": "DspSCPCkWhPz"
      }
    },
    {
      "cell_type": "code",
      "source": [
        "tensor1 = tf.constant([2])\n",
        "tensor2 = tf.constant([5.0])\n",
        "\n",
        "print(tensor1.dtype)\n",
        "print(tensor2.dtype)"
      ],
      "metadata": {
        "colab": {
          "base_uri": "https://localhost:8080/"
        },
        "id": "QuCZAIOAWwv7",
        "outputId": "2e532871-74f8-49f4-e9bb-fc726471d7e2"
      },
      "execution_count": null,
      "outputs": [
        {
          "output_type": "stream",
          "name": "stdout",
          "text": [
            "Executing op _EagerConst in device /job:localhost/replica:0/task:0/device:GPU:0\n",
            "Executing op _EagerConst in device /job:localhost/replica:0/task:0/device:GPU:0\n",
            "<dtype: 'int32'>\n",
            "<dtype: 'float32'>\n"
          ]
        }
      ]
    },
    {
      "cell_type": "code",
      "source": [
        "print(tf.cast(tensor1, tf.float32) + tensor2)\n",
        "print((tf.cast(tensor1, tf.float32) + tensor2).dtype)"
      ],
      "metadata": {
        "colab": {
          "base_uri": "https://localhost:8080/"
        },
        "id": "BHQ-2AL_W3ZU",
        "outputId": "2cc2777e-3c24-4dd0-c8c1-ace9fd9ef463"
      },
      "execution_count": null,
      "outputs": [
        {
          "output_type": "stream",
          "name": "stdout",
          "text": [
            "Executing op Cast in device /job:localhost/replica:0/task:0/device:GPU:0\n",
            "Executing op AddV2 in device /job:localhost/replica:0/task:0/device:GPU:0\n",
            "tf.Tensor([7.], shape=(1,), dtype=float32)\n",
            "Executing op Cast in device /job:localhost/replica:0/task:0/device:GPU:0\n",
            "Executing op AddV2 in device /job:localhost/replica:0/task:0/device:GPU:0\n",
            "<dtype: 'float32'>\n"
          ]
        }
      ]
    },
    {
      "cell_type": "code",
      "source": [
        "print((tensor1 + tf.cast(tensor2, tf.int32)))"
      ],
      "metadata": {
        "colab": {
          "base_uri": "https://localhost:8080/"
        },
        "id": "aXTlAeBXW7aT",
        "outputId": "e53b7559-9dd4-47a2-90af-69fc417cdfba"
      },
      "execution_count": null,
      "outputs": [
        {
          "output_type": "stream",
          "name": "stdout",
          "text": [
            "Executing op Cast in device /job:localhost/replica:0/task:0/device:GPU:0\n",
            "Executing op AddV2 in device /job:localhost/replica:0/task:0/device:GPU:0\n",
            "tf.Tensor([7], shape=(1,), dtype=int32)\n"
          ]
        }
      ]
    },
    {
      "cell_type": "markdown",
      "source": [
        "## 5) 텐서의 모양 변경"
      ],
      "metadata": {
        "id": "b_uoDbe7XM37"
      }
    },
    {
      "cell_type": "markdown",
      "source": [
        "### 5-1) reshape\n",
        "- numpy의 reshape과 동일하며, 텐서의 순서가 변경되지 않습니다."
      ],
      "metadata": {
        "id": "3EDzu9lmXwk7"
      }
    },
    {
      "cell_type": "code",
      "source": [
        "tensor1 = tf.constant([1, 2, 3, 4, 5, 6, 7, 8])\n",
        "\n",
        "tensor2 = tf.reshape(tensor1, (4, 2))\n",
        "print(tensor2)"
      ],
      "metadata": {
        "id": "6CmLu4SKaokU",
        "colab": {
          "base_uri": "https://localhost:8080/"
        },
        "outputId": "7040d3b2-8037-49c4-f926-c5af1ffcffcf"
      },
      "execution_count": null,
      "outputs": [
        {
          "output_type": "stream",
          "name": "stdout",
          "text": [
            "Executing op _EagerConst in device /job:localhost/replica:0/task:0/device:GPU:0\n",
            "Executing op _EagerConst in device /job:localhost/replica:0/task:0/device:GPU:0\n",
            "Executing op Reshape in device /job:localhost/replica:0/task:0/device:GPU:0\n",
            "tf.Tensor(\n",
            "[[1 2]\n",
            " [3 4]\n",
            " [5 6]\n",
            " [7 8]], shape=(4, 2), dtype=int32)\n"
          ]
        }
      ]
    },
    {
      "cell_type": "code",
      "source": [
        "tensor2 = tensor1.reshape(4, 2)\n",
        "\n",
        "print(f\"tensor2 : {tensor2}\")"
      ],
      "metadata": {
        "colab": {
          "base_uri": "https://localhost:8080/",
          "height": 426
        },
        "id": "duKBFwYIZTRc",
        "outputId": "681d5789-f323-4ec7-ae0b-fd1aa95cdab0"
      },
      "execution_count": null,
      "outputs": [
        {
          "output_type": "error",
          "ename": "AttributeError",
          "evalue": "ignored",
          "traceback": [
            "\u001b[0;31m---------------------------------------------------------------------------\u001b[0m",
            "\u001b[0;31mAttributeError\u001b[0m                            Traceback (most recent call last)",
            "\u001b[0;32m<ipython-input-26-a1079548e22b>\u001b[0m in \u001b[0;36m<cell line: 1>\u001b[0;34m()\u001b[0m\n\u001b[0;32m----> 1\u001b[0;31m \u001b[0mtensor2\u001b[0m \u001b[0;34m=\u001b[0m \u001b[0mtensor1\u001b[0m\u001b[0;34m.\u001b[0m\u001b[0mreshape\u001b[0m\u001b[0;34m(\u001b[0m\u001b[0;36m4\u001b[0m\u001b[0;34m,\u001b[0m \u001b[0;36m2\u001b[0m\u001b[0;34m)\u001b[0m\u001b[0;34m\u001b[0m\u001b[0;34m\u001b[0m\u001b[0m\n\u001b[0m\u001b[1;32m      2\u001b[0m \u001b[0;34m\u001b[0m\u001b[0m\n\u001b[1;32m      3\u001b[0m \u001b[0mprint\u001b[0m\u001b[0;34m(\u001b[0m\u001b[0;34mf\"tensor2 : {tensor2}\"\u001b[0m\u001b[0;34m)\u001b[0m\u001b[0;34m\u001b[0m\u001b[0;34m\u001b[0m\u001b[0m\n",
            "\u001b[0;32m/usr/local/lib/python3.9/dist-packages/tensorflow/python/framework/ops.py\u001b[0m in \u001b[0;36m__getattr__\u001b[0;34m(self, name)\u001b[0m\n\u001b[1;32m    435\u001b[0m                 \"tolist\", \"data\"}:\n\u001b[1;32m    436\u001b[0m       \u001b[0;31m# TODO(wangpeng): Export the enable_numpy_behavior knob\u001b[0m\u001b[0;34m\u001b[0m\u001b[0;34m\u001b[0m\u001b[0m\n\u001b[0;32m--> 437\u001b[0;31m       raise AttributeError(\n\u001b[0m\u001b[1;32m    438\u001b[0m           f\"{type(self).__name__} object has no attribute '{name}'. \" + \"\"\"\n\u001b[1;32m    439\u001b[0m         \u001b[0mIf\u001b[0m \u001b[0myou\u001b[0m \u001b[0mare\u001b[0m \u001b[0mlooking\u001b[0m \u001b[0;32mfor\u001b[0m \u001b[0mnumpy\u001b[0m\u001b[0;34m-\u001b[0m\u001b[0mrelated\u001b[0m \u001b[0mmethods\u001b[0m\u001b[0;34m,\u001b[0m \u001b[0mplease\u001b[0m \u001b[0mrun\u001b[0m \u001b[0mthe\u001b[0m \u001b[0mfollowing\u001b[0m\u001b[0;34m:\u001b[0m\u001b[0;34m\u001b[0m\u001b[0;34m\u001b[0m\u001b[0m\n",
            "\u001b[0;31mAttributeError\u001b[0m: EagerTensor object has no attribute 'reshape'. \n        If you are looking for numpy-related methods, please run the following:\n        from tensorflow.python.ops.numpy_ops import np_config\n        np_config.enable_numpy_behavior()\n      "
          ]
        }
      ]
    },
    {
      "cell_type": "markdown",
      "source": [
        "### 5-2) transpose\n",
        "하나의 텐서에서 특정한 차원끼리 순서를 교체할 수 있습니다."
      ],
      "metadata": {
        "id": "ECE1-aL_2r4u"
      }
    },
    {
      "cell_type": "code",
      "source": [
        "tensor1 = tf.random.uniform((3, 2, 5))\n",
        "print(tensor1.shape)\n",
        "\n",
        "tensor2 = tf.transpose(tensor1, perm=[2, 1, 0])\n",
        "print(tensor2.shape)"
      ],
      "metadata": {
        "id": "1egAL6ig20b-",
        "colab": {
          "base_uri": "https://localhost:8080/"
        },
        "outputId": "e1d37a61-a95a-4569-9d9e-26826ff47124"
      },
      "execution_count": null,
      "outputs": [
        {
          "output_type": "stream",
          "name": "stdout",
          "text": [
            "Executing op _EagerConst in device /job:localhost/replica:0/task:0/device:GPU:0\n",
            "Executing op RandomUniform in device /job:localhost/replica:0/task:0/device:GPU:0\n",
            "(3, 2, 5)\n",
            "Executing op _EagerConst in device /job:localhost/replica:0/task:0/device:GPU:0\n",
            "Executing op Transpose in device /job:localhost/replica:0/task:0/device:GPU:0\n",
            "(5, 2, 3)\n"
          ]
        }
      ]
    },
    {
      "cell_type": "markdown",
      "source": [
        "# 텐서의 연산"
      ],
      "metadata": {
        "id": "JKEaWkjhZe8M"
      }
    },
    {
      "cell_type": "code",
      "source": [
        "a = tf.constant([[1, 2],\n",
        "                  [3, 4]])\n",
        "\n",
        "b = tf.constant([[2, 2],\n",
        "                  [3, 3]])"
      ],
      "metadata": {
        "id": "z_-Wfoq9oIzn",
        "colab": {
          "base_uri": "https://localhost:8080/"
        },
        "outputId": "dabd6b29-53c5-4201-9872-cf5f1b903632"
      },
      "execution_count": null,
      "outputs": [
        {
          "output_type": "stream",
          "name": "stdout",
          "text": [
            "Executing op _EagerConst in device /job:localhost/replica:0/task:0/device:GPU:0\n",
            "Executing op _EagerConst in device /job:localhost/replica:0/task:0/device:GPU:0\n"
          ]
        }
      ]
    },
    {
      "cell_type": "code",
      "source": [
        "print(a + b)"
      ],
      "metadata": {
        "id": "Nc0AZ1pvoQoU",
        "colab": {
          "base_uri": "https://localhost:8080/"
        },
        "outputId": "08b5d324-3f87-4224-91ff-2eb65a6cd6b4"
      },
      "execution_count": null,
      "outputs": [
        {
          "output_type": "stream",
          "name": "stdout",
          "text": [
            "Executing op AddV2 in device /job:localhost/replica:0/task:0/device:GPU:0\n",
            "tf.Tensor(\n",
            "[[3 4]\n",
            " [6 7]], shape=(2, 2), dtype=int32)\n"
          ]
        }
      ]
    },
    {
      "cell_type": "code",
      "source": [
        "print(a - b)"
      ],
      "metadata": {
        "id": "-vkzqCAMoRZl",
        "colab": {
          "base_uri": "https://localhost:8080/"
        },
        "outputId": "05822ff9-f801-4f60-a1a3-b8c31e4fd840"
      },
      "execution_count": null,
      "outputs": [
        {
          "output_type": "stream",
          "name": "stdout",
          "text": [
            "Executing op Sub in device /job:localhost/replica:0/task:0/device:GPU:0\n",
            "tf.Tensor(\n",
            "[[-1  0]\n",
            " [ 0  1]], shape=(2, 2), dtype=int32)\n"
          ]
        }
      ]
    },
    {
      "cell_type": "code",
      "source": [
        "print(a * b)"
      ],
      "metadata": {
        "id": "Cs4NoN9yoSA2",
        "colab": {
          "base_uri": "https://localhost:8080/"
        },
        "outputId": "ac75a8fc-9cd8-4f03-b018-a1407f97aaa2"
      },
      "execution_count": null,
      "outputs": [
        {
          "output_type": "stream",
          "name": "stdout",
          "text": [
            "Executing op Mul in device /job:localhost/replica:0/task:0/device:GPU:0\n",
            "tf.Tensor(\n",
            "[[ 2  4]\n",
            " [ 9 12]], shape=(2, 2), dtype=int32)\n"
          ]
        }
      ]
    },
    {
      "cell_type": "code",
      "source": [
        "print(a / b)"
      ],
      "metadata": {
        "id": "n2oK9juXoSoN",
        "colab": {
          "base_uri": "https://localhost:8080/"
        },
        "outputId": "e3b124eb-ec37-4c7a-a479-fe0912d68947"
      },
      "execution_count": null,
      "outputs": [
        {
          "output_type": "stream",
          "name": "stdout",
          "text": [
            "Executing op Cast in device /job:localhost/replica:0/task:0/device:GPU:0\n",
            "Executing op Cast in device /job:localhost/replica:0/task:0/device:GPU:0\n",
            "Executing op RealDiv in device /job:localhost/replica:0/task:0/device:GPU:0\n",
            "tf.Tensor(\n",
            "[[0.5        1.        ]\n",
            " [1.         1.33333333]], shape=(2, 2), dtype=float64)\n"
          ]
        }
      ]
    },
    {
      "cell_type": "code",
      "source": [
        "print( a == b )"
      ],
      "metadata": {
        "id": "Z0xfsVfioTLd",
        "colab": {
          "base_uri": "https://localhost:8080/"
        },
        "outputId": "ef977ba4-e172-4034-8e49-b7c60541c405"
      },
      "execution_count": null,
      "outputs": [
        {
          "output_type": "stream",
          "name": "stdout",
          "text": [
            "Executing op Equal in device /job:localhost/replica:0/task:0/device:GPU:0\n",
            "tf.Tensor(\n",
            "[[False  True]\n",
            " [ True False]], shape=(2, 2), dtype=bool)\n"
          ]
        }
      ]
    },
    {
      "cell_type": "code",
      "source": [
        "print( a != b )"
      ],
      "metadata": {
        "id": "hA0Lxu12oT1l",
        "colab": {
          "base_uri": "https://localhost:8080/"
        },
        "outputId": "6b0f3f05-53ab-412f-c831-b6d3d49098dc"
      },
      "execution_count": null,
      "outputs": [
        {
          "output_type": "stream",
          "name": "stdout",
          "text": [
            "Executing op NotEqual in device /job:localhost/replica:0/task:0/device:GPU:0\n",
            "tf.Tensor(\n",
            "[[ True False]\n",
            " [False  True]], shape=(2, 2), dtype=bool)\n"
          ]
        }
      ]
    },
    {
      "cell_type": "code",
      "source": [
        "print( a ** b )"
      ],
      "metadata": {
        "id": "ZwWmXH5noZkF",
        "colab": {
          "base_uri": "https://localhost:8080/"
        },
        "outputId": "88c00147-16a6-4e5b-c626-84f79410d2af"
      },
      "execution_count": null,
      "outputs": [
        {
          "output_type": "stream",
          "name": "stdout",
          "text": [
            "Executing op Pow in device /job:localhost/replica:0/task:0/device:CPU:0\n",
            "tf.Tensor(\n",
            "[[ 1  4]\n",
            " [27 64]], shape=(2, 2), dtype=int32)\n"
          ]
        }
      ]
    },
    {
      "cell_type": "markdown",
      "source": [
        "## Inplace 연산 (넘어가겠음.거의 쓸일없음)\n",
        "Inplace 연산은 텐서의 실제 값을 바꿔주는 연산을 의미합니다. 이 때 텐서의 값 자체가 바뀌어야 한다면 tf.Variable을 이용할 수 있습니다."
      ],
      "metadata": {
        "id": "sRbt1hDSoarV"
      }
    },
    {
      "cell_type": "code",
      "source": [
        "a = tf.Variable([[1, 2],\n",
        "                  [3, 4]])\n",
        "\n",
        "b = tf.constant([[2, 2],\n",
        "                  [3, 3]])\n",
        "\n",
        "print(a)\n",
        "print(a.assign_add(b)) # 텐서 a의 값 자체가 바뀌는 inplace 연산\n",
        "print(a)"
      ],
      "metadata": {
        "id": "T-z2DgySol4t"
      },
      "execution_count": null,
      "outputs": []
    },
    {
      "cell_type": "code",
      "source": [
        "a = tf.constant([[1, 2],\n",
        "                  [3, 4]])\n",
        "\n",
        "b = tf.constant([[2, 2],\n",
        "                  [3, 3]])\n",
        "\n",
        "print(a + b)\n",
        "print(a)"
      ],
      "metadata": {
        "id": "tEvwgceBooXt"
      },
      "execution_count": null,
      "outputs": []
    },
    {
      "cell_type": "markdown",
      "source": [
        "## 차원 감소 연산 (집계와 연관)\n",
        "- 주로 합계나 평균 등 차원 축에 따라 연산이 된 후 감소가 되는 연산을 의미합니다.\n",
        "- 집계: 여러개의 값을 하나의 값으로 표현\n",
        "- 평균"
      ],
      "metadata": {
        "id": "iyCEYT8uorr1"
      }
    },
    {
      "cell_type": "code",
      "source": [
        "a = tf.constant([[1, 2],\n",
        "                 [3, 4]], dtype=tf.float32)\n",
        "\n",
        "# 차원을 따로 지정하지 않으면 텐서 내 모든 데이터에 대한 연산이 이뤄진 후 스칼라 값으로 표현\n",
        "print(tf.math.reduce_sum(a))\n",
        "print(tf.math.reduce_mean(a))"
      ],
      "metadata": {
        "id": "IIaaKfhZo4DW",
        "colab": {
          "base_uri": "https://localhost:8080/"
        },
        "outputId": "b1d661fc-9567-4f41-d049-e494e469c485"
      },
      "execution_count": null,
      "outputs": [
        {
          "output_type": "stream",
          "name": "stdout",
          "text": [
            "Executing op _EagerConst in device /job:localhost/replica:0/task:0/device:GPU:0\n",
            "Executing op _EagerConst in device /job:localhost/replica:0/task:0/device:GPU:0\n",
            "Executing op Sum in device /job:localhost/replica:0/task:0/device:GPU:0\n",
            "tf.Tensor(10.0, shape=(), dtype=float32)\n",
            "Executing op _EagerConst in device /job:localhost/replica:0/task:0/device:GPU:0\n",
            "Executing op Mean in device /job:localhost/replica:0/task:0/device:GPU:0\n",
            "tf.Tensor(2.5, shape=(), dtype=float32)\n"
          ]
        }
      ]
    },
    {
      "cell_type": "code",
      "source": [
        "# 차원을 따로 지정하면, 지정한 차원에 맞게 연산\n",
        "print(tf.math.reduce_sum(a,axis=0))\n",
        "print(tf.math.reduce_sum(a,axis=1))\n",
        "\n",
        "print()\n",
        "\n",
        "print(tf.math.reduce_mean(a,axis=0))\n",
        "print(tf.math.reduce_mean(a,axis=1))"
      ],
      "metadata": {
        "id": "ZT1pTG_ZpGcN",
        "colab": {
          "base_uri": "https://localhost:8080/"
        },
        "outputId": "341618d9-cadf-42ee-bea6-d3e307d426b6"
      },
      "execution_count": null,
      "outputs": [
        {
          "output_type": "stream",
          "name": "stdout",
          "text": [
            "Executing op Sum in device /job:localhost/replica:0/task:0/device:GPU:0\n",
            "tf.Tensor([4. 6.], shape=(2,), dtype=float32)\n",
            "Executing op Sum in device /job:localhost/replica:0/task:0/device:GPU:0\n",
            "tf.Tensor([3. 7.], shape=(2,), dtype=float32)\n",
            "\n",
            "Executing op Mean in device /job:localhost/replica:0/task:0/device:GPU:0\n",
            "tf.Tensor([2. 3.], shape=(2,), dtype=float32)\n",
            "Executing op Mean in device /job:localhost/replica:0/task:0/device:GPU:0\n",
            "tf.Tensor([1.5 3.5], shape=(2,), dtype=float32)\n"
          ]
        }
      ]
    },
    {
      "cell_type": "markdown",
      "source": [
        "## 브로드캐스팅\n",
        "차원 수가 맞지 않아도 자동으로 텐서를 높은 차원으로 확장해 연산이 가능토록 합니다."
      ],
      "metadata": {
        "id": "FFrZWmsCpYIG"
      }
    },
    {
      "cell_type": "code",
      "source": [
        "a = tf.constant([[1, 2]])\n",
        "b = tf.constant([[3, 4]])\n",
        "\n",
        "print(a.shape, b.shape)"
      ],
      "metadata": {
        "id": "t7Avi3LFpn2e",
        "colab": {
          "base_uri": "https://localhost:8080/"
        },
        "outputId": "8e44fa54-865c-4db0-8a54-274f837c91db"
      },
      "execution_count": null,
      "outputs": [
        {
          "output_type": "stream",
          "name": "stdout",
          "text": [
            "Executing op _EagerConst in device /job:localhost/replica:0/task:0/device:GPU:0\n",
            "Executing op _EagerConst in device /job:localhost/replica:0/task:0/device:GPU:0\n",
            "(1, 2) (1, 2)\n"
          ]
        }
      ]
    },
    {
      "cell_type": "code",
      "source": [
        "print(a + b)"
      ],
      "metadata": {
        "id": "qGb67gvIpuxG",
        "colab": {
          "base_uri": "https://localhost:8080/"
        },
        "outputId": "b4ab330d-0045-443e-8ff5-d4953cb3c25a"
      },
      "execution_count": null,
      "outputs": [
        {
          "output_type": "stream",
          "name": "stdout",
          "text": [
            "Executing op AddV2 in device /job:localhost/replica:0/task:0/device:GPU:0\n",
            "tf.Tensor([[4 6]], shape=(1, 2), dtype=int32)\n"
          ]
        }
      ]
    },
    {
      "cell_type": "markdown",
      "source": [
        "### tensor, scalar 연산"
      ],
      "metadata": {
        "id": "juicbF1UpzRe"
      }
    },
    {
      "cell_type": "code",
      "source": [
        "a = tf.constant([[1, 2],\n",
        "                  [3, 4]])\n",
        "\n",
        "print(a + 10)"
      ],
      "metadata": {
        "id": "iaW0kw4fp3Mw",
        "colab": {
          "base_uri": "https://localhost:8080/"
        },
        "outputId": "111e1b90-e671-42d9-ba15-a599ff01cd87"
      },
      "execution_count": null,
      "outputs": [
        {
          "output_type": "stream",
          "name": "stdout",
          "text": [
            "Executing op _EagerConst in device /job:localhost/replica:0/task:0/device:GPU:0\n",
            "Executing op _EagerConst in device /job:localhost/replica:0/task:0/device:GPU:0\n",
            "Executing op AddV2 in device /job:localhost/replica:0/task:0/device:GPU:0\n",
            "tf.Tensor(\n",
            "[[11 12]\n",
            " [13 14]], shape=(2, 2), dtype=int32)\n"
          ]
        }
      ]
    },
    {
      "cell_type": "markdown",
      "source": [
        "### tensor, vector 연산"
      ],
      "metadata": {
        "id": "F4Ba5i9-p5ku"
      }
    },
    {
      "cell_type": "code",
      "source": [
        "a = tf.constant([[1, 2],\n",
        "                  [3, 4]])\n",
        "\n",
        "b = tf.constant([10, 20])\n",
        "\n",
        "print(b.shape)\n",
        "print(a + b)"
      ],
      "metadata": {
        "id": "9BeS0UyQqDII",
        "colab": {
          "base_uri": "https://localhost:8080/"
        },
        "outputId": "ac41586c-0f2e-48a8-8996-48613bd60ed0"
      },
      "execution_count": null,
      "outputs": [
        {
          "output_type": "stream",
          "name": "stdout",
          "text": [
            "Executing op _EagerConst in device /job:localhost/replica:0/task:0/device:GPU:0\n",
            "Executing op _EagerConst in device /job:localhost/replica:0/task:0/device:GPU:0\n",
            "(2,)\n",
            "Executing op AddV2 in device /job:localhost/replica:0/task:0/device:GPU:0\n",
            "tf.Tensor(\n",
            "[[11 22]\n",
            " [13 24]], shape=(2, 2), dtype=int32)\n"
          ]
        }
      ]
    },
    {
      "cell_type": "code",
      "source": [
        "a = tf.constant([[1, 2],\n",
        "                  [3, 4]])\n",
        "\n",
        "b = tf.constant([[10, 20]])\n",
        "print(b.shape)\n",
        "print(a + b)"
      ],
      "metadata": {
        "id": "YtZqLgCRqHYG",
        "colab": {
          "base_uri": "https://localhost:8080/"
        },
        "outputId": "f22dbfa5-b938-4029-be03-b9a1c7f1ae6a"
      },
      "execution_count": null,
      "outputs": [
        {
          "output_type": "stream",
          "name": "stdout",
          "text": [
            "Executing op _EagerConst in device /job:localhost/replica:0/task:0/device:GPU:0\n",
            "Executing op _EagerConst in device /job:localhost/replica:0/task:0/device:GPU:0\n",
            "(1, 2)\n",
            "Executing op AddV2 in device /job:localhost/replica:0/task:0/device:GPU:0\n",
            "tf.Tensor(\n",
            "[[11 22]\n",
            " [13 24]], shape=(2, 2), dtype=int32)\n"
          ]
        }
      ]
    },
    {
      "cell_type": "code",
      "source": [
        "a = tf.constant([[1, 2],\n",
        "                  [3, 4]])\n",
        "\n",
        "b = tf.constant([[10],\n",
        "                  [20]])\n",
        "print(b.shape)\n",
        "print(a + b)"
      ],
      "metadata": {
        "id": "UaB_2e4EqOFm",
        "colab": {
          "base_uri": "https://localhost:8080/"
        },
        "outputId": "e450730a-14df-4d24-dc6c-d7d0cefabc1f"
      },
      "execution_count": null,
      "outputs": [
        {
          "output_type": "stream",
          "name": "stdout",
          "text": [
            "Executing op _EagerConst in device /job:localhost/replica:0/task:0/device:GPU:0\n",
            "Executing op _EagerConst in device /job:localhost/replica:0/task:0/device:GPU:0\n",
            "(2, 1)\n",
            "Executing op AddV2 in device /job:localhost/replica:0/task:0/device:GPU:0\n",
            "tf.Tensor(\n",
            "[[11 12]\n",
            " [23 24]], shape=(2, 2), dtype=int32)\n"
          ]
        }
      ]
    },
    {
      "cell_type": "markdown",
      "source": [
        "### tensor, tensor 연산"
      ],
      "metadata": {
        "id": "zhl6gzSaqSaG"
      }
    },
    {
      "cell_type": "code",
      "source": [
        "a = tf.constant([[1, 2]])\n",
        "\n",
        "b = tf.constant([[10],\n",
        "                  [20]])\n",
        "\n",
        "print(a.shape, b.shape)\n",
        "print(a + b)"
      ],
      "metadata": {
        "id": "pZ5TlISjqirQ"
      },
      "execution_count": null,
      "outputs": []
    },
    {
      "cell_type": "code",
      "source": [
        "a = tf.constant([[[1, 2],\n",
        "                   [3, 4]],\n",
        "\n",
        "                   [[5, 6],\n",
        "                    [7, 8]],\n",
        "\n",
        "                   [[9, 10],\n",
        "                    [11,12]]])\n",
        "\n",
        "b = tf.constant([100, 200])\n",
        "\n",
        "print(a+b)"
      ],
      "metadata": {
        "id": "8SyJmKFPqpgm"
      },
      "execution_count": null,
      "outputs": []
    },
    {
      "cell_type": "code",
      "source": [
        "a = tf.constant([[[1, 2],\n",
        "                   [3, 4]],\n",
        "\n",
        "                   [[5, 6],\n",
        "                    [7, 8]],\n",
        "\n",
        "                   [[9, 10],\n",
        "                    [11,12]]])\n",
        "\n",
        "b = tf.constant([[100, 200],\n",
        "                  [300, 400]])\n",
        "\n",
        "print(a+b)"
      ],
      "metadata": {
        "id": "ixnqf9Lqq8He"
      },
      "execution_count": null,
      "outputs": []
    },
    {
      "cell_type": "code",
      "source": [
        "a = tf.constant([[[1, 2],\n",
        "                   [3, 4]],\n",
        "\n",
        "                   [[5, 6],\n",
        "                    [7, 8]],\n",
        "\n",
        "                   [[9, 10],\n",
        "                    [11,12]]])\n",
        "\n",
        "b = tf.constant([[100],\n",
        "                  [300]])\n",
        "\n",
        "print(a+b)"
      ],
      "metadata": {
        "id": "JGqxMMsQq-xe"
      },
      "execution_count": null,
      "outputs": []
    },
    {
      "cell_type": "markdown",
      "source": [
        "# 텐서플로우의 여러 함수들"
      ],
      "metadata": {
        "id": "yeahm4PHrL1V"
      }
    },
    {
      "cell_type": "markdown",
      "source": [
        "## expand_dims\n",
        "설정한 축의 차원 수를 1 늘려줍니다."
      ],
      "metadata": {
        "id": "dtG63ItWNcT8"
      }
    },
    {
      "cell_type": "code",
      "source": [
        "x = tf.constant([[[1, 2]],\n",
        "                  [[3, 4]]])\n",
        "\n",
        "print(x.shape) # x.shape과 같다."
      ],
      "metadata": {
        "id": "TQ3fo8drtYrg",
        "colab": {
          "base_uri": "https://localhost:8080/"
        },
        "outputId": "95680fd8-3421-4a11-ceb3-3dc2706d9e8c"
      },
      "execution_count": null,
      "outputs": [
        {
          "output_type": "stream",
          "name": "stdout",
          "text": [
            "Executing op _EagerConst in device /job:localhost/replica:0/task:0/device:GPU:0\n",
            "(2, 1, 2)\n"
          ]
        }
      ]
    },
    {
      "cell_type": "code",
      "source": [
        "y = tf.expand_dims(x, 0)\n",
        "print(y)\n",
        "print(y.shape)"
      ],
      "metadata": {
        "colab": {
          "base_uri": "https://localhost:8080/"
        },
        "id": "4aWWInTYNWoz",
        "outputId": "e68708f0-1b8c-4e1d-8472-1ab0fa9fdf09"
      },
      "execution_count": null,
      "outputs": [
        {
          "output_type": "stream",
          "name": "stdout",
          "text": [
            "Executing op ExpandDims in device /job:localhost/replica:0/task:0/device:GPU:0\n",
            "tf.Tensor(\n",
            "[[[[1 2]]\n",
            "\n",
            "  [[3 4]]]], shape=(1, 2, 1, 2), dtype=int32)\n",
            "(1, 2, 1, 2)\n"
          ]
        }
      ]
    },
    {
      "cell_type": "markdown",
      "source": [
        "## argmax\n",
        "설정한 차원에서 가장 큰 값이 들어있는 인덱스를 반환합니다."
      ],
      "metadata": {
        "id": "rkejm3fWOQ9D"
      }
    },
    {
      "cell_type": "code",
      "source": [
        "x = tf.constant([[1,5,9,2],\n",
        "                 [3,4,6,7]])\n",
        "\n",
        "print(x)\n",
        "print(x.shape)"
      ],
      "metadata": {
        "colab": {
          "base_uri": "https://localhost:8080/"
        },
        "id": "h9CQ3ekZOdKS",
        "outputId": "710afbb6-cce7-412a-8a4d-a44e0de267b9"
      },
      "execution_count": null,
      "outputs": [
        {
          "output_type": "stream",
          "name": "stdout",
          "text": [
            "Executing op _EagerConst in device /job:localhost/replica:0/task:0/device:GPU:0\n",
            "tf.Tensor(\n",
            "[[1 5 9 2]\n",
            " [3 4 6 7]], shape=(2, 4), dtype=int32)\n",
            "(2, 4)\n"
          ]
        }
      ]
    },
    {
      "cell_type": "code",
      "source": [
        "# -1번 방향(스칼라 축)에서 가장 큰 값의 인덱스를 추출하기\n",
        "y = tf.argmax(x, axis=-1)\n",
        "\n",
        "print(y)\n",
        "print(y.shape)"
      ],
      "metadata": {
        "colab": {
          "base_uri": "https://localhost:8080/"
        },
        "id": "HQUmQisrOiEa",
        "outputId": "a07b2209-57bb-4f1a-cebf-530924f791bb"
      },
      "execution_count": null,
      "outputs": [
        {
          "output_type": "stream",
          "name": "stdout",
          "text": [
            "Executing op ArgMax in device /job:localhost/replica:0/task:0/device:CPU:0\n",
            "tf.Tensor([2 3], shape=(2,), dtype=int64)\n",
            "(2,)\n"
          ]
        }
      ]
    },
    {
      "cell_type": "code",
      "source": [
        "# 0번 방향(1차원 벡터 축)에서 가장 큰 값의 인덱스를 추출하기\n",
        "y = tf.argmax(x, axis=0)\n",
        "\n",
        "print(y)\n",
        "print(y.shape)"
      ],
      "metadata": {
        "colab": {
          "base_uri": "https://localhost:8080/"
        },
        "id": "vCtX15FPOsy6",
        "outputId": "984676bb-a81e-4946-ad41-938fdf96a2d2"
      },
      "execution_count": null,
      "outputs": [
        {
          "output_type": "stream",
          "name": "stdout",
          "text": [
            "Executing op ArgMax in device /job:localhost/replica:0/task:0/device:CPU:0\n",
            "tf.Tensor([1 0 0 1], shape=(4,), dtype=int64)\n",
            "(4,)\n"
          ]
        }
      ]
    },
    {
      "cell_type": "markdown",
      "source": [
        "## top_k\n",
        "가장 큰 k개의 값과, 그 값의 인덱스를 튜플 형식으로 반환합니다."
      ],
      "metadata": {
        "id": "fy46YB4NOy1C"
      }
    },
    {
      "cell_type": "code",
      "source": [
        "values, indices = tf.math.top_k(x, k=1)\n",
        "\n",
        "print(values)\n",
        "print(values.shape)"
      ],
      "metadata": {
        "colab": {
          "base_uri": "https://localhost:8080/"
        },
        "id": "FiwXLm3mTXCv",
        "outputId": "1fd52d86-6410-4348-9c85-2df2743e6a17"
      },
      "execution_count": null,
      "outputs": [
        {
          "output_type": "stream",
          "name": "stdout",
          "text": [
            "Executing op TopKV2 in device /job:localhost/replica:0/task:0/device:GPU:0\n",
            "tf.Tensor(\n",
            "[[9]\n",
            " [7]], shape=(2, 1), dtype=int32)\n",
            "(2, 1)\n"
          ]
        }
      ]
    },
    {
      "cell_type": "code",
      "source": [
        "print(indices)\n",
        "print(indices.shape)"
      ],
      "metadata": {
        "colab": {
          "base_uri": "https://localhost:8080/"
        },
        "id": "ZKJW0L-xTbyI",
        "outputId": "cbb8f1fa-4798-4fad-b92b-5cc0538ca02b"
      },
      "execution_count": null,
      "outputs": [
        {
          "output_type": "stream",
          "name": "stdout",
          "text": [
            "tf.Tensor(\n",
            "[[2]\n",
            " [3]], shape=(2, 1), dtype=int32)\n",
            "(2, 1)\n"
          ]
        }
      ]
    },
    {
      "cell_type": "markdown",
      "source": [
        "### topk를 이용해 정렬하기"
      ],
      "metadata": {
        "id": "XWMrToz3TgUQ"
      }
    },
    {
      "cell_type": "code",
      "source": [
        "target_dim = -1\n",
        "values, indices = tf.math.top_k(\n",
        "    x,\n",
        "    k=x.shape[target_dim],\n",
        ")\n",
        "\n",
        "print(values)"
      ],
      "metadata": {
        "colab": {
          "base_uri": "https://localhost:8080/"
        },
        "id": "ATSupkY1VvmA",
        "outputId": "c906e165-d72e-43e9-cf19-2fe619c4c2be"
      },
      "execution_count": null,
      "outputs": [
        {
          "output_type": "stream",
          "name": "stdout",
          "text": [
            "tf.Tensor(\n",
            "[[9 5 2 1]\n",
            " [7 6 4 3]], shape=(2, 4), dtype=int32)\n"
          ]
        }
      ]
    },
    {
      "cell_type": "markdown",
      "source": [
        "## squeeze\n",
        "\n",
        "- squeeze : 개수가 하나인 차원을 삭제합니다."
      ],
      "metadata": {
        "id": "Ge9yHv_xWKUP"
      }
    },
    {
      "cell_type": "code",
      "source": [
        "# squeeze\n",
        "x = tf.constant([[[1, 2],\n",
        "                   [3, 4]]])\n",
        "\n",
        "print(x)\n",
        "print(x.shape)"
      ],
      "metadata": {
        "colab": {
          "base_uri": "https://localhost:8080/"
        },
        "id": "8130AJ7DWdee",
        "outputId": "570b8f05-0ea1-47fd-94ae-38fbb2b6455d"
      },
      "execution_count": null,
      "outputs": [
        {
          "output_type": "stream",
          "name": "stdout",
          "text": [
            "Executing op _EagerConst in device /job:localhost/replica:0/task:0/device:GPU:0\n",
            "tf.Tensor(\n",
            "[[[1 2]\n",
            "  [3 4]]], shape=(1, 2, 2), dtype=int32)\n",
            "(1, 2, 2)\n"
          ]
        }
      ]
    },
    {
      "cell_type": "code",
      "source": [
        "print(tf.squeeze(x))\n",
        "print(tf.squeeze(x).shape)"
      ],
      "metadata": {
        "colab": {
          "base_uri": "https://localhost:8080/"
        },
        "id": "6re6PTdcXmgm",
        "outputId": "45af3713-cfd8-4931-913b-9e7c2c17ff4f"
      },
      "execution_count": null,
      "outputs": [
        {
          "output_type": "stream",
          "name": "stdout",
          "text": [
            "tf.Tensor(\n",
            "[[1 2]\n",
            " [3 4]], shape=(2, 2), dtype=int32)\n",
            "(2, 2)\n"
          ]
        }
      ]
    },
    {
      "cell_type": "code",
      "source": [
        "print(tf.squeeze(x, axis=0))\n",
        "print(tf.squeeze(x, axis=0).shape)"
      ],
      "metadata": {
        "colab": {
          "base_uri": "https://localhost:8080/"
        },
        "id": "qErrAVxAXwVG",
        "outputId": "49dbd005-a67a-4123-8c0a-8aa43100b7f9"
      },
      "execution_count": null,
      "outputs": [
        {
          "output_type": "stream",
          "name": "stdout",
          "text": [
            "tf.Tensor(\n",
            "[[1 2]\n",
            " [3 4]], shape=(2, 2), dtype=int32)\n",
            "(2, 2)\n"
          ]
        }
      ]
    },
    {
      "cell_type": "code",
      "source": [
        "# # 차원수가 1이 아닌 위치의 axis에서는 오류가 발생된다.\n",
        "# print(tf.squeeze(x, axis=1))\n",
        "# print(tf.squeeze(x, axis=1).shape) # 인덱스 1번 위치에는 element가 2개 이므로 squeeze가 일어나지 않는다."
      ],
      "metadata": {
        "id": "yDQIS2dUX1nO"
      },
      "execution_count": null,
      "outputs": []
    }
  ]
}