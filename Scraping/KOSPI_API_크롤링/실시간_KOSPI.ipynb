{
 "cells": [
  {
   "cell_type": "markdown",
   "id": "c535d101",
   "metadata": {},
   "source": [
    "# 실시간 코스피 지수 가져오기"
   ]
  },
  {
   "cell_type": "code",
   "execution_count": 130,
   "id": "4acb3788",
   "metadata": {},
   "outputs": [
    {
     "data": {
      "text/plain": [
       "200"
      ]
     },
     "execution_count": 130,
     "metadata": {},
     "output_type": "execute_result"
    }
   ],
   "source": [
    "REAL_TIME_KOSPI_API=\"https://polling.finance.naver.com/api/realtime/domestic/index/KOSPI\"\n",
    "response = requests.get(REAL_TIME_KOSPI_API)\n",
    "response.status_code"
   ]
  },
  {
   "cell_type": "markdown",
   "id": "a5af0164",
   "metadata": {},
   "source": [
    "#### 응답 어떻게 받았는지 확인? \n",
    "\n",
    "    - contents-type확인"
   ]
  },
  {
   "cell_type": "code",
   "execution_count": 131,
   "id": "a27a44d0",
   "metadata": {},
   "outputs": [
    {
     "data": {
      "text/plain": [
       "b'{\"pollingInterval\":7000,\"datas\":[{\"itemCode\":\"KOSPI\",\"stockName\":\"\\xec\\xbd\\x94\\xec\\x8a\\xa4\\xed\\x94\\xbc\",\"stockExchangeType\":{\"code\":\"KS\",\"zoneId\":\"Asia/Seoul\",\"nationType\":\"KOR\",\"delayTime\":0,\"startTime\":\"0900\",\"endTime\":\"1530\",\"closePriceSendTime\":\"1630\",\"nameKor\":\"\\xec\\xbd\\x94\\xec\\x8a\\xa4\\xed\\x94\\xbc\",\"nameEng\":\"KOSPI\",\"nationCode\":\"KOR\",\"nationName\":\"\\xeb\\x8c\\x80\\xed\\x95\\x9c\\xeb\\xaf\\xbc\\xea\\xb5\\xad\",\"name\":\"KOSPI\"},\"closePrice\":\"2,432.86\",\"compareToPreviousClosePrice\":\"-2.08\",\"compareToPreviousPrice\":{\"code\":\"5\",\"text\":\"\\xed\\x95\\x98\\xeb\\x9d\\xbd\",\"name\":\"FALLING\"},\"fluctuationsRatio\":\"-0.09\",\"openPrice\":\"2,432.63\",\"highPrice\":\"2,442.45\",\"lowPrice\":\"2,428.61\",\"accumulatedTradingVolume\":\"407,108\\xec\\xb2\\x9c\\xec\\xa3\\xbc\",\"accumulatedTradingValue\":\"6,824,719\\xeb\\xb0\\xb1\\xeb\\xa7\\x8c\",\"marketStatus\":\"OPEN\",\"localTradedAt\":\"2023-03-29T14:16:15+09:00\",\"symbolCode\":\"KOSPI\"}],\"time\":\"20230329141616\"}'"
      ]
     },
     "execution_count": 131,
     "metadata": {},
     "output_type": "execute_result"
    }
   ],
   "source": [
    "response.content"
   ]
  },
  {
   "cell_type": "code",
   "execution_count": 132,
   "id": "731c445b",
   "metadata": {},
   "outputs": [
    {
     "data": {
      "text/plain": [
       "{'pollingInterval': 7000,\n",
       " 'datas': [{'itemCode': 'KOSPI',\n",
       "   'stockName': '코스피',\n",
       "   'stockExchangeType': {'code': 'KS',\n",
       "    'zoneId': 'Asia/Seoul',\n",
       "    'nationType': 'KOR',\n",
       "    'delayTime': 0,\n",
       "    'startTime': '0900',\n",
       "    'endTime': '1530',\n",
       "    'closePriceSendTime': '1630',\n",
       "    'nameKor': '코스피',\n",
       "    'nameEng': 'KOSPI',\n",
       "    'nationCode': 'KOR',\n",
       "    'nationName': '대한민국',\n",
       "    'name': 'KOSPI'},\n",
       "   'closePrice': '2,432.86',\n",
       "   'compareToPreviousClosePrice': '-2.08',\n",
       "   'compareToPreviousPrice': {'code': '5', 'text': '하락', 'name': 'FALLING'},\n",
       "   'fluctuationsRatio': '-0.09',\n",
       "   'openPrice': '2,432.63',\n",
       "   'highPrice': '2,442.45',\n",
       "   'lowPrice': '2,428.61',\n",
       "   'accumulatedTradingVolume': '407,108천주',\n",
       "   'accumulatedTradingValue': '6,824,719백만',\n",
       "   'marketStatus': 'OPEN',\n",
       "   'localTradedAt': '2023-03-29T14:16:15+09:00',\n",
       "   'symbolCode': 'KOSPI'}],\n",
       " 'time': '20230329141616'}"
      ]
     },
     "execution_count": 132,
     "metadata": {},
     "output_type": "execute_result"
    }
   ],
   "source": [
    "data = response.json()\n",
    "data"
   ]
  },
  {
   "cell_type": "code",
   "execution_count": 133,
   "id": "4566bed2",
   "metadata": {},
   "outputs": [
    {
     "data": {
      "text/plain": [
       "'2,432.86'"
      ]
     },
     "execution_count": 133,
     "metadata": {},
     "output_type": "execute_result"
    }
   ],
   "source": [
    "data['datas'][0]['closePrice']"
   ]
  },
  {
   "cell_type": "markdown",
   "id": "fd7ef6d1",
   "metadata": {},
   "source": [
    "# 200일치 KOSPI 가격 --> df로 정리"
   ]
  },
  {
   "cell_type": "code",
   "execution_count": 139,
   "id": "f98e2f33",
   "metadata": {},
   "outputs": [
    {
     "data": {
      "text/plain": [
       "200"
      ]
     },
     "execution_count": 139,
     "metadata": {},
     "output_type": "execute_result"
    }
   ],
   "source": [
    "KOSPI_API =\"https://api.stock.naver.com/chart/domestic/index/KOSPI?periodType=dayCandle\"\n",
    "response = requests.get(KOSPI_API)\n",
    "response.status_code"
   ]
  },
  {
   "cell_type": "code",
   "execution_count": 157,
   "id": "66a00c3a",
   "metadata": {},
   "outputs": [
    {
     "data": {
      "text/plain": [
       "[{'localDate': '20230323',\n",
       "  'closePrice': 2424.48,\n",
       "  'openPrice': 2398.27,\n",
       "  'highPrice': 2424.48,\n",
       "  'lowPrice': 2397.91,\n",
       "  'accumulatedTradingVolume': 567704,\n",
       "  'foreignRetentionRate': 0.0},\n",
       " {'localDate': '20230324',\n",
       "  'closePrice': 2414.96,\n",
       "  'openPrice': 2421.27,\n",
       "  'highPrice': 2423.76,\n",
       "  'lowPrice': 2399.49,\n",
       "  'accumulatedTradingVolume': 470659,\n",
       "  'foreignRetentionRate': 0.0},\n",
       " {'localDate': '20230327',\n",
       "  'closePrice': 2409.22,\n",
       "  'openPrice': 2423.94,\n",
       "  'highPrice': 2423.94,\n",
       "  'lowPrice': 2395.97,\n",
       "  'accumulatedTradingVolume': 472847,\n",
       "  'foreignRetentionRate': 0.0},\n",
       " {'localDate': '20230328',\n",
       "  'closePrice': 2434.94,\n",
       "  'openPrice': 2418.69,\n",
       "  'highPrice': 2434.94,\n",
       "  'lowPrice': 2415.34,\n",
       "  'accumulatedTradingVolume': 524016,\n",
       "  'foreignRetentionRate': 0.0},\n",
       " {'localDate': '20230329',\n",
       "  'closePrice': 2434.84,\n",
       "  'openPrice': 2432.63,\n",
       "  'highPrice': 2442.45,\n",
       "  'lowPrice': 2428.61,\n",
       "  'accumulatedTradingVolume': 410968,\n",
       "  'foreignRetentionRate': 0.0}]"
      ]
     },
     "execution_count": 157,
     "metadata": {},
     "output_type": "execute_result"
    }
   ],
   "source": [
    "datas = response.json()\n",
    "price_info_datas = datas['priceInfos']\n",
    "price_info_datas[:2]\n",
    "price_info #json array는 df로 바로 만들 수 있따."
   ]
  },
  {
   "cell_type": "code",
   "execution_count": 158,
   "id": "11bbe046",
   "metadata": {},
   "outputs": [
    {
     "data": {
      "text/html": [
       "<div>\n",
       "<style scoped>\n",
       "    .dataframe tbody tr th:only-of-type {\n",
       "        vertical-align: middle;\n",
       "    }\n",
       "\n",
       "    .dataframe tbody tr th {\n",
       "        vertical-align: top;\n",
       "    }\n",
       "\n",
       "    .dataframe thead th {\n",
       "        text-align: right;\n",
       "    }\n",
       "</style>\n",
       "<table border=\"1\" class=\"dataframe\">\n",
       "  <thead>\n",
       "    <tr style=\"text-align: right;\">\n",
       "      <th></th>\n",
       "      <th>localDate</th>\n",
       "      <th>closePrice</th>\n",
       "      <th>openPrice</th>\n",
       "      <th>highPrice</th>\n",
       "      <th>lowPrice</th>\n",
       "      <th>accumulatedTradingVolume</th>\n",
       "      <th>foreignRetentionRate</th>\n",
       "    </tr>\n",
       "  </thead>\n",
       "  <tbody>\n",
       "    <tr>\n",
       "      <th>105</th>\n",
       "      <td>20230323</td>\n",
       "      <td>2424.48</td>\n",
       "      <td>2398.27</td>\n",
       "      <td>2424.48</td>\n",
       "      <td>2397.91</td>\n",
       "      <td>567704</td>\n",
       "      <td>0.0</td>\n",
       "    </tr>\n",
       "    <tr>\n",
       "      <th>106</th>\n",
       "      <td>20230324</td>\n",
       "      <td>2414.96</td>\n",
       "      <td>2421.27</td>\n",
       "      <td>2423.76</td>\n",
       "      <td>2399.49</td>\n",
       "      <td>470659</td>\n",
       "      <td>0.0</td>\n",
       "    </tr>\n",
       "    <tr>\n",
       "      <th>107</th>\n",
       "      <td>20230327</td>\n",
       "      <td>2409.22</td>\n",
       "      <td>2423.94</td>\n",
       "      <td>2423.94</td>\n",
       "      <td>2395.97</td>\n",
       "      <td>472847</td>\n",
       "      <td>0.0</td>\n",
       "    </tr>\n",
       "    <tr>\n",
       "      <th>108</th>\n",
       "      <td>20230328</td>\n",
       "      <td>2434.94</td>\n",
       "      <td>2418.69</td>\n",
       "      <td>2434.94</td>\n",
       "      <td>2415.34</td>\n",
       "      <td>524016</td>\n",
       "      <td>0.0</td>\n",
       "    </tr>\n",
       "    <tr>\n",
       "      <th>109</th>\n",
       "      <td>20230329</td>\n",
       "      <td>2434.84</td>\n",
       "      <td>2432.63</td>\n",
       "      <td>2442.45</td>\n",
       "      <td>2428.61</td>\n",
       "      <td>410968</td>\n",
       "      <td>0.0</td>\n",
       "    </tr>\n",
       "  </tbody>\n",
       "</table>\n",
       "</div>"
      ],
      "text/plain": [
       "    localDate  closePrice  openPrice  highPrice  lowPrice  \\\n",
       "105  20230323     2424.48    2398.27    2424.48   2397.91   \n",
       "106  20230324     2414.96    2421.27    2423.76   2399.49   \n",
       "107  20230327     2409.22    2423.94    2423.94   2395.97   \n",
       "108  20230328     2434.94    2418.69    2434.94   2415.34   \n",
       "109  20230329     2434.84    2432.63    2442.45   2428.61   \n",
       "\n",
       "     accumulatedTradingVolume  foreignRetentionRate  \n",
       "105                    567704                   0.0  \n",
       "106                    470659                   0.0  \n",
       "107                    472847                   0.0  \n",
       "108                    524016                   0.0  \n",
       "109                    410968                   0.0  "
      ]
     },
     "execution_count": 158,
     "metadata": {},
     "output_type": "execute_result"
    }
   ],
   "source": [
    "import pandas as pd\n",
    "\n",
    "kospi_df = pd.DataFrame(price_info_datas)\n",
    "kospi_df.tail()"
   ]
  },
  {
   "cell_type": "code",
   "execution_count": null,
   "id": "d400b73f",
   "metadata": {},
   "outputs": [],
   "source": []
  }
 ],
 "metadata": {
  "kernelspec": {
   "display_name": "Python 3 (ipykernel)",
   "language": "python",
   "name": "python3"
  },
  "language_info": {
   "codemirror_mode": {
    "name": "ipython",
    "version": 3
   },
   "file_extension": ".py",
   "mimetype": "text/x-python",
   "name": "python",
   "nbconvert_exporter": "python",
   "pygments_lexer": "ipython3",
   "version": "3.9.13"
  }
 },
 "nbformat": 4,
 "nbformat_minor": 5
}
