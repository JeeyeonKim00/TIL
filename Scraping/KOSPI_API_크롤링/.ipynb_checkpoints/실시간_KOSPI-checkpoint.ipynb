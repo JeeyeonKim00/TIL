{
 "cells": [
  {
   "cell_type": "code",
   "execution_count": 12,
   "id": "013032ba",
   "metadata": {},
   "outputs": [
    {
     "data": {
      "text/plain": [
       "<!DOCTYPE html>\n",
       "\n",
       "<html lang=\"ko\">\n",
       "<head>\n",
       "<meta charset=\"utf-8\"/>\n",
       "<meta content=\"width=device-width,initial-scale=1,maximum-scale=1,minimum-scale=1,user-scalable=no\" name=\"viewport\"/>\n",
       "<meta content=\"코스피 - 네이버 증권\" property=\"og:title\">\n",
       "<meta content=\"article\" property=\"og:type\"/>\n",
       "<meta content=\"https://m.stock.naver.com/domestic/index/KOSPI/total\" property=\"og:url\"/>\n",
       "<meta content=\"관심종목의 실시간 주가를 가장 빠르게 확인하는 곳\" property=\"og:description\"/>\n",
       "<meta content=\"https://ssl.pstatic.net/static/m/stock/im/2016/08/og_stock-200.png\" property=\"og:image\"/>\n",
       "<meta content=\"네이버증권\" property=\"og:article:author\"/>\n",
       "<meta content=\"https://m.stock.naver.com\" property=\"og:article:author:url\"/>\n",
       "<meta content=\"https://ssl.pstatic.net/static/m/stock/im/2016/08/og_stock-200.png\" property=\"og:article:thumbnailUrl\"/>\n",
       "<title>네이버 증권</title>\n",
       "<link href=\"https://ssl.pstatic.net/imgstock/favi/favicon.ico\" rel=\"shortcut icon\"/>\n",
       "<meta content=\"네이버 증권\" name=\"apple-mobile-web-app-title\"/>\n",
       "<link href=\"https://ssl.pstatic.net/imgstock/favi/favicon-96x96.png\" rel=\"apple-touch-icon-precomposed\">\n",
       "<link href=\"https://ssl.pstatic.net/imgstock/favi/favicon-180x180.png\" rel=\"apple-touch-icon-precomposed\" sizes=\"180x180\"/>\n",
       "<link href=\"https://ssl.pstatic.net/imgstock/favi/favicon-192x192.png\" rel=\"apple-touch-icon-precomposed\" sizes=\"192x192\"/>\n",
       "<link href=\"https://ssl.pstatic.net/imgstock/favi/favicon-16x16.png\" rel=\"icon\" sizes=\"16x16\" type=\"image/png\"/>\n",
       "<link href=\"https://ssl.pstatic.net/imgstock/favi/favicon-32x32.png\" rel=\"icon\" sizes=\"32x32\" type=\"image/png\"/>\n",
       "<link href=\"https://ssl.pstatic.net/imgstock/favi/favicon-96x96.png\" rel=\"icon\" sizes=\"96x96\" type=\"image/png\"/>\n",
       "<link href=\"https://ssl.pstatic.net/imgstock/favi/favicon-192x192.png\" rel=\"icon\" sizes=\"192x192\" type=\"image/png\"/>\n",
       "<link href=\"https://ssl.pstatic.net/imgstock/stock/build/prod/mobile/20230322165611/static/css/main.dd0cb95c.chunk.css\" rel=\"stylesheet\"/>\n",
       "<script src=\"https://ssl.pstatic.net/imgstock/stock/build/prod/mobile/20230322165611/header.js?20230322165611\" type=\"text/javascript\"></script>\n",
       "<script src=\"https://ssl.pstatic.net/tveta/libs/glad/prod/gfp-core.js\" type=\"text/javascript\"></script>\n",
       "</link></meta></head>\n",
       "<body class=\"international\">\n",
       "<div id=\"root\"></div>\n",
       "<script>!function(e){function t(t){for(var n,o,u=t[0],f=t[1],i=t[2],d=0,s=[];d<u.length;d++)o=u[d],Object.prototype.hasOwnProperty.call(a,o)&&a[o]&&s.push(a[o][0]),a[o]=0;for(n in f)Object.prototype.hasOwnProperty.call(f,n)&&(e[n]=f[n]);for(l&&l(t);s.length;)s.shift()();return c.push.apply(c,i||[]),r()}function r(){for(var e,t=0;t<c.length;t++){for(var r=c[t],n=!0,o=1;o<r.length;o++){var f=r[o];0!==a[f]&&(n=!1)}n&&(c.splice(t--,1),e=u(u.s=r[0]))}return e}var n={},o={8:0},a={8:0},c=[];function u(t){if(n[t])return n[t].exports;var r=n[t]={i:t,l:!1,exports:{}};return e[t].call(r.exports,r,r.exports,u),r.l=!0,r.exports}u.e=function(e){var t=[];o[e]?t.push(o[e]):0!==o[e]&&{0:1,2:1,3:1,4:1,10:1,11:1,12:1,13:1,14:1,15:1,16:1,17:1,18:1,19:1,20:1}[e]&&t.push(o[e]=new Promise((function(t,r){for(var n=\"static/css/\"+({}[e]||e)+\".\"+{0:\"a63b0bcc\",1:\"31d6cfe0\",2:\"02efc3f1\",3:\"2ea2f92f\",4:\"7d1972e2\",5:\"31d6cfe0\",6:\"31d6cfe0\",10:\"1963f76d\",11:\"a0458cd6\",12:\"07461eed\",13:\"40867142\",14:\"3337bdd0\",15:\"20f2ac0d\",16:\"6d9f44bb\",17:\"724a9bd0\",18:\"dbb9c469\",19:\"1db4b7c6\",20:\"0162d134\",21:\"31d6cfe0\",22:\"31d6cfe0\"}[e]+\".chunk.css\",a=u.p+n,c=document.getElementsByTagName(\"link\"),f=0;f<c.length;f++){var i=(l=c[f]).getAttribute(\"data-href\")||l.getAttribute(\"href\");if(\"stylesheet\"===l.rel&&(i===n||i===a))return t()}var d=document.getElementsByTagName(\"style\");for(f=0;f<d.length;f++){var l;if((i=(l=d[f]).getAttribute(\"data-href\"))===n||i===a)return t()}var s=document.createElement(\"link\");s.rel=\"stylesheet\",s.type=\"text/css\",s.onload=t,s.onerror=function(t){var n=t&&t.target&&t.target.src||a,c=new Error(\"Loading CSS chunk \"+e+\" failed.\\n(\"+n+\")\");c.code=\"CSS_CHUNK_LOAD_FAILED\",c.request=n,delete o[e],s.parentNode.removeChild(s),r(c)},s.href=a,document.getElementsByTagName(\"head\")[0].appendChild(s)})).then((function(){o[e]=0})));var r=a[e];if(0!==r)if(r)t.push(r[2]);else{var n=new Promise((function(t,n){r=a[e]=[t,n]}));t.push(r[2]=n);var c,f=document.createElement(\"script\");f.charset=\"utf-8\",f.timeout=120,u.nc&&f.setAttribute(\"nonce\",u.nc),f.src=function(e){return u.p+\"static/js/\"+({}[e]||e)+\".\"+{0:\"7215a1e4\",1:\"7bac6db9\",2:\"211586bd\",3:\"6dba623a\",4:\"e1c82aeb\",5:\"2c454e6b\",6:\"cd87eac5\",10:\"6ffb4359\",11:\"f1d0e846\",12:\"b69fc2d6\",13:\"b532767b\",14:\"89e52d4b\",15:\"423995af\",16:\"78225396\",17:\"daaaf4ff\",18:\"fdcb5d93\",19:\"5259a749\",20:\"78980694\",21:\"5cdba9d6\",22:\"1de118f4\"}[e]+\".chunk.js\"}(e);var i=new Error;c=function(t){f.onerror=f.onload=null,clearTimeout(d);var r=a[e];if(0!==r){if(r){var n=t&&(\"load\"===t.type?\"missing\":t.type),o=t&&t.target&&t.target.src;i.message=\"Loading chunk \"+e+\" failed.\\n(\"+n+\": \"+o+\")\",i.name=\"ChunkLoadError\",i.type=n,i.request=o,r[1](i)}a[e]=void 0}};var d=setTimeout((function(){c({type:\"timeout\",target:f})}),12e4);f.onerror=f.onload=c,document.head.appendChild(f)}return Promise.all(t)},u.m=e,u.c=n,u.d=function(e,t,r){u.o(e,t)||Object.defineProperty(e,t,{enumerable:!0,get:r})},u.r=function(e){\"undefined\"!=typeof Symbol&&Symbol.toStringTag&&Object.defineProperty(e,Symbol.toStringTag,{value:\"Module\"}),Object.defineProperty(e,\"__esModule\",{value:!0})},u.t=function(e,t){if(1&t&&(e=u(e)),8&t)return e;if(4&t&&\"object\"==typeof e&&e&&e.__esModule)return e;var r=Object.create(null);if(u.r(r),Object.defineProperty(r,\"default\",{enumerable:!0,value:e}),2&t&&\"string\"!=typeof e)for(var n in e)u.d(r,n,function(t){return e[t]}.bind(null,n));return r},u.n=function(e){var t=e&&e.__esModule?function(){return e.default}:function(){return e};return u.d(t,\"a\",t),t},u.o=function(e,t){return Object.prototype.hasOwnProperty.call(e,t)},u.p=\"https://ssl.pstatic.net/imgstock/stock/build/prod/mobile/20230322165611/\",u.oe=function(e){throw console.error(e),e};var f=this[\"webpackJsonpweb-mobile-frontend\"]=this[\"webpackJsonpweb-mobile-frontend\"]||[],i=f.push.bind(f);f.push=t,f=f.slice();for(var d=0;d<f.length;d++)t(f[d]);var l=i;r()}([])</script>\n",
       "<script src=\"https://ssl.pstatic.net/imgstock/stock/build/prod/mobile/20230322165611/static/js/9.d728144a.chunk.js\"></script>\n",
       "<script src=\"https://ssl.pstatic.net/imgstock/stock/build/prod/mobile/20230322165611/static/js/main.de49f3ea.chunk.js\"></script>\n",
       "</body>\n",
       "</html>"
      ]
     },
     "execution_count": 12,
     "metadata": {},
     "output_type": "execute_result"
    }
   ],
   "source": [
    "import requests\n",
    "from bs4 import BeautifulSoup\n",
    "\n",
    "URL=\"https://m.stock.naver.com/domestic/index/KOSPI/total\"\n",
    "\n",
    "res = requests.get(URL)\n",
    "soup = BeautifulSoup(res.content, 'html.parser')\n",
    "soup"
   ]
  },
  {
   "cell_type": "code",
   "execution_count": null,
   "id": "601ea347",
   "metadata": {},
   "outputs": [],
   "source": []
  },
  {
   "cell_type": "code",
   "execution_count": 13,
   "id": "c490a314",
   "metadata": {},
   "outputs": [
    {
     "data": {
      "text/plain": [
       "[]"
      ]
     },
     "execution_count": 13,
     "metadata": {},
     "output_type": "execute_result"
    }
   ],
   "source": [
    "soup.select(\"#content > div.GraphMain_mainGraph__DpBEY > div.GraphMain_frameGraph__12FGk > div.GraphMain_stockInfo__up6Xe > strong\")\n"
   ]
  },
  {
   "cell_type": "markdown",
   "id": "c535d101",
   "metadata": {},
   "source": [
    "# 실시간 코스피 지수 가져오기"
   ]
  },
  {
   "cell_type": "code",
   "execution_count": 130,
   "id": "4acb3788",
   "metadata": {},
   "outputs": [
    {
     "data": {
      "text/plain": [
       "200"
      ]
     },
     "execution_count": 130,
     "metadata": {},
     "output_type": "execute_result"
    }
   ],
   "source": [
    "REAL_TIME_KOSPI_API=\"https://polling.finance.naver.com/api/realtime/domestic/index/KOSPI\"\n",
    "response = requests.get(REAL_TIME_KOSPI_API)\n",
    "response.status_code"
   ]
  },
  {
   "cell_type": "markdown",
   "id": "a5af0164",
   "metadata": {},
   "source": [
    "#### 응답 어떻게 받았는지 확인? \n",
    "\n",
    "    - contents-type확인"
   ]
  },
  {
   "cell_type": "code",
   "execution_count": 131,
   "id": "a27a44d0",
   "metadata": {},
   "outputs": [
    {
     "data": {
      "text/plain": [
       "b'{\"pollingInterval\":7000,\"datas\":[{\"itemCode\":\"KOSPI\",\"stockName\":\"\\xec\\xbd\\x94\\xec\\x8a\\xa4\\xed\\x94\\xbc\",\"stockExchangeType\":{\"code\":\"KS\",\"zoneId\":\"Asia/Seoul\",\"nationType\":\"KOR\",\"delayTime\":0,\"startTime\":\"0900\",\"endTime\":\"1530\",\"closePriceSendTime\":\"1630\",\"nameKor\":\"\\xec\\xbd\\x94\\xec\\x8a\\xa4\\xed\\x94\\xbc\",\"nameEng\":\"KOSPI\",\"nationCode\":\"KOR\",\"nationName\":\"\\xeb\\x8c\\x80\\xed\\x95\\x9c\\xeb\\xaf\\xbc\\xea\\xb5\\xad\",\"name\":\"KOSPI\"},\"closePrice\":\"2,432.86\",\"compareToPreviousClosePrice\":\"-2.08\",\"compareToPreviousPrice\":{\"code\":\"5\",\"text\":\"\\xed\\x95\\x98\\xeb\\x9d\\xbd\",\"name\":\"FALLING\"},\"fluctuationsRatio\":\"-0.09\",\"openPrice\":\"2,432.63\",\"highPrice\":\"2,442.45\",\"lowPrice\":\"2,428.61\",\"accumulatedTradingVolume\":\"407,108\\xec\\xb2\\x9c\\xec\\xa3\\xbc\",\"accumulatedTradingValue\":\"6,824,719\\xeb\\xb0\\xb1\\xeb\\xa7\\x8c\",\"marketStatus\":\"OPEN\",\"localTradedAt\":\"2023-03-29T14:16:15+09:00\",\"symbolCode\":\"KOSPI\"}],\"time\":\"20230329141616\"}'"
      ]
     },
     "execution_count": 131,
     "metadata": {},
     "output_type": "execute_result"
    }
   ],
   "source": [
    "response.content"
   ]
  },
  {
   "cell_type": "code",
   "execution_count": 132,
   "id": "731c445b",
   "metadata": {},
   "outputs": [
    {
     "data": {
      "text/plain": [
       "{'pollingInterval': 7000,\n",
       " 'datas': [{'itemCode': 'KOSPI',\n",
       "   'stockName': '코스피',\n",
       "   'stockExchangeType': {'code': 'KS',\n",
       "    'zoneId': 'Asia/Seoul',\n",
       "    'nationType': 'KOR',\n",
       "    'delayTime': 0,\n",
       "    'startTime': '0900',\n",
       "    'endTime': '1530',\n",
       "    'closePriceSendTime': '1630',\n",
       "    'nameKor': '코스피',\n",
       "    'nameEng': 'KOSPI',\n",
       "    'nationCode': 'KOR',\n",
       "    'nationName': '대한민국',\n",
       "    'name': 'KOSPI'},\n",
       "   'closePrice': '2,432.86',\n",
       "   'compareToPreviousClosePrice': '-2.08',\n",
       "   'compareToPreviousPrice': {'code': '5', 'text': '하락', 'name': 'FALLING'},\n",
       "   'fluctuationsRatio': '-0.09',\n",
       "   'openPrice': '2,432.63',\n",
       "   'highPrice': '2,442.45',\n",
       "   'lowPrice': '2,428.61',\n",
       "   'accumulatedTradingVolume': '407,108천주',\n",
       "   'accumulatedTradingValue': '6,824,719백만',\n",
       "   'marketStatus': 'OPEN',\n",
       "   'localTradedAt': '2023-03-29T14:16:15+09:00',\n",
       "   'symbolCode': 'KOSPI'}],\n",
       " 'time': '20230329141616'}"
      ]
     },
     "execution_count": 132,
     "metadata": {},
     "output_type": "execute_result"
    }
   ],
   "source": [
    "data = response.json()\n",
    "data"
   ]
  },
  {
   "cell_type": "code",
   "execution_count": 133,
   "id": "4566bed2",
   "metadata": {},
   "outputs": [
    {
     "data": {
      "text/plain": [
       "'2,432.86'"
      ]
     },
     "execution_count": 133,
     "metadata": {},
     "output_type": "execute_result"
    }
   ],
   "source": [
    "data['datas'][0]['closePrice']"
   ]
  },
  {
   "cell_type": "markdown",
   "id": "fd7ef6d1",
   "metadata": {},
   "source": [
    "# 200일치 KOSPI 가격 --> df로 정리"
   ]
  },
  {
   "cell_type": "code",
   "execution_count": 139,
   "id": "f98e2f33",
   "metadata": {},
   "outputs": [
    {
     "data": {
      "text/plain": [
       "200"
      ]
     },
     "execution_count": 139,
     "metadata": {},
     "output_type": "execute_result"
    }
   ],
   "source": [
    "KOSPI_API =\"https://api.stock.naver.com/chart/domestic/index/KOSPI?periodType=dayCandle\"\n",
    "response = requests.get(KOSPI_API)\n",
    "response.status_code"
   ]
  },
  {
   "cell_type": "code",
   "execution_count": 157,
   "id": "66a00c3a",
   "metadata": {},
   "outputs": [
    {
     "data": {
      "text/plain": [
       "[{'localDate': '20230323',\n",
       "  'closePrice': 2424.48,\n",
       "  'openPrice': 2398.27,\n",
       "  'highPrice': 2424.48,\n",
       "  'lowPrice': 2397.91,\n",
       "  'accumulatedTradingVolume': 567704,\n",
       "  'foreignRetentionRate': 0.0},\n",
       " {'localDate': '20230324',\n",
       "  'closePrice': 2414.96,\n",
       "  'openPrice': 2421.27,\n",
       "  'highPrice': 2423.76,\n",
       "  'lowPrice': 2399.49,\n",
       "  'accumulatedTradingVolume': 470659,\n",
       "  'foreignRetentionRate': 0.0},\n",
       " {'localDate': '20230327',\n",
       "  'closePrice': 2409.22,\n",
       "  'openPrice': 2423.94,\n",
       "  'highPrice': 2423.94,\n",
       "  'lowPrice': 2395.97,\n",
       "  'accumulatedTradingVolume': 472847,\n",
       "  'foreignRetentionRate': 0.0},\n",
       " {'localDate': '20230328',\n",
       "  'closePrice': 2434.94,\n",
       "  'openPrice': 2418.69,\n",
       "  'highPrice': 2434.94,\n",
       "  'lowPrice': 2415.34,\n",
       "  'accumulatedTradingVolume': 524016,\n",
       "  'foreignRetentionRate': 0.0},\n",
       " {'localDate': '20230329',\n",
       "  'closePrice': 2434.84,\n",
       "  'openPrice': 2432.63,\n",
       "  'highPrice': 2442.45,\n",
       "  'lowPrice': 2428.61,\n",
       "  'accumulatedTradingVolume': 410968,\n",
       "  'foreignRetentionRate': 0.0}]"
      ]
     },
     "execution_count": 157,
     "metadata": {},
     "output_type": "execute_result"
    }
   ],
   "source": [
    "datas = response.json()\n",
    "price_info_datas = datas['priceInfos']\n",
    "price_info_datas[:2]\n",
    "price_info #json array는 df로 바로 만들 수 있따."
   ]
  },
  {
   "cell_type": "code",
   "execution_count": 158,
   "id": "11bbe046",
   "metadata": {},
   "outputs": [
    {
     "data": {
      "text/html": [
       "<div>\n",
       "<style scoped>\n",
       "    .dataframe tbody tr th:only-of-type {\n",
       "        vertical-align: middle;\n",
       "    }\n",
       "\n",
       "    .dataframe tbody tr th {\n",
       "        vertical-align: top;\n",
       "    }\n",
       "\n",
       "    .dataframe thead th {\n",
       "        text-align: right;\n",
       "    }\n",
       "</style>\n",
       "<table border=\"1\" class=\"dataframe\">\n",
       "  <thead>\n",
       "    <tr style=\"text-align: right;\">\n",
       "      <th></th>\n",
       "      <th>localDate</th>\n",
       "      <th>closePrice</th>\n",
       "      <th>openPrice</th>\n",
       "      <th>highPrice</th>\n",
       "      <th>lowPrice</th>\n",
       "      <th>accumulatedTradingVolume</th>\n",
       "      <th>foreignRetentionRate</th>\n",
       "    </tr>\n",
       "  </thead>\n",
       "  <tbody>\n",
       "    <tr>\n",
       "      <th>105</th>\n",
       "      <td>20230323</td>\n",
       "      <td>2424.48</td>\n",
       "      <td>2398.27</td>\n",
       "      <td>2424.48</td>\n",
       "      <td>2397.91</td>\n",
       "      <td>567704</td>\n",
       "      <td>0.0</td>\n",
       "    </tr>\n",
       "    <tr>\n",
       "      <th>106</th>\n",
       "      <td>20230324</td>\n",
       "      <td>2414.96</td>\n",
       "      <td>2421.27</td>\n",
       "      <td>2423.76</td>\n",
       "      <td>2399.49</td>\n",
       "      <td>470659</td>\n",
       "      <td>0.0</td>\n",
       "    </tr>\n",
       "    <tr>\n",
       "      <th>107</th>\n",
       "      <td>20230327</td>\n",
       "      <td>2409.22</td>\n",
       "      <td>2423.94</td>\n",
       "      <td>2423.94</td>\n",
       "      <td>2395.97</td>\n",
       "      <td>472847</td>\n",
       "      <td>0.0</td>\n",
       "    </tr>\n",
       "    <tr>\n",
       "      <th>108</th>\n",
       "      <td>20230328</td>\n",
       "      <td>2434.94</td>\n",
       "      <td>2418.69</td>\n",
       "      <td>2434.94</td>\n",
       "      <td>2415.34</td>\n",
       "      <td>524016</td>\n",
       "      <td>0.0</td>\n",
       "    </tr>\n",
       "    <tr>\n",
       "      <th>109</th>\n",
       "      <td>20230329</td>\n",
       "      <td>2434.84</td>\n",
       "      <td>2432.63</td>\n",
       "      <td>2442.45</td>\n",
       "      <td>2428.61</td>\n",
       "      <td>410968</td>\n",
       "      <td>0.0</td>\n",
       "    </tr>\n",
       "  </tbody>\n",
       "</table>\n",
       "</div>"
      ],
      "text/plain": [
       "    localDate  closePrice  openPrice  highPrice  lowPrice  \\\n",
       "105  20230323     2424.48    2398.27    2424.48   2397.91   \n",
       "106  20230324     2414.96    2421.27    2423.76   2399.49   \n",
       "107  20230327     2409.22    2423.94    2423.94   2395.97   \n",
       "108  20230328     2434.94    2418.69    2434.94   2415.34   \n",
       "109  20230329     2434.84    2432.63    2442.45   2428.61   \n",
       "\n",
       "     accumulatedTradingVolume  foreignRetentionRate  \n",
       "105                    567704                   0.0  \n",
       "106                    470659                   0.0  \n",
       "107                    472847                   0.0  \n",
       "108                    524016                   0.0  \n",
       "109                    410968                   0.0  "
      ]
     },
     "execution_count": 158,
     "metadata": {},
     "output_type": "execute_result"
    }
   ],
   "source": [
    "import pandas as pd\n",
    "\n",
    "kospi_df = pd.DataFrame(price_info_datas)\n",
    "kospi_df.tail()"
   ]
  },
  {
   "cell_type": "code",
   "execution_count": null,
   "id": "d400b73f",
   "metadata": {},
   "outputs": [],
   "source": []
  }
 ],
 "metadata": {
  "kernelspec": {
   "display_name": "Python 3 (ipykernel)",
   "language": "python",
   "name": "python3"
  },
  "language_info": {
   "codemirror_mode": {
    "name": "ipython",
    "version": 3
   },
   "file_extension": ".py",
   "mimetype": "text/x-python",
   "name": "python",
   "nbconvert_exporter": "python",
   "pygments_lexer": "ipython3",
   "version": "3.9.13"
  }
 },
 "nbformat": 4,
 "nbformat_minor": 5
}
