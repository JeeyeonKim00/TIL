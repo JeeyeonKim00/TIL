{
 "cells": [
  {
   "cell_type": "code",
   "execution_count": 44,
   "metadata": {},
   "outputs": [
    {
     "data": {
      "text/plain": [
       "200"
      ]
     },
     "execution_count": 44,
     "metadata": {},
     "output_type": "execute_result"
    }
   ],
   "source": [
    "import requests\n",
    "\n",
    "air_url = 'https://apis.data.go.kr/B552584/ArpltnStatsSvc/getCtprvnMesureSidoLIst?serviceKey=znITuAhb9XFUiSbZ1GJnEfsIFaGEwp5uxW1QCkDchdZVqPa3bmicoJlw16fpUPRjeaUcr2HvRcF4%2F0t3lzoIgA%3D%3D&returnType=json&numOfRows=100&pageNo=1&sidoName=%EC%84%9C%EC%9A%B8&searchCondition=DAILY'\n",
    "dust = requests.get(air_url)\n",
    "dust.status_code"
   ]
  },
  {
   "cell_type": "code",
   "execution_count": 61,
   "metadata": {},
   "outputs": [
    {
     "name": "stdout",
     "output_type": "stream",
     "text": [
      "강남구\n",
      "강동구\n",
      "강북구\n",
      "강서구\n",
      "관악구\n",
      "광진구\n",
      "구로구\n",
      "금천구\n",
      "노원구\n",
      "도봉구\n",
      "동대문구\n",
      "동작구\n",
      "마포구\n",
      "서대문구\n",
      "서초구\n",
      "성동구\n",
      "성북구\n",
      "송파구\n",
      "양천구\n",
      "영등포구\n",
      "용산구\n",
      "은평구\n",
      "종로구\n",
      "중구\n",
      "중랑구\n",
      "강남구\n",
      "강동구\n",
      "강북구\n",
      "강서구\n",
      "관악구\n",
      "광진구\n",
      "구로구\n",
      "금천구\n",
      "노원구\n",
      "도봉구\n",
      "동대문구\n",
      "동작구\n",
      "마포구\n",
      "서대문구\n",
      "서초구\n",
      "성동구\n",
      "성북구\n",
      "송파구\n",
      "양천구\n",
      "영등포구\n",
      "용산구\n",
      "은평구\n",
      "종로구\n",
      "중구\n",
      "중랑구\n",
      "강남구\n",
      "강동구\n",
      "강북구\n",
      "강서구\n",
      "관악구\n",
      "광진구\n",
      "구로구\n",
      "금천구\n",
      "노원구\n",
      "도봉구\n",
      "동대문구\n",
      "동작구\n",
      "마포구\n",
      "서대문구\n",
      "서초구\n",
      "성동구\n",
      "성북구\n",
      "송파구\n",
      "양천구\n",
      "영등포구\n",
      "용산구\n",
      "은평구\n",
      "종로구\n",
      "중구\n",
      "중랑구\n",
      "강남구\n",
      "강동구\n",
      "강북구\n",
      "강서구\n",
      "관악구\n",
      "광진구\n",
      "구로구\n",
      "금천구\n",
      "노원구\n",
      "도봉구\n",
      "동대문구\n",
      "동작구\n",
      "마포구\n",
      "서대문구\n",
      "서초구\n",
      "성동구\n",
      "성북구\n",
      "송파구\n",
      "양천구\n",
      "영등포구\n",
      "용산구\n",
      "은평구\n",
      "종로구\n",
      "중구\n",
      "중랑구\n"
     ]
    }
   ],
   "source": [
    "data = dust.json()\n",
    "data1 = data['response']['body']['items']\n",
    "\n",
    "for i in range(len(data1)):\n",
    "    city = data1[i]['cityName']\n",
    "    print(city)"
   ]
  }
 ],
 "metadata": {
  "kernelspec": {
   "display_name": "base",
   "language": "python",
   "name": "python3"
  },
  "language_info": {
   "codemirror_mode": {
    "name": "ipython",
    "version": 3
   },
   "file_extension": ".py",
   "mimetype": "text/x-python",
   "name": "python",
   "nbconvert_exporter": "python",
   "pygments_lexer": "ipython3",
   "version": "3.9.13"
  },
  "orig_nbformat": 4
 },
 "nbformat": 4,
 "nbformat_minor": 2
}
