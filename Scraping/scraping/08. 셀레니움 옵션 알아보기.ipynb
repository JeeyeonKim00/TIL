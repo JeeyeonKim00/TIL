{
 "cells": [
  {
   "cell_type": "markdown",
   "id": "965a780b",
   "metadata": {},
   "source": [
    "# User-Agent 부여하기\n",
    "- User-Agent란? 클라이언트가 서버에 접속하는 플랫폼\n",
    "    - 현재 우리가 사용하고 있는 User-Agent: 브라우저(크롬, 사파리....)\n",
    "- 만약 서버에서 크롤링 봇으로 접근하는 것을 차단한다면?\n",
    "    - ex) 브라우저가 아니면 접근 금지!  하도록 서버가 차단할 수도 있음.\n",
    "  "
   ]
  },
  {
   "cell_type": "markdown",
   "id": "12dc34d6",
   "metadata": {},
   "source": [
    "**무신사 접속해보기**"
   ]
  },
  {
   "cell_type": "code",
   "execution_count": 66,
   "id": "abdfa484",
   "metadata": {},
   "outputs": [
    {
     "data": {
      "text/plain": [
       "200"
      ]
     },
     "execution_count": 66,
     "metadata": {},
     "output_type": "execute_result"
    }
   ],
   "source": [
    "import requests\n",
    "MUSINSA_URL = \"https://www.musinsa.com/categories/item/018003\"\n",
    "response = requests.get(MUSINSA_URL)\n",
    "response.status_code"
   ]
  },
  {
   "cell_type": "code",
   "execution_count": 67,
   "id": "0541b2d1",
   "metadata": {
    "scrolled": true
   },
   "outputs": [
    {
     "data": {
      "text/plain": [
       "<Response [403]>"
      ]
     },
     "execution_count": 67,
     "metadata": {},
     "output_type": "execute_result"
    }
   ],
   "source": [
    "MUSINSA_DETAIL_URL =\"https://www.musinsa.com/app/goods/3030422\"\n",
    "response = requests.get(MUSINSA_DETAIL_URL)\n",
    "response\n",
    "\n",
    "#무신사는 detail페이지가 크롤링 막혀있음."
   ]
  },
  {
   "cell_type": "markdown",
   "id": "31e6ff2e",
   "metadata": {},
   "source": [
    "fake_useragent: User Agent를 랜덤으로 만들어줌.\n",
    "- 403에러가 뜨면 fake_user넣어줘도 괜찮음"
   ]
  },
  {
   "cell_type": "code",
   "execution_count": 68,
   "id": "8d35eed5",
   "metadata": {
    "scrolled": true
   },
   "outputs": [
    {
     "data": {
      "text/plain": [
       "{'User-agent': 'Mozilla/5.0 (Macintosh; U; Intel Mac OS X 10_6_1; en-US) AppleWebKit/534.3 (KHTML, like Gecko) Chrome/6.0.472.63 Safari/534.3'}"
      ]
     },
     "execution_count": 68,
     "metadata": {},
     "output_type": "execute_result"
    }
   ],
   "source": [
    "from fake_useragent import UserAgent\n",
    "\n",
    "headers ={'User-agent':UserAgent().chrome}\n",
    "headers"
   ]
  },
  {
   "cell_type": "code",
   "execution_count": 69,
   "id": "20046c2d",
   "metadata": {
    "scrolled": true
   },
   "outputs": [
    {
     "data": {
      "text/plain": [
       "<Response [200]>"
      ]
     },
     "execution_count": 69,
     "metadata": {},
     "output_type": "execute_result"
    }
   ],
   "source": [
    "response = requests.get(MUSINSA_DETAIL_URL, headers= headers)\n",
    "response"
   ]
  },
  {
   "cell_type": "markdown",
   "id": "c718d09d",
   "metadata": {},
   "source": [
    "# Selenium 옵션"
   ]
  },
  {
   "cell_type": "code",
   "execution_count": 51,
   "id": "298b15a1",
   "metadata": {},
   "outputs": [],
   "source": [
    "from selenium import webdriver\n",
    "from selenium.webdriver.chrome.service import Service\n",
    "from webdriver_manager.chrome import ChromeDriverManager\n",
    "\n",
    "# usergent를 임의로 설정할 수 있는 driver 생성 함수\n",
    "def get_chrome_driver_useragent():\n",
    "    chrome_options = webdriver.ChromeOptions()\n",
    "    \n",
    "    chrome_options.add_argument(\"userAgent\")\n",
    "    driver = webdriver.Chrome(\n",
    "        service=Service(ChromeDriverManager().install()),\n",
    "        options=chrome_options\n",
    "    )\n",
    "    \n",
    "    return driver"
   ]
  },
  {
   "cell_type": "code",
   "execution_count": 52,
   "id": "7e5677bd",
   "metadata": {},
   "outputs": [],
   "source": [
    "driver = get_chrome_driver_useragent()"
   ]
  },
  {
   "cell_type": "code",
   "execution_count": 53,
   "id": "b9a60ab5",
   "metadata": {},
   "outputs": [
    {
     "data": {
      "text/plain": [
       "'Mozilla/5.0 (Windows NT 10.0; Win64; x64) AppleWebKit/537.36 (KHTML, like Gecko) Chrome/111.0.0.0 Safari/537.36'"
      ]
     },
     "execution_count": 53,
     "metadata": {},
     "output_type": "execute_result"
    }
   ],
   "source": [
    "driver.execute_script(\"return navigator.userAgent;\")"
   ]
  },
  {
   "cell_type": "code",
   "execution_count": 54,
   "id": "07284541",
   "metadata": {},
   "outputs": [],
   "source": [
    "driver.quit()"
   ]
  },
  {
   "cell_type": "markdown",
   "id": "f2c76bd0",
   "metadata": {},
   "source": [
    "**Selenium으로 크롤링을 할 때 중요한 옵션**\n",
    "- Headless: 브라우저를 화면에 띄우지 않고 컴퓨터 내부에서만 돌아가도록\n",
    "- Windows, Mac같은 GUI(Graphic User Interface) 환경 OS에서는 화면이 뜬다.\n",
    "- Linux같은 경우는 CLI(Command Line Interface) 환경 OS에서는 명령창만 뜬다.\n",
    "- 크롬같은 경우는 메모리를 굉장히 많이 잡아먹는 브라우저라서, 메모리를 아끼기 위해 headless옵션을 쓰기도 함."
   ]
  },
  {
   "cell_type": "code",
   "execution_count": 56,
   "id": "b1e0babe",
   "metadata": {},
   "outputs": [],
   "source": [
    "def get_chrome_driver_headless():\n",
    "    chrome_options = webdriver.ChromeOptions()\n",
    "    \n",
    "    chrome_options.add_argument(\"headless\")\n",
    "    driver = webdriver.Chrome(\n",
    "        service=Service(ChromeDriverManager().install()),\n",
    "        options=chrome_options\n",
    "    )\n",
    "    \n",
    "    return driver"
   ]
  },
  {
   "cell_type": "code",
   "execution_count": 57,
   "id": "909d1218",
   "metadata": {},
   "outputs": [],
   "source": [
    "driver = get_chrome_driver_headless()"
   ]
  },
  {
   "cell_type": "code",
   "execution_count": 59,
   "id": "e2ce47bd",
   "metadata": {},
   "outputs": [],
   "source": [
    "driver.get(\"https://www.naver.com\")"
   ]
  },
  {
   "cell_type": "code",
   "execution_count": 61,
   "id": "74828183",
   "metadata": {},
   "outputs": [
    {
     "data": {
      "text/plain": [
       "'NAVER'"
      ]
     },
     "execution_count": 61,
     "metadata": {},
     "output_type": "execute_result"
    }
   ],
   "source": [
    "driver.title"
   ]
  },
  {
   "cell_type": "code",
   "execution_count": 62,
   "id": "90ff1712",
   "metadata": {},
   "outputs": [],
   "source": [
    "driver.quit()"
   ]
  },
  {
   "cell_type": "markdown",
   "id": "7af9f683",
   "metadata": {},
   "source": [
    "* 셀레니움을 이용한 크롤링은 GUI 환경에서 모든 테스트를 마치고 headless 설정을 하여 CLI환경으로 돌린다."
   ]
  },
  {
   "cell_type": "code",
   "execution_count": null,
   "id": "aa685e6e",
   "metadata": {},
   "outputs": [],
   "source": []
  }
 ],
 "metadata": {
  "kernelspec": {
   "display_name": "Python 3 (ipykernel)",
   "language": "python",
   "name": "python3"
  },
  "language_info": {
   "codemirror_mode": {
    "name": "ipython",
    "version": 3
   },
   "file_extension": ".py",
   "mimetype": "text/x-python",
   "name": "python",
   "nbconvert_exporter": "python",
   "pygments_lexer": "ipython3",
   "version": "3.9.13"
  }
 },
 "nbformat": 4,
 "nbformat_minor": 5
}
