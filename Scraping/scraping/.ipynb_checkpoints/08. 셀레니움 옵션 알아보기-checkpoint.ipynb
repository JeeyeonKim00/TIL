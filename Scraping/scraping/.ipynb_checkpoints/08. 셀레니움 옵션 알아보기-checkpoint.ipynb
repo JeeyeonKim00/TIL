{
 "cells": [
  {
   "cell_type": "markdown",
   "id": "357e53a4",
   "metadata": {},
   "source": [
    "# User-Agent 부여하기\n",
    "- User-Agent란? 클라이언트가 서버에 접속하는 플랫폼\n",
    "    - 현재 우리가 사용하고 있는 User-Agent: 브라우저(크롬, 사파리....)\n",
    "- 만약 서버에서 크롤링 봇으로 접근하는 것을 차단한다면?\n",
    "    - ex) 브라우저가 아니면 접근 금지!  하도록 서버가 차단할 수도 있음.\n",
    "  "
   ]
  },
  {
   "cell_type": "markdown",
   "id": "99f6dcf8",
   "metadata": {},
   "source": [
    "**무신사 접속해보기**"
   ]
  },
  {
   "cell_type": "code",
   "execution_count": 2,
   "id": "8ea5a5ac",
   "metadata": {},
   "outputs": [
    {
     "data": {
      "text/plain": [
       "200"
      ]
     },
     "execution_count": 2,
     "metadata": {},
     "output_type": "execute_result"
    }
   ],
   "source": [
    "import requests\n",
    "MUSINSA_URL = \"https://www.musinsa.com/categories/item/018003\"\n",
    "response = requests.get(MUSINSA_URL)\n",
    "response.status_code"
   ]
  },
  {
   "cell_type": "code",
   "execution_count": 3,
   "id": "64c0f69a",
   "metadata": {
    "scrolled": true
   },
   "outputs": [
    {
     "data": {
      "text/plain": [
       "<Response [403]>"
      ]
     },
     "execution_count": 3,
     "metadata": {},
     "output_type": "execute_result"
    }
   ],
   "source": [
    "MUSINSA_DETAIL_URL =\"https://www.musinsa.com/app/goods/3030422\"\n",
    "response = requests.get(MUSINSA_DETAIL_URL)\n",
    "response"
   ]
  },
  {
   "cell_type": "markdown",
   "id": "28ef1b70",
   "metadata": {},
   "source": [
    "fake_useragent: User Agent를 랜덤으로 만들어줌.\n",
    "- 403에러가 뜨면 fake_user넣어줘도 괜찮음"
   ]
  },
  {
   "cell_type": "code",
   "execution_count": 20,
   "id": "fb2c44ef",
   "metadata": {
    "scrolled": true
   },
   "outputs": [
    {
     "data": {
      "text/plain": [
       "{'User-agent': 'Mozilla/5.0 (Macintosh; U; Intel Mac OS X 10_6_4; en-US) AppleWebKit/534.17 (KHTML, like Gecko) Chrome/11.0.655.0 Safari/534.17'}"
      ]
     },
     "execution_count": 20,
     "metadata": {},
     "output_type": "execute_result"
    }
   ],
   "source": [
    "from fake_useragent import UserAgent\n",
    "\n",
    "headers ={'User-agent':UserAgent().chrome}\n",
    "headers"
   ]
  },
  {
   "cell_type": "code",
   "execution_count": 21,
   "id": "069d9090",
   "metadata": {
    "scrolled": true
   },
   "outputs": [
    {
     "data": {
      "text/plain": [
       "<Response [200]>"
      ]
     },
     "execution_count": 21,
     "metadata": {},
     "output_type": "execute_result"
    }
   ],
   "source": [
    "response = requests.get(MUSINSA_DETAIL_URL, headers= headers)\n",
    "response"
   ]
  },
  {
   "cell_type": "markdown",
   "id": "b6699f74",
   "metadata": {},
   "source": [
    "# Selenium 옵션"
   ]
  },
  {
   "cell_type": "code",
   "execution_count": 51,
   "id": "42300cfd",
   "metadata": {},
   "outputs": [],
   "source": [
    "from selenium import webdriver\n",
    "from selenium.webdriver.chrome.service import Service\n",
    "from webdriver_manager.chrome import ChromeDriverManager\n",
    "\n",
    "# usergent를 임의로 설정할 수 있는 driver 생성 함수\n",
    "def get_chrome_driver_useragent():\n",
    "    chrome_options = webdriver.ChromeOptions()\n",
    "    \n",
    "    chrome_options.add_argument(\"userAgent\")\n",
    "    driver = webdriver.Chrome(\n",
    "        service=Service(ChromeDriverManager().install()),\n",
    "        options=chrome_options\n",
    "    )\n",
    "    \n",
    "    return driver"
   ]
  },
  {
   "cell_type": "code",
   "execution_count": 52,
   "id": "e6bf8244",
   "metadata": {},
   "outputs": [],
   "source": [
    "driver = get_chrome_driver_useragent()"
   ]
  },
  {
   "cell_type": "code",
   "execution_count": 53,
   "id": "ec91f8e7",
   "metadata": {},
   "outputs": [
    {
     "data": {
      "text/plain": [
       "'Mozilla/5.0 (Windows NT 10.0; Win64; x64) AppleWebKit/537.36 (KHTML, like Gecko) Chrome/111.0.0.0 Safari/537.36'"
      ]
     },
     "execution_count": 53,
     "metadata": {},
     "output_type": "execute_result"
    }
   ],
   "source": [
    "driver.execute_script(\"return navigator.userAgent;\")"
   ]
  },
  {
   "cell_type": "code",
   "execution_count": 54,
   "id": "173e42dd",
   "metadata": {},
   "outputs": [],
   "source": [
    "driver.quit()"
   ]
  },
  {
   "cell_type": "markdown",
   "id": "cd997210",
   "metadata": {},
   "source": [
    "**Selenium으로 크롤링을 할 때 중요한 옵션**\n",
    "- Headless: 브라우저를 화면에 띄우지 않고 컴퓨터 내부에서만 돌아가도록\n",
    "- Windows, Mac같은 GUI(Graphic User Interface) 환경 OS에서는 화면이 뜬다.\n",
    "- Linux같은 경우는 CLI(Command Line Interface) 환경 OS에서는 명령창만 뜬다.\n",
    "- 크롬같은 경우는 메모리를 굉장히 많이 잡아먹는 브라우저라서, 메모리를 아끼기 위해 headless옵션을 쓰기도 함."
   ]
  },
  {
   "cell_type": "code",
   "execution_count": 56,
   "id": "0e5aebea",
   "metadata": {},
   "outputs": [],
   "source": [
    "def get_chrome_driver_headless():\n",
    "    chrome_options = webdriver.ChromeOptions()\n",
    "    \n",
    "    chrome_options.add_argument(\"headless\")\n",
    "    driver = webdriver.Chrome(\n",
    "        service=Service(ChromeDriverManager().install()),\n",
    "        options=chrome_options\n",
    "    )\n",
    "    \n",
    "    return driver"
   ]
  },
  {
   "cell_type": "code",
   "execution_count": 57,
   "id": "35b446c5",
   "metadata": {},
   "outputs": [],
   "source": [
    "driver = get_chrome_driver_headless()"
   ]
  },
  {
   "cell_type": "code",
   "execution_count": 59,
   "id": "ffb9f5c4",
   "metadata": {},
   "outputs": [],
   "source": [
    "driver.get(\"https://www.naver.com\")"
   ]
  },
  {
   "cell_type": "code",
   "execution_count": 61,
   "id": "ddf62a99",
   "metadata": {},
   "outputs": [
    {
     "data": {
      "text/plain": [
       "'NAVER'"
      ]
     },
     "execution_count": 61,
     "metadata": {},
     "output_type": "execute_result"
    }
   ],
   "source": [
    "driver.title"
   ]
  },
  {
   "cell_type": "code",
   "execution_count": 62,
   "id": "fa478091",
   "metadata": {},
   "outputs": [],
   "source": [
    "driver.quit()"
   ]
  },
  {
   "cell_type": "markdown",
   "id": "1a88c3d4",
   "metadata": {},
   "source": [
    "* 셀레니움을 이용한 크롤링은 GUI 환경에서 모든 테스트를 마치고 headless 설정을 하여 CLI환경으로 돌린다."
   ]
  },
  {
   "cell_type": "code",
   "execution_count": null,
   "id": "e6f935c1",
   "metadata": {},
   "outputs": [],
   "source": []
  }
 ],
 "metadata": {
  "kernelspec": {
   "display_name": "Python 3 (ipykernel)",
   "language": "python",
   "name": "python3"
  },
  "language_info": {
   "codemirror_mode": {
    "name": "ipython",
    "version": 3
   },
   "file_extension": ".py",
   "mimetype": "text/x-python",
   "name": "python",
   "nbconvert_exporter": "python",
   "pygments_lexer": "ipython3",
   "version": "3.9.13"
  }
 },
 "nbformat": 4,
 "nbformat_minor": 5
}
