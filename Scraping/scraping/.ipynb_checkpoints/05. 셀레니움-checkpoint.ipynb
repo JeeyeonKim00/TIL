{
 "cells": [
  {
   "cell_type": "code",
   "execution_count": 52,
   "id": "5ed92abc",
   "metadata": {},
   "outputs": [
    {
     "name": "stdout",
     "output_type": "stream",
     "text": [
      "Defaulting to user installation because normal site-packages is not writeable\n",
      "Requirement already satisfied: selenium in c:\\users\\jeeyeon kim\\appdata\\roaming\\python\\python39\\site-packages (4.8.3)\n",
      "Requirement already satisfied: urllib3[socks]~=1.26 in c:\\programdata\\anaconda3\\lib\\site-packages (from selenium) (1.26.11)\n",
      "Requirement already satisfied: certifi>=2021.10.8 in c:\\programdata\\anaconda3\\lib\\site-packages (from selenium) (2022.9.14)\n",
      "Requirement already satisfied: trio~=0.17 in c:\\users\\jeeyeon kim\\appdata\\roaming\\python\\python39\\site-packages (from selenium) (0.22.0)\n",
      "Requirement already satisfied: trio-websocket~=0.9 in c:\\users\\jeeyeon kim\\appdata\\roaming\\python\\python39\\site-packages (from selenium) (0.10.2)\n",
      "Requirement already satisfied: sortedcontainers in c:\\programdata\\anaconda3\\lib\\site-packages (from trio~=0.17->selenium) (2.4.0)\n",
      "Requirement already satisfied: idna in c:\\programdata\\anaconda3\\lib\\site-packages (from trio~=0.17->selenium) (3.3)\n",
      "Requirement already satisfied: async-generator>=1.9 in c:\\users\\jeeyeon kim\\appdata\\roaming\\python\\python39\\site-packages (from trio~=0.17->selenium) (1.10)\n",
      "Requirement already satisfied: outcome in c:\\users\\jeeyeon kim\\appdata\\roaming\\python\\python39\\site-packages (from trio~=0.17->selenium) (1.2.0)\n",
      "Requirement already satisfied: attrs>=19.2.0 in c:\\programdata\\anaconda3\\lib\\site-packages (from trio~=0.17->selenium) (21.4.0)\n",
      "Requirement already satisfied: sniffio in c:\\programdata\\anaconda3\\lib\\site-packages (from trio~=0.17->selenium) (1.2.0)\n",
      "Requirement already satisfied: exceptiongroup>=1.0.0rc9 in c:\\users\\jeeyeon kim\\appdata\\roaming\\python\\python39\\site-packages (from trio~=0.17->selenium) (1.1.1)\n",
      "Requirement already satisfied: cffi>=1.14 in c:\\programdata\\anaconda3\\lib\\site-packages (from trio~=0.17->selenium) (1.15.1)\n",
      "Requirement already satisfied: wsproto>=0.14 in c:\\users\\jeeyeon kim\\appdata\\roaming\\python\\python39\\site-packages (from trio-websocket~=0.9->selenium) (1.2.0)\n",
      "Requirement already satisfied: PySocks!=1.5.7,<2.0,>=1.5.6 in c:\\programdata\\anaconda3\\lib\\site-packages (from urllib3[socks]~=1.26->selenium) (1.7.1)\n",
      "Requirement already satisfied: pycparser in c:\\programdata\\anaconda3\\lib\\site-packages (from cffi>=1.14->trio~=0.17->selenium) (2.21)\n",
      "Requirement already satisfied: h11<1,>=0.9.0 in c:\\users\\jeeyeon kim\\appdata\\roaming\\python\\python39\\site-packages (from wsproto>=0.14->trio-websocket~=0.9->selenium) (0.14.0)\n"
     ]
    }
   ],
   "source": [
    "!pip install selenium"
   ]
  },
  {
   "cell_type": "code",
   "execution_count": 53,
   "id": "2a5a2764",
   "metadata": {},
   "outputs": [],
   "source": [
    "from selenium import webdriver"
   ]
  },
  {
   "cell_type": "code",
   "execution_count": 54,
   "id": "01a475fb",
   "metadata": {
    "scrolled": true
   },
   "outputs": [
    {
     "name": "stderr",
     "output_type": "stream",
     "text": [
      "C:\\Users\\JeeYeon Kim\\AppData\\Local\\Temp\\ipykernel_12592\\2299280398.py:1: DeprecationWarning: executable_path has been deprecated, please pass in a Service object\n",
      "  driver = webdriver.Chrome('./chromedriver')\n"
     ]
    }
   ],
   "source": [
    "driver = webdriver.Chrome('./chromedriver')"
   ]
  },
  {
   "cell_type": "markdown",
   "id": "1d0a15bf",
   "metadata": {},
   "source": [
    "### driver 객체를 통해 테스트 브라우저를 컨트롤 할 수 있다."
   ]
  },
  {
   "cell_type": "code",
   "execution_count": 55,
   "id": "07f1c26d",
   "metadata": {},
   "outputs": [],
   "source": [
    "driver.get('https://www.naver.com')"
   ]
  },
  {
   "cell_type": "markdown",
   "id": "e06a313e",
   "metadata": {},
   "source": [
    "### driver를 통해 Element 제어"
   ]
  },
  {
   "cell_type": "code",
   "execution_count": 56,
   "id": "3093c15b",
   "metadata": {},
   "outputs": [],
   "source": [
    "# 엘리먼트를 제어하려면 엘리먼트의 정보가 필요\n",
    "# --엘리먼트의 정보: 태그명. 선택자, 속성 등등\n",
    "from selenium.webdriver.common.by import By"
   ]
  },
  {
   "cell_type": "code",
   "execution_count": 57,
   "id": "e40da7bd",
   "metadata": {},
   "outputs": [
    {
     "data": {
      "text/plain": [
       "<selenium.webdriver.remote.webelement.WebElement (session=\"c52e0c77b9e5a7f446863f716d9f7b4b\", element=\"67464d02-2cef-41c9-bd2c-265349e7bd66\")>"
      ]
     },
     "execution_count": 57,
     "metadata": {},
     "output_type": "execute_result"
    }
   ],
   "source": [
    "query_elem= driver.find_element(\n",
    "                By.CSS_SELECTOR, \n",
    "                \"#query\")\n",
    "\n",
    "query_elem"
   ]
  },
  {
   "cell_type": "markdown",
   "id": "7993e093",
   "metadata": {},
   "source": [
    "- 파이썬 코드를 통해 element에 어떤 값을 입력 -send.keys"
   ]
  },
  {
   "cell_type": "code",
   "execution_count": 58,
   "id": "26ede5b1",
   "metadata": {},
   "outputs": [],
   "source": [
    "query_elem.send_keys('집에 가고 싶다.')"
   ]
  },
  {
   "cell_type": "code",
   "execution_count": 59,
   "id": "89847ebf",
   "metadata": {},
   "outputs": [],
   "source": [
    "query_elem.send_keys('바르셀로나')"
   ]
  },
  {
   "cell_type": "markdown",
   "id": "84e4a954",
   "metadata": {},
   "source": [
    "- 원래 있던 값 삭제 =clear"
   ]
  },
  {
   "cell_type": "code",
   "execution_count": 60,
   "id": "fe5115d9",
   "metadata": {},
   "outputs": [],
   "source": [
    "query_elem.clear()"
   ]
  },
  {
   "cell_type": "code",
   "execution_count": 61,
   "id": "8f055aa0",
   "metadata": {},
   "outputs": [],
   "source": [
    "query_elem.send_keys('NewJeans')"
   ]
  },
  {
   "cell_type": "markdown",
   "id": "76b9f85d",
   "metadata": {},
   "source": [
    "- 검색버튼 누르기"
   ]
  },
  {
   "cell_type": "code",
   "execution_count": 62,
   "id": "4b8a2821",
   "metadata": {},
   "outputs": [
    {
     "data": {
      "text/plain": [
       "<selenium.webdriver.remote.webelement.WebElement (session=\"c52e0c77b9e5a7f446863f716d9f7b4b\", element=\"1e55eb3e-e70b-4b5c-abd6-72dffab9a060\")>"
      ]
     },
     "execution_count": 62,
     "metadata": {},
     "output_type": "execute_result"
    }
   ],
   "source": [
    "\n",
    "search_btn_elem = driver.find_element(\n",
    "            By.CSS_SELECTOR,\n",
    "            '#search_btn')\n",
    "\n",
    "search_btn_elem"
   ]
  },
  {
   "cell_type": "code",
   "execution_count": 63,
   "id": "74533c2e",
   "metadata": {},
   "outputs": [],
   "source": [
    "search_btn_elem.click()"
   ]
  },
  {
   "cell_type": "markdown",
   "id": "ddf417a7",
   "metadata": {},
   "source": [
    "- 브라우저 창(window) 크기 조절하기"
   ]
  },
  {
   "cell_type": "code",
   "execution_count": 64,
   "id": "57278514",
   "metadata": {},
   "outputs": [],
   "source": [
    "driver.set_window_size(300, 800)"
   ]
  },
  {
   "cell_type": "markdown",
   "id": "5ba976e8",
   "metadata": {},
   "source": [
    "- 스크롤 위치 조절 - javascript 활용\n",
    "- 자바 스크립트를 문자열로 작성해서 실행\n",
    "- 무한 스크롤링 할 때 좋음\n"
   ]
  },
  {
   "cell_type": "code",
   "execution_count": 65,
   "id": "42f8cfa7",
   "metadata": {},
   "outputs": [],
   "source": [
    "driver.execute_script('window.scrollTo(100,7000)')"
   ]
  },
  {
   "cell_type": "markdown",
   "id": "08df533e",
   "metadata": {},
   "source": [
    "- 사용이 끝낫으면 - quit"
   ]
  },
  {
   "cell_type": "code",
   "execution_count": 66,
   "id": "4df5a46b",
   "metadata": {},
   "outputs": [],
   "source": [
    "driver.quit()"
   ]
  },
  {
   "cell_type": "markdown",
   "id": "54eea96a",
   "metadata": {},
   "source": [
    "driver.quit()으로 종료하지 않으면 테스트 브라우저가 메모리에 사웆하는 경우가 종종 있음. \n",
    "컴퓨터 느려짐"
   ]
  },
  {
   "cell_type": "code",
   "execution_count": null,
   "id": "d44c6c4d",
   "metadata": {},
   "outputs": [],
   "source": []
  },
  {
   "cell_type": "code",
   "execution_count": null,
   "id": "fbc61afd",
   "metadata": {},
   "outputs": [],
   "source": []
  }
 ],
 "metadata": {
  "kernelspec": {
   "display_name": "Python 3 (ipykernel)",
   "language": "python",
   "name": "python3"
  },
  "language_info": {
   "codemirror_mode": {
    "name": "ipython",
    "version": 3
   },
   "file_extension": ".py",
   "mimetype": "text/x-python",
   "name": "python",
   "nbconvert_exporter": "python",
   "pygments_lexer": "ipython3",
   "version": "3.9.13"
  }
 },
 "nbformat": 4,
 "nbformat_minor": 5
}
