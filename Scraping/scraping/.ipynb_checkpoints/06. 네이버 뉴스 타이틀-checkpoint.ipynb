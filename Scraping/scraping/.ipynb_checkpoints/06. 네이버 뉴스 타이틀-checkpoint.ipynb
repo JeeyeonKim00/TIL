{
 "cells": [
  {
   "cell_type": "code",
   "execution_count": 63,
   "id": "1f86db36",
   "metadata": {},
   "outputs": [
    {
     "name": "stdout",
     "output_type": "stream",
     "text": [
      "Defaulting to user installation because normal site-packages is not writeable\n",
      "Requirement already satisfied: webdriver_manager in c:\\users\\jeeyeon kim\\appdata\\roaming\\python\\python39\\site-packages (3.8.5)\n",
      "Requirement already satisfied: tqdm in c:\\programdata\\anaconda3\\lib\\site-packages (from webdriver_manager) (4.64.1)\n",
      "Requirement already satisfied: requests in c:\\programdata\\anaconda3\\lib\\site-packages (from webdriver_manager) (2.28.1)\n",
      "Requirement already satisfied: python-dotenv in c:\\users\\jeeyeon kim\\appdata\\roaming\\python\\python39\\site-packages (from webdriver_manager) (1.0.0)\n",
      "Requirement already satisfied: packaging in c:\\programdata\\anaconda3\\lib\\site-packages (from webdriver_manager) (21.3)\n",
      "Requirement already satisfied: pyparsing!=3.0.5,>=2.0.2 in c:\\programdata\\anaconda3\\lib\\site-packages (from packaging->webdriver_manager) (3.0.9)\n",
      "Requirement already satisfied: certifi>=2017.4.17 in c:\\programdata\\anaconda3\\lib\\site-packages (from requests->webdriver_manager) (2022.9.14)\n",
      "Requirement already satisfied: urllib3<1.27,>=1.21.1 in c:\\programdata\\anaconda3\\lib\\site-packages (from requests->webdriver_manager) (1.26.11)\n",
      "Requirement already satisfied: charset-normalizer<3,>=2 in c:\\programdata\\anaconda3\\lib\\site-packages (from requests->webdriver_manager) (2.0.4)\n",
      "Requirement already satisfied: idna<4,>=2.5 in c:\\programdata\\anaconda3\\lib\\site-packages (from requests->webdriver_manager) (3.3)\n",
      "Requirement already satisfied: colorama in c:\\programdata\\anaconda3\\lib\\site-packages (from tqdm->webdriver_manager) (0.4.5)\n"
     ]
    }
   ],
   "source": [
    "!pip install webdriver_manager"
   ]
  },
  {
   "cell_type": "code",
   "execution_count": 64,
   "id": "d48eb505",
   "metadata": {},
   "outputs": [],
   "source": [
    "from selenium import webdriver\n",
    "from selenium.webdriver.chrome.service import Service\n",
    "from webdriver_manager.chrome import ChromeDriverManager"
   ]
  },
  {
   "cell_type": "code",
   "execution_count": 89,
   "id": "7fb86f1e",
   "metadata": {},
   "outputs": [],
   "source": [
    "def get_chrome_driver():\n",
    "    # 1. 브라우저 옵션 세팅\n",
    "    chrome_options = webdriver.ChromeOptions()\n",
    "    \n",
    "    # 2. driver 생성\n",
    "    driver = webdriver.Chrome(\n",
    "            service = Service(ChromeDriverManager().install()),\n",
    "            options = chrome_options)\n",
    "    return driver\n",
    "\n",
    "# 어제 했던거\n",
    "# driver = webdriver.Chrome('./chromedriver')"
   ]
  },
  {
   "cell_type": "code",
   "execution_count": 90,
   "id": "f951e2a8",
   "metadata": {
    "scrolled": true
   },
   "outputs": [],
   "source": [
    "driver = get_chrome_driver()"
   ]
  },
  {
   "cell_type": "code",
   "execution_count": 91,
   "id": "5e5e77c2",
   "metadata": {},
   "outputs": [],
   "source": [
    "NAVER_NEWS_URL ='https://news.naver.com/main/main.naver?mode=LSD&mid=shm&sid1=105#&date=%2000:00:00&page=1'"
   ]
  },
  {
   "cell_type": "markdown",
   "id": "c5bf7f3a",
   "metadata": {},
   "source": [
    "**셀레니움 사용해 html 크롤링 하는 방법**\n",
    "- find_element(s) 통해 가져오기\n",
    "- page_source를 활용하여 BeautifulSoup과 연동해서 사용하기"
   ]
  },
  {
   "cell_type": "code",
   "execution_count": 92,
   "id": "ab0ae09f",
   "metadata": {},
   "outputs": [],
   "source": [
    "driver.get(NAVER_NEWS_URL)"
   ]
  },
  {
   "cell_type": "markdown",
   "id": "1f5e1f59",
   "metadata": {},
   "source": [
    "**`page_source` +`BeautifulSoup` 활용하기**"
   ]
  },
  {
   "cell_type": "code",
   "execution_count": 93,
   "id": "1c32364f",
   "metadata": {},
   "outputs": [],
   "source": [
    "page = driver.page_source"
   ]
  },
  {
   "cell_type": "code",
   "execution_count": 94,
   "id": "ff0808e8",
   "metadata": {},
   "outputs": [],
   "source": [
    "from bs4 import BeautifulSoup\n",
    "\n",
    "soup = BeautifulSoup(page, 'html.parser')\n"
   ]
  },
  {
   "cell_type": "code",
   "execution_count": 96,
   "id": "c9d96c29",
   "metadata": {
    "scrolled": false
   },
   "outputs": [
    {
     "data": {
      "text/plain": [
       "[<li><dl><dt class=\"photo\"><a class=\"nclicks(itn.airscont,'880000AC_000000000000000002145325', 'airsGParam', '0', 'news_sec_v2.0', 'p5wAzLl7opuK9gUd')\" href=\"https://n.news.naver.com/mnews/article/138/0002145325?sid=105\"><img alt=\"\" height=\"72\" onerror=\"javascript:this.src='https://ssl.pstatic.net/static.news/image/news/2009/noimage_106x72.png';\" src=\"https://mimgnews.pstatic.net/image/origin/138/2023/03/30/2145325.jpg?type=nf106_72\" width=\"106\"/></a></dt><dt><a class=\"nclicks(itn.airscont,'880000AC_000000000000000002145325', 'airsGParam', '0', 'news_sec_v2.0', 'p5wAzLl7opuK9gUd')\" href=\"https://n.news.naver.com/mnews/article/138/0002145325?sid=105\">[NES2023] 챗GPT로 촉발된 AI, 보안업계도 AI 삼매경</a></dt><dd class=\"\" data-comment=\"{gno:'news138,0002145325',params:{sid1:'105'},nclicks:'cmt.count',type:'sectionHomeList'}\"><span class=\"lede\">기업의 새로운 보안 위협이자 대응 수단으로 인공지능(AI)이 대두되고 있다. A) …</span><span class=\"writing\">디지털데일리</span><span class=\"date is_new\">35분전</span></dd></dl></li>,\n",
       " <li><dl><dt class=\"photo\"><a class=\"nclicks(itn.airscont,'880000AC_000000000000000002145323', 'airsGParam', '0', 'news_sec_v2.0', 'p5wAzLl7opuK9gUd')\" href=\"https://n.news.naver.com/mnews/article/138/0002145323?sid=105\"><img alt=\"\" height=\"72\" onerror=\"javascript:this.src='https://ssl.pstatic.net/static.news/image/news/2009/noimage_106x72.png';\" src=\"https://mimgnews.pstatic.net/image/origin/138/2023/03/30/2145323.jpg?type=nf106_72\" width=\"106\"/></a></dt><dt><a class=\"nclicks(itn.airscont,'880000AC_000000000000000002145323', 'airsGParam', '0', 'news_sec_v2.0', 'p5wAzLl7opuK9gUd')\" href=\"https://n.news.naver.com/mnews/article/138/0002145323?sid=105\">한상혁 방통위원장 구속영장 기각…\"혐의에 대해 다툼 여지有\"</a></dt><dd class=\"\" data-comment=\"{gno:'news138,0002145323',params:{sid1:'105'},nclicks:'cmt.count',type:'sectionHomeList'}\"><span class=\"lede\">법원이 TV조선 재승인 심사 조작 의혹과 관련 한상혁 방송통신위원장에 대해 검찰이 …</span><span class=\"writing\">디지털데일리</span><span class=\"date is_new\">38분전</span></dd></dl></li>,\n",
       " <li><dl><dt class=\"photo\"><a class=\"nclicks(itn.airscont,'8800011E_000000000000000002287105', 'airsGParam', '0', 'news_sec_v2.0', 'p5wAzLl7opuK9gUd')\" href=\"https://n.news.naver.com/mnews/article/092/0002287105?sid=105\"><img alt=\"\" height=\"72\" onerror=\"javascript:this.src='https://ssl.pstatic.net/static.news/image/news/2009/noimage_106x72.png';\" src=\"https://mimgnews.pstatic.net/image/origin/092/2023/03/30/2287105.jpg?type=nf106_72\" width=\"106\"/></a></dt><dt><a class=\"nclicks(itn.airscont,'8800011E_000000000000000002287105', 'airsGParam', '0', 'news_sec_v2.0', 'p5wAzLl7opuK9gUd')\" href=\"https://n.news.naver.com/mnews/article/092/0002287105?sid=105\">소액생계비대출에 '구름떼'…저소득자 DSR 큰 폭 상승 탓</a></dt><dd class=\"\" data-comment=\"{gno:'news092,0002287105',params:{sid1:'105'},nclicks:'cmt.count',type:'sectionHomeList'}\"><span class=\"lede\">최대 100만원을 빌려주는 소액 생계비 대출을 받기 위해 하루에 1천명 이상되는  …</span><span class=\"writing\">ZDNet Korea</span><span class=\"date is_new\">43분전</span></dd></dl></li>,\n",
       " <li><dl><dt class=\"photo\"><a class=\"nclicks(itn.airscont,'8800011E_000000000000000002287104', 'airsGParam', '0', 'news_sec_v2.0', 'p5wAzLl7opuK9gUd')\" href=\"https://n.news.naver.com/mnews/article/092/0002287104?sid=105\"><img alt=\"\" height=\"72\" onerror=\"javascript:this.src='https://ssl.pstatic.net/static.news/image/news/2009/noimage_106x72.png';\" src=\"https://mimgnews.pstatic.net/image/origin/092/2023/03/30/2287104.jpg?type=nf106_72\" width=\"106\"/></a></dt><dt><a class=\"nclicks(itn.airscont,'8800011E_000000000000000002287104', 'airsGParam', '0', 'news_sec_v2.0', 'p5wAzLl7opuK9gUd')\" href=\"https://n.news.naver.com/mnews/article/092/0002287104?sid=105\">인텔 \"5세대 제온 스케일러블 CPU 올 4분기 출시\"</a></dt><dd class=\"\" data-comment=\"{gno:'news092,0002287104',params:{sid1:'105'},nclicks:'cmt.count',type:'sectionHomeList'}\"><span class=\"lede\">인텔이 29일(미국 현지시간) 투자자 대상으로 데이터센터·AI 사업 부문 웨비나를 …</span><span class=\"writing\">ZDNet Korea</span><span class=\"date is_new\">43분전</span></dd></dl></li>,\n",
       " <li><dl><dt class=\"photo\"><a class=\"nclicks(itn.airscont,'8800011E_000000000000000002287100', 'airsGParam', '0', 'news_sec_v2.0', 'p5wAzLl7opuK9gUd')\" href=\"https://n.news.naver.com/mnews/article/092/0002287100?sid=105\"><img alt=\"\" height=\"72\" onerror=\"javascript:this.src='https://ssl.pstatic.net/static.news/image/news/2009/noimage_106x72.png';\" src=\"https://mimgnews.pstatic.net/image/origin/092/2023/03/30/2287100.jpg?type=nf106_72\" width=\"106\"/></a></dt><dt><a class=\"nclicks(itn.airscont,'8800011E_000000000000000002287100', 'airsGParam', '0', 'news_sec_v2.0', 'p5wAzLl7opuK9gUd')\" href=\"https://n.news.naver.com/mnews/article/092/0002287100?sid=105\">\"메일로 해고 통보한 메타 '끔찍'…저커버그 지도력 형편없어\"</a></dt><dd class=\"\" data-comment=\"{gno:'news092,0002287100',params:{sid1:'105'},nclicks:'cmt.count',type:'sectionHomeList'}\"><span class=\"lede\">메타가 작년 말 대규모 구조조정에 이어 향후 몇 달간 추가로 감원 계획을 발표한  …</span><span class=\"writing\">ZDNet Korea</span><span class=\"date is_new\">58분전</span></dd></dl></li>,\n",
       " <li><dl><dt class=\"photo\"><a class=\"nclicks(itn.airscont,'8800011E_000000000000000002287098', 'airsGParam', '0', 'news_sec_v2.0', 'p5wAzLl7opuK9gUd')\" href=\"https://n.news.naver.com/mnews/article/092/0002287098?sid=105\"><img alt=\"\" height=\"72\" onerror=\"javascript:this.src='https://ssl.pstatic.net/static.news/image/news/2009/noimage_106x72.png';\" src=\"https://mimgnews.pstatic.net/image/origin/092/2023/03/30/2287098.jpg?type=nf106_72\" width=\"106\"/></a></dt><dt><a class=\"nclicks(itn.airscont,'8800011E_000000000000000002287098', 'airsGParam', '0', 'news_sec_v2.0', 'p5wAzLl7opuK9gUd')\" href=\"https://n.news.naver.com/mnews/article/092/0002287098?sid=105\">챗GPT 시대의 노동은 수행이라기보다 지시다</a></dt><dd class=\"\" data-comment=\"{gno:'news092,0002287098',params:{sid1:'105'},nclicks:'cmt.count',type:'sectionHomeList'}\"><span class=\"lede\">역사적 유물론에 따르면 사회구성체는 여러 단계로 변화 발전해왔다. 그런데 따지고  …</span><span class=\"writing\">ZDNet Korea</span><span class=\"date is_outdated\">1시간전</span></dd></dl></li>,\n",
       " <li><dl><dt class=\"photo\"><a class=\"nclicks(itn.airscont,'8800011E_000000000000000002287097', 'airsGParam', '0', 'news_sec_v2.0', 'p5wAzLl7opuK9gUd')\" href=\"https://n.news.naver.com/mnews/article/092/0002287097?sid=105\"><img alt=\"\" height=\"72\" onerror=\"javascript:this.src='https://ssl.pstatic.net/static.news/image/news/2009/noimage_106x72.png';\" src=\"https://mimgnews.pstatic.net/image/origin/092/2023/03/30/2287097.jpg?type=nf106_72\" width=\"106\"/></a></dt><dt><a class=\"nclicks(itn.airscont,'8800011E_000000000000000002287097', 'airsGParam', '0', 'news_sec_v2.0', 'p5wAzLl7opuK9gUd')\" href=\"https://n.news.naver.com/mnews/article/092/0002287097?sid=105\">\"아이폰15 프로, 배터리 방전되도 버튼 작동\"</a></dt><dd class=\"\" data-comment=\"{gno:'news092,0002287097',params:{sid1:'105'},nclicks:'cmt.count',type:'sectionHomeList'}\"><span class=\"lede\">올 가을 출시되는 아이폰15 프로 모델에는 새로운 초저전력 마이크로프로세서를 탑재 …</span><span class=\"writing\">ZDNet Korea</span><span class=\"date is_outdated\">1시간전</span></dd></dl></li>,\n",
       " <li><dl><dt class=\"photo\"><a class=\"nclicks(itn.airscont,'88000385_000000000000000005238344', 'airsGParam', '0', 'news_sec_v2.0', 'p5wAzLl7opuK9gUd')\" href=\"https://n.news.naver.com/mnews/article/277/0005238344?sid=105\"><img alt=\"\" height=\"72\" onerror=\"javascript:this.src='https://ssl.pstatic.net/static.news/image/news/2009/noimage_106x72.png';\" src=\"https://mimgnews.pstatic.net/image/origin/277/2023/03/30/5238344.jpg?type=nf106_72\" width=\"106\"/></a></dt><dt><a class=\"nclicks(itn.airscont,'88000385_000000000000000005238344', 'airsGParam', '0', 'news_sec_v2.0', 'p5wAzLl7opuK9gUd')\" href=\"https://n.news.naver.com/mnews/article/277/0005238344?sid=105\">[CEO맞수]토종 OTT 1위 싸움…티빙 양지을 VS 웨이브 이태현</a></dt><dd class=\"\" data-comment=\"{gno:'news277,0005238344',params:{sid1:'105'},nclicks:'cmt.count',type:'sectionHomeList'}\"><span class=\"lede\">티빙과 웨이브는 넷플릭스가 국내 온라인동영상서비스(OTT) 시장 1위를 차지한 가 …</span><span class=\"writing\">아시아경제</span><span class=\"date is_outdated\">1시간전</span></dd></dl></li>,\n",
       " <li><dl><dt class=\"photo\"><a class=\"nclicks(itn.airscont,'8800011E_000000000000000002287093', 'airsGParam', '0', 'news_sec_v2.0', 'p5wAzLl7opuK9gUd')\" href=\"https://n.news.naver.com/mnews/article/092/0002287093?sid=105\"><img alt=\"\" height=\"72\" onerror=\"javascript:this.src='https://ssl.pstatic.net/static.news/image/news/2009/noimage_106x72.png';\" src=\"https://mimgnews.pstatic.net/image/origin/092/2023/03/30/2287093.jpg?type=nf106_72\" width=\"106\"/></a></dt><dt><a class=\"nclicks(itn.airscont,'8800011E_000000000000000002287093', 'airsGParam', '0', 'news_sec_v2.0', 'p5wAzLl7opuK9gUd')\" href=\"https://n.news.naver.com/mnews/article/092/0002287093?sid=105\">'디지털 화폐' 효용 모색 한창…미국은 미온적, 왜?</a></dt><dd class=\"\" data-comment=\"{gno:'news092,0002287093',params:{sid1:'105'},nclicks:'cmt.count',type:'sectionHomeList'}\"><span class=\"lede\">세계 각국에서 디지털화폐(CBDC)의 효용을 따져보는 작업이 한창 진행되고 있다. …</span><span class=\"writing\">ZDNet Korea</span><span class=\"date is_outdated\">1시간전</span></dd></dl></li>,\n",
       " <li><dl><dt class=\"photo\"><a class=\"nclicks(itn.airscont,'08138262_000000000000000000591250', 'airsGParam', '0', 'news_sec_v2.0', 'p5wAzLl7opuK9gUd')\" href=\"https://n.news.naver.com/mnews/article/422/0000591250?sid=105\"><img alt=\"\" height=\"72\" onerror=\"javascript:this.src='https://ssl.pstatic.net/static.news/image/news/2009/noimage_106x72.png';\" src=\"https://mimgnews.pstatic.net/image/origin/422/2023/03/30/591250.jpg?type=nf106_72\" width=\"106\"/><strong class=\"r_ico r_vod_medium\" title=\"영상\">동영상기사</strong></a></dt><dt><a class=\"nclicks(itn.airscont,'08138262_000000000000000000591250', 'airsGParam', '0', 'news_sec_v2.0', 'p5wAzLl7opuK9gUd')\" href=\"https://n.news.naver.com/mnews/article/422/0000591250?sid=105\">[출근길 인터뷰] 자소서도 쓴다는 인공지능 '챗봇' 열풍…인간의 설 자리는?</a></dt><dd class=\"\" data-comment=\"{gno:'news422,0000591250',params:{sid1:'105'},nclicks:'cmt.count',type:'sectionHomeList'}\"><span class=\"lede\">쓰기 어렵다는 자기소개서도, 정말 쓰기 싫은 시말서도, 이것 하나면 뚝딱입니다.  …</span><span class=\"writing\">연합뉴스TV</span><span class=\"date is_outdated\">1시간전</span></dd></dl></li>,\n",
       " <li><dl><dt class=\"photo\"><a class=\"nclicks(itn.airscont,'880000C2_000000000000000004868391', 'airsGParam', '0', 'news_sec_v2.0', 'p5wAzLl7opuK9gUd')\" href=\"https://n.news.naver.com/mnews/article/008/0004868391?sid=105\"><img alt=\"\" height=\"72\" onerror=\"javascript:this.src='https://ssl.pstatic.net/static.news/image/news/2009/noimage_106x72.png';\" src=\"https://mimgnews.pstatic.net/image/origin/008/2023/03/30/4868391.jpg?type=nf106_72\" width=\"106\"/></a></dt><dt><a class=\"nclicks(itn.airscont,'880000C2_000000000000000004868391', 'airsGParam', '0', 'news_sec_v2.0', 'p5wAzLl7opuK9gUd')\" href=\"https://n.news.naver.com/mnews/article/008/0004868391?sid=105\">별이 블랙홀로…우주에서 가장 눈부신 마지막 순간 [우주다방]</a></dt><dd class=\"\" data-comment=\"{gno:'news008,0004868391',params:{sid1:'105'},nclicks:'cmt.count',type:'sectionHomeList'}\"><span class=\"lede\">우주를 즐길 수 있는 다양한 방법을 찾는 코너 '우주다방'입니다. 미국항공우주국( …</span><span class=\"writing\">머니투데이</span><span class=\"date is_outdated\">1시간전</span></dd></dl></li>,\n",
       " <li><dl><dt class=\"photo\"><a class=\"nclicks(itn.airscont,'88000108_000000000000000004173013', 'airsGParam', '0', 'news_sec_v2.0', 'p5wAzLl7opuK9gUd')\" href=\"https://n.news.naver.com/mnews/article/011/0004173013?sid=105\"><img alt=\"\" height=\"72\" onerror=\"javascript:this.src='https://ssl.pstatic.net/static.news/image/news/2009/noimage_106x72.png';\" src=\"https://mimgnews.pstatic.net/image/origin/011/2023/03/30/4173013.jpg?type=nf106_72\" width=\"106\"/></a></dt><dt><a class=\"nclicks(itn.airscont,'88000108_000000000000000004173013', 'airsGParam', '0', 'news_sec_v2.0', 'p5wAzLl7opuK9gUd')\" href=\"https://n.news.naver.com/mnews/article/011/0004173013?sid=105\">우버가 오히려 더 싸다고? 리프트의 사생결단 [정혜진의 Whynot 실리콘밸리]</a></dt><dd class=\"\" data-comment=\"{gno:'news011,0004173013',params:{sid1:'105'},nclicks:'cmt.count',type:'sectionHomeList'}\"><span class=\"lede\">? 승차 호출 서비스 리프트가 최근 사생결단 했습니다. 지난 27일(현지 시간)공 …</span><span class=\"writing\">서울경제</span><span class=\"date is_outdated\">1시간전</span></dd></dl></li>,\n",
       " <li><dl><dt class=\"photo\"><a class=\"nclicks(itn.airscont,'88000103_000000000000000002633614', 'airsGParam', '0', 'news_sec_v2.0', 'p5wAzLl7opuK9gUd')\" href=\"https://n.news.naver.com/mnews/article/028/0002633614?sid=105\"><img alt=\"\" height=\"72\" onerror=\"javascript:this.src='https://ssl.pstatic.net/static.news/image/news/2009/noimage_106x72.png';\" src=\"https://mimgnews.pstatic.net/image/origin/028/2023/03/30/2633614.jpg?type=nf106_72\" width=\"106\"/></a></dt><dt><a class=\"nclicks(itn.airscont,'88000103_000000000000000002633614', 'airsGParam', '0', 'news_sec_v2.0', 'p5wAzLl7opuK9gUd')\" href=\"https://n.news.naver.com/mnews/article/028/0002633614?sid=105\">로봇, 네 다리로 눈 감고도 계단 오르내린다</a></dt><dd class=\"\" data-comment=\"{gno:'news028,0002633614',params:{sid1:'105'},nclicks:'cmt.count',type:'sectionHomeList'}\"><span class=\"lede\">칠흑같은 밤이나 연기 자욱한 재난 현장 등에서 시각이나 촉각 센서의 도움 없이 넘 …</span><span class=\"writing\">한겨레</span><span class=\"date is_outdated\">1시간전</span></dd></dl></li>,\n",
       " <li><dl><dt class=\"photo\"><a class=\"nclicks(itn.airscont,'880000AC_000000000000000002145316', 'airsGParam', '0', 'news_sec_v2.0', 'p5wAzLl7opuK9gUd')\" href=\"https://n.news.naver.com/mnews/article/138/0002145316?sid=105\"><img alt=\"\" height=\"72\" onerror=\"javascript:this.src='https://ssl.pstatic.net/static.news/image/news/2009/noimage_106x72.png';\" src=\"https://mimgnews.pstatic.net/image/origin/138/2023/03/30/2145316.jpg?type=nf106_72\" width=\"106\"/></a></dt><dt><a class=\"nclicks(itn.airscont,'880000AC_000000000000000002145316', 'airsGParam', '0', 'news_sec_v2.0', 'p5wAzLl7opuK9gUd')\" href=\"https://n.news.naver.com/mnews/article/138/0002145316?sid=105\">“반도체 경기 바닥쳤다”… 마이크론·인텔, 이유있는 급등 [美 증시 &amp; IT]</a></dt><dd class=\"\" data-comment=\"{gno:'news138,0002145316',params:{sid1:'105'},nclicks:'cmt.count',type:'sectionHomeList'}\"><span class=\"lede\">29일(현지시간 미국 증시는 '은행 리스크' 진정에 대한 믿음이 더욱 강화된데다  …</span><span class=\"writing\">디지털데일리</span><span class=\"date is_outdated\">1시간전</span></dd></dl></li>,\n",
       " <li><dl><dt class=\"photo\"><a class=\"nclicks(itn.airscont,'880000FF_000000000000000004989119', 'airsGParam', '0', 'news_sec_v2.0', 'p5wAzLl7opuK9gUd')\" href=\"https://n.news.naver.com/mnews/article/014/0004989119?sid=105\"><img alt=\"\" height=\"72\" onerror=\"javascript:this.src='https://ssl.pstatic.net/static.news/image/news/2009/noimage_106x72.png';\" src=\"https://mimgnews.pstatic.net/image/origin/014/2023/03/30/4989119.jpg?type=nf106_72\" width=\"106\"/></a></dt><dt><a class=\"nclicks(itn.airscont,'880000FF_000000000000000004989119', 'airsGParam', '0', 'news_sec_v2.0', 'p5wAzLl7opuK9gUd')\" href=\"https://n.news.naver.com/mnews/article/014/0004989119?sid=105\">애플 증강 현실 헤드셋 신제품 공개할까...주목받는 애플 WWDC23</a></dt><dd class=\"\" data-comment=\"{gno:'news014,0004989119',params:{sid1:'105'},nclicks:'cmt.count',type:'sectionHomeList'}\"><span class=\"lede\">삼성전자와 경쟁하고 있는 애플이 오는 6월 열리는 애플의 연례 개발자 컨퍼런스인  …</span><span class=\"writing\">파이낸셜뉴스</span><span class=\"date is_outdated\">2시간전</span></dd></dl></li>,\n",
       " <li><dl><dt class=\"photo\"><a class=\"nclicks(itn.airscont,'88000385_000000000000000005238283', 'airsGParam', '0', 'news_sec_v2.0', 'p5wAzLl7opuK9gUd')\" href=\"https://n.news.naver.com/mnews/article/277/0005238283?sid=105\"><img alt=\"\" height=\"72\" onerror=\"javascript:this.src='https://ssl.pstatic.net/static.news/image/news/2009/noimage_106x72.png';\" src=\"https://mimgnews.pstatic.net/image/origin/277/2023/03/30/5238283.jpg?type=nf106_72\" width=\"106\"/></a></dt><dt><a class=\"nclicks(itn.airscont,'88000385_000000000000000005238283', 'airsGParam', '0', 'news_sec_v2.0', 'p5wAzLl7opuK9gUd')\" href=\"https://n.news.naver.com/mnews/article/277/0005238283?sid=105\">'韓 애플페이 수수료, 中 5배'… 소비자 전가 우려</a></dt><dd class=\"\" data-comment=\"{gno:'news277,0005238283',params:{sid1:'105'},nclicks:'cmt.count',type:'sectionHomeList'}\"><span class=\"lede\">\"애플페이는 도대체 어디서 사용할 수 있나요?\" 애플페이가 국내 상륙한지 10일. …</span><span class=\"writing\">아시아경제</span><span class=\"date is_outdated\">2시간전</span><a class=\"count_cmt\" href=\"/main/read.naver?oid=277&amp;aid=0005238283&amp;mid=shm&amp;sid1=105&amp;m_view=1&amp;m_url=%2Fcomment%2Fall.nhn%3FserviceId%3Dnews%26gno%3Dnews277%2C0005238283%26sort%3Dlikability\">10<span class=\"count_cmt_symbol\"><span class=\"blind\">이상</span>+</span></a></dd></dl></li>,\n",
       " <li><dl><dt class=\"photo\"><a class=\"nclicks(itn.airscont,'88000385_000000000000000005238278', 'airsGParam', '0', 'news_sec_v2.0', 'p5wAzLl7opuK9gUd')\" href=\"https://n.news.naver.com/mnews/article/277/0005238278?sid=105\"><img alt=\"\" height=\"72\" onerror=\"javascript:this.src='https://ssl.pstatic.net/static.news/image/news/2009/noimage_106x72.png';\" src=\"https://mimgnews.pstatic.net/image/origin/277/2023/03/30/5238278.jpg?type=nf106_72\" width=\"106\"/></a></dt><dt><a class=\"nclicks(itn.airscont,'88000385_000000000000000005238278', 'airsGParam', '0', 'news_sec_v2.0', 'p5wAzLl7opuK9gUd')\" href=\"https://n.news.naver.com/mnews/article/277/0005238278?sid=105\">카카오판 챗GPT '다다음' 4월 재출격, 완성도 높인다</a></dt><dd class=\"\" data-comment=\"{gno:'news277,0005238278',params:{sid1:'105'},nclicks:'cmt.count',type:'sectionHomeList'}\"><span class=\"lede\">카카오의 인공지능(AI) 챗봇 ‘다다음(ddmm)'이 재정비를 마치고 이르면 다음 …</span><span class=\"writing\">아시아경제</span><span class=\"date is_outdated\">2시간전</span></dd></dl></li>,\n",
       " <li><dl><dt class=\"photo\"><a class=\"nclicks(itn.airscont,'880000ED_000000000000000003754887', 'airsGParam', '0', 'news_sec_v2.0', 'p5wAzLl7opuK9gUd')\" href=\"https://n.news.naver.com/mnews/article/023/0003754887?sid=105\"><img alt=\"\" height=\"72\" onerror=\"javascript:this.src='https://ssl.pstatic.net/static.news/image/news/2009/noimage_106x72.png';\" src=\"https://mimgnews.pstatic.net/image/origin/023/2023/03/30/3754887.jpg?type=nf106_72\" width=\"106\"/></a></dt><dt><a class=\"nclicks(itn.airscont,'880000ED_000000000000000003754887', 'airsGParam', '0', 'news_sec_v2.0', 'p5wAzLl7opuK9gUd')\" href=\"https://n.news.naver.com/mnews/article/023/0003754887?sid=105\">무인도에 표류하면 미키 마우스를 그려라...돌아온 밥의 결정은? [류현정의 아하! 스토리]</a></dt><dd class=\"\" data-comment=\"{gno:'news023,0003754887',params:{sid1:'105'},nclicks:'cmt.count',type:'sectionHomeList'}\"><span class=\"lede\">미키 마우스는 콘텐츠 왕국의 뿌리 선택과 집중을 해야 하는 밥 아이거 스트리밍 사 …</span><span class=\"writing\">조선일보</span><span class=\"date is_outdated\">2시간전</span></dd></dl></li>,\n",
       " <li><dl><dt class=\"photo\"><a class=\"nclicks(itn.airscont,'88000107_000000000000000004826621', 'airsGParam', '0', 'news_sec_v2.0', 'wSgb96Bhr1gMHlyD')\" href=\"https://n.news.naver.com/mnews/article/015/0004826621?sid=105\"><img alt=\"\" height=\"72\" onerror=\"javascript:this.src='https://ssl.pstatic.net/static.news/image/news/2009/noimage_106x72.png';\" src=\"https://mimgnews.pstatic.net/image/origin/015/2023/03/30/4826621.jpg?type=nf106_72\" width=\"106\"/></a></dt><dt><a class=\"nclicks(itn.airscont,'88000107_000000000000000004826621', 'airsGParam', '0', 'news_sec_v2.0', 'wSgb96Bhr1gMHlyD')\" href=\"https://n.news.naver.com/mnews/article/015/0004826621?sid=105\">또 총알 막은 갤럭시폰…\"우크라이나 병사 목숨 구했다\"</a></dt><dd class=\"\" data-comment=\"{gno:'news015,0004826621',params:{sid1:'105'},nclicks:'cmt.count',type:'sectionHomeList'}\"><span class=\"lede\">삼성전자의 갤럭시 스마트폰이 전쟁 중인 우크라이나 병사의 목숨을 구했다는 영상이  …</span><span class=\"writing\">한국경제</span><span class=\"date is_outdated\">2시간전</span><a class=\"count_cmt\" href=\"/main/read.naver?oid=015&amp;aid=0004826621&amp;mid=shm&amp;sid1=105&amp;m_view=1&amp;m_url=%2Fcomment%2Fall.nhn%3FserviceId%3Dnews%26gno%3Dnews015%2C0004826621%26sort%3Dlikability\">100<span class=\"count_cmt_symbol\"><span class=\"blind\">이상</span>+</span></a></dd></dl></li>,\n",
       " <li><dl><dt class=\"photo\"><a class=\"nclicks(itn.airscont,'880000ED_000000000000000003754884', 'airsGParam', '0', 'news_sec_v2.0', 'p5wAzLl7opuK9gUd')\" href=\"https://n.news.naver.com/mnews/article/023/0003754884?sid=105\"><img alt=\"\" height=\"72\" onerror=\"javascript:this.src='https://ssl.pstatic.net/static.news/image/news/2009/noimage_106x72.png';\" src=\"https://mimgnews.pstatic.net/image/origin/023/2023/03/30/3754884.jpg?type=nf106_72\" width=\"106\"/></a></dt><dt><a class=\"nclicks(itn.airscont,'880000ED_000000000000000003754884', 'airsGParam', '0', 'news_sec_v2.0', 'p5wAzLl7opuK9gUd')\" href=\"https://n.news.naver.com/mnews/article/023/0003754884?sid=105\">“AI 위험, 6개월 개발 멈추자”... 머스크·워즈니악 포함 IT거물 1000명 서명</a></dt><dd class=\"\" data-comment=\"{gno:'news023,0003754884',params:{sid1:'105'},nclicks:'cmt.count',type:'sectionHomeList'}\"><span class=\"lede\">일론 머스크 테슬라 CEO(최고경영자)를 비롯해 애플 공동창업자인 스티브 워즈니악 …</span><span class=\"writing\">조선일보</span><span class=\"date is_outdated\">2시간전</span></dd></dl></li>]"
      ]
     },
     "execution_count": 96,
     "metadata": {},
     "output_type": "execute_result"
    }
   ],
   "source": [
    "soup.select('#section_body li ') #후손 선택자"
   ]
  },
  {
   "cell_type": "markdown",
   "id": "2c883cc3",
   "metadata": {},
   "source": [
    "**`find_element(s)` 활용하기**"
   ]
  },
  {
   "cell_type": "code",
   "execution_count": 97,
   "id": "b3be30bb",
   "metadata": {},
   "outputs": [],
   "source": [
    "from selenium.webdriver.common.by import By"
   ]
  },
  {
   "cell_type": "code",
   "execution_count": 98,
   "id": "94adc480",
   "metadata": {},
   "outputs": [
    {
     "data": {
      "text/plain": [
       "20"
      ]
     },
     "execution_count": 98,
     "metadata": {},
     "output_type": "execute_result"
    }
   ],
   "source": [
    "articles = driver.find_elements(\n",
    "            By.CSS_SELECTOR,\n",
    "            '#section_body li')\n",
    "\n",
    "len(articles)"
   ]
  },
  {
   "cell_type": "code",
   "execution_count": 99,
   "id": "b7749fd7",
   "metadata": {},
   "outputs": [
    {
     "data": {
      "text/plain": [
       "[<selenium.webdriver.remote.webelement.WebElement (session=\"c45565b0455904cedfceb7ad8660a640\", element=\"cd0689c6-ee43-425f-a0bf-c642aa125a73\")>,\n",
       " <selenium.webdriver.remote.webelement.WebElement (session=\"c45565b0455904cedfceb7ad8660a640\", element=\"e0f74315-b61b-4580-b748-a8aa7ab1c420\")>,\n",
       " <selenium.webdriver.remote.webelement.WebElement (session=\"c45565b0455904cedfceb7ad8660a640\", element=\"cc56f8a8-50e0-4507-a081-fc1150b7e9f0\")>,\n",
       " <selenium.webdriver.remote.webelement.WebElement (session=\"c45565b0455904cedfceb7ad8660a640\", element=\"90844228-15d1-43aa-a682-e0bc22c2ada2\")>,\n",
       " <selenium.webdriver.remote.webelement.WebElement (session=\"c45565b0455904cedfceb7ad8660a640\", element=\"a170172d-2455-4864-9dd4-9dcd23afb8e6\")>,\n",
       " <selenium.webdriver.remote.webelement.WebElement (session=\"c45565b0455904cedfceb7ad8660a640\", element=\"6f9f94cf-15da-4529-a924-7e7124620cb8\")>,\n",
       " <selenium.webdriver.remote.webelement.WebElement (session=\"c45565b0455904cedfceb7ad8660a640\", element=\"3955e491-5546-4be3-8306-f02a4892b9c9\")>,\n",
       " <selenium.webdriver.remote.webelement.WebElement (session=\"c45565b0455904cedfceb7ad8660a640\", element=\"c4873e3e-ec94-43ef-8cdf-1f007cb0c2d4\")>,\n",
       " <selenium.webdriver.remote.webelement.WebElement (session=\"c45565b0455904cedfceb7ad8660a640\", element=\"3cbc5e4e-f012-490c-9233-a0c131dfa3bd\")>,\n",
       " <selenium.webdriver.remote.webelement.WebElement (session=\"c45565b0455904cedfceb7ad8660a640\", element=\"0be6db53-2041-4dee-bb1b-7ea999b64fde\")>,\n",
       " <selenium.webdriver.remote.webelement.WebElement (session=\"c45565b0455904cedfceb7ad8660a640\", element=\"feb062ba-c4fc-4cbb-87ba-1e9636c35451\")>,\n",
       " <selenium.webdriver.remote.webelement.WebElement (session=\"c45565b0455904cedfceb7ad8660a640\", element=\"49d4ac50-f5d6-4522-bd36-957d5b527f22\")>,\n",
       " <selenium.webdriver.remote.webelement.WebElement (session=\"c45565b0455904cedfceb7ad8660a640\", element=\"3177f8ad-cd30-4108-991c-ef9e257299e8\")>,\n",
       " <selenium.webdriver.remote.webelement.WebElement (session=\"c45565b0455904cedfceb7ad8660a640\", element=\"0c7657b9-a86c-4e84-b8be-f0b6f9ca7417\")>,\n",
       " <selenium.webdriver.remote.webelement.WebElement (session=\"c45565b0455904cedfceb7ad8660a640\", element=\"33dd0153-9891-4426-8796-c596b7080cea\")>,\n",
       " <selenium.webdriver.remote.webelement.WebElement (session=\"c45565b0455904cedfceb7ad8660a640\", element=\"ef2065da-817f-4b9e-a626-85008a10f0ab\")>,\n",
       " <selenium.webdriver.remote.webelement.WebElement (session=\"c45565b0455904cedfceb7ad8660a640\", element=\"11892402-4d19-49a1-bd53-dc41e1a597d8\")>,\n",
       " <selenium.webdriver.remote.webelement.WebElement (session=\"c45565b0455904cedfceb7ad8660a640\", element=\"8a794224-fe9a-448a-b8b9-47763c2a0421\")>,\n",
       " <selenium.webdriver.remote.webelement.WebElement (session=\"c45565b0455904cedfceb7ad8660a640\", element=\"7fb0badf-1848-4727-9e56-2f5df1ed5fbe\")>,\n",
       " <selenium.webdriver.remote.webelement.WebElement (session=\"c45565b0455904cedfceb7ad8660a640\", element=\"198dba84-62c1-4d1b-bbb8-2f8b02ec7839\")>]"
      ]
     },
     "execution_count": 99,
     "metadata": {},
     "output_type": "execute_result"
    }
   ],
   "source": [
    "articles"
   ]
  },
  {
   "cell_type": "code",
   "execution_count": 100,
   "id": "396f65ae",
   "metadata": {},
   "outputs": [
    {
     "data": {
      "text/plain": [
       "'[NES2023] 챗GPT로 촉발된 AI, 보안업계도 AI 삼매경\\n기업의 새로운 보안 위협이자 대응 수단으로 인공지능(AI)이 대두되고 있다. A) …\\n디지털데일리35분전'"
      ]
     },
     "execution_count": 100,
     "metadata": {},
     "output_type": "execute_result"
    }
   ],
   "source": [
    "# 첫번 째 기사만 확인\n",
    "articles[0].text # li 하나하나를 의미함"
   ]
  },
  {
   "cell_type": "code",
   "execution_count": 101,
   "id": "872cf9d8",
   "metadata": {},
   "outputs": [
    {
     "data": {
      "text/plain": [
       "'[NES2023] 챗GPT로 촉발된 AI, 보안업계도 AI 삼매경'"
      ]
     },
     "execution_count": 101,
     "metadata": {},
     "output_type": "execute_result"
    }
   ],
   "source": [
    "# 제목만 가져오기\n",
    "articles[0].find_element(\n",
    "    By.CSS_SELECTOR,\n",
    "    'dt:not(.photo) > a').text"
   ]
  },
  {
   "cell_type": "code",
   "execution_count": 102,
   "id": "1a51f910",
   "metadata": {
    "scrolled": false
   },
   "outputs": [
    {
     "name": "stdout",
     "output_type": "stream",
     "text": [
      "[NES2023] 챗GPT로 촉발된 AI, 보안업계도 AI 삼매경\n",
      "한상혁 방통위원장 구속영장 기각…\"혐의에 대해 다툼 여지有\"\n",
      "소액생계비대출에 '구름떼'…저소득자 DSR 큰 폭 상승 탓\n",
      "인텔 \"5세대 제온 스케일러블 CPU 올 4분기 출시\"\n",
      "\"메일로 해고 통보한 메타 '끔찍'…저커버그 지도력 형편없어\"\n",
      "챗GPT 시대의 노동은 수행이라기보다 지시다\n",
      "\"아이폰15 프로, 배터리 방전되도 버튼 작동\"\n",
      "[CEO맞수]토종 OTT 1위 싸움…티빙 양지을 VS 웨이브 이태현\n",
      "'디지털 화폐' 효용 모색 한창…미국은 미온적, 왜?\n",
      "[출근길 인터뷰] 자소서도 쓴다는 인공지능 '챗봇' 열풍…인간의 설 자리는?\n",
      "별이 블랙홀로…우주에서 가장 눈부신 마지막 순간 [우주다방]\n",
      "우버가 오히려 더 싸다고? 리프트의 사생결단 [정혜진의 Whynot 실리콘밸리]\n",
      "로봇, 네 다리로 눈 감고도 계단 오르내린다\n",
      "“반도체 경기 바닥쳤다”… 마이크론·인텔, 이유있는 급등 [美 증시 & IT]\n",
      "애플 증강 현실 헤드셋 신제품 공개할까...주목받는 애플 WWDC23\n",
      "'韓 애플페이 수수료, 中 5배'… 소비자 전가 우려\n",
      "카카오판 챗GPT '다다음' 4월 재출격, 완성도 높인다\n",
      "무인도에 표류하면 미키 마우스를 그려라...돌아온 밥의 결정은? [류현정의 아하! 스토리]\n",
      "또 총알 막은 갤럭시폰…\"우크라이나 병사 목숨 구했다\"\n",
      "“AI 위험, 6개월 개발 멈추자”... 머스크·워즈니악 포함 IT거물 1000명 서명\n"
     ]
    }
   ],
   "source": [
    "# 다 가져오기\n",
    "for article in articles :\n",
    "    title = article.find_element(By.CSS_SELECTOR, 'dt:not(.photo) >a').text\n",
    "    print(title)"
   ]
  },
  {
   "cell_type": "code",
   "execution_count": 103,
   "id": "84214751",
   "metadata": {},
   "outputs": [],
   "source": [
    "driver.quit()"
   ]
  },
  {
   "cell_type": "markdown",
   "id": "38350b46",
   "metadata": {},
   "source": [
    "**위 과정들 함수로 만들어보기**"
   ]
  },
  {
   "cell_type": "code",
   "execution_count": 109,
   "id": "99882c83",
   "metadata": {},
   "outputs": [],
   "source": [
    "article_list = []\n",
    "\n",
    "def get_article(page):\n",
    "    driver = get_chrome_driver()\n",
    "    \n",
    "    url = \"https://news.naver.com/main/main.naver?mode=LSD&mid=shm&sid1=105#&date=%2000:00:00&page={}\".format(page)\n",
    "    driver.get(url)\n",
    "    articles = driver.find_elements( By.CSS_SELECTOR, \"#section_body li\")\n",
    "\n",
    "    for article in articles:\n",
    "        title = article.find_element( By.CSS_SELECTOR, \"dt:not(.photo) > a\").text\n",
    "        article_list.append(title)\n",
    "    \n",
    "    print(\"Crawling : {}\".format(page))\n",
    "    \n",
    "    driver.quit()"
   ]
  },
  {
   "cell_type": "code",
   "execution_count": 118,
   "id": "5c403def",
   "metadata": {
    "scrolled": true
   },
   "outputs": [
    {
     "name": "stdout",
     "output_type": "stream",
     "text": [
      "Crawling : 1\n",
      "Crawling : 2\n",
      "Crawling : 3\n",
      "Crawling : 4\n",
      "Crawling : 5\n",
      "['화성의 여명과 황혼…‘원시의 아름다움’을 드러내다', '갤럭시Z폴드5·플립5 성능 실험 유출.. \"S23보다 좋네\" [1일IT템]', '바이낸스, 캐나다 철수 가능성…비트코인은 상승세[코인 브리핑]', '[디아블로4] 흥행 간절한 블리자드…“모회사 부진, 중국 판로 말썽”', '[NES2023] 챗GPT로 촉발된 AI, 보안업계도 AI 삼매경', '한상혁 방통위원장 구속영장 기각…\"혐의에 대해 다툼 여지有\"', \"소액생계비대출에 '구름떼'…저소득자 DSR 큰 폭 상승 탓\", '인텔 \"5세대 제온 스케일러블 CPU 올 4분기 출시\"', '[4세대 인텔 제온] ③ 나승주 총괄 “기술진화와 고객수요 간극…답 찾았다” [소부장반차장]', '\"메일로 해고 통보한 메타 \\'끔찍\\'…저커버그 지도력 형편없어\"', '챗GPT 시대의 노동은 수행이라기보다 지시다', '\"아이폰15 프로, 배터리 방전되도 버튼 작동\"', '[CEO맞수]토종 OTT 1위 싸움…티빙 양지을 VS 웨이브 이태현', \"'디지털 화폐' 효용 모색 한창…미국은 미온적, 왜?\", \"[출근길 인터뷰] 자소서도 쓴다는 인공지능 '챗봇' 열풍…인간의 설 자리는?\", '별이 블랙홀로…우주에서 가장 눈부신 마지막 순간 [우주다방]', '우버가 오히려 더 싸다고? 리프트의 사생결단 [정혜진의 Whynot 실리콘밸리]', '로봇, 네 다리로 눈 감고도 계단 오르내린다', '“반도체 경기 바닥쳤다”… 마이크론·인텔, 이유있는 급등 [美 증시 & IT]', '애플 증강 현실 헤드셋 신제품 공개할까...주목받는 애플 WWDC23', \"'韓 애플페이 수수료, 中 5배'… 소비자 전가 우려\", \"카카오판 챗GPT '다다음' 4월 재출격, 완성도 높인다\", '무인도에 표류하면 미키 마우스를 그려라...돌아온 밥의 결정은? [류현정의 아하! 스토리]', '또 총알 막은 갤럭시폰…\"우크라이나 병사 목숨 구했다\"', '“AI 위험, 6개월 개발 멈추자”... 머스크·워즈니악 포함 IT거물 1000명 서명', '[사이언스샷] 박테리아 모방한 분자 주사기, 암세포에만 독소 전달', '\"고장 났다간 큰일\"…아이폰 수리비 확 뛰었다', \"KT 2대 주주, 사외이사 재선임 반대… 대행 체제 시작부터 '당혹'\", \"'2.5조' 김범수 회사 케이큐브홀딩스 청산설 왜?\", '\"게임하지 마\" 고모 살해한 중학생... 또 \\'게임 책임론\\' 불거지나', 'OTT에 빨대 꽂는 ‘기생충’… “확산하면 더글로리·오겜 없다”', '간판 바꾸고 체험형 매장으로 변신하는 ‘삼성스토어’... 불황에도 가전 양판 선두 올라', '“챗GPT의 환각에서 벗어나라” AI 최고 석학 얀 르쿤 교수 ‘38쪽 PPT’로 비판', '\"\\'에타\\'는 남녀 반반, \\'블라\\'는 남초…여성이 더 오래 접속\"', '고용 한파 속 세자릿 수 신입 채용 나선 IT기업 어디', '달·화성에서 자원 채취…우주경제가 우주시대 연다[미래on]', '인지능력 키워주는 운동, 건강한 사람에겐 예외? [유용하 기자의 사이언스 톡]', '일상용도는 ‘오버 스펙’ 전문용도는 ‘가성비 갑’', '난파 직전 KT, 주가 3만 원 무너지고 관치 논란까지…\"정권 낙하산 금지 조항 만들자\"', '틱톡 퇴출 위협 비웃듯... 美 앱마켓 또 뚫어버린 중국산 앱', '틱톡 막으려는 美…젊은층 취향은 못 바꾼다', '수초 만에 스마트폰과 연결… 노트북으로 통화·답장까지 ‘편리’', '“1초면 결제 끝” 감탄, “애플페이 되나요” 매번 묻는 건 불편', '머스크 유발 하라리 등 \"GPT4 능가 AI개발 멈춰달라\" 촉구', '한상혁 방통위원장 구속영장 기각…법원 \"다툼 여지 있어\"', '한상혁 위원장 구속 면했지만…방통위 정상운영 차질 우려', '[재산공개] 조규홍 복지장관 재산 27억…오유경 식약처장 예금 1년새 1억 늘어', '[재산공개] 이종호 과기장관 148억7천만원…중앙부처 공개대상중 9위', '[재산공개]한상혁 방통위원장 15억원 신고…1위는 김효재 위원', '[9층시사국] 두렵지만 피할 수 없는 GPT할 결심', 'S23 출시하며 스마트싱스 스테이션 뿌린 삼성, ‘매터’가 뭐길래?', '“1억→0원, 결국 터질게 터졌다” 믿었던 유망 바이오의 배신', '“저도 좋아합니다” 연봉 124억원 택진형도 반한 중국산 게임', '“아이폰은 아직 한번도 못접었는데” 2번 접는 삼성폰, 연내 출시 임박?', '망 무상이용 “합의했다” vs “안 했다”…SKB-넷플릭스 소송전 팽팽', '넷플릭스-SKB 망사용료 공방…“피어링은 무상” vs. “우리법엔 유상”', \"현대차그룹, KT주총서 사외이사 선임안 반대…개인주주들 '부글'\", '‘아침의나라’로 돌아온 검은사막, 전성기 시절 되찾을까[서대문 오락실]', '“자막이 하나도 안 보여, 글씨 못 키워?” 60대 우리엄마 ‘넷플릭스’만 보는 이유 있네', \"쿠팡-CJ제일제당, '치킨게임' 지속...누가 더 손해일까\", '‘데이터 거지’ 그만할래...3만원대 5G 요금제 나온다는데', 'KT 식물 이사회 전락...비상경영위 TF가 새판 짠다', 'SKB-넷플 새해 첫 법정戰…\"망값 감정해보자\" vs \"무정산인데 왜?\"', \"유전자가위로 일냈다…질병 DNA '싹둑', 최대 4500억 기술 수출\", '\"딱 20초에 승부\"…5000만 팔로어 \\'글로벌 스타\\' 된 96년생', \"SK브로드밴드vs 넷플릭스, 법정에서 치열한 공방...피어링 유상성 두고 '설전'\", '\"신입 구직자 희망 초봉은 4천만원\"', '‘네이버 지식인 할아버지’ 조광현 별세…네이버도 추모 동참', \"앞다퉈 '챗GPT 쓰자'…한국 IT, 이대로 가도 괜찮나\", \"자고 나면 진화하는 AI…막 걸음마 뗀 韓 'OMG 플랫폼'에 종속되나\", 'KT 지배구조 개편, 첫 관문은 이사회 재구성', \"'카카오T 대항마'라더니…우티, 450억 손실에 대표 교체설도\", 'KT 2대 주주 현대차그룹, KT 사외이사 3인 재선임 반대할 듯', \"갤S23 첫달 판매량, 전작의 2배…10명 중 6명 '울트라' 샀다\", '위원장 공백 위기…政爭 휘말린 방통위', '메모리 바닥쳤나?…마이크론, 3조원 사상 최대 분기 적자', '“피 10방울만 뽑으면 돼” 암 찾아내는 무서운 신기술 나왔다', \"한미반도체, 소송까지 벌인 관계사 '한빛레이저' 결국 청산\", '3~4만원대 5G 알뜰폰 중간요금제 나온다', 'KT 2대주주 현대차 “사외이사 재선임 반대”', '격리의무 해제하고 ‘노마스크’ 확대...해외 각국 일상회복 속도 낸다', '베트남 메탄올 사고에 애꿎은 삼성전자 ‘불똥’…“직접 관련 없는 업체”', '삼성디스플레이, 중소형 OLED 시장 선두 수성… 中 BOE 2위', '美규제 맞서 中 반도체업계 인력확보 총력…\"신입 임금 2배로\"', '[팩플] 게임 만들며 포스텍 학점 딴다…IPO 노리는 시프트업의 승부', '\"2030년 신약비중 40%…원격진료 리더될 것\"', '[DD 퇴근길] 택진이형도 인공지능에 꽂혔다', '무더위 절정 7월엔 병원도 마스크 해제', '[엔씨 주총] 원신 같은 게임 만들어달라?…김택진 \"새로운 시도 지속\"', 'SK온, 1조원대 실탄 확보했지만…차입금 고민은 여전', \"배달시장 성장 둔화에 투자 '뚝'…대행 플랫폼 생존 전략은\", '전문가들 “코로나19 위기단계 조정 전 고위험군 대비책 마련해야”', \"서울 얼룩말 '세로'와 극명하게 엇갈린 대만 개코원숭이의 죽음\", '\\'글로벌 게임사\\' 선언한 택진이형 \"수익모델 변신…AI 준비만 10년\"(종합)', '“80살 넘으면 죽음이 반가워요” 세상 떠난 ‘지식인 큰어른’ 감동 답변', '상장폐지냐 유의종목해지냐…운명의 31일 마주한 페이코인', \"무디스, SK하이닉스 등급전망 '부정적'으로 하향 조정\", '인터넷 접속한 챗GPT 플러그인 \"보안 강화 시급\"', \"'리플 vs SEC' 세기의 소송 결과 임박…닥사, 시세 변동성 대응 '촉각'\", '내 개인 정보 유출한 기업, 과징금은 왜 정부에?[궁즉답]']\n",
      "Wall time: 46.7 s\n"
     ]
    }
   ],
   "source": [
    "%%time\n",
    "article_list=[]\n",
    "\n",
    "for page in range(1,6):\n",
    "    get_article(page)\n",
    "    \n",
    "print(article_list)"
   ]
  },
  {
   "cell_type": "markdown",
   "id": "26e220cc",
   "metadata": {},
   "source": [
    "**Thread를 이용해서 크롤링 하기**\n",
    "- 작업 대기시간(idle)을 최대한 줄이기 위해 사용\n",
    "- 하나의 작업을 순서대로 하는 것이 아닌, 동시에 여러 작업을 하기 위함"
   ]
  },
  {
   "cell_type": "code",
   "execution_count": 127,
   "id": "b53ffcb5",
   "metadata": {
    "scrolled": true
   },
   "outputs": [],
   "source": [
    "import threading #threading 모듈 import"
   ]
  },
  {
   "cell_type": "code",
   "execution_count": 128,
   "id": "09dc4b88",
   "metadata": {},
   "outputs": [
    {
     "name": "stdout",
     "output_type": "stream",
     "text": [
      "Wall time: 9.62 ms\n",
      "Crawling : 3\n",
      "Crawling : 2\n",
      "Crawling : 4\n",
      "Crawling : 1\n",
      "Crawling : 5\n"
     ]
    }
   ],
   "source": [
    "%%time\n",
    "article_list =[]\n",
    "for page in range(1,6):\n",
    "    th =threading.Thread(target = get_article, args = (page,))\n",
    "    th.start()"
   ]
  },
  {
   "cell_type": "code",
   "execution_count": 123,
   "id": "68126993",
   "metadata": {},
   "outputs": [
    {
     "data": {
      "text/plain": [
       "['고용 한파 속 세자릿 수 신입 채용 나선 IT기업 어디',\n",
       " '달·화성에서 자원 채취…우주경제가 우주시대 연다[미래on]',\n",
       " '인지능력 키워주는 운동, 건강한 사람에겐 예외? [유용하 기자의 사이언스 톡]',\n",
       " '일상용도는 ‘오버 스펙’ 전문용도는 ‘가성비 갑’',\n",
       " '난파 직전 KT, 주가 3만 원 무너지고 관치 논란까지…\"정권 낙하산 금지 조항 만들자\"',\n",
       " '틱톡 퇴출 위협 비웃듯... 美 앱마켓 또 뚫어버린 중국산 앱',\n",
       " '틱톡 막으려는 美…젊은층 취향은 못 바꾼다',\n",
       " '수초 만에 스마트폰과 연결… 노트북으로 통화·답장까지 ‘편리’',\n",
       " '“1초면 결제 끝” 감탄, “애플페이 되나요” 매번 묻는 건 불편',\n",
       " '망 무상이용 “합의했다” vs “안 했다”…SKB-넷플릭스 소송전 팽팽',\n",
       " '머스크 유발 하라리 등 \"GPT4 능가 AI개발 멈춰달라\" 촉구',\n",
       " '넷플릭스-SKB 망사용료 공방…“피어링은 무상” vs. “우리법엔 유상”',\n",
       " \"[출근길 인터뷰] 자소서도 쓴다는 인공지능 '챗봇' 열풍…인간의 설 자리는?\",\n",
       " '한상혁 방통위원장 구속영장 기각…법원 \"다툼 여지 있어\"',\n",
       " \"현대차그룹, KT주총서 사외이사 선임안 반대…개인주주들 '부글'\",\n",
       " '별이 블랙홀로…우주에서 가장 눈부신 마지막 순간 [우주다방]',\n",
       " '한상혁 위원장 구속 면했지만…방통위 정상운영 차질 우려',\n",
       " '우버가 오히려 더 싸다고? 리프트의 사생결단 [정혜진의 Whynot 실리콘밸리]',\n",
       " '‘아침의나라’로 돌아온 검은사막, 전성기 시절 되찾을까[서대문 오락실]',\n",
       " '[재산공개] 조규홍 복지장관 재산 27억…오유경 식약처장 예금 1년새 1억 늘어',\n",
       " '로봇, 네 다리로 눈 감고도 계단 오르내린다',\n",
       " '[재산공개] 이종호 과기장관 148억7천만원…중앙부처 공개대상중 9위',\n",
       " '“자막이 하나도 안 보여, 글씨 못 키워?” 60대 우리엄마 ‘넷플릭스’만 보는 이유 있네',\n",
       " '구글도 애플도 화웨이도 \"내 꿈은 너야, 갤폴드\"',\n",
       " '“반도체 경기 바닥쳤다”… 마이크론·인텔, 이유있는 급등 [美 증시 & IT]',\n",
       " '[재산공개]한상혁 방통위원장 15억원 신고…1위는 김효재 위원',\n",
       " \"쿠팡-CJ제일제당, '치킨게임' 지속...누가 더 손해일까\",\n",
       " '[9층시사국] 두렵지만 피할 수 없는 GPT할 결심',\n",
       " '애플 증강 현실 헤드셋 신제품 공개할까...주목받는 애플 WWDC23',\n",
       " '‘데이터 거지’ 그만할래...3만원대 5G 요금제 나온다는데',\n",
       " 'KT 2대 주주 현대차그룹, KT 사외이사 3인 재선임 반대할 듯',\n",
       " 'S23 출시하며 스마트싱스 스테이션 뿌린 삼성, ‘매터’가 뭐길래?',\n",
       " \"'韓 애플페이 수수료, 中 5배'… 소비자 전가 우려\",\n",
       " 'KT 식물 이사회 전락...비상경영위 TF가 새판 짠다',\n",
       " \"갤S23 첫달 판매량, 전작의 2배…10명 중 6명 '울트라' 샀다\",\n",
       " '“1억→0원, 결국 터질게 터졌다” 믿었던 유망 바이오의 배신',\n",
       " \"카카오판 챗GPT '다다음' 4월 재출격, 완성도 높인다\",\n",
       " 'SKB-넷플 새해 첫 법정戰…\"망값 감정해보자\" vs \"무정산인데 왜?\"',\n",
       " '“저도 좋아합니다” 연봉 124억원 택진형도 반한 중국산 게임',\n",
       " '위원장 공백 위기…政爭 휘말린 방통위',\n",
       " '무인도에 표류하면 미키 마우스를 그려라...돌아온 밥의 결정은? [류현정의 아하! 스토리]',\n",
       " \"유전자가위로 일냈다…질병 DNA '싹둑', 최대 4500억 기술 수출\",\n",
       " '“아이폰은 아직 한번도 못접었는데” 2번 접는 삼성폰, 연내 출시 임박?',\n",
       " '메모리 바닥쳤나?…마이크론, 3조원 사상 최대 분기 적자',\n",
       " '또 총알 막은 갤럭시폰…\"우크라이나 병사 목숨 구했다\"',\n",
       " '\"딱 20초에 승부\"…5000만 팔로어 \\'글로벌 스타\\' 된 96년생',\n",
       " '“피 10방울만 뽑으면 돼” 암 찾아내는 무서운 신기술 나왔다',\n",
       " \"SK브로드밴드vs 넷플릭스, 법정에서 치열한 공방...피어링 유상성 두고 '설전'\",\n",
       " '네이버, 검색 넘어 로봇 기술 판다',\n",
       " '“AI 위험, 6개월 개발 멈추자”... 머스크·워즈니악 포함 IT거물 1000명 서명',\n",
       " \"한미반도체, 소송까지 벌인 관계사 '한빛레이저' 결국 청산\",\n",
       " '\"신입 구직자 희망 초봉은 4천만원\"',\n",
       " '[사이언스샷] 박테리아 모방한 분자 주사기, 암세포에만 독소 전달',\n",
       " '3~4만원대 5G 알뜰폰 중간요금제 나온다',\n",
       " '시들해진 메타버스 열풍...디즈니,MS, 메타마저 사업 철수·축소',\n",
       " '‘네이버 지식인 할아버지’ 조광현 별세…네이버도 추모 동참',\n",
       " '\"고장 났다간 큰일\"…아이폰 수리비 확 뛰었다',\n",
       " 'KT 2대주주 현대차 “사외이사 재선임 반대”',\n",
       " \"앞다퉈 '챗GPT 쓰자'…한국 IT, 이대로 가도 괜찮나\",\n",
       " '과기정통부 재산 1위는...100억 이상 자산가 3명',\n",
       " \"KT 2대 주주, 사외이사 재선임 반대… 대행 체제 시작부터 '당혹'\",\n",
       " '격리의무 해제하고 ‘노마스크’ 확대...해외 각국 일상회복 속도 낸다',\n",
       " 'DB하이텍, 파운드리 매각설 일축…12인치 투자 가능할까 [소부장반차장]',\n",
       " '美 규제 강화에도 비트코인 강세…금리인상 중단 기대 커져',\n",
       " \"'2.5조' 김범수 회사 케이큐브홀딩스 청산설 왜?\",\n",
       " '베트남 메탄올 사고에 애꿎은 삼성전자 ‘불똥’…“직접 관련 없는 업체”',\n",
       " \"자고 나면 진화하는 AI…막 걸음마 뗀 韓 'OMG 플랫폼'에 종속되나\",\n",
       " '화성의 여명과 황혼…‘원시의 아름다움’을 드러내다',\n",
       " '삼성디스플레이, 중소형 OLED 시장 선두 수성… 中 BOE 2위',\n",
       " '\"게임하지 마\" 고모 살해한 중학생... 또 \\'게임 책임론\\' 불거지나',\n",
       " 'KT 지배구조 개편, 첫 관문은 이사회 재구성',\n",
       " '갤럭시Z폴드5·플립5 성능 실험 유출.. \"S23보다 좋네\" [1일IT템]',\n",
       " '美규제 맞서 中 반도체업계 인력확보 총력…\"신입 임금 2배로\"',\n",
       " 'OTT에 빨대 꽂는 ‘기생충’… “확산하면 더글로리·오겜 없다”',\n",
       " '바이낸스, 캐나다 철수 가능성…비트코인은 상승세[코인 브리핑]',\n",
       " \"'카카오T 대항마'라더니…우티, 450억 손실에 대표 교체설도\",\n",
       " '[팩플] 게임 만들며 포스텍 학점 딴다…IPO 노리는 시프트업의 승부',\n",
       " '간판 바꾸고 체험형 매장으로 변신하는 ‘삼성스토어’... 불황에도 가전 양판 선두 올라',\n",
       " '[디아블로4] 흥행 간절한 블리자드…“모회사 부진, 중국 판로 말썽”',\n",
       " '\"2030년 신약비중 40%…원격진료 리더될 것\"',\n",
       " '“챗GPT의 환각에서 벗어나라” AI 최고 석학 얀 르쿤 교수 ‘38쪽 PPT’로 비판',\n",
       " 'LG그룹, SAP ERP로 전환…차세대 ERP 통한 혁신 나선다',\n",
       " '[DD 퇴근길] 택진이형도 인공지능에 꽂혔다',\n",
       " '\"\\'에타\\'는 남녀 반반, \\'블라\\'는 남초…여성이 더 오래 접속\"',\n",
       " '[NES2023] 챗GPT로 촉발된 AI, 보안업계도 AI 삼매경',\n",
       " '무더위 절정 7월엔 병원도 마스크 해제',\n",
       " '한상혁 방통위원장 구속영장 기각…\"혐의에 대해 다툼 여지有\"',\n",
       " '[엔씨 주총] 원신 같은 게임 만들어달라?…김택진 \"새로운 시도 지속\"',\n",
       " \"소액생계비대출에 '구름떼'…저소득자 DSR 큰 폭 상승 탓\",\n",
       " 'SK온, 1조원대 실탄 확보했지만…차입금 고민은 여전',\n",
       " '인텔 \"5세대 제온 스케일러블 CPU 올 4분기 출시\"',\n",
       " \"배달시장 성장 둔화에 투자 '뚝'…대행 플랫폼 생존 전략은\",\n",
       " '[4세대 인텔 제온] ③ 나승주 총괄 “기술진화와 고객수요 간극…답 찾았다” [소부장반차장]',\n",
       " '전문가들 “코로나19 위기단계 조정 전 고위험군 대비책 마련해야”',\n",
       " \"지옥에서 온 애견인 '존 윅 4', 말은 더 줄이고 총은 더 쏜다\",\n",
       " '\"메일로 해고 통보한 메타 \\'끔찍\\'…저커버그 지도력 형편없어\"',\n",
       " '챗GPT 시대의 노동은 수행이라기보다 지시다',\n",
       " '\"아이폰15 프로, 배터리 방전되도 버튼 작동\"',\n",
       " '[CEO맞수]토종 OTT 1위 싸움…티빙 양지을 VS 웨이브 이태현',\n",
       " \"'디지털 화폐' 효용 모색 한창…미국은 미온적, 왜?\"]"
      ]
     },
     "execution_count": 123,
     "metadata": {},
     "output_type": "execute_result"
    }
   ],
   "source": [
    "article_list"
   ]
  }
 ],
 "metadata": {
  "kernelspec": {
   "display_name": "Python 3 (ipykernel)",
   "language": "python",
   "name": "python3"
  },
  "language_info": {
   "codemirror_mode": {
    "name": "ipython",
    "version": 3
   },
   "file_extension": ".py",
   "mimetype": "text/x-python",
   "name": "python",
   "nbconvert_exporter": "python",
   "pygments_lexer": "ipython3",
   "version": "3.9.13"
  }
 },
 "nbformat": 4,
 "nbformat_minor": 5
}
