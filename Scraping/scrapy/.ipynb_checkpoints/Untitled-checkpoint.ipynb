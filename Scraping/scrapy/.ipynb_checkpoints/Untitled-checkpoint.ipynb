{
 "cells": [
  {
   "cell_type": "code",
   "execution_count": 1,
   "id": "0edefae8",
   "metadata": {},
   "outputs": [],
   "source": [
    "lst =[3,1,2]\n",
    "lst_it = iter(lst) #이제 화살표가 셋팅된 상태"
   ]
  },
  {
   "cell_type": "code",
   "execution_count": 6,
   "id": "16970ca3",
   "metadata": {},
   "outputs": [
    {
     "ename": "StopIteration",
     "evalue": "",
     "output_type": "error",
     "traceback": [
      "\u001b[1;31m---------------------------------------------------------------------------\u001b[0m",
      "\u001b[1;31mStopIteration\u001b[0m                             Traceback (most recent call last)",
      "\u001b[1;32m~\\AppData\\Local\\Temp\\ipykernel_14596\\1881752643.py\u001b[0m in \u001b[0;36m<module>\u001b[1;34m\u001b[0m\n\u001b[1;32m----> 1\u001b[1;33m \u001b[0mnext\u001b[0m\u001b[1;33m(\u001b[0m\u001b[0mlst_it\u001b[0m\u001b[1;33m)\u001b[0m\u001b[1;33m\u001b[0m\u001b[1;33m\u001b[0m\u001b[0m\n\u001b[0m",
      "\u001b[1;31mStopIteration\u001b[0m: "
     ]
    }
   ],
   "source": [
    "next(lst_it)"
   ]
  },
  {
   "cell_type": "markdown",
   "id": "6871bdb4",
   "metadata": {},
   "source": [
    "피보나치 수열\n",
    "\n",
    "- 1 1 2 3 5 8 13 ..."
   ]
  },
  {
   "cell_type": "code",
   "execution_count": 11,
   "id": "0516f3a7",
   "metadata": {},
   "outputs": [],
   "source": [
    "class Fib:\n",
    "    def __init__(self):\n",
    "        self.prev = 0\n",
    "        self.curr = 1\n",
    "        \n",
    "#     next 함수를 실행시켰을 때 수행할 내용\n",
    "#     __next__를 오버라이딩 하면 이 클래스의 객체는 iterable한 자료형이 된다. : inerator가 된다.\n",
    "    \n",
    "    def __next__(self):\n",
    "        value = self.curr\n",
    "        self.curr += self.prev\n",
    "        self.prev = value\n",
    "        \n",
    "        return value"
   ]
  },
  {
   "cell_type": "code",
   "execution_count": 12,
   "id": "474b68db",
   "metadata": {},
   "outputs": [],
   "source": [
    "fib = Fib()"
   ]
  },
  {
   "cell_type": "code",
   "execution_count": 23,
   "id": "221de164",
   "metadata": {},
   "outputs": [
    {
     "data": {
      "text/plain": [
       "89"
      ]
     },
     "execution_count": 23,
     "metadata": {},
     "output_type": "execute_result"
    }
   ],
   "source": [
    "next(fib) #__next__가 호출된다."
   ]
  },
  {
   "cell_type": "markdown",
   "id": "5ef903ff",
   "metadata": {},
   "source": [
    "# Generator\n",
    "- Iterator를 간단하게 만든 것.\n",
    "- next가 실행될 때마다 다른 값이 계속 나오면 됨.\n",
    "- `yield` 또는 `yield from` 키워드를 사용해서 만든다."
   ]
  },
  {
   "cell_type": "code",
   "execution_count": 25,
   "id": "825d3065",
   "metadata": {},
   "outputs": [],
   "source": [
    "def func_fib():\n",
    "    prev, curr = 0,1\n",
    "    \n",
    "    while True: #무한정 yield 할 수 있는 함수를 만들었음.\n",
    "        yield curr #next를 실행 -> yield 실행됨 -> curr를 준다.\n",
    "        prev, curr = curr, prev+curr"
   ]
  },
  {
   "cell_type": "code",
   "execution_count": null,
   "id": "a34b43ab",
   "metadata": {},
   "outputs": [],
   "source": []
  },
  {
   "cell_type": "code",
   "execution_count": 26,
   "id": "0987dad7",
   "metadata": {},
   "outputs": [
    {
     "data": {
      "text/plain": [
       "1"
      ]
     },
     "execution_count": 26,
     "metadata": {},
     "output_type": "execute_result"
    }
   ],
   "source": [
    "f = func_fib()\n",
    "next(f)"
   ]
  },
  {
   "cell_type": "code",
   "execution_count": 40,
   "id": "e38bc25f",
   "metadata": {},
   "outputs": [
    {
     "data": {
      "text/plain": [
       "610"
      ]
     },
     "execution_count": 40,
     "metadata": {},
     "output_type": "execute_result"
    }
   ],
   "source": [
    "next(f)"
   ]
  },
  {
   "cell_type": "code",
   "execution_count": 41,
   "id": "3ca20033",
   "metadata": {},
   "outputs": [
    {
     "data": {
      "text/plain": [
       "<generator object func_fib at 0x0000015BE968B0B0>"
      ]
     },
     "execution_count": 41,
     "metadata": {},
     "output_type": "execute_result"
    }
   ],
   "source": [
    "f"
   ]
  }
 ],
 "metadata": {
  "kernelspec": {
   "display_name": "Python 3 (ipykernel)",
   "language": "python",
   "name": "python3"
  },
  "language_info": {
   "codemirror_mode": {
    "name": "ipython",
    "version": 3
   },
   "file_extension": ".py",
   "mimetype": "text/x-python",
   "name": "python",
   "nbconvert_exporter": "python",
   "pygments_lexer": "ipython3",
   "version": "3.9.13"
  }
 },
 "nbformat": 4,
 "nbformat_minor": 5
}
