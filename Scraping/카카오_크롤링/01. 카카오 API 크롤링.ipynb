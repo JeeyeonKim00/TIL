{
 "cells": [
  {
   "cell_type": "code",
   "execution_count": 1,
   "id": "7c38f33d",
   "metadata": {},
   "outputs": [],
   "source": [
    "KAKAO_API_KEY = \"키를 입력하세요"\n",
    "KAKAO_WEB_SEARCH_URL = \"https://dapi.kakao.com/v2/search/web?query={}\"\n"
   ]
  },
  {
   "cell_type": "code",
   "execution_count": 2,
   "id": "55fb0b94",
   "metadata": {},
   "outputs": [
    {
     "data": {
      "text/plain": [
       "{'Authorization': 'KakaoAK c3e0ca6a0cbbf027074184adb68be063'}"
      ]
     },
     "execution_count": 2,
     "metadata": {},
     "output_type": "execute_result"
    }
   ],
   "source": [
    "header ={\n",
    "    \"Authorization\": \"KakaoAK {}\".format(KAKAO_API_KEY) \n",
    "}\n",
    "\n",
    "header"
   ]
  },
  {
   "cell_type": "code",
   "execution_count": 3,
   "id": "6c7103cc",
   "metadata": {},
   "outputs": [
    {
     "data": {
      "text/plain": [
       "<Response [200]>"
      ]
     },
     "execution_count": 3,
     "metadata": {},
     "output_type": "execute_result"
    }
   ],
   "source": [
    "import requests\n",
    "\n",
    "response = requests.get(\n",
    "    KAKAO_WEB_SEARCH_URL.format(\"바르셀로나\"),\n",
    "    headers = header\n",
    "    )\n",
    "\n",
    "response"
   ]
  },
  {
   "cell_type": "code",
   "execution_count": 4,
   "id": "eb1485bf",
   "metadata": {},
   "outputs": [
    {
     "data": {
      "text/plain": [
       "200"
      ]
     },
     "execution_count": 4,
     "metadata": {},
     "output_type": "execute_result"
    }
   ],
   "source": [
    "response.status_code"
   ]
  }
 ],
 "metadata": {
  "kernelspec": {
   "display_name": "Python 3 (ipykernel)",
   "language": "python",
   "name": "python3"
  },
  "language_info": {
   "codemirror_mode": {
    "name": "ipython",
    "version": 3
   },
   "file_extension": ".py",
   "mimetype": "text/x-python",
   "name": "python",
   "nbconvert_exporter": "python",
   "pygments_lexer": "ipython3",
   "version": "3.9.13"
  }
 },
 "nbformat": 4,
 "nbformat_minor": 5
}
