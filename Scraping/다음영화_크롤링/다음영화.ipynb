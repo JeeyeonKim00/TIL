{
 "cells": [
  {
   "cell_type": "code",
   "execution_count": 39,
   "metadata": {},
   "outputs": [],
   "source": [
    "import requests\n",
    "from bs4 import BeautifulSoup\n",
    "import time\n",
    "\n",
    "\n",
    "\n",
    "daum_movie_url = \"https://movie.daum.net/ranking/reservation\"\n",
    "\n",
    "res = requests.get(daum_movie_url)\n",
    "soup = BeautifulSoup(res.content, 'html.parser')\n",
    "\n"
   ]
  },
  {
   "cell_type": "code",
   "execution_count": 40,
   "metadata": {},
   "outputs": [
    {
     "data": {
      "text/plain": [
       "['https://movie.daum.net/moviedb/main?movieId=136532',\n",
       " 'https://movie.daum.net/moviedb/main?movieId=163777',\n",
       " 'https://movie.daum.net/moviedb/main?movieId=160244',\n",
       " 'https://movie.daum.net/moviedb/main?movieId=155850',\n",
       " 'https://movie.daum.net/moviedb/main?movieId=43294',\n",
       " 'https://movie.daum.net/moviedb/main?movieId=167146',\n",
       " 'https://movie.daum.net/moviedb/main?movieId=165969',\n",
       " 'https://movie.daum.net/moviedb/main?movieId=154406',\n",
       " 'https://movie.daum.net/moviedb/main?movieId=129156',\n",
       " 'https://movie.daum.net/moviedb/main?movieId=163796',\n",
       " 'https://movie.daum.net/moviedb/main?movieId=171202',\n",
       " 'https://movie.daum.net/moviedb/main?movieId=158469',\n",
       " 'https://movie.daum.net/moviedb/main?movieId=157799',\n",
       " 'https://movie.daum.net/moviedb/main?movieId=163076',\n",
       " 'https://movie.daum.net/moviedb/main?movieId=133193',\n",
       " 'https://movie.daum.net/moviedb/main?movieId=158655',\n",
       " 'https://movie.daum.net/moviedb/main?movieId=170736',\n",
       " 'https://movie.daum.net/moviedb/main?movieId=171347',\n",
       " 'https://movie.daum.net/moviedb/main?movieId=62731',\n",
       " 'https://movie.daum.net/moviedb/main?movieId=167558']"
      ]
     },
     "execution_count": 40,
     "metadata": {},
     "output_type": "execute_result"
    }
   ],
   "source": [
    "movie_url_list= []\n",
    "for i in range(1,21):\n",
    "    url = 'https://movie.daum.net'\n",
    "    movie = soup.select(f'#mainContent > div > div.box_ranking > ol > li:nth-child({i}) > div > div.thumb_cont > strong> a')[0]['href']\n",
    "    movie_url = url+movie\n",
    "    movie_url_list.append(movie_url)\n",
    "movie_url_list"
   ]
  },
  {
   "cell_type": "code",
   "execution_count": 51,
   "metadata": {},
   "outputs": [
    {
     "data": {
      "text/plain": [
       "'https://movie.daum.net/moviedb/main?movieId=136532'"
      ]
     },
     "execution_count": 51,
     "metadata": {},
     "output_type": "execute_result"
    }
   ],
   "source": [
    "movie_url_list[0]"
   ]
  },
  {
   "cell_type": "code",
   "execution_count": 52,
   "metadata": {},
   "outputs": [],
   "source": [
    "url = movie_url_list[0]\n",
    "res = requests.get(url)\n",
    "time.sleep(2)\n",
    "soup = BeautifulSoup(res.content, 'html.parser')\n",
    "movie_content = soup.select('#mainContent > div > div.box_detailinfo > div.contents > div.detail_basicinfo > div > div > div > b')\n",
    "#mainContent > div > div.box_detailinfo > div.contents > div.detail_basicinfo > div > div > div\n",
    "for content in movie_content:\n",
    "    text = content.text.strip()  # Get the inner text of the <b> element, removing leading/trailing whitespace\n",
    "    print(text)"
   ]
  },
  {
   "cell_type": "code",
   "execution_count": null,
   "metadata": {},
   "outputs": [],
   "source": [
    "from bs4 import BeautifulSoup\n",
    "import requests\n",
    "from lxml import etree\n",
    "\n",
    "# Make a request and parse the HTML\n",
    "url = movie_url_list[0]\n",
    "res = requests.get(url)\n",
    "html = res.text\n",
    "soup = BeautifulSoup(html, 'lxml')\n",
    "\n",
    "# Define an XPath expression\n",
    "xpath_expression = '//h1[@class=\"title\"]/text()'\n",
    "\n",
    "# Use lxml's etree to evaluate the XPath expression on the soup object\n",
    "result = soup.xpath(xpath_expression)\n",
    "\n",
    "# Print the result\n",
    "print(result)"
   ]
  },
  {
   "cell_type": "code",
   "execution_count": 38,
   "metadata": {},
   "outputs": [],
   "source": [
    "for url in movie_url_list:\n",
    "    res = requests.get(url)\n",
    "    # Delay for 2 seconds\n",
    "    time.sleep(2)\n",
    "    soup = BeautifulSoup(res.content, 'html.parser')\n",
    "    movie_content = soup.select('#mainContent > div > div.box_detailinfo > div.contents > div.detail_basicinfo > div > div > div ')\n",
    "    \n",
    "    for i in movie_content:\n",
    "        text = i.get_text(strip=True)\n",
    "        print(text)\n"
   ]
  },
  {
   "cell_type": "code",
   "execution_count": 6,
   "metadata": {},
   "outputs": [],
   "source": [
    "from selenium import webdriver\n",
    "from selenium.webdriver.chrome.service import Service\n",
    "from webdriver_manager.chrome import ChromeDriverManager\n",
    "from selenium.webdriver.common.by import By\n",
    "from selenium.webdriver.support.ui import WebDriverWait\n",
    "from selenium.webdriver.support import expected_conditions as EC\n"
   ]
  },
  {
   "cell_type": "code",
   "execution_count": 7,
   "metadata": {},
   "outputs": [],
   "source": [
    "def get_driver_user_agent():\n",
    "    chrome_options = webdriver.ChromeOptions()\n",
    "\n",
    "    chrome_options.add_argument('userAgent')\n",
    "    driver = webdriver.Chrome(\n",
    "        service = Service(ChromeDriverManager().install()),\n",
    "        options = chrome_options\n",
    "    )\n",
    "\n",
    "    return driver"
   ]
  },
  {
   "cell_type": "code",
   "execution_count": 31,
   "metadata": {},
   "outputs": [
    {
     "ename": "AttributeError",
     "evalue": "'list' object has no attribute 'click'",
     "output_type": "error",
     "traceback": [
      "\u001b[1;31m---------------------------------------------------------------------------\u001b[0m",
      "\u001b[1;31mAttributeError\u001b[0m                            Traceback (most recent call last)",
      "\u001b[1;32m~\\AppData\\Local\\Temp\\ipykernel_12400\\1100029920.py\u001b[0m in \u001b[0;36m<module>\u001b[1;34m\u001b[0m\n\u001b[0;32m     10\u001b[0m \u001b[0melements\u001b[0m \u001b[1;33m=\u001b[0m \u001b[0mitem_element\u001b[0m\u001b[1;33m.\u001b[0m\u001b[0mfind_elements\u001b[0m\u001b[1;33m(\u001b[0m\u001b[0mBy\u001b[0m\u001b[1;33m.\u001b[0m\u001b[0mCSS_SELECTOR\u001b[0m\u001b[1;33m,\u001b[0m\u001b[1;34m'div > div.box_detailinfo > div.contents > div.detail_basicinfo > div > div > a>span'\u001b[0m\u001b[1;33m)\u001b[0m\u001b[1;33m\u001b[0m\u001b[1;33m\u001b[0m\u001b[0m\n\u001b[0;32m     11\u001b[0m \u001b[1;31m#mainContent > div > div.box_detailinfo > div.contents > div.detail_basicinfo > div > div > a > span\u001b[0m\u001b[1;33m\u001b[0m\u001b[1;33m\u001b[0m\u001b[0m\n\u001b[1;32m---> 12\u001b[1;33m \u001b[0melements\u001b[0m\u001b[1;33m.\u001b[0m\u001b[0mclick\u001b[0m\u001b[1;33m(\u001b[0m\u001b[1;33m)\u001b[0m\u001b[1;33m\u001b[0m\u001b[1;33m\u001b[0m\u001b[0m\n\u001b[0m\u001b[0;32m     13\u001b[0m \u001b[1;31m# for element in elements:\u001b[0m\u001b[1;33m\u001b[0m\u001b[1;33m\u001b[0m\u001b[0m\n\u001b[0;32m     14\u001b[0m \u001b[1;31m#     href=element.get_attribute('href')\u001b[0m\u001b[1;33m\u001b[0m\u001b[1;33m\u001b[0m\u001b[0m\n",
      "\u001b[1;31mAttributeError\u001b[0m: 'list' object has no attribute 'click'"
     ]
    }
   ],
   "source": [
    "driver = get_driver_user_agent()\n",
    "driver.get('https://movie.daum.net/moviedb/main?movieId=160244')\n",
    "\n",
    "# soup = BeautifulSoup(res.content, 'html.parser')\n",
    "    # movie_content = soup.select('#mainContent > div > div.box_detailinfo > div.contents > div.detail_basicinfo > div > div > div ')\n",
    "\n",
    "wait = WebDriverWait(driver,10)\n",
    "item_element = wait.until(EC.visibility_of_element_located((By.ID, 'mainContent')))\n",
    "#mainContent > div > div.box_detailinfo\n",
    "elements = item_element.find_elements(By.CSS_SELECTOR,'div > div.box_detailinfo > div.contents > div.detail_basicinfo > div > div > a>span')\n",
    "#mainContent > div > div.box_detailinfo > div.contents > div.detail_basicinfo > div > div > a > span\n",
    "elements.click()\n",
    "# for element in elements:\n",
    "#     href=element.get_attribute('href')\n",
    "#     print(href)\n",
    "\n",
    "#mainContent > "
   ]
  },
  {
   "cell_type": "code",
   "execution_count": 32,
   "metadata": {},
   "outputs": [],
   "source": [
    "driver = get_driver_user_agent()\n",
    "driver.get('https://movie.daum.net/moviedb/main?movieId=160244')\n",
    "\n",
    "wait = WebDriverWait(driver, 10)\n",
    "item_element = wait.until(EC.visibility_of_element_located((By.ID, 'mainContent')))\n",
    "elements = item_element.find_elements(By.CSS_SELECTOR, 'div > div.box_detailinfo > div.contents > div.detail_basicinfo > div > div > a>span')\n",
    "\n",
    "for element in elements:\n",
    "    element.click()\n"
   ]
  }
 ],
 "metadata": {
  "kernelspec": {
   "display_name": "base",
   "language": "python",
   "name": "python3"
  },
  "language_info": {
   "codemirror_mode": {
    "name": "ipython",
    "version": 3
   },
   "file_extension": ".py",
   "mimetype": "text/x-python",
   "name": "python",
   "nbconvert_exporter": "python",
   "pygments_lexer": "ipython3",
   "version": "3.9.13"
  },
  "orig_nbformat": 4
 },
 "nbformat": 4,
 "nbformat_minor": 2
}
