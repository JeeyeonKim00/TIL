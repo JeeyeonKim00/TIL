{
  "nbformat": 4,
  "nbformat_minor": 0,
  "metadata": {
    "colab": {
      "provenance": [],
      "authorship_tag": "ABX9TyPJydyN5VSGaQOJkbNiO+0U",
      "include_colab_link": true
    },
    "kernelspec": {
      "name": "python3",
      "display_name": "Python 3"
    },
    "language_info": {
      "name": "python"
    },
    "accelerator": "GPU",
    "gpuClass": "standard"
  },
  "cells": [
    {
      "cell_type": "markdown",
      "metadata": {
        "id": "view-in-github",
        "colab_type": "text"
      },
      "source": [
        "<a href=\"https://colab.research.google.com/github/JeeyeonKim00/TIL/blob/master/02_keras.ipynb\" target=\"_parent\"><img src=\"https://colab.research.google.com/assets/colab-badge.svg\" alt=\"Open In Colab\"/></a>"
      ]
    },
    {
      "cell_type": "code",
      "execution_count": 2,
      "metadata": {
        "id": "CJXMJ8PWUfnN"
      },
      "outputs": [],
      "source": [
        "import tensorflow as tf\n",
        "input_var = tf.Variable(initial_value=3)\n",
        "with tf.GradientTape() as tape:\n",
        "  result = tf.square(input_var)\n",
        "\n",
        "  gradient = tape.gradient(result, input_var)"
      ]
    },
    {
      "cell_type": "code",
      "source": [
        "input_var"
      ],
      "metadata": {
        "colab": {
          "base_uri": "https://localhost:8080/"
        },
        "id": "xIXsgseKWRXV",
        "outputId": "f9fb1772-e63a-479a-89cf-bdf318e7767a"
      },
      "execution_count": 3,
      "outputs": [
        {
          "output_type": "execute_result",
          "data": {
            "text/plain": [
              "<tf.Variable 'Variable:0' shape=() dtype=int32, numpy=3>"
            ]
          },
          "metadata": {},
          "execution_count": 3
        }
      ]
    },
    {
      "cell_type": "code",
      "source": [
        "tf.constant(3)"
      ],
      "metadata": {
        "colab": {
          "base_uri": "https://localhost:8080/"
        },
        "id": "0T1kMTAFWSin",
        "outputId": "9c18e8aa-6bd7-4709-8068-5f67dceb9bcd"
      },
      "execution_count": 6,
      "outputs": [
        {
          "output_type": "execute_result",
          "data": {
            "text/plain": [
              "<tf.Tensor: shape=(), dtype=int32, numpy=3>"
            ]
          },
          "metadata": {},
          "execution_count": 6
        }
      ]
    },
    {
      "cell_type": "code",
      "source": [
        "input_const = tf.constant(3)\n",
        "\n",
        "with tf.GradientTape() as tape:\n",
        "  tape.watch(input_const)\n",
        "  result = tf.square(input_const)\n",
        "gradient = tape.gradient(result, input_square)"
      ],
      "metadata": {
        "colab": {
          "base_uri": "https://localhost:8080/",
          "height": 227
        },
        "id": "Qk_nUPPDWp05",
        "outputId": "2f853236-3f56-4509-8439-c028f9b098de"
      },
      "execution_count": 9,
      "outputs": [
        {
          "output_type": "stream",
          "name": "stderr",
          "text": [
            "WARNING:tensorflow:The dtype of the watched tensor must be floating (e.g. tf.float32), got tf.int32\n"
          ]
        },
        {
          "output_type": "error",
          "ename": "NameError",
          "evalue": "ignored",
          "traceback": [
            "\u001b[0;31m---------------------------------------------------------------------------\u001b[0m",
            "\u001b[0;31mNameError\u001b[0m                                 Traceback (most recent call last)",
            "\u001b[0;32m<ipython-input-9-23aa067cf71e>\u001b[0m in \u001b[0;36m<cell line: 6>\u001b[0;34m()\u001b[0m\n\u001b[1;32m      4\u001b[0m   \u001b[0mtape\u001b[0m\u001b[0;34m.\u001b[0m\u001b[0mwatch\u001b[0m\u001b[0;34m(\u001b[0m\u001b[0minput_const\u001b[0m\u001b[0;34m)\u001b[0m\u001b[0;34m\u001b[0m\u001b[0;34m\u001b[0m\u001b[0m\n\u001b[1;32m      5\u001b[0m   \u001b[0mresult\u001b[0m \u001b[0;34m=\u001b[0m \u001b[0mtf\u001b[0m\u001b[0;34m.\u001b[0m\u001b[0msquare\u001b[0m\u001b[0;34m(\u001b[0m\u001b[0minput_const\u001b[0m\u001b[0;34m)\u001b[0m\u001b[0;34m\u001b[0m\u001b[0;34m\u001b[0m\u001b[0m\n\u001b[0;32m----> 6\u001b[0;31m \u001b[0mgradient\u001b[0m \u001b[0;34m=\u001b[0m \u001b[0mtape\u001b[0m\u001b[0;34m.\u001b[0m\u001b[0mgradient\u001b[0m\u001b[0;34m(\u001b[0m\u001b[0mresult\u001b[0m\u001b[0;34m,\u001b[0m \u001b[0minput_square\u001b[0m\u001b[0;34m)\u001b[0m\u001b[0;34m\u001b[0m\u001b[0;34m\u001b[0m\u001b[0m\n\u001b[0m",
            "\u001b[0;31mNameError\u001b[0m: name 'input_square' is not defined"
          ]
        }
      ]
    },
    {
      "cell_type": "code",
      "source": [
        "import numpy as np\n",
        "\n",
        "num_sample_per_class = 1000\n",
        "negative_samples = np.random.multivariate_normal(\n",
        "    mean=[0,3],\n",
        "    cov=[[1,0.5],[0.5,1]],\n",
        "    size= num_sample_per_class\n",
        ")\n",
        "\n",
        "positive_samples = np.random.multivariate_normal(\n",
        "      mean=[3,0],\n",
        "      cov=[[1,0.5],[0.5,1]],\n",
        "      size = num_sample_per_class\n",
        ")\n",
        "negative_samples"
      ],
      "metadata": {
        "colab": {
          "base_uri": "https://localhost:8080/"
        },
        "id": "4FMsEYI6YHxF",
        "outputId": "e5b3c925-be59-414e-fd4e-dea162943deb"
      },
      "execution_count": 13,
      "outputs": [
        {
          "output_type": "execute_result",
          "data": {
            "text/plain": [
              "array([[ 1.08455827,  3.49893462],\n",
              "       [-0.81476535,  3.31583866],\n",
              "       [-1.69273209,  1.89835513],\n",
              "       ...,\n",
              "       [ 1.61250006,  4.00791847],\n",
              "       [-0.23242453,  2.34129043],\n",
              "       [ 1.91469227,  3.59932094]])"
            ]
          },
          "metadata": {},
          "execution_count": 13
        }
      ]
    },
    {
      "cell_type": "code",
      "source": [
        "negative_samples.shape, positive_samples.shape"
      ],
      "metadata": {
        "colab": {
          "base_uri": "https://localhost:8080/"
        },
        "id": "MQm7BQhIZ5lh",
        "outputId": "e9b2e228-61a7-4f40-b540-2bbd9270468e"
      },
      "execution_count": 14,
      "outputs": [
        {
          "output_type": "execute_result",
          "data": {
            "text/plain": [
              "((1000, 2), (1000, 2))"
            ]
          },
          "metadata": {},
          "execution_count": 14
        }
      ]
    },
    {
      "cell_type": "code",
      "source": [
        "inputs = np.vstack((negative_samples, positive_samples)).astype(np.float32)"
      ],
      "metadata": {
        "id": "P30sP-mlaCU1"
      },
      "execution_count": 15,
      "outputs": []
    },
    {
      "cell_type": "code",
      "source": [
        "inputs.shape"
      ],
      "metadata": {
        "colab": {
          "base_uri": "https://localhost:8080/"
        },
        "id": "0YsxghChajus",
        "outputId": "3337d123-674e-45c0-8d57-24863f3164f0"
      },
      "execution_count": 18,
      "outputs": [
        {
          "output_type": "execute_result",
          "data": {
            "text/plain": [
              "(2000, 2)"
            ]
          },
          "metadata": {},
          "execution_count": 18
        }
      ]
    },
    {
      "cell_type": "code",
      "source": [
        "targets = np.vstack((np.zeros((num_sample_per_class,1),dtype='float32')\n",
        "                    ,np.ones((num_sample_per_class,1),dtype='float32')))"
      ],
      "metadata": {
        "id": "nJVkxOlSakQx"
      },
      "execution_count": 21,
      "outputs": []
    },
    {
      "cell_type": "code",
      "source": [
        "targets.shape"
      ],
      "metadata": {
        "colab": {
          "base_uri": "https://localhost:8080/"
        },
        "id": "fXS1HMUQa-4g",
        "outputId": "4f7a8cbd-b049-400e-bab6-f3ec598e3867"
      },
      "execution_count": 24,
      "outputs": [
        {
          "output_type": "execute_result",
          "data": {
            "text/plain": [
              "(2000, 1)"
            ]
          },
          "metadata": {},
          "execution_count": 24
        }
      ]
    },
    {
      "cell_type": "code",
      "source": [
        "inputs"
      ],
      "metadata": {
        "colab": {
          "base_uri": "https://localhost:8080/"
        },
        "id": "_0tOflssbnKy",
        "outputId": "7148e379-623f-4108-c228-d7ab49dd1fc9"
      },
      "execution_count": 25,
      "outputs": [
        {
          "output_type": "execute_result",
          "data": {
            "text/plain": [
              "array([[ 1.0845582 ,  3.4989345 ],\n",
              "       [-0.81476533,  3.3158386 ],\n",
              "       [-1.6927321 ,  1.8983551 ],\n",
              "       ...,\n",
              "       [ 1.6365747 , -0.44074243],\n",
              "       [ 3.1480854 , -1.6844764 ],\n",
              "       [ 3.3135538 , -0.39928624]], dtype=float32)"
            ]
          },
          "metadata": {},
          "execution_count": 25
        }
      ]
    },
    {
      "cell_type": "code",
      "source": [
        "import matplotlib.pyplot as plt\n",
        "\n",
        "plt.scatter(inputs[:,0])"
      ],
      "metadata": {
        "id": "CZljl1QfbGac"
      },
      "execution_count": null,
      "outputs": []
    },
    {
      "cell_type": "code",
      "source": [
        "from tensorflow import keras\n",
        "\n",
        "class SimpleDense(keras.layers.Layer):\n",
        "  def __init__(self, units, activation=None):\n",
        "    super().__init__()\n",
        "    self.units = units\n",
        "    self.activation = activation\n",
        "\n",
        "  def build(self, input_shape):\n",
        "    input_dim = input_shape[-1]\n",
        "    self.W = self.add_weight(shape=(input_dim,self.units),\n",
        "                             initializer = 'random_normal')\n",
        "    self.b = self.add_weight(shape=(self.units),\n",
        "                             initializer ='zeros')\n",
        "  \n",
        "  def call(self, inputs):\n",
        "    y = tf.matmul(inputs, self.W) + self.b\n",
        "    if self.activation is not None:\n",
        "      y= self.activation(y)\n",
        "    return y\n",
        "    \n"
      ],
      "metadata": {
        "id": "w0_CT21KcN0E"
      },
      "execution_count": 26,
      "outputs": []
    },
    {
      "cell_type": "code",
      "source": [
        "# keras에서 Dense 층 만드릭\n",
        "\n",
        "from tensorflow import keras\n",
        "\n",
        "class SimpleDense(keras.layers.Layer):\n",
        "  def __init__(self, units,activation=None):\n",
        "    super().__init__()\n",
        "    self.units = units\n",
        "    self.activation = activation\n",
        "\n",
        "\n",
        "  def build(self, input_shape):\n",
        "    input_dim = input_shape[-1]\n",
        "    self.W = self.add_weight(shape=(input_dim, self.units),\n",
        "                             initializer ='random_normal')\n",
        "    self.b = self.add_weight(shape=(self.units),\n",
        "                             initializer ='zeros')\n",
        "    \n",
        "\n",
        "  def call(self, inputs):\n",
        "    y= tf.matmul(inputs, self.W)+self.b\n",
        "    if self.activation is not 'None':\n",
        "      y= self.activation(y)\n",
        "    return y"
      ],
      "metadata": {
        "colab": {
          "base_uri": "https://localhost:8080/"
        },
        "id": "8R2ANVvkdzIv",
        "outputId": "756224dc-b18b-4f30-e33a-c4ee834be8d8"
      },
      "execution_count": 33,
      "outputs": [
        {
          "output_type": "stream",
          "name": "stderr",
          "text": [
            "<>:22: SyntaxWarning: \"is not\" with a literal. Did you mean \"!=\"?\n",
            "<>:22: SyntaxWarning: \"is not\" with a literal. Did you mean \"!=\"?\n",
            "<ipython-input-33-1be35c4afff2>:22: SyntaxWarning: \"is not\" with a literal. Did you mean \"!=\"?\n",
            "  if self.activation is not 'None':\n"
          ]
        }
      ]
    },
    {
      "cell_type": "code",
      "source": [
        "my_dense = SimpleDense(units=32, activation=tf.nn.relu)\n"
      ],
      "metadata": {
        "id": "Cjz4ZAwljAl1"
      },
      "execution_count": 34,
      "outputs": []
    },
    {
      "cell_type": "code",
      "source": [
        "input_tensor = tf.ones(shape=(2,784))\n",
        "output_tensor = my_dense(input_tensor)\n",
        "\n",
        "print(output_tensor.shape)"
      ],
      "metadata": {
        "colab": {
          "base_uri": "https://localhost:8080/"
        },
        "id": "S2XoTSj3jPwM",
        "outputId": "a5b52ae3-8f3b-4b11-ed25-1f3c25817458"
      },
      "execution_count": 35,
      "outputs": [
        {
          "output_type": "stream",
          "name": "stdout",
          "text": [
            "(2, 32)\n"
          ]
        }
      ]
    },
    {
      "cell_type": "code",
      "source": [
        "from tensorflow.keras import models\n",
        "from tensorflow.keras import layers\n",
        "\n",
        "model = models.Sequential([\n",
        "    layers.Dense(32, activation='relu'),\n",
        "    layers.Dense(32)\n",
        "])"
      ],
      "metadata": {
        "id": "w9g2-D3Sjccn"
      },
      "execution_count": 36,
      "outputs": []
    },
    {
      "cell_type": "code",
      "source": [
        "model =keras.Sequential([keras.layers.Dense(1)])\n",
        "model.compile(optimizer='rmsprop',\n",
        "              loss='mean_squared_error',\n",
        "              metrics=['accuracy'])"
      ],
      "metadata": {
        "id": "YlEu8bvoklXu"
      },
      "execution_count": 38,
      "outputs": []
    },
    {
      "cell_type": "code",
      "source": [
        "model.compile(optimizer = keras.optimizers.RMSprop(learning_rate = 1e-4),\n",
        "              loss=keras.losses.MeanSquaredError(),\n",
        "              metrics=[keras.metrics.BinaryAccuracy()])"
      ],
      "metadata": {
        "id": "7MuY2SH3mkZ6"
      },
      "execution_count": 40,
      "outputs": []
    },
    {
      "cell_type": "code",
      "source": [
        "history = model.fit(\n",
        "    inputs,\n",
        "    targets,\n",
        "    epochs=5,\n",
        "    batch_size=128\n",
        ")"
      ],
      "metadata": {
        "colab": {
          "base_uri": "https://localhost:8080/"
        },
        "id": "Pt5NoyZKm5i7",
        "outputId": "fdf48b03-455c-4b9a-c1a4-3d85b1125870"
      },
      "execution_count": 41,
      "outputs": [
        {
          "output_type": "stream",
          "name": "stdout",
          "text": [
            "Epoch 1/5\n",
            "16/16 [==============================] - 2s 3ms/step - loss: 10.6503 - binary_accuracy: 0.2505\n",
            "Epoch 2/5\n",
            "16/16 [==============================] - 0s 3ms/step - loss: 10.6155 - binary_accuracy: 0.2505\n",
            "Epoch 3/5\n",
            "16/16 [==============================] - 0s 3ms/step - loss: 10.5855 - binary_accuracy: 0.2500\n",
            "Epoch 4/5\n",
            "16/16 [==============================] - 0s 3ms/step - loss: 10.5560 - binary_accuracy: 0.2500\n",
            "Epoch 5/5\n",
            "16/16 [==============================] - 0s 3ms/step - loss: 10.5266 - binary_accuracy: 0.2500\n"
          ]
        }
      ]
    },
    {
      "cell_type": "code",
      "source": [
        "history.history"
      ],
      "metadata": {
        "colab": {
          "base_uri": "https://localhost:8080/"
        },
        "id": "4BhP_H2in0DS",
        "outputId": "408ca31d-13d6-43a7-a6eb-f6182f04bcb7"
      },
      "execution_count": 46,
      "outputs": [
        {
          "output_type": "execute_result",
          "data": {
            "text/plain": [
              "{'loss': [10.650318145751953,\n",
              "  10.61546516418457,\n",
              "  10.585464477539062,\n",
              "  10.55598258972168,\n",
              "  10.526627540588379],\n",
              " 'binary_accuracy': [0.25049999356269836,\n",
              "  0.25049999356269836,\n",
              "  0.25,\n",
              "  0.25,\n",
              "  0.25]}"
            ]
          },
          "metadata": {},
          "execution_count": 46
        }
      ]
    },
    {
      "cell_type": "code",
      "source": [
        "from tensorflow import keras\n",
        "\n",
        "\n",
        "model = keras.Sequential([keras.layers.Dense(1)])\n",
        "model.compile(optimizer=keras.optimizers.RMSprop(learning_rate=0.1),\n",
        "              loss = keras.losses.MeanSquaredError(),\n",
        "              metrics=[keras.metrics.BinaryAccuracy()])\n",
        "\n",
        "indices_permutation = np.random.permutation(len( ))"
      ],
      "metadata": {
        "id": "fjJb1VUln5cM"
      },
      "execution_count": null,
      "outputs": []
    }
  ]
}