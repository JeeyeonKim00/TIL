{
 "cells": [
  {
   "cell_type": "code",
   "execution_count": 1,
   "id": "fc3ad539",
   "metadata": {},
   "outputs": [
    {
     "name": "stderr",
     "output_type": "stream",
     "text": [
      "WARNING: An illegal reflective access operation has occurred\n",
      "WARNING: Illegal reflective access by org.apache.spark.unsafe.Platform (file:/home/ubuntu/spark-3.2.4/jars/spark-unsafe_2.12-3.2.4.jar) to constructor java.nio.DirectByteBuffer(long,int)\n",
      "WARNING: Please consider reporting this to the maintainers of org.apache.spark.unsafe.Platform\n",
      "WARNING: Use --illegal-access=warn to enable warnings of further illegal reflective access operations\n",
      "WARNING: All illegal access operations will be denied in a future release\n",
      "Using Spark's default log4j profile: org/apache/spark/log4j-defaults.properties\n",
      "Setting default log level to \"WARN\".\n",
      "To adjust logging level use sc.setLogLevel(newLevel). For SparkR, use setLogLevel(newLevel).\n",
      "23/06/05 00:06:50 WARN NativeCodeLoader: Unable to load native-hadoop library for your platform... using builtin-java classes where applicable\n"
     ]
    }
   ],
   "source": [
    "from pyspark import SparkConf, SparkContext\n",
    "\n",
    "conf = SparkConf().setMaster('local').setAppName('set_transformations')\n",
    "sc = SparkContext(conf=conf)"
   ]
  },
  {
   "cell_type": "code",
   "execution_count": 3,
   "id": "ec8229ff",
   "metadata": {},
   "outputs": [],
   "source": [
    "num1 = sc.parallelize([1,2,3,4,5])\n",
    "num2 = sc.parallelize([4,5,6,7,8,9,10])"
   ]
  },
  {
   "cell_type": "code",
   "execution_count": 5,
   "id": "193aabad",
   "metadata": {},
   "outputs": [
    {
     "data": {
      "text/plain": [
       "PythonRDD[17] at RDD at PythonRDD.scala:53"
      ]
     },
     "execution_count": 5,
     "metadata": {},
     "output_type": "execute_result"
    }
   ],
   "source": [
    "# 교집합: intersectionos\n",
    "\n",
    "intersection_rdd = num1.intersection(num2)\n",
    "intersection_rdd"
   ]
  },
  {
   "cell_type": "code",
   "execution_count": 6,
   "id": "b96c111f",
   "metadata": {},
   "outputs": [
    {
     "name": "stderr",
     "output_type": "stream",
     "text": [
      "                                                                                \r"
     ]
    },
    {
     "data": {
      "text/plain": [
       "[4, 5]"
      ]
     },
     "execution_count": 6,
     "metadata": {},
     "output_type": "execute_result"
    }
   ],
   "source": [
    "intersection_rdd.collect()"
   ]
  },
  {
   "cell_type": "code",
   "execution_count": 7,
   "id": "51acccf8",
   "metadata": {},
   "outputs": [
    {
     "data": {
      "text/plain": [
       "[1, 2, 3, 4, 5, 4, 5, 6, 7, 8, 9, 10]"
      ]
     },
     "execution_count": 7,
     "metadata": {},
     "output_type": "execute_result"
    }
   ],
   "source": [
    "# 합집합 : union\n",
    "union_rdd = num1.union(num2)\n",
    "union_rdd.collect()"
   ]
  },
  {
   "cell_type": "code",
   "execution_count": 9,
   "id": "7c691cf3",
   "metadata": {},
   "outputs": [
    {
     "data": {
      "text/plain": [
       "[2, 1, 3]"
      ]
     },
     "execution_count": 9,
     "metadata": {},
     "output_type": "execute_result"
    }
   ],
   "source": [
    "# 차집합: subtract\n",
    "subtract_rdd = num1.subtract(num2)\n",
    "subtract_rdd.collect()"
   ]
  },
  {
   "cell_type": "markdown",
   "id": "dd9db46a",
   "metadata": {},
   "source": [
    "데이터 랜덤 추출 = `sample(withReplacement, fraction, seed=None)`\n",
    "\n",
    "- 샘플링: 데이터에서 일부분을 추출\n",
    "- `withReplacement` : 한 번 추출된 샘플을 다시 샘플링 대상으로 삼을 것인지 여부\n",
    "    - `True`: 한 번 샘플링 된 데이터가 다시 대상이 됨\n",
    "    - `False` : 한 번 샘플링 된 데이터는 다시 대상이 되지 않음\n",
    "- `fraction` : 샘플링 될 데이터의 기댓값(확률)\n",
    "    - 각각의 데이터가 추출될 확률\n",
    "    - 높아지면 높아질 수록 원본에서 샘플링되는 원소의 개수가 많아진다.\n",
    "    "
   ]
  },
  {
   "cell_type": "code",
   "execution_count": 10,
   "id": "3145fceb",
   "metadata": {},
   "outputs": [],
   "source": [
    "num3 = sc.parallelize([1,2,3,4,5,6,7,8,9,10])"
   ]
  },
  {
   "cell_type": "code",
   "execution_count": 18,
   "id": "9f2b2066",
   "metadata": {},
   "outputs": [
    {
     "data": {
      "text/plain": [
       "[5, 7, 8, 9, 10]"
      ]
     },
     "execution_count": 18,
     "metadata": {},
     "output_type": "execute_result"
    }
   ],
   "source": [
    "# 중복 추출 X, 각 데이터가 나올 확률이 0.5?\n",
    "num2.sample(withReplacement=False, fraction=0.5).collect()"
   ]
  },
  {
   "cell_type": "code",
   "execution_count": 21,
   "id": "1afdac25",
   "metadata": {},
   "outputs": [
    {
     "data": {
      "text/plain": [
       "[4, 5, 5, 5, 5, 7, 9]"
      ]
     },
     "execution_count": 21,
     "metadata": {},
     "output_type": "execute_result"
    }
   ],
   "source": [
    "# 중복 추출 O, 각 데이터가 나올 확률이 0.7\n",
    "num2.sample(withReplacement=True, fraction=0.7).collect()"
   ]
  },
  {
   "cell_type": "code",
   "execution_count": 23,
   "id": "03657b38",
   "metadata": {},
   "outputs": [
    {
     "data": {
      "text/plain": [
       "[3, 5, 7, 9, 9]"
      ]
     },
     "execution_count": 23,
     "metadata": {},
     "output_type": "execute_result"
    }
   ],
   "source": [
    "# seed: 랜덤시드\n",
    "num3.sample(withReplacement = True, fraction = 0.7, seed=42).collect()"
   ]
  },
  {
   "cell_type": "code",
   "execution_count": 24,
   "id": "79632ab2",
   "metadata": {},
   "outputs": [],
   "source": [
    "sc.stop()"
   ]
  },
  {
   "cell_type": "code",
   "execution_count": null,
   "id": "8fa7d5c9",
   "metadata": {},
   "outputs": [],
   "source": []
  }
 ],
 "metadata": {
  "kernelspec": {
   "display_name": "Python 3 (ipykernel)",
   "language": "python",
   "name": "python3"
  },
  "language_info": {
   "codemirror_mode": {
    "name": "ipython",
    "version": 3
   },
   "file_extension": ".py",
   "mimetype": "text/x-python",
   "name": "python",
   "nbconvert_exporter": "python",
   "pygments_lexer": "ipython3",
   "version": "3.8.16"
  }
 },
 "nbformat": 4,
 "nbformat_minor": 5
}
