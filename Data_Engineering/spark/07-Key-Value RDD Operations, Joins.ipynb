{
 "cells": [
  {
   "cell_type": "code",
   "execution_count": 1,
   "id": "238af3c6",
   "metadata": {},
   "outputs": [
    {
     "name": "stderr",
     "output_type": "stream",
     "text": [
      "WARNING: An illegal reflective access operation has occurred\n",
      "WARNING: Illegal reflective access by org.apache.spark.unsafe.Platform (file:/home/ubuntu/spark-3.2.4/jars/spark-unsafe_2.12-3.2.4.jar) to constructor java.nio.DirectByteBuffer(long,int)\n",
      "WARNING: Please consider reporting this to the maintainers of org.apache.spark.unsafe.Platform\n",
      "WARNING: Use --illegal-access=warn to enable warnings of further illegal reflective access operations\n",
      "WARNING: All illegal access operations will be denied in a future release\n",
      "Using Spark's default log4j profile: org/apache/spark/log4j-defaults.properties\n",
      "Setting default log level to \"WARN\".\n",
      "To adjust logging level use sc.setLogLevel(newLevel). For SparkR, use setLogLevel(newLevel).\n",
      "23/06/05 04:06:45 WARN NativeCodeLoader: Unable to load native-hadoop library for your platform... using builtin-java classes where applicable\n"
     ]
    }
   ],
   "source": [
    "from pyspark import SparkConf, SparkContext\n",
    "\n",
    "conf = SparkConf().setMaster('local').setAppName('key-value_rdd_op_joins')\n",
    "sc = SparkContext(conf = conf)"
   ]
  },
  {
   "cell_type": "markdown",
   "id": "e852bf82",
   "metadata": {},
   "source": [
    "# Operations\n",
    "- `groupByKey`: 이미 그룹이 지어진 상태에서 진행\n",
    "    - 그룹핑 후에 특성 Transformations같은 연산\n",
    "    - key값이 있는 상태에서 시작\n",
    "\n",
    "- `groupBy()` :그룹을 생성하기 위함\n",
    "    - `RDD.grouBy(numPartitions=None, partitionFunc=<function portable_hash>)`\n",
    "    - 함수에 의해서 그룹이 생기는 연산"
   ]
  },
  {
   "cell_type": "code",
   "execution_count": 2,
   "id": "ee45d791",
   "metadata": {},
   "outputs": [],
   "source": [
    "rdd = sc.parallelize([\n",
    "    ('짜장면',15),\n",
    "    ('짬뽕',10),\n",
    "    ('짜장면',5)\n",
    "])"
   ]
  },
  {
   "cell_type": "code",
   "execution_count": 4,
   "id": "2e3416ec",
   "metadata": {},
   "outputs": [
    {
     "data": {
      "text/plain": [
       "[('짜장면', <pyspark.resultiterable.ResultIterable at 0x7f8130e296a0>),\n",
       " ('짬뽕', <pyspark.resultiterable.ResultIterable at 0x7f8130581640>)]"
      ]
     },
     "execution_count": 4,
     "metadata": {},
     "output_type": "execute_result"
    }
   ],
   "source": [
    "# 항상 제일 앞에 있는 것이 Key임.\n",
    "g_rdd = rdd.groupByKey()\n",
    "g_rdd.collect()"
   ]
  },
  {
   "cell_type": "code",
   "execution_count": 10,
   "id": "5807f607",
   "metadata": {},
   "outputs": [
    {
     "name": "stdout",
     "output_type": "stream",
     "text": [
      "짜장면 2\n",
      "짬뽕 1\n"
     ]
    }
   ],
   "source": [
    "for i,j in g_rdd.collect():\n",
    "    print(i,len(list(j)))"
   ]
  },
  {
   "cell_type": "code",
   "execution_count": 9,
   "id": "8e8a6204",
   "metadata": {},
   "outputs": [
    {
     "data": {
      "text/plain": [
       "[('짜장면', 2), ('짬뽕', 1)]"
      ]
     },
     "execution_count": 9,
     "metadata": {},
     "output_type": "execute_result"
    }
   ],
   "source": [
    "g_rdd.mapValues(len).collect()"
   ]
  },
  {
   "cell_type": "code",
   "execution_count": 11,
   "id": "f3baa601",
   "metadata": {},
   "outputs": [
    {
     "data": {
      "text/plain": [
       "[('짜장면', [15, 5]), ('짬뽕', [10])]"
      ]
     },
     "execution_count": 11,
     "metadata": {},
     "output_type": "execute_result"
    }
   ],
   "source": [
    "g_rdd.mapValues(list).collect()"
   ]
  },
  {
   "cell_type": "code",
   "execution_count": 12,
   "id": "1d782707",
   "metadata": {},
   "outputs": [],
   "source": [
    "# groupBy 사용하기\n",
    "rdd = sc.parallelize([\n",
    "    \n",
    "    'c','c++','c#','Python','Java','JavaScript'\n",
    "])"
   ]
  },
  {
   "cell_type": "code",
   "execution_count": 13,
   "id": "7d0ca6b6",
   "metadata": {},
   "outputs": [
    {
     "data": {
      "text/plain": [
       "ParallelCollectionRDD[13] at readRDDFromFile at PythonRDD.scala:274"
      ]
     },
     "execution_count": 13,
     "metadata": {},
     "output_type": "execute_result"
    }
   ],
   "source": [
    "rdd"
   ]
  },
  {
   "cell_type": "code",
   "execution_count": 14,
   "id": "faa2562a",
   "metadata": {},
   "outputs": [
    {
     "data": {
      "text/plain": [
       "[[('c', <pyspark.resultiterable.ResultIterable at 0x7f815c4819a0>),\n",
       "  ('P', <pyspark.resultiterable.ResultIterable at 0x7f81304118b0>),\n",
       "  ('J', <pyspark.resultiterable.ResultIterable at 0x7f8130411bb0>)]]"
      ]
     },
     "execution_count": 14,
     "metadata": {},
     "output_type": "execute_result"
    }
   ],
   "source": [
    "# groupBy는 그룹핑 할 키에 대한 정의를 개발자가 직접 해준다.\n",
    "grouped = rdd.groupBy(lambda x : x[0])\n",
    "grouped.glom().collect()"
   ]
  },
  {
   "cell_type": "code",
   "execution_count": 15,
   "id": "5e171c9d",
   "metadata": {},
   "outputs": [
    {
     "data": {
      "text/plain": [
       "[('c', ['c', 'c++', 'c#']), ('P', ['Python']), ('J', ['Java', 'JavaScript'])]"
      ]
     },
     "execution_count": 15,
     "metadata": {},
     "output_type": "execute_result"
    }
   ],
   "source": [
    "grouped.mapValues(list).collect()"
   ]
  },
  {
   "cell_type": "code",
   "execution_count": 16,
   "id": "3bb23dc2",
   "metadata": {},
   "outputs": [
    {
     "data": {
      "text/plain": [
       "1"
      ]
     },
     "execution_count": 16,
     "metadata": {},
     "output_type": "execute_result"
    }
   ],
   "source": [
    "grouped.getNumPartitions()"
   ]
  },
  {
   "cell_type": "code",
   "execution_count": 17,
   "id": "7a34160b",
   "metadata": {},
   "outputs": [
    {
     "data": {
      "text/plain": [
       "1"
      ]
     },
     "execution_count": 17,
     "metadata": {},
     "output_type": "execute_result"
    }
   ],
   "source": [
    "g_rdd.getNumPartitions()"
   ]
  },
  {
   "cell_type": "code",
   "execution_count": 18,
   "id": "96cc4f9c",
   "metadata": {},
   "outputs": [],
   "source": [
    "# groupByKey는 K-V RDD를 사용할 때 Key가 알아서 그룹핑의 기준이 된다.\n",
    "\n",
    "x = sc.parallelize([\n",
    "    (\"MATH\", 7), (\"MATH\", 2), (\"ENGLISH\", 7),\n",
    "    (\"SCIENCE\", 7), (\"ENGLISH\", 4), (\"ENGLISH\", 9),\n",
    "    (\"MATH\", 8), (\"MATH\", 3), (\"ENGLISH\", 4),\n",
    "    (\"SCIENCE\", 6), (\"SCIENCE\", 9), (\"SCIENCE\", 5)\n",
    "], 3)\n",
    "\n",
    "y = x.groupByKey()"
   ]
  },
  {
   "cell_type": "code",
   "execution_count": 19,
   "id": "2a5fd338",
   "metadata": {},
   "outputs": [
    {
     "data": {
      "text/plain": [
       "[('MATH', <pyspark.resultiterable.ResultIterable at 0x7f8130411d60>),\n",
       " ('ENGLISH', <pyspark.resultiterable.ResultIterable at 0x7f813005a8e0>),\n",
       " ('SCIENCE', <pyspark.resultiterable.ResultIterable at 0x7f813005a2b0>)]"
      ]
     },
     "execution_count": 19,
     "metadata": {},
     "output_type": "execute_result"
    }
   ],
   "source": [
    "y.collect()"
   ]
  },
  {
   "cell_type": "code",
   "execution_count": 20,
   "id": "3b8b9936",
   "metadata": {},
   "outputs": [
    {
     "data": {
      "text/plain": [
       "[[('MATH', <pyspark.resultiterable.ResultIterable at 0x7f81302aac70>),\n",
       "  ('ENGLISH', <pyspark.resultiterable.ResultIterable at 0x7f81302aad00>),\n",
       "  ('SCIENCE', <pyspark.resultiterable.ResultIterable at 0x7f81302aad60>)],\n",
       " [],\n",
       " []]"
      ]
     },
     "execution_count": 20,
     "metadata": {},
     "output_type": "execute_result"
    }
   ],
   "source": [
    "y.glom().collect()"
   ]
  },
  {
   "cell_type": "markdown",
   "id": "91755d65",
   "metadata": {},
   "source": [
    "# Join"
   ]
  },
  {
   "cell_type": "code",
   "execution_count": 21,
   "id": "d60e8b2d",
   "metadata": {},
   "outputs": [
    {
     "data": {
      "text/plain": [
       "[('foo', (1, 1)), ('goo', (2, 2)), ('goo', (2, 10))]"
      ]
     },
     "execution_count": 21,
     "metadata": {},
     "output_type": "execute_result"
    }
   ],
   "source": [
    "# Inner Joins : 서로 간에 존재하는 키만 합쳐줍니다. (only 교집합)\n",
    "rdd1 = sc.parallelize([\n",
    "    ('foo',1),\n",
    "    ('goo',2),\n",
    "    ('hoo',3)\n",
    "])\n",
    "\n",
    "rdd2 = sc.parallelize([\n",
    "    ('foo',1),\n",
    "    ('goo',2),\n",
    "    ('goo',10),\n",
    "    ('moo',6)\n",
    "])\n",
    "\n",
    "rdd1.join(rdd2).collect()"
   ]
  },
  {
   "cell_type": "markdown",
   "id": "a5345b97",
   "metadata": {},
   "source": [
    "**Outer Join**\n",
    "- 기준이 되는 한쪽에 데이터가 있고, 다른쪽에는 데이터가 없는 경우\n",
    "    - 설정한 기준에 따라ㅓㅅ 기준에 맞는 데이터가 항상 남아있는다.\n",
    "- `leftOuterJoin`: 왼쪽에 있는 rdd가 기준이 됩니다.(함수를 호출하는 쪽)\n",
    "- `rightOuterJoin`: 오른쪽에 있는 rdd가 기준이 됩니다.(함수에 매개변수로 들어가는 쪽)"
   ]
  },
  {
   "cell_type": "code",
   "execution_count": 22,
   "id": "0d14a54e",
   "metadata": {},
   "outputs": [
    {
     "data": {
      "text/plain": [
       "[('foo', (1, 1)), ('goo', (2, 2)), ('goo', (2, 10)), ('hoo', (3, None))]"
      ]
     },
     "execution_count": 22,
     "metadata": {},
     "output_type": "execute_result"
    }
   ],
   "source": [
    "rdd1.leftOuterJoin(rdd2).collect()"
   ]
  },
  {
   "cell_type": "code",
   "execution_count": 23,
   "id": "87d57f20",
   "metadata": {},
   "outputs": [
    {
     "data": {
      "text/plain": [
       "[('foo', (1, 1)), ('moo', (None, 6)), ('goo', (2, 2)), ('goo', (2, 10))]"
      ]
     },
     "execution_count": 23,
     "metadata": {},
     "output_type": "execute_result"
    }
   ],
   "source": [
    "rdd1.rightOuterJoin(rdd2).collect()"
   ]
  },
  {
   "cell_type": "code",
   "execution_count": 24,
   "id": "ce987c35",
   "metadata": {},
   "outputs": [],
   "source": [
    "sc.stop()"
   ]
  },
  {
   "cell_type": "markdown",
   "id": "36d64a5b",
   "metadata": {},
   "source": [
    "데이터 관리는 RDD로 하지말고 SQL이나 그런걸로 하는게 최고.\n",
    "이렇게 느리게 하면 큰일남.\n",
    "지금은 그냥 개념 알려고 하는 것."
   ]
  },
  {
   "cell_type": "code",
   "execution_count": null,
   "id": "1669848d",
   "metadata": {},
   "outputs": [],
   "source": []
  }
 ],
 "metadata": {
  "kernelspec": {
   "display_name": "Python 3 (ipykernel)",
   "language": "python",
   "name": "python3"
  },
  "language_info": {
   "codemirror_mode": {
    "name": "ipython",
    "version": 3
   },
   "file_extension": ".py",
   "mimetype": "text/x-python",
   "name": "python",
   "nbconvert_exporter": "python",
   "pygments_lexer": "ipython3",
   "version": "3.8.16"
  }
 },
 "nbformat": 4,
 "nbformat_minor": 5
}
