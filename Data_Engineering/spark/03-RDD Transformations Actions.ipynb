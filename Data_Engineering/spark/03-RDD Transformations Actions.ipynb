{
 "cells": [
  {
   "cell_type": "code",
   "execution_count": 1,
   "id": "ce14facc",
   "metadata": {
    "scrolled": true
   },
   "outputs": [
    {
     "name": "stderr",
     "output_type": "stream",
     "text": [
      "WARNING: An illegal reflective access operation has occurred\n",
      "WARNING: Illegal reflective access by org.apache.spark.unsafe.Platform (file:/home/ubuntu/spark-3.2.4/jars/spark-unsafe_2.12-3.2.4.jar) to constructor java.nio.DirectByteBuffer(long,int)\n",
      "WARNING: Please consider reporting this to the maintainers of org.apache.spark.unsafe.Platform\n",
      "WARNING: Use --illegal-access=warn to enable warnings of further illegal reflective access operations\n",
      "WARNING: All illegal access operations will be denied in a future release\n",
      "Using Spark's default log4j profile: org/apache/spark/log4j-defaults.properties\n",
      "Setting default log level to \"WARN\".\n",
      "To adjust logging level use sc.setLogLevel(newLevel). For SparkR, use setLogLevel(newLevel).\n",
      "23/06/02 06:33:12 WARN NativeCodeLoader: Unable to load native-hadoop library for your platform... using builtin-java classes where applicable\n"
     ]
    }
   ],
   "source": [
    "from pyspark import SparkConf, SparkContext\n",
    "\n",
    "conf = SparkConf().setMaster('local').setAppName('transformations_actions')\n",
    "sc = SparkContext(conf = conf)"
   ]
  },
  {
   "cell_type": "code",
   "execution_count": 2,
   "id": "b410b1b6",
   "metadata": {
    "scrolled": true
   },
   "outputs": [
    {
     "data": {
      "text/plain": [
       "[('spark.master', 'local'),\n",
       " ('spark.app.startTime', '1685687592576'),\n",
       " ('spark.rdd.compress', 'True'),\n",
       " ('spark.serializer.objectStreamReset', '100'),\n",
       " ('spark.driver.host', 'ip-172-31-38-79.ap-northeast-3.compute.internal'),\n",
       " ('spark.submit.pyFiles', ''),\n",
       " ('spark.executor.id', 'driver'),\n",
       " ('spark.app.name', 'transformations_actions'),\n",
       " ('spark.submit.deployMode', 'client'),\n",
       " ('spark.driver.port', '38647'),\n",
       " ('spark.ui.showConsoleProgress', 'true'),\n",
       " ('spark.app.id', 'local-1685687594299')]"
      ]
     },
     "execution_count": 2,
     "metadata": {},
     "output_type": "execute_result"
    }
   ],
   "source": [
    "# 스파크 설정 환경 확인\n",
    "sc.getConf().getAll()"
   ]
  },
  {
   "cell_type": "markdown",
   "id": "e0c288c8",
   "metadata": {},
   "source": [
    "# Python 리스트를 RDD로 만들기"
   ]
  },
  {
   "cell_type": "code",
   "execution_count": 3,
   "id": "d12057f8",
   "metadata": {},
   "outputs": [
    {
     "data": {
      "text/plain": [
       "ParallelCollectionRDD[0] at readRDDFromFile at PythonRDD.scala:274"
      ]
     },
     "execution_count": 3,
     "metadata": {},
     "output_type": "execute_result"
    }
   ],
   "source": [
    "foods = sc.parallelize([\n",
    "    \"짜장면\", \"마라탕\", \"짬뽕\", \"떡볶이\", \"쌀국수\", \"짬뽕\", \"짜장면\", \"짜장면\", \"짜장면\", \"라면\", \"우동\", \"라면\"\n",
    "])\n",
    "foods"
   ]
  },
  {
   "cell_type": "markdown",
   "id": "931f3532",
   "metadata": {},
   "source": [
    "1. RDD 내의 모든 데이터 가져오기\n",
    "- collect()"
   ]
  },
  {
   "cell_type": "code",
   "execution_count": 4,
   "id": "d1b2c714",
   "metadata": {},
   "outputs": [
    {
     "data": {
      "text/plain": [
       "['짜장면', '마라탕', '짬뽕', '떡볶이', '쌀국수', '짬뽕', '짜장면', '짜장면', '짜장면', '라면', '우동', '라면']"
      ]
     },
     "execution_count": 4,
     "metadata": {},
     "output_type": "execute_result"
    }
   ],
   "source": [
    "foods.collect()"
   ]
  },
  {
   "cell_type": "markdown",
   "id": "09e39ccb",
   "metadata": {},
   "source": [
    "2. 각 데이터 별 개수 세기\n",
    "- countByValue()"
   ]
  },
  {
   "cell_type": "code",
   "execution_count": 5,
   "id": "d6b2f3ea",
   "metadata": {
    "scrolled": true
   },
   "outputs": [
    {
     "name": "stderr",
     "output_type": "stream",
     "text": [
      "                                                                                \r"
     ]
    },
    {
     "data": {
      "text/plain": [
       "defaultdict(int,\n",
       "            {'짜장면': 4,\n",
       "             '마라탕': 1,\n",
       "             '짬뽕': 2,\n",
       "             '떡볶이': 1,\n",
       "             '쌀국수': 1,\n",
       "             '라면': 2,\n",
       "             '우동': 1})"
      ]
     },
     "execution_count": 5,
     "metadata": {},
     "output_type": "execute_result"
    }
   ],
   "source": [
    "foods.countByValue()"
   ]
  },
  {
   "cell_type": "markdown",
   "id": "6d2585f5",
   "metadata": {},
   "source": [
    "3. 상위 n개의 데이터 가져오기\n",
    "- take(n)"
   ]
  },
  {
   "cell_type": "code",
   "execution_count": 6,
   "id": "35da308c",
   "metadata": {},
   "outputs": [
    {
     "data": {
      "text/plain": [
       "['짜장면', '마라탕', '짬뽕']"
      ]
     },
     "execution_count": 6,
     "metadata": {},
     "output_type": "execute_result"
    }
   ],
   "source": [
    "foods.take(3)"
   ]
  },
  {
   "cell_type": "markdown",
   "id": "c0b522c8",
   "metadata": {},
   "source": [
    "4. 처음 1개의 데이터만 가져오기\n",
    "- first()"
   ]
  },
  {
   "cell_type": "code",
   "execution_count": 7,
   "id": "470cbe9b",
   "metadata": {},
   "outputs": [
    {
     "data": {
      "text/plain": [
       "'짜장면'"
      ]
     },
     "execution_count": 7,
     "metadata": {},
     "output_type": "execute_result"
    }
   ],
   "source": [
    "foods.first()"
   ]
  },
  {
   "cell_type": "markdown",
   "id": "a7755548",
   "metadata": {},
   "source": [
    "5. RDD내의 데이터 개수 세기"
   ]
  },
  {
   "cell_type": "code",
   "execution_count": 8,
   "id": "51287f48",
   "metadata": {},
   "outputs": [
    {
     "data": {
      "text/plain": [
       "12"
      ]
     },
     "execution_count": 8,
     "metadata": {},
     "output_type": "execute_result"
    }
   ],
   "source": [
    "foods.count()"
   ]
  },
  {
   "cell_type": "markdown",
   "id": "07793702",
   "metadata": {},
   "source": [
    "6. 중복데이터 제거(Transformations)\n",
    "- distinct"
   ]
  },
  {
   "cell_type": "code",
   "execution_count": 10,
   "id": "7e470257",
   "metadata": {},
   "outputs": [
    {
     "data": {
      "text/plain": [
       "PythonRDD[13] at RDD at PythonRDD.scala:53"
      ]
     },
     "execution_count": 10,
     "metadata": {},
     "output_type": "execute_result"
    }
   ],
   "source": [
    "fd = foods.distinct()\n",
    "fd"
   ]
  },
  {
   "cell_type": "code",
   "execution_count": 11,
   "id": "d5100cb8",
   "metadata": {},
   "outputs": [
    {
     "data": {
      "text/plain": [
       "['짜장면', '마라탕', '짬뽕', '떡볶이', '쌀국수', '라면', '우동']"
      ]
     },
     "execution_count": 11,
     "metadata": {},
     "output_type": "execute_result"
    }
   ],
   "source": [
    "fd.collect()"
   ]
  },
  {
   "cell_type": "code",
   "execution_count": 12,
   "id": "0346a7c5",
   "metadata": {},
   "outputs": [
    {
     "data": {
      "text/plain": [
       "7"
      ]
     },
     "execution_count": 12,
     "metadata": {},
     "output_type": "execute_result"
    }
   ],
   "source": [
    "# 중복을 제외한 개수는 distinct 후 count\n",
    "foods.distinct().count()"
   ]
  },
  {
   "attachments": {
    "image.png": {
     "image/png": "[encoded data removed]"
    }
   },
   "cell_type": "markdown",
   "id": "2b6c1431",
   "metadata": {},
   "source": [
    "- 중요한 기능은 아님\n",
    "- 요소를 하나씩 꺼내서 함수에 저장할 때 사용\n",
    "- foreach : master한테 리턴이 안됨. worker에서만 볼 수 있고 우리 눈엔 보이지 않음\n",
    "    - worker마다 log를 남기고 싶을 때 사용할 수 있음\n",
    "    - terminal에서 log볼 수 있음\n",
    "    ![image.png](attachment:image.png)"
   ]
  },
  {
   "cell_type": "code",
   "execution_count": 14,
   "id": "4bdb3092",
   "metadata": {
    "scrolled": true
   },
   "outputs": [
    {
     "name": "stderr",
     "output_type": "stream",
     "text": [
      "짜장면\n",
      "마라탕\n",
      "짬뽕\n",
      "떡볶이\n",
      "쌀국수\n",
      "짬뽕\n",
      "짜장면\n",
      "짜장면\n",
      "짜장면\n",
      "라면\n",
      "우동\n",
      "라면\n"
     ]
    }
   ],
   "source": [
    "foods.foreach(lambda x : print(x))"
   ]
  },
  {
   "cell_type": "code",
   "execution_count": 16,
   "id": "efc22805",
   "metadata": {},
   "outputs": [],
   "source": [
    "foods.foreach(lambda x : x)"
   ]
  },
  {
   "cell_type": "markdown",
   "id": "f76db17d",
   "metadata": {},
   "source": [
    "Narrow Transformations\n",
    "- 1:1 변환을 의미\n",
    "- 하나의 열을 조작하기 위해 다른 열 및 파티션의 데이터를 사용하지 않는다.\n",
    "- `filter()`, `map()`, `flatMap()`, `sample()`, `union()`"
   ]
  },
  {
   "cell_type": "code",
   "execution_count": 17,
   "id": "2ffa435c",
   "metadata": {},
   "outputs": [
    {
     "data": {
      "text/plain": [
       "ParallelCollectionRDD[22] at readRDDFromFile at PythonRDD.scala:274"
      ]
     },
     "execution_count": 17,
     "metadata": {},
     "output_type": "execute_result"
    }
   ],
   "source": [
    "sample_rdd = sc.parallelize([1,2,3])\n",
    "sample_rdd"
   ]
  },
  {
   "cell_type": "markdown",
   "id": "9ba04d1e",
   "metadata": {},
   "source": [
    "`map(<task>)`"
   ]
  },
  {
   "cell_type": "code",
   "execution_count": 19,
   "id": "ddbc42b7",
   "metadata": {},
   "outputs": [
    {
     "data": {
      "text/plain": [
       "PythonRDD[23] at RDD at PythonRDD.scala:53"
      ]
     },
     "execution_count": 19,
     "metadata": {},
     "output_type": "execute_result"
    }
   ],
   "source": [
    "sample_rdd2 = sample_rdd.map(lambda x : x+2)\n",
    "sample_rdd2"
   ]
  },
  {
   "cell_type": "code",
   "execution_count": 20,
   "id": "0502ff52",
   "metadata": {},
   "outputs": [
    {
     "data": {
      "text/plain": [
       "[3, 4, 5]"
      ]
     },
     "execution_count": 20,
     "metadata": {},
     "output_type": "execute_result"
    }
   ],
   "source": [
    "sample_rdd2.collect()"
   ]
  },
  {
   "cell_type": "markdown",
   "id": "970f1e3a",
   "metadata": {},
   "source": [
    "`flatMap(<func>)`\n",
    "- `map` 함수와 거의 비슷하나, `flatMap` 함수는 `map` 의 모든 결과를 1차원 배열 형식으로 평평하게 나타낸다."
   ]
  },
  {
   "cell_type": "code",
   "execution_count": 22,
   "id": "99068296",
   "metadata": {},
   "outputs": [],
   "source": [
    "movies = [\n",
    "    \"그린 북\",\n",
    "    \"매트릭스\",\n",
    "    \"토이 스토리\",\n",
    "    \"캐스트 어웨이\",\n",
    "    \"포드 V 페라리\",\n",
    "    \"보헤미안 랩소디\",\n",
    "    \"빽 투 더 퓨처\",\n",
    "    \"반지의 제왕\",\n",
    "    \"죽은 시인의 사회\"\n",
    "]"
   ]
  },
  {
   "cell_type": "code",
   "execution_count": 29,
   "id": "9a0e692c",
   "metadata": {},
   "outputs": [
    {
     "data": {
      "text/plain": [
       "ParallelCollectionRDD[26] at readRDDFromFile at PythonRDD.scala:274"
      ]
     },
     "execution_count": 29,
     "metadata": {},
     "output_type": "execute_result"
    }
   ],
   "source": [
    "moviesRDD = sc.parallelize(movies)\n",
    "moviesRDD"
   ]
  },
  {
   "cell_type": "code",
   "execution_count": 30,
   "id": "61748f55",
   "metadata": {},
   "outputs": [
    {
     "data": {
      "text/plain": [
       "PythonRDD[27] at RDD at PythonRDD.scala:53"
      ]
     },
     "execution_count": 30,
     "metadata": {},
     "output_type": "execute_result"
    }
   ],
   "source": [
    "mapMovies = moviesRDD.map(lambda x: x.split())\n",
    "mapMovies"
   ]
  },
  {
   "cell_type": "code",
   "execution_count": 31,
   "id": "7ee840fb",
   "metadata": {},
   "outputs": [
    {
     "data": {
      "text/plain": [
       "[['그린', '북'],\n",
       " ['매트릭스'],\n",
       " ['토이', '스토리'],\n",
       " ['캐스트', '어웨이'],\n",
       " ['포드', 'V', '페라리'],\n",
       " ['보헤미안', '랩소디'],\n",
       " ['빽', '투', '더', '퓨처'],\n",
       " ['반지의', '제왕'],\n",
       " ['죽은', '시인의', '사회']]"
      ]
     },
     "execution_count": 31,
     "metadata": {},
     "output_type": "execute_result"
    }
   ],
   "source": [
    "mapMovies.collect()"
   ]
  },
  {
   "cell_type": "code",
   "execution_count": 32,
   "id": "ba654315",
   "metadata": {
    "scrolled": true
   },
   "outputs": [
    {
     "data": {
      "text/plain": [
       "['그린',\n",
       " '북',\n",
       " '매트릭스',\n",
       " '토이',\n",
       " '스토리',\n",
       " '캐스트',\n",
       " '어웨이',\n",
       " '포드',\n",
       " 'V',\n",
       " '페라리',\n",
       " '보헤미안',\n",
       " '랩소디',\n",
       " '빽',\n",
       " '투',\n",
       " '더',\n",
       " '퓨처',\n",
       " '반지의',\n",
       " '제왕',\n",
       " '죽은',\n",
       " '시인의',\n",
       " '사회']"
      ]
     },
     "execution_count": 32,
     "metadata": {},
     "output_type": "execute_result"
    }
   ],
   "source": [
    "flatMovies = moviesRDD.flatMap(lambda x : x.split()) # 1차원으로 평탄화\n",
    "flatMovies.collect()"
   ]
  },
  {
   "cell_type": "markdown",
   "id": "bdb1c618",
   "metadata": {},
   "source": [
    "# Wide Transformation"
   ]
  },
  {
   "cell_type": "code",
   "execution_count": 33,
   "id": "b3c1287d",
   "metadata": {},
   "outputs": [
    {
     "data": {
      "text/plain": [
       "ParallelCollectionRDD[29] at readRDDFromFile at PythonRDD.scala:274"
      ]
     },
     "execution_count": 33,
     "metadata": {},
     "output_type": "execute_result"
    }
   ],
   "source": [
    "foods = sc.parallelize([\n",
    "    \"짜장면\", \"마라탕\", \"짬뽕\", \"떡볶이\", \"쌀국수\", \"짬뽕\", \"짜장면\", \"짜장면\", \"짜장면\", \"라면\", \"우동\", \"라면\"\n",
    "])\n",
    "foods"
   ]
  },
  {
   "cell_type": "markdown",
   "id": "b33af6cd",
   "metadata": {},
   "source": [
    "`groupBy(<func>)`\n",
    "- `<func>` : 기준을 마련하는 함수"
   ]
  },
  {
   "cell_type": "code",
   "execution_count": 36,
   "id": "1a75d8eb",
   "metadata": {
    "scrolled": true
   },
   "outputs": [
    {
     "data": {
      "text/plain": [
       "[('짜', <pyspark.resultiterable.ResultIterable at 0x7f03c10628b0>),\n",
       " ('마', <pyspark.resultiterable.ResultIterable at 0x7f03c0fa4160>),\n",
       " ('짬', <pyspark.resultiterable.ResultIterable at 0x7f03c1108ca0>),\n",
       " ('떡', <pyspark.resultiterable.ResultIterable at 0x7f03c108adf0>),\n",
       " ('쌀', <pyspark.resultiterable.ResultIterable at 0x7f03c136a7c0>),\n",
       " ('라', <pyspark.resultiterable.ResultIterable at 0x7f03c136a400>),\n",
       " ('우', <pyspark.resultiterable.ResultIterable at 0x7f03c1115400>)]"
      ]
     },
     "execution_count": 36,
     "metadata": {},
     "output_type": "execute_result"
    }
   ],
   "source": [
    "foodsGroup = foods.groupBy(lambda x : x[0])\n",
    "foodsGroup.collect()"
   ]
  },
  {
   "cell_type": "code",
   "execution_count": 37,
   "id": "e3855daf",
   "metadata": {},
   "outputs": [
    {
     "data": {
      "text/plain": [
       "[('짜', <pyspark.resultiterable.ResultIterable at 0x7f03c1249760>),\n",
       " ('마', <pyspark.resultiterable.ResultIterable at 0x7f03c1132c10>),\n",
       " ('짬', <pyspark.resultiterable.ResultIterable at 0x7f03c1062c10>),\n",
       " ('떡', <pyspark.resultiterable.ResultIterable at 0x7f03c12a6640>),\n",
       " ('쌀', <pyspark.resultiterable.ResultIterable at 0x7f03c0e7b430>),\n",
       " ('라', <pyspark.resultiterable.ResultIterable at 0x7f03c1140160>),\n",
       " ('우', <pyspark.resultiterable.ResultIterable at 0x7f03c10e9100>)]"
      ]
     },
     "execution_count": 37,
     "metadata": {},
     "output_type": "execute_result"
    }
   ],
   "source": [
    "res = foodsGroup.collect()\n",
    "res"
   ]
  },
  {
   "cell_type": "code",
   "execution_count": 41,
   "id": "3c4bd267",
   "metadata": {
    "scrolled": true
   },
   "outputs": [
    {
     "name": "stdout",
     "output_type": "stream",
     "text": [
      "짜 ['짜장면', '짜장면', '짜장면', '짜장면']\n",
      "마 ['마라탕']\n",
      "짬 ['짬뽕', '짬뽕']\n",
      "떡 ['떡볶이']\n",
      "쌀 ['쌀국수']\n",
      "라 ['라면', '라면']\n",
      "우 ['우동']\n"
     ]
    }
   ],
   "source": [
    "for (k,v) in res:\n",
    "    print(k, list(v))"
   ]
  },
  {
   "cell_type": "code",
   "execution_count": 42,
   "id": "92d897dd",
   "metadata": {},
   "outputs": [],
   "source": [
    "sc.stop()"
   ]
  }
 ],
 "metadata": {
  "kernelspec": {
   "display_name": "Python 3 (ipykernel)",
   "language": "python",
   "name": "python3"
  },
  "language_info": {
   "codemirror_mode": {
    "name": "ipython",
    "version": 3
   },
   "file_extension": ".py",
   "mimetype": "text/x-python",
   "name": "python",
   "nbconvert_exporter": "python",
   "pygments_lexer": "ipython3",
   "version": "3.8.16"
  }
 },
 "nbformat": 4,
 "nbformat_minor": 5
}
