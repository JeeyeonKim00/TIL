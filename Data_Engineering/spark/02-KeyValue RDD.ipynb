{
 "cells": [
  {
   "cell_type": "markdown",
   "id": "7668d696",
   "metadata": {},
   "source": [
    "# Spark Context 설정"
   ]
  },
  {
   "cell_type": "code",
   "execution_count": 1,
   "id": "7a3e3b65",
   "metadata": {},
   "outputs": [
    {
     "name": "stderr",
     "output_type": "stream",
     "text": [
      "WARNING: An illegal reflective access operation has occurred\n",
      "WARNING: Illegal reflective access by org.apache.spark.unsafe.Platform (file:/home/ubuntu/spark-3.2.4/jars/spark-unsafe_2.12-3.2.4.jar) to constructor java.nio.DirectByteBuffer(long,int)\n",
      "WARNING: Please consider reporting this to the maintainers of org.apache.spark.unsafe.Platform\n",
      "WARNING: Use --illegal-access=warn to enable warnings of further illegal reflective access operations\n",
      "WARNING: All illegal access operations will be denied in a future release\n",
      "Using Spark's default log4j profile: org/apache/spark/log4j-defaults.properties\n",
      "Setting default log level to \"WARN\".\n",
      "To adjust logging level use sc.setLogLevel(newLevel). For SparkR, use setLogLevel(newLevel).\n",
      "23/06/02 04:05:25 WARN NativeCodeLoader: Unable to load native-hadoop library for your platform... using builtin-java classes where applicable\n"
     ]
    }
   ],
   "source": [
    "from pyspark import SparkConf, SparkContext\n",
    "\n",
    "conf = SparkConf().setMaster('local').setAppName('restaurant-review-average')\n",
    "sc = SparkContext(conf = conf)"
   ]
  },
  {
   "cell_type": "markdown",
   "id": "052935af",
   "metadata": {},
   "source": [
    "# csv파일을 RDD 로딩"
   ]
  },
  {
   "cell_type": "code",
   "execution_count": 6,
   "id": "10a39033",
   "metadata": {},
   "outputs": [],
   "source": [
    "filepath = '/home/ubuntu/working/spark-examples/data/restaurant_reviews.csv'"
   ]
  },
  {
   "cell_type": "code",
   "execution_count": 7,
   "id": "906d8d0e",
   "metadata": {},
   "outputs": [
    {
     "data": {
      "text/plain": [
       "file:////home/ubuntu/working/spark-examples/data/restaurant_reviews.csv MapPartitionsRDD[5] at textFile at NativeMethodAccessorImpl.java:0"
      ]
     },
     "execution_count": 7,
     "metadata": {},
     "output_type": "execute_result"
    }
   ],
   "source": [
    "# 경로가 엉망 진창이더라도 RDD가 만들어지긴함\n",
    "# Action을 실제로 해야 알 수 있음.\n",
    "\n",
    "lines = sc.textFile(f'file:///{filepath}') \n",
    "lines"
   ]
  },
  {
   "cell_type": "code",
   "execution_count": 8,
   "id": "5d0ede47",
   "metadata": {
    "scrolled": true
   },
   "outputs": [
    {
     "data": {
      "text/plain": [
       "['id,item,cateogry,reviews,',\n",
       " '0,짜장면,중식,125,',\n",
       " '1,짬뽕,중식,235,',\n",
       " '2,김밥,분식,32,',\n",
       " '3,떡볶이,분식,534,',\n",
       " '4,라멘,일식,223,',\n",
       " '5,돈가스,일식,52,',\n",
       " '6,우동,일식,12,',\n",
       " '7,쌀국수,아시안,312,',\n",
       " '8,햄버거,패스트푸드,12,',\n",
       " '9,치킨,패스트푸드,23']"
      ]
     },
     "execution_count": 8,
     "metadata": {},
     "output_type": "execute_result"
    }
   ],
   "source": [
    "# collect() : rdd 내의 데이터를 모두 출력\n",
    "lines.collect()"
   ]
  },
  {
   "cell_type": "code",
   "execution_count": 12,
   "id": "a3b1d495",
   "metadata": {},
   "outputs": [],
   "source": [
    "# header 제거\n",
    "header = lines.first()\n",
    "\n",
    "# RDD는 제거, 수정 이런게 없다. 그래서 불러올 때 ~를 제외하고 불러오는 방식으로 제거\n",
    "datas = lines.filter(lambda row : row != header)"
   ]
  },
  {
   "cell_type": "code",
   "execution_count": 14,
   "id": "9f3f6c4b",
   "metadata": {},
   "outputs": [
    {
     "data": {
      "text/plain": [
       "['0,짜장면,중식,125,',\n",
       " '1,짬뽕,중식,235,',\n",
       " '2,김밥,분식,32,',\n",
       " '3,떡볶이,분식,534,',\n",
       " '4,라멘,일식,223,',\n",
       " '5,돈가스,일식,52,',\n",
       " '6,우동,일식,12,',\n",
       " '7,쌀국수,아시안,312,',\n",
       " '8,햄버거,패스트푸드,12,',\n",
       " '9,치킨,패스트푸드,23']"
      ]
     },
     "execution_count": 14,
     "metadata": {},
     "output_type": "execute_result"
    }
   ],
   "source": [
    "datas.collect()"
   ]
  },
  {
   "cell_type": "code",
   "execution_count": 23,
   "id": "de7f72dd",
   "metadata": {},
   "outputs": [],
   "source": [
    "# parsing(HTML-beatifulsoup에서 함)\n",
    "# lambda로 짜는건 빡세니, def 사용\n",
    "\n",
    "def parse_task(row):\n",
    "    # 2번, 3번 필드 반환. 단, 3번 필드는 정수로 리턴\n",
    "    fields = row.split(',')\n",
    "    \n",
    "    category = fields[2]\n",
    "    review_cnt = int(fields[3])\n",
    "    \n",
    "    return category, review_cnt"
   ]
  },
  {
   "cell_type": "code",
   "execution_count": 24,
   "id": "a8562eb2",
   "metadata": {},
   "outputs": [
    {
     "data": {
      "text/plain": [
       "('중식', 125)"
      ]
     },
     "execution_count": 24,
     "metadata": {},
     "output_type": "execute_result"
    }
   ],
   "source": [
    "parse_task('0,짜장면,중식,125,')"
   ]
  },
  {
   "cell_type": "code",
   "execution_count": 27,
   "id": "051a279d",
   "metadata": {},
   "outputs": [],
   "source": [
    "# 내가 원하는 task 수행 => map"
   ]
  },
  {
   "cell_type": "markdown",
   "id": "e4c610fa",
   "metadata": {},
   "source": [
    "RDD 내의 모든 데이터에 대해 `parse_task` 함수를 적용 후 `map` 으로 추출"
   ]
  },
  {
   "cell_type": "code",
   "execution_count": 28,
   "id": "c4ec79a3",
   "metadata": {},
   "outputs": [
    {
     "data": {
      "text/plain": [
       "PythonRDD[10] at RDD at PythonRDD.scala:53"
      ]
     },
     "execution_count": 28,
     "metadata": {},
     "output_type": "execute_result"
    }
   ],
   "source": [
    "category_reviews = datas.map(parse_task)\n",
    "category_reviews"
   ]
  },
  {
   "cell_type": "code",
   "execution_count": 30,
   "id": "1b67dccb",
   "metadata": {},
   "outputs": [
    {
     "data": {
      "text/plain": [
       "[('중식', 125),\n",
       " ('중식', 235),\n",
       " ('분식', 32),\n",
       " ('분식', 534),\n",
       " ('일식', 223),\n",
       " ('일식', 52),\n",
       " ('일식', 12),\n",
       " ('아시안', 312),\n",
       " ('패스트푸드', 12),\n",
       " ('패스트푸드', 23)]"
      ]
     },
     "execution_count": 30,
     "metadata": {},
     "output_type": "execute_result"
    }
   ],
   "source": [
    "# key_value RDD가 만들어짐\n",
    "# 비슷 or 똑같은 key를 가진 데이터들을 비슷한, 가까운 partition에 배치가 됨\n",
    "# 아직 정렬은 아니고, 비슷한 것들끼리 모은 것임.\n",
    "\n",
    "category_reviews.collect()"
   ]
  },
  {
   "cell_type": "markdown",
   "id": "600ebac8",
   "metadata": {},
   "source": [
    "**카테고리별 리뷰 개수들의 평균**\n",
    "- value 바꿀 때 웬만하면 map말고 mapValues를 써라.\n",
    "- 왜냐? 키는 바뀔 일이 없기 때문.\n",
    "- map을 쓰면 partition이 바뀔 수 있엄."
   ]
  },
  {
   "cell_type": "code",
   "execution_count": 38,
   "id": "1aed9476",
   "metadata": {
    "scrolled": true
   },
   "outputs": [
    {
     "data": {
      "text/plain": [
       "[('중식', (125, 1)),\n",
       " ('중식', (235, 1)),\n",
       " ('분식', (32, 1)),\n",
       " ('분식', (534, 1)),\n",
       " ('일식', (223, 1)),\n",
       " ('일식', (52, 1)),\n",
       " ('일식', (12, 1)),\n",
       " ('아시안', (312, 1)),\n",
       " ('패스트푸드', (12, 1)),\n",
       " ('패스트푸드', (23, 1))]"
      ]
     },
     "execution_count": 38,
     "metadata": {},
     "output_type": "execute_result"
    }
   ],
   "source": [
    "category_reviews_count = category_reviews.mapValues(lambda x : (x,1))\n",
    "category_reviews_count.collect()\n",
    "\n",
    "# def aa(x):\n",
    "#     return (x, 1)"
   ]
  },
  {
   "cell_type": "markdown",
   "id": "696a3978",
   "metadata": {},
   "source": [
    "- reduceByKey를 이용해 `Key`별 `Value` 에 대한 집계를 수행\n",
    "- 집계 Task(함수) 정의가 필요함."
   ]
  },
  {
   "cell_type": "code",
   "execution_count": 40,
   "id": "0c8968f9",
   "metadata": {
    "scrolled": true
   },
   "outputs": [
    {
     "name": "stderr",
     "output_type": "stream",
     "text": [
      "                                                                                \r"
     ]
    },
    {
     "data": {
      "text/plain": [
       "[('중식', (360, 2)),\n",
       " ('분식', (566, 2)),\n",
       " ('일식', (287, 3)),\n",
       " ('아시안', (312, 1)),\n",
       " ('패스트푸드', (35, 2))]"
      ]
     },
     "execution_count": 40,
     "metadata": {},
     "output_type": "execute_result"
    }
   ],
   "source": [
    "# x= 누적값, y= 새로운값.\n",
    "reduced = category_reviews_count.reduceByKey(lambda x,y: (x[0] + y[0], x[1]+y[1]))\n",
    "reduced.collect()"
   ]
  },
  {
   "cell_type": "markdown",
   "id": "2422f085",
   "metadata": {},
   "source": [
    "예를 들어 **중식**의 `x`, `y`\n",
    "- 첫번째 중식: (125,1) -> x\n",
    "- 두번째 중식: (235,1) -> y\n",
    "\n",
    "- 리뷰의 개수끼리 합치기: x[0] + y[0]\n",
    "- 건수끼리 합치기 : x[1] + y[1]"
   ]
  },
  {
   "cell_type": "code",
   "execution_count": 43,
   "id": "1914e105",
   "metadata": {},
   "outputs": [
    {
     "data": {
      "text/plain": [
       "[('중식', 180.0),\n",
       " ('분식', 283.0),\n",
       " ('일식', 95.66666666666667),\n",
       " ('아시안', 312.0),\n",
       " ('패스트푸드', 17.5)]"
      ]
     },
     "execution_count": 43,
     "metadata": {},
     "output_type": "execute_result"
    }
   ],
   "source": [
    "# 리뷰 개수의 평균 구하기\n",
    "\n",
    "avg = reduced.mapValues(lambda x: x[0]/x[1])\n",
    "avg.collect()"
   ]
  },
  {
   "cell_type": "code",
   "execution_count": 44,
   "id": "d1c09570",
   "metadata": {},
   "outputs": [],
   "source": [
    "sc.stop()"
   ]
  }
 ],
 "metadata": {
  "kernelspec": {
   "display_name": "Python 3 (ipykernel)",
   "language": "python",
   "name": "python3"
  },
  "language_info": {
   "codemirror_mode": {
    "name": "ipython",
    "version": 3
   },
   "file_extension": ".py",
   "mimetype": "text/x-python",
   "name": "python",
   "nbconvert_exporter": "python",
   "pygments_lexer": "ipython3",
   "version": "3.8.16"
  }
 },
 "nbformat": 4,
 "nbformat_minor": 5
}
