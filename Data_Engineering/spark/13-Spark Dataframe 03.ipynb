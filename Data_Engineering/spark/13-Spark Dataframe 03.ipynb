{
 "cells": [
  {
   "cell_type": "code",
   "execution_count": 1,
   "id": "a05d8413",
   "metadata": {},
   "outputs": [
    {
     "name": "stderr",
     "output_type": "stream",
     "text": [
      "WARNING: An illegal reflective access operation has occurred\n",
      "WARNING: Illegal reflective access by org.apache.spark.unsafe.Platform (file:/home/ubuntu/spark-3.2.4/jars/spark-unsafe_2.12-3.2.4.jar) to constructor java.nio.DirectByteBuffer(long,int)\n",
      "WARNING: Please consider reporting this to the maintainers of org.apache.spark.unsafe.Platform\n",
      "WARNING: Use --illegal-access=warn to enable warnings of further illegal reflective access operations\n",
      "WARNING: All illegal access operations will be denied in a future release\n",
      "Using Spark's default log4j profile: org/apache/spark/log4j-defaults.properties\n",
      "Setting default log level to \"WARN\".\n",
      "To adjust logging level use sc.setLogLevel(newLevel). For SparkR, use setLogLevel(newLevel).\n",
      "23/06/12 05:03:02 WARN NativeCodeLoader: Unable to load native-hadoop library for your platform... using builtin-java classes where applicable\n",
      "                                                                                \r"
     ]
    }
   ],
   "source": [
    "from pyspark.sql import SparkSession\n",
    "\n",
    "spark = SparkSession.builder.appName('titanic_train').getOrCreate()\n",
    "\n",
    "filepath = '/home/ubuntu/working/spark-examples/data/titanic_train.csv'\n",
    "titanic_sdf = spark.read.csv(filepath, inferSchema=True, header=True)\n",
    "\n",
    "titanic_pdf = titanic_sdf.select('*').toPandas()\n",
    "\n"
   ]
  },
  {
   "cell_type": "code",
   "execution_count": 2,
   "id": "971ab8b0",
   "metadata": {},
   "outputs": [
    {
     "data": {
      "text/html": [
       "<div>\n",
       "<style scoped>\n",
       "    .dataframe tbody tr th:only-of-type {\n",
       "        vertical-align: middle;\n",
       "    }\n",
       "\n",
       "    .dataframe tbody tr th {\n",
       "        vertical-align: top;\n",
       "    }\n",
       "\n",
       "    .dataframe thead th {\n",
       "        text-align: right;\n",
       "    }\n",
       "</style>\n",
       "<table border=\"1\" class=\"dataframe\">\n",
       "  <thead>\n",
       "    <tr style=\"text-align: right;\">\n",
       "      <th></th>\n",
       "      <th>PassengerId</th>\n",
       "      <th>Survived</th>\n",
       "      <th>Pclass</th>\n",
       "      <th>Name</th>\n",
       "      <th>Sex</th>\n",
       "      <th>Age</th>\n",
       "      <th>SibSp</th>\n",
       "      <th>Parch</th>\n",
       "      <th>Ticket</th>\n",
       "      <th>Fare</th>\n",
       "      <th>Cabin</th>\n",
       "      <th>Embarked</th>\n",
       "    </tr>\n",
       "  </thead>\n",
       "  <tbody>\n",
       "    <tr>\n",
       "      <th>0</th>\n",
       "      <td>1</td>\n",
       "      <td>0</td>\n",
       "      <td>3</td>\n",
       "      <td>Braund, Mr. Owen Harris</td>\n",
       "      <td>male</td>\n",
       "      <td>22.0</td>\n",
       "      <td>1</td>\n",
       "      <td>0</td>\n",
       "      <td>A/5 21171</td>\n",
       "      <td>7.2500</td>\n",
       "      <td>None</td>\n",
       "      <td>S</td>\n",
       "    </tr>\n",
       "    <tr>\n",
       "      <th>1</th>\n",
       "      <td>2</td>\n",
       "      <td>1</td>\n",
       "      <td>1</td>\n",
       "      <td>Cumings, Mrs. John Bradley (Florence Briggs Th...</td>\n",
       "      <td>female</td>\n",
       "      <td>38.0</td>\n",
       "      <td>1</td>\n",
       "      <td>0</td>\n",
       "      <td>PC 17599</td>\n",
       "      <td>71.2833</td>\n",
       "      <td>C85</td>\n",
       "      <td>C</td>\n",
       "    </tr>\n",
       "    <tr>\n",
       "      <th>2</th>\n",
       "      <td>3</td>\n",
       "      <td>1</td>\n",
       "      <td>3</td>\n",
       "      <td>Heikkinen, Miss. Laina</td>\n",
       "      <td>female</td>\n",
       "      <td>26.0</td>\n",
       "      <td>0</td>\n",
       "      <td>0</td>\n",
       "      <td>STON/O2. 3101282</td>\n",
       "      <td>7.9250</td>\n",
       "      <td>None</td>\n",
       "      <td>S</td>\n",
       "    </tr>\n",
       "    <tr>\n",
       "      <th>3</th>\n",
       "      <td>4</td>\n",
       "      <td>1</td>\n",
       "      <td>1</td>\n",
       "      <td>Futrelle, Mrs. Jacques Heath (Lily May Peel)</td>\n",
       "      <td>female</td>\n",
       "      <td>35.0</td>\n",
       "      <td>1</td>\n",
       "      <td>0</td>\n",
       "      <td>113803</td>\n",
       "      <td>53.1000</td>\n",
       "      <td>C123</td>\n",
       "      <td>S</td>\n",
       "    </tr>\n",
       "    <tr>\n",
       "      <th>4</th>\n",
       "      <td>5</td>\n",
       "      <td>0</td>\n",
       "      <td>3</td>\n",
       "      <td>Allen, Mr. William Henry</td>\n",
       "      <td>male</td>\n",
       "      <td>35.0</td>\n",
       "      <td>0</td>\n",
       "      <td>0</td>\n",
       "      <td>373450</td>\n",
       "      <td>8.0500</td>\n",
       "      <td>None</td>\n",
       "      <td>S</td>\n",
       "    </tr>\n",
       "  </tbody>\n",
       "</table>\n",
       "</div>"
      ],
      "text/plain": [
       "   PassengerId  Survived  Pclass   \n",
       "0            1         0       3  \\\n",
       "1            2         1       1   \n",
       "2            3         1       3   \n",
       "3            4         1       1   \n",
       "4            5         0       3   \n",
       "\n",
       "                                                Name     Sex   Age  SibSp   \n",
       "0                            Braund, Mr. Owen Harris    male  22.0      1  \\\n",
       "1  Cumings, Mrs. John Bradley (Florence Briggs Th...  female  38.0      1   \n",
       "2                             Heikkinen, Miss. Laina  female  26.0      0   \n",
       "3       Futrelle, Mrs. Jacques Heath (Lily May Peel)  female  35.0      1   \n",
       "4                           Allen, Mr. William Henry    male  35.0      0   \n",
       "\n",
       "   Parch            Ticket     Fare Cabin Embarked  \n",
       "0      0         A/5 21171   7.2500  None        S  \n",
       "1      0          PC 17599  71.2833   C85        C  \n",
       "2      0  STON/O2. 3101282   7.9250  None        S  \n",
       "3      0            113803  53.1000  C123        S  \n",
       "4      0            373450   8.0500  None        S  "
      ]
     },
     "execution_count": 2,
     "metadata": {},
     "output_type": "execute_result"
    }
   ],
   "source": [
    "titanic_pdf.head()"
   ]
  },
  {
   "cell_type": "markdown",
   "id": "15561e46",
   "metadata": {},
   "source": [
    "# Pandas DataFrame에서 데이터 조작하기|\n",
    "- 컬럼에 대한 삽입과 수정을 쉽게 할 수 있다. `[ ]`를 사용해서.."
   ]
  },
  {
   "cell_type": "code",
   "execution_count": 3,
   "id": "c766f0ed",
   "metadata": {},
   "outputs": [
    {
     "data": {
      "text/html": [
       "<div>\n",
       "<style scoped>\n",
       "    .dataframe tbody tr th:only-of-type {\n",
       "        vertical-align: middle;\n",
       "    }\n",
       "\n",
       "    .dataframe tbody tr th {\n",
       "        vertical-align: top;\n",
       "    }\n",
       "\n",
       "    .dataframe thead th {\n",
       "        text-align: right;\n",
       "    }\n",
       "</style>\n",
       "<table border=\"1\" class=\"dataframe\">\n",
       "  <thead>\n",
       "    <tr style=\"text-align: right;\">\n",
       "      <th></th>\n",
       "      <th>PassengerId</th>\n",
       "      <th>Survived</th>\n",
       "      <th>Pclass</th>\n",
       "      <th>Name</th>\n",
       "      <th>Sex</th>\n",
       "      <th>Age</th>\n",
       "      <th>SibSp</th>\n",
       "      <th>Parch</th>\n",
       "      <th>Ticket</th>\n",
       "      <th>Fare</th>\n",
       "      <th>Cabin</th>\n",
       "      <th>Embarked</th>\n",
       "      <th>Extra_Fare</th>\n",
       "    </tr>\n",
       "  </thead>\n",
       "  <tbody>\n",
       "    <tr>\n",
       "      <th>0</th>\n",
       "      <td>1</td>\n",
       "      <td>0</td>\n",
       "      <td>3</td>\n",
       "      <td>Braund, Mr. Owen Harris</td>\n",
       "      <td>male</td>\n",
       "      <td>22.0</td>\n",
       "      <td>1</td>\n",
       "      <td>0</td>\n",
       "      <td>A/5 21171</td>\n",
       "      <td>7.2500</td>\n",
       "      <td>None</td>\n",
       "      <td>S</td>\n",
       "      <td>72.500</td>\n",
       "    </tr>\n",
       "    <tr>\n",
       "      <th>1</th>\n",
       "      <td>2</td>\n",
       "      <td>1</td>\n",
       "      <td>1</td>\n",
       "      <td>Cumings, Mrs. John Bradley (Florence Briggs Th...</td>\n",
       "      <td>female</td>\n",
       "      <td>38.0</td>\n",
       "      <td>1</td>\n",
       "      <td>0</td>\n",
       "      <td>PC 17599</td>\n",
       "      <td>71.2833</td>\n",
       "      <td>C85</td>\n",
       "      <td>C</td>\n",
       "      <td>712.833</td>\n",
       "    </tr>\n",
       "    <tr>\n",
       "      <th>2</th>\n",
       "      <td>3</td>\n",
       "      <td>1</td>\n",
       "      <td>3</td>\n",
       "      <td>Heikkinen, Miss. Laina</td>\n",
       "      <td>female</td>\n",
       "      <td>26.0</td>\n",
       "      <td>0</td>\n",
       "      <td>0</td>\n",
       "      <td>STON/O2. 3101282</td>\n",
       "      <td>7.9250</td>\n",
       "      <td>None</td>\n",
       "      <td>S</td>\n",
       "      <td>79.250</td>\n",
       "    </tr>\n",
       "    <tr>\n",
       "      <th>3</th>\n",
       "      <td>4</td>\n",
       "      <td>1</td>\n",
       "      <td>1</td>\n",
       "      <td>Futrelle, Mrs. Jacques Heath (Lily May Peel)</td>\n",
       "      <td>female</td>\n",
       "      <td>35.0</td>\n",
       "      <td>1</td>\n",
       "      <td>0</td>\n",
       "      <td>113803</td>\n",
       "      <td>53.1000</td>\n",
       "      <td>C123</td>\n",
       "      <td>S</td>\n",
       "      <td>531.000</td>\n",
       "    </tr>\n",
       "    <tr>\n",
       "      <th>4</th>\n",
       "      <td>5</td>\n",
       "      <td>0</td>\n",
       "      <td>3</td>\n",
       "      <td>Allen, Mr. William Henry</td>\n",
       "      <td>male</td>\n",
       "      <td>35.0</td>\n",
       "      <td>0</td>\n",
       "      <td>0</td>\n",
       "      <td>373450</td>\n",
       "      <td>8.0500</td>\n",
       "      <td>None</td>\n",
       "      <td>S</td>\n",
       "      <td>80.500</td>\n",
       "    </tr>\n",
       "  </tbody>\n",
       "</table>\n",
       "</div>"
      ],
      "text/plain": [
       "   PassengerId  Survived  Pclass   \n",
       "0            1         0       3  \\\n",
       "1            2         1       1   \n",
       "2            3         1       3   \n",
       "3            4         1       1   \n",
       "4            5         0       3   \n",
       "\n",
       "                                                Name     Sex   Age  SibSp   \n",
       "0                            Braund, Mr. Owen Harris    male  22.0      1  \\\n",
       "1  Cumings, Mrs. John Bradley (Florence Briggs Th...  female  38.0      1   \n",
       "2                             Heikkinen, Miss. Laina  female  26.0      0   \n",
       "3       Futrelle, Mrs. Jacques Heath (Lily May Peel)  female  35.0      1   \n",
       "4                           Allen, Mr. William Henry    male  35.0      0   \n",
       "\n",
       "   Parch            Ticket     Fare Cabin Embarked  Extra_Fare  \n",
       "0      0         A/5 21171   7.2500  None        S      72.500  \n",
       "1      0          PC 17599  71.2833   C85        C     712.833  \n",
       "2      0  STON/O2. 3101282   7.9250  None        S      79.250  \n",
       "3      0            113803  53.1000  C123        S     531.000  \n",
       "4      0            373450   8.0500  None        S      80.500  "
      ]
     },
     "execution_count": 3,
     "metadata": {},
     "output_type": "execute_result"
    }
   ],
   "source": [
    "import numpy as np\n",
    "\n",
    "titanic_pdf_copy = titanic_pdf.copy()\n",
    "\n",
    "# Fare에 10을 곱해서 Extra_Fare라는 컬럼에 집어넣기\n",
    "titanic_pdf_copy['Extra_Fare'] = titanic_pdf_copy['Fare']*10\n",
    "titanic_pdf_copy.head()"
   ]
  },
  {
   "cell_type": "code",
   "execution_count": 4,
   "id": "2411d485",
   "metadata": {},
   "outputs": [],
   "source": [
    "# 컬럼 데이터 수정\n",
    "titanic_pdf_copy['Fare'] = titanic_pdf_copy['Fare'] + 20"
   ]
  },
  {
   "cell_type": "code",
   "execution_count": 5,
   "id": "8bb51aa4",
   "metadata": {},
   "outputs": [
    {
     "data": {
      "text/html": [
       "<div>\n",
       "<style scoped>\n",
       "    .dataframe tbody tr th:only-of-type {\n",
       "        vertical-align: middle;\n",
       "    }\n",
       "\n",
       "    .dataframe tbody tr th {\n",
       "        vertical-align: top;\n",
       "    }\n",
       "\n",
       "    .dataframe thead th {\n",
       "        text-align: right;\n",
       "    }\n",
       "</style>\n",
       "<table border=\"1\" class=\"dataframe\">\n",
       "  <thead>\n",
       "    <tr style=\"text-align: right;\">\n",
       "      <th></th>\n",
       "      <th>PassengerId</th>\n",
       "      <th>Survived</th>\n",
       "      <th>Pclass</th>\n",
       "      <th>Name</th>\n",
       "      <th>Sex</th>\n",
       "      <th>Age</th>\n",
       "      <th>SibSp</th>\n",
       "      <th>Parch</th>\n",
       "      <th>Ticket</th>\n",
       "      <th>Fare</th>\n",
       "      <th>Cabin</th>\n",
       "      <th>Embarked</th>\n",
       "      <th>Extra_Fare</th>\n",
       "    </tr>\n",
       "  </thead>\n",
       "  <tbody>\n",
       "    <tr>\n",
       "      <th>0</th>\n",
       "      <td>1</td>\n",
       "      <td>0</td>\n",
       "      <td>3</td>\n",
       "      <td>Braund, Mr. Owen Harris</td>\n",
       "      <td>male</td>\n",
       "      <td>22.0</td>\n",
       "      <td>1</td>\n",
       "      <td>0</td>\n",
       "      <td>A/5 21171</td>\n",
       "      <td>27.2500</td>\n",
       "      <td>None</td>\n",
       "      <td>S</td>\n",
       "      <td>72.500</td>\n",
       "    </tr>\n",
       "    <tr>\n",
       "      <th>1</th>\n",
       "      <td>2</td>\n",
       "      <td>1</td>\n",
       "      <td>1</td>\n",
       "      <td>Cumings, Mrs. John Bradley (Florence Briggs Th...</td>\n",
       "      <td>female</td>\n",
       "      <td>38.0</td>\n",
       "      <td>1</td>\n",
       "      <td>0</td>\n",
       "      <td>PC 17599</td>\n",
       "      <td>91.2833</td>\n",
       "      <td>C85</td>\n",
       "      <td>C</td>\n",
       "      <td>712.833</td>\n",
       "    </tr>\n",
       "    <tr>\n",
       "      <th>2</th>\n",
       "      <td>3</td>\n",
       "      <td>1</td>\n",
       "      <td>3</td>\n",
       "      <td>Heikkinen, Miss. Laina</td>\n",
       "      <td>female</td>\n",
       "      <td>26.0</td>\n",
       "      <td>0</td>\n",
       "      <td>0</td>\n",
       "      <td>STON/O2. 3101282</td>\n",
       "      <td>27.9250</td>\n",
       "      <td>None</td>\n",
       "      <td>S</td>\n",
       "      <td>79.250</td>\n",
       "    </tr>\n",
       "    <tr>\n",
       "      <th>3</th>\n",
       "      <td>4</td>\n",
       "      <td>1</td>\n",
       "      <td>1</td>\n",
       "      <td>Futrelle, Mrs. Jacques Heath (Lily May Peel)</td>\n",
       "      <td>female</td>\n",
       "      <td>35.0</td>\n",
       "      <td>1</td>\n",
       "      <td>0</td>\n",
       "      <td>113803</td>\n",
       "      <td>73.1000</td>\n",
       "      <td>C123</td>\n",
       "      <td>S</td>\n",
       "      <td>531.000</td>\n",
       "    </tr>\n",
       "    <tr>\n",
       "      <th>4</th>\n",
       "      <td>5</td>\n",
       "      <td>0</td>\n",
       "      <td>3</td>\n",
       "      <td>Allen, Mr. William Henry</td>\n",
       "      <td>male</td>\n",
       "      <td>35.0</td>\n",
       "      <td>0</td>\n",
       "      <td>0</td>\n",
       "      <td>373450</td>\n",
       "      <td>28.0500</td>\n",
       "      <td>None</td>\n",
       "      <td>S</td>\n",
       "      <td>80.500</td>\n",
       "    </tr>\n",
       "  </tbody>\n",
       "</table>\n",
       "</div>"
      ],
      "text/plain": [
       "   PassengerId  Survived  Pclass   \n",
       "0            1         0       3  \\\n",
       "1            2         1       1   \n",
       "2            3         1       3   \n",
       "3            4         1       1   \n",
       "4            5         0       3   \n",
       "\n",
       "                                                Name     Sex   Age  SibSp   \n",
       "0                            Braund, Mr. Owen Harris    male  22.0      1  \\\n",
       "1  Cumings, Mrs. John Bradley (Florence Briggs Th...  female  38.0      1   \n",
       "2                             Heikkinen, Miss. Laina  female  26.0      0   \n",
       "3       Futrelle, Mrs. Jacques Heath (Lily May Peel)  female  35.0      1   \n",
       "4                           Allen, Mr. William Henry    male  35.0      0   \n",
       "\n",
       "   Parch            Ticket     Fare Cabin Embarked  Extra_Fare  \n",
       "0      0         A/5 21171  27.2500  None        S      72.500  \n",
       "1      0          PC 17599  91.2833   C85        C     712.833  \n",
       "2      0  STON/O2. 3101282  27.9250  None        S      79.250  \n",
       "3      0            113803  73.1000  C123        S     531.000  \n",
       "4      0            373450  28.0500  None        S      80.500  "
      ]
     },
     "execution_count": 5,
     "metadata": {},
     "output_type": "execute_result"
    }
   ],
   "source": [
    "titanic_pdf_copy.head()"
   ]
  },
  {
   "cell_type": "code",
   "execution_count": 6,
   "id": "19b73108",
   "metadata": {},
   "outputs": [
    {
     "data": {
      "text/html": [
       "<div>\n",
       "<style scoped>\n",
       "    .dataframe tbody tr th:only-of-type {\n",
       "        vertical-align: middle;\n",
       "    }\n",
       "\n",
       "    .dataframe tbody tr th {\n",
       "        vertical-align: top;\n",
       "    }\n",
       "\n",
       "    .dataframe thead th {\n",
       "        text-align: right;\n",
       "    }\n",
       "</style>\n",
       "<table border=\"1\" class=\"dataframe\">\n",
       "  <thead>\n",
       "    <tr style=\"text-align: right;\">\n",
       "      <th></th>\n",
       "      <th>PassengerId</th>\n",
       "      <th>Survived</th>\n",
       "      <th>Pclass</th>\n",
       "      <th>Name</th>\n",
       "      <th>Sex</th>\n",
       "      <th>Age</th>\n",
       "      <th>SibSp</th>\n",
       "      <th>Parch</th>\n",
       "      <th>Ticket</th>\n",
       "      <th>Fare</th>\n",
       "      <th>Cabin</th>\n",
       "      <th>Embarked</th>\n",
       "      <th>Extra_Fare</th>\n",
       "    </tr>\n",
       "  </thead>\n",
       "  <tbody>\n",
       "    <tr>\n",
       "      <th>0</th>\n",
       "      <td>1</td>\n",
       "      <td>0</td>\n",
       "      <td>3</td>\n",
       "      <td>Braund, Mr. Owen Harris</td>\n",
       "      <td>male</td>\n",
       "      <td>22.0</td>\n",
       "      <td>1</td>\n",
       "      <td>0</td>\n",
       "      <td>A/5 21171</td>\n",
       "      <td>27</td>\n",
       "      <td>None</td>\n",
       "      <td>S</td>\n",
       "      <td>72.500</td>\n",
       "    </tr>\n",
       "    <tr>\n",
       "      <th>1</th>\n",
       "      <td>2</td>\n",
       "      <td>1</td>\n",
       "      <td>1</td>\n",
       "      <td>Cumings, Mrs. John Bradley (Florence Briggs Th...</td>\n",
       "      <td>female</td>\n",
       "      <td>38.0</td>\n",
       "      <td>1</td>\n",
       "      <td>0</td>\n",
       "      <td>PC 17599</td>\n",
       "      <td>91</td>\n",
       "      <td>C85</td>\n",
       "      <td>C</td>\n",
       "      <td>712.833</td>\n",
       "    </tr>\n",
       "    <tr>\n",
       "      <th>2</th>\n",
       "      <td>3</td>\n",
       "      <td>1</td>\n",
       "      <td>3</td>\n",
       "      <td>Heikkinen, Miss. Laina</td>\n",
       "      <td>female</td>\n",
       "      <td>26.0</td>\n",
       "      <td>0</td>\n",
       "      <td>0</td>\n",
       "      <td>STON/O2. 3101282</td>\n",
       "      <td>27</td>\n",
       "      <td>None</td>\n",
       "      <td>S</td>\n",
       "      <td>79.250</td>\n",
       "    </tr>\n",
       "    <tr>\n",
       "      <th>3</th>\n",
       "      <td>4</td>\n",
       "      <td>1</td>\n",
       "      <td>1</td>\n",
       "      <td>Futrelle, Mrs. Jacques Heath (Lily May Peel)</td>\n",
       "      <td>female</td>\n",
       "      <td>35.0</td>\n",
       "      <td>1</td>\n",
       "      <td>0</td>\n",
       "      <td>113803</td>\n",
       "      <td>73</td>\n",
       "      <td>C123</td>\n",
       "      <td>S</td>\n",
       "      <td>531.000</td>\n",
       "    </tr>\n",
       "    <tr>\n",
       "      <th>4</th>\n",
       "      <td>5</td>\n",
       "      <td>0</td>\n",
       "      <td>3</td>\n",
       "      <td>Allen, Mr. William Henry</td>\n",
       "      <td>male</td>\n",
       "      <td>35.0</td>\n",
       "      <td>0</td>\n",
       "      <td>0</td>\n",
       "      <td>373450</td>\n",
       "      <td>28</td>\n",
       "      <td>None</td>\n",
       "      <td>S</td>\n",
       "      <td>80.500</td>\n",
       "    </tr>\n",
       "  </tbody>\n",
       "</table>\n",
       "</div>"
      ],
      "text/plain": [
       "   PassengerId  Survived  Pclass   \n",
       "0            1         0       3  \\\n",
       "1            2         1       1   \n",
       "2            3         1       3   \n",
       "3            4         1       1   \n",
       "4            5         0       3   \n",
       "\n",
       "                                                Name     Sex   Age  SibSp   \n",
       "0                            Braund, Mr. Owen Harris    male  22.0      1  \\\n",
       "1  Cumings, Mrs. John Bradley (Florence Briggs Th...  female  38.0      1   \n",
       "2                             Heikkinen, Miss. Laina  female  26.0      0   \n",
       "3       Futrelle, Mrs. Jacques Heath (Lily May Peel)  female  35.0      1   \n",
       "4                           Allen, Mr. William Henry    male  35.0      0   \n",
       "\n",
       "   Parch            Ticket  Fare Cabin Embarked  Extra_Fare  \n",
       "0      0         A/5 21171    27  None        S      72.500  \n",
       "1      0          PC 17599    91   C85        C     712.833  \n",
       "2      0  STON/O2. 3101282    27  None        S      79.250  \n",
       "3      0            113803    73  C123        S     531.000  \n",
       "4      0            373450    28  None        S      80.500  "
      ]
     },
     "execution_count": 6,
     "metadata": {},
     "output_type": "execute_result"
    }
   ],
   "source": [
    "titanic_pdf_copy['Fare'] = titanic_pdf_copy['Fare'].astype(np.int64)\n",
    "titanic_pdf_copy.head()"
   ]
  },
  {
   "cell_type": "markdown",
   "id": "9270c07e",
   "metadata": {},
   "source": [
    "# Spark Dataframe의 데이터 조작\n",
    "- `withColumn()`: 기존 컬럼 값을 수정, 타입 변경, 신규 컬럼 추가\n",
    "    - `withColumn('신규 또는 업데이트 되는 **컬럼명**','신규 또는 업데이트되는 값'`)\n",
    "- 주의!! : 신규 또는 업데이트 되는 값을 생성 시에 기존 컬럼 값을 기반으로 한다면, 신규 컬럼은 **문자열**, 기존 컬럼은 반드시 컬럼객체(col('컬럼명'))을 사용\n",
    "- 신규 컬럼을 추가하는 것은 `select` 로도 가능하다\n",
    "- 컬럼명 변경은 `withColumnRename()` 메소드 사용 가능"
   ]
  },
  {
   "cell_type": "code",
   "execution_count": 7,
   "id": "3f0ebf3d",
   "metadata": {},
   "outputs": [],
   "source": [
    "from pyspark.sql.functions import col\n",
    "\n",
    "titanic_sdf_copy  = titanic_sdf.select('*')\n",
    "\n",
    "titanic_sdf_copy = titanic_sdf_copy.withColumn('Extra_Fare',col('Fare')*10)"
   ]
  },
  {
   "cell_type": "code",
   "execution_count": 8,
   "id": "e879eefc",
   "metadata": {},
   "outputs": [
    {
     "name": "stdout",
     "output_type": "stream",
     "text": [
      "+-----------+--------+------+--------------------+------+----+-----+-----+----------------+-------+-----+--------+----------+\n",
      "|PassengerId|Survived|Pclass|                Name|   Sex| Age|SibSp|Parch|          Ticket|   Fare|Cabin|Embarked|Extra_Fare|\n",
      "+-----------+--------+------+--------------------+------+----+-----+-----+----------------+-------+-----+--------+----------+\n",
      "|          1|       0|     3|Braund, Mr. Owen ...|  male|22.0|    1|    0|       A/5 21171|   7.25| null|       S|      72.5|\n",
      "|          2|       1|     1|Cumings, Mrs. Joh...|female|38.0|    1|    0|        PC 17599|71.2833|  C85|       C|   712.833|\n",
      "|          3|       1|     3|Heikkinen, Miss. ...|female|26.0|    0|    0|STON/O2. 3101282|  7.925| null|       S|     79.25|\n",
      "|          4|       1|     1|Futrelle, Mrs. Ja...|female|35.0|    1|    0|          113803|   53.1| C123|       S|     531.0|\n",
      "|          5|       0|     3|Allen, Mr. Willia...|  male|35.0|    0|    0|          373450|   8.05| null|       S|      80.5|\n",
      "+-----------+--------+------+--------------------+------+----+-----+-----+----------------+-------+-----+--------+----------+\n",
      "only showing top 5 rows\n",
      "\n"
     ]
    }
   ],
   "source": [
    "titanic_sdf_copy.show(5)"
   ]
  },
  {
   "cell_type": "code",
   "execution_count": 9,
   "id": "7983d2d8",
   "metadata": {},
   "outputs": [
    {
     "name": "stdout",
     "output_type": "stream",
     "text": [
      "+-----------+--------+------+--------------------+------+----+-----+-----+----------------+-------+-----+--------+----------+\n",
      "|PassengerId|Survived|Pclass|                Name|   Sex| Age|SibSp|Parch|          Ticket|   Fare|Cabin|Embarked|Extra_Fare|\n",
      "+-----------+--------+------+--------------------+------+----+-----+-----+----------------+-------+-----+--------+----------+\n",
      "|          1|       0|     3|Braund, Mr. Owen ...|  male|22.0|    1|    0|       A/5 21171|  27.25| null|       S|      72.5|\n",
      "|          2|       1|     1|Cumings, Mrs. Joh...|female|38.0|    1|    0|        PC 17599|91.2833|  C85|       C|   712.833|\n",
      "|          3|       1|     3|Heikkinen, Miss. ...|female|26.0|    0|    0|STON/O2. 3101282| 27.925| null|       S|     79.25|\n",
      "|          4|       1|     1|Futrelle, Mrs. Ja...|female|35.0|    1|    0|          113803|   73.1| C123|       S|     531.0|\n",
      "|          5|       0|     3|Allen, Mr. Willia...|  male|35.0|    0|    0|          373450|  28.05| null|       S|      80.5|\n",
      "+-----------+--------+------+--------------------+------+----+-----+-----+----------------+-------+-----+--------+----------+\n",
      "only showing top 5 rows\n",
      "\n"
     ]
    }
   ],
   "source": [
    "# 기존 컬럼 Update\n",
    "titanic_sdf_copy = titanic_sdf_copy.withColumn('Fare', col('Fare')+20)\n",
    "titanic_sdf_copy.show(5)"
   ]
  },
  {
   "cell_type": "code",
   "execution_count": 10,
   "id": "9e8c7e86",
   "metadata": {},
   "outputs": [
    {
     "name": "stdout",
     "output_type": "stream",
     "text": [
      "+-----------+--------+------+--------------------+------+----+-----+-----+----------------+----+-----+--------+----------+\n",
      "|PassengerId|Survived|Pclass|                Name|   Sex| Age|SibSp|Parch|          Ticket|Fare|Cabin|Embarked|Extra_Fare|\n",
      "+-----------+--------+------+--------------------+------+----+-----+-----+----------------+----+-----+--------+----------+\n",
      "|          1|       0|     3|Braund, Mr. Owen ...|  male|22.0|    1|    0|       A/5 21171|  27| null|       S|      72.5|\n",
      "|          2|       1|     1|Cumings, Mrs. Joh...|female|38.0|    1|    0|        PC 17599|  91|  C85|       C|   712.833|\n",
      "|          3|       1|     3|Heikkinen, Miss. ...|female|26.0|    0|    0|STON/O2. 3101282|  27| null|       S|     79.25|\n",
      "|          4|       1|     1|Futrelle, Mrs. Ja...|female|35.0|    1|    0|          113803|  73| C123|       S|     531.0|\n",
      "|          5|       0|     3|Allen, Mr. Willia...|  male|35.0|    0|    0|          373450|  28| null|       S|      80.5|\n",
      "+-----------+--------+------+--------------------+------+----+-----+-----+----------------+----+-----+--------+----------+\n",
      "only showing top 5 rows\n",
      "\n"
     ]
    }
   ],
   "source": [
    "titanic_sdf_copy = titanic_sdf_copy.withColumn('Fare', col('Fare').cast('Integer'))\n",
    "titanic_sdf_copy.show(5)"
   ]
  },
  {
   "cell_type": "code",
   "execution_count": 11,
   "id": "e20e6706",
   "metadata": {},
   "outputs": [
    {
     "data": {
      "text/html": [
       "<div>\n",
       "<style scoped>\n",
       "    .dataframe tbody tr th:only-of-type {\n",
       "        vertical-align: middle;\n",
       "    }\n",
       "\n",
       "    .dataframe tbody tr th {\n",
       "        vertical-align: top;\n",
       "    }\n",
       "\n",
       "    .dataframe thead th {\n",
       "        text-align: right;\n",
       "    }\n",
       "</style>\n",
       "<table border=\"1\" class=\"dataframe\">\n",
       "  <thead>\n",
       "    <tr style=\"text-align: right;\">\n",
       "      <th></th>\n",
       "      <th>PassengerId</th>\n",
       "      <th>Survived</th>\n",
       "      <th>Pclass</th>\n",
       "      <th>Name</th>\n",
       "      <th>Sex</th>\n",
       "      <th>Age</th>\n",
       "      <th>SibSp</th>\n",
       "      <th>Parch</th>\n",
       "      <th>Ticket</th>\n",
       "      <th>Fare</th>\n",
       "      <th>Cabin</th>\n",
       "      <th>Embarked</th>\n",
       "      <th>Extra_Fare</th>\n",
       "    </tr>\n",
       "  </thead>\n",
       "  <tbody>\n",
       "    <tr>\n",
       "      <th>0</th>\n",
       "      <td>1</td>\n",
       "      <td>0</td>\n",
       "      <td>3</td>\n",
       "      <td>Braund, Mr. Owen Harris</td>\n",
       "      <td>male</td>\n",
       "      <td>22.0</td>\n",
       "      <td>1</td>\n",
       "      <td>0</td>\n",
       "      <td>A/5 21171</td>\n",
       "      <td>27</td>\n",
       "      <td>None</td>\n",
       "      <td>S</td>\n",
       "      <td>10</td>\n",
       "    </tr>\n",
       "    <tr>\n",
       "      <th>1</th>\n",
       "      <td>2</td>\n",
       "      <td>1</td>\n",
       "      <td>1</td>\n",
       "      <td>Cumings, Mrs. John Bradley (Florence Briggs Th...</td>\n",
       "      <td>female</td>\n",
       "      <td>38.0</td>\n",
       "      <td>1</td>\n",
       "      <td>0</td>\n",
       "      <td>PC 17599</td>\n",
       "      <td>91</td>\n",
       "      <td>C85</td>\n",
       "      <td>C</td>\n",
       "      <td>10</td>\n",
       "    </tr>\n",
       "    <tr>\n",
       "      <th>2</th>\n",
       "      <td>3</td>\n",
       "      <td>1</td>\n",
       "      <td>3</td>\n",
       "      <td>Heikkinen, Miss. Laina</td>\n",
       "      <td>female</td>\n",
       "      <td>26.0</td>\n",
       "      <td>0</td>\n",
       "      <td>0</td>\n",
       "      <td>STON/O2. 3101282</td>\n",
       "      <td>27</td>\n",
       "      <td>None</td>\n",
       "      <td>S</td>\n",
       "      <td>10</td>\n",
       "    </tr>\n",
       "    <tr>\n",
       "      <th>3</th>\n",
       "      <td>4</td>\n",
       "      <td>1</td>\n",
       "      <td>1</td>\n",
       "      <td>Futrelle, Mrs. Jacques Heath (Lily May Peel)</td>\n",
       "      <td>female</td>\n",
       "      <td>35.0</td>\n",
       "      <td>1</td>\n",
       "      <td>0</td>\n",
       "      <td>113803</td>\n",
       "      <td>73</td>\n",
       "      <td>C123</td>\n",
       "      <td>S</td>\n",
       "      <td>10</td>\n",
       "    </tr>\n",
       "    <tr>\n",
       "      <th>4</th>\n",
       "      <td>5</td>\n",
       "      <td>0</td>\n",
       "      <td>3</td>\n",
       "      <td>Allen, Mr. William Henry</td>\n",
       "      <td>male</td>\n",
       "      <td>35.0</td>\n",
       "      <td>0</td>\n",
       "      <td>0</td>\n",
       "      <td>373450</td>\n",
       "      <td>28</td>\n",
       "      <td>None</td>\n",
       "      <td>S</td>\n",
       "      <td>10</td>\n",
       "    </tr>\n",
       "  </tbody>\n",
       "</table>\n",
       "</div>"
      ],
      "text/plain": [
       "   PassengerId  Survived  Pclass   \n",
       "0            1         0       3  \\\n",
       "1            2         1       1   \n",
       "2            3         1       3   \n",
       "3            4         1       1   \n",
       "4            5         0       3   \n",
       "\n",
       "                                                Name     Sex   Age  SibSp   \n",
       "0                            Braund, Mr. Owen Harris    male  22.0      1  \\\n",
       "1  Cumings, Mrs. John Bradley (Florence Briggs Th...  female  38.0      1   \n",
       "2                             Heikkinen, Miss. Laina  female  26.0      0   \n",
       "3       Futrelle, Mrs. Jacques Heath (Lily May Peel)  female  35.0      1   \n",
       "4                           Allen, Mr. William Henry    male  35.0      0   \n",
       "\n",
       "   Parch            Ticket  Fare Cabin Embarked  Extra_Fare  \n",
       "0      0         A/5 21171    27  None        S          10  \n",
       "1      0          PC 17599    91   C85        C          10  \n",
       "2      0  STON/O2. 3101282    27  None        S          10  \n",
       "3      0            113803    73  C123        S          10  \n",
       "4      0            373450    28  None        S          10  "
      ]
     },
     "execution_count": 11,
     "metadata": {},
     "output_type": "execute_result"
    }
   ],
   "source": [
    "# pandas에서 상숫값으로 데이터를 삽입하거나 수정하기\n",
    "titanic_pdf_copy['Extra_Fare'] = 10\n",
    "titanic_pdf_copy.head()"
   ]
  },
  {
   "cell_type": "code",
   "execution_count": 12,
   "id": "b5508110",
   "metadata": {},
   "outputs": [
    {
     "ename": "TypeError",
     "evalue": "col should be Column",
     "output_type": "error",
     "traceback": [
      "\u001b[0;31m---------------------------------------------------------------------------\u001b[0m",
      "\u001b[0;31mTypeError\u001b[0m                                 Traceback (most recent call last)",
      "Cell \u001b[0;32mIn[12], line 2\u001b[0m\n\u001b[1;32m      1\u001b[0m \u001b[38;5;66;03m# spark에서 상숫값으로 데이터를 삽입하거나 수정하기\u001b[39;00m\n\u001b[0;32m----> 2\u001b[0m titanic_sdf_copy \u001b[38;5;241m=\u001b[39m \u001b[43mtitanic_sdf_copy\u001b[49m\u001b[38;5;241;43m.\u001b[39;49m\u001b[43mwithColumn\u001b[49m\u001b[43m(\u001b[49m\u001b[38;5;124;43m'\u001b[39;49m\u001b[38;5;124;43mExtra_Fare\u001b[39;49m\u001b[38;5;124;43m'\u001b[39;49m\u001b[43m,\u001b[49m\u001b[38;5;241;43m10\u001b[39;49m\u001b[43m)\u001b[49m \u001b[38;5;66;03m# 업데이트 할 값은 반드시 컬럼형이 되어야 한다. (ex. col('Fare')*10)\u001b[39;00m\n\u001b[1;32m      3\u001b[0m                                                                 \u001b[38;5;66;03m# 즉, spark는 broadcasting 연산이 일어나지 않는다.\u001b[39;00m\n\u001b[1;32m      4\u001b[0m titanic_sdf_copy\u001b[38;5;241m.\u001b[39mshow(\u001b[38;5;241m5\u001b[39m)\n",
      "File \u001b[0;32m~/miniconda3/envs/spark_env/lib/python3.8/site-packages/pyspark/sql/dataframe.py:2477\u001b[0m, in \u001b[0;36mDataFrame.withColumn\u001b[0;34m(self, colName, col)\u001b[0m\n\u001b[1;32m   2447\u001b[0m \u001b[38;5;250m\u001b[39m\u001b[38;5;124;03m\"\"\"\u001b[39;00m\n\u001b[1;32m   2448\u001b[0m \u001b[38;5;124;03mReturns a new :class:`DataFrame` by adding a column or replacing the\u001b[39;00m\n\u001b[1;32m   2449\u001b[0m \u001b[38;5;124;03mexisting column that has the same name.\u001b[39;00m\n\u001b[0;32m   (...)\u001b[0m\n\u001b[1;32m   2474\u001b[0m \n\u001b[1;32m   2475\u001b[0m \u001b[38;5;124;03m\"\"\"\u001b[39;00m\n\u001b[1;32m   2476\u001b[0m \u001b[38;5;28;01mif\u001b[39;00m \u001b[38;5;129;01mnot\u001b[39;00m \u001b[38;5;28misinstance\u001b[39m(col, Column):\n\u001b[0;32m-> 2477\u001b[0m     \u001b[38;5;28;01mraise\u001b[39;00m \u001b[38;5;167;01mTypeError\u001b[39;00m(\u001b[38;5;124m\"\u001b[39m\u001b[38;5;124mcol should be Column\u001b[39m\u001b[38;5;124m\"\u001b[39m)\n\u001b[1;32m   2478\u001b[0m \u001b[38;5;28;01mreturn\u001b[39;00m DataFrame(\u001b[38;5;28mself\u001b[39m\u001b[38;5;241m.\u001b[39m_jdf\u001b[38;5;241m.\u001b[39mwithColumn(colName, col\u001b[38;5;241m.\u001b[39m_jc), \u001b[38;5;28mself\u001b[39m\u001b[38;5;241m.\u001b[39msql_ctx)\n",
      "\u001b[0;31mTypeError\u001b[0m: col should be Column"
     ]
    }
   ],
   "source": [
    "# spark에서 상숫값으로 데이터를 삽입하거나 수정하기\n",
    "titanic_sdf_copy = titanic_sdf_copy.withColumn('Extra_Fare',10) # 업데이트 할 값은 반드시 컬럼형이 되어야 한다. (ex. col('Fare')*10)\n",
    "                                                                # 즉, spark는 broadcasting 연산이 일어나지 않는다.\n",
    "titanic_sdf_copy.show(5)"
   ]
  },
  {
   "cell_type": "code",
   "execution_count": null,
   "id": "edfe0c0d",
   "metadata": {},
   "outputs": [],
   "source": [
    "# 상숫값으로 업데이트 하려면 반드시 lit 함수를 적용할 것\n",
    "from pyspark.sql.functions import lit\n",
    "\n",
    "titanic_sdf_copy = titanic_sdf_copy.withColumn('Extra_Fare', lit(10))\n",
    "titanic_sdf_copy.show(5)"
   ]
  },
  {
   "cell_type": "code",
   "execution_count": null,
   "id": "47f51f82",
   "metadata": {},
   "outputs": [],
   "source": [
    "titanic_sdf_copy = titanic_sdf_copy.withColumn('New_Column', lit('Test Column입니다'))\n",
    "titanic_sdf_copy.show(5)"
   ]
  },
  {
   "cell_type": "code",
   "execution_count": null,
   "id": "1fb19a49",
   "metadata": {},
   "outputs": [],
   "source": [
    "from pyspark.sql.functions import substring\n",
    "\n",
    "# select() 메소드를 이용해서 컬럼을 추가. 이 때 SQL의 substring 메소드 이용해 문자열의 일부를 추출하여 신규 컬럼생성.\n",
    "titanic_sdf_copy = titanic_sdf_copy.select('*', col('Embarked').alias('E')) # select *, Embarked as E from titanic_sdf\n",
    "titanic_sdf_copy.show(5)"
   ]
  },
  {
   "cell_type": "code",
   "execution_count": null,
   "id": "f8ef6017",
   "metadata": {},
   "outputs": [],
   "source": [
    "titanic_sdf_copy = titanic_sdf_copy.select('*', substring('Cabin', 0, 1).alias('Cabin_section'))"
   ]
  },
  {
   "cell_type": "code",
   "execution_count": null,
   "id": "8bf944aa",
   "metadata": {},
   "outputs": [],
   "source": [
    "titanic_sdf_copy.show(5)"
   ]
  },
  {
   "cell_type": "code",
   "execution_count": null,
   "id": "9cccc5b9",
   "metadata": {},
   "outputs": [],
   "source": [
    "titanic_sdf_copy = titanic_sdf.select('*')\n",
    "titanic_sdf_copy = titanic_sdf_copy.withColumn('탑승지', col('Embarked')).withColumn('Cabin_section', substring('Cabin',0,1))"
   ]
  },
  {
   "cell_type": "code",
   "execution_count": null,
   "id": "51e04c9c",
   "metadata": {},
   "outputs": [],
   "source": [
    "titanic_sdf_copy.show(5)\n",
    "# 위에서 만든 '탑승지','Cabin_section' 컬럼이 잘 만들어져있따.;"
   ]
  },
  {
   "cell_type": "code",
   "execution_count": null,
   "id": "b024b549",
   "metadata": {},
   "outputs": [],
   "source": [
    "from pyspark.sql.functions import split\n",
    "\n",
    "# Name 컬럼을 ','로 분리하여 Name1, Name2 생성\n",
    "\n",
    "titanic_sdf_copy = titanic_sdf_copy.withColumn('first_name',split(col('Name'),',').getItem(0))\n",
    "titanic_sdf_copy = titanic_sdf_copy.withColumn('last_name',split(col('Name'),',').getItem(1))"
   ]
  },
  {
   "cell_type": "code",
   "execution_count": null,
   "id": "10c71357",
   "metadata": {},
   "outputs": [],
   "source": [
    "titanic_sdf_copy.show(5)"
   ]
  },
  {
   "cell_type": "code",
   "execution_count": null,
   "id": "3f70f2c3",
   "metadata": {},
   "outputs": [],
   "source": [
    "titanic_sdf_copy = titanic_sdf_copy.withColumnRenamed('탑승지','탑탑승지')\n",
    "titanic_sdf_copy.show(5)"
   ]
  },
  {
   "cell_type": "code",
   "execution_count": null,
   "id": "7e0484bd",
   "metadata": {},
   "outputs": [],
   "source": [
    "titanic_sdf_copy = titanic_sdf_copy.withColumnRenamed('없는컬럼 넣어도','오류 안나는게 문제')\n",
    "titanic_sdf_copy.show(5)"
   ]
  },
  {
   "cell_type": "markdown",
   "id": "c1236270",
   "metadata": {},
   "source": [
    "# Spark Dataframe의 컬럼, 로우(레코드) 삭제\n",
    "- pandas의 데이터프레임은 `drop` 메소드를 사용.\n",
    "- spark 데이터프레임에도 `drop` 이 존재. 컬럼만 삭제 가능\n",
    "    - 여러개 삭제 시 `list` 사용 불가\n",
    "- spark에서는 데이터 삭제가 원칙적으로는 없다.\n",
    "    - 일반적으로 데이터란? 행(레코드)\n",
    "    - 데이터 삭제가 없는 대신에 `filter` 를 이용해서 필요한 것만 추출해낸다."
   ]
  },
  {
   "cell_type": "code",
   "execution_count": null,
   "id": "01086285",
   "metadata": {},
   "outputs": [],
   "source": [
    "titanic_pdf_dropped = titanic_pdf.drop('Name',axis=1, inplace=False)\n",
    "titanic_pdf_dropped.info() # Name컬럼이 사라진 것을 확인"
   ]
  },
  {
   "cell_type": "code",
   "execution_count": null,
   "id": "cf709a8e",
   "metadata": {},
   "outputs": [],
   "source": [
    "titanic_sdf_copy = titanic_sdf.select('*')\n",
    "titanic_sdf_copy = titanic_sdf_copy.drop(col('Embarked')) # 컬럼명을 써도 되고, 안써도 됨.\n",
    "titanic_sdf_copy.printSchema() # Embarked 컬럼이 사라진 것을 확인"
   ]
  },
  {
   "cell_type": "code",
   "execution_count": null,
   "id": "ea6b4702",
   "metadata": {},
   "outputs": [],
   "source": [
    "# 여러개의 컬럼을 한꺼번에 삭제하기. col을 쓰면 안됨\n",
    "titanic_sdf_copy.drop('Fare','Cabin').printSchema()\n",
    "titanic_sdf_copy.drop(col['Fare'],col('Cabin')).printSchema()"
   ]
  },
  {
   "cell_type": "code",
   "execution_count": null,
   "id": "b0ca10d5",
   "metadata": {},
   "outputs": [],
   "source": [
    "# drop에 리스트로 컬럼명을 묶어서 삭제를 시도하면 오류\n",
    "titanic_sdf_copy.drop(['Fare','Cabin']).printSchema()"
   ]
  },
  {
   "cell_type": "code",
   "execution_count": null,
   "id": "d13759aa",
   "metadata": {},
   "outputs": [],
   "source": [
    "# 리스트 통해 컬럼 삭제하는 법? 애스터리스크(*) 이용\n",
    "drop_columns = ['Fare','Cabin']\n",
    "titanic_sdf_copy.drop(*drop_columns).printSchema()"
   ]
  },
  {
   "cell_type": "code",
   "execution_count": null,
   "id": "42d186e0",
   "metadata": {},
   "outputs": [],
   "source": [
    "# 문자열 컬럼만 지우고싶을 때\n",
    "drop_string_columns = [column_name for column_name, column_type in titanic_sdf_copy.dtypes if column_type =='string']"
   ]
  },
  {
   "cell_type": "code",
   "execution_count": null,
   "id": "b07de2d0",
   "metadata": {},
   "outputs": [],
   "source": [
    "print('drop columns :', drop_string_columns)"
   ]
  },
  {
   "cell_type": "code",
   "execution_count": null,
   "id": "a14daf3d",
   "metadata": {},
   "outputs": [],
   "source": [
    "titanic_sdf_copy.drop(*drop_string_columns).printSchema()"
   ]
  },
  {
   "cell_type": "code",
   "execution_count": null,
   "id": "2ef9c4ed",
   "metadata": {},
   "outputs": [],
   "source": [
    "titanic_sdf_copy.show(5)"
   ]
  },
  {
   "cell_type": "code",
   "execution_count": null,
   "id": "d3e9b19c",
   "metadata": {},
   "outputs": [],
   "source": [
    "# Pclass = 1인 row를 삭제. 하지만 실제로는 삭제가 아닌,  pclass !=1인 데이터만 가져오는 것\n",
    "titanic_sdf_removed_pclass_1 = titanic_sdf.filter(col('Pclass') != 1)\n",
    "titanic_sdf_removed_pclass_1.show()"
   ]
  },
  {
   "cell_type": "markdown",
   "id": "adf9ece7",
   "metadata": {},
   "source": [
    "# Spark Dataframe의 dropna 사용하기"
   ]
  },
  {
   "cell_type": "code",
   "execution_count": null,
   "id": "0fe37204",
   "metadata": {},
   "outputs": [],
   "source": [
    "# record에 하나라도 null 또는 NaN 값이 있으면 삭제한 결과 DataFrame이 반환.\n",
    "\n",
    "\n",
    "print('dropna 이전: ', titanic_sdf.count())\n",
    "titanic_sdf_dropna_1 = titanic_sdf.dropna()\n",
    "print('dropna 이후: ', titanic_sdf_dropna_1.count())\n",
    "# Null값, NaN값이 filtering된 것."
   ]
  },
  {
   "cell_type": "code",
   "execution_count": null,
   "id": "c3dee370",
   "metadata": {},
   "outputs": [],
   "source": [
    "print('dropna 이전: ', titanic_sdf.count())\n",
    "titanic_sdf_dropna_2 = titanic_sdf.na.drop()\n",
    "print('dropna 이후: ', titanic_sdf_dropna_2.count())\n",
    "print('titanic_sdf.na의 타입: ', type(titanic_sdf.na))\n",
    "\n",
    "# 모든 컬럼에 nan이 없는 데이터만 살아남은 것."
   ]
  },
  {
   "cell_type": "markdown",
   "id": "da230e12",
   "metadata": {},
   "source": [
    "모든 컬럼에 NaN, None이 없어야지 필터링이 안된다. 즉, 모든 컬럼이 채워져있는 데이터만이 살아남을 수 있음.\n",
    "```sql\n",
    "select *\n",
    "from titanic_sdf\n",
    "where Name is not null and \n",
    "        age is not null and\n",
    "        Embarked is not null ...\n",
    "```"
   ]
  },
  {
   "cell_type": "code",
   "execution_count": null,
   "id": "4f1f1637",
   "metadata": {},
   "outputs": [],
   "source": [
    "# 특정 컬럼을 지정하여 거기에 Null이 있는 경우에만 삭제\n",
    "titanic_sdf_dropna_3 = titanic_sdf.na.drop(subset = ['Age','Embarked'])\n",
    "print('dropna 이후: ', titanic_sdf_dropna_3.count())\n",
    "\n",
    "# Age, Embarked 둘 다 null이 아닌 레코드 숫자"
   ]
  },
  {
   "cell_type": "code",
   "execution_count": 15,
   "id": "47cd6f6e",
   "metadata": {},
   "outputs": [
    {
     "data": {
      "text/plain": [
       "712"
      ]
     },
     "execution_count": 15,
     "metadata": {},
     "output_type": "execute_result"
    }
   ],
   "source": [
    "# Null이 아닌 Age와 Embarked의 개수\n",
    "# select count(*) from titanic_sdf where age is not null and embarked is not null\n",
    "\n",
    "# col(c).isNotNull \n",
    "titanic_sdf.filter(col('Age').isNotNull() & col('Embarked').isNotNull()).count()\n",
    "\n"
   ]
  },
  {
   "cell_type": "code",
   "execution_count": 16,
   "id": "3b3bbe7c",
   "metadata": {},
   "outputs": [
    {
     "name": "stdout",
     "output_type": "stream",
     "text": [
      "PassengerId IS NOT NULL and Survived IS NOT NULL and Pclass IS NOT NULL and Name IS NOT NULL and Sex IS NOT NULL and Age IS NOT NULL and SibSp IS NOT NULL and Parch IS NOT NULL and Ticket IS NOT NULL and Fare IS NOT NULL and Cabin IS NOT NULL and Embarked IS NOT NULL \n"
     ]
    }
   ],
   "source": [
    "# dropna() 메소드를 로직으로 구현. \n",
    "where_str = ''\n",
    "column_count = len(titanic_sdf.columns)\n",
    "for index, column_name in enumerate(titanic_sdf.columns):\n",
    "    where_str += (column_name +' IS NOT NULL ') \n",
    "    if index < column_count - 1:\n",
    "        where_str += 'and '\n",
    "print(where_str)"
   ]
  },
  {
   "cell_type": "code",
   "execution_count": 17,
   "id": "2423172a",
   "metadata": {},
   "outputs": [
    {
     "data": {
      "text/plain": [
       "183"
      ]
     },
     "execution_count": 17,
     "metadata": {},
     "output_type": "execute_result"
    }
   ],
   "source": [
    "titanic_sdf.filter(where_str).count()"
   ]
  },
  {
   "cell_type": "markdown",
   "id": "648fb8e1",
   "metadata": {},
   "source": [
    "- numpy (NUMerical PYthon)\n",
    "    - None: 객체가 없을 때 \n",
    "    - NaN: Not a Number, 숫자가 없을 때 \n",
    "- spark\n",
    "    - Null: None을 Null로 처리. \n",
    "    - NaN: 숫자가 없는 경우\n",
    "    - Pandas DF -> Spark DF로 변환시\n",
    "        - spark 3.0이하: Nan ->Nan\n",
    "        - spark 3.0 이후: Nan -> Null\n",
    "        - **혹시라도 df에 nan값이 들어있으면 null값으로 바꿔줘라(isnull을 쓸 수 있게)**"
   ]
  },
  {
   "cell_type": "markdown",
   "id": "e3c217ba",
   "metadata": {},
   "source": [
    "# Pandas 와 Spark에서의 None, Null, NaN"
   ]
  },
  {
   "cell_type": "code",
   "execution_count": 20,
   "id": "622d78d9",
   "metadata": {},
   "outputs": [
    {
     "name": "stdout",
     "output_type": "stream",
     "text": [
      "<class 'NoneType'> None\n"
     ]
    }
   ],
   "source": [
    "a = None\n",
    "print(type(a), a)"
   ]
  },
  {
   "cell_type": "markdown",
   "id": "7d5bdb86",
   "metadata": {},
   "source": [
    "- titanic pandas => string아닌 object타입\n",
    "    - object -> None\n",
    "    - int -> NaN\n",
    "- titanic spark df => string타입\n",
    "    - 전부다 null값"
   ]
  },
  {
   "cell_type": "code",
   "execution_count": 21,
   "id": "c8910868",
   "metadata": {},
   "outputs": [
    {
     "name": "stdout",
     "output_type": "stream",
     "text": [
      "+-----------+--------+------+--------------------+------+----+-----+-----+----------------+-------+-----+--------+\n",
      "|PassengerId|Survived|Pclass|                Name|   Sex| Age|SibSp|Parch|          Ticket|   Fare|Cabin|Embarked|\n",
      "+-----------+--------+------+--------------------+------+----+-----+-----+----------------+-------+-----+--------+\n",
      "|          1|       0|     3|Braund, Mr. Owen ...|  male|22.0|    1|    0|       A/5 21171|   7.25| null|       S|\n",
      "|          2|       1|     1|Cumings, Mrs. Joh...|female|38.0|    1|    0|        PC 17599|71.2833|  C85|       C|\n",
      "|          3|       1|     3|Heikkinen, Miss. ...|female|26.0|    0|    0|STON/O2. 3101282|  7.925| null|       S|\n",
      "|          4|       1|     1|Futrelle, Mrs. Ja...|female|35.0|    1|    0|          113803|   53.1| C123|       S|\n",
      "|          5|       0|     3|Allen, Mr. Willia...|  male|35.0|    0|    0|          373450|   8.05| null|       S|\n",
      "|          6|       0|     3|    Moran, Mr. James|  male|null|    0|    0|          330877| 8.4583| null|       Q|\n",
      "|          7|       0|     1|McCarthy, Mr. Tim...|  male|54.0|    0|    0|           17463|51.8625|  E46|       S|\n",
      "|          8|       0|     3|Palsson, Master. ...|  male| 2.0|    3|    1|          349909| 21.075| null|       S|\n",
      "|          9|       1|     3|Johnson, Mrs. Osc...|female|27.0|    0|    2|          347742|11.1333| null|       S|\n",
      "|         10|       1|     2|Nasser, Mrs. Nich...|female|14.0|    1|    0|          237736|30.0708| null|       C|\n",
      "+-----------+--------+------+--------------------+------+----+-----+-----+----------------+-------+-----+--------+\n",
      "only showing top 10 rows\n",
      "\n"
     ]
    },
    {
     "data": {
      "text/html": [
       "<div>\n",
       "<style scoped>\n",
       "    .dataframe tbody tr th:only-of-type {\n",
       "        vertical-align: middle;\n",
       "    }\n",
       "\n",
       "    .dataframe tbody tr th {\n",
       "        vertical-align: top;\n",
       "    }\n",
       "\n",
       "    .dataframe thead th {\n",
       "        text-align: right;\n",
       "    }\n",
       "</style>\n",
       "<table border=\"1\" class=\"dataframe\">\n",
       "  <thead>\n",
       "    <tr style=\"text-align: right;\">\n",
       "      <th></th>\n",
       "      <th>PassengerId</th>\n",
       "      <th>Survived</th>\n",
       "      <th>Pclass</th>\n",
       "      <th>Name</th>\n",
       "      <th>Sex</th>\n",
       "      <th>Age</th>\n",
       "      <th>SibSp</th>\n",
       "      <th>Parch</th>\n",
       "      <th>Ticket</th>\n",
       "      <th>Fare</th>\n",
       "      <th>Cabin</th>\n",
       "      <th>Embarked</th>\n",
       "    </tr>\n",
       "  </thead>\n",
       "  <tbody>\n",
       "    <tr>\n",
       "      <th>0</th>\n",
       "      <td>1</td>\n",
       "      <td>0</td>\n",
       "      <td>3</td>\n",
       "      <td>Braund, Mr. Owen Harris</td>\n",
       "      <td>male</td>\n",
       "      <td>22.0</td>\n",
       "      <td>1</td>\n",
       "      <td>0</td>\n",
       "      <td>A/5 21171</td>\n",
       "      <td>7.2500</td>\n",
       "      <td>None</td>\n",
       "      <td>S</td>\n",
       "    </tr>\n",
       "    <tr>\n",
       "      <th>1</th>\n",
       "      <td>2</td>\n",
       "      <td>1</td>\n",
       "      <td>1</td>\n",
       "      <td>Cumings, Mrs. John Bradley (Florence Briggs Th...</td>\n",
       "      <td>female</td>\n",
       "      <td>38.0</td>\n",
       "      <td>1</td>\n",
       "      <td>0</td>\n",
       "      <td>PC 17599</td>\n",
       "      <td>71.2833</td>\n",
       "      <td>C85</td>\n",
       "      <td>C</td>\n",
       "    </tr>\n",
       "    <tr>\n",
       "      <th>2</th>\n",
       "      <td>3</td>\n",
       "      <td>1</td>\n",
       "      <td>3</td>\n",
       "      <td>Heikkinen, Miss. Laina</td>\n",
       "      <td>female</td>\n",
       "      <td>26.0</td>\n",
       "      <td>0</td>\n",
       "      <td>0</td>\n",
       "      <td>STON/O2. 3101282</td>\n",
       "      <td>7.9250</td>\n",
       "      <td>None</td>\n",
       "      <td>S</td>\n",
       "    </tr>\n",
       "    <tr>\n",
       "      <th>3</th>\n",
       "      <td>4</td>\n",
       "      <td>1</td>\n",
       "      <td>1</td>\n",
       "      <td>Futrelle, Mrs. Jacques Heath (Lily May Peel)</td>\n",
       "      <td>female</td>\n",
       "      <td>35.0</td>\n",
       "      <td>1</td>\n",
       "      <td>0</td>\n",
       "      <td>113803</td>\n",
       "      <td>53.1000</td>\n",
       "      <td>C123</td>\n",
       "      <td>S</td>\n",
       "    </tr>\n",
       "    <tr>\n",
       "      <th>4</th>\n",
       "      <td>5</td>\n",
       "      <td>0</td>\n",
       "      <td>3</td>\n",
       "      <td>Allen, Mr. William Henry</td>\n",
       "      <td>male</td>\n",
       "      <td>35.0</td>\n",
       "      <td>0</td>\n",
       "      <td>0</td>\n",
       "      <td>373450</td>\n",
       "      <td>8.0500</td>\n",
       "      <td>None</td>\n",
       "      <td>S</td>\n",
       "    </tr>\n",
       "    <tr>\n",
       "      <th>5</th>\n",
       "      <td>6</td>\n",
       "      <td>0</td>\n",
       "      <td>3</td>\n",
       "      <td>Moran, Mr. James</td>\n",
       "      <td>male</td>\n",
       "      <td>NaN</td>\n",
       "      <td>0</td>\n",
       "      <td>0</td>\n",
       "      <td>330877</td>\n",
       "      <td>8.4583</td>\n",
       "      <td>None</td>\n",
       "      <td>Q</td>\n",
       "    </tr>\n",
       "    <tr>\n",
       "      <th>6</th>\n",
       "      <td>7</td>\n",
       "      <td>0</td>\n",
       "      <td>1</td>\n",
       "      <td>McCarthy, Mr. Timothy J</td>\n",
       "      <td>male</td>\n",
       "      <td>54.0</td>\n",
       "      <td>0</td>\n",
       "      <td>0</td>\n",
       "      <td>17463</td>\n",
       "      <td>51.8625</td>\n",
       "      <td>E46</td>\n",
       "      <td>S</td>\n",
       "    </tr>\n",
       "    <tr>\n",
       "      <th>7</th>\n",
       "      <td>8</td>\n",
       "      <td>0</td>\n",
       "      <td>3</td>\n",
       "      <td>Palsson, Master. Gosta Leonard</td>\n",
       "      <td>male</td>\n",
       "      <td>2.0</td>\n",
       "      <td>3</td>\n",
       "      <td>1</td>\n",
       "      <td>349909</td>\n",
       "      <td>21.0750</td>\n",
       "      <td>None</td>\n",
       "      <td>S</td>\n",
       "    </tr>\n",
       "    <tr>\n",
       "      <th>8</th>\n",
       "      <td>9</td>\n",
       "      <td>1</td>\n",
       "      <td>3</td>\n",
       "      <td>Johnson, Mrs. Oscar W (Elisabeth Vilhelmina Berg)</td>\n",
       "      <td>female</td>\n",
       "      <td>27.0</td>\n",
       "      <td>0</td>\n",
       "      <td>2</td>\n",
       "      <td>347742</td>\n",
       "      <td>11.1333</td>\n",
       "      <td>None</td>\n",
       "      <td>S</td>\n",
       "    </tr>\n",
       "    <tr>\n",
       "      <th>9</th>\n",
       "      <td>10</td>\n",
       "      <td>1</td>\n",
       "      <td>2</td>\n",
       "      <td>Nasser, Mrs. Nicholas (Adele Achem)</td>\n",
       "      <td>female</td>\n",
       "      <td>14.0</td>\n",
       "      <td>1</td>\n",
       "      <td>0</td>\n",
       "      <td>237736</td>\n",
       "      <td>30.0708</td>\n",
       "      <td>None</td>\n",
       "      <td>C</td>\n",
       "    </tr>\n",
       "  </tbody>\n",
       "</table>\n",
       "</div>"
      ],
      "text/plain": [
       "   PassengerId  Survived  Pclass   \n",
       "0            1         0       3  \\\n",
       "1            2         1       1   \n",
       "2            3         1       3   \n",
       "3            4         1       1   \n",
       "4            5         0       3   \n",
       "5            6         0       3   \n",
       "6            7         0       1   \n",
       "7            8         0       3   \n",
       "8            9         1       3   \n",
       "9           10         1       2   \n",
       "\n",
       "                                                Name     Sex   Age  SibSp   \n",
       "0                            Braund, Mr. Owen Harris    male  22.0      1  \\\n",
       "1  Cumings, Mrs. John Bradley (Florence Briggs Th...  female  38.0      1   \n",
       "2                             Heikkinen, Miss. Laina  female  26.0      0   \n",
       "3       Futrelle, Mrs. Jacques Heath (Lily May Peel)  female  35.0      1   \n",
       "4                           Allen, Mr. William Henry    male  35.0      0   \n",
       "5                                   Moran, Mr. James    male   NaN      0   \n",
       "6                            McCarthy, Mr. Timothy J    male  54.0      0   \n",
       "7                     Palsson, Master. Gosta Leonard    male   2.0      3   \n",
       "8  Johnson, Mrs. Oscar W (Elisabeth Vilhelmina Berg)  female  27.0      0   \n",
       "9                Nasser, Mrs. Nicholas (Adele Achem)  female  14.0      1   \n",
       "\n",
       "   Parch            Ticket     Fare Cabin Embarked  \n",
       "0      0         A/5 21171   7.2500  None        S  \n",
       "1      0          PC 17599  71.2833   C85        C  \n",
       "2      0  STON/O2. 3101282   7.9250  None        S  \n",
       "3      0            113803  53.1000  C123        S  \n",
       "4      0            373450   8.0500  None        S  \n",
       "5      0            330877   8.4583  None        Q  \n",
       "6      0             17463  51.8625   E46        S  \n",
       "7      1            349909  21.0750  None        S  \n",
       "8      2            347742  11.1333  None        S  \n",
       "9      0            237736  30.0708  None        C  "
      ]
     },
     "execution_count": 21,
     "metadata": {},
     "output_type": "execute_result"
    }
   ],
   "source": [
    "titanic_sdf.show(10)\n",
    "titanic_pdf.head(10)"
   ]
  },
  {
   "cell_type": "code",
   "execution_count": 24,
   "id": "0340afc3",
   "metadata": {},
   "outputs": [
    {
     "name": "stdout",
     "output_type": "stream",
     "text": [
      "[0 1 2 'hello' None] object\n"
     ]
    }
   ],
   "source": [
    "import pandas as pd\n",
    "import numpy as np\n",
    "\n",
    "# none은 object형 array에만 넣을 수 있다.\n",
    "array = np.array([0,1,2,'hello',None])\n",
    "print(array, array.dtype)"
   ]
  },
  {
   "cell_type": "code",
   "execution_count": 25,
   "id": "e8d10446",
   "metadata": {},
   "outputs": [
    {
     "name": "stdout",
     "output_type": "stream",
     "text": [
      "[ 0.  1.  2. nan] float32\n"
     ]
    }
   ],
   "source": [
    "# 숫자 형식의 array는 None이 NaN으로 바뀐다.\n",
    "array = np.array([0,1,2,None], dtype=np.float32)\n",
    "print(array, array.dtype)"
   ]
  },
  {
   "cell_type": "code",
   "execution_count": 28,
   "id": "c52dd7a6",
   "metadata": {},
   "outputs": [
    {
     "name": "stdout",
     "output_type": "stream",
     "text": [
      "object\n"
     ]
    }
   ],
   "source": [
    "print(titanic_pdf['Cabin'].to_numpy().dtype) #None - object"
   ]
  },
  {
   "cell_type": "code",
   "execution_count": 29,
   "id": "5e70e6a4",
   "metadata": {},
   "outputs": [
    {
     "name": "stdout",
     "output_type": "stream",
     "text": [
      "float64\n"
     ]
    }
   ],
   "source": [
    "print(titanic_pdf['Age'].to_numpy().dtype) # NaN - float 64"
   ]
  },
  {
   "cell_type": "code",
   "execution_count": null,
   "id": "c1c62219",
   "metadata": {},
   "outputs": [],
   "source": [
    "# spark 3.2버전에서는 pandas DataFrame으로 spark dataframe을 생성해도 NaN, None 모두 null로 변환\n"
   ]
  },
  {
   "cell_type": "markdown",
   "id": "aa139f28",
   "metadata": {},
   "source": [
    "# Spark Dataframe에서 Null과 NaN 찾기\n",
    "- pandas의 isnull(), isna()는 서로 동일한 메소드로서 모두 None과 NaN을 찾는다.\n",
    "- spark의 isnull(), isna()는 서로 다른 것을 찾음.\n",
    "    - isnull(): None을 찾음 (isnull 쓰는게 훨 좋음)\n",
    "    - isna(): NaN을 찾음\n",
    "    "
   ]
  },
  {
   "cell_type": "code",
   "execution_count": 31,
   "id": "8436f84a",
   "metadata": {},
   "outputs": [
    {
     "name": "stdout",
     "output_type": "stream",
     "text": [
      "    Age Cabin\n",
      "0  22.0  None\n",
      "1  38.0   C85\n",
      "2  26.0  None\n",
      "3  35.0  C123\n",
      "4  35.0  None\n",
      "5   NaN  None\n",
      "6  54.0   E46\n",
      "7   2.0  None\n",
      "8  27.0  None\n",
      "9  14.0  None\n",
      "       Age  Cabin\n",
      "0    False   True\n",
      "1    False  False\n",
      "2    False   True\n",
      "3    False  False\n",
      "4    False   True\n",
      "..     ...    ...\n",
      "886  False   True\n",
      "887  False  False\n",
      "888   True   True\n",
      "889  False  False\n",
      "890  False   True\n",
      "\n",
      "[891 rows x 2 columns]\n",
      "       Age  Cabin\n",
      "0    False   True\n",
      "1    False  False\n",
      "2    False   True\n",
      "3    False  False\n",
      "4    False   True\n",
      "..     ...    ...\n",
      "886  False   True\n",
      "887  False  False\n",
      "888   True   True\n",
      "889  False  False\n",
      "890  False   True\n",
      "\n",
      "[891 rows x 2 columns]\n"
     ]
    }
   ],
   "source": [
    "# Pandas\n",
    "print(titanic_pdf[['Age','Cabin']].head(10))\n",
    "print(titanic_pdf[['Age','Cabin']].isna()) # pandas는 isnull() = isna()\n",
    "print(titanic_pdf[['Age','Cabin']].isnull())"
   ]
  },
  {
   "cell_type": "code",
   "execution_count": 34,
   "id": "3f99042d",
   "metadata": {},
   "outputs": [
    {
     "name": "stdout",
     "output_type": "stream",
     "text": [
      "+-----------+--------+------+--------------------+------+----+-----+-----+--------+--------+-----+--------+\n",
      "|PassengerId|Survived|Pclass|                Name|   Sex| Age|SibSp|Parch|  Ticket|    Fare|Cabin|Embarked|\n",
      "+-----------+--------+------+--------------------+------+----+-----+-----+--------+--------+-----+--------+\n",
      "|          6|       0|     3|    Moran, Mr. James|  male|null|    0|    0|  330877|  8.4583| null|       Q|\n",
      "|         18|       1|     2|Williams, Mr. Cha...|  male|null|    0|    0|  244373|    13.0| null|       S|\n",
      "|         20|       1|     3|Masselmani, Mrs. ...|female|null|    0|    0|    2649|   7.225| null|       C|\n",
      "|         27|       0|     3|Emir, Mr. Farred ...|  male|null|    0|    0|    2631|   7.225| null|       C|\n",
      "|         29|       1|     3|\"O'Dwyer, Miss. E...|female|null|    0|    0|  330959|  7.8792| null|       Q|\n",
      "|         30|       0|     3| Todoroff, Mr. Lalio|  male|null|    0|    0|  349216|  7.8958| null|       S|\n",
      "|         32|       1|     1|Spencer, Mrs. Wil...|female|null|    1|    0|PC 17569|146.5208|  B78|       C|\n",
      "|         33|       1|     3|Glynn, Miss. Mary...|female|null|    0|    0|  335677|    7.75| null|       Q|\n",
      "|         37|       1|     3|    Mamee, Mr. Hanna|  male|null|    0|    0|    2677|  7.2292| null|       C|\n",
      "|         43|       0|     3| Kraeff, Mr. Theodor|  male|null|    0|    0|  349253|  7.8958| null|       C|\n",
      "+-----------+--------+------+--------------------+------+----+-----+-----+--------+--------+-----+--------+\n",
      "only showing top 10 rows\n",
      "\n",
      "+-----------+--------+------+----+---+---+-----+-----+------+----+-----+--------+\n",
      "|PassengerId|Survived|Pclass|Name|Sex|Age|SibSp|Parch|Ticket|Fare|Cabin|Embarked|\n",
      "+-----------+--------+------+----+---+---+-----+-----+------+----+-----+--------+\n",
      "+-----------+--------+------+----+---+---+-----+-----+------+----+-----+--------+\n",
      "\n"
     ]
    }
   ],
   "source": [
    "# Spark에서 isNull()은 컬럼 형식에서만 사용이 가능.\n",
    "# isnan은 pyspark.sql.functions에서 불러와야지만 사용가능\n",
    "from pyspark.sql.functions import col, isnan\n",
    "\n",
    "titanic_sdf.filter(col('Age').isNull()).show(10)\n",
    "titanic_sdf.filter(isnan(col('Age'))).show(10) # nan값이 없어서 조회 안됨\n"
   ]
  },
  {
   "cell_type": "markdown",
   "id": "74092beb",
   "metadata": {},
   "source": [
    "# Null이 있는 컬럼명과 Null 개수 찾기"
   ]
  },
  {
   "cell_type": "code",
   "execution_count": 41,
   "id": "90a2a608",
   "metadata": {},
   "outputs": [
    {
     "name": "stdout",
     "output_type": "stream",
     "text": [
      "+---------------------+------------------+----------------+--------------+-------------+-------------+---------------+---------------+----------------+--------------+---------------+------------------+\n",
      "|(PassengerId IS NULL)|(Survived IS NULL)|(Pclass IS NULL)|(Name IS NULL)|(Sex IS NULL)|(Age IS NULL)|(SibSp IS NULL)|(Parch IS NULL)|(Ticket IS NULL)|(Fare IS NULL)|(Cabin IS NULL)|(Embarked IS NULL)|\n",
      "+---------------------+------------------+----------------+--------------+-------------+-------------+---------------+---------------+----------------+--------------+---------------+------------------+\n",
      "|                false|             false|           false|         false|        false|        false|          false|          false|           false|         false|           true|             false|\n",
      "|                false|             false|           false|         false|        false|        false|          false|          false|           false|         false|          false|             false|\n",
      "|                false|             false|           false|         false|        false|        false|          false|          false|           false|         false|           true|             false|\n",
      "|                false|             false|           false|         false|        false|        false|          false|          false|           false|         false|          false|             false|\n",
      "|                false|             false|           false|         false|        false|        false|          false|          false|           false|         false|           true|             false|\n",
      "|                false|             false|           false|         false|        false|         true|          false|          false|           false|         false|           true|             false|\n",
      "|                false|             false|           false|         false|        false|        false|          false|          false|           false|         false|          false|             false|\n",
      "|                false|             false|           false|         false|        false|        false|          false|          false|           false|         false|           true|             false|\n",
      "|                false|             false|           false|         false|        false|        false|          false|          false|           false|         false|           true|             false|\n",
      "|                false|             false|           false|         false|        false|        false|          false|          false|           false|         false|           true|             false|\n",
      "|                false|             false|           false|         false|        false|        false|          false|          false|           false|         false|          false|             false|\n",
      "|                false|             false|           false|         false|        false|        false|          false|          false|           false|         false|          false|             false|\n",
      "|                false|             false|           false|         false|        false|        false|          false|          false|           false|         false|           true|             false|\n",
      "|                false|             false|           false|         false|        false|        false|          false|          false|           false|         false|           true|             false|\n",
      "|                false|             false|           false|         false|        false|        false|          false|          false|           false|         false|           true|             false|\n",
      "|                false|             false|           false|         false|        false|        false|          false|          false|           false|         false|           true|             false|\n",
      "|                false|             false|           false|         false|        false|        false|          false|          false|           false|         false|           true|             false|\n",
      "|                false|             false|           false|         false|        false|         true|          false|          false|           false|         false|           true|             false|\n",
      "|                false|             false|           false|         false|        false|        false|          false|          false|           false|         false|           true|             false|\n",
      "|                false|             false|           false|         false|        false|         true|          false|          false|           false|         false|           true|             false|\n",
      "+---------------------+------------------+----------------+--------------+-------------+-------------+---------------+---------------+----------------+--------------+---------------+------------------+\n",
      "only showing top 20 rows\n",
      "\n",
      "+-----------+--------+------+-----+-----+-----+-----+-----+------+-----+-----+--------+\n",
      "|PassengerId|Survived|Pclass| Name|  Sex|  Age|SibSp|Parch|Ticket| Fare|Cabin|Embarked|\n",
      "+-----------+--------+------+-----+-----+-----+-----+-----+------+-----+-----+--------+\n",
      "|      false|   false| false|false|false|false|false|false| false|false| true|   false|\n",
      "|      false|   false| false|false|false|false|false|false| false|false|false|   false|\n",
      "|      false|   false| false|false|false|false|false|false| false|false| true|   false|\n",
      "|      false|   false| false|false|false|false|false|false| false|false|false|   false|\n",
      "|      false|   false| false|false|false|false|false|false| false|false| true|   false|\n",
      "|      false|   false| false|false|false| true|false|false| false|false| true|   false|\n",
      "|      false|   false| false|false|false|false|false|false| false|false|false|   false|\n",
      "|      false|   false| false|false|false|false|false|false| false|false| true|   false|\n",
      "|      false|   false| false|false|false|false|false|false| false|false| true|   false|\n",
      "|      false|   false| false|false|false|false|false|false| false|false| true|   false|\n",
      "|      false|   false| false|false|false|false|false|false| false|false|false|   false|\n",
      "|      false|   false| false|false|false|false|false|false| false|false|false|   false|\n",
      "|      false|   false| false|false|false|false|false|false| false|false| true|   false|\n",
      "|      false|   false| false|false|false|false|false|false| false|false| true|   false|\n",
      "|      false|   false| false|false|false|false|false|false| false|false| true|   false|\n",
      "|      false|   false| false|false|false|false|false|false| false|false| true|   false|\n",
      "|      false|   false| false|false|false|false|false|false| false|false| true|   false|\n",
      "|      false|   false| false|false|false| true|false|false| false|false| true|   false|\n",
      "|      false|   false| false|false|false|false|false|false| false|false| true|   false|\n",
      "|      false|   false| false|false|false| true|false|false| false|false| true|   false|\n",
      "+-----------+--------+------+-----+-----+-----+-----+-----+------+-----+-----+--------+\n",
      "only showing top 20 rows\n",
      "\n"
     ]
    }
   ],
   "source": [
    "titanic_sdf.select([col(column_name).isNull() for column_name in titanic_sdf.columns]).show()\n",
    "titanic_sdf.select([col(column_name).isNull().alias(column_name) for column_name in titanic_sdf.columns]).show()"
   ]
  },
  {
   "cell_type": "code",
   "execution_count": 42,
   "id": "43a63a7c",
   "metadata": {},
   "outputs": [
    {
     "name": "stdout",
     "output_type": "stream",
     "text": [
      "+-----------+--------+------+----+---+---+-----+-----+------+----+-----+--------+\n",
      "|PassengerId|Survived|Pclass|Name|Sex|Age|SibSp|Parch|Ticket|Fare|Cabin|Embarked|\n",
      "+-----------+--------+------+----+---+---+-----+-----+------+----+-----+--------+\n",
      "|          0|       0|     0|   0|  0|177|    0|    0|     0|   0|  687|       2|\n",
      "+-----------+--------+------+----+---+---+-----+-----+------+----+-----+--------+\n",
      "\n"
     ]
    }
   ],
   "source": [
    "from pyspark.sql.functions import count, when\n",
    "\n",
    "titanic_sdf.select([count(when(isnan(c) | col(c).isNull(), c)).alias(c) for c in titanic_sdf.columns]).show()"
   ]
  },
  {
   "cell_type": "code",
   "execution_count": 43,
   "id": "8475d11b",
   "metadata": {},
   "outputs": [
    {
     "name": "stdout",
     "output_type": "stream",
     "text": [
      "+-----------+--------+------+----+---+---+-----+-----+------+----+-----+--------+\n",
      "|PassengerId|Survived|Pclass|Name|Sex|Age|SibSp|Parch|Ticket|Fare|Cabin|Embarked|\n",
      "+-----------+--------+------+----+---+---+-----+-----+------+----+-----+--------+\n",
      "|          0|       0|     0|   0|  0|177|    0|    0|     0|   0|  687|       2|\n",
      "+-----------+--------+------+----+---+---+-----+-----+------+----+-----+--------+\n",
      "\n"
     ]
    }
   ],
   "source": [
    "titanic_sdf.select([count(when(col(c).isNull(), c)).alias(c) for c in titanic_sdf.columns]).show()"
   ]
  },
  {
   "cell_type": "markdown",
   "id": "1fd17ab6",
   "metadata": {},
   "source": [
    "```python\n",
    "col(c).isNull()이 true인 경우\n",
    "-> when(col(c).isNull(), c)\n",
    "-> count(c)\n",
    "```"
   ]
  },
  {
   "cell_type": "markdown",
   "id": "7e2119f9",
   "metadata": {},
   "source": [
    "# Null값 처리하기"
   ]
  },
  {
   "cell_type": "code",
   "execution_count": 44,
   "id": "22b63599",
   "metadata": {},
   "outputs": [
    {
     "name": "stdout",
     "output_type": "stream",
     "text": [
      "<class 'pandas.core.frame.DataFrame'>\n",
      "RangeIndex: 891 entries, 0 to 890\n",
      "Data columns (total 12 columns):\n",
      " #   Column       Non-Null Count  Dtype  \n",
      "---  ------       --------------  -----  \n",
      " 0   PassengerId  891 non-null    int32  \n",
      " 1   Survived     891 non-null    int32  \n",
      " 2   Pclass       891 non-null    int32  \n",
      " 3   Name         891 non-null    object \n",
      " 4   Sex          891 non-null    object \n",
      " 5   Age          891 non-null    float64\n",
      " 6   SibSp        891 non-null    int32  \n",
      " 7   Parch        891 non-null    int32  \n",
      " 8   Ticket       891 non-null    object \n",
      " 9   Fare         891 non-null    float64\n",
      " 10  Cabin        204 non-null    object \n",
      " 11  Embarked     889 non-null    object \n",
      "dtypes: float64(2), int32(5), object(5)\n",
      "memory usage: 66.3+ KB\n"
     ]
    }
   ],
   "source": [
    "# Pandas Dataframe에서 Age의 NaN값을 나이의 평균으로 채우기\n",
    "titanic_pdf['Age'] = titanic_pdf['Age'].fillna(titanic_pdf['Age'].mean(), inplace=False)\n",
    "titanic_pdf.info()"
   ]
  },
  {
   "cell_type": "code",
   "execution_count": 45,
   "id": "49dcc726",
   "metadata": {},
   "outputs": [
    {
     "name": "stdout",
     "output_type": "stream",
     "text": [
      "+-----------+--------+------+--------------------+------+-----+-----+-----+----------------+-------+-----+--------+\n",
      "|PassengerId|Survived|Pclass|                Name|   Sex|  Age|SibSp|Parch|          Ticket|   Fare|Cabin|Embarked|\n",
      "+-----------+--------+------+--------------------+------+-----+-----+-----+----------------+-------+-----+--------+\n",
      "|          1|       0|     3|Braund, Mr. Owen ...|  male| 22.0|    1|    0|       A/5 21171|   7.25| null|       S|\n",
      "|          2|       1|     1|Cumings, Mrs. Joh...|female| 38.0|    1|    0|        PC 17599|71.2833|  C85|       C|\n",
      "|          3|       1|     3|Heikkinen, Miss. ...|female| 26.0|    0|    0|STON/O2. 3101282|  7.925| null|       S|\n",
      "|          4|       1|     1|Futrelle, Mrs. Ja...|female| 35.0|    1|    0|          113803|   53.1| C123|       S|\n",
      "|          5|       0|     3|Allen, Mr. Willia...|  male| 35.0|    0|    0|          373450|   8.05| null|       S|\n",
      "|          6|       0|     3|    Moran, Mr. James|  male|999.0|    0|    0|          330877| 8.4583| null|       Q|\n",
      "|          7|       0|     1|McCarthy, Mr. Tim...|  male| 54.0|    0|    0|           17463|51.8625|  E46|       S|\n",
      "|          8|       0|     3|Palsson, Master. ...|  male|  2.0|    3|    1|          349909| 21.075| null|       S|\n",
      "|          9|       1|     3|Johnson, Mrs. Osc...|female| 27.0|    0|    2|          347742|11.1333| null|       S|\n",
      "|         10|       1|     2|Nasser, Mrs. Nich...|female| 14.0|    1|    0|          237736|30.0708| null|       C|\n",
      "+-----------+--------+------+--------------------+------+-----+-----+-----+----------------+-------+-----+--------+\n",
      "only showing top 10 rows\n",
      "\n",
      "+-----------+--------+------+--------------------+------+-----+-----+-----+----------------+-------+-----+--------+\n",
      "|PassengerId|Survived|Pclass|                Name|   Sex|  Age|SibSp|Parch|          Ticket|   Fare|Cabin|Embarked|\n",
      "+-----------+--------+------+--------------------+------+-----+-----+-----+----------------+-------+-----+--------+\n",
      "|          1|       0|     3|Braund, Mr. Owen ...|  male| 22.0|    1|    0|       A/5 21171|   7.25| null|       S|\n",
      "|          2|       1|     1|Cumings, Mrs. Joh...|female| 38.0|    1|    0|        PC 17599|71.2833|  C85|       C|\n",
      "|          3|       1|     3|Heikkinen, Miss. ...|female| 26.0|    0|    0|STON/O2. 3101282|  7.925| null|       S|\n",
      "|          4|       1|     1|Futrelle, Mrs. Ja...|female| 35.0|    1|    0|          113803|   53.1| C123|       S|\n",
      "|          5|       0|     3|Allen, Mr. Willia...|  male| 35.0|    0|    0|          373450|   8.05| null|       S|\n",
      "|          6|       0|     3|    Moran, Mr. James|  male|999.0|    0|    0|          330877| 8.4583| null|       Q|\n",
      "|          7|       0|     1|McCarthy, Mr. Tim...|  male| 54.0|    0|    0|           17463|51.8625|  E46|       S|\n",
      "|          8|       0|     3|Palsson, Master. ...|  male|  2.0|    3|    1|          349909| 21.075| null|       S|\n",
      "|          9|       1|     3|Johnson, Mrs. Osc...|female| 27.0|    0|    2|          347742|11.1333| null|       S|\n",
      "|         10|       1|     2|Nasser, Mrs. Nich...|female| 14.0|    1|    0|          237736|30.0708| null|       C|\n",
      "+-----------+--------+------+--------------------+------+-----+-----+-----+----------------+-------+-----+--------+\n",
      "only showing top 10 rows\n",
      "\n"
     ]
    }
   ],
   "source": [
    "# 스파크 데이터프레임에서 결측치(Null)을 채우는 방법\n",
    "\n",
    "# 1. fillna(숫자 데이터에만)\n",
    "titanic_sdf.fillna(value=999).show(10) # 숫자형 컬럼에 nan값에 999라고 채워짐\n",
    "\n",
    "# 2. na.fill\n",
    "titanic_sdf.na.fill(value=999).show(10)"
   ]
  },
  {
   "cell_type": "code",
   "execution_count": 46,
   "id": "8c8cdfd1",
   "metadata": {},
   "outputs": [
    {
     "name": "stdout",
     "output_type": "stream",
     "text": [
      "+-----------+--------+------+--------------------+------+----+-----+-----+----------------+-------+-----+--------+\n",
      "|PassengerId|Survived|Pclass|                Name|   Sex| Age|SibSp|Parch|          Ticket|   Fare|Cabin|Embarked|\n",
      "+-----------+--------+------+--------------------+------+----+-----+-----+----------------+-------+-----+--------+\n",
      "|          1|       0|     3|Braund, Mr. Owen ...|  male|22.0|    1|    0|       A/5 21171|   7.25|   NA|       S|\n",
      "|          2|       1|     1|Cumings, Mrs. Joh...|female|38.0|    1|    0|        PC 17599|71.2833|  C85|       C|\n",
      "|          3|       1|     3|Heikkinen, Miss. ...|female|26.0|    0|    0|STON/O2. 3101282|  7.925|   NA|       S|\n",
      "|          4|       1|     1|Futrelle, Mrs. Ja...|female|35.0|    1|    0|          113803|   53.1| C123|       S|\n",
      "|          5|       0|     3|Allen, Mr. Willia...|  male|35.0|    0|    0|          373450|   8.05|   NA|       S|\n",
      "|          6|       0|     3|    Moran, Mr. James|  male|null|    0|    0|          330877| 8.4583|   NA|       Q|\n",
      "|          7|       0|     1|McCarthy, Mr. Tim...|  male|54.0|    0|    0|           17463|51.8625|  E46|       S|\n",
      "|          8|       0|     3|Palsson, Master. ...|  male| 2.0|    3|    1|          349909| 21.075|   NA|       S|\n",
      "|          9|       1|     3|Johnson, Mrs. Osc...|female|27.0|    0|    2|          347742|11.1333|   NA|       S|\n",
      "|         10|       1|     2|Nasser, Mrs. Nich...|female|14.0|    1|    0|          237736|30.0708|   NA|       C|\n",
      "+-----------+--------+------+--------------------+------+----+-----+-----+----------------+-------+-----+--------+\n",
      "only showing top 10 rows\n",
      "\n"
     ]
    }
   ],
   "source": [
    "titanic_sdf.fillna(value='NA').show(10) # 이젠 Age에는 안채워지고 Cabin에만 채워짐"
   ]
  },
  {
   "cell_type": "markdown",
   "id": "4946d1c8",
   "metadata": {},
   "source": [
    "숫자형식의 데이터가 들어가면 숫자 컬럼에만 결측치가 채워지고, 문자열 형식의 데이터가 들어가면 문자열 컬럼에만 결측치가 채워진다."
   ]
  },
  {
   "cell_type": "code",
   "execution_count": 48,
   "id": "3d242ccb",
   "metadata": {},
   "outputs": [
    {
     "name": "stdout",
     "output_type": "stream",
     "text": [
      "+-----------+--------+------+--------------------+------+-----+-----+-----+----------------+-------+-----+--------+\n",
      "|PassengerId|Survived|Pclass|                Name|   Sex|  Age|SibSp|Parch|          Ticket|   Fare|Cabin|Embarked|\n",
      "+-----------+--------+------+--------------------+------+-----+-----+-----+----------------+-------+-----+--------+\n",
      "|          1|       0|     3|Braund, Mr. Owen ...|  male| 22.0|    1|    0|       A/5 21171|   7.25| null|       S|\n",
      "|          2|       1|     1|Cumings, Mrs. Joh...|female| 38.0|    1|    0|        PC 17599|71.2833|  C85|       C|\n",
      "|          3|       1|     3|Heikkinen, Miss. ...|female| 26.0|    0|    0|STON/O2. 3101282|  7.925| null|       S|\n",
      "|          4|       1|     1|Futrelle, Mrs. Ja...|female| 35.0|    1|    0|          113803|   53.1| C123|       S|\n",
      "|          5|       0|     3|Allen, Mr. Willia...|  male| 35.0|    0|    0|          373450|   8.05| null|       S|\n",
      "|          6|       0|     3|    Moran, Mr. James|  male|999.0|    0|    0|          330877| 8.4583| null|       Q|\n",
      "|          7|       0|     1|McCarthy, Mr. Tim...|  male| 54.0|    0|    0|           17463|51.8625|  E46|       S|\n",
      "|          8|       0|     3|Palsson, Master. ...|  male|  2.0|    3|    1|          349909| 21.075| null|       S|\n",
      "|          9|       1|     3|Johnson, Mrs. Osc...|female| 27.0|    0|    2|          347742|11.1333| null|       S|\n",
      "|         10|       1|     2|Nasser, Mrs. Nich...|female| 14.0|    1|    0|          237736|30.0708| null|       C|\n",
      "+-----------+--------+------+--------------------+------+-----+-----+-----+----------------+-------+-----+--------+\n",
      "only showing top 10 rows\n",
      "\n",
      "+-----------+--------+------+--------------------+------+----+-----+-----+----------------+-------+-----+--------+\n",
      "|PassengerId|Survived|Pclass|                Name|   Sex| Age|SibSp|Parch|          Ticket|   Fare|Cabin|Embarked|\n",
      "+-----------+--------+------+--------------------+------+----+-----+-----+----------------+-------+-----+--------+\n",
      "|          1|       0|     3|Braund, Mr. Owen ...|  male|22.0|    1|    0|       A/5 21171|   7.25|   NA|       S|\n",
      "|          2|       1|     1|Cumings, Mrs. Joh...|female|38.0|    1|    0|        PC 17599|71.2833|  C85|       C|\n",
      "|          3|       1|     3|Heikkinen, Miss. ...|female|26.0|    0|    0|STON/O2. 3101282|  7.925|   NA|       S|\n",
      "|          4|       1|     1|Futrelle, Mrs. Ja...|female|35.0|    1|    0|          113803|   53.1| C123|       S|\n",
      "|          5|       0|     3|Allen, Mr. Willia...|  male|35.0|    0|    0|          373450|   8.05|   NA|       S|\n",
      "|          6|       0|     3|    Moran, Mr. James|  male|null|    0|    0|          330877| 8.4583|   NA|       Q|\n",
      "|          7|       0|     1|McCarthy, Mr. Tim...|  male|54.0|    0|    0|           17463|51.8625|  E46|       S|\n",
      "|          8|       0|     3|Palsson, Master. ...|  male| 2.0|    3|    1|          349909| 21.075|   NA|       S|\n",
      "|          9|       1|     3|Johnson, Mrs. Osc...|female|27.0|    0|    2|          347742|11.1333|   NA|       S|\n",
      "|         10|       1|     2|Nasser, Mrs. Nich...|female|14.0|    1|    0|          237736|30.0708|   NA|       C|\n",
      "+-----------+--------+------+--------------------+------+----+-----+-----+----------------+-------+-----+--------+\n",
      "only showing top 10 rows\n",
      "\n"
     ]
    }
   ],
   "source": [
    "# subset을 이용해서 특정 컬럼에만 Null값 처리하기\n",
    "titanic_sdf.fillna(value=999, subset=['Age']).show(10)\n",
    "\n",
    "titanic_sdf.fillna(value='NA', subset=['Cabin']).show(10)"
   ]
  },
  {
   "cell_type": "code",
   "execution_count": 49,
   "id": "c064923d",
   "metadata": {
    "scrolled": true
   },
   "outputs": [
    {
     "name": "stdout",
     "output_type": "stream",
     "text": [
      "+-----------------+\n",
      "|         avg(Age)|\n",
      "+-----------------+\n",
      "|29.69911764705882|\n",
      "+-----------------+\n",
      "\n"
     ]
    },
    {
     "data": {
      "text/plain": [
       "pyspark.sql.dataframe.DataFrame"
      ]
     },
     "execution_count": 49,
     "metadata": {},
     "output_type": "execute_result"
    }
   ],
   "source": [
    "# Age에 대한 결측치 처리를 Age의 평균으로 하기\n",
    "from pyspark.sql.functions import avg, col\n",
    "import pyspark.sql.functions as F\n",
    "\n",
    "avg_age = titanic_sdf.select(F.avg(F.col('Age')))\n",
    "avg_age.show()\n",
    "type(avg_age)\n"
   ]
  },
  {
   "cell_type": "code",
   "execution_count": 64,
   "id": "bf4b07fa",
   "metadata": {},
   "outputs": [
    {
     "data": {
      "text/plain": [
       "(Row(avg(Age)=29.69911764705882), pyspark.sql.types.Row)"
      ]
     },
     "execution_count": 64,
     "metadata": {},
     "output_type": "execute_result"
    }
   ],
   "source": []
  },
  {
   "cell_type": "code",
   "execution_count": 50,
   "id": "03a63daf",
   "metadata": {},
   "outputs": [
    {
     "ename": "TypeError",
     "evalue": "value should be a float, int, string, bool or dict",
     "output_type": "error",
     "traceback": [
      "\u001b[0;31m---------------------------------------------------------------------------\u001b[0m",
      "\u001b[0;31mTypeError\u001b[0m                                 Traceback (most recent call last)",
      "Cell \u001b[0;32mIn[50], line 2\u001b[0m\n\u001b[1;32m      1\u001b[0m \u001b[38;5;66;03m# value 인자로 데이터프레임이 들어가면 오류 발생\u001b[39;00m\n\u001b[0;32m----> 2\u001b[0m \u001b[43mtitanic_sdf\u001b[49m\u001b[38;5;241;43m.\u001b[39;49m\u001b[43mfillna\u001b[49m\u001b[43m(\u001b[49m\u001b[43mvalue\u001b[49m\u001b[38;5;241;43m=\u001b[39;49m\u001b[43mavg_age\u001b[49m\u001b[43m,\u001b[49m\u001b[43m \u001b[49m\u001b[43msubset\u001b[49m\u001b[38;5;241;43m=\u001b[39;49m\u001b[43m[\u001b[49m\u001b[38;5;124;43m'\u001b[39;49m\u001b[38;5;124;43mAge\u001b[39;49m\u001b[38;5;124;43m'\u001b[39;49m\u001b[43m]\u001b[49m\u001b[43m)\u001b[49m\n",
      "File \u001b[0;32m~/miniconda3/envs/spark_env/lib/python3.8/site-packages/pyspark/sql/dataframe.py:2088\u001b[0m, in \u001b[0;36mDataFrame.fillna\u001b[0;34m(self, value, subset)\u001b[0m\n\u001b[1;32m   2038\u001b[0m \u001b[38;5;250m\u001b[39m\u001b[38;5;124;03m\"\"\"Replace null values, alias for ``na.fill()``.\u001b[39;00m\n\u001b[1;32m   2039\u001b[0m \u001b[38;5;124;03m:func:`DataFrame.fillna` and :func:`DataFrameNaFunctions.fill` are aliases of each other.\u001b[39;00m\n\u001b[1;32m   2040\u001b[0m \n\u001b[0;32m   (...)\u001b[0m\n\u001b[1;32m   2085\u001b[0m \u001b[38;5;124;03m+---+------+-------+\u001b[39;00m\n\u001b[1;32m   2086\u001b[0m \u001b[38;5;124;03m\"\"\"\u001b[39;00m\n\u001b[1;32m   2087\u001b[0m \u001b[38;5;28;01mif\u001b[39;00m \u001b[38;5;129;01mnot\u001b[39;00m \u001b[38;5;28misinstance\u001b[39m(value, (\u001b[38;5;28mfloat\u001b[39m, \u001b[38;5;28mint\u001b[39m, \u001b[38;5;28mstr\u001b[39m, \u001b[38;5;28mbool\u001b[39m, \u001b[38;5;28mdict\u001b[39m)):\n\u001b[0;32m-> 2088\u001b[0m     \u001b[38;5;28;01mraise\u001b[39;00m \u001b[38;5;167;01mTypeError\u001b[39;00m(\u001b[38;5;124m\"\u001b[39m\u001b[38;5;124mvalue should be a float, int, string, bool or dict\u001b[39m\u001b[38;5;124m\"\u001b[39m)\n\u001b[1;32m   2090\u001b[0m \u001b[38;5;66;03m# Note that bool validates isinstance(int), but we don't want to\u001b[39;00m\n\u001b[1;32m   2091\u001b[0m \u001b[38;5;66;03m# convert bools to floats\u001b[39;00m\n\u001b[1;32m   2093\u001b[0m \u001b[38;5;28;01mif\u001b[39;00m \u001b[38;5;129;01mnot\u001b[39;00m \u001b[38;5;28misinstance\u001b[39m(value, \u001b[38;5;28mbool\u001b[39m) \u001b[38;5;129;01mand\u001b[39;00m \u001b[38;5;28misinstance\u001b[39m(value, \u001b[38;5;28mint\u001b[39m):\n",
      "\u001b[0;31mTypeError\u001b[0m: value should be a float, int, string, bool or dict"
     ]
    }
   ],
   "source": [
    "# value 인자로 데이터프레임이 들어가면 오류 발생\n",
    "titanic_sdf.fillna(value=avg_age, subset=['Age'])"
   ]
  },
  {
   "cell_type": "code",
   "execution_count": 65,
   "id": "b9ea1311",
   "metadata": {},
   "outputs": [
    {
     "data": {
      "text/plain": [
       "(Row(avg(Age)=29.69911764705882), pyspark.sql.types.Row)"
      ]
     },
     "execution_count": 65,
     "metadata": {},
     "output_type": "execute_result"
    }
   ],
   "source": [
    "avg_age_row = avg_age.first()\n",
    "avg_age_row, type(avg_age_row)"
   ]
  },
  {
   "cell_type": "code",
   "execution_count": 66,
   "id": "dbd46f69",
   "metadata": {},
   "outputs": [
    {
     "data": {
      "text/plain": [
       "(29.69911764705882, float)"
      ]
     },
     "execution_count": 66,
     "metadata": {},
     "output_type": "execute_result"
    }
   ],
   "source": [
    "avg_age_value = avg_age_row[0]\n",
    "avg_age_value, type(avg_age_value)"
   ]
  },
  {
   "cell_type": "code",
   "execution_count": 67,
   "id": "b482ad51",
   "metadata": {},
   "outputs": [
    {
     "name": "stdout",
     "output_type": "stream",
     "text": [
      "+-----------+--------+------+--------------------+------+-----------------+-----+-----+----------------+-------+-----+--------+\n",
      "|PassengerId|Survived|Pclass|                Name|   Sex|              Age|SibSp|Parch|          Ticket|   Fare|Cabin|Embarked|\n",
      "+-----------+--------+------+--------------------+------+-----------------+-----+-----+----------------+-------+-----+--------+\n",
      "|          1|       0|     3|Braund, Mr. Owen ...|  male|             22.0|    1|    0|       A/5 21171|   7.25| null|       S|\n",
      "|          2|       1|     1|Cumings, Mrs. Joh...|female|             38.0|    1|    0|        PC 17599|71.2833|  C85|       C|\n",
      "|          3|       1|     3|Heikkinen, Miss. ...|female|             26.0|    0|    0|STON/O2. 3101282|  7.925| null|       S|\n",
      "|          4|       1|     1|Futrelle, Mrs. Ja...|female|             35.0|    1|    0|          113803|   53.1| C123|       S|\n",
      "|          5|       0|     3|Allen, Mr. Willia...|  male|             35.0|    0|    0|          373450|   8.05| null|       S|\n",
      "|          6|       0|     3|    Moran, Mr. James|  male|29.69911764705882|    0|    0|          330877| 8.4583| null|       Q|\n",
      "|          7|       0|     1|McCarthy, Mr. Tim...|  male|             54.0|    0|    0|           17463|51.8625|  E46|       S|\n",
      "|          8|       0|     3|Palsson, Master. ...|  male|              2.0|    3|    1|          349909| 21.075| null|       S|\n",
      "|          9|       1|     3|Johnson, Mrs. Osc...|female|             27.0|    0|    2|          347742|11.1333| null|       S|\n",
      "|         10|       1|     2|Nasser, Mrs. Nich...|female|             14.0|    1|    0|          237736|30.0708| null|       C|\n",
      "|         11|       1|     3|Sandstrom, Miss. ...|female|              4.0|    1|    1|         PP 9549|   16.7|   G6|       S|\n",
      "|         12|       1|     1|Bonnell, Miss. El...|female|             58.0|    0|    0|          113783|  26.55| C103|       S|\n",
      "|         13|       0|     3|Saundercock, Mr. ...|  male|             20.0|    0|    0|       A/5. 2151|   8.05| null|       S|\n",
      "|         14|       0|     3|Andersson, Mr. An...|  male|             39.0|    1|    5|          347082| 31.275| null|       S|\n",
      "|         15|       0|     3|Vestrom, Miss. Hu...|female|             14.0|    0|    0|          350406| 7.8542| null|       S|\n",
      "|         16|       1|     2|Hewlett, Mrs. (Ma...|female|             55.0|    0|    0|          248706|   16.0| null|       S|\n",
      "|         17|       0|     3|Rice, Master. Eugene|  male|              2.0|    4|    1|          382652| 29.125| null|       Q|\n",
      "|         18|       1|     2|Williams, Mr. Cha...|  male|29.69911764705882|    0|    0|          244373|   13.0| null|       S|\n",
      "|         19|       0|     3|Vander Planke, Mr...|female|             31.0|    1|    0|          345763|   18.0| null|       S|\n",
      "|         20|       1|     3|Masselmani, Mrs. ...|female|29.69911764705882|    0|    0|            2649|  7.225| null|       C|\n",
      "+-----------+--------+------+--------------------+------+-----------------+-----+-----+----------------+-------+-----+--------+\n",
      "only showing top 20 rows\n",
      "\n"
     ]
    }
   ],
   "source": [
    "titanic_sdf.fillna(value= avg_age_value, subset=['Age']).show()"
   ]
  },
  {
   "cell_type": "code",
   "execution_count": 68,
   "id": "227721b7",
   "metadata": {},
   "outputs": [],
   "source": [
    "spark.stop()"
   ]
  },
  {
   "cell_type": "code",
   "execution_count": null,
   "id": "393862ef",
   "metadata": {},
   "outputs": [],
   "source": []
  }
 ],
 "metadata": {
  "kernelspec": {
   "display_name": "Python 3 (ipykernel)",
   "language": "python",
   "name": "python3"
  },
  "language_info": {
   "codemirror_mode": {
    "name": "ipython",
    "version": 3
   },
   "file_extension": ".py",
   "mimetype": "text/x-python",
   "name": "python",
   "nbconvert_exporter": "python",
   "pygments_lexer": "ipython3",
   "version": "3.8.16"
  }
 },
 "nbformat": 4,
 "nbformat_minor": 5
}
