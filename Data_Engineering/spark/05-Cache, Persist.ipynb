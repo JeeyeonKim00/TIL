{
 "cells": [
  {
   "cell_type": "code",
   "execution_count": 1,
   "id": "a972c233",
   "metadata": {},
   "outputs": [
    {
     "name": "stderr",
     "output_type": "stream",
     "text": [
      "WARNING: An illegal reflective access operation has occurred\n",
      "WARNING: Illegal reflective access by org.apache.spark.unsafe.Platform (file:/home/ubuntu/spark-3.2.4/jars/spark-unsafe_2.12-3.2.4.jar) to constructor java.nio.DirectByteBuffer(long,int)\n",
      "WARNING: Please consider reporting this to the maintainers of org.apache.spark.unsafe.Platform\n",
      "WARNING: Use --illegal-access=warn to enable warnings of further illegal reflective access operations\n",
      "WARNING: All illegal access operations will be denied in a future release\n",
      "Using Spark's default log4j profile: org/apache/spark/log4j-defaults.properties\n",
      "Setting default log level to \"WARN\".\n",
      "To adjust logging level use sc.setLogLevel(newLevel). For SparkR, use setLogLevel(newLevel).\n",
      "23/06/05 00:24:33 WARN NativeCodeLoader: Unable to load native-hadoop library for your platform... using builtin-java classes where applicable\n"
     ]
    },
    {
     "data": {
      "text/plain": [
       "['id,item,cateogry,reviews,',\n",
       " '0,짜장면,중식,125,',\n",
       " '1,짬뽕,중식,235,',\n",
       " '2,김밥,분식,32,',\n",
       " '3,떡볶이,분식,534,',\n",
       " '4,라멘,일식,223,',\n",
       " '5,돈가스,일식,52,',\n",
       " '6,우동,일식,12,',\n",
       " '7,쌀국수,아시안,312,',\n",
       " '8,햄버거,패스트푸드,12,',\n",
       " '9,치킨,패스트푸드,23']"
      ]
     },
     "execution_count": 1,
     "metadata": {},
     "output_type": "execute_result"
    }
   ],
   "source": [
    "from pyspark import SparkConf, SparkContext\n",
    "\n",
    "conf = SparkConf().setMaster('local').setAppName('restaurant-review-average')\n",
    "sc = SparkContext(conf = conf)\n",
    "\n",
    "\n",
    "filepath = '/home/ubuntu/working/spark-examples/data/restaurant_reviews.csv'\n",
    "lines = sc.textFile(f'file:///{filepath}') \n",
    "lines.collect()"
   ]
  },
  {
   "cell_type": "code",
   "execution_count": 3,
   "id": "be03e088",
   "metadata": {},
   "outputs": [
    {
     "data": {
      "text/plain": [
       "['0,짜장면,중식,125,',\n",
       " '1,짬뽕,중식,235,',\n",
       " '2,김밥,분식,32,',\n",
       " '3,떡볶이,분식,534,',\n",
       " '4,라멘,일식,223,',\n",
       " '5,돈가스,일식,52,',\n",
       " '6,우동,일식,12,',\n",
       " '7,쌀국수,아시안,312,',\n",
       " '8,햄버거,패스트푸드,12,',\n",
       " '9,치킨,패스트푸드,23']"
      ]
     },
     "execution_count": 3,
     "metadata": {},
     "output_type": "execute_result"
    }
   ],
   "source": [
    "header = lines.first()\n",
    "filtered_lines = lines.filter(lambda x: x!=header)\n",
    "filtered_lines.collect()"
   ]
  },
  {
   "cell_type": "code",
   "execution_count": 4,
   "id": "10e07503",
   "metadata": {},
   "outputs": [],
   "source": [
    "def parse(row):\n",
    "    fields = row.split(',')\n",
    "    category = fields[2]\n",
    "    reviews = int(fields[3])\n",
    "    \n",
    "    return category, reviews"
   ]
  },
  {
   "cell_type": "markdown",
   "id": "8709edbf",
   "metadata": {},
   "source": [
    "cache, persist 쓸 때 어떤 문제가 있을까?"
   ]
  },
  {
   "cell_type": "markdown",
   "id": "4645de35",
   "metadata": {},
   "source": [
    "1. `persist`를 사용하지 않는 경우"
   ]
  },
  {
   "cell_type": "code",
   "execution_count": 7,
   "id": "0e353e98",
   "metadata": {},
   "outputs": [
    {
     "data": {
      "text/plain": [
       "[('중식', 125),\n",
       " ('중식', 235),\n",
       " ('분식', 32),\n",
       " ('분식', 534),\n",
       " ('일식', 223),\n",
       " ('일식', 52),\n",
       " ('일식', 12),\n",
       " ('아시안', 312),\n",
       " ('패스트푸드', 12),\n",
       " ('패스트푸드', 23)]"
      ]
     },
     "execution_count": 7,
     "metadata": {},
     "output_type": "execute_result"
    }
   ],
   "source": [
    "categoryReviews = filtered_lines.map(parse)\n",
    "categoryReviews.collect()"
   ]
  },
  {
   "cell_type": "code",
   "execution_count": 9,
   "id": "85843995",
   "metadata": {},
   "outputs": [],
   "source": [
    "result1 = categoryReviews.take(10)\n",
    "result2 = categoryReviews.mapValues(lambda x : (x,1)).collect()"
   ]
  },
  {
   "cell_type": "code",
   "execution_count": 10,
   "id": "8707681e",
   "metadata": {},
   "outputs": [
    {
     "data": {
      "text/plain": [
       "([('중식', 125),\n",
       "  ('중식', 235),\n",
       "  ('분식', 32),\n",
       "  ('분식', 534),\n",
       "  ('일식', 223),\n",
       "  ('일식', 52),\n",
       "  ('일식', 12),\n",
       "  ('아시안', 312),\n",
       "  ('패스트푸드', 12),\n",
       "  ('패스트푸드', 23)],\n",
       " [('중식', (125, 1)),\n",
       "  ('중식', (235, 1)),\n",
       "  ('분식', (32, 1)),\n",
       "  ('분식', (534, 1)),\n",
       "  ('일식', (223, 1)),\n",
       "  ('일식', (52, 1)),\n",
       "  ('일식', (12, 1)),\n",
       "  ('아시안', (312, 1)),\n",
       "  ('패스트푸드', (12, 1)),\n",
       "  ('패스트푸드', (23, 1))])"
      ]
     },
     "execution_count": 10,
     "metadata": {},
     "output_type": "execute_result"
    }
   ],
   "source": [
    "result1, result2"
   ]
  },
  {
   "attachments": {
    "image.png": {
     "image/png": "[encoded data removed]"
    }
   },
   "cell_type": "markdown",
   "id": "d079f48b",
   "metadata": {},
   "source": [
    "categoryReviews는 result1, result2를 만들면서 2번 만들어집니다. categoryReviews에서 데이터를 꺼내오기만 하면되지 변경은 일어나지 않기 떄문에 persist를 이용해서 categoryReview를 메모리에 넣어 놓는 것이 더 좋아 보입니ㅏㄷ.\n",
    "\n",
    "현재 데이터 구조\n",
    "![image.png](attachment:image.png)\n",
    "\n",
    "이런 구조로 deg이 그려진다면 cache, persist 가 유리할 수도."
   ]
  },
  {
   "cell_type": "markdown",
   "id": "2e955113",
   "metadata": {},
   "source": [
    "2. `persist`를 사용하는 경우"
   ]
  },
  {
   "cell_type": "code",
   "execution_count": 13,
   "id": "038d4d12",
   "metadata": {},
   "outputs": [
    {
     "data": {
      "text/plain": [
       "[('중식', 125),\n",
       " ('중식', 235),\n",
       " ('분식', 32),\n",
       " ('분식', 534),\n",
       " ('일식', 223),\n",
       " ('일식', 52),\n",
       " ('일식', 12),\n",
       " ('아시안', 312),\n",
       " ('패스트푸드', 12),\n",
       " ('패스트푸드', 23)]"
      ]
     },
     "execution_count": 13,
     "metadata": {},
     "output_type": "execute_result"
    }
   ],
   "source": [
    "# persist = 디스크에 기록되지 않는 RDD 만들기\n",
    "# 결과물이 디스크에 기록되지 않고 메모리에만 기록이 됨\n",
    "# categoryReviews RDD는 메모리에 상주하는 RDD\n",
    "# 메모리 -> 디스크 -> 메모리 -> 디스크\n",
    "categoryReviews = filtered_lines.map(parse).persist()\n",
    "categoryReviews.collect()\n"
   ]
  },
  {
   "cell_type": "code",
   "execution_count": 14,
   "id": "88c2fddb",
   "metadata": {},
   "outputs": [],
   "source": [
    "result1 = categoryReviews.take(10)\n",
    "result2 = categoryReviews.mapValues(lambda x:(x,1)).collect()"
   ]
  },
  {
   "cell_type": "code",
   "execution_count": 15,
   "id": "2924fa47",
   "metadata": {},
   "outputs": [],
   "source": [
    "sc.stop()"
   ]
  },
  {
   "cell_type": "markdown",
   "id": "8a33acd1",
   "metadata": {},
   "source": [
    "결론: 하나의 RDD를 기반으로 여러 연산(Transformations, Action 모두) 일어날 때는 persist()를 사용하면 좋다!\n",
    "- 대표적으로 머신러닝 훈련 데이터"
   ]
  },
  {
   "cell_type": "code",
   "execution_count": null,
   "id": "5c8d56bb",
   "metadata": {},
   "outputs": [],
   "source": []
  }
 ],
 "metadata": {
  "kernelspec": {
   "display_name": "Python 3 (ipykernel)",
   "language": "python",
   "name": "python3"
  },
  "language_info": {
   "codemirror_mode": {
    "name": "ipython",
    "version": 3
   },
   "file_extension": ".py",
   "mimetype": "text/x-python",
   "name": "python",
   "nbconvert_exporter": "python",
   "pygments_lexer": "ipython3",
   "version": "3.8.16"
  }
 },
 "nbformat": 4,
 "nbformat_minor": 5
}
