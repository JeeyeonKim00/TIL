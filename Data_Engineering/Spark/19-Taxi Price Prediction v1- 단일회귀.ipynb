{
 "cells": [
  {
   "cell_type": "code",
   "execution_count": 1,
   "id": "22e67660",
   "metadata": {},
   "outputs": [
    {
     "name": "stderr",
     "output_type": "stream",
     "text": [
      "WARNING: An illegal reflective access operation has occurred\n",
      "WARNING: Illegal reflective access by org.apache.spark.unsafe.Platform (file:/home/ubuntu/spark-3.2.4/jars/spark-unsafe_2.12-3.2.4.jar) to constructor java.nio.DirectByteBuffer(long,int)\n",
      "WARNING: Please consider reporting this to the maintainers of org.apache.spark.unsafe.Platform\n",
      "WARNING: Use --illegal-access=warn to enable warnings of further illegal reflective access operations\n",
      "WARNING: All illegal access operations will be denied in a future release\n",
      "Using Spark's default log4j profile: org/apache/spark/log4j-defaults.properties\n",
      "Setting default log level to \"WARN\".\n",
      "To adjust logging level use sc.setLogLevel(newLevel). For SparkR, use setLogLevel(newLevel).\n",
      "23/06/14 04:44:00 WARN NativeCodeLoader: Unable to load native-hadoop library for your platform... using builtin-java classes where applicable\n",
      "23/06/14 04:44:02 WARN Utils: Service 'SparkUI' could not bind on port 4040. Attempting port 4041.\n",
      "                                                                                \r"
     ]
    }
   ],
   "source": [
    "from pyspark.sql import SparkSession\n",
    "\n",
    "spark = SparkSession.builder.appName('trip_count_sql').getOrCreate()\n",
    "\n",
    "directory = '/home/ubuntu/working/spark-examples/data'\n",
    "trip_files = 'trips/'\n",
    "\n",
    "trips_df = spark.read.csv(f'file://{directory}/{trip_files}',\n",
    "                         inferSchema = True,\n",
    "                         header = True)"
   ]
  },
  {
   "cell_type": "code",
   "execution_count": 2,
   "id": "e7d2ee96",
   "metadata": {},
   "outputs": [
    {
     "name": "stdout",
     "output_type": "stream",
     "text": [
      "root\n",
      " |-- VendorID: integer (nullable = true)\n",
      " |-- tpep_pickup_datetime: string (nullable = true)\n",
      " |-- tpep_dropoff_datetime: string (nullable = true)\n",
      " |-- passenger_count: integer (nullable = true)\n",
      " |-- trip_distance: double (nullable = true)\n",
      " |-- RatecodeID: integer (nullable = true)\n",
      " |-- store_and_fwd_flag: string (nullable = true)\n",
      " |-- PULocationID: integer (nullable = true)\n",
      " |-- DOLocationID: integer (nullable = true)\n",
      " |-- payment_type: integer (nullable = true)\n",
      " |-- fare_amount: double (nullable = true)\n",
      " |-- extra: double (nullable = true)\n",
      " |-- mta_tax: double (nullable = true)\n",
      " |-- tip_amount: double (nullable = true)\n",
      " |-- tolls_amount: double (nullable = true)\n",
      " |-- improvement_surcharge: double (nullable = true)\n",
      " |-- total_amount: double (nullable = true)\n",
      " |-- congestion_surcharge: double (nullable = true)\n",
      "\n"
     ]
    }
   ],
   "source": [
    "trips_df.printSchema()"
   ]
  },
  {
   "cell_type": "code",
   "execution_count": 3,
   "id": "1ad10985",
   "metadata": {},
   "outputs": [],
   "source": [
    "trips_df.createOrReplaceTempView('trips')"
   ]
  },
  {
   "cell_type": "markdown",
   "id": "64b225fa",
   "metadata": {},
   "source": [
    "Lake -> Warehouse -> Mart\n",
    "- Mart에 있는 데이터를 기준으로 해서 Application이 만들어짐\n",
    "- 딥러닝, 머신러닝 -> Warehouse 단계 데이터에서 이뤄짐\n",
    "\n",
    "- **Warehouse에서 feature, target을 꺼내와서 만든 것이 Mart**"
   ]
  },
  {
   "cell_type": "markdown",
   "id": "19b62a65",
   "metadata": {},
   "source": [
    "운행거리(`trip_distance`)에 따른 요금(`total_amount`)를 예측\n",
    "- where절은 EDA 결과를 따라가면 됨"
   ]
  },
  {
   "cell_type": "markdown",
   "id": "a46086f8",
   "metadata": {},
   "source": [
    "TO_DATE를 쓰면 (\t2021-05-15 08:30:00) -> 여기서 날짜만 남게됨"
   ]
  },
  {
   "cell_type": "code",
   "execution_count": 4,
   "id": "e6f7114a",
   "metadata": {},
   "outputs": [
    {
     "name": "stderr",
     "output_type": "stream",
     "text": [
      "[Stage 2:===================================================>     (10 + 1) / 11]\r"
     ]
    },
    {
     "name": "stdout",
     "output_type": "stream",
     "text": [
      "+-------------+------------+\n",
      "|trip_distance|total_amount|\n",
      "+-------------+------------+\n",
      "|        475.5|        48.3|\n",
      "|        474.1|        46.8|\n",
      "|        452.0|       60.16|\n",
      "|        449.9|       56.75|\n",
      "|       439.74|       13.73|\n",
      "+-------------+------------+\n",
      "only showing top 5 rows\n",
      "\n"
     ]
    },
    {
     "name": "stderr",
     "output_type": "stream",
     "text": [
      "\r",
      "                                                                                \r"
     ]
    }
   ],
   "source": [
    "query = \"\"\"\n",
    "    SELECT trip_distance,\n",
    "            total_amount\n",
    "    FROM trips\n",
    "    WHERE total_amount < 5000\n",
    "    AND total_amount > 0\n",
    "    AND passenger_count < 5\n",
    "    AND trip_distance > 0\n",
    "    AND trip_distance < 500\n",
    "    AND TO_DATE(tpep_pickup_datetime) >= '2021-01-01'\n",
    "    AND TO_DATE(tpep_pickup_datetime) < '2021-08-01'\n",
    "    ORDER BY trip_distance DESC\n",
    "\"\"\"\n",
    "\n",
    "spark.sql(query).show(5)"
   ]
  },
  {
   "cell_type": "code",
   "execution_count": 5,
   "id": "8a022553",
   "metadata": {},
   "outputs": [],
   "source": [
    "data_df = spark.sql(query)\n",
    "data_df.createOrReplaceTempView('data') # 데이터 마트 구성"
   ]
  },
  {
   "cell_type": "code",
   "execution_count": 6,
   "id": "4400e1f4",
   "metadata": {},
   "outputs": [
    {
     "name": "stderr",
     "output_type": "stream",
     "text": [
      "[Stage 3:===================================================>     (10 + 1) / 11]\r"
     ]
    },
    {
     "name": "stdout",
     "output_type": "stream",
     "text": [
      "+-------------+------------+\n",
      "|trip_distance|total_amount|\n",
      "+-------------+------------+\n",
      "|        475.5|        48.3|\n",
      "|        474.1|        46.8|\n",
      "|        452.0|       60.16|\n",
      "|        449.9|       56.75|\n",
      "|       439.74|       13.73|\n",
      "|        439.0|       18.87|\n",
      "|        433.7|       44.05|\n",
      "|        427.7|      2292.4|\n",
      "|        423.6|        53.3|\n",
      "|        418.1|        65.8|\n",
      "|       411.67|       86.21|\n",
      "|        402.9|        39.8|\n",
      "|        402.7|        56.8|\n",
      "|        399.5|       42.05|\n",
      "|        391.9|       49.35|\n",
      "|        389.7|       56.95|\n",
      "|        385.0|        40.8|\n",
      "|        380.3|       39.35|\n",
      "|        377.3|        40.1|\n",
      "|        370.4|       43.25|\n",
      "+-------------+------------+\n",
      "only showing top 20 rows\n",
      "\n"
     ]
    },
    {
     "name": "stderr",
     "output_type": "stream",
     "text": [
      "\r",
      "                                                                                \r"
     ]
    }
   ],
   "source": [
    "data_df.show()"
   ]
  },
  {
   "cell_type": "markdown",
   "id": "b04c7c68",
   "metadata": {},
   "source": [
    "# 데이터 분리"
   ]
  },
  {
   "cell_type": "code",
   "execution_count": 7,
   "id": "30b253a7",
   "metadata": {},
   "outputs": [],
   "source": [
    "train_df, test_df = data_df.randomSplit([0.8,0.2], seed=42)"
   ]
  },
  {
   "cell_type": "markdown",
   "id": "f651d58b",
   "metadata": {},
   "source": [
    "# 훈련 데이터 캐싱\n",
    "- 전처리가 모델마다 다를 수 있기 때문에 전처리 후에 캐싱하지 않는 것"
   ]
  },
  {
   "cell_type": "code",
   "execution_count": 8,
   "id": "3e097cb5",
   "metadata": {},
   "outputs": [
    {
     "data": {
      "text/plain": [
       "DataFrame[trip_distance: double, total_amount: double]"
      ]
     },
     "execution_count": 8,
     "metadata": {},
     "output_type": "execute_result"
    }
   ],
   "source": [
    "train_df.cache()"
   ]
  },
  {
   "cell_type": "code",
   "execution_count": 9,
   "id": "363ebf02",
   "metadata": {
    "scrolled": false
   },
   "outputs": [
    {
     "name": "stderr",
     "output_type": "stream",
     "text": [
      "                                                                                \r"
     ]
    },
    {
     "data": {
      "text/plain": [
       "(10659431, 2)"
      ]
     },
     "execution_count": 9,
     "metadata": {},
     "output_type": "execute_result"
    }
   ],
   "source": [
    "train_df.count(), len(train_df.columns)"
   ]
  },
  {
   "cell_type": "code",
   "execution_count": 10,
   "id": "2643a148",
   "metadata": {
    "scrolled": false
   },
   "outputs": [
    {
     "name": "stderr",
     "output_type": "stream",
     "text": [
      "                                                                                \r"
     ]
    },
    {
     "data": {
      "text/plain": [
       "(2665618, 2)"
      ]
     },
     "execution_count": 10,
     "metadata": {},
     "output_type": "execute_result"
    }
   ],
   "source": [
    "test_df.count(), len(test_df.columns)"
   ]
  },
  {
   "cell_type": "markdown",
   "id": "c60fee7b",
   "metadata": {},
   "source": [
    "count()는 full-scan 작업이라서 느림"
   ]
  },
  {
   "attachments": {
    "image.png": {
     "image/png": "[encoded data removed]"
    }
   },
   "cell_type": "markdown",
   "id": "4d788801",
   "metadata": {},
   "source": [
    "![image.png](attachment:image.png)\n",
    "- feature는 matrix 형식이어야 함.\n",
    "    - `feature`가 하나밖에 없지만 `VectorAssembler` 를 활용해서 1차원 배열 형식으로 각각의 데이터를 만들어 준다.\n",
    "    - R(N) => R(N*1)\n",
    "    "
   ]
  },
  {
   "cell_type": "markdown",
   "id": "48f977b2",
   "metadata": {},
   "source": [
    "# Vector Assemble"
   ]
  },
  {
   "cell_type": "code",
   "execution_count": 11,
   "id": "b86f8af0",
   "metadata": {},
   "outputs": [
    {
     "name": "stdout",
     "output_type": "stream",
     "text": [
      "+-------------+------------+--------+\n",
      "|trip_distance|total_amount|features|\n",
      "+-------------+------------+--------+\n",
      "|        20.88|       39.05| [20.88]|\n",
      "|        20.88|       43.05| [20.88]|\n",
      "|        20.88|        55.3| [20.88]|\n",
      "|        20.88|       55.56| [20.88]|\n",
      "|        20.88|       56.55| [20.88]|\n",
      "|        20.88|        57.3| [20.88]|\n",
      "|        20.88|       58.05| [20.88]|\n",
      "|        20.88|        58.3| [20.88]|\n",
      "|        20.88|       58.55| [20.88]|\n",
      "|        20.88|       58.63| [20.88]|\n",
      "|        20.88|       59.35| [20.88]|\n",
      "|        20.88|       59.92| [20.88]|\n",
      "|        20.88|       60.55| [20.88]|\n",
      "|        20.88|        60.6| [20.88]|\n",
      "|        20.88|        60.6| [20.88]|\n",
      "|        20.88|        60.6| [20.88]|\n",
      "|        20.88|        60.6| [20.88]|\n",
      "|        20.88|        60.6| [20.88]|\n",
      "|        20.88|        60.6| [20.88]|\n",
      "|        20.88|        60.6| [20.88]|\n",
      "+-------------+------------+--------+\n",
      "only showing top 20 rows\n",
      "\n"
     ]
    }
   ],
   "source": [
    "from pyspark.ml.feature import VectorAssembler\n",
    "\n",
    "vec_assembler = VectorAssembler(inputCols=['trip_distance'], outputCol = 'features')\n",
    "\n",
    "vec_train_df = vec_assembler.transform(train_df)\n",
    "\n",
    "vec_train_df.show()"
   ]
  },
  {
   "cell_type": "markdown",
   "id": "0c9ddcdf",
   "metadata": {},
   "source": [
    "# 모델 생성"
   ]
  },
  {
   "cell_type": "code",
   "execution_count": 12,
   "id": "ecbd1a05",
   "metadata": {},
   "outputs": [],
   "source": [
    "from pyspark.ml.regression import LinearRegression\n",
    "\n",
    "lr = LinearRegression(\n",
    "        maxIter = 50,\n",
    "        labelCol = 'total_amount',\n",
    "        featuresCol = 'features')\n"
   ]
  },
  {
   "cell_type": "code",
   "execution_count": 13,
   "id": "a5569e92",
   "metadata": {},
   "outputs": [
    {
     "name": "stderr",
     "output_type": "stream",
     "text": [
      "23/06/14 04:55:34 WARN Instrumentation: [5e4fe460] regParam is zero, which might cause numerical instability and overfitting.\n",
      "23/06/14 04:55:35 WARN InstanceBuilder$NativeBLAS: Failed to load implementation from:dev.ludovic.netlib.blas.JNIBLAS\n",
      "23/06/14 04:55:35 WARN InstanceBuilder$NativeBLAS: Failed to load implementation from:dev.ludovic.netlib.blas.ForeignLinkerBLAS\n",
      "23/06/14 04:56:08 WARN InstanceBuilder$NativeLAPACK: Failed to load implementation from:dev.ludovic.netlib.lapack.JNILAPACK\n",
      "                                                                                \r"
     ]
    }
   ],
   "source": [
    "lr_model = lr.fit(vec_train_df)"
   ]
  },
  {
   "cell_type": "markdown",
   "id": "3df08459",
   "metadata": {},
   "source": [
    "# test_df 변환"
   ]
  },
  {
   "cell_type": "code",
   "execution_count": 14,
   "id": "7b02157c",
   "metadata": {},
   "outputs": [],
   "source": [
    "vec_test_df = vec_assembler.transform(test_df)"
   ]
  },
  {
   "cell_type": "code",
   "execution_count": 15,
   "id": "88150649",
   "metadata": {},
   "outputs": [
    {
     "name": "stderr",
     "output_type": "stream",
     "text": [
      "[Stage 28:>                                                         (0 + 1) / 1]\r"
     ]
    },
    {
     "name": "stdout",
     "output_type": "stream",
     "text": [
      "+-------------+------------+--------+\n",
      "|trip_distance|total_amount|features|\n",
      "+-------------+------------+--------+\n",
      "|         1.99|         8.3|  [1.99]|\n",
      "|         1.99|         8.8|  [1.99]|\n",
      "|         1.99|         8.8|  [1.99]|\n",
      "|         1.99|         8.8|  [1.99]|\n",
      "|         1.99|         9.3|  [1.99]|\n",
      "|         1.99|         9.3|  [1.99]|\n",
      "|         1.99|         9.3|  [1.99]|\n",
      "|         1.99|         9.3|  [1.99]|\n",
      "|         1.99|         9.3|  [1.99]|\n",
      "|         1.99|         9.3|  [1.99]|\n",
      "|         1.99|         9.3|  [1.99]|\n",
      "|         1.99|         9.3|  [1.99]|\n",
      "|         1.99|         9.3|  [1.99]|\n",
      "|         1.99|        9.55|  [1.99]|\n",
      "|         1.99|         9.8|  [1.99]|\n",
      "|         1.99|         9.8|  [1.99]|\n",
      "|         1.99|         9.8|  [1.99]|\n",
      "|         1.99|         9.8|  [1.99]|\n",
      "|         1.99|        9.81|  [1.99]|\n",
      "|         1.99|       10.23|  [1.99]|\n",
      "+-------------+------------+--------+\n",
      "only showing top 20 rows\n",
      "\n"
     ]
    },
    {
     "name": "stderr",
     "output_type": "stream",
     "text": [
      "\r",
      "                                                                                \r"
     ]
    }
   ],
   "source": [
    "vec_test_df.show()"
   ]
  },
  {
   "cell_type": "markdown",
   "id": "ad128bb9",
   "metadata": {},
   "source": [
    "# 예측"
   ]
  },
  {
   "cell_type": "code",
   "execution_count": 16,
   "id": "5f2225f4",
   "metadata": {},
   "outputs": [
    {
     "name": "stderr",
     "output_type": "stream",
     "text": [
      "[Stage 32:>                                                         (0 + 1) / 1]\r"
     ]
    },
    {
     "name": "stdout",
     "output_type": "stream",
     "text": [
      "+-------------+------------+--------+------------------+\n",
      "|trip_distance|total_amount|features|        prediction|\n",
      "+-------------+------------+--------+------------------+\n",
      "|         1.99|         8.3|  [1.99]|15.321356960710837|\n",
      "|         1.99|         8.8|  [1.99]|15.321356960710837|\n",
      "|         1.99|         8.8|  [1.99]|15.321356960710837|\n",
      "|         1.99|         8.8|  [1.99]|15.321356960710837|\n",
      "|         1.99|         9.3|  [1.99]|15.321356960710837|\n",
      "|         1.99|         9.3|  [1.99]|15.321356960710837|\n",
      "|         1.99|         9.3|  [1.99]|15.321356960710837|\n",
      "|         1.99|         9.3|  [1.99]|15.321356960710837|\n",
      "|         1.99|         9.3|  [1.99]|15.321356960710837|\n",
      "|         1.99|         9.3|  [1.99]|15.321356960710837|\n",
      "|         1.99|         9.3|  [1.99]|15.321356960710837|\n",
      "|         1.99|         9.3|  [1.99]|15.321356960710837|\n",
      "|         1.99|         9.3|  [1.99]|15.321356960710837|\n",
      "|         1.99|        9.55|  [1.99]|15.321356960710837|\n",
      "|         1.99|         9.8|  [1.99]|15.321356960710837|\n",
      "|         1.99|         9.8|  [1.99]|15.321356960710837|\n",
      "|         1.99|         9.8|  [1.99]|15.321356960710837|\n",
      "|         1.99|         9.8|  [1.99]|15.321356960710837|\n",
      "|         1.99|        9.81|  [1.99]|15.321356960710837|\n",
      "|         1.99|       10.23|  [1.99]|15.321356960710837|\n",
      "+-------------+------------+--------+------------------+\n",
      "only showing top 20 rows\n",
      "\n"
     ]
    },
    {
     "name": "stderr",
     "output_type": "stream",
     "text": [
      "\r",
      "                                                                                \r"
     ]
    }
   ],
   "source": [
    "predictions = lr_model.transform(vec_test_df)\n",
    "predictions.show()"
   ]
  },
  {
   "cell_type": "markdown",
   "id": "d6e72ab5",
   "metadata": {},
   "source": [
    "# 평가"
   ]
  },
  {
   "cell_type": "code",
   "execution_count": 17,
   "id": "4900b0fb",
   "metadata": {},
   "outputs": [
    {
     "data": {
      "text/plain": [
       "6.1381813996842425"
      ]
     },
     "execution_count": 17,
     "metadata": {},
     "output_type": "execute_result"
    }
   ],
   "source": [
    "# Evaluator를 쓰지 않고 train 데이터에 대한 rmse 값 확인\n",
    "lr_model.summary.rootMeanSquaredError"
   ]
  },
  {
   "cell_type": "code",
   "execution_count": 18,
   "id": "1c17267a",
   "metadata": {},
   "outputs": [
    {
     "data": {
      "text/plain": [
       "0.7752743340825037"
      ]
     },
     "execution_count": 18,
     "metadata": {},
     "output_type": "execute_result"
    }
   ],
   "source": [
    "# R^2 확인\n",
    "lr_model.summary.r2"
   ]
  },
  {
   "cell_type": "code",
   "execution_count": null,
   "id": "c7ba8656",
   "metadata": {},
   "outputs": [],
   "source": []
  }
 ],
 "metadata": {
  "kernelspec": {
   "display_name": "Python 3 (ipykernel)",
   "language": "python",
   "name": "python3"
  },
  "language_info": {
   "codemirror_mode": {
    "name": "ipython",
    "version": 3
   },
   "file_extension": ".py",
   "mimetype": "text/x-python",
   "name": "python",
   "nbconvert_exporter": "python",
   "pygments_lexer": "ipython3",
   "version": "3.8.16"
  }
 },
 "nbformat": 4,
 "nbformat_minor": 5
}
