{
 "cells": [
  {
   "cell_type": "code",
   "execution_count": 1,
   "id": "442377e3",
   "metadata": {},
   "outputs": [
    {
     "name": "stderr",
     "output_type": "stream",
     "text": [
      "WARNING: An illegal reflective access operation has occurred\n",
      "WARNING: Illegal reflective access by org.apache.spark.unsafe.Platform (file:/home/ubuntu/spark-3.2.4/jars/spark-unsafe_2.12-3.2.4.jar) to constructor java.nio.DirectByteBuffer(long,int)\n",
      "WARNING: Please consider reporting this to the maintainers of org.apache.spark.unsafe.Platform\n",
      "WARNING: Use --illegal-access=warn to enable warnings of further illegal reflective access operations\n",
      "WARNING: All illegal access operations will be denied in a future release\n",
      "Using Spark's default log4j profile: org/apache/spark/log4j-defaults.properties\n",
      "Setting default log level to \"WARN\".\n",
      "To adjust logging level use sc.setLogLevel(newLevel). For SparkR, use setLogLevel(newLevel).\n",
      "23/06/12 12:01:46 WARN NativeCodeLoader: Unable to load native-hadoop library for your platform... using builtin-java classes where applicable\n",
      "23/06/12 12:01:47 WARN Utils: Service 'SparkUI' could not bind on port 4040. Attempting port 4041.\n"
     ]
    }
   ],
   "source": [
    "from pyspark import SparkConf, SparkContext\n",
    "\n",
    "conf = SparkConf().setMaster('local').setAppName('spark_sql_basic')\n",
    "sc = SparkContext(conf = conf)"
   ]
  },
  {
   "cell_type": "markdown",
   "id": "0c8000d4",
   "metadata": {},
   "source": [
    "# RDD만을 이용한 데이터 추출"
   ]
  },
  {
   "cell_type": "code",
   "execution_count": 2,
   "id": "bf8bffce",
   "metadata": {},
   "outputs": [],
   "source": [
    "movies_rdd = sc.parallelize([\n",
    "    (1, (\"어벤져스\", \"마블\")),\n",
    "    (2, (\"슈퍼맨\", \"DC\")),\n",
    "    (3, (\"배트맨\", \"DC\")),\n",
    "    (4, (\"겨울왕국\", \"디즈니\")),\n",
    "    (5, (\"아이언맨\", \"마블\"))\n",
    "])\n",
    "\n",
    "\n",
    "attendances_rdd = sc.parallelize([\n",
    "    (1, (13934592, \"KR\")),\n",
    "    (2, (2182227,\"KR\")),\n",
    "    (3, (4226242, \"KR\")),\n",
    "    (4, (10303058, \"KR\")),\n",
    "    (5, (4300365, \"KR\"))\n",
    "])"
   ]
  },
  {
   "cell_type": "markdown",
   "id": "7602d19e",
   "metadata": {},
   "source": [
    "마블 영화 중 관객 수가 500만 이상인 영화 가져오기\n",
    "1. Inner Join -> Filter By Movies -> Filter By attendance\n",
    "2. Filter By Movies, Attendance -> Inner Join (the better)"
   ]
  },
  {
   "cell_type": "code",
   "execution_count": 3,
   "id": "01422515",
   "metadata": {},
   "outputs": [
    {
     "name": "stderr",
     "output_type": "stream",
     "text": [
      "                                                                                \r"
     ]
    },
    {
     "data": {
      "text/plain": [
       "[(2, (('슈퍼맨', 'DC'), (2182227, 'KR'))),\n",
       " (4, (('겨울왕국', '디즈니'), (10303058, 'KR'))),\n",
       " (1, (('어벤져스', '마블'), (13934592, 'KR'))),\n",
       " (3, (('배트맨', 'DC'), (4226242, 'KR'))),\n",
       " (5, (('아이언맨', '마블'), (4300365, 'KR')))]"
      ]
     },
     "execution_count": 3,
     "metadata": {},
     "output_type": "execute_result"
    }
   ],
   "source": [
    "# Case 1. Join먼저 -> filter 나중에\n",
    "\n",
    "movie_att = movies_rdd.join(attendances_rdd)\n",
    "movie_att.collect()"
   ]
  },
  {
   "cell_type": "code",
   "execution_count": 4,
   "id": "4969a049",
   "metadata": {},
   "outputs": [
    {
     "data": {
      "text/plain": [
       "[(1, (('어벤져스', '마블'), (13934592, 'KR')))]"
      ]
     },
     "execution_count": 4,
     "metadata": {},
     "output_type": "execute_result"
    }
   ],
   "source": [
    "movie_att.filter(lambda x: x[1][0][1] == '마블' and x[1][1][0]>=5000000).collect()"
   ]
  },
  {
   "cell_type": "code",
   "execution_count": 5,
   "id": "8c21c04b",
   "metadata": {},
   "outputs": [
    {
     "data": {
      "text/plain": [
       "[(1, (('어벤져스', '마블'), (13934592, 'KR')))]"
      ]
     },
     "execution_count": 5,
     "metadata": {},
     "output_type": "execute_result"
    }
   ],
   "source": [
    "# Case 2. Filter먼저 -> join나중에\n",
    "\n",
    "\n",
    "filtered_movies = movies_rdd.filter(lambda x:x[1][1]=='마블')\n",
    "filtered_att= attendances_rdd.filter(lambda x:x[1][0]>=5000000)\n",
    "filtered_movies.join(filtered_att).collect()"
   ]
  },
  {
   "cell_type": "markdown",
   "id": "32925b13",
   "metadata": {},
   "source": [
    "# Spark SQL 사용하기"
   ]
  },
  {
   "cell_type": "code",
   "execution_count": 1,
   "id": "baf33b70",
   "metadata": {},
   "outputs": [
    {
     "name": "stdout",
     "output_type": "stream",
     "text": [
      "Defaulting to user installation because normal site-packages is not writeable\n",
      "Collecting pyspark\n",
      "  Downloading pyspark-3.4.1.tar.gz (310.8 MB)\n",
      "     -------------------------------------- 310.8/310.8 MB 8.2 MB/s eta 0:00:00\n",
      "  Preparing metadata (setup.py): started\n",
      "  Preparing metadata (setup.py): finished with status 'done'\n",
      "Collecting py4j==0.10.9.7\n",
      "  Downloading py4j-0.10.9.7-py2.py3-none-any.whl (200 kB)\n",
      "     ------------------------------------- 200.5/200.5 kB 12.7 MB/s eta 0:00:00\n",
      "Building wheels for collected packages: pyspark\n",
      "  Building wheel for pyspark (setup.py): started\n",
      "  Building wheel for pyspark (setup.py): finished with status 'done'\n",
      "  Created wheel for pyspark: filename=pyspark-3.4.1-py2.py3-none-any.whl size=311285411 sha256=6dde6522add9bb76503f5d693af8e4b06a51ca5987761dd5bf8c289b2ab3f7f9\n",
      "  Stored in directory: c:\\users\\temp\\appdata\\local\\pip\\cache\\wheels\\2b\\9a\\39\\d8019ffbfb76a39433455e3d5799e94d3e3cae8f41229f6bf8\n",
      "Successfully built pyspark\n",
      "Installing collected packages: py4j, pyspark\n",
      "Successfully installed py4j-0.10.9.7 pyspark-3.4.1\n",
      "Note: you may need to restart the kernel to use updated packages.\n"
     ]
    }
   ],
   "source": [
    "%pip install pyspark"
   ]
  },
  {
   "cell_type": "code",
   "execution_count": 6,
   "id": "cfdc00bd",
   "metadata": {},
   "outputs": [
    {
     "data": {
      "text/html": [
       "\n",
       "            <div>\n",
       "                <p><b>SparkSession - in-memory</b></p>\n",
       "                \n",
       "        <div>\n",
       "            <p><b>SparkContext</b></p>\n",
       "\n",
       "            <p><a href=\"http://ip-172-31-38-79.ap-northeast-3.compute.internal:4041\">Spark UI</a></p>\n",
       "\n",
       "            <dl>\n",
       "              <dt>Version</dt>\n",
       "                <dd><code>v3.2.4</code></dd>\n",
       "              <dt>Master</dt>\n",
       "                <dd><code>local</code></dd>\n",
       "              <dt>AppName</dt>\n",
       "                <dd><code>spark_sql_basic</code></dd>\n",
       "            </dl>\n",
       "        </div>\n",
       "        \n",
       "            </div>\n",
       "        "
      ],
      "text/plain": [
       "<pyspark.sql.session.SparkSession at 0x7f8bfc784280>"
      ]
     },
     "execution_count": 6,
     "metadata": {},
     "output_type": "execute_result"
    }
   ],
   "source": [
    "from pyspark.sql import SparkSession\n",
    "\n",
    "# spark session 생성\n",
    "spark = SparkSession.builder.master('local').appName('spark-sql').getOrCreate()\n",
    "spark"
   ]
  },
  {
   "cell_type": "markdown",
   "id": "53c0309a",
   "metadata": {},
   "source": [
    "**RDD를 이용해서 데이터 프레임 생성하기**"
   ]
  },
  {
   "cell_type": "code",
   "execution_count": 7,
   "id": "05eacc8e",
   "metadata": {},
   "outputs": [],
   "source": [
    "\n",
    "movies = [\n",
    "    (1, \"어벤져스\", \"마블\", 2012, 4, 26),\n",
    "    (2, \"슈퍼맨\", \"DC\", 2013, 6, 13),\n",
    "    (3, \"배트맨\", \"DC\", 2008, 8, 6),\n",
    "    (4, \"겨울왕국\", \"디즈니\", 2014, 1, 16),\n",
    "    (5, \"아이언맨\", \"마블\", 2008, 4, 30)\n",
    "]\n",
    "\n",
    "movie_schema = [\"id\", \"name\", \"company\", \"year\", \"month\", \"day\"]"
   ]
  },
  {
   "cell_type": "markdown",
   "id": "e32be6e2",
   "metadata": {},
   "source": [
    "## 데이터프레임 생성\n",
    "- inferSchema 옵션을 활용하면 타입을 스파크가 자동으로 결정(기본)\n",
    "- `createDataFrame`"
   ]
  },
  {
   "cell_type": "code",
   "execution_count": 8,
   "id": "83793b29",
   "metadata": {},
   "outputs": [],
   "source": [
    "# 데이터 프레임 생성\n",
    "df = spark.createDataFrame(data=movies, schema = movie_schema)"
   ]
  },
  {
   "cell_type": "code",
   "execution_count": 9,
   "id": "3e4b0acd",
   "metadata": {},
   "outputs": [
    {
     "data": {
      "text/plain": [
       "[('id', 'bigint'),\n",
       " ('name', 'string'),\n",
       " ('company', 'string'),\n",
       " ('year', 'bigint'),\n",
       " ('month', 'bigint'),\n",
       " ('day', 'bigint')]"
      ]
     },
     "execution_count": 9,
     "metadata": {},
     "output_type": "execute_result"
    }
   ],
   "source": [
    "# 스키마 확인\n",
    "df.dtypes"
   ]
  },
  {
   "cell_type": "code",
   "execution_count": 10,
   "id": "4fd85e64",
   "metadata": {},
   "outputs": [
    {
     "data": {
      "text/plain": [
       "DataFrame[id: bigint, name: string, company: string, year: bigint, month: bigint, day: bigint]"
      ]
     },
     "execution_count": 10,
     "metadata": {},
     "output_type": "execute_result"
    }
   ],
   "source": [
    "# dataframe은 곧 rdd이다.\n",
    "df"
   ]
  },
  {
   "cell_type": "markdown",
   "id": "e261cb54",
   "metadata": {},
   "source": [
    "**전체 데이터 프레임의 내용을 확인**\n",
    "- `show()`"
   ]
  },
  {
   "cell_type": "code",
   "execution_count": 11,
   "id": "3a1f576e",
   "metadata": {},
   "outputs": [
    {
     "name": "stdout",
     "output_type": "stream",
     "text": [
      "+---+--------+-------+----+-----+---+\n",
      "| id|    name|company|year|month|day|\n",
      "+---+--------+-------+----+-----+---+\n",
      "|  1|어벤져스|   마블|2012|    4| 26|\n",
      "|  2|  슈퍼맨|     DC|2013|    6| 13|\n",
      "|  3|  배트맨|     DC|2008|    8|  6|\n",
      "|  4|겨울왕국| 디즈니|2014|    1| 16|\n",
      "|  5|아이언맨|   마블|2008|    4| 30|\n",
      "+---+--------+-------+----+-----+---+\n",
      "\n"
     ]
    }
   ],
   "source": [
    "df.show()"
   ]
  },
  {
   "cell_type": "markdown",
   "id": "bfb74621",
   "metadata": {},
   "source": [
    "### 데이터프레임에 SQL 사용하기\n",
    "- 데이터프레임을 temporary view에 등록해야 spark SQL을 사용할 수 있다.\n",
    "- `createOrReplaceTempView()` : 임시 테이블 생성/ 만들어놓은 df를 temporary view로 등록 -> temporary view에서 sql 쿼리 실행|"
   ]
  },
  {
   "cell_type": "code",
   "execution_count": 12,
   "id": "43143630",
   "metadata": {},
   "outputs": [],
   "source": [
    "df.createOrReplaceTempView('movies') # movies라는 임시 테이블 생성"
   ]
  },
  {
   "cell_type": "code",
   "execution_count": 13,
   "id": "17aafa39",
   "metadata": {},
   "outputs": [
    {
     "name": "stdout",
     "output_type": "stream",
     "text": [
      "root\n",
      " |-- id: long (nullable = true)\n",
      " |-- name: string (nullable = true)\n",
      " |-- company: string (nullable = true)\n",
      " |-- year: long (nullable = true)\n",
      " |-- month: long (nullable = true)\n",
      " |-- day: long (nullable = true)\n",
      "\n"
     ]
    }
   ],
   "source": [
    "df.printSchema()"
   ]
  },
  {
   "attachments": {
    "image.png": {
     "image/png": "[encoded data removed]"
    }
   },
   "cell_type": "markdown",
   "id": "1b337a65",
   "metadata": {},
   "source": [
    "![image.png](attachment:image.png)\n",
    "- spark session에 movies라는 테이블이 생긴 것\n",
    "- RDD에서 filter, join했던 걸 sql query로 하는 것임\n",
    "- spark.sql(query) 까지 = RDD transformation\n",
    "- show() = RDD action"
   ]
  },
  {
   "cell_type": "code",
   "execution_count": 14,
   "id": "90afcc2e",
   "metadata": {
    "scrolled": true
   },
   "outputs": [
    {
     "name": "stdout",
     "output_type": "stream",
     "text": [
      "+--------+\n",
      "|    name|\n",
      "+--------+\n",
      "|어벤져스|\n",
      "|  슈퍼맨|\n",
      "|  배트맨|\n",
      "|겨울왕국|\n",
      "|아이언맨|\n",
      "+--------+\n",
      "\n"
     ]
    }
   ],
   "source": [
    "# movies 테이블에서 영화 이름(name)만 가져오기\n",
    "query = '''\n",
    "        SELECT name \n",
    "        FROM movies\n",
    "'''\n",
    "\n",
    "# query 실행\n",
    "spark.sql(query).show()"
   ]
  },
  {
   "cell_type": "code",
   "execution_count": 15,
   "id": "e7cbc095",
   "metadata": {},
   "outputs": [
    {
     "name": "stdout",
     "output_type": "stream",
     "text": [
      "+---+--------+-------+----+-----+---+\n",
      "| id|    name|company|year|month|day|\n",
      "+---+--------+-------+----+-----+---+\n",
      "|  1|어벤져스|   마블|2012|    4| 26|\n",
      "|  2|  슈퍼맨|     DC|2013|    6| 13|\n",
      "|  4|겨울왕국| 디즈니|2014|    1| 16|\n",
      "+---+--------+-------+----+-----+---+\n",
      "\n"
     ]
    }
   ],
   "source": [
    "# 2010년 이후에 개봉한 영화 조회\n",
    "query = '''\n",
    "SELECT * \n",
    "FROM movies\n",
    "WHERE year >= 2010'''\n",
    "\n",
    "spark.sql(query).show()"
   ]
  },
  {
   "cell_type": "code",
   "execution_count": 16,
   "id": "fa1ab4f2",
   "metadata": {},
   "outputs": [
    {
     "data": {
      "text/plain": [
       "[(1, '어벤져스', '마블', 2012, 4, 26),\n",
       " (2, '슈퍼맨', 'DC', 2013, 6, 13),\n",
       " (3, '배트맨', 'DC', 2008, 8, 6),\n",
       " (4, '겨울왕국', '디즈니', 2014, 1, 16),\n",
       " (5, '아이언맨', '마블', 2008, 4, 30)]"
      ]
     },
     "execution_count": 16,
     "metadata": {},
     "output_type": "execute_result"
    }
   ],
   "source": [
    "movies"
   ]
  },
  {
   "cell_type": "code",
   "execution_count": 17,
   "id": "c27ae5bb",
   "metadata": {},
   "outputs": [
    {
     "name": "stdout",
     "output_type": "stream",
     "text": [
      "+---+--------+-------+----+-----+---+\n",
      "| id|    name|company|year|month|day|\n",
      "+---+--------+-------+----+-----+---+\n",
      "|  2|  슈퍼맨|     DC|2013|    6| 13|\n",
      "|  3|  배트맨|     DC|2008|    8|  6|\n",
      "|  5|아이언맨|   마블|2008|    4| 30|\n",
      "+---+--------+-------+----+-----+---+\n",
      "\n"
     ]
    }
   ],
   "source": [
    "# 제목이 ~~ 맨으로 끝나는 영화 정보 조회\n",
    "query = '''\n",
    "SELECT * \n",
    "FROM movies\n",
    "WHERE name LIKE \"%맨\"'''\n",
    "\n",
    "spark.sql(query).show()"
   ]
  },
  {
   "cell_type": "code",
   "execution_count": 18,
   "id": "5e8a00ce",
   "metadata": {},
   "outputs": [
    {
     "name": "stdout",
     "output_type": "stream",
     "text": [
      "+---+--------+-------+----+-----+---+\n",
      "| id|    name|company|year|month|day|\n",
      "+---+--------+-------+----+-----+---+\n",
      "|  1|어벤져스|   마블|2012|    4| 26|\n",
      "|  2|  슈퍼맨|     DC|2013|    6| 13|\n",
      "|  3|  배트맨|     DC|2008|    8|  6|\n",
      "|  5|아이언맨|   마블|2008|    4| 30|\n",
      "+---+--------+-------+----+-----+---+\n",
      "\n"
     ]
    }
   ],
   "source": [
    "# 개봉 월이 4 -8월 사이인 영화\n",
    "query = '''\n",
    "SELECT * \n",
    "FROM movies\n",
    "WHERE month BETWEEN 4 AND 8'''\n",
    "\n",
    "spark.sql(query).show()\n"
   ]
  },
  {
   "cell_type": "code",
   "execution_count": 19,
   "id": "253529fd",
   "metadata": {},
   "outputs": [
    {
     "name": "stdout",
     "output_type": "stream",
     "text": [
      "+---+--------+-------+----+-----+---+\n",
      "| id|    name|company|year|month|day|\n",
      "+---+--------+-------+----+-----+---+\n",
      "|  1|어벤져스|   마블|2012|    4| 26|\n",
      "|  4|겨울왕국| 디즈니|2014|    1| 16|\n",
      "+---+--------+-------+----+-----+---+\n",
      "\n"
     ]
    }
   ],
   "source": [
    "# 회사 이름이 '마'로 시작하거나, '나'로 끝나는 영화 중 2010년 이후로 개봉한 영화\n",
    "query = \"\"\"\n",
    "SELECT *\n",
    "FROM movies\n",
    "WHERE (company LIKE '마%' OR company LIKE '%니')\n",
    "AND year >= 2010\n",
    "\"\"\"\n",
    "\n",
    "spark.sql(query).show()"
   ]
  },
  {
   "cell_type": "code",
   "execution_count": 20,
   "id": "3fe1013a",
   "metadata": {},
   "outputs": [
    {
     "name": "stdout",
     "output_type": "stream",
     "text": [
      "+---+--------+-------+----+-----+---+\n",
      "| id|    name|company|year|month|day|\n",
      "+---+--------+-------+----+-----+---+\n",
      "|  3|  배트맨|     DC|2008|    8|  6|\n",
      "|  5|아이언맨|   마블|2008|    4| 30|\n",
      "|  1|어벤져스|   마블|2012|    4| 26|\n",
      "|  2|  슈퍼맨|     DC|2013|    6| 13|\n",
      "|  4|겨울왕국| 디즈니|2014|    1| 16|\n",
      "+---+--------+-------+----+-----+---+\n",
      "\n"
     ]
    }
   ],
   "source": [
    "# 개봉년도 오름차순 정렬\n",
    "query =\"\"\"\n",
    "SELECT *\n",
    "FROM movies\n",
    "ORDER BY year ASC\n",
    "\"\"\"\n",
    "\n",
    "spark.sql(query).show()"
   ]
  },
  {
   "cell_type": "code",
   "execution_count": 21,
   "id": "e03045b4",
   "metadata": {},
   "outputs": [
    {
     "name": "stdout",
     "output_type": "stream",
     "text": [
      "+-------+---------+\n",
      "|company|movie_cnt|\n",
      "+-------+---------+\n",
      "| 디즈니|        1|\n",
      "|   마블|        2|\n",
      "|     DC|        2|\n",
      "+-------+---------+\n",
      "\n"
     ]
    }
   ],
   "source": [
    "# 회사 별 몇 개의 영화가 있는지 조회. 별칭 alias 적용\n",
    "query =\"\"\"\n",
    "SELECT company, count(*) as movie_cnt\n",
    "FROM movies\n",
    "GROUP BY company\n",
    "\"\"\"\n",
    "\n",
    "spark.sql(query).show()"
   ]
  },
  {
   "cell_type": "markdown",
   "id": "a262c565",
   "metadata": {},
   "source": [
    "**Join**"
   ]
  },
  {
   "cell_type": "code",
   "execution_count": 22,
   "id": "c2214edd",
   "metadata": {},
   "outputs": [],
   "source": [
    "attendances = [\n",
    "    (1, 13934592., \"KR\"),\n",
    "    (2, 2182227.,\"KR\"),\n",
    "    (3, 4226242., \"KR\"),\n",
    "    (4, 10303058., \"KR\"),\n",
    "    (5, 4300365., \"KR\")\n",
    "]"
   ]
  },
  {
   "attachments": {
    "image.png": {
     "image/png": "[encoded data removed]"
    }
   },
   "cell_type": "markdown",
   "id": "ecc2ce4f",
   "metadata": {},
   "source": [
    "![image.png](attachment:image.png)"
   ]
  },
  {
   "cell_type": "markdown",
   "id": "a228aeb3",
   "metadata": {},
   "source": [
    "테이블 만들기 전에 먼저 스키마 지정"
   ]
  },
  {
   "cell_type": "code",
   "execution_count": 23,
   "id": "dc4b57ef",
   "metadata": {},
   "outputs": [],
   "source": [
    "# 직접 스키마 지정하기\n",
    "\n",
    "# 1) 데이터 타입 관련 import\n",
    "from pyspark.sql.types import StringType, FloatType, IntegerType\n",
    "\n",
    "\n",
    "# 2) 구조 관련 import\n",
    "    # StructField: 각 컬럼을 만들기 위한 집합 (컬럼 스키마) (이름, type,...)\n",
    "    # StructType: 컬럼 집합\n",
    "from pyspark.sql.types import StructType, StructField"
   ]
  },
  {
   "cell_type": "code",
   "execution_count": 24,
   "id": "852c9347",
   "metadata": {},
   "outputs": [],
   "source": [
    "# 스키마 만들기\n",
    "att_schema = StructType([\n",
    "    StructField('id',IntegerType(), True), # True: Null 허용\n",
    "    StructField('att', FloatType(), True),\n",
    "    StructField('country', StringType(), True)\n",
    "])\n",
    "\n"
   ]
  },
  {
   "cell_type": "code",
   "execution_count": 25,
   "id": "ab3684c8",
   "metadata": {},
   "outputs": [
    {
     "data": {
      "text/plain": [
       "[('id', 'int'), ('att', 'float'), ('country', 'string')]"
      ]
     },
     "execution_count": 25,
     "metadata": {},
     "output_type": "execute_result"
    }
   ],
   "source": [
    "# df 만들기\n",
    "att_df = spark.createDataFrame(\n",
    "    data = attendances,\n",
    "    schema = att_schema\n",
    ")\n",
    "\n",
    "att_df.dtypes"
   ]
  },
  {
   "cell_type": "code",
   "execution_count": 26,
   "id": "9be6a30e",
   "metadata": {},
   "outputs": [],
   "source": [
    "att_df.createOrReplaceTempView('att')"
   ]
  },
  {
   "cell_type": "code",
   "execution_count": 27,
   "id": "bd20d273",
   "metadata": {},
   "outputs": [
    {
     "name": "stdout",
     "output_type": "stream",
     "text": [
      "+---+-----------+-------+\n",
      "| id|        att|country|\n",
      "+---+-----------+-------+\n",
      "|  1|1.3934592E7|     KR|\n",
      "|  2|  2182227.0|     KR|\n",
      "|  3|  4226242.0|     KR|\n",
      "|  4|1.0303058E7|     KR|\n",
      "|  5|  4300365.0|     KR|\n",
      "+---+-----------+-------+\n",
      "\n"
     ]
    }
   ],
   "source": [
    "att_df.show()"
   ]
  },
  {
   "cell_type": "code",
   "execution_count": 28,
   "id": "2590fbb3",
   "metadata": {},
   "outputs": [
    {
     "name": "stdout",
     "output_type": "stream",
     "text": [
      "+---+--------+-------+-----------+\n",
      "| id|    name|company|        att|\n",
      "+---+--------+-------+-----------+\n",
      "|  1|어벤져스|   마블|1.3934592E7|\n",
      "|  2|  슈퍼맨|     DC|  2182227.0|\n",
      "|  3|  배트맨|     DC|  4226242.0|\n",
      "|  4|겨울왕국| 디즈니|1.0303058E7|\n",
      "|  5|아이언맨|   마블|  4300365.0|\n",
      "+---+--------+-------+-----------+\n",
      "\n"
     ]
    }
   ],
   "source": [
    "# 영화 아이디, 영화 이름, 회사, 관객수 조회\n",
    "\n",
    "query =\"\"\"\n",
    "SELECT movies.id,movies.name, movies.company, att.att\n",
    "FROM movies\n",
    "JOIN att ON movies.id = att.id\n",
    "\"\"\"\n",
    "\n",
    "spark.sql(query).show()\n"
   ]
  },
  {
   "cell_type": "markdown",
   "id": "fa2692c2",
   "metadata": {},
   "source": [
    "## 데이터프레임 API"
   ]
  },
  {
   "cell_type": "code",
   "execution_count": 29,
   "id": "3cbf218b",
   "metadata": {},
   "outputs": [
    {
     "data": {
      "text/plain": [
       "[Row(id=1, name='어벤져스', company='마블', year=2012, month=4, day=26),\n",
       " Row(id=2, name='슈퍼맨', company='DC', year=2013, month=6, day=13),\n",
       " Row(id=3, name='배트맨', company='DC', year=2008, month=8, day=6),\n",
       " Row(id=4, name='겨울왕국', company='디즈니', year=2014, month=1, day=16),\n",
       " Row(id=5, name='아이언맨', company='마블', year=2008, month=4, day=30)]"
      ]
     },
     "execution_count": 29,
     "metadata": {},
     "output_type": "execute_result"
    }
   ],
   "source": [
    "# collect를 사용하면 RDD처럼 등장\n",
    "df.select('*').collect()"
   ]
  },
  {
   "cell_type": "code",
   "execution_count": 30,
   "id": "9c4a3f68",
   "metadata": {},
   "outputs": [
    {
     "data": {
      "text/plain": [
       "[Row(name='어벤져스', company='마블'),\n",
       " Row(name='슈퍼맨', company='DC'),\n",
       " Row(name='배트맨', company='DC'),\n",
       " Row(name='겨울왕국', company='디즈니'),\n",
       " Row(name='아이언맨', company='마블')]"
      ]
     },
     "execution_count": 30,
     "metadata": {},
     "output_type": "execute_result"
    }
   ],
   "source": [
    "df.select('name','company').collect()"
   ]
  },
  {
   "cell_type": "code",
   "execution_count": 31,
   "id": "5fa24474",
   "metadata": {},
   "outputs": [
    {
     "name": "stdout",
     "output_type": "stream",
     "text": [
      "+--------+----+\n",
      "|    name|year|\n",
      "+--------+----+\n",
      "|어벤져스|  12|\n",
      "|  슈퍼맨|  13|\n",
      "|  배트맨|   8|\n",
      "|겨울왕국|  14|\n",
      "|아이언맨|   8|\n",
      "+--------+----+\n",
      "\n"
     ]
    }
   ],
   "source": [
    "df.select(df.name, (df.year-2000).alias(\"year\")).show()"
   ]
  },
  {
   "cell_type": "code",
   "execution_count": 32,
   "id": "c83cf946",
   "metadata": {},
   "outputs": [
    {
     "data": {
      "text/plain": [
       "[Row(count(id)=5)]"
      ]
     },
     "execution_count": 32,
     "metadata": {},
     "output_type": "execute_result"
    }
   ],
   "source": [
    "# agg: Aggregation의 약자. 그룹핑 후 데이터를 하나로 합쳐주는 역할\n",
    "df.agg({'id':'count'}).collect()"
   ]
  },
  {
   "cell_type": "code",
   "execution_count": 33,
   "id": "b5366cf6",
   "metadata": {},
   "outputs": [
    {
     "data": {
      "text/plain": [
       "DataFrame[min(year): bigint]"
      ]
     },
     "execution_count": 33,
     "metadata": {},
     "output_type": "execute_result"
    }
   ],
   "source": [
    "# query에서 사용가능한 함수들을 모아놓은 패키지가 존재\n",
    "from pyspark.sql import functions as F\n",
    "\n",
    "df.agg(F.min(df.year))"
   ]
  },
  {
   "cell_type": "code",
   "execution_count": 34,
   "id": "7b94d3de",
   "metadata": {},
   "outputs": [
    {
     "data": {
      "text/plain": [
       "[Row(avg(id)=3.0, avg(year)=2011.0, avg(month)=4.6, avg(day)=18.2)]"
      ]
     },
     "execution_count": 34,
     "metadata": {},
     "output_type": "execute_result"
    }
   ],
   "source": [
    "# groupBy\n",
    "df.groupBy().avg().collect() # 컬럼명이 부여되지 않으면각 컬럼별로 집계를 수행한다."
   ]
  },
  {
   "cell_type": "code",
   "execution_count": 35,
   "id": "c46e19f2",
   "metadata": {},
   "outputs": [
    {
     "data": {
      "text/plain": [
       "[Row(company='디즈니', month=1, count=1),\n",
       " Row(company='DC', month=8, count=1),\n",
       " Row(company='DC', month=6, count=1),\n",
       " Row(company='마블', month=4, count=2)]"
      ]
     },
     "execution_count": 35,
     "metadata": {},
     "output_type": "execute_result"
    }
   ],
   "source": [
    "# 회사별, 월별 영화 개수 정보\n",
    "df.groupBy([df.company, df.month]).count().collect()"
   ]
  },
  {
   "cell_type": "code",
   "execution_count": 36,
   "id": "cce34da9",
   "metadata": {},
   "outputs": [
    {
     "data": {
      "text/plain": [
       "[Row(company='디즈니', avg(month)=1.0),\n",
       " Row(company='마블', avg(month)=4.0),\n",
       " Row(company='DC', avg(month)=7.0)]"
      ]
     },
     "execution_count": 36,
     "metadata": {},
     "output_type": "execute_result"
    }
   ],
   "source": [
    "# 회사 별 개봉 월의 평균\n",
    "df.groupBy('company').agg({'month':'mean'}).collect()\n"
   ]
  },
  {
   "cell_type": "code",
   "execution_count": 37,
   "id": "48aaeade",
   "metadata": {},
   "outputs": [
    {
     "name": "stdout",
     "output_type": "stream",
     "text": [
      "+--------+-----------+\n",
      "|    name|        att|\n",
      "+--------+-----------+\n",
      "|어벤져스|1.3934592E7|\n",
      "|  슈퍼맨|  2182227.0|\n",
      "|  배트맨|  4226242.0|\n",
      "|겨울왕국|1.0303058E7|\n",
      "|아이언맨|  4300365.0|\n",
      "+--------+-----------+\n",
      "\n"
     ]
    }
   ],
   "source": [
    "# join\n",
    "df.join(att_df, 'id').select(df.name, att_df.att).show()"
   ]
  },
  {
   "cell_type": "code",
   "execution_count": 38,
   "id": "359aaaa5",
   "metadata": {},
   "outputs": [
    {
     "name": "stdout",
     "output_type": "stream",
     "text": [
      "+--------+-------+----+\n",
      "|    name|company|year|\n",
      "+--------+-------+----+\n",
      "|어벤져스|   마블|2012|\n",
      "|아이언맨|   마블|2008|\n",
      "+--------+-------+----+\n",
      "\n"
     ]
    }
   ],
   "source": [
    "# select, where, orderBy 사용\n",
    "df.select('name','company','year').where('company==\"마블\"').orderBy('id').show()"
   ]
  },
  {
   "cell_type": "code",
   "execution_count": 39,
   "id": "5283b236",
   "metadata": {},
   "outputs": [],
   "source": [
    "spark.stop()\n",
    "sc.stop()"
   ]
  },
  {
   "cell_type": "code",
   "execution_count": null,
   "id": "3e0d3b49",
   "metadata": {},
   "outputs": [],
   "source": []
  }
 ],
 "metadata": {
  "kernelspec": {
   "display_name": "Python 3 (ipykernel)",
   "language": "python",
   "name": "python3"
  },
  "language_info": {
   "codemirror_mode": {
    "name": "ipython",
    "version": 3
   },
   "file_extension": ".py",
   "mimetype": "text/x-python",
   "name": "python",
   "nbconvert_exporter": "python",
   "pygments_lexer": "ipython3",
   "version": "3.9.13"
  }
 },
 "nbformat": 4,
 "nbformat_minor": 5
}
