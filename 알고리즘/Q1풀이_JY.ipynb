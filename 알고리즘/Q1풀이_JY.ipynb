{
 "cells": [
  {
   "cell_type": "code",
   "execution_count": 54,
   "metadata": {
    "ExecuteTime": {
     "end_time": "2023-05-01T15:16:11.710400Z",
     "start_time": "2023-05-01T15:16:11.690658Z"
    },
    "scrolled": false
   },
   "outputs": [
    {
     "name": "stdout",
     "output_type": "stream",
     "text": [
      " ----- 초기 배열 -----\n",
      "    5    7   -5  100   73\n",
      "   35   23    4  190   33\n",
      "   49   85  662   39   81\n",
      "  124  -59   86   46   52\n",
      "   27    7    8   33  -56\n",
      "--------------------------------------\n",
      " ----- 치환 후 배열 -----\n",
      "    5    7    0  100   73\n",
      "   35   23    4   90   33\n",
      "   49   85   62   39   81\n",
      "   24    0   86   46   52\n",
      "   27    7    8   33    0\n",
      "--------------------------------------\n",
      "최대 영역의 합: 296\n"
     ]
    }
   ],
   "source": [
    "ARRAY_LENGTH = 5  # 배열의 행과 열 크기(고정)\n",
    "\n",
    "\n",
    "def replaceData(numData):  # numData\t2차원 정수 배열\n",
    "    retData = []  # 조건에 따라서 전처리된 2차원 배열\n",
    "\n",
    "    ###########   여기부터 코딩 (1) ---------------->\n",
    "    for i in range(len(numData)):\n",
    "        for j in range(len(numData)):\n",
    "            if numData[i][j] < 0:\n",
    "                numData[i][j] = 0\n",
    "                retData.append(numData[i][j])\n",
    "\n",
    "            elif numData[i][j] > 100:\n",
    "                numData[i][j] = numData[i][j] % 100\n",
    "                retData.append(numData[i][j])\n",
    "\n",
    "            else:\n",
    "                retData.append(numData[i][j])\n",
    "        \n",
    "    import numpy as np\n",
    "    retData =np.reshape(retData,(5,5))\n",
    "    ###########   <-------------- 여기까지 코딩 (1)\n",
    "    return retData\n",
    "\n",
    "\n",
    "# 2x2 크기의 배열의 최대합을 구한다.\n",
    "def getMaxSum(numData):  # 요구 사항에 맞춰 처리된 2차원 정수 배열\n",
    "    maxSum = 0  # 최대합\n",
    "\n",
    "    ###########   여기부터 코딩 (2) ---------------->\n",
    "    import numpy as np\n",
    "    numData = np.array(numData)\n",
    "    for i in range(ARRAY_LENGTH-1): # i=1\n",
    "        for j in range(ARRAY_LENGTH-1): #j=> range(0,3)-> j= 0,1,2\n",
    "            arr1 = numData[i:i+2,j:j+2]\n",
    "            if np.sum(arr1)>maxSum:\n",
    "                maxSum = np.sum(arr1)\n",
    "        \n",
    "    ###########   <-------------- 여기까지 코딩 (2)\n",
    "\n",
    "    return maxSum\n",
    "\n",
    "\n",
    "## 전역 변수 선언 부분\n",
    "numData = []  # 5x5 배열\n",
    "ARRAY_LENGTH = 5  # 배열의 행과 열 크기(고정)\n",
    "\n",
    "\n",
    "def main():\n",
    "    global numData\n",
    "\n",
    "    loadData()  # 2차원 배열 읽어오기\n",
    "\n",
    "    ## 원본 출력\n",
    "    print(\" ----- 초기 배열 -----\")\n",
    "    printData()\n",
    "\n",
    "    # 1. 데이터 치환 작업\n",
    "    numData = replaceData(numData)\n",
    "    print(\" ----- 치환 후 배열 -----\")\n",
    "    printData()\n",
    "\n",
    "    # 2. 최대 합 구하기.(2x2 크기)\n",
    "    maxSum = getMaxSum(numData)\n",
    "    print(\"최대 영역의 합: %d\" % maxSum)\n",
    "\n",
    "\n",
    "## 함수 선언 부분\n",
    "def loadData():  # 데이터 불러오기\n",
    "    global numData\n",
    "\n",
    "    ###########\n",
    "    # 제공 데이터 세트 1\n",
    "    # 5x5 숫자 배열.\n",
    "    ###########\n",
    "    numData = [\n",
    "        [5, 7, -5, 100, 73],\n",
    "        [35, 23, 4, 190, 33],\n",
    "        [49, 85, 662, 39, 81],\n",
    "        [124, -59, 86, 46, 52],\n",
    "        [27, 7, 8, 33, -56],\n",
    "    ]\n",
    "\n",
    "\n",
    "def printData():\n",
    "    for i in range(0, ARRAY_LENGTH):\n",
    "        for k in range(0, ARRAY_LENGTH):\n",
    "            try:\n",
    "                print(\"%5d\" % numData[i][k], end=\"\")\n",
    "            except:\n",
    "                pass\n",
    "        print()\n",
    "    print(\"--------------------------------------\")\n",
    "\n",
    "\n",
    "## 메인 함수 호출 ##\n",
    "if __name__ == \"__main__\":\n",
    "    main()\n",
    "\n",
    "\n"
   ]
  },
  {
   "cell_type": "code",
   "execution_count": 46,
   "metadata": {
    "ExecuteTime": {
     "end_time": "2023-05-01T15:11:20.209009Z",
     "start_time": "2023-05-01T15:11:20.197905Z"
    }
   },
   "outputs": [
    {
     "name": "stdout",
     "output_type": "stream",
     "text": [
      "[[5, 7, 0, 100, 73], [35, 23, 4, 90, 33], [49, 85, 62, 39, 81], [24, 0, 86, 46, 52], [27, 7, 8, 33, 0]]\n"
     ]
    }
   ],
   "source": [
    "numData = [[5, 7, 0, 100, 73], \n",
    "           [35, 23, 4, 90, 33], \n",
    "           [49, 85, 62, 39, 81], \n",
    "           [24, 0, 86, 46, 52], \n",
    "           [27, 7, 8, 33, 0]]\n",
    "print(numData)"
   ]
  },
  {
   "cell_type": "code",
   "execution_count": 49,
   "metadata": {
    "ExecuteTime": {
     "end_time": "2023-05-01T15:11:34.623324Z",
     "start_time": "2023-05-01T15:11:34.598081Z"
    }
   },
   "outputs": [
    {
     "data": {
      "text/plain": [
       "array([[ 5,  7],\n",
       "       [35, 23]])"
      ]
     },
     "execution_count": 49,
     "metadata": {},
     "output_type": "execute_result"
    }
   ],
   "source": [
    "numData = np.array(numData)\n",
    "numData[0:2,0:2]"
   ]
  },
  {
   "cell_type": "code",
   "execution_count": 55,
   "metadata": {
    "ExecuteTime": {
     "end_time": "2023-05-01T15:18:06.483453Z",
     "start_time": "2023-05-01T15:18:06.466582Z"
    },
    "scrolled": false
   },
   "outputs": [
    {
     "name": "stdout",
     "output_type": "stream",
     "text": [
      "0 2\n",
      "0 2\n",
      "\n",
      "0 2\n",
      "1 3\n",
      "\n",
      "0 2\n",
      "2 4\n",
      "\n",
      "0 2\n",
      "3 5\n",
      "\n",
      "1 3\n",
      "0 2\n",
      "\n",
      "1 3\n",
      "1 3\n",
      "\n",
      "1 3\n",
      "2 4\n",
      "\n",
      "1 3\n",
      "3 5\n",
      "\n",
      "2 4\n",
      "0 2\n",
      "\n",
      "2 4\n",
      "1 3\n",
      "\n",
      "2 4\n",
      "2 4\n",
      "\n",
      "2 4\n",
      "3 5\n",
      "\n",
      "3 5\n",
      "0 2\n",
      "\n",
      "3 5\n",
      "1 3\n",
      "\n",
      "3 5\n",
      "2 4\n",
      "\n",
      "3 5\n",
      "3 5\n",
      "\n",
      "296\n"
     ]
    }
   ],
   "source": [
    "numData = np.array(numData)\n",
    "\n",
    "numData[0:2,0:2]\n",
    "numData[0:2,1:3]\n",
    "numData[0:2,2:4]\n",
    "numData[0:2,3:5]\n",
    "\n",
    "numData[1:3, 0:2]\n",
    "numData[1:3,1:3]\n",
    "numData[1:3,2:4]\n",
    "numData[1:3,3:5]\n",
    "\n",
    "\n",
    "numData[2:4, 0:2]\n",
    "numData[2:4,1:3]\n",
    "numData[2:4,2:4]\n",
    "numData[2:4,3:5]\n",
    "\n",
    "\n",
    "numData[3:5,0:2]\n",
    "numData[3:5,1:3]\n",
    "numData[3:5,2:4]\n",
    "numData[3:5,3:5]\n",
    "\n",
    "\n",
    "        \n",
    "\n",
    "for i in range(ARRAY_LENGTH-1): # i=1\n",
    "    for j in range(ARRAY_LENGTH-1): #j=> range(0,3)-> j= 0,1,2\n",
    "        print(i,i+2)\n",
    "        print(j,j+2)\n",
    "        print()\n",
    "        \n",
    "        \n",
    "\n",
    "        \n",
    "maxSum = 0  # 최대합\n",
    "\n",
    "    ###########   여기부터 코딩 (2) ---------------->\n",
    "import numpy as np\n",
    "numData = np.array(numData)\n",
    "for i in range(ARRAY_LENGTH-1): # i=1\n",
    "    for j in range(ARRAY_LENGTH-1): #j=> range(0,3)-> j= 0,1,2\n",
    "        arr1 = numData[i:i+2,j:j+2]\n",
    "        if np.sum(arr1)>maxSum:\n",
    "            maxSum = np.sum(arr1)\n",
    "print(maxSum)\n",
    "        "
   ]
  },
  {
   "cell_type": "code",
   "execution_count": null,
   "metadata": {},
   "outputs": [],
   "source": []
  }
 ],
 "metadata": {
  "kernelspec": {
   "display_name": "Python 3 (ipykernel)",
   "language": "python",
   "name": "python3"
  },
  "language_info": {
   "codemirror_mode": {
    "name": "ipython",
    "version": 3
   },
   "file_extension": ".py",
   "mimetype": "text/x-python",
   "name": "python",
   "nbconvert_exporter": "python",
   "pygments_lexer": "ipython3",
   "version": "3.9.13"
  },
  "toc": {
   "base_numbering": 1,
   "nav_menu": {},
   "number_sections": true,
   "sideBar": true,
   "skip_h1_title": false,
   "title_cell": "Table of Contents",
   "title_sidebar": "Contents",
   "toc_cell": false,
   "toc_position": {},
   "toc_section_display": true,
   "toc_window_display": false
  }
 },
 "nbformat": 4,
 "nbformat_minor": 2
}
