{
 "cells": [
  {
   "cell_type": "markdown",
   "id": "f7c1249d",
   "metadata": {},
   "source": [
    "뉴욕 택시 데이터 활용\n",
    "- `fhvhv_tripdata_2020-03.csv` : 2020년 3월 뉴욕 택시 데이터\n",
    "    - `hvfhs_license_num` : 택시 회사 ID(뉴욕 택시, 우버, 등등...)\n",
    "    - `dispatching_base_num` : 택시 회사 별 고유 택시 ID\n",
    "    - `pickup_datetime` : 승객을 태운 시간\n",
    "    - `dropoff_datetime` : 승객이 하차한 시간\n",
    "    - `PULocationID` : `PickUp LocationID`. 승객이 승차한 지역 ID\n",
    "    - `DOLocationID` : `DropOff LocationID`. 승객이 하차한 지역 ID"
   ]
  },
  {
   "cell_type": "code",
   "execution_count": 18,
   "id": "4d2dcbb4",
   "metadata": {},
   "outputs": [
    {
     "name": "stderr",
     "output_type": "stream",
     "text": [
      "23/06/13 12:40:11 WARN Utils: Service 'SparkUI' could not bind on port 4040. Attempting port 4041.\n",
      "23/06/13 12:40:11 WARN Utils: Service 'SparkUI' could not bind on port 4041. Attempting port 4042.\n",
      "23/06/13 12:40:11 WARN Utils: Service 'SparkUI' could not bind on port 4042. Attempting port 4043.\n",
      "23/06/13 12:40:11 WARN Utils: Service 'SparkUI' could not bind on port 4043. Attempting port 4044.\n",
      "23/06/13 12:40:11 WARN Utils: Service 'SparkUI' could not bind on port 4044. Attempting port 4045.\n"
     ]
    }
   ],
   "source": [
    "from pyspark.sql import SparkSession\n",
    "\n",
    "spark = SparkSession.builder.appName('trip_count_sql').getOrCreate()"
   ]
  },
  {
   "cell_type": "code",
   "execution_count": 19,
   "id": "ddd03bae",
   "metadata": {},
   "outputs": [
    {
     "name": "stderr",
     "output_type": "stream",
     "text": [
      "[Stage 1:==================================================>        (6 + 1) / 7]\r"
     ]
    },
    {
     "name": "stdout",
     "output_type": "stream",
     "text": [
      "+-----------------+--------------------+-------------------+-------------------+------------+------------+-------+\n",
      "|hvfhs_license_num|dispatching_base_num|    pickup_datetime|   dropoff_datetime|PULocationID|DOLocationID|SR_Flag|\n",
      "+-----------------+--------------------+-------------------+-------------------+------------+------------+-------+\n",
      "|           HV0005|              B02510|2020-03-01 00:03:40|2020-03-01 00:23:39|          81|         159|   null|\n",
      "|           HV0005|              B02510|2020-03-01 00:28:05|2020-03-01 00:38:57|         168|         119|   null|\n",
      "|           HV0003|              B02764|2020-03-01 00:03:07|2020-03-01 00:15:04|         137|         209|      1|\n",
      "|           HV0003|              B02764|2020-03-01 00:18:42|2020-03-01 00:38:42|         209|          80|   null|\n",
      "|           HV0003|              B02764|2020-03-01 00:44:24|2020-03-01 00:58:44|         256|         226|   null|\n",
      "+-----------------+--------------------+-------------------+-------------------+------------+------------+-------+\n",
      "only showing top 5 rows\n",
      "\n"
     ]
    },
    {
     "name": "stderr",
     "output_type": "stream",
     "text": [
      "\r",
      "                                                                                \r"
     ]
    }
   ],
   "source": [
    "filepath = '/home/ubuntu/working/spark-examples/data/fhvhv_tripdata_2020-03.csv'\n",
    "\n",
    "taxi_df = spark.read.csv(f'file://{filepath}',\n",
    "                      inferSchema = True,\n",
    "                      header = True)\n",
    "taxi_df.show(5)"
   ]
  },
  {
   "cell_type": "code",
   "execution_count": 20,
   "id": "5e7f1ed9",
   "metadata": {},
   "outputs": [
    {
     "name": "stderr",
     "output_type": "stream",
     "text": [
      "                                                                                \r"
     ]
    },
    {
     "data": {
      "text/plain": [
       "(13392904, 7)"
      ]
     },
     "execution_count": 20,
     "metadata": {},
     "output_type": "execute_result"
    }
   ],
   "source": [
    "# data shape 파악\n",
    "taxi_df.count(), len(taxi_df.columns)"
   ]
  },
  {
   "cell_type": "code",
   "execution_count": 5,
   "id": "1ad7957f",
   "metadata": {},
   "outputs": [],
   "source": [
    "taxi_df.createOrReplaceTempView('mobility_data')"
   ]
  },
  {
   "cell_type": "code",
   "execution_count": 11,
   "id": "60c85835",
   "metadata": {},
   "outputs": [
    {
     "name": "stderr",
     "output_type": "stream",
     "text": [
      "[Stage 9:==================================================>        (6 + 1) / 7]\r"
     ]
    },
    {
     "name": "stdout",
     "output_type": "stream",
     "text": [
      "+-----------+------+\n",
      "|pickup_date| trips|\n",
      "+-----------+------+\n",
      "| 2020-03-03|697880|\n",
      "| 2020-03-02|648986|\n",
      "| 2020-03-01|784246|\n",
      "| 2020-03-06|872012|\n",
      "| 2020-03-05|731165|\n",
      "| 2020-03-04|707879|\n",
      "| 2020-03-09|628940|\n",
      "| 2020-03-08|731222|\n",
      "| 2020-03-07|886071|\n",
      "| 2020-03-10|626474|\n",
      "| 2020-03-12|643257|\n",
      "| 2020-03-11|628601|\n",
      "| 2020-03-16|391518|\n",
      "| 2020-03-13|660914|\n",
      "| 2020-03-15|448125|\n",
      "| 2020-03-14|569397|\n",
      "| 2020-03-26|141607|\n",
      "| 2020-03-25|141088|\n",
      "| 2020-03-20|261900|\n",
      "| 2020-03-24|141686|\n",
      "+-----------+------+\n",
      "only showing top 20 rows\n",
      "\n"
     ]
    },
    {
     "name": "stderr",
     "output_type": "stream",
     "text": [
      "\r",
      "                                                                                \r"
     ]
    }
   ],
   "source": [
    "# 승차 년-월-일별 카운트 세기\n",
    "\n",
    "query = '''\n",
    "    SELECT pickup_date, count(*) as trips\n",
    "    FROM (\n",
    "        SELECT split(pickup_datetime,' ')[0] as pickup_date\n",
    "        FROM mobility_data\n",
    "    )\n",
    "    GROUP BY pickup_date\n",
    "'''\n",
    "\n",
    "spark.sql(query).show()"
   ]
  },
  {
   "cell_type": "code",
   "execution_count": 9,
   "id": "af2315ae",
   "metadata": {},
   "outputs": [
    {
     "name": "stdout",
     "output_type": "stream",
     "text": [
      "+----------+-------------+--------------------+------------+\n",
      "|LocationID|      Borough|                Zone|service_zone|\n",
      "+----------+-------------+--------------------+------------+\n",
      "|         1|          EWR|      Newark Airport|         EWR|\n",
      "|         2|       Queens|         Jamaica Bay|   Boro Zone|\n",
      "|         3|        Bronx|Allerton/Pelham G...|   Boro Zone|\n",
      "|         4|    Manhattan|       Alphabet City| Yellow Zone|\n",
      "|         5|Staten Island|       Arden Heights|   Boro Zone|\n",
      "+----------+-------------+--------------------+------------+\n",
      "only showing top 5 rows\n",
      "\n"
     ]
    }
   ],
   "source": [
    "zone_filepath = '/home/ubuntu/working/spark-examples/data/taxi+_zone_lookup.csv'\n",
    "zone_df = spark.read.csv(f'file://{zone_filepath}', inferSchema= True,\n",
    "                        header = True)\n",
    "zone_df.show(5)"
   ]
  },
  {
   "cell_type": "code",
   "execution_count": 12,
   "id": "dc6362fb",
   "metadata": {},
   "outputs": [],
   "source": [
    "zone_df.createOrReplaceTempView('zone_data')"
   ]
  },
  {
   "cell_type": "code",
   "execution_count": 15,
   "id": "da362825",
   "metadata": {},
   "outputs": [
    {
     "name": "stderr",
     "output_type": "stream",
     "text": [
      "[Stage 17:=================================================>        (6 + 1) / 7]\r"
     ]
    },
    {
     "name": "stdout",
     "output_type": "stream",
     "text": [
      "+-------------+-------+\n",
      "|      borough|  trips|\n",
      "+-------------+-------+\n",
      "|       Queens|1863688|\n",
      "|      Unknown|    548|\n",
      "|     Brooklyn|2779375|\n",
      "|Staten Island| 148199|\n",
      "|    Manhattan|3270666|\n",
      "|        Bronx|1774283|\n",
      "|          EWR|      4|\n",
      "+-------------+-------+\n",
      "\n"
     ]
    },
    {
     "name": "stderr",
     "output_type": "stream",
     "text": [
      "\r",
      "                                                                                \r"
     ]
    }
   ],
   "source": [
    "# Borough 별 노랑택시 trip 수, \n",
    "query = \"\"\"\n",
    "        SELECT zone_data.borough, count(zone_data.borough) as trips\n",
    "        FROM mobility_data\n",
    "        JOIN zone_data ON mobility_data.PULocationID = zone_data.LocationID\n",
    "        WHERE hvfhs_license_num = 'HV0003'\n",
    "        GROUP BY zone_data.borough\n",
    "    \n",
    "\"\"\"\n",
    "\n",
    "spark.sql(query).show()"
   ]
  },
  {
   "cell_type": "code",
   "execution_count": 16,
   "id": "358ee114",
   "metadata": {},
   "outputs": [
    {
     "name": "stdout",
     "output_type": "stream",
     "text": [
      "== Parsed Logical Plan ==\n",
      "'Aggregate ['zone_data.borough], ['zone_data.borough, 'count('zone_data.borough) AS trips#193]\n",
      "+- 'Filter ('hvfhs_license_num = HV0003)\n",
      "   +- 'Join Inner, ('mobility_data.PULocationID = 'zone_data.LocationID)\n",
      "      :- 'UnresolvedRelation [mobility_data], [], false\n",
      "      +- 'UnresolvedRelation [zone_data], [], false\n",
      "\n",
      "== Analyzed Logical Plan ==\n",
      "borough: string, trips: bigint\n",
      "Aggregate [borough#87], [borough#87, count(borough#87) AS trips#193L]\n",
      "+- Filter (hvfhs_license_num#16 = HV0003)\n",
      "   +- Join Inner, (PULocationID#20 = LocationID#86)\n",
      "      :- SubqueryAlias mobility_data\n",
      "      :  +- View (`mobility_data`, [hvfhs_license_num#16,dispatching_base_num#17,pickup_datetime#18,dropoff_datetime#19,PULocationID#20,DOLocationID#21,SR_Flag#22])\n",
      "      :     +- Relation [hvfhs_license_num#16,dispatching_base_num#17,pickup_datetime#18,dropoff_datetime#19,PULocationID#20,DOLocationID#21,SR_Flag#22] csv\n",
      "      +- SubqueryAlias zone_data\n",
      "         +- View (`zone_data`, [LocationID#86,Borough#87,Zone#88,service_zone#89])\n",
      "            +- Relation [LocationID#86,Borough#87,Zone#88,service_zone#89] csv\n",
      "\n",
      "== Optimized Logical Plan ==\n",
      "Aggregate [borough#87], [borough#87, count(borough#87) AS trips#193L]\n",
      "+- Project [Borough#87]\n",
      "   +- Join Inner, (PULocationID#20 = LocationID#86)\n",
      "      :- Project [PULocationID#20]\n",
      "      :  +- Filter ((isnotnull(hvfhs_license_num#16) AND (hvfhs_license_num#16 = HV0003)) AND isnotnull(PULocationID#20))\n",
      "      :     +- Relation [hvfhs_license_num#16,dispatching_base_num#17,pickup_datetime#18,dropoff_datetime#19,PULocationID#20,DOLocationID#21,SR_Flag#22] csv\n",
      "      +- Project [LocationID#86, Borough#87]\n",
      "         +- Filter isnotnull(LocationID#86)\n",
      "            +- Relation [LocationID#86,Borough#87,Zone#88,service_zone#89] csv\n",
      "\n",
      "== Physical Plan ==\n",
      "AdaptiveSparkPlan isFinalPlan=false\n",
      "+- HashAggregate(keys=[borough#87], functions=[count(borough#87)], output=[borough#87, trips#193L])\n",
      "   +- Exchange hashpartitioning(borough#87, 200), ENSURE_REQUIREMENTS, [plan_id=506]\n",
      "      +- HashAggregate(keys=[borough#87], functions=[partial_count(borough#87)], output=[borough#87, count#198L])\n",
      "         +- Project [Borough#87]\n",
      "            +- BroadcastHashJoin [PULocationID#20], [LocationID#86], Inner, BuildRight, false\n",
      "               :- Project [PULocationID#20]\n",
      "               :  +- Filter ((isnotnull(hvfhs_license_num#16) AND (hvfhs_license_num#16 = HV0003)) AND isnotnull(PULocationID#20))\n",
      "               :     +- FileScan csv [hvfhs_license_num#16,PULocationID#20] Batched: false, DataFilters: [isnotnull(hvfhs_license_num#16), (hvfhs_license_num#16 = HV0003), isnotnull(PULocationID#20)], Format: CSV, Location: InMemoryFileIndex(1 paths)[file:/home/ubuntu/working/spark-examples/data/fhvhv_tripdata_2020-03.csv], PartitionFilters: [], PushedFilters: [IsNotNull(hvfhs_license_num), EqualTo(hvfhs_license_num,HV0003), IsNotNull(PULocationID)], ReadSchema: struct<hvfhs_license_num:string,PULocationID:int>\n",
      "               +- BroadcastExchange HashedRelationBroadcastMode(List(cast(input[0, int, false] as bigint)),false), [plan_id=501]\n",
      "                  +- Filter isnotnull(LocationID#86)\n",
      "                     +- FileScan csv [LocationID#86,Borough#87] Batched: false, DataFilters: [isnotnull(LocationID#86)], Format: CSV, Location: InMemoryFileIndex(1 paths)[file:/home/ubuntu/working/spark-examples/data/taxi+_zone_lookup.csv], PartitionFilters: [], PushedFilters: [IsNotNull(LocationID)], ReadSchema: struct<LocationID:int,Borough:string>\n",
      "\n"
     ]
    }
   ],
   "source": [
    "spark.sql(query).explain(True)"
   ]
  },
  {
   "cell_type": "code",
   "execution_count": 17,
   "id": "b8db3c3e",
   "metadata": {},
   "outputs": [],
   "source": [
    "spark.stop()"
   ]
  },
  {
   "cell_type": "code",
   "execution_count": null,
   "id": "78b2a435",
   "metadata": {},
   "outputs": [],
   "source": []
  }
 ],
 "metadata": {
  "kernelspec": {
   "display_name": "Python 3 (ipykernel)",
   "language": "python",
   "name": "python3"
  },
  "language_info": {
   "codemirror_mode": {
    "name": "ipython",
    "version": 3
   },
   "file_extension": ".py",
   "mimetype": "text/x-python",
   "name": "python",
   "nbconvert_exporter": "python",
   "pygments_lexer": "ipython3",
   "version": "3.8.16"
  }
 },
 "nbformat": 4,
 "nbformat_minor": 5
}
