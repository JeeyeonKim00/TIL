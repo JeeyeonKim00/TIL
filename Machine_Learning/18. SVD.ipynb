{
 "cells": [
  {
   "cell_type": "markdown",
   "id": "ebd4eff1",
   "metadata": {},
   "source": [
    "# SVD 개요"
   ]
  },
  {
   "cell_type": "code",
   "execution_count": 1,
   "id": "4ec48a0a",
   "metadata": {},
   "outputs": [
    {
     "data": {
      "text/plain": [
       "array([[-0.21203317, -0.28492917, -0.57389821, -0.44031017],\n",
       "       [-0.33011056,  1.18369457,  1.61537293,  0.36706247],\n",
       "       [-0.01411931,  0.6296418 ,  1.70964074, -1.32698736],\n",
       "       [ 0.40187312, -0.19142667,  1.40382596, -1.96876855]])"
      ]
     },
     "execution_count": 1,
     "metadata": {},
     "output_type": "execute_result"
    }
   ],
   "source": [
    "import numpy as np\n",
    "\n",
    "np.random.seed(121)\n",
    "a = np.random.randn(4,4)\n",
    "a"
   ]
  },
  {
   "cell_type": "code",
   "execution_count": 5,
   "id": "3dbc6c63",
   "metadata": {},
   "outputs": [
    {
     "name": "stdout",
     "output_type": "stream",
     "text": [
      "U:\n",
      "[[-0.07913928 -0.31822729  0.86653217  0.37628494]\n",
      " [ 0.38294523  0.78655287  0.12002097  0.46934262]\n",
      " [ 0.65640669  0.02243181  0.35668848 -0.66437971]\n",
      " [ 0.64515128 -0.52873697 -0.32785711  0.44353889]]\n",
      "\n",
      "Sigma:\n",
      "[3.4229581  2.02287339 0.46263157 0.07935069]\n",
      "\n",
      "VT:\n",
      "[[ 0.04100747  0.22367823  0.78643002 -0.57429458]\n",
      " [-0.20019867  0.56209596  0.37041464  0.71187191]\n",
      " [-0.77847455  0.3945136  -0.33259252 -0.3573774 ]\n",
      " [-0.5934781  -0.69164673  0.36565426  0.18895901]]\n"
     ]
    }
   ],
   "source": [
    "# SVD 행렬 분해\n",
    "U, Sigma, VT = np.linalg.svd(a)\n",
    "\n",
    "print(\"U:\\n{}\".format(U))\n",
    "print()\n",
    "print(\"Sigma:\\n{}\".format(Sigma))\n",
    "print()\n",
    "print(\"VT:\\n{}\".format(VT))"
   ]
  },
  {
   "cell_type": "code",
   "execution_count": 6,
   "id": "85f9b610",
   "metadata": {},
   "outputs": [
    {
     "data": {
      "text/plain": [
       "array([[3.4229581 , 0.        , 0.        , 0.        ],\n",
       "       [0.        , 2.02287339, 0.        , 0.        ],\n",
       "       [0.        , 0.        , 0.46263157, 0.        ],\n",
       "       [0.        , 0.        , 0.        , 0.07935069]])"
      ]
     },
     "execution_count": 6,
     "metadata": {},
     "output_type": "execute_result"
    }
   ],
   "source": [
    "# 특잇값 Sigma를 대각행렬로 변환\n",
    "Sigma_mat = np.diag(Sigma)\n",
    "Sigma_mat "
   ]
  },
  {
   "cell_type": "code",
   "execution_count": 7,
   "id": "99c710a0",
   "metadata": {},
   "outputs": [
    {
     "name": "stdout",
     "output_type": "stream",
     "text": [
      "원본행렬 a:\n",
      "[[-0.21203317 -0.28492917 -0.57389821 -0.44031017]\n",
      " [-0.33011056  1.18369457  1.61537293  0.36706247]\n",
      " [-0.01411931  0.6296418   1.70964074 -1.32698736]\n",
      " [ 0.40187312 -0.19142667  1.40382596 -1.96876855]]\n"
     ]
    }
   ],
   "source": [
    "print('원본행렬 a:\\n{}'.format(a))"
   ]
  },
  {
   "cell_type": "code",
   "execution_count": 9,
   "id": "2124fb7c",
   "metadata": {},
   "outputs": [
    {
     "name": "stdout",
     "output_type": "stream",
     "text": [
      "조합된 행렬 a_: \n",
      "[[-0.21203317 -0.28492917 -0.57389821 -0.44031017]\n",
      " [-0.33011056  1.18369457  1.61537293  0.36706247]\n",
      " [-0.01411931  0.6296418   1.70964074 -1.32698736]\n",
      " [ 0.40187312 -0.19142667  1.40382596 -1.96876855]]\n"
     ]
    }
   ],
   "source": [
    "# U, Sigma_mat, VT를 이용해 다시 조합\n",
    "a_= U @ Sigma_mat @ VT\n",
    "print('조합된 행렬 a_: \\n{}'.format(a_))"
   ]
  },
  {
   "cell_type": "code",
   "execution_count": 18,
   "id": "6a5a2919",
   "metadata": {},
   "outputs": [
    {
     "data": {
      "text/plain": [
       "array([[3.4229581 , 0.        ],\n",
       "       [0.        , 2.02287339]])"
      ]
     },
     "execution_count": 18,
     "metadata": {},
     "output_type": "execute_result"
    }
   ],
   "source": [
    "# truncated Sigma_mat: 설명력이 높은 특잇값이 상위 2개면 될 것 같으니까 2개를사용.\n",
    "# Sigma_truncated = Sigma_mat[:2,:2]\n",
    "Sigma_truncated = np.diag(Sigma[:2])\n",
    "Sigma_truncated"
   ]
  },
  {
   "cell_type": "code",
   "execution_count": 21,
   "id": "15c92aab",
   "metadata": {},
   "outputs": [
    {
     "data": {
      "text/plain": [
       "array([[-0.07913928, -0.31822729],\n",
       "       [ 0.38294523,  0.78655287],\n",
       "       [ 0.65640669,  0.02243181],\n",
       "       [ 0.64515128, -0.52873697]])"
      ]
     },
     "execution_count": 21,
     "metadata": {},
     "output_type": "execute_result"
    }
   ],
   "source": [
    "# trucated U: 잠재변수(Sigma=특잇값 2개)에 대응되는 기저벡터 얻어내기\n",
    "U_truncated = U[:,:2]\n",
    "U_truncated"
   ]
  },
  {
   "cell_type": "code",
   "execution_count": 22,
   "id": "a1edd52b",
   "metadata": {},
   "outputs": [
    {
     "data": {
      "text/plain": [
       "array([[ 0.04100747,  0.22367823,  0.78643002, -0.57429458],\n",
       "       [-0.20019867,  0.56209596,  0.37041464,  0.71187191]])"
      ]
     },
     "execution_count": 22,
     "metadata": {},
     "output_type": "execute_result"
    }
   ],
   "source": [
    "# trunctaed VT: 원래 데이터를 복구하기 위해서 2개의 벡터만 사용한다.\n",
    "VT_truncated = VT[:2]\n",
    "VT_truncated"
   ]
  },
  {
   "cell_type": "code",
   "execution_count": 24,
   "id": "fe3acc10",
   "metadata": {},
   "outputs": [
    {
     "data": {
      "text/plain": [
       "array([[ 0.11776606, -0.4224323 , -0.45148469, -0.3026849 ],\n",
       "       [-0.26478267,  1.18754777,  1.62022235,  0.37986869],\n",
       "       [ 0.08305338,  0.52807808,  1.78380053, -1.25805288],\n",
       "       [ 0.30468393, -0.10724542,  1.34051007, -2.02962493]])"
      ]
     },
     "execution_count": 24,
     "metadata": {},
     "output_type": "execute_result"
    }
   ],
   "source": [
    "# 2개의 잠재변수만을 이용해서 복구\n",
    "a_truncated = U_truncated @ Sigma_truncated @ VT_truncated\n",
    "a_truncated"
   ]
  },
  {
   "cell_type": "code",
   "execution_count": 25,
   "id": "d713cec6",
   "metadata": {},
   "outputs": [
    {
     "name": "stdout",
     "output_type": "stream",
     "text": [
      "원본행렬 a:\n",
      "[[-0.21203317 -0.28492917 -0.57389821 -0.44031017]\n",
      " [-0.33011056  1.18369457  1.61537293  0.36706247]\n",
      " [-0.01411931  0.6296418   1.70964074 -1.32698736]\n",
      " [ 0.40187312 -0.19142667  1.40382596 -1.96876855]]\n"
     ]
    }
   ],
   "source": [
    "print('원본행렬 a:\\n{}'.format(a))"
   ]
  },
  {
   "cell_type": "code",
   "execution_count": 27,
   "id": "31a52cd4",
   "metadata": {},
   "outputs": [
    {
     "data": {
      "text/plain": [
       "array([[-0.21203317, -0.28492917, -0.57389821, -0.44031017],\n",
       "       [-0.33011056,  1.18369457,  1.61537293,  0.36706247],\n",
       "       [-0.54214372,  0.8987654 ,  1.04147472, -0.0732477 ],\n",
       "       [-0.21203317, -0.28492917, -0.57389821, -0.44031017]])"
      ]
     },
     "execution_count": 27,
     "metadata": {},
     "output_type": "execute_result"
    }
   ],
   "source": [
    "# 데이터가 선형 종속인 경우에는??\n",
    "a[2] = a[0] + a[1]\n",
    "a[3] = a[0]\n",
    "\n",
    "a\n",
    "#독립인 벡터가 2개. rank=2"
   ]
  },
  {
   "cell_type": "code",
   "execution_count": 31,
   "id": "3de3c75f",
   "metadata": {},
   "outputs": [
    {
     "data": {
      "text/plain": [
       "array([2.663, 0.807, 0.   , 0.   ])"
      ]
     },
     "execution_count": 31,
     "metadata": {},
     "output_type": "execute_result"
    }
   ],
   "source": [
    "U, Sigma, VT = np.linalg.svd(a)\n",
    "np.round(Sigma,3)\n",
    "# rank=2기 때문에 뒤에 0인 것들은 쓸모 없는것이라 판단."
   ]
  },
  {
   "cell_type": "markdown",
   "id": "7c9fdb7c",
   "metadata": {},
   "source": [
    "# 사이파이를 이용한 특이분해"
   ]
  },
  {
   "cell_type": "code",
   "execution_count": 32,
   "id": "0315cf30",
   "metadata": {},
   "outputs": [],
   "source": [
    "import numpy as np\n",
    "from scipy.sparse.linalg import svds\n",
    "from scipy.linalg import svd # np.lianalg.svd와 같음\n",
    "\n",
    "np.random.seed(121)"
   ]
  },
  {
   "cell_type": "code",
   "execution_count": 33,
   "id": "4d71b3e8",
   "metadata": {},
   "outputs": [
    {
     "name": "stdout",
     "output_type": "stream",
     "text": [
      "원본행렬: \n",
      "[[0.11133083 0.21076757 0.23296249 0.15194456 0.83017814 0.40791941]\n",
      " [0.5557906  0.74552394 0.24849976 0.9686594  0.95268418 0.48984885]\n",
      " [0.01829731 0.85760612 0.40493829 0.62247394 0.29537149 0.92958852]\n",
      " [0.4056155  0.56730065 0.24575605 0.22573721 0.03827786 0.58098021]\n",
      " [0.82925331 0.77326256 0.94693849 0.73632338 0.67328275 0.74517176]\n",
      " [0.51161442 0.46920965 0.6439515  0.82081228 0.14548493 0.01806415]]\n"
     ]
    }
   ],
   "source": [
    "matrix = np.random.random((6,6))\n",
    "print('원본행렬: \\n{}'.format(matrix))"
   ]
  },
  {
   "cell_type": "code",
   "execution_count": 39,
   "id": "6d54fa9f",
   "metadata": {},
   "outputs": [
    {
     "name": "stdout",
     "output_type": "stream",
     "text": [
      "(6, 6) (6,) (6, 6)\n"
     ]
    }
   ],
   "source": [
    "U, Sigma, VT = svd(matrix, full_matrices = False)\n",
    "# full_matrixs=false -> compact svd로 수행하겠다.\n",
    "print(U.shape, Sigma.shape, VT.shape)"
   ]
  },
  {
   "cell_type": "code",
   "execution_count": 40,
   "id": "93a12ec8",
   "metadata": {},
   "outputs": [
    {
     "data": {
      "text/plain": [
       "array([3.254, 0.881, 0.839, 0.555, 0.358, 0.035])"
      ]
     },
     "execution_count": 40,
     "metadata": {},
     "output_type": "execute_result"
    }
   ],
   "source": [
    "np.round(Sigma, 3)"
   ]
  },
  {
   "cell_type": "code",
   "execution_count": 43,
   "id": "489f068a",
   "metadata": {},
   "outputs": [
    {
     "data": {
      "text/plain": [
       "((6, 4), (4,), (4, 6))"
      ]
     },
     "execution_count": 43,
     "metadata": {},
     "output_type": "execute_result"
    }
   ],
   "source": [
    "# svds: truncated svd를 손쉽게 수행\n",
    "\n",
    "num_components = 4\n",
    "U_truncated, Sigma_truncated, VT_truncated = svds(matrix,k=num_components)\n",
    "U_truncated.shape, Sigma_truncated.shape, VT_truncated.shape"
   ]
  },
  {
   "cell_type": "markdown",
   "id": "324b64d9",
   "metadata": {},
   "source": [
    "# 사이킷런에서 Trunctaed SVD"
   ]
  },
  {
   "cell_type": "code",
   "execution_count": 46,
   "id": "0427d3df",
   "metadata": {},
   "outputs": [],
   "source": [
    "from sklearn.decomposition import TruncatedSVD\n",
    "from sklearn.datasets import load_iris\n",
    "import matplotlib.pyplot as plt\n",
    "import seaborn as sns\n",
    "\n",
    "iris = load_iris()"
   ]
  },
  {
   "cell_type": "code",
   "execution_count": 48,
   "id": "33e8325a",
   "metadata": {},
   "outputs": [
    {
     "data": {
      "text/plain": [
       "(150, 2)"
      ]
     },
     "execution_count": 48,
     "metadata": {},
     "output_type": "execute_result"
    }
   ],
   "source": [
    "tsvd = TruncatedSVD(n_components = 2)\n",
    "tsvd.fit(iris.data)\n",
    "\n",
    "iris_tsvd = tsvd.transform(iris.data)\n",
    "iris_tsvd.shape\n"
   ]
  },
  {
   "cell_type": "code",
   "execution_count": 50,
   "id": "a6dcff4f",
   "metadata": {},
   "outputs": [
    {
     "data": {
      "text/html": [
       "<div>\n",
       "<style scoped>\n",
       "    .dataframe tbody tr th:only-of-type {\n",
       "        vertical-align: middle;\n",
       "    }\n",
       "\n",
       "    .dataframe tbody tr th {\n",
       "        vertical-align: top;\n",
       "    }\n",
       "\n",
       "    .dataframe thead th {\n",
       "        text-align: right;\n",
       "    }\n",
       "</style>\n",
       "<table border=\"1\" class=\"dataframe\">\n",
       "  <thead>\n",
       "    <tr style=\"text-align: right;\">\n",
       "      <th></th>\n",
       "      <th>component_1</th>\n",
       "      <th>component_2</th>\n",
       "      <th>target</th>\n",
       "    </tr>\n",
       "  </thead>\n",
       "  <tbody>\n",
       "    <tr>\n",
       "      <th>0</th>\n",
       "      <td>5.912747</td>\n",
       "      <td>2.302033</td>\n",
       "      <td>0</td>\n",
       "    </tr>\n",
       "    <tr>\n",
       "      <th>1</th>\n",
       "      <td>5.572482</td>\n",
       "      <td>1.971826</td>\n",
       "      <td>0</td>\n",
       "    </tr>\n",
       "    <tr>\n",
       "      <th>2</th>\n",
       "      <td>5.446977</td>\n",
       "      <td>2.095206</td>\n",
       "      <td>0</td>\n",
       "    </tr>\n",
       "    <tr>\n",
       "      <th>3</th>\n",
       "      <td>5.436459</td>\n",
       "      <td>1.870382</td>\n",
       "      <td>0</td>\n",
       "    </tr>\n",
       "    <tr>\n",
       "      <th>4</th>\n",
       "      <td>5.875645</td>\n",
       "      <td>2.328290</td>\n",
       "      <td>0</td>\n",
       "    </tr>\n",
       "  </tbody>\n",
       "</table>\n",
       "</div>"
      ],
      "text/plain": [
       "   component_1  component_2  target\n",
       "0     5.912747     2.302033       0\n",
       "1     5.572482     1.971826       0\n",
       "2     5.446977     2.095206       0\n",
       "3     5.436459     1.870382       0\n",
       "4     5.875645     2.328290       0"
      ]
     },
     "execution_count": 50,
     "metadata": {},
     "output_type": "execute_result"
    }
   ],
   "source": [
    "import pandas as pd\n",
    "\n",
    "iris_tsvd_df = pd.DataFrame(\n",
    "        data = iris_tsvd,\n",
    "        columns = ['component_1','component_2'])\n",
    "\n",
    "\n",
    "iris_tsvd_df['target'] = iris.target\n",
    "iris_tsvd_df.head()"
   ]
  },
  {
   "cell_type": "code",
   "execution_count": 53,
   "id": "0049eb28",
   "metadata": {},
   "outputs": [
    {
     "data": {
      "image/png": "[encoded data removed]",
      "text/plain": [
       "<Figure size 640x480 with 1 Axes>"
      ]
     },
     "metadata": {},
     "output_type": "display_data"
    }
   ],
   "source": [
    "sns.scatterplot(\n",
    "        x='component_1',\n",
    "        y='component_2',\n",
    "        hue='target',\n",
    "        palette='muted',\n",
    "        data = iris_tsvd_df)\n",
    "\n",
    "plt.show()"
   ]
  },
  {
   "cell_type": "code",
   "execution_count": null,
   "id": "ba9b12f2",
   "metadata": {},
   "outputs": [],
   "source": []
  }
 ],
 "metadata": {
  "kernelspec": {
   "display_name": "Python 3 (ipykernel)",
   "language": "python",
   "name": "python3"
  },
  "language_info": {
   "codemirror_mode": {
    "name": "ipython",
    "version": 3
   },
   "file_extension": ".py",
   "mimetype": "text/x-python",
   "name": "python",
   "nbconvert_exporter": "python",
   "pygments_lexer": "ipython3",
   "version": "3.9.13"
  }
 },
 "nbformat": 4,
 "nbformat_minor": 5
}
